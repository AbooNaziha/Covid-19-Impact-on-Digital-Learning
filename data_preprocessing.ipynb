{
 "cells": [
  {
   "cell_type": "code",
   "execution_count": 197,
   "source": [
    "import os\r\n",
    "import re\r\n",
    "import sklearn\r\n",
    "import numpy as np \r\n",
    "import pandas as pd\r\n",
    "import seaborn as sns\r\n",
    "import matplotlib.pyplot as plt\r\n",
    "\r\n",
    "from collections import Counter\r\n",
    "from sklearn import *\r\n",
    "from sklearn.metrics import *\r\n",
    "from sklearn.linear_model import *\r\n",
    "from sklearn.model_selection import *\r\n",
    "\r\n",
    "pd.set_option('display.max_columns', None)\r\n"
   ],
   "outputs": [],
   "metadata": {}
  },
  {
   "cell_type": "code",
   "execution_count": 198,
   "source": [
    "districts_info = pd.read_csv('districts_info.csv')"
   ],
   "outputs": [],
   "metadata": {}
  },
  {
   "cell_type": "code",
   "execution_count": 199,
   "source": [
    "districts_info.head()"
   ],
   "outputs": [
    {
     "output_type": "execute_result",
     "data": {
      "text/plain": [
       "   district_id     state  locale pct_black/hispanic pct_free/reduced  \\\n",
       "0         8815  Illinois  Suburb           [0, 0.2[         [0, 0.2[   \n",
       "1         2685       NaN     NaN                NaN              NaN   \n",
       "2         4921      Utah  Suburb           [0, 0.2[       [0.2, 0.4[   \n",
       "3         3188       NaN     NaN                NaN              NaN   \n",
       "4         2238       NaN     NaN                NaN              NaN   \n",
       "\n",
       "  county_connections_ratio    pp_total_raw  \n",
       "0                [0.18, 1[  [14000, 16000[  \n",
       "1                      NaN             NaN  \n",
       "2                [0.18, 1[    [6000, 8000[  \n",
       "3                      NaN             NaN  \n",
       "4                      NaN             NaN  "
      ],
      "text/html": [
       "<div>\n",
       "<style scoped>\n",
       "    .dataframe tbody tr th:only-of-type {\n",
       "        vertical-align: middle;\n",
       "    }\n",
       "\n",
       "    .dataframe tbody tr th {\n",
       "        vertical-align: top;\n",
       "    }\n",
       "\n",
       "    .dataframe thead th {\n",
       "        text-align: right;\n",
       "    }\n",
       "</style>\n",
       "<table border=\"1\" class=\"dataframe\">\n",
       "  <thead>\n",
       "    <tr style=\"text-align: right;\">\n",
       "      <th></th>\n",
       "      <th>district_id</th>\n",
       "      <th>state</th>\n",
       "      <th>locale</th>\n",
       "      <th>pct_black/hispanic</th>\n",
       "      <th>pct_free/reduced</th>\n",
       "      <th>county_connections_ratio</th>\n",
       "      <th>pp_total_raw</th>\n",
       "    </tr>\n",
       "  </thead>\n",
       "  <tbody>\n",
       "    <tr>\n",
       "      <th>0</th>\n",
       "      <td>8815</td>\n",
       "      <td>Illinois</td>\n",
       "      <td>Suburb</td>\n",
       "      <td>[0, 0.2[</td>\n",
       "      <td>[0, 0.2[</td>\n",
       "      <td>[0.18, 1[</td>\n",
       "      <td>[14000, 16000[</td>\n",
       "    </tr>\n",
       "    <tr>\n",
       "      <th>1</th>\n",
       "      <td>2685</td>\n",
       "      <td>NaN</td>\n",
       "      <td>NaN</td>\n",
       "      <td>NaN</td>\n",
       "      <td>NaN</td>\n",
       "      <td>NaN</td>\n",
       "      <td>NaN</td>\n",
       "    </tr>\n",
       "    <tr>\n",
       "      <th>2</th>\n",
       "      <td>4921</td>\n",
       "      <td>Utah</td>\n",
       "      <td>Suburb</td>\n",
       "      <td>[0, 0.2[</td>\n",
       "      <td>[0.2, 0.4[</td>\n",
       "      <td>[0.18, 1[</td>\n",
       "      <td>[6000, 8000[</td>\n",
       "    </tr>\n",
       "    <tr>\n",
       "      <th>3</th>\n",
       "      <td>3188</td>\n",
       "      <td>NaN</td>\n",
       "      <td>NaN</td>\n",
       "      <td>NaN</td>\n",
       "      <td>NaN</td>\n",
       "      <td>NaN</td>\n",
       "      <td>NaN</td>\n",
       "    </tr>\n",
       "    <tr>\n",
       "      <th>4</th>\n",
       "      <td>2238</td>\n",
       "      <td>NaN</td>\n",
       "      <td>NaN</td>\n",
       "      <td>NaN</td>\n",
       "      <td>NaN</td>\n",
       "      <td>NaN</td>\n",
       "      <td>NaN</td>\n",
       "    </tr>\n",
       "  </tbody>\n",
       "</table>\n",
       "</div>"
      ]
     },
     "metadata": {},
     "execution_count": 199
    }
   ],
   "metadata": {}
  },
  {
   "cell_type": "code",
   "execution_count": 200,
   "source": [
    "districts_info.tail()"
   ],
   "outputs": [
    {
     "output_type": "execute_result",
     "data": {
      "text/plain": [
       "     district_id       state locale pct_black/hispanic pct_free/reduced  \\\n",
       "228         9515    New York  Rural           [0, 0.2[       [0.4, 0.6[   \n",
       "229         8103   Tennessee  Rural         [0.2, 0.4[              NaN   \n",
       "230         4929    Virginia  Rural           [0, 0.2[       [0.4, 0.6[   \n",
       "231         7975  California   City         [0.6, 0.8[       [0.6, 0.8[   \n",
       "232         7164  California   City         [0.6, 0.8[       [0.6, 0.8[   \n",
       "\n",
       "    county_connections_ratio    pp_total_raw  \n",
       "228                [0.18, 1[  [18000, 20000[  \n",
       "229                [0.18, 1[   [8000, 10000[  \n",
       "230                [0.18, 1[  [12000, 14000[  \n",
       "231                [0.18, 1[             NaN  \n",
       "232                [0.18, 1[             NaN  "
      ],
      "text/html": [
       "<div>\n",
       "<style scoped>\n",
       "    .dataframe tbody tr th:only-of-type {\n",
       "        vertical-align: middle;\n",
       "    }\n",
       "\n",
       "    .dataframe tbody tr th {\n",
       "        vertical-align: top;\n",
       "    }\n",
       "\n",
       "    .dataframe thead th {\n",
       "        text-align: right;\n",
       "    }\n",
       "</style>\n",
       "<table border=\"1\" class=\"dataframe\">\n",
       "  <thead>\n",
       "    <tr style=\"text-align: right;\">\n",
       "      <th></th>\n",
       "      <th>district_id</th>\n",
       "      <th>state</th>\n",
       "      <th>locale</th>\n",
       "      <th>pct_black/hispanic</th>\n",
       "      <th>pct_free/reduced</th>\n",
       "      <th>county_connections_ratio</th>\n",
       "      <th>pp_total_raw</th>\n",
       "    </tr>\n",
       "  </thead>\n",
       "  <tbody>\n",
       "    <tr>\n",
       "      <th>228</th>\n",
       "      <td>9515</td>\n",
       "      <td>New York</td>\n",
       "      <td>Rural</td>\n",
       "      <td>[0, 0.2[</td>\n",
       "      <td>[0.4, 0.6[</td>\n",
       "      <td>[0.18, 1[</td>\n",
       "      <td>[18000, 20000[</td>\n",
       "    </tr>\n",
       "    <tr>\n",
       "      <th>229</th>\n",
       "      <td>8103</td>\n",
       "      <td>Tennessee</td>\n",
       "      <td>Rural</td>\n",
       "      <td>[0.2, 0.4[</td>\n",
       "      <td>NaN</td>\n",
       "      <td>[0.18, 1[</td>\n",
       "      <td>[8000, 10000[</td>\n",
       "    </tr>\n",
       "    <tr>\n",
       "      <th>230</th>\n",
       "      <td>4929</td>\n",
       "      <td>Virginia</td>\n",
       "      <td>Rural</td>\n",
       "      <td>[0, 0.2[</td>\n",
       "      <td>[0.4, 0.6[</td>\n",
       "      <td>[0.18, 1[</td>\n",
       "      <td>[12000, 14000[</td>\n",
       "    </tr>\n",
       "    <tr>\n",
       "      <th>231</th>\n",
       "      <td>7975</td>\n",
       "      <td>California</td>\n",
       "      <td>City</td>\n",
       "      <td>[0.6, 0.8[</td>\n",
       "      <td>[0.6, 0.8[</td>\n",
       "      <td>[0.18, 1[</td>\n",
       "      <td>NaN</td>\n",
       "    </tr>\n",
       "    <tr>\n",
       "      <th>232</th>\n",
       "      <td>7164</td>\n",
       "      <td>California</td>\n",
       "      <td>City</td>\n",
       "      <td>[0.6, 0.8[</td>\n",
       "      <td>[0.6, 0.8[</td>\n",
       "      <td>[0.18, 1[</td>\n",
       "      <td>NaN</td>\n",
       "    </tr>\n",
       "  </tbody>\n",
       "</table>\n",
       "</div>"
      ]
     },
     "metadata": {},
     "execution_count": 200
    }
   ],
   "metadata": {}
  },
  {
   "cell_type": "code",
   "execution_count": 201,
   "source": [
    "products_info = pd.read_csv('products_info.csv')"
   ],
   "outputs": [],
   "metadata": {}
  },
  {
   "cell_type": "code",
   "execution_count": 202,
   "source": [
    "products_info.head()"
   ],
   "outputs": [
    {
     "output_type": "execute_result",
     "data": {
      "text/plain": [
       "   LP ID                           URL  Product Name  Provider/Company Name  \\\n",
       "0  13117    https://www.splashmath.com   SplashLearn          StudyPad Inc.   \n",
       "1  66933          https://abcmouse.com  ABCmouse.com  Age of Learning, Inc    \n",
       "2  50479         https://www.abcya.com        ABCya!         ABCya.com, LLC   \n",
       "3  92993         http://www.aleks.com/         ALEKS    McGraw-Hill PreK-12   \n",
       "4  73104  https://www.achieve3000.com/   Achieve3000            Achieve3000   \n",
       "\n",
       "            Sector(s)                         Primary Essential Function  \n",
       "0             PreK-12                    LC - Digital Learning Platforms  \n",
       "1             PreK-12                    LC - Digital Learning Platforms  \n",
       "2             PreK-12  LC - Sites, Resources & Reference - Games & Si...  \n",
       "3  PreK-12; Higher Ed                    LC - Digital Learning Platforms  \n",
       "4             PreK-12                    LC - Digital Learning Platforms  "
      ],
      "text/html": [
       "<div>\n",
       "<style scoped>\n",
       "    .dataframe tbody tr th:only-of-type {\n",
       "        vertical-align: middle;\n",
       "    }\n",
       "\n",
       "    .dataframe tbody tr th {\n",
       "        vertical-align: top;\n",
       "    }\n",
       "\n",
       "    .dataframe thead th {\n",
       "        text-align: right;\n",
       "    }\n",
       "</style>\n",
       "<table border=\"1\" class=\"dataframe\">\n",
       "  <thead>\n",
       "    <tr style=\"text-align: right;\">\n",
       "      <th></th>\n",
       "      <th>LP ID</th>\n",
       "      <th>URL</th>\n",
       "      <th>Product Name</th>\n",
       "      <th>Provider/Company Name</th>\n",
       "      <th>Sector(s)</th>\n",
       "      <th>Primary Essential Function</th>\n",
       "    </tr>\n",
       "  </thead>\n",
       "  <tbody>\n",
       "    <tr>\n",
       "      <th>0</th>\n",
       "      <td>13117</td>\n",
       "      <td>https://www.splashmath.com</td>\n",
       "      <td>SplashLearn</td>\n",
       "      <td>StudyPad Inc.</td>\n",
       "      <td>PreK-12</td>\n",
       "      <td>LC - Digital Learning Platforms</td>\n",
       "    </tr>\n",
       "    <tr>\n",
       "      <th>1</th>\n",
       "      <td>66933</td>\n",
       "      <td>https://abcmouse.com</td>\n",
       "      <td>ABCmouse.com</td>\n",
       "      <td>Age of Learning, Inc</td>\n",
       "      <td>PreK-12</td>\n",
       "      <td>LC - Digital Learning Platforms</td>\n",
       "    </tr>\n",
       "    <tr>\n",
       "      <th>2</th>\n",
       "      <td>50479</td>\n",
       "      <td>https://www.abcya.com</td>\n",
       "      <td>ABCya!</td>\n",
       "      <td>ABCya.com, LLC</td>\n",
       "      <td>PreK-12</td>\n",
       "      <td>LC - Sites, Resources &amp; Reference - Games &amp; Si...</td>\n",
       "    </tr>\n",
       "    <tr>\n",
       "      <th>3</th>\n",
       "      <td>92993</td>\n",
       "      <td>http://www.aleks.com/</td>\n",
       "      <td>ALEKS</td>\n",
       "      <td>McGraw-Hill PreK-12</td>\n",
       "      <td>PreK-12; Higher Ed</td>\n",
       "      <td>LC - Digital Learning Platforms</td>\n",
       "    </tr>\n",
       "    <tr>\n",
       "      <th>4</th>\n",
       "      <td>73104</td>\n",
       "      <td>https://www.achieve3000.com/</td>\n",
       "      <td>Achieve3000</td>\n",
       "      <td>Achieve3000</td>\n",
       "      <td>PreK-12</td>\n",
       "      <td>LC - Digital Learning Platforms</td>\n",
       "    </tr>\n",
       "  </tbody>\n",
       "</table>\n",
       "</div>"
      ]
     },
     "metadata": {},
     "execution_count": 202
    }
   ],
   "metadata": {}
  },
  {
   "cell_type": "code",
   "execution_count": 203,
   "source": [
    "products_info.info()"
   ],
   "outputs": [
    {
     "output_type": "stream",
     "name": "stdout",
     "text": [
      "<class 'pandas.core.frame.DataFrame'>\n",
      "RangeIndex: 372 entries, 0 to 371\n",
      "Data columns (total 6 columns):\n",
      " #   Column                      Non-Null Count  Dtype \n",
      "---  ------                      --------------  ----- \n",
      " 0   LP ID                       372 non-null    int64 \n",
      " 1   URL                         372 non-null    object\n",
      " 2   Product Name                372 non-null    object\n",
      " 3   Provider/Company Name       371 non-null    object\n",
      " 4   Sector(s)                   352 non-null    object\n",
      " 5   Primary Essential Function  352 non-null    object\n",
      "dtypes: int64(1), object(5)\n",
      "memory usage: 17.6+ KB\n"
     ]
    }
   ],
   "metadata": {}
  },
  {
   "cell_type": "code",
   "execution_count": 204,
   "source": [
    "districts_info.info()"
   ],
   "outputs": [
    {
     "output_type": "stream",
     "name": "stdout",
     "text": [
      "<class 'pandas.core.frame.DataFrame'>\n",
      "RangeIndex: 233 entries, 0 to 232\n",
      "Data columns (total 7 columns):\n",
      " #   Column                    Non-Null Count  Dtype \n",
      "---  ------                    --------------  ----- \n",
      " 0   district_id               233 non-null    int64 \n",
      " 1   state                     176 non-null    object\n",
      " 2   locale                    176 non-null    object\n",
      " 3   pct_black/hispanic        176 non-null    object\n",
      " 4   pct_free/reduced          148 non-null    object\n",
      " 5   county_connections_ratio  162 non-null    object\n",
      " 6   pp_total_raw              118 non-null    object\n",
      "dtypes: int64(1), object(6)\n",
      "memory usage: 12.9+ KB\n"
     ]
    }
   ],
   "metadata": {}
  },
  {
   "cell_type": "code",
   "execution_count": 205,
   "source": [
    "engagement = 'C:/Users/FLUXNATURE/Documents/GitHub/Covid-19-Impact-on-Digital-Learning/engagement_data/'\r\n",
    "\r\n",
    "#for filename in os.listdir(engagement):\r\n",
    "    #print(filename)"
   ],
   "outputs": [],
   "metadata": {}
  },
  {
   "cell_type": "code",
   "execution_count": 206,
   "source": [
    "engagement_1000 = pd.read_csv(engagement + '1000.csv')"
   ],
   "outputs": [],
   "metadata": {}
  },
  {
   "cell_type": "code",
   "execution_count": 207,
   "source": [
    "engagement_1000.tail()"
   ],
   "outputs": [
    {
     "output_type": "execute_result",
     "data": {
      "text/plain": [
       "              time    lp_id  pct_access  engagement_index\n",
       "103998  2020-12-31  68845.0        0.00               NaN\n",
       "103999  2020-12-31  28324.0        0.00               NaN\n",
       "104000  2020-12-31  64947.0        0.00               NaN\n",
       "104001  2020-12-31  13496.0        0.03              0.26\n",
       "104002  2020-12-31  79673.0        0.03              0.26"
      ],
      "text/html": [
       "<div>\n",
       "<style scoped>\n",
       "    .dataframe tbody tr th:only-of-type {\n",
       "        vertical-align: middle;\n",
       "    }\n",
       "\n",
       "    .dataframe tbody tr th {\n",
       "        vertical-align: top;\n",
       "    }\n",
       "\n",
       "    .dataframe thead th {\n",
       "        text-align: right;\n",
       "    }\n",
       "</style>\n",
       "<table border=\"1\" class=\"dataframe\">\n",
       "  <thead>\n",
       "    <tr style=\"text-align: right;\">\n",
       "      <th></th>\n",
       "      <th>time</th>\n",
       "      <th>lp_id</th>\n",
       "      <th>pct_access</th>\n",
       "      <th>engagement_index</th>\n",
       "    </tr>\n",
       "  </thead>\n",
       "  <tbody>\n",
       "    <tr>\n",
       "      <th>103998</th>\n",
       "      <td>2020-12-31</td>\n",
       "      <td>68845.0</td>\n",
       "      <td>0.00</td>\n",
       "      <td>NaN</td>\n",
       "    </tr>\n",
       "    <tr>\n",
       "      <th>103999</th>\n",
       "      <td>2020-12-31</td>\n",
       "      <td>28324.0</td>\n",
       "      <td>0.00</td>\n",
       "      <td>NaN</td>\n",
       "    </tr>\n",
       "    <tr>\n",
       "      <th>104000</th>\n",
       "      <td>2020-12-31</td>\n",
       "      <td>64947.0</td>\n",
       "      <td>0.00</td>\n",
       "      <td>NaN</td>\n",
       "    </tr>\n",
       "    <tr>\n",
       "      <th>104001</th>\n",
       "      <td>2020-12-31</td>\n",
       "      <td>13496.0</td>\n",
       "      <td>0.03</td>\n",
       "      <td>0.26</td>\n",
       "    </tr>\n",
       "    <tr>\n",
       "      <th>104002</th>\n",
       "      <td>2020-12-31</td>\n",
       "      <td>79673.0</td>\n",
       "      <td>0.03</td>\n",
       "      <td>0.26</td>\n",
       "    </tr>\n",
       "  </tbody>\n",
       "</table>\n",
       "</div>"
      ]
     },
     "metadata": {},
     "execution_count": 207
    }
   ],
   "metadata": {}
  },
  {
   "cell_type": "code",
   "execution_count": 208,
   "source": [
    "sns.heatmap(districts_info.isnull(),yticklabels=False,cbar=False,cmap='viridis')"
   ],
   "outputs": [
    {
     "output_type": "execute_result",
     "data": {
      "text/plain": [
       "<matplotlib.axes._subplots.AxesSubplot at 0x1f49cd19908>"
      ]
     },
     "metadata": {},
     "execution_count": 208
    },
    {
     "output_type": "display_data",
     "data": {
      "text/plain": [
       "<Figure size 432x288 with 1 Axes>"
      ],
      "image/svg+xml": "<?xml version=\"1.0\" encoding=\"utf-8\" standalone=\"no\"?>\r\n<!DOCTYPE svg PUBLIC \"-//W3C//DTD SVG 1.1//EN\"\r\n  \"http://www.w3.org/Graphics/SVG/1.1/DTD/svg11.dtd\">\r\n<!-- Created with matplotlib (https://matplotlib.org/) -->\r\n<svg height=\"417.333438pt\" version=\"1.1\" viewBox=\"0 0 349.2 417.333438\" width=\"349.2pt\" xmlns=\"http://www.w3.org/2000/svg\" xmlns:xlink=\"http://www.w3.org/1999/xlink\">\r\n <defs>\r\n  <style type=\"text/css\">\r\n*{stroke-linecap:butt;stroke-linejoin:round;}\r\n  </style>\r\n </defs>\r\n <g id=\"figure_1\">\r\n  <g id=\"patch_1\">\r\n   <path d=\"M 0 417.333438 \r\nL 349.2 417.333438 \r\nL 349.2 0 \r\nL 0 0 \r\nz\r\n\" style=\"fill:none;\"/>\r\n  </g>\r\n  <g id=\"axes_1\">\r\n   <g id=\"patch_2\">\r\n    <path d=\"M 7.2 224.64 \r\nL 342 224.64 \r\nL 342 7.2 \r\nL 7.2 7.2 \r\nz\r\n\" style=\"fill:#ffffff;\"/>\r\n   </g>\r\n   <g id=\"QuadMesh_1\">\r\n    <path clip-path=\"url(#p74fc7bd7d8)\" d=\"M 7.2 7.2 \r\nL 55.028571 7.2 \r\nL 55.028571 8.133219 \r\nL 7.2 8.133219 \r\nL 7.2 7.2 \r\n\" style=\"fill:#440154;\"/>\r\n    <path clip-path=\"url(#p74fc7bd7d8)\" d=\"M 55.028571 7.2 \r\nL 102.857143 7.2 \r\nL 102.857143 8.133219 \r\nL 55.028571 8.133219 \r\nL 55.028571 7.2 \r\n\" style=\"fill:#440154;\"/>\r\n    <path clip-path=\"url(#p74fc7bd7d8)\" d=\"M 102.857143 7.2 \r\nL 150.685714 7.2 \r\nL 150.685714 8.133219 \r\nL 102.857143 8.133219 \r\nL 102.857143 7.2 \r\n\" style=\"fill:#440154;\"/>\r\n    <path clip-path=\"url(#p74fc7bd7d8)\" d=\"M 150.685714 7.2 \r\nL 198.514286 7.2 \r\nL 198.514286 8.133219 \r\nL 150.685714 8.133219 \r\nL 150.685714 7.2 \r\n\" style=\"fill:#440154;\"/>\r\n    <path clip-path=\"url(#p74fc7bd7d8)\" d=\"M 198.514286 7.2 \r\nL 246.342857 7.2 \r\nL 246.342857 8.133219 \r\nL 198.514286 8.133219 \r\nL 198.514286 7.2 \r\n\" style=\"fill:#440154;\"/>\r\n    <path clip-path=\"url(#p74fc7bd7d8)\" d=\"M 246.342857 7.2 \r\nL 294.171429 7.2 \r\nL 294.171429 8.133219 \r\nL 246.342857 8.133219 \r\nL 246.342857 7.2 \r\n\" style=\"fill:#440154;\"/>\r\n    <path clip-path=\"url(#p74fc7bd7d8)\" d=\"M 294.171429 7.2 \r\nL 342 7.2 \r\nL 342 8.133219 \r\nL 294.171429 8.133219 \r\nL 294.171429 7.2 \r\n\" style=\"fill:#440154;\"/>\r\n    <path clip-path=\"url(#p74fc7bd7d8)\" d=\"M 7.2 8.133219 \r\nL 55.028571 8.133219 \r\nL 55.028571 9.066438 \r\nL 7.2 9.066438 \r\nL 7.2 8.133219 \r\n\" style=\"fill:#440154;\"/>\r\n    <path clip-path=\"url(#p74fc7bd7d8)\" d=\"M 55.028571 8.133219 \r\nL 102.857143 8.133219 \r\nL 102.857143 9.066438 \r\nL 55.028571 9.066438 \r\nL 55.028571 8.133219 \r\n\" style=\"fill:#fde725;\"/>\r\n    <path clip-path=\"url(#p74fc7bd7d8)\" d=\"M 102.857143 8.133219 \r\nL 150.685714 8.133219 \r\nL 150.685714 9.066438 \r\nL 102.857143 9.066438 \r\nL 102.857143 8.133219 \r\n\" style=\"fill:#fde725;\"/>\r\n    <path clip-path=\"url(#p74fc7bd7d8)\" d=\"M 150.685714 8.133219 \r\nL 198.514286 8.133219 \r\nL 198.514286 9.066438 \r\nL 150.685714 9.066438 \r\nL 150.685714 8.133219 \r\n\" style=\"fill:#fde725;\"/>\r\n    <path clip-path=\"url(#p74fc7bd7d8)\" d=\"M 198.514286 8.133219 \r\nL 246.342857 8.133219 \r\nL 246.342857 9.066438 \r\nL 198.514286 9.066438 \r\nL 198.514286 8.133219 \r\n\" style=\"fill:#fde725;\"/>\r\n    <path clip-path=\"url(#p74fc7bd7d8)\" d=\"M 246.342857 8.133219 \r\nL 294.171429 8.133219 \r\nL 294.171429 9.066438 \r\nL 246.342857 9.066438 \r\nL 246.342857 8.133219 \r\n\" style=\"fill:#fde725;\"/>\r\n    <path clip-path=\"url(#p74fc7bd7d8)\" d=\"M 294.171429 8.133219 \r\nL 342 8.133219 \r\nL 342 9.066438 \r\nL 294.171429 9.066438 \r\nL 294.171429 8.133219 \r\n\" style=\"fill:#fde725;\"/>\r\n    <path clip-path=\"url(#p74fc7bd7d8)\" d=\"M 7.2 9.066438 \r\nL 55.028571 9.066438 \r\nL 55.028571 9.999657 \r\nL 7.2 9.999657 \r\nL 7.2 9.066438 \r\n\" style=\"fill:#440154;\"/>\r\n    <path clip-path=\"url(#p74fc7bd7d8)\" d=\"M 55.028571 9.066438 \r\nL 102.857143 9.066438 \r\nL 102.857143 9.999657 \r\nL 55.028571 9.999657 \r\nL 55.028571 9.066438 \r\n\" style=\"fill:#440154;\"/>\r\n    <path clip-path=\"url(#p74fc7bd7d8)\" d=\"M 102.857143 9.066438 \r\nL 150.685714 9.066438 \r\nL 150.685714 9.999657 \r\nL 102.857143 9.999657 \r\nL 102.857143 9.066438 \r\n\" style=\"fill:#440154;\"/>\r\n    <path clip-path=\"url(#p74fc7bd7d8)\" d=\"M 150.685714 9.066438 \r\nL 198.514286 9.066438 \r\nL 198.514286 9.999657 \r\nL 150.685714 9.999657 \r\nL 150.685714 9.066438 \r\n\" style=\"fill:#440154;\"/>\r\n    <path clip-path=\"url(#p74fc7bd7d8)\" d=\"M 198.514286 9.066438 \r\nL 246.342857 9.066438 \r\nL 246.342857 9.999657 \r\nL 198.514286 9.999657 \r\nL 198.514286 9.066438 \r\n\" style=\"fill:#440154;\"/>\r\n    <path clip-path=\"url(#p74fc7bd7d8)\" d=\"M 246.342857 9.066438 \r\nL 294.171429 9.066438 \r\nL 294.171429 9.999657 \r\nL 246.342857 9.999657 \r\nL 246.342857 9.066438 \r\n\" style=\"fill:#440154;\"/>\r\n    <path clip-path=\"url(#p74fc7bd7d8)\" d=\"M 294.171429 9.066438 \r\nL 342 9.066438 \r\nL 342 9.999657 \r\nL 294.171429 9.999657 \r\nL 294.171429 9.066438 \r\n\" style=\"fill:#440154;\"/>\r\n    <path clip-path=\"url(#p74fc7bd7d8)\" d=\"M 7.2 9.999657 \r\nL 55.028571 9.999657 \r\nL 55.028571 10.932876 \r\nL 7.2 10.932876 \r\nL 7.2 9.999657 \r\n\" style=\"fill:#440154;\"/>\r\n    <path clip-path=\"url(#p74fc7bd7d8)\" d=\"M 55.028571 9.999657 \r\nL 102.857143 9.999657 \r\nL 102.857143 10.932876 \r\nL 55.028571 10.932876 \r\nL 55.028571 9.999657 \r\n\" style=\"fill:#fde725;\"/>\r\n    <path clip-path=\"url(#p74fc7bd7d8)\" d=\"M 102.857143 9.999657 \r\nL 150.685714 9.999657 \r\nL 150.685714 10.932876 \r\nL 102.857143 10.932876 \r\nL 102.857143 9.999657 \r\n\" style=\"fill:#fde725;\"/>\r\n    <path clip-path=\"url(#p74fc7bd7d8)\" d=\"M 150.685714 9.999657 \r\nL 198.514286 9.999657 \r\nL 198.514286 10.932876 \r\nL 150.685714 10.932876 \r\nL 150.685714 9.999657 \r\n\" style=\"fill:#fde725;\"/>\r\n    <path clip-path=\"url(#p74fc7bd7d8)\" d=\"M 198.514286 9.999657 \r\nL 246.342857 9.999657 \r\nL 246.342857 10.932876 \r\nL 198.514286 10.932876 \r\nL 198.514286 9.999657 \r\n\" style=\"fill:#fde725;\"/>\r\n    <path clip-path=\"url(#p74fc7bd7d8)\" d=\"M 246.342857 9.999657 \r\nL 294.171429 9.999657 \r\nL 294.171429 10.932876 \r\nL 246.342857 10.932876 \r\nL 246.342857 9.999657 \r\n\" style=\"fill:#fde725;\"/>\r\n    <path clip-path=\"url(#p74fc7bd7d8)\" d=\"M 294.171429 9.999657 \r\nL 342 9.999657 \r\nL 342 10.932876 \r\nL 294.171429 10.932876 \r\nL 294.171429 9.999657 \r\n\" style=\"fill:#fde725;\"/>\r\n    <path clip-path=\"url(#p74fc7bd7d8)\" d=\"M 7.2 10.932876 \r\nL 55.028571 10.932876 \r\nL 55.028571 11.866094 \r\nL 7.2 11.866094 \r\nL 7.2 10.932876 \r\n\" style=\"fill:#440154;\"/>\r\n    <path clip-path=\"url(#p74fc7bd7d8)\" d=\"M 55.028571 10.932876 \r\nL 102.857143 10.932876 \r\nL 102.857143 11.866094 \r\nL 55.028571 11.866094 \r\nL 55.028571 10.932876 \r\n\" style=\"fill:#fde725;\"/>\r\n    <path clip-path=\"url(#p74fc7bd7d8)\" d=\"M 102.857143 10.932876 \r\nL 150.685714 10.932876 \r\nL 150.685714 11.866094 \r\nL 102.857143 11.866094 \r\nL 102.857143 10.932876 \r\n\" style=\"fill:#fde725;\"/>\r\n    <path clip-path=\"url(#p74fc7bd7d8)\" d=\"M 150.685714 10.932876 \r\nL 198.514286 10.932876 \r\nL 198.514286 11.866094 \r\nL 150.685714 11.866094 \r\nL 150.685714 10.932876 \r\n\" style=\"fill:#fde725;\"/>\r\n    <path clip-path=\"url(#p74fc7bd7d8)\" d=\"M 198.514286 10.932876 \r\nL 246.342857 10.932876 \r\nL 246.342857 11.866094 \r\nL 198.514286 11.866094 \r\nL 198.514286 10.932876 \r\n\" style=\"fill:#fde725;\"/>\r\n    <path clip-path=\"url(#p74fc7bd7d8)\" d=\"M 246.342857 10.932876 \r\nL 294.171429 10.932876 \r\nL 294.171429 11.866094 \r\nL 246.342857 11.866094 \r\nL 246.342857 10.932876 \r\n\" style=\"fill:#fde725;\"/>\r\n    <path clip-path=\"url(#p74fc7bd7d8)\" d=\"M 294.171429 10.932876 \r\nL 342 10.932876 \r\nL 342 11.866094 \r\nL 294.171429 11.866094 \r\nL 294.171429 10.932876 \r\n\" style=\"fill:#fde725;\"/>\r\n    <path clip-path=\"url(#p74fc7bd7d8)\" d=\"M 7.2 11.866094 \r\nL 55.028571 11.866094 \r\nL 55.028571 12.799313 \r\nL 7.2 12.799313 \r\nL 7.2 11.866094 \r\n\" style=\"fill:#440154;\"/>\r\n    <path clip-path=\"url(#p74fc7bd7d8)\" d=\"M 55.028571 11.866094 \r\nL 102.857143 11.866094 \r\nL 102.857143 12.799313 \r\nL 55.028571 12.799313 \r\nL 55.028571 11.866094 \r\n\" style=\"fill:#440154;\"/>\r\n    <path clip-path=\"url(#p74fc7bd7d8)\" d=\"M 102.857143 11.866094 \r\nL 150.685714 11.866094 \r\nL 150.685714 12.799313 \r\nL 102.857143 12.799313 \r\nL 102.857143 11.866094 \r\n\" style=\"fill:#440154;\"/>\r\n    <path clip-path=\"url(#p74fc7bd7d8)\" d=\"M 150.685714 11.866094 \r\nL 198.514286 11.866094 \r\nL 198.514286 12.799313 \r\nL 150.685714 12.799313 \r\nL 150.685714 11.866094 \r\n\" style=\"fill:#440154;\"/>\r\n    <path clip-path=\"url(#p74fc7bd7d8)\" d=\"M 198.514286 11.866094 \r\nL 246.342857 11.866094 \r\nL 246.342857 12.799313 \r\nL 198.514286 12.799313 \r\nL 198.514286 11.866094 \r\n\" style=\"fill:#440154;\"/>\r\n    <path clip-path=\"url(#p74fc7bd7d8)\" d=\"M 246.342857 11.866094 \r\nL 294.171429 11.866094 \r\nL 294.171429 12.799313 \r\nL 246.342857 12.799313 \r\nL 246.342857 11.866094 \r\n\" style=\"fill:#440154;\"/>\r\n    <path clip-path=\"url(#p74fc7bd7d8)\" d=\"M 294.171429 11.866094 \r\nL 342 11.866094 \r\nL 342 12.799313 \r\nL 294.171429 12.799313 \r\nL 294.171429 11.866094 \r\n\" style=\"fill:#440154;\"/>\r\n    <path clip-path=\"url(#p74fc7bd7d8)\" d=\"M 7.2 12.799313 \r\nL 55.028571 12.799313 \r\nL 55.028571 13.732532 \r\nL 7.2 13.732532 \r\nL 7.2 12.799313 \r\n\" style=\"fill:#440154;\"/>\r\n    <path clip-path=\"url(#p74fc7bd7d8)\" d=\"M 55.028571 12.799313 \r\nL 102.857143 12.799313 \r\nL 102.857143 13.732532 \r\nL 55.028571 13.732532 \r\nL 55.028571 12.799313 \r\n\" style=\"fill:#440154;\"/>\r\n    <path clip-path=\"url(#p74fc7bd7d8)\" d=\"M 102.857143 12.799313 \r\nL 150.685714 12.799313 \r\nL 150.685714 13.732532 \r\nL 102.857143 13.732532 \r\nL 102.857143 12.799313 \r\n\" style=\"fill:#440154;\"/>\r\n    <path clip-path=\"url(#p74fc7bd7d8)\" d=\"M 150.685714 12.799313 \r\nL 198.514286 12.799313 \r\nL 198.514286 13.732532 \r\nL 150.685714 13.732532 \r\nL 150.685714 12.799313 \r\n\" style=\"fill:#440154;\"/>\r\n    <path clip-path=\"url(#p74fc7bd7d8)\" d=\"M 198.514286 12.799313 \r\nL 246.342857 12.799313 \r\nL 246.342857 13.732532 \r\nL 198.514286 13.732532 \r\nL 198.514286 12.799313 \r\n\" style=\"fill:#440154;\"/>\r\n    <path clip-path=\"url(#p74fc7bd7d8)\" d=\"M 246.342857 12.799313 \r\nL 294.171429 12.799313 \r\nL 294.171429 13.732532 \r\nL 246.342857 13.732532 \r\nL 246.342857 12.799313 \r\n\" style=\"fill:#440154;\"/>\r\n    <path clip-path=\"url(#p74fc7bd7d8)\" d=\"M 294.171429 12.799313 \r\nL 342 12.799313 \r\nL 342 13.732532 \r\nL 294.171429 13.732532 \r\nL 294.171429 12.799313 \r\n\" style=\"fill:#440154;\"/>\r\n    <path clip-path=\"url(#p74fc7bd7d8)\" d=\"M 7.2 13.732532 \r\nL 55.028571 13.732532 \r\nL 55.028571 14.665751 \r\nL 7.2 14.665751 \r\nL 7.2 13.732532 \r\n\" style=\"fill:#440154;\"/>\r\n    <path clip-path=\"url(#p74fc7bd7d8)\" d=\"M 55.028571 13.732532 \r\nL 102.857143 13.732532 \r\nL 102.857143 14.665751 \r\nL 55.028571 14.665751 \r\nL 55.028571 13.732532 \r\n\" style=\"fill:#440154;\"/>\r\n    <path clip-path=\"url(#p74fc7bd7d8)\" d=\"M 102.857143 13.732532 \r\nL 150.685714 13.732532 \r\nL 150.685714 14.665751 \r\nL 102.857143 14.665751 \r\nL 102.857143 13.732532 \r\n\" style=\"fill:#440154;\"/>\r\n    <path clip-path=\"url(#p74fc7bd7d8)\" d=\"M 150.685714 13.732532 \r\nL 198.514286 13.732532 \r\nL 198.514286 14.665751 \r\nL 150.685714 14.665751 \r\nL 150.685714 13.732532 \r\n\" style=\"fill:#440154;\"/>\r\n    <path clip-path=\"url(#p74fc7bd7d8)\" d=\"M 198.514286 13.732532 \r\nL 246.342857 13.732532 \r\nL 246.342857 14.665751 \r\nL 198.514286 14.665751 \r\nL 198.514286 13.732532 \r\n\" style=\"fill:#440154;\"/>\r\n    <path clip-path=\"url(#p74fc7bd7d8)\" d=\"M 246.342857 13.732532 \r\nL 294.171429 13.732532 \r\nL 294.171429 14.665751 \r\nL 246.342857 14.665751 \r\nL 246.342857 13.732532 \r\n\" style=\"fill:#440154;\"/>\r\n    <path clip-path=\"url(#p74fc7bd7d8)\" d=\"M 294.171429 13.732532 \r\nL 342 13.732532 \r\nL 342 14.665751 \r\nL 294.171429 14.665751 \r\nL 294.171429 13.732532 \r\n\" style=\"fill:#440154;\"/>\r\n    <path clip-path=\"url(#p74fc7bd7d8)\" d=\"M 7.2 14.665751 \r\nL 55.028571 14.665751 \r\nL 55.028571 15.59897 \r\nL 7.2 15.59897 \r\nL 7.2 14.665751 \r\n\" style=\"fill:#440154;\"/>\r\n    <path clip-path=\"url(#p74fc7bd7d8)\" d=\"M 55.028571 14.665751 \r\nL 102.857143 14.665751 \r\nL 102.857143 15.59897 \r\nL 55.028571 15.59897 \r\nL 55.028571 14.665751 \r\n\" style=\"fill:#440154;\"/>\r\n    <path clip-path=\"url(#p74fc7bd7d8)\" d=\"M 102.857143 14.665751 \r\nL 150.685714 14.665751 \r\nL 150.685714 15.59897 \r\nL 102.857143 15.59897 \r\nL 102.857143 14.665751 \r\n\" style=\"fill:#440154;\"/>\r\n    <path clip-path=\"url(#p74fc7bd7d8)\" d=\"M 150.685714 14.665751 \r\nL 198.514286 14.665751 \r\nL 198.514286 15.59897 \r\nL 150.685714 15.59897 \r\nL 150.685714 14.665751 \r\n\" style=\"fill:#440154;\"/>\r\n    <path clip-path=\"url(#p74fc7bd7d8)\" d=\"M 198.514286 14.665751 \r\nL 246.342857 14.665751 \r\nL 246.342857 15.59897 \r\nL 198.514286 15.59897 \r\nL 198.514286 14.665751 \r\n\" style=\"fill:#440154;\"/>\r\n    <path clip-path=\"url(#p74fc7bd7d8)\" d=\"M 246.342857 14.665751 \r\nL 294.171429 14.665751 \r\nL 294.171429 15.59897 \r\nL 246.342857 15.59897 \r\nL 246.342857 14.665751 \r\n\" style=\"fill:#440154;\"/>\r\n    <path clip-path=\"url(#p74fc7bd7d8)\" d=\"M 294.171429 14.665751 \r\nL 342 14.665751 \r\nL 342 15.59897 \r\nL 294.171429 15.59897 \r\nL 294.171429 14.665751 \r\n\" style=\"fill:#440154;\"/>\r\n    <path clip-path=\"url(#p74fc7bd7d8)\" d=\"M 7.2 15.59897 \r\nL 55.028571 15.59897 \r\nL 55.028571 16.532189 \r\nL 7.2 16.532189 \r\nL 7.2 15.59897 \r\n\" style=\"fill:#440154;\"/>\r\n    <path clip-path=\"url(#p74fc7bd7d8)\" d=\"M 55.028571 15.59897 \r\nL 102.857143 15.59897 \r\nL 102.857143 16.532189 \r\nL 55.028571 16.532189 \r\nL 55.028571 15.59897 \r\n\" style=\"fill:#440154;\"/>\r\n    <path clip-path=\"url(#p74fc7bd7d8)\" d=\"M 102.857143 15.59897 \r\nL 150.685714 15.59897 \r\nL 150.685714 16.532189 \r\nL 102.857143 16.532189 \r\nL 102.857143 15.59897 \r\n\" style=\"fill:#440154;\"/>\r\n    <path clip-path=\"url(#p74fc7bd7d8)\" d=\"M 150.685714 15.59897 \r\nL 198.514286 15.59897 \r\nL 198.514286 16.532189 \r\nL 150.685714 16.532189 \r\nL 150.685714 15.59897 \r\n\" style=\"fill:#440154;\"/>\r\n    <path clip-path=\"url(#p74fc7bd7d8)\" d=\"M 198.514286 15.59897 \r\nL 246.342857 15.59897 \r\nL 246.342857 16.532189 \r\nL 198.514286 16.532189 \r\nL 198.514286 15.59897 \r\n\" style=\"fill:#440154;\"/>\r\n    <path clip-path=\"url(#p74fc7bd7d8)\" d=\"M 246.342857 15.59897 \r\nL 294.171429 15.59897 \r\nL 294.171429 16.532189 \r\nL 246.342857 16.532189 \r\nL 246.342857 15.59897 \r\n\" style=\"fill:#440154;\"/>\r\n    <path clip-path=\"url(#p74fc7bd7d8)\" d=\"M 294.171429 15.59897 \r\nL 342 15.59897 \r\nL 342 16.532189 \r\nL 294.171429 16.532189 \r\nL 294.171429 15.59897 \r\n\" style=\"fill:#440154;\"/>\r\n    <path clip-path=\"url(#p74fc7bd7d8)\" d=\"M 7.2 16.532189 \r\nL 55.028571 16.532189 \r\nL 55.028571 17.465408 \r\nL 7.2 17.465408 \r\nL 7.2 16.532189 \r\n\" style=\"fill:#440154;\"/>\r\n    <path clip-path=\"url(#p74fc7bd7d8)\" d=\"M 55.028571 16.532189 \r\nL 102.857143 16.532189 \r\nL 102.857143 17.465408 \r\nL 55.028571 17.465408 \r\nL 55.028571 16.532189 \r\n\" style=\"fill:#440154;\"/>\r\n    <path clip-path=\"url(#p74fc7bd7d8)\" d=\"M 102.857143 16.532189 \r\nL 150.685714 16.532189 \r\nL 150.685714 17.465408 \r\nL 102.857143 17.465408 \r\nL 102.857143 16.532189 \r\n\" style=\"fill:#440154;\"/>\r\n    <path clip-path=\"url(#p74fc7bd7d8)\" d=\"M 150.685714 16.532189 \r\nL 198.514286 16.532189 \r\nL 198.514286 17.465408 \r\nL 150.685714 17.465408 \r\nL 150.685714 16.532189 \r\n\" style=\"fill:#440154;\"/>\r\n    <path clip-path=\"url(#p74fc7bd7d8)\" d=\"M 198.514286 16.532189 \r\nL 246.342857 16.532189 \r\nL 246.342857 17.465408 \r\nL 198.514286 17.465408 \r\nL 198.514286 16.532189 \r\n\" style=\"fill:#440154;\"/>\r\n    <path clip-path=\"url(#p74fc7bd7d8)\" d=\"M 246.342857 16.532189 \r\nL 294.171429 16.532189 \r\nL 294.171429 17.465408 \r\nL 246.342857 17.465408 \r\nL 246.342857 16.532189 \r\n\" style=\"fill:#fde725;\"/>\r\n    <path clip-path=\"url(#p74fc7bd7d8)\" d=\"M 294.171429 16.532189 \r\nL 342 16.532189 \r\nL 342 17.465408 \r\nL 294.171429 17.465408 \r\nL 294.171429 16.532189 \r\n\" style=\"fill:#440154;\"/>\r\n    <path clip-path=\"url(#p74fc7bd7d8)\" d=\"M 7.2 17.465408 \r\nL 55.028571 17.465408 \r\nL 55.028571 18.398627 \r\nL 7.2 18.398627 \r\nL 7.2 17.465408 \r\n\" style=\"fill:#440154;\"/>\r\n    <path clip-path=\"url(#p74fc7bd7d8)\" d=\"M 55.028571 17.465408 \r\nL 102.857143 17.465408 \r\nL 102.857143 18.398627 \r\nL 55.028571 18.398627 \r\nL 55.028571 17.465408 \r\n\" style=\"fill:#440154;\"/>\r\n    <path clip-path=\"url(#p74fc7bd7d8)\" d=\"M 102.857143 17.465408 \r\nL 150.685714 17.465408 \r\nL 150.685714 18.398627 \r\nL 102.857143 18.398627 \r\nL 102.857143 17.465408 \r\n\" style=\"fill:#440154;\"/>\r\n    <path clip-path=\"url(#p74fc7bd7d8)\" d=\"M 150.685714 17.465408 \r\nL 198.514286 17.465408 \r\nL 198.514286 18.398627 \r\nL 150.685714 18.398627 \r\nL 150.685714 17.465408 \r\n\" style=\"fill:#440154;\"/>\r\n    <path clip-path=\"url(#p74fc7bd7d8)\" d=\"M 198.514286 17.465408 \r\nL 246.342857 17.465408 \r\nL 246.342857 18.398627 \r\nL 198.514286 18.398627 \r\nL 198.514286 17.465408 \r\n\" style=\"fill:#440154;\"/>\r\n    <path clip-path=\"url(#p74fc7bd7d8)\" d=\"M 246.342857 17.465408 \r\nL 294.171429 17.465408 \r\nL 294.171429 18.398627 \r\nL 246.342857 18.398627 \r\nL 246.342857 17.465408 \r\n\" style=\"fill:#440154;\"/>\r\n    <path clip-path=\"url(#p74fc7bd7d8)\" d=\"M 294.171429 17.465408 \r\nL 342 17.465408 \r\nL 342 18.398627 \r\nL 294.171429 18.398627 \r\nL 294.171429 17.465408 \r\n\" style=\"fill:#440154;\"/>\r\n    <path clip-path=\"url(#p74fc7bd7d8)\" d=\"M 7.2 18.398627 \r\nL 55.028571 18.398627 \r\nL 55.028571 19.331845 \r\nL 7.2 19.331845 \r\nL 7.2 18.398627 \r\n\" style=\"fill:#440154;\"/>\r\n    <path clip-path=\"url(#p74fc7bd7d8)\" d=\"M 55.028571 18.398627 \r\nL 102.857143 18.398627 \r\nL 102.857143 19.331845 \r\nL 55.028571 19.331845 \r\nL 55.028571 18.398627 \r\n\" style=\"fill:#440154;\"/>\r\n    <path clip-path=\"url(#p74fc7bd7d8)\" d=\"M 102.857143 18.398627 \r\nL 150.685714 18.398627 \r\nL 150.685714 19.331845 \r\nL 102.857143 19.331845 \r\nL 102.857143 18.398627 \r\n\" style=\"fill:#440154;\"/>\r\n    <path clip-path=\"url(#p74fc7bd7d8)\" d=\"M 150.685714 18.398627 \r\nL 198.514286 18.398627 \r\nL 198.514286 19.331845 \r\nL 150.685714 19.331845 \r\nL 150.685714 18.398627 \r\n\" style=\"fill:#440154;\"/>\r\n    <path clip-path=\"url(#p74fc7bd7d8)\" d=\"M 198.514286 18.398627 \r\nL 246.342857 18.398627 \r\nL 246.342857 19.331845 \r\nL 198.514286 19.331845 \r\nL 198.514286 18.398627 \r\n\" style=\"fill:#440154;\"/>\r\n    <path clip-path=\"url(#p74fc7bd7d8)\" d=\"M 246.342857 18.398627 \r\nL 294.171429 18.398627 \r\nL 294.171429 19.331845 \r\nL 246.342857 19.331845 \r\nL 246.342857 18.398627 \r\n\" style=\"fill:#440154;\"/>\r\n    <path clip-path=\"url(#p74fc7bd7d8)\" d=\"M 294.171429 18.398627 \r\nL 342 18.398627 \r\nL 342 19.331845 \r\nL 294.171429 19.331845 \r\nL 294.171429 18.398627 \r\n\" style=\"fill:#fde725;\"/>\r\n    <path clip-path=\"url(#p74fc7bd7d8)\" d=\"M 7.2 19.331845 \r\nL 55.028571 19.331845 \r\nL 55.028571 20.265064 \r\nL 7.2 20.265064 \r\nL 7.2 19.331845 \r\n\" style=\"fill:#440154;\"/>\r\n    <path clip-path=\"url(#p74fc7bd7d8)\" d=\"M 55.028571 19.331845 \r\nL 102.857143 19.331845 \r\nL 102.857143 20.265064 \r\nL 55.028571 20.265064 \r\nL 55.028571 19.331845 \r\n\" style=\"fill:#440154;\"/>\r\n    <path clip-path=\"url(#p74fc7bd7d8)\" d=\"M 102.857143 19.331845 \r\nL 150.685714 19.331845 \r\nL 150.685714 20.265064 \r\nL 102.857143 20.265064 \r\nL 102.857143 19.331845 \r\n\" style=\"fill:#440154;\"/>\r\n    <path clip-path=\"url(#p74fc7bd7d8)\" d=\"M 150.685714 19.331845 \r\nL 198.514286 19.331845 \r\nL 198.514286 20.265064 \r\nL 150.685714 20.265064 \r\nL 150.685714 19.331845 \r\n\" style=\"fill:#440154;\"/>\r\n    <path clip-path=\"url(#p74fc7bd7d8)\" d=\"M 198.514286 19.331845 \r\nL 246.342857 19.331845 \r\nL 246.342857 20.265064 \r\nL 198.514286 20.265064 \r\nL 198.514286 19.331845 \r\n\" style=\"fill:#fde725;\"/>\r\n    <path clip-path=\"url(#p74fc7bd7d8)\" d=\"M 246.342857 19.331845 \r\nL 294.171429 19.331845 \r\nL 294.171429 20.265064 \r\nL 246.342857 20.265064 \r\nL 246.342857 19.331845 \r\n\" style=\"fill:#fde725;\"/>\r\n    <path clip-path=\"url(#p74fc7bd7d8)\" d=\"M 294.171429 19.331845 \r\nL 342 19.331845 \r\nL 342 20.265064 \r\nL 294.171429 20.265064 \r\nL 294.171429 19.331845 \r\n\" style=\"fill:#440154;\"/>\r\n    <path clip-path=\"url(#p74fc7bd7d8)\" d=\"M 7.2 20.265064 \r\nL 55.028571 20.265064 \r\nL 55.028571 21.198283 \r\nL 7.2 21.198283 \r\nL 7.2 20.265064 \r\n\" style=\"fill:#440154;\"/>\r\n    <path clip-path=\"url(#p74fc7bd7d8)\" d=\"M 55.028571 20.265064 \r\nL 102.857143 20.265064 \r\nL 102.857143 21.198283 \r\nL 55.028571 21.198283 \r\nL 55.028571 20.265064 \r\n\" style=\"fill:#440154;\"/>\r\n    <path clip-path=\"url(#p74fc7bd7d8)\" d=\"M 102.857143 20.265064 \r\nL 150.685714 20.265064 \r\nL 150.685714 21.198283 \r\nL 102.857143 21.198283 \r\nL 102.857143 20.265064 \r\n\" style=\"fill:#440154;\"/>\r\n    <path clip-path=\"url(#p74fc7bd7d8)\" d=\"M 150.685714 20.265064 \r\nL 198.514286 20.265064 \r\nL 198.514286 21.198283 \r\nL 150.685714 21.198283 \r\nL 150.685714 20.265064 \r\n\" style=\"fill:#440154;\"/>\r\n    <path clip-path=\"url(#p74fc7bd7d8)\" d=\"M 198.514286 20.265064 \r\nL 246.342857 20.265064 \r\nL 246.342857 21.198283 \r\nL 198.514286 21.198283 \r\nL 198.514286 20.265064 \r\n\" style=\"fill:#440154;\"/>\r\n    <path clip-path=\"url(#p74fc7bd7d8)\" d=\"M 246.342857 20.265064 \r\nL 294.171429 20.265064 \r\nL 294.171429 21.198283 \r\nL 246.342857 21.198283 \r\nL 246.342857 20.265064 \r\n\" style=\"fill:#fde725;\"/>\r\n    <path clip-path=\"url(#p74fc7bd7d8)\" d=\"M 294.171429 20.265064 \r\nL 342 20.265064 \r\nL 342 21.198283 \r\nL 294.171429 21.198283 \r\nL 294.171429 20.265064 \r\n\" style=\"fill:#440154;\"/>\r\n    <path clip-path=\"url(#p74fc7bd7d8)\" d=\"M 7.2 21.198283 \r\nL 55.028571 21.198283 \r\nL 55.028571 22.131502 \r\nL 7.2 22.131502 \r\nL 7.2 21.198283 \r\n\" style=\"fill:#440154;\"/>\r\n    <path clip-path=\"url(#p74fc7bd7d8)\" d=\"M 55.028571 21.198283 \r\nL 102.857143 21.198283 \r\nL 102.857143 22.131502 \r\nL 55.028571 22.131502 \r\nL 55.028571 21.198283 \r\n\" style=\"fill:#440154;\"/>\r\n    <path clip-path=\"url(#p74fc7bd7d8)\" d=\"M 102.857143 21.198283 \r\nL 150.685714 21.198283 \r\nL 150.685714 22.131502 \r\nL 102.857143 22.131502 \r\nL 102.857143 21.198283 \r\n\" style=\"fill:#440154;\"/>\r\n    <path clip-path=\"url(#p74fc7bd7d8)\" d=\"M 150.685714 21.198283 \r\nL 198.514286 21.198283 \r\nL 198.514286 22.131502 \r\nL 150.685714 22.131502 \r\nL 150.685714 21.198283 \r\n\" style=\"fill:#440154;\"/>\r\n    <path clip-path=\"url(#p74fc7bd7d8)\" d=\"M 198.514286 21.198283 \r\nL 246.342857 21.198283 \r\nL 246.342857 22.131502 \r\nL 198.514286 22.131502 \r\nL 198.514286 21.198283 \r\n\" style=\"fill:#440154;\"/>\r\n    <path clip-path=\"url(#p74fc7bd7d8)\" d=\"M 246.342857 21.198283 \r\nL 294.171429 21.198283 \r\nL 294.171429 22.131502 \r\nL 246.342857 22.131502 \r\nL 246.342857 21.198283 \r\n\" style=\"fill:#440154;\"/>\r\n    <path clip-path=\"url(#p74fc7bd7d8)\" d=\"M 294.171429 21.198283 \r\nL 342 21.198283 \r\nL 342 22.131502 \r\nL 294.171429 22.131502 \r\nL 294.171429 21.198283 \r\n\" style=\"fill:#440154;\"/>\r\n    <path clip-path=\"url(#p74fc7bd7d8)\" d=\"M 7.2 22.131502 \r\nL 55.028571 22.131502 \r\nL 55.028571 23.064721 \r\nL 7.2 23.064721 \r\nL 7.2 22.131502 \r\n\" style=\"fill:#440154;\"/>\r\n    <path clip-path=\"url(#p74fc7bd7d8)\" d=\"M 55.028571 22.131502 \r\nL 102.857143 22.131502 \r\nL 102.857143 23.064721 \r\nL 55.028571 23.064721 \r\nL 55.028571 22.131502 \r\n\" style=\"fill:#440154;\"/>\r\n    <path clip-path=\"url(#p74fc7bd7d8)\" d=\"M 102.857143 22.131502 \r\nL 150.685714 22.131502 \r\nL 150.685714 23.064721 \r\nL 102.857143 23.064721 \r\nL 102.857143 22.131502 \r\n\" style=\"fill:#440154;\"/>\r\n    <path clip-path=\"url(#p74fc7bd7d8)\" d=\"M 150.685714 22.131502 \r\nL 198.514286 22.131502 \r\nL 198.514286 23.064721 \r\nL 150.685714 23.064721 \r\nL 150.685714 22.131502 \r\n\" style=\"fill:#440154;\"/>\r\n    <path clip-path=\"url(#p74fc7bd7d8)\" d=\"M 198.514286 22.131502 \r\nL 246.342857 22.131502 \r\nL 246.342857 23.064721 \r\nL 198.514286 23.064721 \r\nL 198.514286 22.131502 \r\n\" style=\"fill:#440154;\"/>\r\n    <path clip-path=\"url(#p74fc7bd7d8)\" d=\"M 246.342857 22.131502 \r\nL 294.171429 22.131502 \r\nL 294.171429 23.064721 \r\nL 246.342857 23.064721 \r\nL 246.342857 22.131502 \r\n\" style=\"fill:#440154;\"/>\r\n    <path clip-path=\"url(#p74fc7bd7d8)\" d=\"M 294.171429 22.131502 \r\nL 342 22.131502 \r\nL 342 23.064721 \r\nL 294.171429 23.064721 \r\nL 294.171429 22.131502 \r\n\" style=\"fill:#440154;\"/>\r\n    <path clip-path=\"url(#p74fc7bd7d8)\" d=\"M 7.2 23.064721 \r\nL 55.028571 23.064721 \r\nL 55.028571 23.99794 \r\nL 7.2 23.99794 \r\nL 7.2 23.064721 \r\n\" style=\"fill:#440154;\"/>\r\n    <path clip-path=\"url(#p74fc7bd7d8)\" d=\"M 55.028571 23.064721 \r\nL 102.857143 23.064721 \r\nL 102.857143 23.99794 \r\nL 55.028571 23.99794 \r\nL 55.028571 23.064721 \r\n\" style=\"fill:#fde725;\"/>\r\n    <path clip-path=\"url(#p74fc7bd7d8)\" d=\"M 102.857143 23.064721 \r\nL 150.685714 23.064721 \r\nL 150.685714 23.99794 \r\nL 102.857143 23.99794 \r\nL 102.857143 23.064721 \r\n\" style=\"fill:#fde725;\"/>\r\n    <path clip-path=\"url(#p74fc7bd7d8)\" d=\"M 150.685714 23.064721 \r\nL 198.514286 23.064721 \r\nL 198.514286 23.99794 \r\nL 150.685714 23.99794 \r\nL 150.685714 23.064721 \r\n\" style=\"fill:#fde725;\"/>\r\n    <path clip-path=\"url(#p74fc7bd7d8)\" d=\"M 198.514286 23.064721 \r\nL 246.342857 23.064721 \r\nL 246.342857 23.99794 \r\nL 198.514286 23.99794 \r\nL 198.514286 23.064721 \r\n\" style=\"fill:#fde725;\"/>\r\n    <path clip-path=\"url(#p74fc7bd7d8)\" d=\"M 246.342857 23.064721 \r\nL 294.171429 23.064721 \r\nL 294.171429 23.99794 \r\nL 246.342857 23.99794 \r\nL 246.342857 23.064721 \r\n\" style=\"fill:#fde725;\"/>\r\n    <path clip-path=\"url(#p74fc7bd7d8)\" d=\"M 294.171429 23.064721 \r\nL 342 23.064721 \r\nL 342 23.99794 \r\nL 294.171429 23.99794 \r\nL 294.171429 23.064721 \r\n\" style=\"fill:#fde725;\"/>\r\n    <path clip-path=\"url(#p74fc7bd7d8)\" d=\"M 7.2 23.99794 \r\nL 55.028571 23.99794 \r\nL 55.028571 24.931159 \r\nL 7.2 24.931159 \r\nL 7.2 23.99794 \r\n\" style=\"fill:#440154;\"/>\r\n    <path clip-path=\"url(#p74fc7bd7d8)\" d=\"M 55.028571 23.99794 \r\nL 102.857143 23.99794 \r\nL 102.857143 24.931159 \r\nL 55.028571 24.931159 \r\nL 55.028571 23.99794 \r\n\" style=\"fill:#440154;\"/>\r\n    <path clip-path=\"url(#p74fc7bd7d8)\" d=\"M 102.857143 23.99794 \r\nL 150.685714 23.99794 \r\nL 150.685714 24.931159 \r\nL 102.857143 24.931159 \r\nL 102.857143 23.99794 \r\n\" style=\"fill:#440154;\"/>\r\n    <path clip-path=\"url(#p74fc7bd7d8)\" d=\"M 150.685714 23.99794 \r\nL 198.514286 23.99794 \r\nL 198.514286 24.931159 \r\nL 150.685714 24.931159 \r\nL 150.685714 23.99794 \r\n\" style=\"fill:#440154;\"/>\r\n    <path clip-path=\"url(#p74fc7bd7d8)\" d=\"M 198.514286 23.99794 \r\nL 246.342857 23.99794 \r\nL 246.342857 24.931159 \r\nL 198.514286 24.931159 \r\nL 198.514286 23.99794 \r\n\" style=\"fill:#440154;\"/>\r\n    <path clip-path=\"url(#p74fc7bd7d8)\" d=\"M 246.342857 23.99794 \r\nL 294.171429 23.99794 \r\nL 294.171429 24.931159 \r\nL 246.342857 24.931159 \r\nL 246.342857 23.99794 \r\n\" style=\"fill:#440154;\"/>\r\n    <path clip-path=\"url(#p74fc7bd7d8)\" d=\"M 294.171429 23.99794 \r\nL 342 23.99794 \r\nL 342 24.931159 \r\nL 294.171429 24.931159 \r\nL 294.171429 23.99794 \r\n\" style=\"fill:#440154;\"/>\r\n    <path clip-path=\"url(#p74fc7bd7d8)\" d=\"M 7.2 24.931159 \r\nL 55.028571 24.931159 \r\nL 55.028571 25.864378 \r\nL 7.2 25.864378 \r\nL 7.2 24.931159 \r\n\" style=\"fill:#440154;\"/>\r\n    <path clip-path=\"url(#p74fc7bd7d8)\" d=\"M 55.028571 24.931159 \r\nL 102.857143 24.931159 \r\nL 102.857143 25.864378 \r\nL 55.028571 25.864378 \r\nL 55.028571 24.931159 \r\n\" style=\"fill:#fde725;\"/>\r\n    <path clip-path=\"url(#p74fc7bd7d8)\" d=\"M 102.857143 24.931159 \r\nL 150.685714 24.931159 \r\nL 150.685714 25.864378 \r\nL 102.857143 25.864378 \r\nL 102.857143 24.931159 \r\n\" style=\"fill:#fde725;\"/>\r\n    <path clip-path=\"url(#p74fc7bd7d8)\" d=\"M 150.685714 24.931159 \r\nL 198.514286 24.931159 \r\nL 198.514286 25.864378 \r\nL 150.685714 25.864378 \r\nL 150.685714 24.931159 \r\n\" style=\"fill:#fde725;\"/>\r\n    <path clip-path=\"url(#p74fc7bd7d8)\" d=\"M 198.514286 24.931159 \r\nL 246.342857 24.931159 \r\nL 246.342857 25.864378 \r\nL 198.514286 25.864378 \r\nL 198.514286 24.931159 \r\n\" style=\"fill:#fde725;\"/>\r\n    <path clip-path=\"url(#p74fc7bd7d8)\" d=\"M 246.342857 24.931159 \r\nL 294.171429 24.931159 \r\nL 294.171429 25.864378 \r\nL 246.342857 25.864378 \r\nL 246.342857 24.931159 \r\n\" style=\"fill:#fde725;\"/>\r\n    <path clip-path=\"url(#p74fc7bd7d8)\" d=\"M 294.171429 24.931159 \r\nL 342 24.931159 \r\nL 342 25.864378 \r\nL 294.171429 25.864378 \r\nL 294.171429 24.931159 \r\n\" style=\"fill:#fde725;\"/>\r\n    <path clip-path=\"url(#p74fc7bd7d8)\" d=\"M 7.2 25.864378 \r\nL 55.028571 25.864378 \r\nL 55.028571 26.797597 \r\nL 7.2 26.797597 \r\nL 7.2 25.864378 \r\n\" style=\"fill:#440154;\"/>\r\n    <path clip-path=\"url(#p74fc7bd7d8)\" d=\"M 55.028571 25.864378 \r\nL 102.857143 25.864378 \r\nL 102.857143 26.797597 \r\nL 55.028571 26.797597 \r\nL 55.028571 25.864378 \r\n\" style=\"fill:#440154;\"/>\r\n    <path clip-path=\"url(#p74fc7bd7d8)\" d=\"M 102.857143 25.864378 \r\nL 150.685714 25.864378 \r\nL 150.685714 26.797597 \r\nL 102.857143 26.797597 \r\nL 102.857143 25.864378 \r\n\" style=\"fill:#440154;\"/>\r\n    <path clip-path=\"url(#p74fc7bd7d8)\" d=\"M 150.685714 25.864378 \r\nL 198.514286 25.864378 \r\nL 198.514286 26.797597 \r\nL 150.685714 26.797597 \r\nL 150.685714 25.864378 \r\n\" style=\"fill:#440154;\"/>\r\n    <path clip-path=\"url(#p74fc7bd7d8)\" d=\"M 198.514286 25.864378 \r\nL 246.342857 25.864378 \r\nL 246.342857 26.797597 \r\nL 198.514286 26.797597 \r\nL 198.514286 25.864378 \r\n\" style=\"fill:#440154;\"/>\r\n    <path clip-path=\"url(#p74fc7bd7d8)\" d=\"M 246.342857 25.864378 \r\nL 294.171429 25.864378 \r\nL 294.171429 26.797597 \r\nL 246.342857 26.797597 \r\nL 246.342857 25.864378 \r\n\" style=\"fill:#440154;\"/>\r\n    <path clip-path=\"url(#p74fc7bd7d8)\" d=\"M 294.171429 25.864378 \r\nL 342 25.864378 \r\nL 342 26.797597 \r\nL 294.171429 26.797597 \r\nL 294.171429 25.864378 \r\n\" style=\"fill:#440154;\"/>\r\n    <path clip-path=\"url(#p74fc7bd7d8)\" d=\"M 7.2 26.797597 \r\nL 55.028571 26.797597 \r\nL 55.028571 27.730815 \r\nL 7.2 27.730815 \r\nL 7.2 26.797597 \r\n\" style=\"fill:#440154;\"/>\r\n    <path clip-path=\"url(#p74fc7bd7d8)\" d=\"M 55.028571 26.797597 \r\nL 102.857143 26.797597 \r\nL 102.857143 27.730815 \r\nL 55.028571 27.730815 \r\nL 55.028571 26.797597 \r\n\" style=\"fill:#440154;\"/>\r\n    <path clip-path=\"url(#p74fc7bd7d8)\" d=\"M 102.857143 26.797597 \r\nL 150.685714 26.797597 \r\nL 150.685714 27.730815 \r\nL 102.857143 27.730815 \r\nL 102.857143 26.797597 \r\n\" style=\"fill:#440154;\"/>\r\n    <path clip-path=\"url(#p74fc7bd7d8)\" d=\"M 150.685714 26.797597 \r\nL 198.514286 26.797597 \r\nL 198.514286 27.730815 \r\nL 150.685714 27.730815 \r\nL 150.685714 26.797597 \r\n\" style=\"fill:#440154;\"/>\r\n    <path clip-path=\"url(#p74fc7bd7d8)\" d=\"M 198.514286 26.797597 \r\nL 246.342857 26.797597 \r\nL 246.342857 27.730815 \r\nL 198.514286 27.730815 \r\nL 198.514286 26.797597 \r\n\" style=\"fill:#440154;\"/>\r\n    <path clip-path=\"url(#p74fc7bd7d8)\" d=\"M 246.342857 26.797597 \r\nL 294.171429 26.797597 \r\nL 294.171429 27.730815 \r\nL 246.342857 27.730815 \r\nL 246.342857 26.797597 \r\n\" style=\"fill:#440154;\"/>\r\n    <path clip-path=\"url(#p74fc7bd7d8)\" d=\"M 294.171429 26.797597 \r\nL 342 26.797597 \r\nL 342 27.730815 \r\nL 294.171429 27.730815 \r\nL 294.171429 26.797597 \r\n\" style=\"fill:#440154;\"/>\r\n    <path clip-path=\"url(#p74fc7bd7d8)\" d=\"M 7.2 27.730815 \r\nL 55.028571 27.730815 \r\nL 55.028571 28.664034 \r\nL 7.2 28.664034 \r\nL 7.2 27.730815 \r\n\" style=\"fill:#440154;\"/>\r\n    <path clip-path=\"url(#p74fc7bd7d8)\" d=\"M 55.028571 27.730815 \r\nL 102.857143 27.730815 \r\nL 102.857143 28.664034 \r\nL 55.028571 28.664034 \r\nL 55.028571 27.730815 \r\n\" style=\"fill:#440154;\"/>\r\n    <path clip-path=\"url(#p74fc7bd7d8)\" d=\"M 102.857143 27.730815 \r\nL 150.685714 27.730815 \r\nL 150.685714 28.664034 \r\nL 102.857143 28.664034 \r\nL 102.857143 27.730815 \r\n\" style=\"fill:#440154;\"/>\r\n    <path clip-path=\"url(#p74fc7bd7d8)\" d=\"M 150.685714 27.730815 \r\nL 198.514286 27.730815 \r\nL 198.514286 28.664034 \r\nL 150.685714 28.664034 \r\nL 150.685714 27.730815 \r\n\" style=\"fill:#440154;\"/>\r\n    <path clip-path=\"url(#p74fc7bd7d8)\" d=\"M 198.514286 27.730815 \r\nL 246.342857 27.730815 \r\nL 246.342857 28.664034 \r\nL 198.514286 28.664034 \r\nL 198.514286 27.730815 \r\n\" style=\"fill:#440154;\"/>\r\n    <path clip-path=\"url(#p74fc7bd7d8)\" d=\"M 246.342857 27.730815 \r\nL 294.171429 27.730815 \r\nL 294.171429 28.664034 \r\nL 246.342857 28.664034 \r\nL 246.342857 27.730815 \r\n\" style=\"fill:#440154;\"/>\r\n    <path clip-path=\"url(#p74fc7bd7d8)\" d=\"M 294.171429 27.730815 \r\nL 342 27.730815 \r\nL 342 28.664034 \r\nL 294.171429 28.664034 \r\nL 294.171429 27.730815 \r\n\" style=\"fill:#fde725;\"/>\r\n    <path clip-path=\"url(#p74fc7bd7d8)\" d=\"M 7.2 28.664034 \r\nL 55.028571 28.664034 \r\nL 55.028571 29.597253 \r\nL 7.2 29.597253 \r\nL 7.2 28.664034 \r\n\" style=\"fill:#440154;\"/>\r\n    <path clip-path=\"url(#p74fc7bd7d8)\" d=\"M 55.028571 28.664034 \r\nL 102.857143 28.664034 \r\nL 102.857143 29.597253 \r\nL 55.028571 29.597253 \r\nL 55.028571 28.664034 \r\n\" style=\"fill:#fde725;\"/>\r\n    <path clip-path=\"url(#p74fc7bd7d8)\" d=\"M 102.857143 28.664034 \r\nL 150.685714 28.664034 \r\nL 150.685714 29.597253 \r\nL 102.857143 29.597253 \r\nL 102.857143 28.664034 \r\n\" style=\"fill:#fde725;\"/>\r\n    <path clip-path=\"url(#p74fc7bd7d8)\" d=\"M 150.685714 28.664034 \r\nL 198.514286 28.664034 \r\nL 198.514286 29.597253 \r\nL 150.685714 29.597253 \r\nL 150.685714 28.664034 \r\n\" style=\"fill:#fde725;\"/>\r\n    <path clip-path=\"url(#p74fc7bd7d8)\" d=\"M 198.514286 28.664034 \r\nL 246.342857 28.664034 \r\nL 246.342857 29.597253 \r\nL 198.514286 29.597253 \r\nL 198.514286 28.664034 \r\n\" style=\"fill:#fde725;\"/>\r\n    <path clip-path=\"url(#p74fc7bd7d8)\" d=\"M 246.342857 28.664034 \r\nL 294.171429 28.664034 \r\nL 294.171429 29.597253 \r\nL 246.342857 29.597253 \r\nL 246.342857 28.664034 \r\n\" style=\"fill:#fde725;\"/>\r\n    <path clip-path=\"url(#p74fc7bd7d8)\" d=\"M 294.171429 28.664034 \r\nL 342 28.664034 \r\nL 342 29.597253 \r\nL 294.171429 29.597253 \r\nL 294.171429 28.664034 \r\n\" style=\"fill:#fde725;\"/>\r\n    <path clip-path=\"url(#p74fc7bd7d8)\" d=\"M 7.2 29.597253 \r\nL 55.028571 29.597253 \r\nL 55.028571 30.530472 \r\nL 7.2 30.530472 \r\nL 7.2 29.597253 \r\n\" style=\"fill:#440154;\"/>\r\n    <path clip-path=\"url(#p74fc7bd7d8)\" d=\"M 55.028571 29.597253 \r\nL 102.857143 29.597253 \r\nL 102.857143 30.530472 \r\nL 55.028571 30.530472 \r\nL 55.028571 29.597253 \r\n\" style=\"fill:#440154;\"/>\r\n    <path clip-path=\"url(#p74fc7bd7d8)\" d=\"M 102.857143 29.597253 \r\nL 150.685714 29.597253 \r\nL 150.685714 30.530472 \r\nL 102.857143 30.530472 \r\nL 102.857143 29.597253 \r\n\" style=\"fill:#440154;\"/>\r\n    <path clip-path=\"url(#p74fc7bd7d8)\" d=\"M 150.685714 29.597253 \r\nL 198.514286 29.597253 \r\nL 198.514286 30.530472 \r\nL 150.685714 30.530472 \r\nL 150.685714 29.597253 \r\n\" style=\"fill:#440154;\"/>\r\n    <path clip-path=\"url(#p74fc7bd7d8)\" d=\"M 198.514286 29.597253 \r\nL 246.342857 29.597253 \r\nL 246.342857 30.530472 \r\nL 198.514286 30.530472 \r\nL 198.514286 29.597253 \r\n\" style=\"fill:#440154;\"/>\r\n    <path clip-path=\"url(#p74fc7bd7d8)\" d=\"M 246.342857 29.597253 \r\nL 294.171429 29.597253 \r\nL 294.171429 30.530472 \r\nL 246.342857 30.530472 \r\nL 246.342857 29.597253 \r\n\" style=\"fill:#440154;\"/>\r\n    <path clip-path=\"url(#p74fc7bd7d8)\" d=\"M 294.171429 29.597253 \r\nL 342 29.597253 \r\nL 342 30.530472 \r\nL 294.171429 30.530472 \r\nL 294.171429 29.597253 \r\n\" style=\"fill:#440154;\"/>\r\n    <path clip-path=\"url(#p74fc7bd7d8)\" d=\"M 7.2 30.530472 \r\nL 55.028571 30.530472 \r\nL 55.028571 31.463691 \r\nL 7.2 31.463691 \r\nL 7.2 30.530472 \r\n\" style=\"fill:#440154;\"/>\r\n    <path clip-path=\"url(#p74fc7bd7d8)\" d=\"M 55.028571 30.530472 \r\nL 102.857143 30.530472 \r\nL 102.857143 31.463691 \r\nL 55.028571 31.463691 \r\nL 55.028571 30.530472 \r\n\" style=\"fill:#fde725;\"/>\r\n    <path clip-path=\"url(#p74fc7bd7d8)\" d=\"M 102.857143 30.530472 \r\nL 150.685714 30.530472 \r\nL 150.685714 31.463691 \r\nL 102.857143 31.463691 \r\nL 102.857143 30.530472 \r\n\" style=\"fill:#fde725;\"/>\r\n    <path clip-path=\"url(#p74fc7bd7d8)\" d=\"M 150.685714 30.530472 \r\nL 198.514286 30.530472 \r\nL 198.514286 31.463691 \r\nL 150.685714 31.463691 \r\nL 150.685714 30.530472 \r\n\" style=\"fill:#fde725;\"/>\r\n    <path clip-path=\"url(#p74fc7bd7d8)\" d=\"M 198.514286 30.530472 \r\nL 246.342857 30.530472 \r\nL 246.342857 31.463691 \r\nL 198.514286 31.463691 \r\nL 198.514286 30.530472 \r\n\" style=\"fill:#fde725;\"/>\r\n    <path clip-path=\"url(#p74fc7bd7d8)\" d=\"M 246.342857 30.530472 \r\nL 294.171429 30.530472 \r\nL 294.171429 31.463691 \r\nL 246.342857 31.463691 \r\nL 246.342857 30.530472 \r\n\" style=\"fill:#fde725;\"/>\r\n    <path clip-path=\"url(#p74fc7bd7d8)\" d=\"M 294.171429 30.530472 \r\nL 342 30.530472 \r\nL 342 31.463691 \r\nL 294.171429 31.463691 \r\nL 294.171429 30.530472 \r\n\" style=\"fill:#fde725;\"/>\r\n    <path clip-path=\"url(#p74fc7bd7d8)\" d=\"M 7.2 31.463691 \r\nL 55.028571 31.463691 \r\nL 55.028571 32.39691 \r\nL 7.2 32.39691 \r\nL 7.2 31.463691 \r\n\" style=\"fill:#440154;\"/>\r\n    <path clip-path=\"url(#p74fc7bd7d8)\" d=\"M 55.028571 31.463691 \r\nL 102.857143 31.463691 \r\nL 102.857143 32.39691 \r\nL 55.028571 32.39691 \r\nL 55.028571 31.463691 \r\n\" style=\"fill:#440154;\"/>\r\n    <path clip-path=\"url(#p74fc7bd7d8)\" d=\"M 102.857143 31.463691 \r\nL 150.685714 31.463691 \r\nL 150.685714 32.39691 \r\nL 102.857143 32.39691 \r\nL 102.857143 31.463691 \r\n\" style=\"fill:#440154;\"/>\r\n    <path clip-path=\"url(#p74fc7bd7d8)\" d=\"M 150.685714 31.463691 \r\nL 198.514286 31.463691 \r\nL 198.514286 32.39691 \r\nL 150.685714 32.39691 \r\nL 150.685714 31.463691 \r\n\" style=\"fill:#440154;\"/>\r\n    <path clip-path=\"url(#p74fc7bd7d8)\" d=\"M 198.514286 31.463691 \r\nL 246.342857 31.463691 \r\nL 246.342857 32.39691 \r\nL 198.514286 32.39691 \r\nL 198.514286 31.463691 \r\n\" style=\"fill:#440154;\"/>\r\n    <path clip-path=\"url(#p74fc7bd7d8)\" d=\"M 246.342857 31.463691 \r\nL 294.171429 31.463691 \r\nL 294.171429 32.39691 \r\nL 246.342857 32.39691 \r\nL 246.342857 31.463691 \r\n\" style=\"fill:#440154;\"/>\r\n    <path clip-path=\"url(#p74fc7bd7d8)\" d=\"M 294.171429 31.463691 \r\nL 342 31.463691 \r\nL 342 32.39691 \r\nL 294.171429 32.39691 \r\nL 294.171429 31.463691 \r\n\" style=\"fill:#440154;\"/>\r\n    <path clip-path=\"url(#p74fc7bd7d8)\" d=\"M 7.2 32.39691 \r\nL 55.028571 32.39691 \r\nL 55.028571 33.330129 \r\nL 7.2 33.330129 \r\nL 7.2 32.39691 \r\n\" style=\"fill:#440154;\"/>\r\n    <path clip-path=\"url(#p74fc7bd7d8)\" d=\"M 55.028571 32.39691 \r\nL 102.857143 32.39691 \r\nL 102.857143 33.330129 \r\nL 55.028571 33.330129 \r\nL 55.028571 32.39691 \r\n\" style=\"fill:#440154;\"/>\r\n    <path clip-path=\"url(#p74fc7bd7d8)\" d=\"M 102.857143 32.39691 \r\nL 150.685714 32.39691 \r\nL 150.685714 33.330129 \r\nL 102.857143 33.330129 \r\nL 102.857143 32.39691 \r\n\" style=\"fill:#440154;\"/>\r\n    <path clip-path=\"url(#p74fc7bd7d8)\" d=\"M 150.685714 32.39691 \r\nL 198.514286 32.39691 \r\nL 198.514286 33.330129 \r\nL 150.685714 33.330129 \r\nL 150.685714 32.39691 \r\n\" style=\"fill:#440154;\"/>\r\n    <path clip-path=\"url(#p74fc7bd7d8)\" d=\"M 198.514286 32.39691 \r\nL 246.342857 32.39691 \r\nL 246.342857 33.330129 \r\nL 198.514286 33.330129 \r\nL 198.514286 32.39691 \r\n\" style=\"fill:#440154;\"/>\r\n    <path clip-path=\"url(#p74fc7bd7d8)\" d=\"M 246.342857 32.39691 \r\nL 294.171429 32.39691 \r\nL 294.171429 33.330129 \r\nL 246.342857 33.330129 \r\nL 246.342857 32.39691 \r\n\" style=\"fill:#440154;\"/>\r\n    <path clip-path=\"url(#p74fc7bd7d8)\" d=\"M 294.171429 32.39691 \r\nL 342 32.39691 \r\nL 342 33.330129 \r\nL 294.171429 33.330129 \r\nL 294.171429 32.39691 \r\n\" style=\"fill:#440154;\"/>\r\n    <path clip-path=\"url(#p74fc7bd7d8)\" d=\"M 7.2 33.330129 \r\nL 55.028571 33.330129 \r\nL 55.028571 34.263348 \r\nL 7.2 34.263348 \r\nL 7.2 33.330129 \r\n\" style=\"fill:#440154;\"/>\r\n    <path clip-path=\"url(#p74fc7bd7d8)\" d=\"M 55.028571 33.330129 \r\nL 102.857143 33.330129 \r\nL 102.857143 34.263348 \r\nL 55.028571 34.263348 \r\nL 55.028571 33.330129 \r\n\" style=\"fill:#440154;\"/>\r\n    <path clip-path=\"url(#p74fc7bd7d8)\" d=\"M 102.857143 33.330129 \r\nL 150.685714 33.330129 \r\nL 150.685714 34.263348 \r\nL 102.857143 34.263348 \r\nL 102.857143 33.330129 \r\n\" style=\"fill:#440154;\"/>\r\n    <path clip-path=\"url(#p74fc7bd7d8)\" d=\"M 150.685714 33.330129 \r\nL 198.514286 33.330129 \r\nL 198.514286 34.263348 \r\nL 150.685714 34.263348 \r\nL 150.685714 33.330129 \r\n\" style=\"fill:#440154;\"/>\r\n    <path clip-path=\"url(#p74fc7bd7d8)\" d=\"M 198.514286 33.330129 \r\nL 246.342857 33.330129 \r\nL 246.342857 34.263348 \r\nL 198.514286 34.263348 \r\nL 198.514286 33.330129 \r\n\" style=\"fill:#fde725;\"/>\r\n    <path clip-path=\"url(#p74fc7bd7d8)\" d=\"M 246.342857 33.330129 \r\nL 294.171429 33.330129 \r\nL 294.171429 34.263348 \r\nL 246.342857 34.263348 \r\nL 246.342857 33.330129 \r\n\" style=\"fill:#440154;\"/>\r\n    <path clip-path=\"url(#p74fc7bd7d8)\" d=\"M 294.171429 33.330129 \r\nL 342 33.330129 \r\nL 342 34.263348 \r\nL 294.171429 34.263348 \r\nL 294.171429 33.330129 \r\n\" style=\"fill:#440154;\"/>\r\n    <path clip-path=\"url(#p74fc7bd7d8)\" d=\"M 7.2 34.263348 \r\nL 55.028571 34.263348 \r\nL 55.028571 35.196567 \r\nL 7.2 35.196567 \r\nL 7.2 34.263348 \r\n\" style=\"fill:#440154;\"/>\r\n    <path clip-path=\"url(#p74fc7bd7d8)\" d=\"M 55.028571 34.263348 \r\nL 102.857143 34.263348 \r\nL 102.857143 35.196567 \r\nL 55.028571 35.196567 \r\nL 55.028571 34.263348 \r\n\" style=\"fill:#fde725;\"/>\r\n    <path clip-path=\"url(#p74fc7bd7d8)\" d=\"M 102.857143 34.263348 \r\nL 150.685714 34.263348 \r\nL 150.685714 35.196567 \r\nL 102.857143 35.196567 \r\nL 102.857143 34.263348 \r\n\" style=\"fill:#fde725;\"/>\r\n    <path clip-path=\"url(#p74fc7bd7d8)\" d=\"M 150.685714 34.263348 \r\nL 198.514286 34.263348 \r\nL 198.514286 35.196567 \r\nL 150.685714 35.196567 \r\nL 150.685714 34.263348 \r\n\" style=\"fill:#fde725;\"/>\r\n    <path clip-path=\"url(#p74fc7bd7d8)\" d=\"M 198.514286 34.263348 \r\nL 246.342857 34.263348 \r\nL 246.342857 35.196567 \r\nL 198.514286 35.196567 \r\nL 198.514286 34.263348 \r\n\" style=\"fill:#fde725;\"/>\r\n    <path clip-path=\"url(#p74fc7bd7d8)\" d=\"M 246.342857 34.263348 \r\nL 294.171429 34.263348 \r\nL 294.171429 35.196567 \r\nL 246.342857 35.196567 \r\nL 246.342857 34.263348 \r\n\" style=\"fill:#fde725;\"/>\r\n    <path clip-path=\"url(#p74fc7bd7d8)\" d=\"M 294.171429 34.263348 \r\nL 342 34.263348 \r\nL 342 35.196567 \r\nL 294.171429 35.196567 \r\nL 294.171429 34.263348 \r\n\" style=\"fill:#fde725;\"/>\r\n    <path clip-path=\"url(#p74fc7bd7d8)\" d=\"M 7.2 35.196567 \r\nL 55.028571 35.196567 \r\nL 55.028571 36.129785 \r\nL 7.2 36.129785 \r\nL 7.2 35.196567 \r\n\" style=\"fill:#440154;\"/>\r\n    <path clip-path=\"url(#p74fc7bd7d8)\" d=\"M 55.028571 35.196567 \r\nL 102.857143 35.196567 \r\nL 102.857143 36.129785 \r\nL 55.028571 36.129785 \r\nL 55.028571 35.196567 \r\n\" style=\"fill:#fde725;\"/>\r\n    <path clip-path=\"url(#p74fc7bd7d8)\" d=\"M 102.857143 35.196567 \r\nL 150.685714 35.196567 \r\nL 150.685714 36.129785 \r\nL 102.857143 36.129785 \r\nL 102.857143 35.196567 \r\n\" style=\"fill:#fde725;\"/>\r\n    <path clip-path=\"url(#p74fc7bd7d8)\" d=\"M 150.685714 35.196567 \r\nL 198.514286 35.196567 \r\nL 198.514286 36.129785 \r\nL 150.685714 36.129785 \r\nL 150.685714 35.196567 \r\n\" style=\"fill:#fde725;\"/>\r\n    <path clip-path=\"url(#p74fc7bd7d8)\" d=\"M 198.514286 35.196567 \r\nL 246.342857 35.196567 \r\nL 246.342857 36.129785 \r\nL 198.514286 36.129785 \r\nL 198.514286 35.196567 \r\n\" style=\"fill:#fde725;\"/>\r\n    <path clip-path=\"url(#p74fc7bd7d8)\" d=\"M 246.342857 35.196567 \r\nL 294.171429 35.196567 \r\nL 294.171429 36.129785 \r\nL 246.342857 36.129785 \r\nL 246.342857 35.196567 \r\n\" style=\"fill:#fde725;\"/>\r\n    <path clip-path=\"url(#p74fc7bd7d8)\" d=\"M 294.171429 35.196567 \r\nL 342 35.196567 \r\nL 342 36.129785 \r\nL 294.171429 36.129785 \r\nL 294.171429 35.196567 \r\n\" style=\"fill:#fde725;\"/>\r\n    <path clip-path=\"url(#p74fc7bd7d8)\" d=\"M 7.2 36.129785 \r\nL 55.028571 36.129785 \r\nL 55.028571 37.063004 \r\nL 7.2 37.063004 \r\nL 7.2 36.129785 \r\n\" style=\"fill:#440154;\"/>\r\n    <path clip-path=\"url(#p74fc7bd7d8)\" d=\"M 55.028571 36.129785 \r\nL 102.857143 36.129785 \r\nL 102.857143 37.063004 \r\nL 55.028571 37.063004 \r\nL 55.028571 36.129785 \r\n\" style=\"fill:#fde725;\"/>\r\n    <path clip-path=\"url(#p74fc7bd7d8)\" d=\"M 102.857143 36.129785 \r\nL 150.685714 36.129785 \r\nL 150.685714 37.063004 \r\nL 102.857143 37.063004 \r\nL 102.857143 36.129785 \r\n\" style=\"fill:#fde725;\"/>\r\n    <path clip-path=\"url(#p74fc7bd7d8)\" d=\"M 150.685714 36.129785 \r\nL 198.514286 36.129785 \r\nL 198.514286 37.063004 \r\nL 150.685714 37.063004 \r\nL 150.685714 36.129785 \r\n\" style=\"fill:#fde725;\"/>\r\n    <path clip-path=\"url(#p74fc7bd7d8)\" d=\"M 198.514286 36.129785 \r\nL 246.342857 36.129785 \r\nL 246.342857 37.063004 \r\nL 198.514286 37.063004 \r\nL 198.514286 36.129785 \r\n\" style=\"fill:#fde725;\"/>\r\n    <path clip-path=\"url(#p74fc7bd7d8)\" d=\"M 246.342857 36.129785 \r\nL 294.171429 36.129785 \r\nL 294.171429 37.063004 \r\nL 246.342857 37.063004 \r\nL 246.342857 36.129785 \r\n\" style=\"fill:#fde725;\"/>\r\n    <path clip-path=\"url(#p74fc7bd7d8)\" d=\"M 294.171429 36.129785 \r\nL 342 36.129785 \r\nL 342 37.063004 \r\nL 294.171429 37.063004 \r\nL 294.171429 36.129785 \r\n\" style=\"fill:#fde725;\"/>\r\n    <path clip-path=\"url(#p74fc7bd7d8)\" d=\"M 7.2 37.063004 \r\nL 55.028571 37.063004 \r\nL 55.028571 37.996223 \r\nL 7.2 37.996223 \r\nL 7.2 37.063004 \r\n\" style=\"fill:#440154;\"/>\r\n    <path clip-path=\"url(#p74fc7bd7d8)\" d=\"M 55.028571 37.063004 \r\nL 102.857143 37.063004 \r\nL 102.857143 37.996223 \r\nL 55.028571 37.996223 \r\nL 55.028571 37.063004 \r\n\" style=\"fill:#fde725;\"/>\r\n    <path clip-path=\"url(#p74fc7bd7d8)\" d=\"M 102.857143 37.063004 \r\nL 150.685714 37.063004 \r\nL 150.685714 37.996223 \r\nL 102.857143 37.996223 \r\nL 102.857143 37.063004 \r\n\" style=\"fill:#fde725;\"/>\r\n    <path clip-path=\"url(#p74fc7bd7d8)\" d=\"M 150.685714 37.063004 \r\nL 198.514286 37.063004 \r\nL 198.514286 37.996223 \r\nL 150.685714 37.996223 \r\nL 150.685714 37.063004 \r\n\" style=\"fill:#fde725;\"/>\r\n    <path clip-path=\"url(#p74fc7bd7d8)\" d=\"M 198.514286 37.063004 \r\nL 246.342857 37.063004 \r\nL 246.342857 37.996223 \r\nL 198.514286 37.996223 \r\nL 198.514286 37.063004 \r\n\" style=\"fill:#fde725;\"/>\r\n    <path clip-path=\"url(#p74fc7bd7d8)\" d=\"M 246.342857 37.063004 \r\nL 294.171429 37.063004 \r\nL 294.171429 37.996223 \r\nL 246.342857 37.996223 \r\nL 246.342857 37.063004 \r\n\" style=\"fill:#fde725;\"/>\r\n    <path clip-path=\"url(#p74fc7bd7d8)\" d=\"M 294.171429 37.063004 \r\nL 342 37.063004 \r\nL 342 37.996223 \r\nL 294.171429 37.996223 \r\nL 294.171429 37.063004 \r\n\" style=\"fill:#fde725;\"/>\r\n    <path clip-path=\"url(#p74fc7bd7d8)\" d=\"M 7.2 37.996223 \r\nL 55.028571 37.996223 \r\nL 55.028571 38.929442 \r\nL 7.2 38.929442 \r\nL 7.2 37.996223 \r\n\" style=\"fill:#440154;\"/>\r\n    <path clip-path=\"url(#p74fc7bd7d8)\" d=\"M 55.028571 37.996223 \r\nL 102.857143 37.996223 \r\nL 102.857143 38.929442 \r\nL 55.028571 38.929442 \r\nL 55.028571 37.996223 \r\n\" style=\"fill:#440154;\"/>\r\n    <path clip-path=\"url(#p74fc7bd7d8)\" d=\"M 102.857143 37.996223 \r\nL 150.685714 37.996223 \r\nL 150.685714 38.929442 \r\nL 102.857143 38.929442 \r\nL 102.857143 37.996223 \r\n\" style=\"fill:#440154;\"/>\r\n    <path clip-path=\"url(#p74fc7bd7d8)\" d=\"M 150.685714 37.996223 \r\nL 198.514286 37.996223 \r\nL 198.514286 38.929442 \r\nL 150.685714 38.929442 \r\nL 150.685714 37.996223 \r\n\" style=\"fill:#440154;\"/>\r\n    <path clip-path=\"url(#p74fc7bd7d8)\" d=\"M 198.514286 37.996223 \r\nL 246.342857 37.996223 \r\nL 246.342857 38.929442 \r\nL 198.514286 38.929442 \r\nL 198.514286 37.996223 \r\n\" style=\"fill:#440154;\"/>\r\n    <path clip-path=\"url(#p74fc7bd7d8)\" d=\"M 246.342857 37.996223 \r\nL 294.171429 37.996223 \r\nL 294.171429 38.929442 \r\nL 246.342857 38.929442 \r\nL 246.342857 37.996223 \r\n\" style=\"fill:#440154;\"/>\r\n    <path clip-path=\"url(#p74fc7bd7d8)\" d=\"M 294.171429 37.996223 \r\nL 342 37.996223 \r\nL 342 38.929442 \r\nL 294.171429 38.929442 \r\nL 294.171429 37.996223 \r\n\" style=\"fill:#440154;\"/>\r\n    <path clip-path=\"url(#p74fc7bd7d8)\" d=\"M 7.2 38.929442 \r\nL 55.028571 38.929442 \r\nL 55.028571 39.862661 \r\nL 7.2 39.862661 \r\nL 7.2 38.929442 \r\n\" style=\"fill:#440154;\"/>\r\n    <path clip-path=\"url(#p74fc7bd7d8)\" d=\"M 55.028571 38.929442 \r\nL 102.857143 38.929442 \r\nL 102.857143 39.862661 \r\nL 55.028571 39.862661 \r\nL 55.028571 38.929442 \r\n\" style=\"fill:#440154;\"/>\r\n    <path clip-path=\"url(#p74fc7bd7d8)\" d=\"M 102.857143 38.929442 \r\nL 150.685714 38.929442 \r\nL 150.685714 39.862661 \r\nL 102.857143 39.862661 \r\nL 102.857143 38.929442 \r\n\" style=\"fill:#440154;\"/>\r\n    <path clip-path=\"url(#p74fc7bd7d8)\" d=\"M 150.685714 38.929442 \r\nL 198.514286 38.929442 \r\nL 198.514286 39.862661 \r\nL 150.685714 39.862661 \r\nL 150.685714 38.929442 \r\n\" style=\"fill:#440154;\"/>\r\n    <path clip-path=\"url(#p74fc7bd7d8)\" d=\"M 198.514286 38.929442 \r\nL 246.342857 38.929442 \r\nL 246.342857 39.862661 \r\nL 198.514286 39.862661 \r\nL 198.514286 38.929442 \r\n\" style=\"fill:#440154;\"/>\r\n    <path clip-path=\"url(#p74fc7bd7d8)\" d=\"M 246.342857 38.929442 \r\nL 294.171429 38.929442 \r\nL 294.171429 39.862661 \r\nL 246.342857 39.862661 \r\nL 246.342857 38.929442 \r\n\" style=\"fill:#440154;\"/>\r\n    <path clip-path=\"url(#p74fc7bd7d8)\" d=\"M 294.171429 38.929442 \r\nL 342 38.929442 \r\nL 342 39.862661 \r\nL 294.171429 39.862661 \r\nL 294.171429 38.929442 \r\n\" style=\"fill:#440154;\"/>\r\n    <path clip-path=\"url(#p74fc7bd7d8)\" d=\"M 7.2 39.862661 \r\nL 55.028571 39.862661 \r\nL 55.028571 40.79588 \r\nL 7.2 40.79588 \r\nL 7.2 39.862661 \r\n\" style=\"fill:#440154;\"/>\r\n    <path clip-path=\"url(#p74fc7bd7d8)\" d=\"M 55.028571 39.862661 \r\nL 102.857143 39.862661 \r\nL 102.857143 40.79588 \r\nL 55.028571 40.79588 \r\nL 55.028571 39.862661 \r\n\" style=\"fill:#440154;\"/>\r\n    <path clip-path=\"url(#p74fc7bd7d8)\" d=\"M 102.857143 39.862661 \r\nL 150.685714 39.862661 \r\nL 150.685714 40.79588 \r\nL 102.857143 40.79588 \r\nL 102.857143 39.862661 \r\n\" style=\"fill:#440154;\"/>\r\n    <path clip-path=\"url(#p74fc7bd7d8)\" d=\"M 150.685714 39.862661 \r\nL 198.514286 39.862661 \r\nL 198.514286 40.79588 \r\nL 150.685714 40.79588 \r\nL 150.685714 39.862661 \r\n\" style=\"fill:#440154;\"/>\r\n    <path clip-path=\"url(#p74fc7bd7d8)\" d=\"M 198.514286 39.862661 \r\nL 246.342857 39.862661 \r\nL 246.342857 40.79588 \r\nL 198.514286 40.79588 \r\nL 198.514286 39.862661 \r\n\" style=\"fill:#440154;\"/>\r\n    <path clip-path=\"url(#p74fc7bd7d8)\" d=\"M 246.342857 39.862661 \r\nL 294.171429 39.862661 \r\nL 294.171429 40.79588 \r\nL 246.342857 40.79588 \r\nL 246.342857 39.862661 \r\n\" style=\"fill:#440154;\"/>\r\n    <path clip-path=\"url(#p74fc7bd7d8)\" d=\"M 294.171429 39.862661 \r\nL 342 39.862661 \r\nL 342 40.79588 \r\nL 294.171429 40.79588 \r\nL 294.171429 39.862661 \r\n\" style=\"fill:#fde725;\"/>\r\n    <path clip-path=\"url(#p74fc7bd7d8)\" d=\"M 7.2 40.79588 \r\nL 55.028571 40.79588 \r\nL 55.028571 41.729099 \r\nL 7.2 41.729099 \r\nL 7.2 40.79588 \r\n\" style=\"fill:#440154;\"/>\r\n    <path clip-path=\"url(#p74fc7bd7d8)\" d=\"M 55.028571 40.79588 \r\nL 102.857143 40.79588 \r\nL 102.857143 41.729099 \r\nL 55.028571 41.729099 \r\nL 55.028571 40.79588 \r\n\" style=\"fill:#440154;\"/>\r\n    <path clip-path=\"url(#p74fc7bd7d8)\" d=\"M 102.857143 40.79588 \r\nL 150.685714 40.79588 \r\nL 150.685714 41.729099 \r\nL 102.857143 41.729099 \r\nL 102.857143 40.79588 \r\n\" style=\"fill:#440154;\"/>\r\n    <path clip-path=\"url(#p74fc7bd7d8)\" d=\"M 150.685714 40.79588 \r\nL 198.514286 40.79588 \r\nL 198.514286 41.729099 \r\nL 150.685714 41.729099 \r\nL 150.685714 40.79588 \r\n\" style=\"fill:#440154;\"/>\r\n    <path clip-path=\"url(#p74fc7bd7d8)\" d=\"M 198.514286 40.79588 \r\nL 246.342857 40.79588 \r\nL 246.342857 41.729099 \r\nL 198.514286 41.729099 \r\nL 198.514286 40.79588 \r\n\" style=\"fill:#440154;\"/>\r\n    <path clip-path=\"url(#p74fc7bd7d8)\" d=\"M 246.342857 40.79588 \r\nL 294.171429 40.79588 \r\nL 294.171429 41.729099 \r\nL 246.342857 41.729099 \r\nL 246.342857 40.79588 \r\n\" style=\"fill:#440154;\"/>\r\n    <path clip-path=\"url(#p74fc7bd7d8)\" d=\"M 294.171429 40.79588 \r\nL 342 40.79588 \r\nL 342 41.729099 \r\nL 294.171429 41.729099 \r\nL 294.171429 40.79588 \r\n\" style=\"fill:#440154;\"/>\r\n    <path clip-path=\"url(#p74fc7bd7d8)\" d=\"M 7.2 41.729099 \r\nL 55.028571 41.729099 \r\nL 55.028571 42.662318 \r\nL 7.2 42.662318 \r\nL 7.2 41.729099 \r\n\" style=\"fill:#440154;\"/>\r\n    <path clip-path=\"url(#p74fc7bd7d8)\" d=\"M 55.028571 41.729099 \r\nL 102.857143 41.729099 \r\nL 102.857143 42.662318 \r\nL 55.028571 42.662318 \r\nL 55.028571 41.729099 \r\n\" style=\"fill:#440154;\"/>\r\n    <path clip-path=\"url(#p74fc7bd7d8)\" d=\"M 102.857143 41.729099 \r\nL 150.685714 41.729099 \r\nL 150.685714 42.662318 \r\nL 102.857143 42.662318 \r\nL 102.857143 41.729099 \r\n\" style=\"fill:#440154;\"/>\r\n    <path clip-path=\"url(#p74fc7bd7d8)\" d=\"M 150.685714 41.729099 \r\nL 198.514286 41.729099 \r\nL 198.514286 42.662318 \r\nL 150.685714 42.662318 \r\nL 150.685714 41.729099 \r\n\" style=\"fill:#440154;\"/>\r\n    <path clip-path=\"url(#p74fc7bd7d8)\" d=\"M 198.514286 41.729099 \r\nL 246.342857 41.729099 \r\nL 246.342857 42.662318 \r\nL 198.514286 42.662318 \r\nL 198.514286 41.729099 \r\n\" style=\"fill:#440154;\"/>\r\n    <path clip-path=\"url(#p74fc7bd7d8)\" d=\"M 246.342857 41.729099 \r\nL 294.171429 41.729099 \r\nL 294.171429 42.662318 \r\nL 246.342857 42.662318 \r\nL 246.342857 41.729099 \r\n\" style=\"fill:#440154;\"/>\r\n    <path clip-path=\"url(#p74fc7bd7d8)\" d=\"M 294.171429 41.729099 \r\nL 342 41.729099 \r\nL 342 42.662318 \r\nL 294.171429 42.662318 \r\nL 294.171429 41.729099 \r\n\" style=\"fill:#fde725;\"/>\r\n    <path clip-path=\"url(#p74fc7bd7d8)\" d=\"M 7.2 42.662318 \r\nL 55.028571 42.662318 \r\nL 55.028571 43.595536 \r\nL 7.2 43.595536 \r\nL 7.2 42.662318 \r\n\" style=\"fill:#440154;\"/>\r\n    <path clip-path=\"url(#p74fc7bd7d8)\" d=\"M 55.028571 42.662318 \r\nL 102.857143 42.662318 \r\nL 102.857143 43.595536 \r\nL 55.028571 43.595536 \r\nL 55.028571 42.662318 \r\n\" style=\"fill:#440154;\"/>\r\n    <path clip-path=\"url(#p74fc7bd7d8)\" d=\"M 102.857143 42.662318 \r\nL 150.685714 42.662318 \r\nL 150.685714 43.595536 \r\nL 102.857143 43.595536 \r\nL 102.857143 42.662318 \r\n\" style=\"fill:#440154;\"/>\r\n    <path clip-path=\"url(#p74fc7bd7d8)\" d=\"M 150.685714 42.662318 \r\nL 198.514286 42.662318 \r\nL 198.514286 43.595536 \r\nL 150.685714 43.595536 \r\nL 150.685714 42.662318 \r\n\" style=\"fill:#440154;\"/>\r\n    <path clip-path=\"url(#p74fc7bd7d8)\" d=\"M 198.514286 42.662318 \r\nL 246.342857 42.662318 \r\nL 246.342857 43.595536 \r\nL 198.514286 43.595536 \r\nL 198.514286 42.662318 \r\n\" style=\"fill:#440154;\"/>\r\n    <path clip-path=\"url(#p74fc7bd7d8)\" d=\"M 246.342857 42.662318 \r\nL 294.171429 42.662318 \r\nL 294.171429 43.595536 \r\nL 246.342857 43.595536 \r\nL 246.342857 42.662318 \r\n\" style=\"fill:#440154;\"/>\r\n    <path clip-path=\"url(#p74fc7bd7d8)\" d=\"M 294.171429 42.662318 \r\nL 342 42.662318 \r\nL 342 43.595536 \r\nL 294.171429 43.595536 \r\nL 294.171429 42.662318 \r\n\" style=\"fill:#fde725;\"/>\r\n    <path clip-path=\"url(#p74fc7bd7d8)\" d=\"M 7.2 43.595536 \r\nL 55.028571 43.595536 \r\nL 55.028571 44.528755 \r\nL 7.2 44.528755 \r\nL 7.2 43.595536 \r\n\" style=\"fill:#440154;\"/>\r\n    <path clip-path=\"url(#p74fc7bd7d8)\" d=\"M 55.028571 43.595536 \r\nL 102.857143 43.595536 \r\nL 102.857143 44.528755 \r\nL 55.028571 44.528755 \r\nL 55.028571 43.595536 \r\n\" style=\"fill:#440154;\"/>\r\n    <path clip-path=\"url(#p74fc7bd7d8)\" d=\"M 102.857143 43.595536 \r\nL 150.685714 43.595536 \r\nL 150.685714 44.528755 \r\nL 102.857143 44.528755 \r\nL 102.857143 43.595536 \r\n\" style=\"fill:#440154;\"/>\r\n    <path clip-path=\"url(#p74fc7bd7d8)\" d=\"M 150.685714 43.595536 \r\nL 198.514286 43.595536 \r\nL 198.514286 44.528755 \r\nL 150.685714 44.528755 \r\nL 150.685714 43.595536 \r\n\" style=\"fill:#440154;\"/>\r\n    <path clip-path=\"url(#p74fc7bd7d8)\" d=\"M 198.514286 43.595536 \r\nL 246.342857 43.595536 \r\nL 246.342857 44.528755 \r\nL 198.514286 44.528755 \r\nL 198.514286 43.595536 \r\n\" style=\"fill:#fde725;\"/>\r\n    <path clip-path=\"url(#p74fc7bd7d8)\" d=\"M 246.342857 43.595536 \r\nL 294.171429 43.595536 \r\nL 294.171429 44.528755 \r\nL 246.342857 44.528755 \r\nL 246.342857 43.595536 \r\n\" style=\"fill:#440154;\"/>\r\n    <path clip-path=\"url(#p74fc7bd7d8)\" d=\"M 294.171429 43.595536 \r\nL 342 43.595536 \r\nL 342 44.528755 \r\nL 294.171429 44.528755 \r\nL 294.171429 43.595536 \r\n\" style=\"fill:#440154;\"/>\r\n    <path clip-path=\"url(#p74fc7bd7d8)\" d=\"M 7.2 44.528755 \r\nL 55.028571 44.528755 \r\nL 55.028571 45.461974 \r\nL 7.2 45.461974 \r\nL 7.2 44.528755 \r\n\" style=\"fill:#440154;\"/>\r\n    <path clip-path=\"url(#p74fc7bd7d8)\" d=\"M 55.028571 44.528755 \r\nL 102.857143 44.528755 \r\nL 102.857143 45.461974 \r\nL 55.028571 45.461974 \r\nL 55.028571 44.528755 \r\n\" style=\"fill:#440154;\"/>\r\n    <path clip-path=\"url(#p74fc7bd7d8)\" d=\"M 102.857143 44.528755 \r\nL 150.685714 44.528755 \r\nL 150.685714 45.461974 \r\nL 102.857143 45.461974 \r\nL 102.857143 44.528755 \r\n\" style=\"fill:#440154;\"/>\r\n    <path clip-path=\"url(#p74fc7bd7d8)\" d=\"M 150.685714 44.528755 \r\nL 198.514286 44.528755 \r\nL 198.514286 45.461974 \r\nL 150.685714 45.461974 \r\nL 150.685714 44.528755 \r\n\" style=\"fill:#440154;\"/>\r\n    <path clip-path=\"url(#p74fc7bd7d8)\" d=\"M 198.514286 44.528755 \r\nL 246.342857 44.528755 \r\nL 246.342857 45.461974 \r\nL 198.514286 45.461974 \r\nL 198.514286 44.528755 \r\n\" style=\"fill:#440154;\"/>\r\n    <path clip-path=\"url(#p74fc7bd7d8)\" d=\"M 246.342857 44.528755 \r\nL 294.171429 44.528755 \r\nL 294.171429 45.461974 \r\nL 246.342857 45.461974 \r\nL 246.342857 44.528755 \r\n\" style=\"fill:#fde725;\"/>\r\n    <path clip-path=\"url(#p74fc7bd7d8)\" d=\"M 294.171429 44.528755 \r\nL 342 44.528755 \r\nL 342 45.461974 \r\nL 294.171429 45.461974 \r\nL 294.171429 44.528755 \r\n\" style=\"fill:#fde725;\"/>\r\n    <path clip-path=\"url(#p74fc7bd7d8)\" d=\"M 7.2 45.461974 \r\nL 55.028571 45.461974 \r\nL 55.028571 46.395193 \r\nL 7.2 46.395193 \r\nL 7.2 45.461974 \r\n\" style=\"fill:#440154;\"/>\r\n    <path clip-path=\"url(#p74fc7bd7d8)\" d=\"M 55.028571 45.461974 \r\nL 102.857143 45.461974 \r\nL 102.857143 46.395193 \r\nL 55.028571 46.395193 \r\nL 55.028571 45.461974 \r\n\" style=\"fill:#440154;\"/>\r\n    <path clip-path=\"url(#p74fc7bd7d8)\" d=\"M 102.857143 45.461974 \r\nL 150.685714 45.461974 \r\nL 150.685714 46.395193 \r\nL 102.857143 46.395193 \r\nL 102.857143 45.461974 \r\n\" style=\"fill:#440154;\"/>\r\n    <path clip-path=\"url(#p74fc7bd7d8)\" d=\"M 150.685714 45.461974 \r\nL 198.514286 45.461974 \r\nL 198.514286 46.395193 \r\nL 150.685714 46.395193 \r\nL 150.685714 45.461974 \r\n\" style=\"fill:#440154;\"/>\r\n    <path clip-path=\"url(#p74fc7bd7d8)\" d=\"M 198.514286 45.461974 \r\nL 246.342857 45.461974 \r\nL 246.342857 46.395193 \r\nL 198.514286 46.395193 \r\nL 198.514286 45.461974 \r\n\" style=\"fill:#440154;\"/>\r\n    <path clip-path=\"url(#p74fc7bd7d8)\" d=\"M 246.342857 45.461974 \r\nL 294.171429 45.461974 \r\nL 294.171429 46.395193 \r\nL 246.342857 46.395193 \r\nL 246.342857 45.461974 \r\n\" style=\"fill:#440154;\"/>\r\n    <path clip-path=\"url(#p74fc7bd7d8)\" d=\"M 294.171429 45.461974 \r\nL 342 45.461974 \r\nL 342 46.395193 \r\nL 294.171429 46.395193 \r\nL 294.171429 45.461974 \r\n\" style=\"fill:#440154;\"/>\r\n    <path clip-path=\"url(#p74fc7bd7d8)\" d=\"M 7.2 46.395193 \r\nL 55.028571 46.395193 \r\nL 55.028571 47.328412 \r\nL 7.2 47.328412 \r\nL 7.2 46.395193 \r\n\" style=\"fill:#440154;\"/>\r\n    <path clip-path=\"url(#p74fc7bd7d8)\" d=\"M 55.028571 46.395193 \r\nL 102.857143 46.395193 \r\nL 102.857143 47.328412 \r\nL 55.028571 47.328412 \r\nL 55.028571 46.395193 \r\n\" style=\"fill:#440154;\"/>\r\n    <path clip-path=\"url(#p74fc7bd7d8)\" d=\"M 102.857143 46.395193 \r\nL 150.685714 46.395193 \r\nL 150.685714 47.328412 \r\nL 102.857143 47.328412 \r\nL 102.857143 46.395193 \r\n\" style=\"fill:#440154;\"/>\r\n    <path clip-path=\"url(#p74fc7bd7d8)\" d=\"M 150.685714 46.395193 \r\nL 198.514286 46.395193 \r\nL 198.514286 47.328412 \r\nL 150.685714 47.328412 \r\nL 150.685714 46.395193 \r\n\" style=\"fill:#440154;\"/>\r\n    <path clip-path=\"url(#p74fc7bd7d8)\" d=\"M 198.514286 46.395193 \r\nL 246.342857 46.395193 \r\nL 246.342857 47.328412 \r\nL 198.514286 47.328412 \r\nL 198.514286 46.395193 \r\n\" style=\"fill:#440154;\"/>\r\n    <path clip-path=\"url(#p74fc7bd7d8)\" d=\"M 246.342857 46.395193 \r\nL 294.171429 46.395193 \r\nL 294.171429 47.328412 \r\nL 246.342857 47.328412 \r\nL 246.342857 46.395193 \r\n\" style=\"fill:#440154;\"/>\r\n    <path clip-path=\"url(#p74fc7bd7d8)\" d=\"M 294.171429 46.395193 \r\nL 342 46.395193 \r\nL 342 47.328412 \r\nL 294.171429 47.328412 \r\nL 294.171429 46.395193 \r\n\" style=\"fill:#fde725;\"/>\r\n    <path clip-path=\"url(#p74fc7bd7d8)\" d=\"M 7.2 47.328412 \r\nL 55.028571 47.328412 \r\nL 55.028571 48.261631 \r\nL 7.2 48.261631 \r\nL 7.2 47.328412 \r\n\" style=\"fill:#440154;\"/>\r\n    <path clip-path=\"url(#p74fc7bd7d8)\" d=\"M 55.028571 47.328412 \r\nL 102.857143 47.328412 \r\nL 102.857143 48.261631 \r\nL 55.028571 48.261631 \r\nL 55.028571 47.328412 \r\n\" style=\"fill:#fde725;\"/>\r\n    <path clip-path=\"url(#p74fc7bd7d8)\" d=\"M 102.857143 47.328412 \r\nL 150.685714 47.328412 \r\nL 150.685714 48.261631 \r\nL 102.857143 48.261631 \r\nL 102.857143 47.328412 \r\n\" style=\"fill:#fde725;\"/>\r\n    <path clip-path=\"url(#p74fc7bd7d8)\" d=\"M 150.685714 47.328412 \r\nL 198.514286 47.328412 \r\nL 198.514286 48.261631 \r\nL 150.685714 48.261631 \r\nL 150.685714 47.328412 \r\n\" style=\"fill:#fde725;\"/>\r\n    <path clip-path=\"url(#p74fc7bd7d8)\" d=\"M 198.514286 47.328412 \r\nL 246.342857 47.328412 \r\nL 246.342857 48.261631 \r\nL 198.514286 48.261631 \r\nL 198.514286 47.328412 \r\n\" style=\"fill:#fde725;\"/>\r\n    <path clip-path=\"url(#p74fc7bd7d8)\" d=\"M 246.342857 47.328412 \r\nL 294.171429 47.328412 \r\nL 294.171429 48.261631 \r\nL 246.342857 48.261631 \r\nL 246.342857 47.328412 \r\n\" style=\"fill:#fde725;\"/>\r\n    <path clip-path=\"url(#p74fc7bd7d8)\" d=\"M 294.171429 47.328412 \r\nL 342 47.328412 \r\nL 342 48.261631 \r\nL 294.171429 48.261631 \r\nL 294.171429 47.328412 \r\n\" style=\"fill:#fde725;\"/>\r\n    <path clip-path=\"url(#p74fc7bd7d8)\" d=\"M 7.2 48.261631 \r\nL 55.028571 48.261631 \r\nL 55.028571 49.19485 \r\nL 7.2 49.19485 \r\nL 7.2 48.261631 \r\n\" style=\"fill:#440154;\"/>\r\n    <path clip-path=\"url(#p74fc7bd7d8)\" d=\"M 55.028571 48.261631 \r\nL 102.857143 48.261631 \r\nL 102.857143 49.19485 \r\nL 55.028571 49.19485 \r\nL 55.028571 48.261631 \r\n\" style=\"fill:#440154;\"/>\r\n    <path clip-path=\"url(#p74fc7bd7d8)\" d=\"M 102.857143 48.261631 \r\nL 150.685714 48.261631 \r\nL 150.685714 49.19485 \r\nL 102.857143 49.19485 \r\nL 102.857143 48.261631 \r\n\" style=\"fill:#440154;\"/>\r\n    <path clip-path=\"url(#p74fc7bd7d8)\" d=\"M 150.685714 48.261631 \r\nL 198.514286 48.261631 \r\nL 198.514286 49.19485 \r\nL 150.685714 49.19485 \r\nL 150.685714 48.261631 \r\n\" style=\"fill:#440154;\"/>\r\n    <path clip-path=\"url(#p74fc7bd7d8)\" d=\"M 198.514286 48.261631 \r\nL 246.342857 48.261631 \r\nL 246.342857 49.19485 \r\nL 198.514286 49.19485 \r\nL 198.514286 48.261631 \r\n\" style=\"fill:#440154;\"/>\r\n    <path clip-path=\"url(#p74fc7bd7d8)\" d=\"M 246.342857 48.261631 \r\nL 294.171429 48.261631 \r\nL 294.171429 49.19485 \r\nL 246.342857 49.19485 \r\nL 246.342857 48.261631 \r\n\" style=\"fill:#440154;\"/>\r\n    <path clip-path=\"url(#p74fc7bd7d8)\" d=\"M 294.171429 48.261631 \r\nL 342 48.261631 \r\nL 342 49.19485 \r\nL 294.171429 49.19485 \r\nL 294.171429 48.261631 \r\n\" style=\"fill:#440154;\"/>\r\n    <path clip-path=\"url(#p74fc7bd7d8)\" d=\"M 7.2 49.19485 \r\nL 55.028571 49.19485 \r\nL 55.028571 50.128069 \r\nL 7.2 50.128069 \r\nL 7.2 49.19485 \r\n\" style=\"fill:#440154;\"/>\r\n    <path clip-path=\"url(#p74fc7bd7d8)\" d=\"M 55.028571 49.19485 \r\nL 102.857143 49.19485 \r\nL 102.857143 50.128069 \r\nL 55.028571 50.128069 \r\nL 55.028571 49.19485 \r\n\" style=\"fill:#440154;\"/>\r\n    <path clip-path=\"url(#p74fc7bd7d8)\" d=\"M 102.857143 49.19485 \r\nL 150.685714 49.19485 \r\nL 150.685714 50.128069 \r\nL 102.857143 50.128069 \r\nL 102.857143 49.19485 \r\n\" style=\"fill:#440154;\"/>\r\n    <path clip-path=\"url(#p74fc7bd7d8)\" d=\"M 150.685714 49.19485 \r\nL 198.514286 49.19485 \r\nL 198.514286 50.128069 \r\nL 150.685714 50.128069 \r\nL 150.685714 49.19485 \r\n\" style=\"fill:#440154;\"/>\r\n    <path clip-path=\"url(#p74fc7bd7d8)\" d=\"M 198.514286 49.19485 \r\nL 246.342857 49.19485 \r\nL 246.342857 50.128069 \r\nL 198.514286 50.128069 \r\nL 198.514286 49.19485 \r\n\" style=\"fill:#440154;\"/>\r\n    <path clip-path=\"url(#p74fc7bd7d8)\" d=\"M 246.342857 49.19485 \r\nL 294.171429 49.19485 \r\nL 294.171429 50.128069 \r\nL 246.342857 50.128069 \r\nL 246.342857 49.19485 \r\n\" style=\"fill:#440154;\"/>\r\n    <path clip-path=\"url(#p74fc7bd7d8)\" d=\"M 294.171429 49.19485 \r\nL 342 49.19485 \r\nL 342 50.128069 \r\nL 294.171429 50.128069 \r\nL 294.171429 49.19485 \r\n\" style=\"fill:#440154;\"/>\r\n    <path clip-path=\"url(#p74fc7bd7d8)\" d=\"M 7.2 50.128069 \r\nL 55.028571 50.128069 \r\nL 55.028571 51.061288 \r\nL 7.2 51.061288 \r\nL 7.2 50.128069 \r\n\" style=\"fill:#440154;\"/>\r\n    <path clip-path=\"url(#p74fc7bd7d8)\" d=\"M 55.028571 50.128069 \r\nL 102.857143 50.128069 \r\nL 102.857143 51.061288 \r\nL 55.028571 51.061288 \r\nL 55.028571 50.128069 \r\n\" style=\"fill:#fde725;\"/>\r\n    <path clip-path=\"url(#p74fc7bd7d8)\" d=\"M 102.857143 50.128069 \r\nL 150.685714 50.128069 \r\nL 150.685714 51.061288 \r\nL 102.857143 51.061288 \r\nL 102.857143 50.128069 \r\n\" style=\"fill:#fde725;\"/>\r\n    <path clip-path=\"url(#p74fc7bd7d8)\" d=\"M 150.685714 50.128069 \r\nL 198.514286 50.128069 \r\nL 198.514286 51.061288 \r\nL 150.685714 51.061288 \r\nL 150.685714 50.128069 \r\n\" style=\"fill:#fde725;\"/>\r\n    <path clip-path=\"url(#p74fc7bd7d8)\" d=\"M 198.514286 50.128069 \r\nL 246.342857 50.128069 \r\nL 246.342857 51.061288 \r\nL 198.514286 51.061288 \r\nL 198.514286 50.128069 \r\n\" style=\"fill:#fde725;\"/>\r\n    <path clip-path=\"url(#p74fc7bd7d8)\" d=\"M 246.342857 50.128069 \r\nL 294.171429 50.128069 \r\nL 294.171429 51.061288 \r\nL 246.342857 51.061288 \r\nL 246.342857 50.128069 \r\n\" style=\"fill:#fde725;\"/>\r\n    <path clip-path=\"url(#p74fc7bd7d8)\" d=\"M 294.171429 50.128069 \r\nL 342 50.128069 \r\nL 342 51.061288 \r\nL 294.171429 51.061288 \r\nL 294.171429 50.128069 \r\n\" style=\"fill:#fde725;\"/>\r\n    <path clip-path=\"url(#p74fc7bd7d8)\" d=\"M 7.2 51.061288 \r\nL 55.028571 51.061288 \r\nL 55.028571 51.994506 \r\nL 7.2 51.994506 \r\nL 7.2 51.061288 \r\n\" style=\"fill:#440154;\"/>\r\n    <path clip-path=\"url(#p74fc7bd7d8)\" d=\"M 55.028571 51.061288 \r\nL 102.857143 51.061288 \r\nL 102.857143 51.994506 \r\nL 55.028571 51.994506 \r\nL 55.028571 51.061288 \r\n\" style=\"fill:#440154;\"/>\r\n    <path clip-path=\"url(#p74fc7bd7d8)\" d=\"M 102.857143 51.061288 \r\nL 150.685714 51.061288 \r\nL 150.685714 51.994506 \r\nL 102.857143 51.994506 \r\nL 102.857143 51.061288 \r\n\" style=\"fill:#440154;\"/>\r\n    <path clip-path=\"url(#p74fc7bd7d8)\" d=\"M 150.685714 51.061288 \r\nL 198.514286 51.061288 \r\nL 198.514286 51.994506 \r\nL 150.685714 51.994506 \r\nL 150.685714 51.061288 \r\n\" style=\"fill:#440154;\"/>\r\n    <path clip-path=\"url(#p74fc7bd7d8)\" d=\"M 198.514286 51.061288 \r\nL 246.342857 51.061288 \r\nL 246.342857 51.994506 \r\nL 198.514286 51.994506 \r\nL 198.514286 51.061288 \r\n\" style=\"fill:#440154;\"/>\r\n    <path clip-path=\"url(#p74fc7bd7d8)\" d=\"M 246.342857 51.061288 \r\nL 294.171429 51.061288 \r\nL 294.171429 51.994506 \r\nL 246.342857 51.994506 \r\nL 246.342857 51.061288 \r\n\" style=\"fill:#440154;\"/>\r\n    <path clip-path=\"url(#p74fc7bd7d8)\" d=\"M 294.171429 51.061288 \r\nL 342 51.061288 \r\nL 342 51.994506 \r\nL 294.171429 51.994506 \r\nL 294.171429 51.061288 \r\n\" style=\"fill:#fde725;\"/>\r\n    <path clip-path=\"url(#p74fc7bd7d8)\" d=\"M 7.2 51.994506 \r\nL 55.028571 51.994506 \r\nL 55.028571 52.927725 \r\nL 7.2 52.927725 \r\nL 7.2 51.994506 \r\n\" style=\"fill:#440154;\"/>\r\n    <path clip-path=\"url(#p74fc7bd7d8)\" d=\"M 55.028571 51.994506 \r\nL 102.857143 51.994506 \r\nL 102.857143 52.927725 \r\nL 55.028571 52.927725 \r\nL 55.028571 51.994506 \r\n\" style=\"fill:#440154;\"/>\r\n    <path clip-path=\"url(#p74fc7bd7d8)\" d=\"M 102.857143 51.994506 \r\nL 150.685714 51.994506 \r\nL 150.685714 52.927725 \r\nL 102.857143 52.927725 \r\nL 102.857143 51.994506 \r\n\" style=\"fill:#440154;\"/>\r\n    <path clip-path=\"url(#p74fc7bd7d8)\" d=\"M 150.685714 51.994506 \r\nL 198.514286 51.994506 \r\nL 198.514286 52.927725 \r\nL 150.685714 52.927725 \r\nL 150.685714 51.994506 \r\n\" style=\"fill:#440154;\"/>\r\n    <path clip-path=\"url(#p74fc7bd7d8)\" d=\"M 198.514286 51.994506 \r\nL 246.342857 51.994506 \r\nL 246.342857 52.927725 \r\nL 198.514286 52.927725 \r\nL 198.514286 51.994506 \r\n\" style=\"fill:#440154;\"/>\r\n    <path clip-path=\"url(#p74fc7bd7d8)\" d=\"M 246.342857 51.994506 \r\nL 294.171429 51.994506 \r\nL 294.171429 52.927725 \r\nL 246.342857 52.927725 \r\nL 246.342857 51.994506 \r\n\" style=\"fill:#440154;\"/>\r\n    <path clip-path=\"url(#p74fc7bd7d8)\" d=\"M 294.171429 51.994506 \r\nL 342 51.994506 \r\nL 342 52.927725 \r\nL 294.171429 52.927725 \r\nL 294.171429 51.994506 \r\n\" style=\"fill:#fde725;\"/>\r\n    <path clip-path=\"url(#p74fc7bd7d8)\" d=\"M 7.2 52.927725 \r\nL 55.028571 52.927725 \r\nL 55.028571 53.860944 \r\nL 7.2 53.860944 \r\nL 7.2 52.927725 \r\n\" style=\"fill:#440154;\"/>\r\n    <path clip-path=\"url(#p74fc7bd7d8)\" d=\"M 55.028571 52.927725 \r\nL 102.857143 52.927725 \r\nL 102.857143 53.860944 \r\nL 55.028571 53.860944 \r\nL 55.028571 52.927725 \r\n\" style=\"fill:#440154;\"/>\r\n    <path clip-path=\"url(#p74fc7bd7d8)\" d=\"M 102.857143 52.927725 \r\nL 150.685714 52.927725 \r\nL 150.685714 53.860944 \r\nL 102.857143 53.860944 \r\nL 102.857143 52.927725 \r\n\" style=\"fill:#440154;\"/>\r\n    <path clip-path=\"url(#p74fc7bd7d8)\" d=\"M 150.685714 52.927725 \r\nL 198.514286 52.927725 \r\nL 198.514286 53.860944 \r\nL 150.685714 53.860944 \r\nL 150.685714 52.927725 \r\n\" style=\"fill:#440154;\"/>\r\n    <path clip-path=\"url(#p74fc7bd7d8)\" d=\"M 198.514286 52.927725 \r\nL 246.342857 52.927725 \r\nL 246.342857 53.860944 \r\nL 198.514286 53.860944 \r\nL 198.514286 52.927725 \r\n\" style=\"fill:#fde725;\"/>\r\n    <path clip-path=\"url(#p74fc7bd7d8)\" d=\"M 246.342857 52.927725 \r\nL 294.171429 52.927725 \r\nL 294.171429 53.860944 \r\nL 246.342857 53.860944 \r\nL 246.342857 52.927725 \r\n\" style=\"fill:#440154;\"/>\r\n    <path clip-path=\"url(#p74fc7bd7d8)\" d=\"M 294.171429 52.927725 \r\nL 342 52.927725 \r\nL 342 53.860944 \r\nL 294.171429 53.860944 \r\nL 294.171429 52.927725 \r\n\" style=\"fill:#440154;\"/>\r\n    <path clip-path=\"url(#p74fc7bd7d8)\" d=\"M 7.2 53.860944 \r\nL 55.028571 53.860944 \r\nL 55.028571 54.794163 \r\nL 7.2 54.794163 \r\nL 7.2 53.860944 \r\n\" style=\"fill:#440154;\"/>\r\n    <path clip-path=\"url(#p74fc7bd7d8)\" d=\"M 55.028571 53.860944 \r\nL 102.857143 53.860944 \r\nL 102.857143 54.794163 \r\nL 55.028571 54.794163 \r\nL 55.028571 53.860944 \r\n\" style=\"fill:#440154;\"/>\r\n    <path clip-path=\"url(#p74fc7bd7d8)\" d=\"M 102.857143 53.860944 \r\nL 150.685714 53.860944 \r\nL 150.685714 54.794163 \r\nL 102.857143 54.794163 \r\nL 102.857143 53.860944 \r\n\" style=\"fill:#440154;\"/>\r\n    <path clip-path=\"url(#p74fc7bd7d8)\" d=\"M 150.685714 53.860944 \r\nL 198.514286 53.860944 \r\nL 198.514286 54.794163 \r\nL 150.685714 54.794163 \r\nL 150.685714 53.860944 \r\n\" style=\"fill:#440154;\"/>\r\n    <path clip-path=\"url(#p74fc7bd7d8)\" d=\"M 198.514286 53.860944 \r\nL 246.342857 53.860944 \r\nL 246.342857 54.794163 \r\nL 198.514286 54.794163 \r\nL 198.514286 53.860944 \r\n\" style=\"fill:#440154;\"/>\r\n    <path clip-path=\"url(#p74fc7bd7d8)\" d=\"M 246.342857 53.860944 \r\nL 294.171429 53.860944 \r\nL 294.171429 54.794163 \r\nL 246.342857 54.794163 \r\nL 246.342857 53.860944 \r\n\" style=\"fill:#440154;\"/>\r\n    <path clip-path=\"url(#p74fc7bd7d8)\" d=\"M 294.171429 53.860944 \r\nL 342 53.860944 \r\nL 342 54.794163 \r\nL 294.171429 54.794163 \r\nL 294.171429 53.860944 \r\n\" style=\"fill:#440154;\"/>\r\n    <path clip-path=\"url(#p74fc7bd7d8)\" d=\"M 7.2 54.794163 \r\nL 55.028571 54.794163 \r\nL 55.028571 55.727382 \r\nL 7.2 55.727382 \r\nL 7.2 54.794163 \r\n\" style=\"fill:#440154;\"/>\r\n    <path clip-path=\"url(#p74fc7bd7d8)\" d=\"M 55.028571 54.794163 \r\nL 102.857143 54.794163 \r\nL 102.857143 55.727382 \r\nL 55.028571 55.727382 \r\nL 55.028571 54.794163 \r\n\" style=\"fill:#440154;\"/>\r\n    <path clip-path=\"url(#p74fc7bd7d8)\" d=\"M 102.857143 54.794163 \r\nL 150.685714 54.794163 \r\nL 150.685714 55.727382 \r\nL 102.857143 55.727382 \r\nL 102.857143 54.794163 \r\n\" style=\"fill:#440154;\"/>\r\n    <path clip-path=\"url(#p74fc7bd7d8)\" d=\"M 150.685714 54.794163 \r\nL 198.514286 54.794163 \r\nL 198.514286 55.727382 \r\nL 150.685714 55.727382 \r\nL 150.685714 54.794163 \r\n\" style=\"fill:#440154;\"/>\r\n    <path clip-path=\"url(#p74fc7bd7d8)\" d=\"M 198.514286 54.794163 \r\nL 246.342857 54.794163 \r\nL 246.342857 55.727382 \r\nL 198.514286 55.727382 \r\nL 198.514286 54.794163 \r\n\" style=\"fill:#440154;\"/>\r\n    <path clip-path=\"url(#p74fc7bd7d8)\" d=\"M 246.342857 54.794163 \r\nL 294.171429 54.794163 \r\nL 294.171429 55.727382 \r\nL 246.342857 55.727382 \r\nL 246.342857 54.794163 \r\n\" style=\"fill:#440154;\"/>\r\n    <path clip-path=\"url(#p74fc7bd7d8)\" d=\"M 294.171429 54.794163 \r\nL 342 54.794163 \r\nL 342 55.727382 \r\nL 294.171429 55.727382 \r\nL 294.171429 54.794163 \r\n\" style=\"fill:#440154;\"/>\r\n    <path clip-path=\"url(#p74fc7bd7d8)\" d=\"M 7.2 55.727382 \r\nL 55.028571 55.727382 \r\nL 55.028571 56.660601 \r\nL 7.2 56.660601 \r\nL 7.2 55.727382 \r\n\" style=\"fill:#440154;\"/>\r\n    <path clip-path=\"url(#p74fc7bd7d8)\" d=\"M 55.028571 55.727382 \r\nL 102.857143 55.727382 \r\nL 102.857143 56.660601 \r\nL 55.028571 56.660601 \r\nL 55.028571 55.727382 \r\n\" style=\"fill:#440154;\"/>\r\n    <path clip-path=\"url(#p74fc7bd7d8)\" d=\"M 102.857143 55.727382 \r\nL 150.685714 55.727382 \r\nL 150.685714 56.660601 \r\nL 102.857143 56.660601 \r\nL 102.857143 55.727382 \r\n\" style=\"fill:#440154;\"/>\r\n    <path clip-path=\"url(#p74fc7bd7d8)\" d=\"M 150.685714 55.727382 \r\nL 198.514286 55.727382 \r\nL 198.514286 56.660601 \r\nL 150.685714 56.660601 \r\nL 150.685714 55.727382 \r\n\" style=\"fill:#440154;\"/>\r\n    <path clip-path=\"url(#p74fc7bd7d8)\" d=\"M 198.514286 55.727382 \r\nL 246.342857 55.727382 \r\nL 246.342857 56.660601 \r\nL 198.514286 56.660601 \r\nL 198.514286 55.727382 \r\n\" style=\"fill:#440154;\"/>\r\n    <path clip-path=\"url(#p74fc7bd7d8)\" d=\"M 246.342857 55.727382 \r\nL 294.171429 55.727382 \r\nL 294.171429 56.660601 \r\nL 246.342857 56.660601 \r\nL 246.342857 55.727382 \r\n\" style=\"fill:#440154;\"/>\r\n    <path clip-path=\"url(#p74fc7bd7d8)\" d=\"M 294.171429 55.727382 \r\nL 342 55.727382 \r\nL 342 56.660601 \r\nL 294.171429 56.660601 \r\nL 294.171429 55.727382 \r\n\" style=\"fill:#440154;\"/>\r\n    <path clip-path=\"url(#p74fc7bd7d8)\" d=\"M 7.2 56.660601 \r\nL 55.028571 56.660601 \r\nL 55.028571 57.59382 \r\nL 7.2 57.59382 \r\nL 7.2 56.660601 \r\n\" style=\"fill:#440154;\"/>\r\n    <path clip-path=\"url(#p74fc7bd7d8)\" d=\"M 55.028571 56.660601 \r\nL 102.857143 56.660601 \r\nL 102.857143 57.59382 \r\nL 55.028571 57.59382 \r\nL 55.028571 56.660601 \r\n\" style=\"fill:#440154;\"/>\r\n    <path clip-path=\"url(#p74fc7bd7d8)\" d=\"M 102.857143 56.660601 \r\nL 150.685714 56.660601 \r\nL 150.685714 57.59382 \r\nL 102.857143 57.59382 \r\nL 102.857143 56.660601 \r\n\" style=\"fill:#440154;\"/>\r\n    <path clip-path=\"url(#p74fc7bd7d8)\" d=\"M 150.685714 56.660601 \r\nL 198.514286 56.660601 \r\nL 198.514286 57.59382 \r\nL 150.685714 57.59382 \r\nL 150.685714 56.660601 \r\n\" style=\"fill:#440154;\"/>\r\n    <path clip-path=\"url(#p74fc7bd7d8)\" d=\"M 198.514286 56.660601 \r\nL 246.342857 56.660601 \r\nL 246.342857 57.59382 \r\nL 198.514286 57.59382 \r\nL 198.514286 56.660601 \r\n\" style=\"fill:#440154;\"/>\r\n    <path clip-path=\"url(#p74fc7bd7d8)\" d=\"M 246.342857 56.660601 \r\nL 294.171429 56.660601 \r\nL 294.171429 57.59382 \r\nL 246.342857 57.59382 \r\nL 246.342857 56.660601 \r\n\" style=\"fill:#440154;\"/>\r\n    <path clip-path=\"url(#p74fc7bd7d8)\" d=\"M 294.171429 56.660601 \r\nL 342 56.660601 \r\nL 342 57.59382 \r\nL 294.171429 57.59382 \r\nL 294.171429 56.660601 \r\n\" style=\"fill:#fde725;\"/>\r\n    <path clip-path=\"url(#p74fc7bd7d8)\" d=\"M 7.2 57.59382 \r\nL 55.028571 57.59382 \r\nL 55.028571 58.527039 \r\nL 7.2 58.527039 \r\nL 7.2 57.59382 \r\n\" style=\"fill:#440154;\"/>\r\n    <path clip-path=\"url(#p74fc7bd7d8)\" d=\"M 55.028571 57.59382 \r\nL 102.857143 57.59382 \r\nL 102.857143 58.527039 \r\nL 55.028571 58.527039 \r\nL 55.028571 57.59382 \r\n\" style=\"fill:#440154;\"/>\r\n    <path clip-path=\"url(#p74fc7bd7d8)\" d=\"M 102.857143 57.59382 \r\nL 150.685714 57.59382 \r\nL 150.685714 58.527039 \r\nL 102.857143 58.527039 \r\nL 102.857143 57.59382 \r\n\" style=\"fill:#440154;\"/>\r\n    <path clip-path=\"url(#p74fc7bd7d8)\" d=\"M 150.685714 57.59382 \r\nL 198.514286 57.59382 \r\nL 198.514286 58.527039 \r\nL 150.685714 58.527039 \r\nL 150.685714 57.59382 \r\n\" style=\"fill:#440154;\"/>\r\n    <path clip-path=\"url(#p74fc7bd7d8)\" d=\"M 198.514286 57.59382 \r\nL 246.342857 57.59382 \r\nL 246.342857 58.527039 \r\nL 198.514286 58.527039 \r\nL 198.514286 57.59382 \r\n\" style=\"fill:#440154;\"/>\r\n    <path clip-path=\"url(#p74fc7bd7d8)\" d=\"M 246.342857 57.59382 \r\nL 294.171429 57.59382 \r\nL 294.171429 58.527039 \r\nL 246.342857 58.527039 \r\nL 246.342857 57.59382 \r\n\" style=\"fill:#440154;\"/>\r\n    <path clip-path=\"url(#p74fc7bd7d8)\" d=\"M 294.171429 57.59382 \r\nL 342 57.59382 \r\nL 342 58.527039 \r\nL 294.171429 58.527039 \r\nL 294.171429 57.59382 \r\n\" style=\"fill:#440154;\"/>\r\n    <path clip-path=\"url(#p74fc7bd7d8)\" d=\"M 7.2 58.527039 \r\nL 55.028571 58.527039 \r\nL 55.028571 59.460258 \r\nL 7.2 59.460258 \r\nL 7.2 58.527039 \r\n\" style=\"fill:#440154;\"/>\r\n    <path clip-path=\"url(#p74fc7bd7d8)\" d=\"M 55.028571 58.527039 \r\nL 102.857143 58.527039 \r\nL 102.857143 59.460258 \r\nL 55.028571 59.460258 \r\nL 55.028571 58.527039 \r\n\" style=\"fill:#440154;\"/>\r\n    <path clip-path=\"url(#p74fc7bd7d8)\" d=\"M 102.857143 58.527039 \r\nL 150.685714 58.527039 \r\nL 150.685714 59.460258 \r\nL 102.857143 59.460258 \r\nL 102.857143 58.527039 \r\n\" style=\"fill:#440154;\"/>\r\n    <path clip-path=\"url(#p74fc7bd7d8)\" d=\"M 150.685714 58.527039 \r\nL 198.514286 58.527039 \r\nL 198.514286 59.460258 \r\nL 150.685714 59.460258 \r\nL 150.685714 58.527039 \r\n\" style=\"fill:#440154;\"/>\r\n    <path clip-path=\"url(#p74fc7bd7d8)\" d=\"M 198.514286 58.527039 \r\nL 246.342857 58.527039 \r\nL 246.342857 59.460258 \r\nL 198.514286 59.460258 \r\nL 198.514286 58.527039 \r\n\" style=\"fill:#440154;\"/>\r\n    <path clip-path=\"url(#p74fc7bd7d8)\" d=\"M 246.342857 58.527039 \r\nL 294.171429 58.527039 \r\nL 294.171429 59.460258 \r\nL 246.342857 59.460258 \r\nL 246.342857 58.527039 \r\n\" style=\"fill:#440154;\"/>\r\n    <path clip-path=\"url(#p74fc7bd7d8)\" d=\"M 294.171429 58.527039 \r\nL 342 58.527039 \r\nL 342 59.460258 \r\nL 294.171429 59.460258 \r\nL 294.171429 58.527039 \r\n\" style=\"fill:#440154;\"/>\r\n    <path clip-path=\"url(#p74fc7bd7d8)\" d=\"M 7.2 59.460258 \r\nL 55.028571 59.460258 \r\nL 55.028571 60.393476 \r\nL 7.2 60.393476 \r\nL 7.2 59.460258 \r\n\" style=\"fill:#440154;\"/>\r\n    <path clip-path=\"url(#p74fc7bd7d8)\" d=\"M 55.028571 59.460258 \r\nL 102.857143 59.460258 \r\nL 102.857143 60.393476 \r\nL 55.028571 60.393476 \r\nL 55.028571 59.460258 \r\n\" style=\"fill:#440154;\"/>\r\n    <path clip-path=\"url(#p74fc7bd7d8)\" d=\"M 102.857143 59.460258 \r\nL 150.685714 59.460258 \r\nL 150.685714 60.393476 \r\nL 102.857143 60.393476 \r\nL 102.857143 59.460258 \r\n\" style=\"fill:#440154;\"/>\r\n    <path clip-path=\"url(#p74fc7bd7d8)\" d=\"M 150.685714 59.460258 \r\nL 198.514286 59.460258 \r\nL 198.514286 60.393476 \r\nL 150.685714 60.393476 \r\nL 150.685714 59.460258 \r\n\" style=\"fill:#440154;\"/>\r\n    <path clip-path=\"url(#p74fc7bd7d8)\" d=\"M 198.514286 59.460258 \r\nL 246.342857 59.460258 \r\nL 246.342857 60.393476 \r\nL 198.514286 60.393476 \r\nL 198.514286 59.460258 \r\n\" style=\"fill:#440154;\"/>\r\n    <path clip-path=\"url(#p74fc7bd7d8)\" d=\"M 246.342857 59.460258 \r\nL 294.171429 59.460258 \r\nL 294.171429 60.393476 \r\nL 246.342857 60.393476 \r\nL 246.342857 59.460258 \r\n\" style=\"fill:#440154;\"/>\r\n    <path clip-path=\"url(#p74fc7bd7d8)\" d=\"M 294.171429 59.460258 \r\nL 342 59.460258 \r\nL 342 60.393476 \r\nL 294.171429 60.393476 \r\nL 294.171429 59.460258 \r\n\" style=\"fill:#440154;\"/>\r\n    <path clip-path=\"url(#p74fc7bd7d8)\" d=\"M 7.2 60.393476 \r\nL 55.028571 60.393476 \r\nL 55.028571 61.326695 \r\nL 7.2 61.326695 \r\nL 7.2 60.393476 \r\n\" style=\"fill:#440154;\"/>\r\n    <path clip-path=\"url(#p74fc7bd7d8)\" d=\"M 55.028571 60.393476 \r\nL 102.857143 60.393476 \r\nL 102.857143 61.326695 \r\nL 55.028571 61.326695 \r\nL 55.028571 60.393476 \r\n\" style=\"fill:#440154;\"/>\r\n    <path clip-path=\"url(#p74fc7bd7d8)\" d=\"M 102.857143 60.393476 \r\nL 150.685714 60.393476 \r\nL 150.685714 61.326695 \r\nL 102.857143 61.326695 \r\nL 102.857143 60.393476 \r\n\" style=\"fill:#440154;\"/>\r\n    <path clip-path=\"url(#p74fc7bd7d8)\" d=\"M 150.685714 60.393476 \r\nL 198.514286 60.393476 \r\nL 198.514286 61.326695 \r\nL 150.685714 61.326695 \r\nL 150.685714 60.393476 \r\n\" style=\"fill:#440154;\"/>\r\n    <path clip-path=\"url(#p74fc7bd7d8)\" d=\"M 198.514286 60.393476 \r\nL 246.342857 60.393476 \r\nL 246.342857 61.326695 \r\nL 198.514286 61.326695 \r\nL 198.514286 60.393476 \r\n\" style=\"fill:#440154;\"/>\r\n    <path clip-path=\"url(#p74fc7bd7d8)\" d=\"M 246.342857 60.393476 \r\nL 294.171429 60.393476 \r\nL 294.171429 61.326695 \r\nL 246.342857 61.326695 \r\nL 246.342857 60.393476 \r\n\" style=\"fill:#440154;\"/>\r\n    <path clip-path=\"url(#p74fc7bd7d8)\" d=\"M 294.171429 60.393476 \r\nL 342 60.393476 \r\nL 342 61.326695 \r\nL 294.171429 61.326695 \r\nL 294.171429 60.393476 \r\n\" style=\"fill:#440154;\"/>\r\n    <path clip-path=\"url(#p74fc7bd7d8)\" d=\"M 7.2 61.326695 \r\nL 55.028571 61.326695 \r\nL 55.028571 62.259914 \r\nL 7.2 62.259914 \r\nL 7.2 61.326695 \r\n\" style=\"fill:#440154;\"/>\r\n    <path clip-path=\"url(#p74fc7bd7d8)\" d=\"M 55.028571 61.326695 \r\nL 102.857143 61.326695 \r\nL 102.857143 62.259914 \r\nL 55.028571 62.259914 \r\nL 55.028571 61.326695 \r\n\" style=\"fill:#440154;\"/>\r\n    <path clip-path=\"url(#p74fc7bd7d8)\" d=\"M 102.857143 61.326695 \r\nL 150.685714 61.326695 \r\nL 150.685714 62.259914 \r\nL 102.857143 62.259914 \r\nL 102.857143 61.326695 \r\n\" style=\"fill:#440154;\"/>\r\n    <path clip-path=\"url(#p74fc7bd7d8)\" d=\"M 150.685714 61.326695 \r\nL 198.514286 61.326695 \r\nL 198.514286 62.259914 \r\nL 150.685714 62.259914 \r\nL 150.685714 61.326695 \r\n\" style=\"fill:#440154;\"/>\r\n    <path clip-path=\"url(#p74fc7bd7d8)\" d=\"M 198.514286 61.326695 \r\nL 246.342857 61.326695 \r\nL 246.342857 62.259914 \r\nL 198.514286 62.259914 \r\nL 198.514286 61.326695 \r\n\" style=\"fill:#440154;\"/>\r\n    <path clip-path=\"url(#p74fc7bd7d8)\" d=\"M 246.342857 61.326695 \r\nL 294.171429 61.326695 \r\nL 294.171429 62.259914 \r\nL 246.342857 62.259914 \r\nL 246.342857 61.326695 \r\n\" style=\"fill:#440154;\"/>\r\n    <path clip-path=\"url(#p74fc7bd7d8)\" d=\"M 294.171429 61.326695 \r\nL 342 61.326695 \r\nL 342 62.259914 \r\nL 294.171429 62.259914 \r\nL 294.171429 61.326695 \r\n\" style=\"fill:#440154;\"/>\r\n    <path clip-path=\"url(#p74fc7bd7d8)\" d=\"M 7.2 62.259914 \r\nL 55.028571 62.259914 \r\nL 55.028571 63.193133 \r\nL 7.2 63.193133 \r\nL 7.2 62.259914 \r\n\" style=\"fill:#440154;\"/>\r\n    <path clip-path=\"url(#p74fc7bd7d8)\" d=\"M 55.028571 62.259914 \r\nL 102.857143 62.259914 \r\nL 102.857143 63.193133 \r\nL 55.028571 63.193133 \r\nL 55.028571 62.259914 \r\n\" style=\"fill:#440154;\"/>\r\n    <path clip-path=\"url(#p74fc7bd7d8)\" d=\"M 102.857143 62.259914 \r\nL 150.685714 62.259914 \r\nL 150.685714 63.193133 \r\nL 102.857143 63.193133 \r\nL 102.857143 62.259914 \r\n\" style=\"fill:#440154;\"/>\r\n    <path clip-path=\"url(#p74fc7bd7d8)\" d=\"M 150.685714 62.259914 \r\nL 198.514286 62.259914 \r\nL 198.514286 63.193133 \r\nL 150.685714 63.193133 \r\nL 150.685714 62.259914 \r\n\" style=\"fill:#440154;\"/>\r\n    <path clip-path=\"url(#p74fc7bd7d8)\" d=\"M 198.514286 62.259914 \r\nL 246.342857 62.259914 \r\nL 246.342857 63.193133 \r\nL 198.514286 63.193133 \r\nL 198.514286 62.259914 \r\n\" style=\"fill:#440154;\"/>\r\n    <path clip-path=\"url(#p74fc7bd7d8)\" d=\"M 246.342857 62.259914 \r\nL 294.171429 62.259914 \r\nL 294.171429 63.193133 \r\nL 246.342857 63.193133 \r\nL 246.342857 62.259914 \r\n\" style=\"fill:#440154;\"/>\r\n    <path clip-path=\"url(#p74fc7bd7d8)\" d=\"M 294.171429 62.259914 \r\nL 342 62.259914 \r\nL 342 63.193133 \r\nL 294.171429 63.193133 \r\nL 294.171429 62.259914 \r\n\" style=\"fill:#fde725;\"/>\r\n    <path clip-path=\"url(#p74fc7bd7d8)\" d=\"M 7.2 63.193133 \r\nL 55.028571 63.193133 \r\nL 55.028571 64.126352 \r\nL 7.2 64.126352 \r\nL 7.2 63.193133 \r\n\" style=\"fill:#440154;\"/>\r\n    <path clip-path=\"url(#p74fc7bd7d8)\" d=\"M 55.028571 63.193133 \r\nL 102.857143 63.193133 \r\nL 102.857143 64.126352 \r\nL 55.028571 64.126352 \r\nL 55.028571 63.193133 \r\n\" style=\"fill:#440154;\"/>\r\n    <path clip-path=\"url(#p74fc7bd7d8)\" d=\"M 102.857143 63.193133 \r\nL 150.685714 63.193133 \r\nL 150.685714 64.126352 \r\nL 102.857143 64.126352 \r\nL 102.857143 63.193133 \r\n\" style=\"fill:#440154;\"/>\r\n    <path clip-path=\"url(#p74fc7bd7d8)\" d=\"M 150.685714 63.193133 \r\nL 198.514286 63.193133 \r\nL 198.514286 64.126352 \r\nL 150.685714 64.126352 \r\nL 150.685714 63.193133 \r\n\" style=\"fill:#440154;\"/>\r\n    <path clip-path=\"url(#p74fc7bd7d8)\" d=\"M 198.514286 63.193133 \r\nL 246.342857 63.193133 \r\nL 246.342857 64.126352 \r\nL 198.514286 64.126352 \r\nL 198.514286 63.193133 \r\n\" style=\"fill:#fde725;\"/>\r\n    <path clip-path=\"url(#p74fc7bd7d8)\" d=\"M 246.342857 63.193133 \r\nL 294.171429 63.193133 \r\nL 294.171429 64.126352 \r\nL 246.342857 64.126352 \r\nL 246.342857 63.193133 \r\n\" style=\"fill:#440154;\"/>\r\n    <path clip-path=\"url(#p74fc7bd7d8)\" d=\"M 294.171429 63.193133 \r\nL 342 63.193133 \r\nL 342 64.126352 \r\nL 294.171429 64.126352 \r\nL 294.171429 63.193133 \r\n\" style=\"fill:#440154;\"/>\r\n    <path clip-path=\"url(#p74fc7bd7d8)\" d=\"M 7.2 64.126352 \r\nL 55.028571 64.126352 \r\nL 55.028571 65.059571 \r\nL 7.2 65.059571 \r\nL 7.2 64.126352 \r\n\" style=\"fill:#440154;\"/>\r\n    <path clip-path=\"url(#p74fc7bd7d8)\" d=\"M 55.028571 64.126352 \r\nL 102.857143 64.126352 \r\nL 102.857143 65.059571 \r\nL 55.028571 65.059571 \r\nL 55.028571 64.126352 \r\n\" style=\"fill:#440154;\"/>\r\n    <path clip-path=\"url(#p74fc7bd7d8)\" d=\"M 102.857143 64.126352 \r\nL 150.685714 64.126352 \r\nL 150.685714 65.059571 \r\nL 102.857143 65.059571 \r\nL 102.857143 64.126352 \r\n\" style=\"fill:#440154;\"/>\r\n    <path clip-path=\"url(#p74fc7bd7d8)\" d=\"M 150.685714 64.126352 \r\nL 198.514286 64.126352 \r\nL 198.514286 65.059571 \r\nL 150.685714 65.059571 \r\nL 150.685714 64.126352 \r\n\" style=\"fill:#440154;\"/>\r\n    <path clip-path=\"url(#p74fc7bd7d8)\" d=\"M 198.514286 64.126352 \r\nL 246.342857 64.126352 \r\nL 246.342857 65.059571 \r\nL 198.514286 65.059571 \r\nL 198.514286 64.126352 \r\n\" style=\"fill:#440154;\"/>\r\n    <path clip-path=\"url(#p74fc7bd7d8)\" d=\"M 246.342857 64.126352 \r\nL 294.171429 64.126352 \r\nL 294.171429 65.059571 \r\nL 246.342857 65.059571 \r\nL 246.342857 64.126352 \r\n\" style=\"fill:#440154;\"/>\r\n    <path clip-path=\"url(#p74fc7bd7d8)\" d=\"M 294.171429 64.126352 \r\nL 342 64.126352 \r\nL 342 65.059571 \r\nL 294.171429 65.059571 \r\nL 294.171429 64.126352 \r\n\" style=\"fill:#fde725;\"/>\r\n    <path clip-path=\"url(#p74fc7bd7d8)\" d=\"M 7.2 65.059571 \r\nL 55.028571 65.059571 \r\nL 55.028571 65.99279 \r\nL 7.2 65.99279 \r\nL 7.2 65.059571 \r\n\" style=\"fill:#440154;\"/>\r\n    <path clip-path=\"url(#p74fc7bd7d8)\" d=\"M 55.028571 65.059571 \r\nL 102.857143 65.059571 \r\nL 102.857143 65.99279 \r\nL 55.028571 65.99279 \r\nL 55.028571 65.059571 \r\n\" style=\"fill:#440154;\"/>\r\n    <path clip-path=\"url(#p74fc7bd7d8)\" d=\"M 102.857143 65.059571 \r\nL 150.685714 65.059571 \r\nL 150.685714 65.99279 \r\nL 102.857143 65.99279 \r\nL 102.857143 65.059571 \r\n\" style=\"fill:#440154;\"/>\r\n    <path clip-path=\"url(#p74fc7bd7d8)\" d=\"M 150.685714 65.059571 \r\nL 198.514286 65.059571 \r\nL 198.514286 65.99279 \r\nL 150.685714 65.99279 \r\nL 150.685714 65.059571 \r\n\" style=\"fill:#440154;\"/>\r\n    <path clip-path=\"url(#p74fc7bd7d8)\" d=\"M 198.514286 65.059571 \r\nL 246.342857 65.059571 \r\nL 246.342857 65.99279 \r\nL 198.514286 65.99279 \r\nL 198.514286 65.059571 \r\n\" style=\"fill:#440154;\"/>\r\n    <path clip-path=\"url(#p74fc7bd7d8)\" d=\"M 246.342857 65.059571 \r\nL 294.171429 65.059571 \r\nL 294.171429 65.99279 \r\nL 246.342857 65.99279 \r\nL 246.342857 65.059571 \r\n\" style=\"fill:#440154;\"/>\r\n    <path clip-path=\"url(#p74fc7bd7d8)\" d=\"M 294.171429 65.059571 \r\nL 342 65.059571 \r\nL 342 65.99279 \r\nL 294.171429 65.99279 \r\nL 294.171429 65.059571 \r\n\" style=\"fill:#fde725;\"/>\r\n    <path clip-path=\"url(#p74fc7bd7d8)\" d=\"M 7.2 65.99279 \r\nL 55.028571 65.99279 \r\nL 55.028571 66.926009 \r\nL 7.2 66.926009 \r\nL 7.2 65.99279 \r\n\" style=\"fill:#440154;\"/>\r\n    <path clip-path=\"url(#p74fc7bd7d8)\" d=\"M 55.028571 65.99279 \r\nL 102.857143 65.99279 \r\nL 102.857143 66.926009 \r\nL 55.028571 66.926009 \r\nL 55.028571 65.99279 \r\n\" style=\"fill:#440154;\"/>\r\n    <path clip-path=\"url(#p74fc7bd7d8)\" d=\"M 102.857143 65.99279 \r\nL 150.685714 65.99279 \r\nL 150.685714 66.926009 \r\nL 102.857143 66.926009 \r\nL 102.857143 65.99279 \r\n\" style=\"fill:#440154;\"/>\r\n    <path clip-path=\"url(#p74fc7bd7d8)\" d=\"M 150.685714 65.99279 \r\nL 198.514286 65.99279 \r\nL 198.514286 66.926009 \r\nL 150.685714 66.926009 \r\nL 150.685714 65.99279 \r\n\" style=\"fill:#440154;\"/>\r\n    <path clip-path=\"url(#p74fc7bd7d8)\" d=\"M 198.514286 65.99279 \r\nL 246.342857 65.99279 \r\nL 246.342857 66.926009 \r\nL 198.514286 66.926009 \r\nL 198.514286 65.99279 \r\n\" style=\"fill:#fde725;\"/>\r\n    <path clip-path=\"url(#p74fc7bd7d8)\" d=\"M 246.342857 65.99279 \r\nL 294.171429 65.99279 \r\nL 294.171429 66.926009 \r\nL 246.342857 66.926009 \r\nL 246.342857 65.99279 \r\n\" style=\"fill:#440154;\"/>\r\n    <path clip-path=\"url(#p74fc7bd7d8)\" d=\"M 294.171429 65.99279 \r\nL 342 65.99279 \r\nL 342 66.926009 \r\nL 294.171429 66.926009 \r\nL 294.171429 65.99279 \r\n\" style=\"fill:#440154;\"/>\r\n    <path clip-path=\"url(#p74fc7bd7d8)\" d=\"M 7.2 66.926009 \r\nL 55.028571 66.926009 \r\nL 55.028571 67.859227 \r\nL 7.2 67.859227 \r\nL 7.2 66.926009 \r\n\" style=\"fill:#440154;\"/>\r\n    <path clip-path=\"url(#p74fc7bd7d8)\" d=\"M 55.028571 66.926009 \r\nL 102.857143 66.926009 \r\nL 102.857143 67.859227 \r\nL 55.028571 67.859227 \r\nL 55.028571 66.926009 \r\n\" style=\"fill:#440154;\"/>\r\n    <path clip-path=\"url(#p74fc7bd7d8)\" d=\"M 102.857143 66.926009 \r\nL 150.685714 66.926009 \r\nL 150.685714 67.859227 \r\nL 102.857143 67.859227 \r\nL 102.857143 66.926009 \r\n\" style=\"fill:#440154;\"/>\r\n    <path clip-path=\"url(#p74fc7bd7d8)\" d=\"M 150.685714 66.926009 \r\nL 198.514286 66.926009 \r\nL 198.514286 67.859227 \r\nL 150.685714 67.859227 \r\nL 150.685714 66.926009 \r\n\" style=\"fill:#440154;\"/>\r\n    <path clip-path=\"url(#p74fc7bd7d8)\" d=\"M 198.514286 66.926009 \r\nL 246.342857 66.926009 \r\nL 246.342857 67.859227 \r\nL 198.514286 67.859227 \r\nL 198.514286 66.926009 \r\n\" style=\"fill:#440154;\"/>\r\n    <path clip-path=\"url(#p74fc7bd7d8)\" d=\"M 246.342857 66.926009 \r\nL 294.171429 66.926009 \r\nL 294.171429 67.859227 \r\nL 246.342857 67.859227 \r\nL 246.342857 66.926009 \r\n\" style=\"fill:#440154;\"/>\r\n    <path clip-path=\"url(#p74fc7bd7d8)\" d=\"M 294.171429 66.926009 \r\nL 342 66.926009 \r\nL 342 67.859227 \r\nL 294.171429 67.859227 \r\nL 294.171429 66.926009 \r\n\" style=\"fill:#fde725;\"/>\r\n    <path clip-path=\"url(#p74fc7bd7d8)\" d=\"M 7.2 67.859227 \r\nL 55.028571 67.859227 \r\nL 55.028571 68.792446 \r\nL 7.2 68.792446 \r\nL 7.2 67.859227 \r\n\" style=\"fill:#440154;\"/>\r\n    <path clip-path=\"url(#p74fc7bd7d8)\" d=\"M 55.028571 67.859227 \r\nL 102.857143 67.859227 \r\nL 102.857143 68.792446 \r\nL 55.028571 68.792446 \r\nL 55.028571 67.859227 \r\n\" style=\"fill:#440154;\"/>\r\n    <path clip-path=\"url(#p74fc7bd7d8)\" d=\"M 102.857143 67.859227 \r\nL 150.685714 67.859227 \r\nL 150.685714 68.792446 \r\nL 102.857143 68.792446 \r\nL 102.857143 67.859227 \r\n\" style=\"fill:#440154;\"/>\r\n    <path clip-path=\"url(#p74fc7bd7d8)\" d=\"M 150.685714 67.859227 \r\nL 198.514286 67.859227 \r\nL 198.514286 68.792446 \r\nL 150.685714 68.792446 \r\nL 150.685714 67.859227 \r\n\" style=\"fill:#440154;\"/>\r\n    <path clip-path=\"url(#p74fc7bd7d8)\" d=\"M 198.514286 67.859227 \r\nL 246.342857 67.859227 \r\nL 246.342857 68.792446 \r\nL 198.514286 68.792446 \r\nL 198.514286 67.859227 \r\n\" style=\"fill:#440154;\"/>\r\n    <path clip-path=\"url(#p74fc7bd7d8)\" d=\"M 246.342857 67.859227 \r\nL 294.171429 67.859227 \r\nL 294.171429 68.792446 \r\nL 246.342857 68.792446 \r\nL 246.342857 67.859227 \r\n\" style=\"fill:#440154;\"/>\r\n    <path clip-path=\"url(#p74fc7bd7d8)\" d=\"M 294.171429 67.859227 \r\nL 342 67.859227 \r\nL 342 68.792446 \r\nL 294.171429 68.792446 \r\nL 294.171429 67.859227 \r\n\" style=\"fill:#440154;\"/>\r\n    <path clip-path=\"url(#p74fc7bd7d8)\" d=\"M 7.2 68.792446 \r\nL 55.028571 68.792446 \r\nL 55.028571 69.725665 \r\nL 7.2 69.725665 \r\nL 7.2 68.792446 \r\n\" style=\"fill:#440154;\"/>\r\n    <path clip-path=\"url(#p74fc7bd7d8)\" d=\"M 55.028571 68.792446 \r\nL 102.857143 68.792446 \r\nL 102.857143 69.725665 \r\nL 55.028571 69.725665 \r\nL 55.028571 68.792446 \r\n\" style=\"fill:#440154;\"/>\r\n    <path clip-path=\"url(#p74fc7bd7d8)\" d=\"M 102.857143 68.792446 \r\nL 150.685714 68.792446 \r\nL 150.685714 69.725665 \r\nL 102.857143 69.725665 \r\nL 102.857143 68.792446 \r\n\" style=\"fill:#440154;\"/>\r\n    <path clip-path=\"url(#p74fc7bd7d8)\" d=\"M 150.685714 68.792446 \r\nL 198.514286 68.792446 \r\nL 198.514286 69.725665 \r\nL 150.685714 69.725665 \r\nL 150.685714 68.792446 \r\n\" style=\"fill:#440154;\"/>\r\n    <path clip-path=\"url(#p74fc7bd7d8)\" d=\"M 198.514286 68.792446 \r\nL 246.342857 68.792446 \r\nL 246.342857 69.725665 \r\nL 198.514286 69.725665 \r\nL 198.514286 68.792446 \r\n\" style=\"fill:#440154;\"/>\r\n    <path clip-path=\"url(#p74fc7bd7d8)\" d=\"M 246.342857 68.792446 \r\nL 294.171429 68.792446 \r\nL 294.171429 69.725665 \r\nL 246.342857 69.725665 \r\nL 246.342857 68.792446 \r\n\" style=\"fill:#440154;\"/>\r\n    <path clip-path=\"url(#p74fc7bd7d8)\" d=\"M 294.171429 68.792446 \r\nL 342 68.792446 \r\nL 342 69.725665 \r\nL 294.171429 69.725665 \r\nL 294.171429 68.792446 \r\n\" style=\"fill:#440154;\"/>\r\n    <path clip-path=\"url(#p74fc7bd7d8)\" d=\"M 7.2 69.725665 \r\nL 55.028571 69.725665 \r\nL 55.028571 70.658884 \r\nL 7.2 70.658884 \r\nL 7.2 69.725665 \r\n\" style=\"fill:#440154;\"/>\r\n    <path clip-path=\"url(#p74fc7bd7d8)\" d=\"M 55.028571 69.725665 \r\nL 102.857143 69.725665 \r\nL 102.857143 70.658884 \r\nL 55.028571 70.658884 \r\nL 55.028571 69.725665 \r\n\" style=\"fill:#440154;\"/>\r\n    <path clip-path=\"url(#p74fc7bd7d8)\" d=\"M 102.857143 69.725665 \r\nL 150.685714 69.725665 \r\nL 150.685714 70.658884 \r\nL 102.857143 70.658884 \r\nL 102.857143 69.725665 \r\n\" style=\"fill:#440154;\"/>\r\n    <path clip-path=\"url(#p74fc7bd7d8)\" d=\"M 150.685714 69.725665 \r\nL 198.514286 69.725665 \r\nL 198.514286 70.658884 \r\nL 150.685714 70.658884 \r\nL 150.685714 69.725665 \r\n\" style=\"fill:#440154;\"/>\r\n    <path clip-path=\"url(#p74fc7bd7d8)\" d=\"M 198.514286 69.725665 \r\nL 246.342857 69.725665 \r\nL 246.342857 70.658884 \r\nL 198.514286 70.658884 \r\nL 198.514286 69.725665 \r\n\" style=\"fill:#440154;\"/>\r\n    <path clip-path=\"url(#p74fc7bd7d8)\" d=\"M 246.342857 69.725665 \r\nL 294.171429 69.725665 \r\nL 294.171429 70.658884 \r\nL 246.342857 70.658884 \r\nL 246.342857 69.725665 \r\n\" style=\"fill:#440154;\"/>\r\n    <path clip-path=\"url(#p74fc7bd7d8)\" d=\"M 294.171429 69.725665 \r\nL 342 69.725665 \r\nL 342 70.658884 \r\nL 294.171429 70.658884 \r\nL 294.171429 69.725665 \r\n\" style=\"fill:#fde725;\"/>\r\n    <path clip-path=\"url(#p74fc7bd7d8)\" d=\"M 7.2 70.658884 \r\nL 55.028571 70.658884 \r\nL 55.028571 71.592103 \r\nL 7.2 71.592103 \r\nL 7.2 70.658884 \r\n\" style=\"fill:#440154;\"/>\r\n    <path clip-path=\"url(#p74fc7bd7d8)\" d=\"M 55.028571 70.658884 \r\nL 102.857143 70.658884 \r\nL 102.857143 71.592103 \r\nL 55.028571 71.592103 \r\nL 55.028571 70.658884 \r\n\" style=\"fill:#440154;\"/>\r\n    <path clip-path=\"url(#p74fc7bd7d8)\" d=\"M 102.857143 70.658884 \r\nL 150.685714 70.658884 \r\nL 150.685714 71.592103 \r\nL 102.857143 71.592103 \r\nL 102.857143 70.658884 \r\n\" style=\"fill:#440154;\"/>\r\n    <path clip-path=\"url(#p74fc7bd7d8)\" d=\"M 150.685714 70.658884 \r\nL 198.514286 70.658884 \r\nL 198.514286 71.592103 \r\nL 150.685714 71.592103 \r\nL 150.685714 70.658884 \r\n\" style=\"fill:#440154;\"/>\r\n    <path clip-path=\"url(#p74fc7bd7d8)\" d=\"M 198.514286 70.658884 \r\nL 246.342857 70.658884 \r\nL 246.342857 71.592103 \r\nL 198.514286 71.592103 \r\nL 198.514286 70.658884 \r\n\" style=\"fill:#fde725;\"/>\r\n    <path clip-path=\"url(#p74fc7bd7d8)\" d=\"M 246.342857 70.658884 \r\nL 294.171429 70.658884 \r\nL 294.171429 71.592103 \r\nL 246.342857 71.592103 \r\nL 246.342857 70.658884 \r\n\" style=\"fill:#440154;\"/>\r\n    <path clip-path=\"url(#p74fc7bd7d8)\" d=\"M 294.171429 70.658884 \r\nL 342 70.658884 \r\nL 342 71.592103 \r\nL 294.171429 71.592103 \r\nL 294.171429 70.658884 \r\n\" style=\"fill:#fde725;\"/>\r\n    <path clip-path=\"url(#p74fc7bd7d8)\" d=\"M 7.2 71.592103 \r\nL 55.028571 71.592103 \r\nL 55.028571 72.525322 \r\nL 7.2 72.525322 \r\nL 7.2 71.592103 \r\n\" style=\"fill:#440154;\"/>\r\n    <path clip-path=\"url(#p74fc7bd7d8)\" d=\"M 55.028571 71.592103 \r\nL 102.857143 71.592103 \r\nL 102.857143 72.525322 \r\nL 55.028571 72.525322 \r\nL 55.028571 71.592103 \r\n\" style=\"fill:#440154;\"/>\r\n    <path clip-path=\"url(#p74fc7bd7d8)\" d=\"M 102.857143 71.592103 \r\nL 150.685714 71.592103 \r\nL 150.685714 72.525322 \r\nL 102.857143 72.525322 \r\nL 102.857143 71.592103 \r\n\" style=\"fill:#440154;\"/>\r\n    <path clip-path=\"url(#p74fc7bd7d8)\" d=\"M 150.685714 71.592103 \r\nL 198.514286 71.592103 \r\nL 198.514286 72.525322 \r\nL 150.685714 72.525322 \r\nL 150.685714 71.592103 \r\n\" style=\"fill:#440154;\"/>\r\n    <path clip-path=\"url(#p74fc7bd7d8)\" d=\"M 198.514286 71.592103 \r\nL 246.342857 71.592103 \r\nL 246.342857 72.525322 \r\nL 198.514286 72.525322 \r\nL 198.514286 71.592103 \r\n\" style=\"fill:#440154;\"/>\r\n    <path clip-path=\"url(#p74fc7bd7d8)\" d=\"M 246.342857 71.592103 \r\nL 294.171429 71.592103 \r\nL 294.171429 72.525322 \r\nL 246.342857 72.525322 \r\nL 246.342857 71.592103 \r\n\" style=\"fill:#440154;\"/>\r\n    <path clip-path=\"url(#p74fc7bd7d8)\" d=\"M 294.171429 71.592103 \r\nL 342 71.592103 \r\nL 342 72.525322 \r\nL 294.171429 72.525322 \r\nL 294.171429 71.592103 \r\n\" style=\"fill:#440154;\"/>\r\n    <path clip-path=\"url(#p74fc7bd7d8)\" d=\"M 7.2 72.525322 \r\nL 55.028571 72.525322 \r\nL 55.028571 73.458541 \r\nL 7.2 73.458541 \r\nL 7.2 72.525322 \r\n\" style=\"fill:#440154;\"/>\r\n    <path clip-path=\"url(#p74fc7bd7d8)\" d=\"M 55.028571 72.525322 \r\nL 102.857143 72.525322 \r\nL 102.857143 73.458541 \r\nL 55.028571 73.458541 \r\nL 55.028571 72.525322 \r\n\" style=\"fill:#fde725;\"/>\r\n    <path clip-path=\"url(#p74fc7bd7d8)\" d=\"M 102.857143 72.525322 \r\nL 150.685714 72.525322 \r\nL 150.685714 73.458541 \r\nL 102.857143 73.458541 \r\nL 102.857143 72.525322 \r\n\" style=\"fill:#fde725;\"/>\r\n    <path clip-path=\"url(#p74fc7bd7d8)\" d=\"M 150.685714 72.525322 \r\nL 198.514286 72.525322 \r\nL 198.514286 73.458541 \r\nL 150.685714 73.458541 \r\nL 150.685714 72.525322 \r\n\" style=\"fill:#fde725;\"/>\r\n    <path clip-path=\"url(#p74fc7bd7d8)\" d=\"M 198.514286 72.525322 \r\nL 246.342857 72.525322 \r\nL 246.342857 73.458541 \r\nL 198.514286 73.458541 \r\nL 198.514286 72.525322 \r\n\" style=\"fill:#fde725;\"/>\r\n    <path clip-path=\"url(#p74fc7bd7d8)\" d=\"M 246.342857 72.525322 \r\nL 294.171429 72.525322 \r\nL 294.171429 73.458541 \r\nL 246.342857 73.458541 \r\nL 246.342857 72.525322 \r\n\" style=\"fill:#fde725;\"/>\r\n    <path clip-path=\"url(#p74fc7bd7d8)\" d=\"M 294.171429 72.525322 \r\nL 342 72.525322 \r\nL 342 73.458541 \r\nL 294.171429 73.458541 \r\nL 294.171429 72.525322 \r\n\" style=\"fill:#fde725;\"/>\r\n    <path clip-path=\"url(#p74fc7bd7d8)\" d=\"M 7.2 73.458541 \r\nL 55.028571 73.458541 \r\nL 55.028571 74.39176 \r\nL 7.2 74.39176 \r\nL 7.2 73.458541 \r\n\" style=\"fill:#440154;\"/>\r\n    <path clip-path=\"url(#p74fc7bd7d8)\" d=\"M 55.028571 73.458541 \r\nL 102.857143 73.458541 \r\nL 102.857143 74.39176 \r\nL 55.028571 74.39176 \r\nL 55.028571 73.458541 \r\n\" style=\"fill:#440154;\"/>\r\n    <path clip-path=\"url(#p74fc7bd7d8)\" d=\"M 102.857143 73.458541 \r\nL 150.685714 73.458541 \r\nL 150.685714 74.39176 \r\nL 102.857143 74.39176 \r\nL 102.857143 73.458541 \r\n\" style=\"fill:#440154;\"/>\r\n    <path clip-path=\"url(#p74fc7bd7d8)\" d=\"M 150.685714 73.458541 \r\nL 198.514286 73.458541 \r\nL 198.514286 74.39176 \r\nL 150.685714 74.39176 \r\nL 150.685714 73.458541 \r\n\" style=\"fill:#440154;\"/>\r\n    <path clip-path=\"url(#p74fc7bd7d8)\" d=\"M 198.514286 73.458541 \r\nL 246.342857 73.458541 \r\nL 246.342857 74.39176 \r\nL 198.514286 74.39176 \r\nL 198.514286 73.458541 \r\n\" style=\"fill:#440154;\"/>\r\n    <path clip-path=\"url(#p74fc7bd7d8)\" d=\"M 246.342857 73.458541 \r\nL 294.171429 73.458541 \r\nL 294.171429 74.39176 \r\nL 246.342857 74.39176 \r\nL 246.342857 73.458541 \r\n\" style=\"fill:#440154;\"/>\r\n    <path clip-path=\"url(#p74fc7bd7d8)\" d=\"M 294.171429 73.458541 \r\nL 342 73.458541 \r\nL 342 74.39176 \r\nL 294.171429 74.39176 \r\nL 294.171429 73.458541 \r\n\" style=\"fill:#440154;\"/>\r\n    <path clip-path=\"url(#p74fc7bd7d8)\" d=\"M 7.2 74.39176 \r\nL 55.028571 74.39176 \r\nL 55.028571 75.324979 \r\nL 7.2 75.324979 \r\nL 7.2 74.39176 \r\n\" style=\"fill:#440154;\"/>\r\n    <path clip-path=\"url(#p74fc7bd7d8)\" d=\"M 55.028571 74.39176 \r\nL 102.857143 74.39176 \r\nL 102.857143 75.324979 \r\nL 55.028571 75.324979 \r\nL 55.028571 74.39176 \r\n\" style=\"fill:#440154;\"/>\r\n    <path clip-path=\"url(#p74fc7bd7d8)\" d=\"M 102.857143 74.39176 \r\nL 150.685714 74.39176 \r\nL 150.685714 75.324979 \r\nL 102.857143 75.324979 \r\nL 102.857143 74.39176 \r\n\" style=\"fill:#440154;\"/>\r\n    <path clip-path=\"url(#p74fc7bd7d8)\" d=\"M 150.685714 74.39176 \r\nL 198.514286 74.39176 \r\nL 198.514286 75.324979 \r\nL 150.685714 75.324979 \r\nL 150.685714 74.39176 \r\n\" style=\"fill:#440154;\"/>\r\n    <path clip-path=\"url(#p74fc7bd7d8)\" d=\"M 198.514286 74.39176 \r\nL 246.342857 74.39176 \r\nL 246.342857 75.324979 \r\nL 198.514286 75.324979 \r\nL 198.514286 74.39176 \r\n\" style=\"fill:#440154;\"/>\r\n    <path clip-path=\"url(#p74fc7bd7d8)\" d=\"M 246.342857 74.39176 \r\nL 294.171429 74.39176 \r\nL 294.171429 75.324979 \r\nL 246.342857 75.324979 \r\nL 246.342857 74.39176 \r\n\" style=\"fill:#440154;\"/>\r\n    <path clip-path=\"url(#p74fc7bd7d8)\" d=\"M 294.171429 74.39176 \r\nL 342 74.39176 \r\nL 342 75.324979 \r\nL 294.171429 75.324979 \r\nL 294.171429 74.39176 \r\n\" style=\"fill:#fde725;\"/>\r\n    <path clip-path=\"url(#p74fc7bd7d8)\" d=\"M 7.2 75.324979 \r\nL 55.028571 75.324979 \r\nL 55.028571 76.258197 \r\nL 7.2 76.258197 \r\nL 7.2 75.324979 \r\n\" style=\"fill:#440154;\"/>\r\n    <path clip-path=\"url(#p74fc7bd7d8)\" d=\"M 55.028571 75.324979 \r\nL 102.857143 75.324979 \r\nL 102.857143 76.258197 \r\nL 55.028571 76.258197 \r\nL 55.028571 75.324979 \r\n\" style=\"fill:#fde725;\"/>\r\n    <path clip-path=\"url(#p74fc7bd7d8)\" d=\"M 102.857143 75.324979 \r\nL 150.685714 75.324979 \r\nL 150.685714 76.258197 \r\nL 102.857143 76.258197 \r\nL 102.857143 75.324979 \r\n\" style=\"fill:#fde725;\"/>\r\n    <path clip-path=\"url(#p74fc7bd7d8)\" d=\"M 150.685714 75.324979 \r\nL 198.514286 75.324979 \r\nL 198.514286 76.258197 \r\nL 150.685714 76.258197 \r\nL 150.685714 75.324979 \r\n\" style=\"fill:#fde725;\"/>\r\n    <path clip-path=\"url(#p74fc7bd7d8)\" d=\"M 198.514286 75.324979 \r\nL 246.342857 75.324979 \r\nL 246.342857 76.258197 \r\nL 198.514286 76.258197 \r\nL 198.514286 75.324979 \r\n\" style=\"fill:#fde725;\"/>\r\n    <path clip-path=\"url(#p74fc7bd7d8)\" d=\"M 246.342857 75.324979 \r\nL 294.171429 75.324979 \r\nL 294.171429 76.258197 \r\nL 246.342857 76.258197 \r\nL 246.342857 75.324979 \r\n\" style=\"fill:#fde725;\"/>\r\n    <path clip-path=\"url(#p74fc7bd7d8)\" d=\"M 294.171429 75.324979 \r\nL 342 75.324979 \r\nL 342 76.258197 \r\nL 294.171429 76.258197 \r\nL 294.171429 75.324979 \r\n\" style=\"fill:#fde725;\"/>\r\n    <path clip-path=\"url(#p74fc7bd7d8)\" d=\"M 7.2 76.258197 \r\nL 55.028571 76.258197 \r\nL 55.028571 77.191416 \r\nL 7.2 77.191416 \r\nL 7.2 76.258197 \r\n\" style=\"fill:#440154;\"/>\r\n    <path clip-path=\"url(#p74fc7bd7d8)\" d=\"M 55.028571 76.258197 \r\nL 102.857143 76.258197 \r\nL 102.857143 77.191416 \r\nL 55.028571 77.191416 \r\nL 55.028571 76.258197 \r\n\" style=\"fill:#fde725;\"/>\r\n    <path clip-path=\"url(#p74fc7bd7d8)\" d=\"M 102.857143 76.258197 \r\nL 150.685714 76.258197 \r\nL 150.685714 77.191416 \r\nL 102.857143 77.191416 \r\nL 102.857143 76.258197 \r\n\" style=\"fill:#fde725;\"/>\r\n    <path clip-path=\"url(#p74fc7bd7d8)\" d=\"M 150.685714 76.258197 \r\nL 198.514286 76.258197 \r\nL 198.514286 77.191416 \r\nL 150.685714 77.191416 \r\nL 150.685714 76.258197 \r\n\" style=\"fill:#fde725;\"/>\r\n    <path clip-path=\"url(#p74fc7bd7d8)\" d=\"M 198.514286 76.258197 \r\nL 246.342857 76.258197 \r\nL 246.342857 77.191416 \r\nL 198.514286 77.191416 \r\nL 198.514286 76.258197 \r\n\" style=\"fill:#fde725;\"/>\r\n    <path clip-path=\"url(#p74fc7bd7d8)\" d=\"M 246.342857 76.258197 \r\nL 294.171429 76.258197 \r\nL 294.171429 77.191416 \r\nL 246.342857 77.191416 \r\nL 246.342857 76.258197 \r\n\" style=\"fill:#fde725;\"/>\r\n    <path clip-path=\"url(#p74fc7bd7d8)\" d=\"M 294.171429 76.258197 \r\nL 342 76.258197 \r\nL 342 77.191416 \r\nL 294.171429 77.191416 \r\nL 294.171429 76.258197 \r\n\" style=\"fill:#fde725;\"/>\r\n    <path clip-path=\"url(#p74fc7bd7d8)\" d=\"M 7.2 77.191416 \r\nL 55.028571 77.191416 \r\nL 55.028571 78.124635 \r\nL 7.2 78.124635 \r\nL 7.2 77.191416 \r\n\" style=\"fill:#440154;\"/>\r\n    <path clip-path=\"url(#p74fc7bd7d8)\" d=\"M 55.028571 77.191416 \r\nL 102.857143 77.191416 \r\nL 102.857143 78.124635 \r\nL 55.028571 78.124635 \r\nL 55.028571 77.191416 \r\n\" style=\"fill:#fde725;\"/>\r\n    <path clip-path=\"url(#p74fc7bd7d8)\" d=\"M 102.857143 77.191416 \r\nL 150.685714 77.191416 \r\nL 150.685714 78.124635 \r\nL 102.857143 78.124635 \r\nL 102.857143 77.191416 \r\n\" style=\"fill:#fde725;\"/>\r\n    <path clip-path=\"url(#p74fc7bd7d8)\" d=\"M 150.685714 77.191416 \r\nL 198.514286 77.191416 \r\nL 198.514286 78.124635 \r\nL 150.685714 78.124635 \r\nL 150.685714 77.191416 \r\n\" style=\"fill:#fde725;\"/>\r\n    <path clip-path=\"url(#p74fc7bd7d8)\" d=\"M 198.514286 77.191416 \r\nL 246.342857 77.191416 \r\nL 246.342857 78.124635 \r\nL 198.514286 78.124635 \r\nL 198.514286 77.191416 \r\n\" style=\"fill:#fde725;\"/>\r\n    <path clip-path=\"url(#p74fc7bd7d8)\" d=\"M 246.342857 77.191416 \r\nL 294.171429 77.191416 \r\nL 294.171429 78.124635 \r\nL 246.342857 78.124635 \r\nL 246.342857 77.191416 \r\n\" style=\"fill:#fde725;\"/>\r\n    <path clip-path=\"url(#p74fc7bd7d8)\" d=\"M 294.171429 77.191416 \r\nL 342 77.191416 \r\nL 342 78.124635 \r\nL 294.171429 78.124635 \r\nL 294.171429 77.191416 \r\n\" style=\"fill:#fde725;\"/>\r\n    <path clip-path=\"url(#p74fc7bd7d8)\" d=\"M 7.2 78.124635 \r\nL 55.028571 78.124635 \r\nL 55.028571 79.057854 \r\nL 7.2 79.057854 \r\nL 7.2 78.124635 \r\n\" style=\"fill:#440154;\"/>\r\n    <path clip-path=\"url(#p74fc7bd7d8)\" d=\"M 55.028571 78.124635 \r\nL 102.857143 78.124635 \r\nL 102.857143 79.057854 \r\nL 55.028571 79.057854 \r\nL 55.028571 78.124635 \r\n\" style=\"fill:#fde725;\"/>\r\n    <path clip-path=\"url(#p74fc7bd7d8)\" d=\"M 102.857143 78.124635 \r\nL 150.685714 78.124635 \r\nL 150.685714 79.057854 \r\nL 102.857143 79.057854 \r\nL 102.857143 78.124635 \r\n\" style=\"fill:#fde725;\"/>\r\n    <path clip-path=\"url(#p74fc7bd7d8)\" d=\"M 150.685714 78.124635 \r\nL 198.514286 78.124635 \r\nL 198.514286 79.057854 \r\nL 150.685714 79.057854 \r\nL 150.685714 78.124635 \r\n\" style=\"fill:#fde725;\"/>\r\n    <path clip-path=\"url(#p74fc7bd7d8)\" d=\"M 198.514286 78.124635 \r\nL 246.342857 78.124635 \r\nL 246.342857 79.057854 \r\nL 198.514286 79.057854 \r\nL 198.514286 78.124635 \r\n\" style=\"fill:#fde725;\"/>\r\n    <path clip-path=\"url(#p74fc7bd7d8)\" d=\"M 246.342857 78.124635 \r\nL 294.171429 78.124635 \r\nL 294.171429 79.057854 \r\nL 246.342857 79.057854 \r\nL 246.342857 78.124635 \r\n\" style=\"fill:#fde725;\"/>\r\n    <path clip-path=\"url(#p74fc7bd7d8)\" d=\"M 294.171429 78.124635 \r\nL 342 78.124635 \r\nL 342 79.057854 \r\nL 294.171429 79.057854 \r\nL 294.171429 78.124635 \r\n\" style=\"fill:#fde725;\"/>\r\n    <path clip-path=\"url(#p74fc7bd7d8)\" d=\"M 7.2 79.057854 \r\nL 55.028571 79.057854 \r\nL 55.028571 79.991073 \r\nL 7.2 79.991073 \r\nL 7.2 79.057854 \r\n\" style=\"fill:#440154;\"/>\r\n    <path clip-path=\"url(#p74fc7bd7d8)\" d=\"M 55.028571 79.057854 \r\nL 102.857143 79.057854 \r\nL 102.857143 79.991073 \r\nL 55.028571 79.991073 \r\nL 55.028571 79.057854 \r\n\" style=\"fill:#440154;\"/>\r\n    <path clip-path=\"url(#p74fc7bd7d8)\" d=\"M 102.857143 79.057854 \r\nL 150.685714 79.057854 \r\nL 150.685714 79.991073 \r\nL 102.857143 79.991073 \r\nL 102.857143 79.057854 \r\n\" style=\"fill:#440154;\"/>\r\n    <path clip-path=\"url(#p74fc7bd7d8)\" d=\"M 150.685714 79.057854 \r\nL 198.514286 79.057854 \r\nL 198.514286 79.991073 \r\nL 150.685714 79.991073 \r\nL 150.685714 79.057854 \r\n\" style=\"fill:#440154;\"/>\r\n    <path clip-path=\"url(#p74fc7bd7d8)\" d=\"M 198.514286 79.057854 \r\nL 246.342857 79.057854 \r\nL 246.342857 79.991073 \r\nL 198.514286 79.991073 \r\nL 198.514286 79.057854 \r\n\" style=\"fill:#440154;\"/>\r\n    <path clip-path=\"url(#p74fc7bd7d8)\" d=\"M 246.342857 79.057854 \r\nL 294.171429 79.057854 \r\nL 294.171429 79.991073 \r\nL 246.342857 79.991073 \r\nL 246.342857 79.057854 \r\n\" style=\"fill:#fde725;\"/>\r\n    <path clip-path=\"url(#p74fc7bd7d8)\" d=\"M 294.171429 79.057854 \r\nL 342 79.057854 \r\nL 342 79.991073 \r\nL 294.171429 79.991073 \r\nL 294.171429 79.057854 \r\n\" style=\"fill:#440154;\"/>\r\n    <path clip-path=\"url(#p74fc7bd7d8)\" d=\"M 7.2 79.991073 \r\nL 55.028571 79.991073 \r\nL 55.028571 80.924292 \r\nL 7.2 80.924292 \r\nL 7.2 79.991073 \r\n\" style=\"fill:#440154;\"/>\r\n    <path clip-path=\"url(#p74fc7bd7d8)\" d=\"M 55.028571 79.991073 \r\nL 102.857143 79.991073 \r\nL 102.857143 80.924292 \r\nL 55.028571 80.924292 \r\nL 55.028571 79.991073 \r\n\" style=\"fill:#440154;\"/>\r\n    <path clip-path=\"url(#p74fc7bd7d8)\" d=\"M 102.857143 79.991073 \r\nL 150.685714 79.991073 \r\nL 150.685714 80.924292 \r\nL 102.857143 80.924292 \r\nL 102.857143 79.991073 \r\n\" style=\"fill:#440154;\"/>\r\n    <path clip-path=\"url(#p74fc7bd7d8)\" d=\"M 150.685714 79.991073 \r\nL 198.514286 79.991073 \r\nL 198.514286 80.924292 \r\nL 150.685714 80.924292 \r\nL 150.685714 79.991073 \r\n\" style=\"fill:#440154;\"/>\r\n    <path clip-path=\"url(#p74fc7bd7d8)\" d=\"M 198.514286 79.991073 \r\nL 246.342857 79.991073 \r\nL 246.342857 80.924292 \r\nL 198.514286 80.924292 \r\nL 198.514286 79.991073 \r\n\" style=\"fill:#440154;\"/>\r\n    <path clip-path=\"url(#p74fc7bd7d8)\" d=\"M 246.342857 79.991073 \r\nL 294.171429 79.991073 \r\nL 294.171429 80.924292 \r\nL 246.342857 80.924292 \r\nL 246.342857 79.991073 \r\n\" style=\"fill:#440154;\"/>\r\n    <path clip-path=\"url(#p74fc7bd7d8)\" d=\"M 294.171429 79.991073 \r\nL 342 79.991073 \r\nL 342 80.924292 \r\nL 294.171429 80.924292 \r\nL 294.171429 79.991073 \r\n\" style=\"fill:#440154;\"/>\r\n    <path clip-path=\"url(#p74fc7bd7d8)\" d=\"M 7.2 80.924292 \r\nL 55.028571 80.924292 \r\nL 55.028571 81.857511 \r\nL 7.2 81.857511 \r\nL 7.2 80.924292 \r\n\" style=\"fill:#440154;\"/>\r\n    <path clip-path=\"url(#p74fc7bd7d8)\" d=\"M 55.028571 80.924292 \r\nL 102.857143 80.924292 \r\nL 102.857143 81.857511 \r\nL 55.028571 81.857511 \r\nL 55.028571 80.924292 \r\n\" style=\"fill:#440154;\"/>\r\n    <path clip-path=\"url(#p74fc7bd7d8)\" d=\"M 102.857143 80.924292 \r\nL 150.685714 80.924292 \r\nL 150.685714 81.857511 \r\nL 102.857143 81.857511 \r\nL 102.857143 80.924292 \r\n\" style=\"fill:#440154;\"/>\r\n    <path clip-path=\"url(#p74fc7bd7d8)\" d=\"M 150.685714 80.924292 \r\nL 198.514286 80.924292 \r\nL 198.514286 81.857511 \r\nL 150.685714 81.857511 \r\nL 150.685714 80.924292 \r\n\" style=\"fill:#440154;\"/>\r\n    <path clip-path=\"url(#p74fc7bd7d8)\" d=\"M 198.514286 80.924292 \r\nL 246.342857 80.924292 \r\nL 246.342857 81.857511 \r\nL 198.514286 81.857511 \r\nL 198.514286 80.924292 \r\n\" style=\"fill:#440154;\"/>\r\n    <path clip-path=\"url(#p74fc7bd7d8)\" d=\"M 246.342857 80.924292 \r\nL 294.171429 80.924292 \r\nL 294.171429 81.857511 \r\nL 246.342857 81.857511 \r\nL 246.342857 80.924292 \r\n\" style=\"fill:#440154;\"/>\r\n    <path clip-path=\"url(#p74fc7bd7d8)\" d=\"M 294.171429 80.924292 \r\nL 342 80.924292 \r\nL 342 81.857511 \r\nL 294.171429 81.857511 \r\nL 294.171429 80.924292 \r\n\" style=\"fill:#440154;\"/>\r\n    <path clip-path=\"url(#p74fc7bd7d8)\" d=\"M 7.2 81.857511 \r\nL 55.028571 81.857511 \r\nL 55.028571 82.79073 \r\nL 7.2 82.79073 \r\nL 7.2 81.857511 \r\n\" style=\"fill:#440154;\"/>\r\n    <path clip-path=\"url(#p74fc7bd7d8)\" d=\"M 55.028571 81.857511 \r\nL 102.857143 81.857511 \r\nL 102.857143 82.79073 \r\nL 55.028571 82.79073 \r\nL 55.028571 81.857511 \r\n\" style=\"fill:#440154;\"/>\r\n    <path clip-path=\"url(#p74fc7bd7d8)\" d=\"M 102.857143 81.857511 \r\nL 150.685714 81.857511 \r\nL 150.685714 82.79073 \r\nL 102.857143 82.79073 \r\nL 102.857143 81.857511 \r\n\" style=\"fill:#440154;\"/>\r\n    <path clip-path=\"url(#p74fc7bd7d8)\" d=\"M 150.685714 81.857511 \r\nL 198.514286 81.857511 \r\nL 198.514286 82.79073 \r\nL 150.685714 82.79073 \r\nL 150.685714 81.857511 \r\n\" style=\"fill:#440154;\"/>\r\n    <path clip-path=\"url(#p74fc7bd7d8)\" d=\"M 198.514286 81.857511 \r\nL 246.342857 81.857511 \r\nL 246.342857 82.79073 \r\nL 198.514286 82.79073 \r\nL 198.514286 81.857511 \r\n\" style=\"fill:#440154;\"/>\r\n    <path clip-path=\"url(#p74fc7bd7d8)\" d=\"M 246.342857 81.857511 \r\nL 294.171429 81.857511 \r\nL 294.171429 82.79073 \r\nL 246.342857 82.79073 \r\nL 246.342857 81.857511 \r\n\" style=\"fill:#440154;\"/>\r\n    <path clip-path=\"url(#p74fc7bd7d8)\" d=\"M 294.171429 81.857511 \r\nL 342 81.857511 \r\nL 342 82.79073 \r\nL 294.171429 82.79073 \r\nL 294.171429 81.857511 \r\n\" style=\"fill:#440154;\"/>\r\n    <path clip-path=\"url(#p74fc7bd7d8)\" d=\"M 7.2 82.79073 \r\nL 55.028571 82.79073 \r\nL 55.028571 83.723948 \r\nL 7.2 83.723948 \r\nL 7.2 82.79073 \r\n\" style=\"fill:#440154;\"/>\r\n    <path clip-path=\"url(#p74fc7bd7d8)\" d=\"M 55.028571 82.79073 \r\nL 102.857143 82.79073 \r\nL 102.857143 83.723948 \r\nL 55.028571 83.723948 \r\nL 55.028571 82.79073 \r\n\" style=\"fill:#fde725;\"/>\r\n    <path clip-path=\"url(#p74fc7bd7d8)\" d=\"M 102.857143 82.79073 \r\nL 150.685714 82.79073 \r\nL 150.685714 83.723948 \r\nL 102.857143 83.723948 \r\nL 102.857143 82.79073 \r\n\" style=\"fill:#fde725;\"/>\r\n    <path clip-path=\"url(#p74fc7bd7d8)\" d=\"M 150.685714 82.79073 \r\nL 198.514286 82.79073 \r\nL 198.514286 83.723948 \r\nL 150.685714 83.723948 \r\nL 150.685714 82.79073 \r\n\" style=\"fill:#fde725;\"/>\r\n    <path clip-path=\"url(#p74fc7bd7d8)\" d=\"M 198.514286 82.79073 \r\nL 246.342857 82.79073 \r\nL 246.342857 83.723948 \r\nL 198.514286 83.723948 \r\nL 198.514286 82.79073 \r\n\" style=\"fill:#fde725;\"/>\r\n    <path clip-path=\"url(#p74fc7bd7d8)\" d=\"M 246.342857 82.79073 \r\nL 294.171429 82.79073 \r\nL 294.171429 83.723948 \r\nL 246.342857 83.723948 \r\nL 246.342857 82.79073 \r\n\" style=\"fill:#fde725;\"/>\r\n    <path clip-path=\"url(#p74fc7bd7d8)\" d=\"M 294.171429 82.79073 \r\nL 342 82.79073 \r\nL 342 83.723948 \r\nL 294.171429 83.723948 \r\nL 294.171429 82.79073 \r\n\" style=\"fill:#fde725;\"/>\r\n    <path clip-path=\"url(#p74fc7bd7d8)\" d=\"M 7.2 83.723948 \r\nL 55.028571 83.723948 \r\nL 55.028571 84.657167 \r\nL 7.2 84.657167 \r\nL 7.2 83.723948 \r\n\" style=\"fill:#440154;\"/>\r\n    <path clip-path=\"url(#p74fc7bd7d8)\" d=\"M 55.028571 83.723948 \r\nL 102.857143 83.723948 \r\nL 102.857143 84.657167 \r\nL 55.028571 84.657167 \r\nL 55.028571 83.723948 \r\n\" style=\"fill:#440154;\"/>\r\n    <path clip-path=\"url(#p74fc7bd7d8)\" d=\"M 102.857143 83.723948 \r\nL 150.685714 83.723948 \r\nL 150.685714 84.657167 \r\nL 102.857143 84.657167 \r\nL 102.857143 83.723948 \r\n\" style=\"fill:#440154;\"/>\r\n    <path clip-path=\"url(#p74fc7bd7d8)\" d=\"M 150.685714 83.723948 \r\nL 198.514286 83.723948 \r\nL 198.514286 84.657167 \r\nL 150.685714 84.657167 \r\nL 150.685714 83.723948 \r\n\" style=\"fill:#440154;\"/>\r\n    <path clip-path=\"url(#p74fc7bd7d8)\" d=\"M 198.514286 83.723948 \r\nL 246.342857 83.723948 \r\nL 246.342857 84.657167 \r\nL 198.514286 84.657167 \r\nL 198.514286 83.723948 \r\n\" style=\"fill:#440154;\"/>\r\n    <path clip-path=\"url(#p74fc7bd7d8)\" d=\"M 246.342857 83.723948 \r\nL 294.171429 83.723948 \r\nL 294.171429 84.657167 \r\nL 246.342857 84.657167 \r\nL 246.342857 83.723948 \r\n\" style=\"fill:#440154;\"/>\r\n    <path clip-path=\"url(#p74fc7bd7d8)\" d=\"M 294.171429 83.723948 \r\nL 342 83.723948 \r\nL 342 84.657167 \r\nL 294.171429 84.657167 \r\nL 294.171429 83.723948 \r\n\" style=\"fill:#440154;\"/>\r\n    <path clip-path=\"url(#p74fc7bd7d8)\" d=\"M 7.2 84.657167 \r\nL 55.028571 84.657167 \r\nL 55.028571 85.590386 \r\nL 7.2 85.590386 \r\nL 7.2 84.657167 \r\n\" style=\"fill:#440154;\"/>\r\n    <path clip-path=\"url(#p74fc7bd7d8)\" d=\"M 55.028571 84.657167 \r\nL 102.857143 84.657167 \r\nL 102.857143 85.590386 \r\nL 55.028571 85.590386 \r\nL 55.028571 84.657167 \r\n\" style=\"fill:#440154;\"/>\r\n    <path clip-path=\"url(#p74fc7bd7d8)\" d=\"M 102.857143 84.657167 \r\nL 150.685714 84.657167 \r\nL 150.685714 85.590386 \r\nL 102.857143 85.590386 \r\nL 102.857143 84.657167 \r\n\" style=\"fill:#440154;\"/>\r\n    <path clip-path=\"url(#p74fc7bd7d8)\" d=\"M 150.685714 84.657167 \r\nL 198.514286 84.657167 \r\nL 198.514286 85.590386 \r\nL 150.685714 85.590386 \r\nL 150.685714 84.657167 \r\n\" style=\"fill:#440154;\"/>\r\n    <path clip-path=\"url(#p74fc7bd7d8)\" d=\"M 198.514286 84.657167 \r\nL 246.342857 84.657167 \r\nL 246.342857 85.590386 \r\nL 198.514286 85.590386 \r\nL 198.514286 84.657167 \r\n\" style=\"fill:#440154;\"/>\r\n    <path clip-path=\"url(#p74fc7bd7d8)\" d=\"M 246.342857 84.657167 \r\nL 294.171429 84.657167 \r\nL 294.171429 85.590386 \r\nL 246.342857 85.590386 \r\nL 246.342857 84.657167 \r\n\" style=\"fill:#440154;\"/>\r\n    <path clip-path=\"url(#p74fc7bd7d8)\" d=\"M 294.171429 84.657167 \r\nL 342 84.657167 \r\nL 342 85.590386 \r\nL 294.171429 85.590386 \r\nL 294.171429 84.657167 \r\n\" style=\"fill:#fde725;\"/>\r\n    <path clip-path=\"url(#p74fc7bd7d8)\" d=\"M 7.2 85.590386 \r\nL 55.028571 85.590386 \r\nL 55.028571 86.523605 \r\nL 7.2 86.523605 \r\nL 7.2 85.590386 \r\n\" style=\"fill:#440154;\"/>\r\n    <path clip-path=\"url(#p74fc7bd7d8)\" d=\"M 55.028571 85.590386 \r\nL 102.857143 85.590386 \r\nL 102.857143 86.523605 \r\nL 55.028571 86.523605 \r\nL 55.028571 85.590386 \r\n\" style=\"fill:#440154;\"/>\r\n    <path clip-path=\"url(#p74fc7bd7d8)\" d=\"M 102.857143 85.590386 \r\nL 150.685714 85.590386 \r\nL 150.685714 86.523605 \r\nL 102.857143 86.523605 \r\nL 102.857143 85.590386 \r\n\" style=\"fill:#440154;\"/>\r\n    <path clip-path=\"url(#p74fc7bd7d8)\" d=\"M 150.685714 85.590386 \r\nL 198.514286 85.590386 \r\nL 198.514286 86.523605 \r\nL 150.685714 86.523605 \r\nL 150.685714 85.590386 \r\n\" style=\"fill:#440154;\"/>\r\n    <path clip-path=\"url(#p74fc7bd7d8)\" d=\"M 198.514286 85.590386 \r\nL 246.342857 85.590386 \r\nL 246.342857 86.523605 \r\nL 198.514286 86.523605 \r\nL 198.514286 85.590386 \r\n\" style=\"fill:#440154;\"/>\r\n    <path clip-path=\"url(#p74fc7bd7d8)\" d=\"M 246.342857 85.590386 \r\nL 294.171429 85.590386 \r\nL 294.171429 86.523605 \r\nL 246.342857 86.523605 \r\nL 246.342857 85.590386 \r\n\" style=\"fill:#440154;\"/>\r\n    <path clip-path=\"url(#p74fc7bd7d8)\" d=\"M 294.171429 85.590386 \r\nL 342 85.590386 \r\nL 342 86.523605 \r\nL 294.171429 86.523605 \r\nL 294.171429 85.590386 \r\n\" style=\"fill:#440154;\"/>\r\n    <path clip-path=\"url(#p74fc7bd7d8)\" d=\"M 7.2 86.523605 \r\nL 55.028571 86.523605 \r\nL 55.028571 87.456824 \r\nL 7.2 87.456824 \r\nL 7.2 86.523605 \r\n\" style=\"fill:#440154;\"/>\r\n    <path clip-path=\"url(#p74fc7bd7d8)\" d=\"M 55.028571 86.523605 \r\nL 102.857143 86.523605 \r\nL 102.857143 87.456824 \r\nL 55.028571 87.456824 \r\nL 55.028571 86.523605 \r\n\" style=\"fill:#440154;\"/>\r\n    <path clip-path=\"url(#p74fc7bd7d8)\" d=\"M 102.857143 86.523605 \r\nL 150.685714 86.523605 \r\nL 150.685714 87.456824 \r\nL 102.857143 87.456824 \r\nL 102.857143 86.523605 \r\n\" style=\"fill:#440154;\"/>\r\n    <path clip-path=\"url(#p74fc7bd7d8)\" d=\"M 150.685714 86.523605 \r\nL 198.514286 86.523605 \r\nL 198.514286 87.456824 \r\nL 150.685714 87.456824 \r\nL 150.685714 86.523605 \r\n\" style=\"fill:#440154;\"/>\r\n    <path clip-path=\"url(#p74fc7bd7d8)\" d=\"M 198.514286 86.523605 \r\nL 246.342857 86.523605 \r\nL 246.342857 87.456824 \r\nL 198.514286 87.456824 \r\nL 198.514286 86.523605 \r\n\" style=\"fill:#440154;\"/>\r\n    <path clip-path=\"url(#p74fc7bd7d8)\" d=\"M 246.342857 86.523605 \r\nL 294.171429 86.523605 \r\nL 294.171429 87.456824 \r\nL 246.342857 87.456824 \r\nL 246.342857 86.523605 \r\n\" style=\"fill:#440154;\"/>\r\n    <path clip-path=\"url(#p74fc7bd7d8)\" d=\"M 294.171429 86.523605 \r\nL 342 86.523605 \r\nL 342 87.456824 \r\nL 294.171429 87.456824 \r\nL 294.171429 86.523605 \r\n\" style=\"fill:#440154;\"/>\r\n    <path clip-path=\"url(#p74fc7bd7d8)\" d=\"M 7.2 87.456824 \r\nL 55.028571 87.456824 \r\nL 55.028571 88.390043 \r\nL 7.2 88.390043 \r\nL 7.2 87.456824 \r\n\" style=\"fill:#440154;\"/>\r\n    <path clip-path=\"url(#p74fc7bd7d8)\" d=\"M 55.028571 87.456824 \r\nL 102.857143 87.456824 \r\nL 102.857143 88.390043 \r\nL 55.028571 88.390043 \r\nL 55.028571 87.456824 \r\n\" style=\"fill:#440154;\"/>\r\n    <path clip-path=\"url(#p74fc7bd7d8)\" d=\"M 102.857143 87.456824 \r\nL 150.685714 87.456824 \r\nL 150.685714 88.390043 \r\nL 102.857143 88.390043 \r\nL 102.857143 87.456824 \r\n\" style=\"fill:#440154;\"/>\r\n    <path clip-path=\"url(#p74fc7bd7d8)\" d=\"M 150.685714 87.456824 \r\nL 198.514286 87.456824 \r\nL 198.514286 88.390043 \r\nL 150.685714 88.390043 \r\nL 150.685714 87.456824 \r\n\" style=\"fill:#440154;\"/>\r\n    <path clip-path=\"url(#p74fc7bd7d8)\" d=\"M 198.514286 87.456824 \r\nL 246.342857 87.456824 \r\nL 246.342857 88.390043 \r\nL 198.514286 88.390043 \r\nL 198.514286 87.456824 \r\n\" style=\"fill:#fde725;\"/>\r\n    <path clip-path=\"url(#p74fc7bd7d8)\" d=\"M 246.342857 87.456824 \r\nL 294.171429 87.456824 \r\nL 294.171429 88.390043 \r\nL 246.342857 88.390043 \r\nL 246.342857 87.456824 \r\n\" style=\"fill:#440154;\"/>\r\n    <path clip-path=\"url(#p74fc7bd7d8)\" d=\"M 294.171429 87.456824 \r\nL 342 87.456824 \r\nL 342 88.390043 \r\nL 294.171429 88.390043 \r\nL 294.171429 87.456824 \r\n\" style=\"fill:#440154;\"/>\r\n    <path clip-path=\"url(#p74fc7bd7d8)\" d=\"M 7.2 88.390043 \r\nL 55.028571 88.390043 \r\nL 55.028571 89.323262 \r\nL 7.2 89.323262 \r\nL 7.2 88.390043 \r\n\" style=\"fill:#440154;\"/>\r\n    <path clip-path=\"url(#p74fc7bd7d8)\" d=\"M 55.028571 88.390043 \r\nL 102.857143 88.390043 \r\nL 102.857143 89.323262 \r\nL 55.028571 89.323262 \r\nL 55.028571 88.390043 \r\n\" style=\"fill:#440154;\"/>\r\n    <path clip-path=\"url(#p74fc7bd7d8)\" d=\"M 102.857143 88.390043 \r\nL 150.685714 88.390043 \r\nL 150.685714 89.323262 \r\nL 102.857143 89.323262 \r\nL 102.857143 88.390043 \r\n\" style=\"fill:#440154;\"/>\r\n    <path clip-path=\"url(#p74fc7bd7d8)\" d=\"M 150.685714 88.390043 \r\nL 198.514286 88.390043 \r\nL 198.514286 89.323262 \r\nL 150.685714 89.323262 \r\nL 150.685714 88.390043 \r\n\" style=\"fill:#440154;\"/>\r\n    <path clip-path=\"url(#p74fc7bd7d8)\" d=\"M 198.514286 88.390043 \r\nL 246.342857 88.390043 \r\nL 246.342857 89.323262 \r\nL 198.514286 89.323262 \r\nL 198.514286 88.390043 \r\n\" style=\"fill:#440154;\"/>\r\n    <path clip-path=\"url(#p74fc7bd7d8)\" d=\"M 246.342857 88.390043 \r\nL 294.171429 88.390043 \r\nL 294.171429 89.323262 \r\nL 246.342857 89.323262 \r\nL 246.342857 88.390043 \r\n\" style=\"fill:#fde725;\"/>\r\n    <path clip-path=\"url(#p74fc7bd7d8)\" d=\"M 294.171429 88.390043 \r\nL 342 88.390043 \r\nL 342 89.323262 \r\nL 294.171429 89.323262 \r\nL 294.171429 88.390043 \r\n\" style=\"fill:#fde725;\"/>\r\n    <path clip-path=\"url(#p74fc7bd7d8)\" d=\"M 7.2 89.323262 \r\nL 55.028571 89.323262 \r\nL 55.028571 90.256481 \r\nL 7.2 90.256481 \r\nL 7.2 89.323262 \r\n\" style=\"fill:#440154;\"/>\r\n    <path clip-path=\"url(#p74fc7bd7d8)\" d=\"M 55.028571 89.323262 \r\nL 102.857143 89.323262 \r\nL 102.857143 90.256481 \r\nL 55.028571 90.256481 \r\nL 55.028571 89.323262 \r\n\" style=\"fill:#fde725;\"/>\r\n    <path clip-path=\"url(#p74fc7bd7d8)\" d=\"M 102.857143 89.323262 \r\nL 150.685714 89.323262 \r\nL 150.685714 90.256481 \r\nL 102.857143 90.256481 \r\nL 102.857143 89.323262 \r\n\" style=\"fill:#fde725;\"/>\r\n    <path clip-path=\"url(#p74fc7bd7d8)\" d=\"M 150.685714 89.323262 \r\nL 198.514286 89.323262 \r\nL 198.514286 90.256481 \r\nL 150.685714 90.256481 \r\nL 150.685714 89.323262 \r\n\" style=\"fill:#fde725;\"/>\r\n    <path clip-path=\"url(#p74fc7bd7d8)\" d=\"M 198.514286 89.323262 \r\nL 246.342857 89.323262 \r\nL 246.342857 90.256481 \r\nL 198.514286 90.256481 \r\nL 198.514286 89.323262 \r\n\" style=\"fill:#fde725;\"/>\r\n    <path clip-path=\"url(#p74fc7bd7d8)\" d=\"M 246.342857 89.323262 \r\nL 294.171429 89.323262 \r\nL 294.171429 90.256481 \r\nL 246.342857 90.256481 \r\nL 246.342857 89.323262 \r\n\" style=\"fill:#fde725;\"/>\r\n    <path clip-path=\"url(#p74fc7bd7d8)\" d=\"M 294.171429 89.323262 \r\nL 342 89.323262 \r\nL 342 90.256481 \r\nL 294.171429 90.256481 \r\nL 294.171429 89.323262 \r\n\" style=\"fill:#fde725;\"/>\r\n    <path clip-path=\"url(#p74fc7bd7d8)\" d=\"M 7.2 90.256481 \r\nL 55.028571 90.256481 \r\nL 55.028571 91.1897 \r\nL 7.2 91.1897 \r\nL 7.2 90.256481 \r\n\" style=\"fill:#440154;\"/>\r\n    <path clip-path=\"url(#p74fc7bd7d8)\" d=\"M 55.028571 90.256481 \r\nL 102.857143 90.256481 \r\nL 102.857143 91.1897 \r\nL 55.028571 91.1897 \r\nL 55.028571 90.256481 \r\n\" style=\"fill:#440154;\"/>\r\n    <path clip-path=\"url(#p74fc7bd7d8)\" d=\"M 102.857143 90.256481 \r\nL 150.685714 90.256481 \r\nL 150.685714 91.1897 \r\nL 102.857143 91.1897 \r\nL 102.857143 90.256481 \r\n\" style=\"fill:#440154;\"/>\r\n    <path clip-path=\"url(#p74fc7bd7d8)\" d=\"M 150.685714 90.256481 \r\nL 198.514286 90.256481 \r\nL 198.514286 91.1897 \r\nL 150.685714 91.1897 \r\nL 150.685714 90.256481 \r\n\" style=\"fill:#440154;\"/>\r\n    <path clip-path=\"url(#p74fc7bd7d8)\" d=\"M 198.514286 90.256481 \r\nL 246.342857 90.256481 \r\nL 246.342857 91.1897 \r\nL 198.514286 91.1897 \r\nL 198.514286 90.256481 \r\n\" style=\"fill:#440154;\"/>\r\n    <path clip-path=\"url(#p74fc7bd7d8)\" d=\"M 246.342857 90.256481 \r\nL 294.171429 90.256481 \r\nL 294.171429 91.1897 \r\nL 246.342857 91.1897 \r\nL 246.342857 90.256481 \r\n\" style=\"fill:#440154;\"/>\r\n    <path clip-path=\"url(#p74fc7bd7d8)\" d=\"M 294.171429 90.256481 \r\nL 342 90.256481 \r\nL 342 91.1897 \r\nL 294.171429 91.1897 \r\nL 294.171429 90.256481 \r\n\" style=\"fill:#440154;\"/>\r\n    <path clip-path=\"url(#p74fc7bd7d8)\" d=\"M 7.2 91.1897 \r\nL 55.028571 91.1897 \r\nL 55.028571 92.122918 \r\nL 7.2 92.122918 \r\nL 7.2 91.1897 \r\n\" style=\"fill:#440154;\"/>\r\n    <path clip-path=\"url(#p74fc7bd7d8)\" d=\"M 55.028571 91.1897 \r\nL 102.857143 91.1897 \r\nL 102.857143 92.122918 \r\nL 55.028571 92.122918 \r\nL 55.028571 91.1897 \r\n\" style=\"fill:#440154;\"/>\r\n    <path clip-path=\"url(#p74fc7bd7d8)\" d=\"M 102.857143 91.1897 \r\nL 150.685714 91.1897 \r\nL 150.685714 92.122918 \r\nL 102.857143 92.122918 \r\nL 102.857143 91.1897 \r\n\" style=\"fill:#440154;\"/>\r\n    <path clip-path=\"url(#p74fc7bd7d8)\" d=\"M 150.685714 91.1897 \r\nL 198.514286 91.1897 \r\nL 198.514286 92.122918 \r\nL 150.685714 92.122918 \r\nL 150.685714 91.1897 \r\n\" style=\"fill:#440154;\"/>\r\n    <path clip-path=\"url(#p74fc7bd7d8)\" d=\"M 198.514286 91.1897 \r\nL 246.342857 91.1897 \r\nL 246.342857 92.122918 \r\nL 198.514286 92.122918 \r\nL 198.514286 91.1897 \r\n\" style=\"fill:#440154;\"/>\r\n    <path clip-path=\"url(#p74fc7bd7d8)\" d=\"M 246.342857 91.1897 \r\nL 294.171429 91.1897 \r\nL 294.171429 92.122918 \r\nL 246.342857 92.122918 \r\nL 246.342857 91.1897 \r\n\" style=\"fill:#440154;\"/>\r\n    <path clip-path=\"url(#p74fc7bd7d8)\" d=\"M 294.171429 91.1897 \r\nL 342 91.1897 \r\nL 342 92.122918 \r\nL 294.171429 92.122918 \r\nL 294.171429 91.1897 \r\n\" style=\"fill:#440154;\"/>\r\n    <path clip-path=\"url(#p74fc7bd7d8)\" d=\"M 7.2 92.122918 \r\nL 55.028571 92.122918 \r\nL 55.028571 93.056137 \r\nL 7.2 93.056137 \r\nL 7.2 92.122918 \r\n\" style=\"fill:#440154;\"/>\r\n    <path clip-path=\"url(#p74fc7bd7d8)\" d=\"M 55.028571 92.122918 \r\nL 102.857143 92.122918 \r\nL 102.857143 93.056137 \r\nL 55.028571 93.056137 \r\nL 55.028571 92.122918 \r\n\" style=\"fill:#440154;\"/>\r\n    <path clip-path=\"url(#p74fc7bd7d8)\" d=\"M 102.857143 92.122918 \r\nL 150.685714 92.122918 \r\nL 150.685714 93.056137 \r\nL 102.857143 93.056137 \r\nL 102.857143 92.122918 \r\n\" style=\"fill:#440154;\"/>\r\n    <path clip-path=\"url(#p74fc7bd7d8)\" d=\"M 150.685714 92.122918 \r\nL 198.514286 92.122918 \r\nL 198.514286 93.056137 \r\nL 150.685714 93.056137 \r\nL 150.685714 92.122918 \r\n\" style=\"fill:#440154;\"/>\r\n    <path clip-path=\"url(#p74fc7bd7d8)\" d=\"M 198.514286 92.122918 \r\nL 246.342857 92.122918 \r\nL 246.342857 93.056137 \r\nL 198.514286 93.056137 \r\nL 198.514286 92.122918 \r\n\" style=\"fill:#440154;\"/>\r\n    <path clip-path=\"url(#p74fc7bd7d8)\" d=\"M 246.342857 92.122918 \r\nL 294.171429 92.122918 \r\nL 294.171429 93.056137 \r\nL 246.342857 93.056137 \r\nL 246.342857 92.122918 \r\n\" style=\"fill:#440154;\"/>\r\n    <path clip-path=\"url(#p74fc7bd7d8)\" d=\"M 294.171429 92.122918 \r\nL 342 92.122918 \r\nL 342 93.056137 \r\nL 294.171429 93.056137 \r\nL 294.171429 92.122918 \r\n\" style=\"fill:#fde725;\"/>\r\n    <path clip-path=\"url(#p74fc7bd7d8)\" d=\"M 7.2 93.056137 \r\nL 55.028571 93.056137 \r\nL 55.028571 93.989356 \r\nL 7.2 93.989356 \r\nL 7.2 93.056137 \r\n\" style=\"fill:#440154;\"/>\r\n    <path clip-path=\"url(#p74fc7bd7d8)\" d=\"M 55.028571 93.056137 \r\nL 102.857143 93.056137 \r\nL 102.857143 93.989356 \r\nL 55.028571 93.989356 \r\nL 55.028571 93.056137 \r\n\" style=\"fill:#fde725;\"/>\r\n    <path clip-path=\"url(#p74fc7bd7d8)\" d=\"M 102.857143 93.056137 \r\nL 150.685714 93.056137 \r\nL 150.685714 93.989356 \r\nL 102.857143 93.989356 \r\nL 102.857143 93.056137 \r\n\" style=\"fill:#fde725;\"/>\r\n    <path clip-path=\"url(#p74fc7bd7d8)\" d=\"M 150.685714 93.056137 \r\nL 198.514286 93.056137 \r\nL 198.514286 93.989356 \r\nL 150.685714 93.989356 \r\nL 150.685714 93.056137 \r\n\" style=\"fill:#fde725;\"/>\r\n    <path clip-path=\"url(#p74fc7bd7d8)\" d=\"M 198.514286 93.056137 \r\nL 246.342857 93.056137 \r\nL 246.342857 93.989356 \r\nL 198.514286 93.989356 \r\nL 198.514286 93.056137 \r\n\" style=\"fill:#fde725;\"/>\r\n    <path clip-path=\"url(#p74fc7bd7d8)\" d=\"M 246.342857 93.056137 \r\nL 294.171429 93.056137 \r\nL 294.171429 93.989356 \r\nL 246.342857 93.989356 \r\nL 246.342857 93.056137 \r\n\" style=\"fill:#fde725;\"/>\r\n    <path clip-path=\"url(#p74fc7bd7d8)\" d=\"M 294.171429 93.056137 \r\nL 342 93.056137 \r\nL 342 93.989356 \r\nL 294.171429 93.989356 \r\nL 294.171429 93.056137 \r\n\" style=\"fill:#fde725;\"/>\r\n    <path clip-path=\"url(#p74fc7bd7d8)\" d=\"M 7.2 93.989356 \r\nL 55.028571 93.989356 \r\nL 55.028571 94.922575 \r\nL 7.2 94.922575 \r\nL 7.2 93.989356 \r\n\" style=\"fill:#440154;\"/>\r\n    <path clip-path=\"url(#p74fc7bd7d8)\" d=\"M 55.028571 93.989356 \r\nL 102.857143 93.989356 \r\nL 102.857143 94.922575 \r\nL 55.028571 94.922575 \r\nL 55.028571 93.989356 \r\n\" style=\"fill:#440154;\"/>\r\n    <path clip-path=\"url(#p74fc7bd7d8)\" d=\"M 102.857143 93.989356 \r\nL 150.685714 93.989356 \r\nL 150.685714 94.922575 \r\nL 102.857143 94.922575 \r\nL 102.857143 93.989356 \r\n\" style=\"fill:#440154;\"/>\r\n    <path clip-path=\"url(#p74fc7bd7d8)\" d=\"M 150.685714 93.989356 \r\nL 198.514286 93.989356 \r\nL 198.514286 94.922575 \r\nL 150.685714 94.922575 \r\nL 150.685714 93.989356 \r\n\" style=\"fill:#440154;\"/>\r\n    <path clip-path=\"url(#p74fc7bd7d8)\" d=\"M 198.514286 93.989356 \r\nL 246.342857 93.989356 \r\nL 246.342857 94.922575 \r\nL 198.514286 94.922575 \r\nL 198.514286 93.989356 \r\n\" style=\"fill:#fde725;\"/>\r\n    <path clip-path=\"url(#p74fc7bd7d8)\" d=\"M 246.342857 93.989356 \r\nL 294.171429 93.989356 \r\nL 294.171429 94.922575 \r\nL 246.342857 94.922575 \r\nL 246.342857 93.989356 \r\n\" style=\"fill:#440154;\"/>\r\n    <path clip-path=\"url(#p74fc7bd7d8)\" d=\"M 294.171429 93.989356 \r\nL 342 93.989356 \r\nL 342 94.922575 \r\nL 294.171429 94.922575 \r\nL 294.171429 93.989356 \r\n\" style=\"fill:#440154;\"/>\r\n    <path clip-path=\"url(#p74fc7bd7d8)\" d=\"M 7.2 94.922575 \r\nL 55.028571 94.922575 \r\nL 55.028571 95.855794 \r\nL 7.2 95.855794 \r\nL 7.2 94.922575 \r\n\" style=\"fill:#440154;\"/>\r\n    <path clip-path=\"url(#p74fc7bd7d8)\" d=\"M 55.028571 94.922575 \r\nL 102.857143 94.922575 \r\nL 102.857143 95.855794 \r\nL 55.028571 95.855794 \r\nL 55.028571 94.922575 \r\n\" style=\"fill:#440154;\"/>\r\n    <path clip-path=\"url(#p74fc7bd7d8)\" d=\"M 102.857143 94.922575 \r\nL 150.685714 94.922575 \r\nL 150.685714 95.855794 \r\nL 102.857143 95.855794 \r\nL 102.857143 94.922575 \r\n\" style=\"fill:#440154;\"/>\r\n    <path clip-path=\"url(#p74fc7bd7d8)\" d=\"M 150.685714 94.922575 \r\nL 198.514286 94.922575 \r\nL 198.514286 95.855794 \r\nL 150.685714 95.855794 \r\nL 150.685714 94.922575 \r\n\" style=\"fill:#440154;\"/>\r\n    <path clip-path=\"url(#p74fc7bd7d8)\" d=\"M 198.514286 94.922575 \r\nL 246.342857 94.922575 \r\nL 246.342857 95.855794 \r\nL 198.514286 95.855794 \r\nL 198.514286 94.922575 \r\n\" style=\"fill:#440154;\"/>\r\n    <path clip-path=\"url(#p74fc7bd7d8)\" d=\"M 246.342857 94.922575 \r\nL 294.171429 94.922575 \r\nL 294.171429 95.855794 \r\nL 246.342857 95.855794 \r\nL 246.342857 94.922575 \r\n\" style=\"fill:#440154;\"/>\r\n    <path clip-path=\"url(#p74fc7bd7d8)\" d=\"M 294.171429 94.922575 \r\nL 342 94.922575 \r\nL 342 95.855794 \r\nL 294.171429 95.855794 \r\nL 294.171429 94.922575 \r\n\" style=\"fill:#fde725;\"/>\r\n    <path clip-path=\"url(#p74fc7bd7d8)\" d=\"M 7.2 95.855794 \r\nL 55.028571 95.855794 \r\nL 55.028571 96.789013 \r\nL 7.2 96.789013 \r\nL 7.2 95.855794 \r\n\" style=\"fill:#440154;\"/>\r\n    <path clip-path=\"url(#p74fc7bd7d8)\" d=\"M 55.028571 95.855794 \r\nL 102.857143 95.855794 \r\nL 102.857143 96.789013 \r\nL 55.028571 96.789013 \r\nL 55.028571 95.855794 \r\n\" style=\"fill:#440154;\"/>\r\n    <path clip-path=\"url(#p74fc7bd7d8)\" d=\"M 102.857143 95.855794 \r\nL 150.685714 95.855794 \r\nL 150.685714 96.789013 \r\nL 102.857143 96.789013 \r\nL 102.857143 95.855794 \r\n\" style=\"fill:#440154;\"/>\r\n    <path clip-path=\"url(#p74fc7bd7d8)\" d=\"M 150.685714 95.855794 \r\nL 198.514286 95.855794 \r\nL 198.514286 96.789013 \r\nL 150.685714 96.789013 \r\nL 150.685714 95.855794 \r\n\" style=\"fill:#440154;\"/>\r\n    <path clip-path=\"url(#p74fc7bd7d8)\" d=\"M 198.514286 95.855794 \r\nL 246.342857 95.855794 \r\nL 246.342857 96.789013 \r\nL 198.514286 96.789013 \r\nL 198.514286 95.855794 \r\n\" style=\"fill:#440154;\"/>\r\n    <path clip-path=\"url(#p74fc7bd7d8)\" d=\"M 246.342857 95.855794 \r\nL 294.171429 95.855794 \r\nL 294.171429 96.789013 \r\nL 246.342857 96.789013 \r\nL 246.342857 95.855794 \r\n\" style=\"fill:#440154;\"/>\r\n    <path clip-path=\"url(#p74fc7bd7d8)\" d=\"M 294.171429 95.855794 \r\nL 342 95.855794 \r\nL 342 96.789013 \r\nL 294.171429 96.789013 \r\nL 294.171429 95.855794 \r\n\" style=\"fill:#440154;\"/>\r\n    <path clip-path=\"url(#p74fc7bd7d8)\" d=\"M 7.2 96.789013 \r\nL 55.028571 96.789013 \r\nL 55.028571 97.722232 \r\nL 7.2 97.722232 \r\nL 7.2 96.789013 \r\n\" style=\"fill:#440154;\"/>\r\n    <path clip-path=\"url(#p74fc7bd7d8)\" d=\"M 55.028571 96.789013 \r\nL 102.857143 96.789013 \r\nL 102.857143 97.722232 \r\nL 55.028571 97.722232 \r\nL 55.028571 96.789013 \r\n\" style=\"fill:#fde725;\"/>\r\n    <path clip-path=\"url(#p74fc7bd7d8)\" d=\"M 102.857143 96.789013 \r\nL 150.685714 96.789013 \r\nL 150.685714 97.722232 \r\nL 102.857143 97.722232 \r\nL 102.857143 96.789013 \r\n\" style=\"fill:#fde725;\"/>\r\n    <path clip-path=\"url(#p74fc7bd7d8)\" d=\"M 150.685714 96.789013 \r\nL 198.514286 96.789013 \r\nL 198.514286 97.722232 \r\nL 150.685714 97.722232 \r\nL 150.685714 96.789013 \r\n\" style=\"fill:#fde725;\"/>\r\n    <path clip-path=\"url(#p74fc7bd7d8)\" d=\"M 198.514286 96.789013 \r\nL 246.342857 96.789013 \r\nL 246.342857 97.722232 \r\nL 198.514286 97.722232 \r\nL 198.514286 96.789013 \r\n\" style=\"fill:#fde725;\"/>\r\n    <path clip-path=\"url(#p74fc7bd7d8)\" d=\"M 246.342857 96.789013 \r\nL 294.171429 96.789013 \r\nL 294.171429 97.722232 \r\nL 246.342857 97.722232 \r\nL 246.342857 96.789013 \r\n\" style=\"fill:#fde725;\"/>\r\n    <path clip-path=\"url(#p74fc7bd7d8)\" d=\"M 294.171429 96.789013 \r\nL 342 96.789013 \r\nL 342 97.722232 \r\nL 294.171429 97.722232 \r\nL 294.171429 96.789013 \r\n\" style=\"fill:#fde725;\"/>\r\n    <path clip-path=\"url(#p74fc7bd7d8)\" d=\"M 7.2 97.722232 \r\nL 55.028571 97.722232 \r\nL 55.028571 98.655451 \r\nL 7.2 98.655451 \r\nL 7.2 97.722232 \r\n\" style=\"fill:#440154;\"/>\r\n    <path clip-path=\"url(#p74fc7bd7d8)\" d=\"M 55.028571 97.722232 \r\nL 102.857143 97.722232 \r\nL 102.857143 98.655451 \r\nL 55.028571 98.655451 \r\nL 55.028571 97.722232 \r\n\" style=\"fill:#440154;\"/>\r\n    <path clip-path=\"url(#p74fc7bd7d8)\" d=\"M 102.857143 97.722232 \r\nL 150.685714 97.722232 \r\nL 150.685714 98.655451 \r\nL 102.857143 98.655451 \r\nL 102.857143 97.722232 \r\n\" style=\"fill:#440154;\"/>\r\n    <path clip-path=\"url(#p74fc7bd7d8)\" d=\"M 150.685714 97.722232 \r\nL 198.514286 97.722232 \r\nL 198.514286 98.655451 \r\nL 150.685714 98.655451 \r\nL 150.685714 97.722232 \r\n\" style=\"fill:#440154;\"/>\r\n    <path clip-path=\"url(#p74fc7bd7d8)\" d=\"M 198.514286 97.722232 \r\nL 246.342857 97.722232 \r\nL 246.342857 98.655451 \r\nL 198.514286 98.655451 \r\nL 198.514286 97.722232 \r\n\" style=\"fill:#440154;\"/>\r\n    <path clip-path=\"url(#p74fc7bd7d8)\" d=\"M 246.342857 97.722232 \r\nL 294.171429 97.722232 \r\nL 294.171429 98.655451 \r\nL 246.342857 98.655451 \r\nL 246.342857 97.722232 \r\n\" style=\"fill:#440154;\"/>\r\n    <path clip-path=\"url(#p74fc7bd7d8)\" d=\"M 294.171429 97.722232 \r\nL 342 97.722232 \r\nL 342 98.655451 \r\nL 294.171429 98.655451 \r\nL 294.171429 97.722232 \r\n\" style=\"fill:#fde725;\"/>\r\n    <path clip-path=\"url(#p74fc7bd7d8)\" d=\"M 7.2 98.655451 \r\nL 55.028571 98.655451 \r\nL 55.028571 99.58867 \r\nL 7.2 99.58867 \r\nL 7.2 98.655451 \r\n\" style=\"fill:#440154;\"/>\r\n    <path clip-path=\"url(#p74fc7bd7d8)\" d=\"M 55.028571 98.655451 \r\nL 102.857143 98.655451 \r\nL 102.857143 99.58867 \r\nL 55.028571 99.58867 \r\nL 55.028571 98.655451 \r\n\" style=\"fill:#440154;\"/>\r\n    <path clip-path=\"url(#p74fc7bd7d8)\" d=\"M 102.857143 98.655451 \r\nL 150.685714 98.655451 \r\nL 150.685714 99.58867 \r\nL 102.857143 99.58867 \r\nL 102.857143 98.655451 \r\n\" style=\"fill:#440154;\"/>\r\n    <path clip-path=\"url(#p74fc7bd7d8)\" d=\"M 150.685714 98.655451 \r\nL 198.514286 98.655451 \r\nL 198.514286 99.58867 \r\nL 150.685714 99.58867 \r\nL 150.685714 98.655451 \r\n\" style=\"fill:#440154;\"/>\r\n    <path clip-path=\"url(#p74fc7bd7d8)\" d=\"M 198.514286 98.655451 \r\nL 246.342857 98.655451 \r\nL 246.342857 99.58867 \r\nL 198.514286 99.58867 \r\nL 198.514286 98.655451 \r\n\" style=\"fill:#440154;\"/>\r\n    <path clip-path=\"url(#p74fc7bd7d8)\" d=\"M 246.342857 98.655451 \r\nL 294.171429 98.655451 \r\nL 294.171429 99.58867 \r\nL 246.342857 99.58867 \r\nL 246.342857 98.655451 \r\n\" style=\"fill:#440154;\"/>\r\n    <path clip-path=\"url(#p74fc7bd7d8)\" d=\"M 294.171429 98.655451 \r\nL 342 98.655451 \r\nL 342 99.58867 \r\nL 294.171429 99.58867 \r\nL 294.171429 98.655451 \r\n\" style=\"fill:#440154;\"/>\r\n    <path clip-path=\"url(#p74fc7bd7d8)\" d=\"M 7.2 99.58867 \r\nL 55.028571 99.58867 \r\nL 55.028571 100.521888 \r\nL 7.2 100.521888 \r\nL 7.2 99.58867 \r\n\" style=\"fill:#440154;\"/>\r\n    <path clip-path=\"url(#p74fc7bd7d8)\" d=\"M 55.028571 99.58867 \r\nL 102.857143 99.58867 \r\nL 102.857143 100.521888 \r\nL 55.028571 100.521888 \r\nL 55.028571 99.58867 \r\n\" style=\"fill:#440154;\"/>\r\n    <path clip-path=\"url(#p74fc7bd7d8)\" d=\"M 102.857143 99.58867 \r\nL 150.685714 99.58867 \r\nL 150.685714 100.521888 \r\nL 102.857143 100.521888 \r\nL 102.857143 99.58867 \r\n\" style=\"fill:#440154;\"/>\r\n    <path clip-path=\"url(#p74fc7bd7d8)\" d=\"M 150.685714 99.58867 \r\nL 198.514286 99.58867 \r\nL 198.514286 100.521888 \r\nL 150.685714 100.521888 \r\nL 150.685714 99.58867 \r\n\" style=\"fill:#440154;\"/>\r\n    <path clip-path=\"url(#p74fc7bd7d8)\" d=\"M 198.514286 99.58867 \r\nL 246.342857 99.58867 \r\nL 246.342857 100.521888 \r\nL 198.514286 100.521888 \r\nL 198.514286 99.58867 \r\n\" style=\"fill:#440154;\"/>\r\n    <path clip-path=\"url(#p74fc7bd7d8)\" d=\"M 246.342857 99.58867 \r\nL 294.171429 99.58867 \r\nL 294.171429 100.521888 \r\nL 246.342857 100.521888 \r\nL 246.342857 99.58867 \r\n\" style=\"fill:#fde725;\"/>\r\n    <path clip-path=\"url(#p74fc7bd7d8)\" d=\"M 294.171429 99.58867 \r\nL 342 99.58867 \r\nL 342 100.521888 \r\nL 294.171429 100.521888 \r\nL 294.171429 99.58867 \r\n\" style=\"fill:#fde725;\"/>\r\n    <path clip-path=\"url(#p74fc7bd7d8)\" d=\"M 7.2 100.521888 \r\nL 55.028571 100.521888 \r\nL 55.028571 101.455107 \r\nL 7.2 101.455107 \r\nL 7.2 100.521888 \r\n\" style=\"fill:#440154;\"/>\r\n    <path clip-path=\"url(#p74fc7bd7d8)\" d=\"M 55.028571 100.521888 \r\nL 102.857143 100.521888 \r\nL 102.857143 101.455107 \r\nL 55.028571 101.455107 \r\nL 55.028571 100.521888 \r\n\" style=\"fill:#fde725;\"/>\r\n    <path clip-path=\"url(#p74fc7bd7d8)\" d=\"M 102.857143 100.521888 \r\nL 150.685714 100.521888 \r\nL 150.685714 101.455107 \r\nL 102.857143 101.455107 \r\nL 102.857143 100.521888 \r\n\" style=\"fill:#fde725;\"/>\r\n    <path clip-path=\"url(#p74fc7bd7d8)\" d=\"M 150.685714 100.521888 \r\nL 198.514286 100.521888 \r\nL 198.514286 101.455107 \r\nL 150.685714 101.455107 \r\nL 150.685714 100.521888 \r\n\" style=\"fill:#fde725;\"/>\r\n    <path clip-path=\"url(#p74fc7bd7d8)\" d=\"M 198.514286 100.521888 \r\nL 246.342857 100.521888 \r\nL 246.342857 101.455107 \r\nL 198.514286 101.455107 \r\nL 198.514286 100.521888 \r\n\" style=\"fill:#fde725;\"/>\r\n    <path clip-path=\"url(#p74fc7bd7d8)\" d=\"M 246.342857 100.521888 \r\nL 294.171429 100.521888 \r\nL 294.171429 101.455107 \r\nL 246.342857 101.455107 \r\nL 246.342857 100.521888 \r\n\" style=\"fill:#fde725;\"/>\r\n    <path clip-path=\"url(#p74fc7bd7d8)\" d=\"M 294.171429 100.521888 \r\nL 342 100.521888 \r\nL 342 101.455107 \r\nL 294.171429 101.455107 \r\nL 294.171429 100.521888 \r\n\" style=\"fill:#fde725;\"/>\r\n    <path clip-path=\"url(#p74fc7bd7d8)\" d=\"M 7.2 101.455107 \r\nL 55.028571 101.455107 \r\nL 55.028571 102.388326 \r\nL 7.2 102.388326 \r\nL 7.2 101.455107 \r\n\" style=\"fill:#440154;\"/>\r\n    <path clip-path=\"url(#p74fc7bd7d8)\" d=\"M 55.028571 101.455107 \r\nL 102.857143 101.455107 \r\nL 102.857143 102.388326 \r\nL 55.028571 102.388326 \r\nL 55.028571 101.455107 \r\n\" style=\"fill:#fde725;\"/>\r\n    <path clip-path=\"url(#p74fc7bd7d8)\" d=\"M 102.857143 101.455107 \r\nL 150.685714 101.455107 \r\nL 150.685714 102.388326 \r\nL 102.857143 102.388326 \r\nL 102.857143 101.455107 \r\n\" style=\"fill:#fde725;\"/>\r\n    <path clip-path=\"url(#p74fc7bd7d8)\" d=\"M 150.685714 101.455107 \r\nL 198.514286 101.455107 \r\nL 198.514286 102.388326 \r\nL 150.685714 102.388326 \r\nL 150.685714 101.455107 \r\n\" style=\"fill:#fde725;\"/>\r\n    <path clip-path=\"url(#p74fc7bd7d8)\" d=\"M 198.514286 101.455107 \r\nL 246.342857 101.455107 \r\nL 246.342857 102.388326 \r\nL 198.514286 102.388326 \r\nL 198.514286 101.455107 \r\n\" style=\"fill:#fde725;\"/>\r\n    <path clip-path=\"url(#p74fc7bd7d8)\" d=\"M 246.342857 101.455107 \r\nL 294.171429 101.455107 \r\nL 294.171429 102.388326 \r\nL 246.342857 102.388326 \r\nL 246.342857 101.455107 \r\n\" style=\"fill:#fde725;\"/>\r\n    <path clip-path=\"url(#p74fc7bd7d8)\" d=\"M 294.171429 101.455107 \r\nL 342 101.455107 \r\nL 342 102.388326 \r\nL 294.171429 102.388326 \r\nL 294.171429 101.455107 \r\n\" style=\"fill:#fde725;\"/>\r\n    <path clip-path=\"url(#p74fc7bd7d8)\" d=\"M 7.2 102.388326 \r\nL 55.028571 102.388326 \r\nL 55.028571 103.321545 \r\nL 7.2 103.321545 \r\nL 7.2 102.388326 \r\n\" style=\"fill:#440154;\"/>\r\n    <path clip-path=\"url(#p74fc7bd7d8)\" d=\"M 55.028571 102.388326 \r\nL 102.857143 102.388326 \r\nL 102.857143 103.321545 \r\nL 55.028571 103.321545 \r\nL 55.028571 102.388326 \r\n\" style=\"fill:#440154;\"/>\r\n    <path clip-path=\"url(#p74fc7bd7d8)\" d=\"M 102.857143 102.388326 \r\nL 150.685714 102.388326 \r\nL 150.685714 103.321545 \r\nL 102.857143 103.321545 \r\nL 102.857143 102.388326 \r\n\" style=\"fill:#440154;\"/>\r\n    <path clip-path=\"url(#p74fc7bd7d8)\" d=\"M 150.685714 102.388326 \r\nL 198.514286 102.388326 \r\nL 198.514286 103.321545 \r\nL 150.685714 103.321545 \r\nL 150.685714 102.388326 \r\n\" style=\"fill:#440154;\"/>\r\n    <path clip-path=\"url(#p74fc7bd7d8)\" d=\"M 198.514286 102.388326 \r\nL 246.342857 102.388326 \r\nL 246.342857 103.321545 \r\nL 198.514286 103.321545 \r\nL 198.514286 102.388326 \r\n\" style=\"fill:#440154;\"/>\r\n    <path clip-path=\"url(#p74fc7bd7d8)\" d=\"M 246.342857 102.388326 \r\nL 294.171429 102.388326 \r\nL 294.171429 103.321545 \r\nL 246.342857 103.321545 \r\nL 246.342857 102.388326 \r\n\" style=\"fill:#440154;\"/>\r\n    <path clip-path=\"url(#p74fc7bd7d8)\" d=\"M 294.171429 102.388326 \r\nL 342 102.388326 \r\nL 342 103.321545 \r\nL 294.171429 103.321545 \r\nL 294.171429 102.388326 \r\n\" style=\"fill:#fde725;\"/>\r\n    <path clip-path=\"url(#p74fc7bd7d8)\" d=\"M 7.2 103.321545 \r\nL 55.028571 103.321545 \r\nL 55.028571 104.254764 \r\nL 7.2 104.254764 \r\nL 7.2 103.321545 \r\n\" style=\"fill:#440154;\"/>\r\n    <path clip-path=\"url(#p74fc7bd7d8)\" d=\"M 55.028571 103.321545 \r\nL 102.857143 103.321545 \r\nL 102.857143 104.254764 \r\nL 55.028571 104.254764 \r\nL 55.028571 103.321545 \r\n\" style=\"fill:#fde725;\"/>\r\n    <path clip-path=\"url(#p74fc7bd7d8)\" d=\"M 102.857143 103.321545 \r\nL 150.685714 103.321545 \r\nL 150.685714 104.254764 \r\nL 102.857143 104.254764 \r\nL 102.857143 103.321545 \r\n\" style=\"fill:#fde725;\"/>\r\n    <path clip-path=\"url(#p74fc7bd7d8)\" d=\"M 150.685714 103.321545 \r\nL 198.514286 103.321545 \r\nL 198.514286 104.254764 \r\nL 150.685714 104.254764 \r\nL 150.685714 103.321545 \r\n\" style=\"fill:#fde725;\"/>\r\n    <path clip-path=\"url(#p74fc7bd7d8)\" d=\"M 198.514286 103.321545 \r\nL 246.342857 103.321545 \r\nL 246.342857 104.254764 \r\nL 198.514286 104.254764 \r\nL 198.514286 103.321545 \r\n\" style=\"fill:#fde725;\"/>\r\n    <path clip-path=\"url(#p74fc7bd7d8)\" d=\"M 246.342857 103.321545 \r\nL 294.171429 103.321545 \r\nL 294.171429 104.254764 \r\nL 246.342857 104.254764 \r\nL 246.342857 103.321545 \r\n\" style=\"fill:#fde725;\"/>\r\n    <path clip-path=\"url(#p74fc7bd7d8)\" d=\"M 294.171429 103.321545 \r\nL 342 103.321545 \r\nL 342 104.254764 \r\nL 294.171429 104.254764 \r\nL 294.171429 103.321545 \r\n\" style=\"fill:#fde725;\"/>\r\n    <path clip-path=\"url(#p74fc7bd7d8)\" d=\"M 7.2 104.254764 \r\nL 55.028571 104.254764 \r\nL 55.028571 105.187983 \r\nL 7.2 105.187983 \r\nL 7.2 104.254764 \r\n\" style=\"fill:#440154;\"/>\r\n    <path clip-path=\"url(#p74fc7bd7d8)\" d=\"M 55.028571 104.254764 \r\nL 102.857143 104.254764 \r\nL 102.857143 105.187983 \r\nL 55.028571 105.187983 \r\nL 55.028571 104.254764 \r\n\" style=\"fill:#440154;\"/>\r\n    <path clip-path=\"url(#p74fc7bd7d8)\" d=\"M 102.857143 104.254764 \r\nL 150.685714 104.254764 \r\nL 150.685714 105.187983 \r\nL 102.857143 105.187983 \r\nL 102.857143 104.254764 \r\n\" style=\"fill:#440154;\"/>\r\n    <path clip-path=\"url(#p74fc7bd7d8)\" d=\"M 150.685714 104.254764 \r\nL 198.514286 104.254764 \r\nL 198.514286 105.187983 \r\nL 150.685714 105.187983 \r\nL 150.685714 104.254764 \r\n\" style=\"fill:#440154;\"/>\r\n    <path clip-path=\"url(#p74fc7bd7d8)\" d=\"M 198.514286 104.254764 \r\nL 246.342857 104.254764 \r\nL 246.342857 105.187983 \r\nL 198.514286 105.187983 \r\nL 198.514286 104.254764 \r\n\" style=\"fill:#440154;\"/>\r\n    <path clip-path=\"url(#p74fc7bd7d8)\" d=\"M 246.342857 104.254764 \r\nL 294.171429 104.254764 \r\nL 294.171429 105.187983 \r\nL 246.342857 105.187983 \r\nL 246.342857 104.254764 \r\n\" style=\"fill:#440154;\"/>\r\n    <path clip-path=\"url(#p74fc7bd7d8)\" d=\"M 294.171429 104.254764 \r\nL 342 104.254764 \r\nL 342 105.187983 \r\nL 294.171429 105.187983 \r\nL 294.171429 104.254764 \r\n\" style=\"fill:#440154;\"/>\r\n    <path clip-path=\"url(#p74fc7bd7d8)\" d=\"M 7.2 105.187983 \r\nL 55.028571 105.187983 \r\nL 55.028571 106.121202 \r\nL 7.2 106.121202 \r\nL 7.2 105.187983 \r\n\" style=\"fill:#440154;\"/>\r\n    <path clip-path=\"url(#p74fc7bd7d8)\" d=\"M 55.028571 105.187983 \r\nL 102.857143 105.187983 \r\nL 102.857143 106.121202 \r\nL 55.028571 106.121202 \r\nL 55.028571 105.187983 \r\n\" style=\"fill:#440154;\"/>\r\n    <path clip-path=\"url(#p74fc7bd7d8)\" d=\"M 102.857143 105.187983 \r\nL 150.685714 105.187983 \r\nL 150.685714 106.121202 \r\nL 102.857143 106.121202 \r\nL 102.857143 105.187983 \r\n\" style=\"fill:#440154;\"/>\r\n    <path clip-path=\"url(#p74fc7bd7d8)\" d=\"M 150.685714 105.187983 \r\nL 198.514286 105.187983 \r\nL 198.514286 106.121202 \r\nL 150.685714 106.121202 \r\nL 150.685714 105.187983 \r\n\" style=\"fill:#440154;\"/>\r\n    <path clip-path=\"url(#p74fc7bd7d8)\" d=\"M 198.514286 105.187983 \r\nL 246.342857 105.187983 \r\nL 246.342857 106.121202 \r\nL 198.514286 106.121202 \r\nL 198.514286 105.187983 \r\n\" style=\"fill:#440154;\"/>\r\n    <path clip-path=\"url(#p74fc7bd7d8)\" d=\"M 246.342857 105.187983 \r\nL 294.171429 105.187983 \r\nL 294.171429 106.121202 \r\nL 246.342857 106.121202 \r\nL 246.342857 105.187983 \r\n\" style=\"fill:#440154;\"/>\r\n    <path clip-path=\"url(#p74fc7bd7d8)\" d=\"M 294.171429 105.187983 \r\nL 342 105.187983 \r\nL 342 106.121202 \r\nL 294.171429 106.121202 \r\nL 294.171429 105.187983 \r\n\" style=\"fill:#440154;\"/>\r\n    <path clip-path=\"url(#p74fc7bd7d8)\" d=\"M 7.2 106.121202 \r\nL 55.028571 106.121202 \r\nL 55.028571 107.054421 \r\nL 7.2 107.054421 \r\nL 7.2 106.121202 \r\n\" style=\"fill:#440154;\"/>\r\n    <path clip-path=\"url(#p74fc7bd7d8)\" d=\"M 55.028571 106.121202 \r\nL 102.857143 106.121202 \r\nL 102.857143 107.054421 \r\nL 55.028571 107.054421 \r\nL 55.028571 106.121202 \r\n\" style=\"fill:#fde725;\"/>\r\n    <path clip-path=\"url(#p74fc7bd7d8)\" d=\"M 102.857143 106.121202 \r\nL 150.685714 106.121202 \r\nL 150.685714 107.054421 \r\nL 102.857143 107.054421 \r\nL 102.857143 106.121202 \r\n\" style=\"fill:#fde725;\"/>\r\n    <path clip-path=\"url(#p74fc7bd7d8)\" d=\"M 150.685714 106.121202 \r\nL 198.514286 106.121202 \r\nL 198.514286 107.054421 \r\nL 150.685714 107.054421 \r\nL 150.685714 106.121202 \r\n\" style=\"fill:#fde725;\"/>\r\n    <path clip-path=\"url(#p74fc7bd7d8)\" d=\"M 198.514286 106.121202 \r\nL 246.342857 106.121202 \r\nL 246.342857 107.054421 \r\nL 198.514286 107.054421 \r\nL 198.514286 106.121202 \r\n\" style=\"fill:#fde725;\"/>\r\n    <path clip-path=\"url(#p74fc7bd7d8)\" d=\"M 246.342857 106.121202 \r\nL 294.171429 106.121202 \r\nL 294.171429 107.054421 \r\nL 246.342857 107.054421 \r\nL 246.342857 106.121202 \r\n\" style=\"fill:#fde725;\"/>\r\n    <path clip-path=\"url(#p74fc7bd7d8)\" d=\"M 294.171429 106.121202 \r\nL 342 106.121202 \r\nL 342 107.054421 \r\nL 294.171429 107.054421 \r\nL 294.171429 106.121202 \r\n\" style=\"fill:#fde725;\"/>\r\n    <path clip-path=\"url(#p74fc7bd7d8)\" d=\"M 7.2 107.054421 \r\nL 55.028571 107.054421 \r\nL 55.028571 107.987639 \r\nL 7.2 107.987639 \r\nL 7.2 107.054421 \r\n\" style=\"fill:#440154;\"/>\r\n    <path clip-path=\"url(#p74fc7bd7d8)\" d=\"M 55.028571 107.054421 \r\nL 102.857143 107.054421 \r\nL 102.857143 107.987639 \r\nL 55.028571 107.987639 \r\nL 55.028571 107.054421 \r\n\" style=\"fill:#fde725;\"/>\r\n    <path clip-path=\"url(#p74fc7bd7d8)\" d=\"M 102.857143 107.054421 \r\nL 150.685714 107.054421 \r\nL 150.685714 107.987639 \r\nL 102.857143 107.987639 \r\nL 102.857143 107.054421 \r\n\" style=\"fill:#fde725;\"/>\r\n    <path clip-path=\"url(#p74fc7bd7d8)\" d=\"M 150.685714 107.054421 \r\nL 198.514286 107.054421 \r\nL 198.514286 107.987639 \r\nL 150.685714 107.987639 \r\nL 150.685714 107.054421 \r\n\" style=\"fill:#fde725;\"/>\r\n    <path clip-path=\"url(#p74fc7bd7d8)\" d=\"M 198.514286 107.054421 \r\nL 246.342857 107.054421 \r\nL 246.342857 107.987639 \r\nL 198.514286 107.987639 \r\nL 198.514286 107.054421 \r\n\" style=\"fill:#fde725;\"/>\r\n    <path clip-path=\"url(#p74fc7bd7d8)\" d=\"M 246.342857 107.054421 \r\nL 294.171429 107.054421 \r\nL 294.171429 107.987639 \r\nL 246.342857 107.987639 \r\nL 246.342857 107.054421 \r\n\" style=\"fill:#fde725;\"/>\r\n    <path clip-path=\"url(#p74fc7bd7d8)\" d=\"M 294.171429 107.054421 \r\nL 342 107.054421 \r\nL 342 107.987639 \r\nL 294.171429 107.987639 \r\nL 294.171429 107.054421 \r\n\" style=\"fill:#fde725;\"/>\r\n    <path clip-path=\"url(#p74fc7bd7d8)\" d=\"M 7.2 107.987639 \r\nL 55.028571 107.987639 \r\nL 55.028571 108.920858 \r\nL 7.2 108.920858 \r\nL 7.2 107.987639 \r\n\" style=\"fill:#440154;\"/>\r\n    <path clip-path=\"url(#p74fc7bd7d8)\" d=\"M 55.028571 107.987639 \r\nL 102.857143 107.987639 \r\nL 102.857143 108.920858 \r\nL 55.028571 108.920858 \r\nL 55.028571 107.987639 \r\n\" style=\"fill:#440154;\"/>\r\n    <path clip-path=\"url(#p74fc7bd7d8)\" d=\"M 102.857143 107.987639 \r\nL 150.685714 107.987639 \r\nL 150.685714 108.920858 \r\nL 102.857143 108.920858 \r\nL 102.857143 107.987639 \r\n\" style=\"fill:#440154;\"/>\r\n    <path clip-path=\"url(#p74fc7bd7d8)\" d=\"M 150.685714 107.987639 \r\nL 198.514286 107.987639 \r\nL 198.514286 108.920858 \r\nL 150.685714 108.920858 \r\nL 150.685714 107.987639 \r\n\" style=\"fill:#440154;\"/>\r\n    <path clip-path=\"url(#p74fc7bd7d8)\" d=\"M 198.514286 107.987639 \r\nL 246.342857 107.987639 \r\nL 246.342857 108.920858 \r\nL 198.514286 108.920858 \r\nL 198.514286 107.987639 \r\n\" style=\"fill:#fde725;\"/>\r\n    <path clip-path=\"url(#p74fc7bd7d8)\" d=\"M 246.342857 107.987639 \r\nL 294.171429 107.987639 \r\nL 294.171429 108.920858 \r\nL 246.342857 108.920858 \r\nL 246.342857 107.987639 \r\n\" style=\"fill:#440154;\"/>\r\n    <path clip-path=\"url(#p74fc7bd7d8)\" d=\"M 294.171429 107.987639 \r\nL 342 107.987639 \r\nL 342 108.920858 \r\nL 294.171429 108.920858 \r\nL 294.171429 107.987639 \r\n\" style=\"fill:#fde725;\"/>\r\n    <path clip-path=\"url(#p74fc7bd7d8)\" d=\"M 7.2 108.920858 \r\nL 55.028571 108.920858 \r\nL 55.028571 109.854077 \r\nL 7.2 109.854077 \r\nL 7.2 108.920858 \r\n\" style=\"fill:#440154;\"/>\r\n    <path clip-path=\"url(#p74fc7bd7d8)\" d=\"M 55.028571 108.920858 \r\nL 102.857143 108.920858 \r\nL 102.857143 109.854077 \r\nL 55.028571 109.854077 \r\nL 55.028571 108.920858 \r\n\" style=\"fill:#440154;\"/>\r\n    <path clip-path=\"url(#p74fc7bd7d8)\" d=\"M 102.857143 108.920858 \r\nL 150.685714 108.920858 \r\nL 150.685714 109.854077 \r\nL 102.857143 109.854077 \r\nL 102.857143 108.920858 \r\n\" style=\"fill:#440154;\"/>\r\n    <path clip-path=\"url(#p74fc7bd7d8)\" d=\"M 150.685714 108.920858 \r\nL 198.514286 108.920858 \r\nL 198.514286 109.854077 \r\nL 150.685714 109.854077 \r\nL 150.685714 108.920858 \r\n\" style=\"fill:#440154;\"/>\r\n    <path clip-path=\"url(#p74fc7bd7d8)\" d=\"M 198.514286 108.920858 \r\nL 246.342857 108.920858 \r\nL 246.342857 109.854077 \r\nL 198.514286 109.854077 \r\nL 198.514286 108.920858 \r\n\" style=\"fill:#440154;\"/>\r\n    <path clip-path=\"url(#p74fc7bd7d8)\" d=\"M 246.342857 108.920858 \r\nL 294.171429 108.920858 \r\nL 294.171429 109.854077 \r\nL 246.342857 109.854077 \r\nL 246.342857 108.920858 \r\n\" style=\"fill:#440154;\"/>\r\n    <path clip-path=\"url(#p74fc7bd7d8)\" d=\"M 294.171429 108.920858 \r\nL 342 108.920858 \r\nL 342 109.854077 \r\nL 294.171429 109.854077 \r\nL 294.171429 108.920858 \r\n\" style=\"fill:#440154;\"/>\r\n    <path clip-path=\"url(#p74fc7bd7d8)\" d=\"M 7.2 109.854077 \r\nL 55.028571 109.854077 \r\nL 55.028571 110.787296 \r\nL 7.2 110.787296 \r\nL 7.2 109.854077 \r\n\" style=\"fill:#440154;\"/>\r\n    <path clip-path=\"url(#p74fc7bd7d8)\" d=\"M 55.028571 109.854077 \r\nL 102.857143 109.854077 \r\nL 102.857143 110.787296 \r\nL 55.028571 110.787296 \r\nL 55.028571 109.854077 \r\n\" style=\"fill:#fde725;\"/>\r\n    <path clip-path=\"url(#p74fc7bd7d8)\" d=\"M 102.857143 109.854077 \r\nL 150.685714 109.854077 \r\nL 150.685714 110.787296 \r\nL 102.857143 110.787296 \r\nL 102.857143 109.854077 \r\n\" style=\"fill:#fde725;\"/>\r\n    <path clip-path=\"url(#p74fc7bd7d8)\" d=\"M 150.685714 109.854077 \r\nL 198.514286 109.854077 \r\nL 198.514286 110.787296 \r\nL 150.685714 110.787296 \r\nL 150.685714 109.854077 \r\n\" style=\"fill:#fde725;\"/>\r\n    <path clip-path=\"url(#p74fc7bd7d8)\" d=\"M 198.514286 109.854077 \r\nL 246.342857 109.854077 \r\nL 246.342857 110.787296 \r\nL 198.514286 110.787296 \r\nL 198.514286 109.854077 \r\n\" style=\"fill:#fde725;\"/>\r\n    <path clip-path=\"url(#p74fc7bd7d8)\" d=\"M 246.342857 109.854077 \r\nL 294.171429 109.854077 \r\nL 294.171429 110.787296 \r\nL 246.342857 110.787296 \r\nL 246.342857 109.854077 \r\n\" style=\"fill:#fde725;\"/>\r\n    <path clip-path=\"url(#p74fc7bd7d8)\" d=\"M 294.171429 109.854077 \r\nL 342 109.854077 \r\nL 342 110.787296 \r\nL 294.171429 110.787296 \r\nL 294.171429 109.854077 \r\n\" style=\"fill:#fde725;\"/>\r\n    <path clip-path=\"url(#p74fc7bd7d8)\" d=\"M 7.2 110.787296 \r\nL 55.028571 110.787296 \r\nL 55.028571 111.720515 \r\nL 7.2 111.720515 \r\nL 7.2 110.787296 \r\n\" style=\"fill:#440154;\"/>\r\n    <path clip-path=\"url(#p74fc7bd7d8)\" d=\"M 55.028571 110.787296 \r\nL 102.857143 110.787296 \r\nL 102.857143 111.720515 \r\nL 55.028571 111.720515 \r\nL 55.028571 110.787296 \r\n\" style=\"fill:#440154;\"/>\r\n    <path clip-path=\"url(#p74fc7bd7d8)\" d=\"M 102.857143 110.787296 \r\nL 150.685714 110.787296 \r\nL 150.685714 111.720515 \r\nL 102.857143 111.720515 \r\nL 102.857143 110.787296 \r\n\" style=\"fill:#440154;\"/>\r\n    <path clip-path=\"url(#p74fc7bd7d8)\" d=\"M 150.685714 110.787296 \r\nL 198.514286 110.787296 \r\nL 198.514286 111.720515 \r\nL 150.685714 111.720515 \r\nL 150.685714 110.787296 \r\n\" style=\"fill:#440154;\"/>\r\n    <path clip-path=\"url(#p74fc7bd7d8)\" d=\"M 198.514286 110.787296 \r\nL 246.342857 110.787296 \r\nL 246.342857 111.720515 \r\nL 198.514286 111.720515 \r\nL 198.514286 110.787296 \r\n\" style=\"fill:#440154;\"/>\r\n    <path clip-path=\"url(#p74fc7bd7d8)\" d=\"M 246.342857 110.787296 \r\nL 294.171429 110.787296 \r\nL 294.171429 111.720515 \r\nL 246.342857 111.720515 \r\nL 246.342857 110.787296 \r\n\" style=\"fill:#440154;\"/>\r\n    <path clip-path=\"url(#p74fc7bd7d8)\" d=\"M 294.171429 110.787296 \r\nL 342 110.787296 \r\nL 342 111.720515 \r\nL 294.171429 111.720515 \r\nL 294.171429 110.787296 \r\n\" style=\"fill:#fde725;\"/>\r\n    <path clip-path=\"url(#p74fc7bd7d8)\" d=\"M 7.2 111.720515 \r\nL 55.028571 111.720515 \r\nL 55.028571 112.653734 \r\nL 7.2 112.653734 \r\nL 7.2 111.720515 \r\n\" style=\"fill:#440154;\"/>\r\n    <path clip-path=\"url(#p74fc7bd7d8)\" d=\"M 55.028571 111.720515 \r\nL 102.857143 111.720515 \r\nL 102.857143 112.653734 \r\nL 55.028571 112.653734 \r\nL 55.028571 111.720515 \r\n\" style=\"fill:#440154;\"/>\r\n    <path clip-path=\"url(#p74fc7bd7d8)\" d=\"M 102.857143 111.720515 \r\nL 150.685714 111.720515 \r\nL 150.685714 112.653734 \r\nL 102.857143 112.653734 \r\nL 102.857143 111.720515 \r\n\" style=\"fill:#440154;\"/>\r\n    <path clip-path=\"url(#p74fc7bd7d8)\" d=\"M 150.685714 111.720515 \r\nL 198.514286 111.720515 \r\nL 198.514286 112.653734 \r\nL 150.685714 112.653734 \r\nL 150.685714 111.720515 \r\n\" style=\"fill:#440154;\"/>\r\n    <path clip-path=\"url(#p74fc7bd7d8)\" d=\"M 198.514286 111.720515 \r\nL 246.342857 111.720515 \r\nL 246.342857 112.653734 \r\nL 198.514286 112.653734 \r\nL 198.514286 111.720515 \r\n\" style=\"fill:#440154;\"/>\r\n    <path clip-path=\"url(#p74fc7bd7d8)\" d=\"M 246.342857 111.720515 \r\nL 294.171429 111.720515 \r\nL 294.171429 112.653734 \r\nL 246.342857 112.653734 \r\nL 246.342857 111.720515 \r\n\" style=\"fill:#440154;\"/>\r\n    <path clip-path=\"url(#p74fc7bd7d8)\" d=\"M 294.171429 111.720515 \r\nL 342 111.720515 \r\nL 342 112.653734 \r\nL 294.171429 112.653734 \r\nL 294.171429 111.720515 \r\n\" style=\"fill:#fde725;\"/>\r\n    <path clip-path=\"url(#p74fc7bd7d8)\" d=\"M 7.2 112.653734 \r\nL 55.028571 112.653734 \r\nL 55.028571 113.586953 \r\nL 7.2 113.586953 \r\nL 7.2 112.653734 \r\n\" style=\"fill:#440154;\"/>\r\n    <path clip-path=\"url(#p74fc7bd7d8)\" d=\"M 55.028571 112.653734 \r\nL 102.857143 112.653734 \r\nL 102.857143 113.586953 \r\nL 55.028571 113.586953 \r\nL 55.028571 112.653734 \r\n\" style=\"fill:#440154;\"/>\r\n    <path clip-path=\"url(#p74fc7bd7d8)\" d=\"M 102.857143 112.653734 \r\nL 150.685714 112.653734 \r\nL 150.685714 113.586953 \r\nL 102.857143 113.586953 \r\nL 102.857143 112.653734 \r\n\" style=\"fill:#440154;\"/>\r\n    <path clip-path=\"url(#p74fc7bd7d8)\" d=\"M 150.685714 112.653734 \r\nL 198.514286 112.653734 \r\nL 198.514286 113.586953 \r\nL 150.685714 113.586953 \r\nL 150.685714 112.653734 \r\n\" style=\"fill:#440154;\"/>\r\n    <path clip-path=\"url(#p74fc7bd7d8)\" d=\"M 198.514286 112.653734 \r\nL 246.342857 112.653734 \r\nL 246.342857 113.586953 \r\nL 198.514286 113.586953 \r\nL 198.514286 112.653734 \r\n\" style=\"fill:#440154;\"/>\r\n    <path clip-path=\"url(#p74fc7bd7d8)\" d=\"M 246.342857 112.653734 \r\nL 294.171429 112.653734 \r\nL 294.171429 113.586953 \r\nL 246.342857 113.586953 \r\nL 246.342857 112.653734 \r\n\" style=\"fill:#440154;\"/>\r\n    <path clip-path=\"url(#p74fc7bd7d8)\" d=\"M 294.171429 112.653734 \r\nL 342 112.653734 \r\nL 342 113.586953 \r\nL 294.171429 113.586953 \r\nL 294.171429 112.653734 \r\n\" style=\"fill:#440154;\"/>\r\n    <path clip-path=\"url(#p74fc7bd7d8)\" d=\"M 7.2 113.586953 \r\nL 55.028571 113.586953 \r\nL 55.028571 114.520172 \r\nL 7.2 114.520172 \r\nL 7.2 113.586953 \r\n\" style=\"fill:#440154;\"/>\r\n    <path clip-path=\"url(#p74fc7bd7d8)\" d=\"M 55.028571 113.586953 \r\nL 102.857143 113.586953 \r\nL 102.857143 114.520172 \r\nL 55.028571 114.520172 \r\nL 55.028571 113.586953 \r\n\" style=\"fill:#440154;\"/>\r\n    <path clip-path=\"url(#p74fc7bd7d8)\" d=\"M 102.857143 113.586953 \r\nL 150.685714 113.586953 \r\nL 150.685714 114.520172 \r\nL 102.857143 114.520172 \r\nL 102.857143 113.586953 \r\n\" style=\"fill:#440154;\"/>\r\n    <path clip-path=\"url(#p74fc7bd7d8)\" d=\"M 150.685714 113.586953 \r\nL 198.514286 113.586953 \r\nL 198.514286 114.520172 \r\nL 150.685714 114.520172 \r\nL 150.685714 113.586953 \r\n\" style=\"fill:#440154;\"/>\r\n    <path clip-path=\"url(#p74fc7bd7d8)\" d=\"M 198.514286 113.586953 \r\nL 246.342857 113.586953 \r\nL 246.342857 114.520172 \r\nL 198.514286 114.520172 \r\nL 198.514286 113.586953 \r\n\" style=\"fill:#440154;\"/>\r\n    <path clip-path=\"url(#p74fc7bd7d8)\" d=\"M 246.342857 113.586953 \r\nL 294.171429 113.586953 \r\nL 294.171429 114.520172 \r\nL 246.342857 114.520172 \r\nL 246.342857 113.586953 \r\n\" style=\"fill:#440154;\"/>\r\n    <path clip-path=\"url(#p74fc7bd7d8)\" d=\"M 294.171429 113.586953 \r\nL 342 113.586953 \r\nL 342 114.520172 \r\nL 294.171429 114.520172 \r\nL 294.171429 113.586953 \r\n\" style=\"fill:#440154;\"/>\r\n    <path clip-path=\"url(#p74fc7bd7d8)\" d=\"M 7.2 114.520172 \r\nL 55.028571 114.520172 \r\nL 55.028571 115.453391 \r\nL 7.2 115.453391 \r\nL 7.2 114.520172 \r\n\" style=\"fill:#440154;\"/>\r\n    <path clip-path=\"url(#p74fc7bd7d8)\" d=\"M 55.028571 114.520172 \r\nL 102.857143 114.520172 \r\nL 102.857143 115.453391 \r\nL 55.028571 115.453391 \r\nL 55.028571 114.520172 \r\n\" style=\"fill:#440154;\"/>\r\n    <path clip-path=\"url(#p74fc7bd7d8)\" d=\"M 102.857143 114.520172 \r\nL 150.685714 114.520172 \r\nL 150.685714 115.453391 \r\nL 102.857143 115.453391 \r\nL 102.857143 114.520172 \r\n\" style=\"fill:#440154;\"/>\r\n    <path clip-path=\"url(#p74fc7bd7d8)\" d=\"M 150.685714 114.520172 \r\nL 198.514286 114.520172 \r\nL 198.514286 115.453391 \r\nL 150.685714 115.453391 \r\nL 150.685714 114.520172 \r\n\" style=\"fill:#440154;\"/>\r\n    <path clip-path=\"url(#p74fc7bd7d8)\" d=\"M 198.514286 114.520172 \r\nL 246.342857 114.520172 \r\nL 246.342857 115.453391 \r\nL 198.514286 115.453391 \r\nL 198.514286 114.520172 \r\n\" style=\"fill:#440154;\"/>\r\n    <path clip-path=\"url(#p74fc7bd7d8)\" d=\"M 246.342857 114.520172 \r\nL 294.171429 114.520172 \r\nL 294.171429 115.453391 \r\nL 246.342857 115.453391 \r\nL 246.342857 114.520172 \r\n\" style=\"fill:#440154;\"/>\r\n    <path clip-path=\"url(#p74fc7bd7d8)\" d=\"M 294.171429 114.520172 \r\nL 342 114.520172 \r\nL 342 115.453391 \r\nL 294.171429 115.453391 \r\nL 294.171429 114.520172 \r\n\" style=\"fill:#440154;\"/>\r\n    <path clip-path=\"url(#p74fc7bd7d8)\" d=\"M 7.2 115.453391 \r\nL 55.028571 115.453391 \r\nL 55.028571 116.386609 \r\nL 7.2 116.386609 \r\nL 7.2 115.453391 \r\n\" style=\"fill:#440154;\"/>\r\n    <path clip-path=\"url(#p74fc7bd7d8)\" d=\"M 55.028571 115.453391 \r\nL 102.857143 115.453391 \r\nL 102.857143 116.386609 \r\nL 55.028571 116.386609 \r\nL 55.028571 115.453391 \r\n\" style=\"fill:#440154;\"/>\r\n    <path clip-path=\"url(#p74fc7bd7d8)\" d=\"M 102.857143 115.453391 \r\nL 150.685714 115.453391 \r\nL 150.685714 116.386609 \r\nL 102.857143 116.386609 \r\nL 102.857143 115.453391 \r\n\" style=\"fill:#440154;\"/>\r\n    <path clip-path=\"url(#p74fc7bd7d8)\" d=\"M 150.685714 115.453391 \r\nL 198.514286 115.453391 \r\nL 198.514286 116.386609 \r\nL 150.685714 116.386609 \r\nL 150.685714 115.453391 \r\n\" style=\"fill:#440154;\"/>\r\n    <path clip-path=\"url(#p74fc7bd7d8)\" d=\"M 198.514286 115.453391 \r\nL 246.342857 115.453391 \r\nL 246.342857 116.386609 \r\nL 198.514286 116.386609 \r\nL 198.514286 115.453391 \r\n\" style=\"fill:#440154;\"/>\r\n    <path clip-path=\"url(#p74fc7bd7d8)\" d=\"M 246.342857 115.453391 \r\nL 294.171429 115.453391 \r\nL 294.171429 116.386609 \r\nL 246.342857 116.386609 \r\nL 246.342857 115.453391 \r\n\" style=\"fill:#440154;\"/>\r\n    <path clip-path=\"url(#p74fc7bd7d8)\" d=\"M 294.171429 115.453391 \r\nL 342 115.453391 \r\nL 342 116.386609 \r\nL 294.171429 116.386609 \r\nL 294.171429 115.453391 \r\n\" style=\"fill:#440154;\"/>\r\n    <path clip-path=\"url(#p74fc7bd7d8)\" d=\"M 7.2 116.386609 \r\nL 55.028571 116.386609 \r\nL 55.028571 117.319828 \r\nL 7.2 117.319828 \r\nL 7.2 116.386609 \r\n\" style=\"fill:#440154;\"/>\r\n    <path clip-path=\"url(#p74fc7bd7d8)\" d=\"M 55.028571 116.386609 \r\nL 102.857143 116.386609 \r\nL 102.857143 117.319828 \r\nL 55.028571 117.319828 \r\nL 55.028571 116.386609 \r\n\" style=\"fill:#440154;\"/>\r\n    <path clip-path=\"url(#p74fc7bd7d8)\" d=\"M 102.857143 116.386609 \r\nL 150.685714 116.386609 \r\nL 150.685714 117.319828 \r\nL 102.857143 117.319828 \r\nL 102.857143 116.386609 \r\n\" style=\"fill:#440154;\"/>\r\n    <path clip-path=\"url(#p74fc7bd7d8)\" d=\"M 150.685714 116.386609 \r\nL 198.514286 116.386609 \r\nL 198.514286 117.319828 \r\nL 150.685714 117.319828 \r\nL 150.685714 116.386609 \r\n\" style=\"fill:#440154;\"/>\r\n    <path clip-path=\"url(#p74fc7bd7d8)\" d=\"M 198.514286 116.386609 \r\nL 246.342857 116.386609 \r\nL 246.342857 117.319828 \r\nL 198.514286 117.319828 \r\nL 198.514286 116.386609 \r\n\" style=\"fill:#440154;\"/>\r\n    <path clip-path=\"url(#p74fc7bd7d8)\" d=\"M 246.342857 116.386609 \r\nL 294.171429 116.386609 \r\nL 294.171429 117.319828 \r\nL 246.342857 117.319828 \r\nL 246.342857 116.386609 \r\n\" style=\"fill:#fde725;\"/>\r\n    <path clip-path=\"url(#p74fc7bd7d8)\" d=\"M 294.171429 116.386609 \r\nL 342 116.386609 \r\nL 342 117.319828 \r\nL 294.171429 117.319828 \r\nL 294.171429 116.386609 \r\n\" style=\"fill:#440154;\"/>\r\n    <path clip-path=\"url(#p74fc7bd7d8)\" d=\"M 7.2 117.319828 \r\nL 55.028571 117.319828 \r\nL 55.028571 118.253047 \r\nL 7.2 118.253047 \r\nL 7.2 117.319828 \r\n\" style=\"fill:#440154;\"/>\r\n    <path clip-path=\"url(#p74fc7bd7d8)\" d=\"M 55.028571 117.319828 \r\nL 102.857143 117.319828 \r\nL 102.857143 118.253047 \r\nL 55.028571 118.253047 \r\nL 55.028571 117.319828 \r\n\" style=\"fill:#440154;\"/>\r\n    <path clip-path=\"url(#p74fc7bd7d8)\" d=\"M 102.857143 117.319828 \r\nL 150.685714 117.319828 \r\nL 150.685714 118.253047 \r\nL 102.857143 118.253047 \r\nL 102.857143 117.319828 \r\n\" style=\"fill:#440154;\"/>\r\n    <path clip-path=\"url(#p74fc7bd7d8)\" d=\"M 150.685714 117.319828 \r\nL 198.514286 117.319828 \r\nL 198.514286 118.253047 \r\nL 150.685714 118.253047 \r\nL 150.685714 117.319828 \r\n\" style=\"fill:#440154;\"/>\r\n    <path clip-path=\"url(#p74fc7bd7d8)\" d=\"M 198.514286 117.319828 \r\nL 246.342857 117.319828 \r\nL 246.342857 118.253047 \r\nL 198.514286 118.253047 \r\nL 198.514286 117.319828 \r\n\" style=\"fill:#440154;\"/>\r\n    <path clip-path=\"url(#p74fc7bd7d8)\" d=\"M 246.342857 117.319828 \r\nL 294.171429 117.319828 \r\nL 294.171429 118.253047 \r\nL 246.342857 118.253047 \r\nL 246.342857 117.319828 \r\n\" style=\"fill:#440154;\"/>\r\n    <path clip-path=\"url(#p74fc7bd7d8)\" d=\"M 294.171429 117.319828 \r\nL 342 117.319828 \r\nL 342 118.253047 \r\nL 294.171429 118.253047 \r\nL 294.171429 117.319828 \r\n\" style=\"fill:#fde725;\"/>\r\n    <path clip-path=\"url(#p74fc7bd7d8)\" d=\"M 7.2 118.253047 \r\nL 55.028571 118.253047 \r\nL 55.028571 119.186266 \r\nL 7.2 119.186266 \r\nL 7.2 118.253047 \r\n\" style=\"fill:#440154;\"/>\r\n    <path clip-path=\"url(#p74fc7bd7d8)\" d=\"M 55.028571 118.253047 \r\nL 102.857143 118.253047 \r\nL 102.857143 119.186266 \r\nL 55.028571 119.186266 \r\nL 55.028571 118.253047 \r\n\" style=\"fill:#440154;\"/>\r\n    <path clip-path=\"url(#p74fc7bd7d8)\" d=\"M 102.857143 118.253047 \r\nL 150.685714 118.253047 \r\nL 150.685714 119.186266 \r\nL 102.857143 119.186266 \r\nL 102.857143 118.253047 \r\n\" style=\"fill:#440154;\"/>\r\n    <path clip-path=\"url(#p74fc7bd7d8)\" d=\"M 150.685714 118.253047 \r\nL 198.514286 118.253047 \r\nL 198.514286 119.186266 \r\nL 150.685714 119.186266 \r\nL 150.685714 118.253047 \r\n\" style=\"fill:#440154;\"/>\r\n    <path clip-path=\"url(#p74fc7bd7d8)\" d=\"M 198.514286 118.253047 \r\nL 246.342857 118.253047 \r\nL 246.342857 119.186266 \r\nL 198.514286 119.186266 \r\nL 198.514286 118.253047 \r\n\" style=\"fill:#440154;\"/>\r\n    <path clip-path=\"url(#p74fc7bd7d8)\" d=\"M 246.342857 118.253047 \r\nL 294.171429 118.253047 \r\nL 294.171429 119.186266 \r\nL 246.342857 119.186266 \r\nL 246.342857 118.253047 \r\n\" style=\"fill:#440154;\"/>\r\n    <path clip-path=\"url(#p74fc7bd7d8)\" d=\"M 294.171429 118.253047 \r\nL 342 118.253047 \r\nL 342 119.186266 \r\nL 294.171429 119.186266 \r\nL 294.171429 118.253047 \r\n\" style=\"fill:#fde725;\"/>\r\n    <path clip-path=\"url(#p74fc7bd7d8)\" d=\"M 7.2 119.186266 \r\nL 55.028571 119.186266 \r\nL 55.028571 120.119485 \r\nL 7.2 120.119485 \r\nL 7.2 119.186266 \r\n\" style=\"fill:#440154;\"/>\r\n    <path clip-path=\"url(#p74fc7bd7d8)\" d=\"M 55.028571 119.186266 \r\nL 102.857143 119.186266 \r\nL 102.857143 120.119485 \r\nL 55.028571 120.119485 \r\nL 55.028571 119.186266 \r\n\" style=\"fill:#440154;\"/>\r\n    <path clip-path=\"url(#p74fc7bd7d8)\" d=\"M 102.857143 119.186266 \r\nL 150.685714 119.186266 \r\nL 150.685714 120.119485 \r\nL 102.857143 120.119485 \r\nL 102.857143 119.186266 \r\n\" style=\"fill:#440154;\"/>\r\n    <path clip-path=\"url(#p74fc7bd7d8)\" d=\"M 150.685714 119.186266 \r\nL 198.514286 119.186266 \r\nL 198.514286 120.119485 \r\nL 150.685714 120.119485 \r\nL 150.685714 119.186266 \r\n\" style=\"fill:#440154;\"/>\r\n    <path clip-path=\"url(#p74fc7bd7d8)\" d=\"M 198.514286 119.186266 \r\nL 246.342857 119.186266 \r\nL 246.342857 120.119485 \r\nL 198.514286 120.119485 \r\nL 198.514286 119.186266 \r\n\" style=\"fill:#fde725;\"/>\r\n    <path clip-path=\"url(#p74fc7bd7d8)\" d=\"M 246.342857 119.186266 \r\nL 294.171429 119.186266 \r\nL 294.171429 120.119485 \r\nL 246.342857 120.119485 \r\nL 246.342857 119.186266 \r\n\" style=\"fill:#fde725;\"/>\r\n    <path clip-path=\"url(#p74fc7bd7d8)\" d=\"M 294.171429 119.186266 \r\nL 342 119.186266 \r\nL 342 120.119485 \r\nL 294.171429 120.119485 \r\nL 294.171429 119.186266 \r\n\" style=\"fill:#440154;\"/>\r\n    <path clip-path=\"url(#p74fc7bd7d8)\" d=\"M 7.2 120.119485 \r\nL 55.028571 120.119485 \r\nL 55.028571 121.052704 \r\nL 7.2 121.052704 \r\nL 7.2 120.119485 \r\n\" style=\"fill:#440154;\"/>\r\n    <path clip-path=\"url(#p74fc7bd7d8)\" d=\"M 55.028571 120.119485 \r\nL 102.857143 120.119485 \r\nL 102.857143 121.052704 \r\nL 55.028571 121.052704 \r\nL 55.028571 120.119485 \r\n\" style=\"fill:#440154;\"/>\r\n    <path clip-path=\"url(#p74fc7bd7d8)\" d=\"M 102.857143 120.119485 \r\nL 150.685714 120.119485 \r\nL 150.685714 121.052704 \r\nL 102.857143 121.052704 \r\nL 102.857143 120.119485 \r\n\" style=\"fill:#440154;\"/>\r\n    <path clip-path=\"url(#p74fc7bd7d8)\" d=\"M 150.685714 120.119485 \r\nL 198.514286 120.119485 \r\nL 198.514286 121.052704 \r\nL 150.685714 121.052704 \r\nL 150.685714 120.119485 \r\n\" style=\"fill:#440154;\"/>\r\n    <path clip-path=\"url(#p74fc7bd7d8)\" d=\"M 198.514286 120.119485 \r\nL 246.342857 120.119485 \r\nL 246.342857 121.052704 \r\nL 198.514286 121.052704 \r\nL 198.514286 120.119485 \r\n\" style=\"fill:#440154;\"/>\r\n    <path clip-path=\"url(#p74fc7bd7d8)\" d=\"M 246.342857 120.119485 \r\nL 294.171429 120.119485 \r\nL 294.171429 121.052704 \r\nL 246.342857 121.052704 \r\nL 246.342857 120.119485 \r\n\" style=\"fill:#440154;\"/>\r\n    <path clip-path=\"url(#p74fc7bd7d8)\" d=\"M 294.171429 120.119485 \r\nL 342 120.119485 \r\nL 342 121.052704 \r\nL 294.171429 121.052704 \r\nL 294.171429 120.119485 \r\n\" style=\"fill:#440154;\"/>\r\n    <path clip-path=\"url(#p74fc7bd7d8)\" d=\"M 7.2 121.052704 \r\nL 55.028571 121.052704 \r\nL 55.028571 121.985923 \r\nL 7.2 121.985923 \r\nL 7.2 121.052704 \r\n\" style=\"fill:#440154;\"/>\r\n    <path clip-path=\"url(#p74fc7bd7d8)\" d=\"M 55.028571 121.052704 \r\nL 102.857143 121.052704 \r\nL 102.857143 121.985923 \r\nL 55.028571 121.985923 \r\nL 55.028571 121.052704 \r\n\" style=\"fill:#440154;\"/>\r\n    <path clip-path=\"url(#p74fc7bd7d8)\" d=\"M 102.857143 121.052704 \r\nL 150.685714 121.052704 \r\nL 150.685714 121.985923 \r\nL 102.857143 121.985923 \r\nL 102.857143 121.052704 \r\n\" style=\"fill:#440154;\"/>\r\n    <path clip-path=\"url(#p74fc7bd7d8)\" d=\"M 150.685714 121.052704 \r\nL 198.514286 121.052704 \r\nL 198.514286 121.985923 \r\nL 150.685714 121.985923 \r\nL 150.685714 121.052704 \r\n\" style=\"fill:#440154;\"/>\r\n    <path clip-path=\"url(#p74fc7bd7d8)\" d=\"M 198.514286 121.052704 \r\nL 246.342857 121.052704 \r\nL 246.342857 121.985923 \r\nL 198.514286 121.985923 \r\nL 198.514286 121.052704 \r\n\" style=\"fill:#440154;\"/>\r\n    <path clip-path=\"url(#p74fc7bd7d8)\" d=\"M 246.342857 121.052704 \r\nL 294.171429 121.052704 \r\nL 294.171429 121.985923 \r\nL 246.342857 121.985923 \r\nL 246.342857 121.052704 \r\n\" style=\"fill:#440154;\"/>\r\n    <path clip-path=\"url(#p74fc7bd7d8)\" d=\"M 294.171429 121.052704 \r\nL 342 121.052704 \r\nL 342 121.985923 \r\nL 294.171429 121.985923 \r\nL 294.171429 121.052704 \r\n\" style=\"fill:#440154;\"/>\r\n    <path clip-path=\"url(#p74fc7bd7d8)\" d=\"M 7.2 121.985923 \r\nL 55.028571 121.985923 \r\nL 55.028571 122.919142 \r\nL 7.2 122.919142 \r\nL 7.2 121.985923 \r\n\" style=\"fill:#440154;\"/>\r\n    <path clip-path=\"url(#p74fc7bd7d8)\" d=\"M 55.028571 121.985923 \r\nL 102.857143 121.985923 \r\nL 102.857143 122.919142 \r\nL 55.028571 122.919142 \r\nL 55.028571 121.985923 \r\n\" style=\"fill:#440154;\"/>\r\n    <path clip-path=\"url(#p74fc7bd7d8)\" d=\"M 102.857143 121.985923 \r\nL 150.685714 121.985923 \r\nL 150.685714 122.919142 \r\nL 102.857143 122.919142 \r\nL 102.857143 121.985923 \r\n\" style=\"fill:#440154;\"/>\r\n    <path clip-path=\"url(#p74fc7bd7d8)\" d=\"M 150.685714 121.985923 \r\nL 198.514286 121.985923 \r\nL 198.514286 122.919142 \r\nL 150.685714 122.919142 \r\nL 150.685714 121.985923 \r\n\" style=\"fill:#440154;\"/>\r\n    <path clip-path=\"url(#p74fc7bd7d8)\" d=\"M 198.514286 121.985923 \r\nL 246.342857 121.985923 \r\nL 246.342857 122.919142 \r\nL 198.514286 122.919142 \r\nL 198.514286 121.985923 \r\n\" style=\"fill:#440154;\"/>\r\n    <path clip-path=\"url(#p74fc7bd7d8)\" d=\"M 246.342857 121.985923 \r\nL 294.171429 121.985923 \r\nL 294.171429 122.919142 \r\nL 246.342857 122.919142 \r\nL 246.342857 121.985923 \r\n\" style=\"fill:#440154;\"/>\r\n    <path clip-path=\"url(#p74fc7bd7d8)\" d=\"M 294.171429 121.985923 \r\nL 342 121.985923 \r\nL 342 122.919142 \r\nL 294.171429 122.919142 \r\nL 294.171429 121.985923 \r\n\" style=\"fill:#440154;\"/>\r\n    <path clip-path=\"url(#p74fc7bd7d8)\" d=\"M 7.2 122.919142 \r\nL 55.028571 122.919142 \r\nL 55.028571 123.852361 \r\nL 7.2 123.852361 \r\nL 7.2 122.919142 \r\n\" style=\"fill:#440154;\"/>\r\n    <path clip-path=\"url(#p74fc7bd7d8)\" d=\"M 55.028571 122.919142 \r\nL 102.857143 122.919142 \r\nL 102.857143 123.852361 \r\nL 55.028571 123.852361 \r\nL 55.028571 122.919142 \r\n\" style=\"fill:#440154;\"/>\r\n    <path clip-path=\"url(#p74fc7bd7d8)\" d=\"M 102.857143 122.919142 \r\nL 150.685714 122.919142 \r\nL 150.685714 123.852361 \r\nL 102.857143 123.852361 \r\nL 102.857143 122.919142 \r\n\" style=\"fill:#440154;\"/>\r\n    <path clip-path=\"url(#p74fc7bd7d8)\" d=\"M 150.685714 122.919142 \r\nL 198.514286 122.919142 \r\nL 198.514286 123.852361 \r\nL 150.685714 123.852361 \r\nL 150.685714 122.919142 \r\n\" style=\"fill:#440154;\"/>\r\n    <path clip-path=\"url(#p74fc7bd7d8)\" d=\"M 198.514286 122.919142 \r\nL 246.342857 122.919142 \r\nL 246.342857 123.852361 \r\nL 198.514286 123.852361 \r\nL 198.514286 122.919142 \r\n\" style=\"fill:#440154;\"/>\r\n    <path clip-path=\"url(#p74fc7bd7d8)\" d=\"M 246.342857 122.919142 \r\nL 294.171429 122.919142 \r\nL 294.171429 123.852361 \r\nL 246.342857 123.852361 \r\nL 246.342857 122.919142 \r\n\" style=\"fill:#440154;\"/>\r\n    <path clip-path=\"url(#p74fc7bd7d8)\" d=\"M 294.171429 122.919142 \r\nL 342 122.919142 \r\nL 342 123.852361 \r\nL 294.171429 123.852361 \r\nL 294.171429 122.919142 \r\n\" style=\"fill:#440154;\"/>\r\n    <path clip-path=\"url(#p74fc7bd7d8)\" d=\"M 7.2 123.852361 \r\nL 55.028571 123.852361 \r\nL 55.028571 124.785579 \r\nL 7.2 124.785579 \r\nL 7.2 123.852361 \r\n\" style=\"fill:#440154;\"/>\r\n    <path clip-path=\"url(#p74fc7bd7d8)\" d=\"M 55.028571 123.852361 \r\nL 102.857143 123.852361 \r\nL 102.857143 124.785579 \r\nL 55.028571 124.785579 \r\nL 55.028571 123.852361 \r\n\" style=\"fill:#fde725;\"/>\r\n    <path clip-path=\"url(#p74fc7bd7d8)\" d=\"M 102.857143 123.852361 \r\nL 150.685714 123.852361 \r\nL 150.685714 124.785579 \r\nL 102.857143 124.785579 \r\nL 102.857143 123.852361 \r\n\" style=\"fill:#fde725;\"/>\r\n    <path clip-path=\"url(#p74fc7bd7d8)\" d=\"M 150.685714 123.852361 \r\nL 198.514286 123.852361 \r\nL 198.514286 124.785579 \r\nL 150.685714 124.785579 \r\nL 150.685714 123.852361 \r\n\" style=\"fill:#fde725;\"/>\r\n    <path clip-path=\"url(#p74fc7bd7d8)\" d=\"M 198.514286 123.852361 \r\nL 246.342857 123.852361 \r\nL 246.342857 124.785579 \r\nL 198.514286 124.785579 \r\nL 198.514286 123.852361 \r\n\" style=\"fill:#fde725;\"/>\r\n    <path clip-path=\"url(#p74fc7bd7d8)\" d=\"M 246.342857 123.852361 \r\nL 294.171429 123.852361 \r\nL 294.171429 124.785579 \r\nL 246.342857 124.785579 \r\nL 246.342857 123.852361 \r\n\" style=\"fill:#fde725;\"/>\r\n    <path clip-path=\"url(#p74fc7bd7d8)\" d=\"M 294.171429 123.852361 \r\nL 342 123.852361 \r\nL 342 124.785579 \r\nL 294.171429 124.785579 \r\nL 294.171429 123.852361 \r\n\" style=\"fill:#fde725;\"/>\r\n    <path clip-path=\"url(#p74fc7bd7d8)\" d=\"M 7.2 124.785579 \r\nL 55.028571 124.785579 \r\nL 55.028571 125.718798 \r\nL 7.2 125.718798 \r\nL 7.2 124.785579 \r\n\" style=\"fill:#440154;\"/>\r\n    <path clip-path=\"url(#p74fc7bd7d8)\" d=\"M 55.028571 124.785579 \r\nL 102.857143 124.785579 \r\nL 102.857143 125.718798 \r\nL 55.028571 125.718798 \r\nL 55.028571 124.785579 \r\n\" style=\"fill:#440154;\"/>\r\n    <path clip-path=\"url(#p74fc7bd7d8)\" d=\"M 102.857143 124.785579 \r\nL 150.685714 124.785579 \r\nL 150.685714 125.718798 \r\nL 102.857143 125.718798 \r\nL 102.857143 124.785579 \r\n\" style=\"fill:#440154;\"/>\r\n    <path clip-path=\"url(#p74fc7bd7d8)\" d=\"M 150.685714 124.785579 \r\nL 198.514286 124.785579 \r\nL 198.514286 125.718798 \r\nL 150.685714 125.718798 \r\nL 150.685714 124.785579 \r\n\" style=\"fill:#440154;\"/>\r\n    <path clip-path=\"url(#p74fc7bd7d8)\" d=\"M 198.514286 124.785579 \r\nL 246.342857 124.785579 \r\nL 246.342857 125.718798 \r\nL 198.514286 125.718798 \r\nL 198.514286 124.785579 \r\n\" style=\"fill:#440154;\"/>\r\n    <path clip-path=\"url(#p74fc7bd7d8)\" d=\"M 246.342857 124.785579 \r\nL 294.171429 124.785579 \r\nL 294.171429 125.718798 \r\nL 246.342857 125.718798 \r\nL 246.342857 124.785579 \r\n\" style=\"fill:#440154;\"/>\r\n    <path clip-path=\"url(#p74fc7bd7d8)\" d=\"M 294.171429 124.785579 \r\nL 342 124.785579 \r\nL 342 125.718798 \r\nL 294.171429 125.718798 \r\nL 294.171429 124.785579 \r\n\" style=\"fill:#440154;\"/>\r\n    <path clip-path=\"url(#p74fc7bd7d8)\" d=\"M 7.2 125.718798 \r\nL 55.028571 125.718798 \r\nL 55.028571 126.652017 \r\nL 7.2 126.652017 \r\nL 7.2 125.718798 \r\n\" style=\"fill:#440154;\"/>\r\n    <path clip-path=\"url(#p74fc7bd7d8)\" d=\"M 55.028571 125.718798 \r\nL 102.857143 125.718798 \r\nL 102.857143 126.652017 \r\nL 55.028571 126.652017 \r\nL 55.028571 125.718798 \r\n\" style=\"fill:#440154;\"/>\r\n    <path clip-path=\"url(#p74fc7bd7d8)\" d=\"M 102.857143 125.718798 \r\nL 150.685714 125.718798 \r\nL 150.685714 126.652017 \r\nL 102.857143 126.652017 \r\nL 102.857143 125.718798 \r\n\" style=\"fill:#440154;\"/>\r\n    <path clip-path=\"url(#p74fc7bd7d8)\" d=\"M 150.685714 125.718798 \r\nL 198.514286 125.718798 \r\nL 198.514286 126.652017 \r\nL 150.685714 126.652017 \r\nL 150.685714 125.718798 \r\n\" style=\"fill:#440154;\"/>\r\n    <path clip-path=\"url(#p74fc7bd7d8)\" d=\"M 198.514286 125.718798 \r\nL 246.342857 125.718798 \r\nL 246.342857 126.652017 \r\nL 198.514286 126.652017 \r\nL 198.514286 125.718798 \r\n\" style=\"fill:#fde725;\"/>\r\n    <path clip-path=\"url(#p74fc7bd7d8)\" d=\"M 246.342857 125.718798 \r\nL 294.171429 125.718798 \r\nL 294.171429 126.652017 \r\nL 246.342857 126.652017 \r\nL 246.342857 125.718798 \r\n\" style=\"fill:#440154;\"/>\r\n    <path clip-path=\"url(#p74fc7bd7d8)\" d=\"M 294.171429 125.718798 \r\nL 342 125.718798 \r\nL 342 126.652017 \r\nL 294.171429 126.652017 \r\nL 294.171429 125.718798 \r\n\" style=\"fill:#440154;\"/>\r\n    <path clip-path=\"url(#p74fc7bd7d8)\" d=\"M 7.2 126.652017 \r\nL 55.028571 126.652017 \r\nL 55.028571 127.585236 \r\nL 7.2 127.585236 \r\nL 7.2 126.652017 \r\n\" style=\"fill:#440154;\"/>\r\n    <path clip-path=\"url(#p74fc7bd7d8)\" d=\"M 55.028571 126.652017 \r\nL 102.857143 126.652017 \r\nL 102.857143 127.585236 \r\nL 55.028571 127.585236 \r\nL 55.028571 126.652017 \r\n\" style=\"fill:#440154;\"/>\r\n    <path clip-path=\"url(#p74fc7bd7d8)\" d=\"M 102.857143 126.652017 \r\nL 150.685714 126.652017 \r\nL 150.685714 127.585236 \r\nL 102.857143 127.585236 \r\nL 102.857143 126.652017 \r\n\" style=\"fill:#440154;\"/>\r\n    <path clip-path=\"url(#p74fc7bd7d8)\" d=\"M 150.685714 126.652017 \r\nL 198.514286 126.652017 \r\nL 198.514286 127.585236 \r\nL 150.685714 127.585236 \r\nL 150.685714 126.652017 \r\n\" style=\"fill:#440154;\"/>\r\n    <path clip-path=\"url(#p74fc7bd7d8)\" d=\"M 198.514286 126.652017 \r\nL 246.342857 126.652017 \r\nL 246.342857 127.585236 \r\nL 198.514286 127.585236 \r\nL 198.514286 126.652017 \r\n\" style=\"fill:#440154;\"/>\r\n    <path clip-path=\"url(#p74fc7bd7d8)\" d=\"M 246.342857 126.652017 \r\nL 294.171429 126.652017 \r\nL 294.171429 127.585236 \r\nL 246.342857 127.585236 \r\nL 246.342857 126.652017 \r\n\" style=\"fill:#440154;\"/>\r\n    <path clip-path=\"url(#p74fc7bd7d8)\" d=\"M 294.171429 126.652017 \r\nL 342 126.652017 \r\nL 342 127.585236 \r\nL 294.171429 127.585236 \r\nL 294.171429 126.652017 \r\n\" style=\"fill:#440154;\"/>\r\n    <path clip-path=\"url(#p74fc7bd7d8)\" d=\"M 7.2 127.585236 \r\nL 55.028571 127.585236 \r\nL 55.028571 128.518455 \r\nL 7.2 128.518455 \r\nL 7.2 127.585236 \r\n\" style=\"fill:#440154;\"/>\r\n    <path clip-path=\"url(#p74fc7bd7d8)\" d=\"M 55.028571 127.585236 \r\nL 102.857143 127.585236 \r\nL 102.857143 128.518455 \r\nL 55.028571 128.518455 \r\nL 55.028571 127.585236 \r\n\" style=\"fill:#440154;\"/>\r\n    <path clip-path=\"url(#p74fc7bd7d8)\" d=\"M 102.857143 127.585236 \r\nL 150.685714 127.585236 \r\nL 150.685714 128.518455 \r\nL 102.857143 128.518455 \r\nL 102.857143 127.585236 \r\n\" style=\"fill:#440154;\"/>\r\n    <path clip-path=\"url(#p74fc7bd7d8)\" d=\"M 150.685714 127.585236 \r\nL 198.514286 127.585236 \r\nL 198.514286 128.518455 \r\nL 150.685714 128.518455 \r\nL 150.685714 127.585236 \r\n\" style=\"fill:#440154;\"/>\r\n    <path clip-path=\"url(#p74fc7bd7d8)\" d=\"M 198.514286 127.585236 \r\nL 246.342857 127.585236 \r\nL 246.342857 128.518455 \r\nL 198.514286 128.518455 \r\nL 198.514286 127.585236 \r\n\" style=\"fill:#440154;\"/>\r\n    <path clip-path=\"url(#p74fc7bd7d8)\" d=\"M 246.342857 127.585236 \r\nL 294.171429 127.585236 \r\nL 294.171429 128.518455 \r\nL 246.342857 128.518455 \r\nL 246.342857 127.585236 \r\n\" style=\"fill:#440154;\"/>\r\n    <path clip-path=\"url(#p74fc7bd7d8)\" d=\"M 294.171429 127.585236 \r\nL 342 127.585236 \r\nL 342 128.518455 \r\nL 294.171429 128.518455 \r\nL 294.171429 127.585236 \r\n\" style=\"fill:#fde725;\"/>\r\n    <path clip-path=\"url(#p74fc7bd7d8)\" d=\"M 7.2 128.518455 \r\nL 55.028571 128.518455 \r\nL 55.028571 129.451674 \r\nL 7.2 129.451674 \r\nL 7.2 128.518455 \r\n\" style=\"fill:#440154;\"/>\r\n    <path clip-path=\"url(#p74fc7bd7d8)\" d=\"M 55.028571 128.518455 \r\nL 102.857143 128.518455 \r\nL 102.857143 129.451674 \r\nL 55.028571 129.451674 \r\nL 55.028571 128.518455 \r\n\" style=\"fill:#440154;\"/>\r\n    <path clip-path=\"url(#p74fc7bd7d8)\" d=\"M 102.857143 128.518455 \r\nL 150.685714 128.518455 \r\nL 150.685714 129.451674 \r\nL 102.857143 129.451674 \r\nL 102.857143 128.518455 \r\n\" style=\"fill:#440154;\"/>\r\n    <path clip-path=\"url(#p74fc7bd7d8)\" d=\"M 150.685714 128.518455 \r\nL 198.514286 128.518455 \r\nL 198.514286 129.451674 \r\nL 150.685714 129.451674 \r\nL 150.685714 128.518455 \r\n\" style=\"fill:#440154;\"/>\r\n    <path clip-path=\"url(#p74fc7bd7d8)\" d=\"M 198.514286 128.518455 \r\nL 246.342857 128.518455 \r\nL 246.342857 129.451674 \r\nL 198.514286 129.451674 \r\nL 198.514286 128.518455 \r\n\" style=\"fill:#440154;\"/>\r\n    <path clip-path=\"url(#p74fc7bd7d8)\" d=\"M 246.342857 128.518455 \r\nL 294.171429 128.518455 \r\nL 294.171429 129.451674 \r\nL 246.342857 129.451674 \r\nL 246.342857 128.518455 \r\n\" style=\"fill:#440154;\"/>\r\n    <path clip-path=\"url(#p74fc7bd7d8)\" d=\"M 294.171429 128.518455 \r\nL 342 128.518455 \r\nL 342 129.451674 \r\nL 294.171429 129.451674 \r\nL 294.171429 128.518455 \r\n\" style=\"fill:#440154;\"/>\r\n    <path clip-path=\"url(#p74fc7bd7d8)\" d=\"M 7.2 129.451674 \r\nL 55.028571 129.451674 \r\nL 55.028571 130.384893 \r\nL 7.2 130.384893 \r\nL 7.2 129.451674 \r\n\" style=\"fill:#440154;\"/>\r\n    <path clip-path=\"url(#p74fc7bd7d8)\" d=\"M 55.028571 129.451674 \r\nL 102.857143 129.451674 \r\nL 102.857143 130.384893 \r\nL 55.028571 130.384893 \r\nL 55.028571 129.451674 \r\n\" style=\"fill:#440154;\"/>\r\n    <path clip-path=\"url(#p74fc7bd7d8)\" d=\"M 102.857143 129.451674 \r\nL 150.685714 129.451674 \r\nL 150.685714 130.384893 \r\nL 102.857143 130.384893 \r\nL 102.857143 129.451674 \r\n\" style=\"fill:#440154;\"/>\r\n    <path clip-path=\"url(#p74fc7bd7d8)\" d=\"M 150.685714 129.451674 \r\nL 198.514286 129.451674 \r\nL 198.514286 130.384893 \r\nL 150.685714 130.384893 \r\nL 150.685714 129.451674 \r\n\" style=\"fill:#440154;\"/>\r\n    <path clip-path=\"url(#p74fc7bd7d8)\" d=\"M 198.514286 129.451674 \r\nL 246.342857 129.451674 \r\nL 246.342857 130.384893 \r\nL 198.514286 130.384893 \r\nL 198.514286 129.451674 \r\n\" style=\"fill:#440154;\"/>\r\n    <path clip-path=\"url(#p74fc7bd7d8)\" d=\"M 246.342857 129.451674 \r\nL 294.171429 129.451674 \r\nL 294.171429 130.384893 \r\nL 246.342857 130.384893 \r\nL 246.342857 129.451674 \r\n\" style=\"fill:#440154;\"/>\r\n    <path clip-path=\"url(#p74fc7bd7d8)\" d=\"M 294.171429 129.451674 \r\nL 342 129.451674 \r\nL 342 130.384893 \r\nL 294.171429 130.384893 \r\nL 294.171429 129.451674 \r\n\" style=\"fill:#440154;\"/>\r\n    <path clip-path=\"url(#p74fc7bd7d8)\" d=\"M 7.2 130.384893 \r\nL 55.028571 130.384893 \r\nL 55.028571 131.318112 \r\nL 7.2 131.318112 \r\nL 7.2 130.384893 \r\n\" style=\"fill:#440154;\"/>\r\n    <path clip-path=\"url(#p74fc7bd7d8)\" d=\"M 55.028571 130.384893 \r\nL 102.857143 130.384893 \r\nL 102.857143 131.318112 \r\nL 55.028571 131.318112 \r\nL 55.028571 130.384893 \r\n\" style=\"fill:#440154;\"/>\r\n    <path clip-path=\"url(#p74fc7bd7d8)\" d=\"M 102.857143 130.384893 \r\nL 150.685714 130.384893 \r\nL 150.685714 131.318112 \r\nL 102.857143 131.318112 \r\nL 102.857143 130.384893 \r\n\" style=\"fill:#440154;\"/>\r\n    <path clip-path=\"url(#p74fc7bd7d8)\" d=\"M 150.685714 130.384893 \r\nL 198.514286 130.384893 \r\nL 198.514286 131.318112 \r\nL 150.685714 131.318112 \r\nL 150.685714 130.384893 \r\n\" style=\"fill:#440154;\"/>\r\n    <path clip-path=\"url(#p74fc7bd7d8)\" d=\"M 198.514286 130.384893 \r\nL 246.342857 130.384893 \r\nL 246.342857 131.318112 \r\nL 198.514286 131.318112 \r\nL 198.514286 130.384893 \r\n\" style=\"fill:#440154;\"/>\r\n    <path clip-path=\"url(#p74fc7bd7d8)\" d=\"M 246.342857 130.384893 \r\nL 294.171429 130.384893 \r\nL 294.171429 131.318112 \r\nL 246.342857 131.318112 \r\nL 246.342857 130.384893 \r\n\" style=\"fill:#440154;\"/>\r\n    <path clip-path=\"url(#p74fc7bd7d8)\" d=\"M 294.171429 130.384893 \r\nL 342 130.384893 \r\nL 342 131.318112 \r\nL 294.171429 131.318112 \r\nL 294.171429 130.384893 \r\n\" style=\"fill:#440154;\"/>\r\n    <path clip-path=\"url(#p74fc7bd7d8)\" d=\"M 7.2 131.318112 \r\nL 55.028571 131.318112 \r\nL 55.028571 132.25133 \r\nL 7.2 132.25133 \r\nL 7.2 131.318112 \r\n\" style=\"fill:#440154;\"/>\r\n    <path clip-path=\"url(#p74fc7bd7d8)\" d=\"M 55.028571 131.318112 \r\nL 102.857143 131.318112 \r\nL 102.857143 132.25133 \r\nL 55.028571 132.25133 \r\nL 55.028571 131.318112 \r\n\" style=\"fill:#fde725;\"/>\r\n    <path clip-path=\"url(#p74fc7bd7d8)\" d=\"M 102.857143 131.318112 \r\nL 150.685714 131.318112 \r\nL 150.685714 132.25133 \r\nL 102.857143 132.25133 \r\nL 102.857143 131.318112 \r\n\" style=\"fill:#fde725;\"/>\r\n    <path clip-path=\"url(#p74fc7bd7d8)\" d=\"M 150.685714 131.318112 \r\nL 198.514286 131.318112 \r\nL 198.514286 132.25133 \r\nL 150.685714 132.25133 \r\nL 150.685714 131.318112 \r\n\" style=\"fill:#fde725;\"/>\r\n    <path clip-path=\"url(#p74fc7bd7d8)\" d=\"M 198.514286 131.318112 \r\nL 246.342857 131.318112 \r\nL 246.342857 132.25133 \r\nL 198.514286 132.25133 \r\nL 198.514286 131.318112 \r\n\" style=\"fill:#fde725;\"/>\r\n    <path clip-path=\"url(#p74fc7bd7d8)\" d=\"M 246.342857 131.318112 \r\nL 294.171429 131.318112 \r\nL 294.171429 132.25133 \r\nL 246.342857 132.25133 \r\nL 246.342857 131.318112 \r\n\" style=\"fill:#fde725;\"/>\r\n    <path clip-path=\"url(#p74fc7bd7d8)\" d=\"M 294.171429 131.318112 \r\nL 342 131.318112 \r\nL 342 132.25133 \r\nL 294.171429 132.25133 \r\nL 294.171429 131.318112 \r\n\" style=\"fill:#fde725;\"/>\r\n    <path clip-path=\"url(#p74fc7bd7d8)\" d=\"M 7.2 132.25133 \r\nL 55.028571 132.25133 \r\nL 55.028571 133.184549 \r\nL 7.2 133.184549 \r\nL 7.2 132.25133 \r\n\" style=\"fill:#440154;\"/>\r\n    <path clip-path=\"url(#p74fc7bd7d8)\" d=\"M 55.028571 132.25133 \r\nL 102.857143 132.25133 \r\nL 102.857143 133.184549 \r\nL 55.028571 133.184549 \r\nL 55.028571 132.25133 \r\n\" style=\"fill:#440154;\"/>\r\n    <path clip-path=\"url(#p74fc7bd7d8)\" d=\"M 102.857143 132.25133 \r\nL 150.685714 132.25133 \r\nL 150.685714 133.184549 \r\nL 102.857143 133.184549 \r\nL 102.857143 132.25133 \r\n\" style=\"fill:#440154;\"/>\r\n    <path clip-path=\"url(#p74fc7bd7d8)\" d=\"M 150.685714 132.25133 \r\nL 198.514286 132.25133 \r\nL 198.514286 133.184549 \r\nL 150.685714 133.184549 \r\nL 150.685714 132.25133 \r\n\" style=\"fill:#440154;\"/>\r\n    <path clip-path=\"url(#p74fc7bd7d8)\" d=\"M 198.514286 132.25133 \r\nL 246.342857 132.25133 \r\nL 246.342857 133.184549 \r\nL 198.514286 133.184549 \r\nL 198.514286 132.25133 \r\n\" style=\"fill:#440154;\"/>\r\n    <path clip-path=\"url(#p74fc7bd7d8)\" d=\"M 246.342857 132.25133 \r\nL 294.171429 132.25133 \r\nL 294.171429 133.184549 \r\nL 246.342857 133.184549 \r\nL 246.342857 132.25133 \r\n\" style=\"fill:#440154;\"/>\r\n    <path clip-path=\"url(#p74fc7bd7d8)\" d=\"M 294.171429 132.25133 \r\nL 342 132.25133 \r\nL 342 133.184549 \r\nL 294.171429 133.184549 \r\nL 294.171429 132.25133 \r\n\" style=\"fill:#440154;\"/>\r\n    <path clip-path=\"url(#p74fc7bd7d8)\" d=\"M 7.2 133.184549 \r\nL 55.028571 133.184549 \r\nL 55.028571 134.117768 \r\nL 7.2 134.117768 \r\nL 7.2 133.184549 \r\n\" style=\"fill:#440154;\"/>\r\n    <path clip-path=\"url(#p74fc7bd7d8)\" d=\"M 55.028571 133.184549 \r\nL 102.857143 133.184549 \r\nL 102.857143 134.117768 \r\nL 55.028571 134.117768 \r\nL 55.028571 133.184549 \r\n\" style=\"fill:#440154;\"/>\r\n    <path clip-path=\"url(#p74fc7bd7d8)\" d=\"M 102.857143 133.184549 \r\nL 150.685714 133.184549 \r\nL 150.685714 134.117768 \r\nL 102.857143 134.117768 \r\nL 102.857143 133.184549 \r\n\" style=\"fill:#440154;\"/>\r\n    <path clip-path=\"url(#p74fc7bd7d8)\" d=\"M 150.685714 133.184549 \r\nL 198.514286 133.184549 \r\nL 198.514286 134.117768 \r\nL 150.685714 134.117768 \r\nL 150.685714 133.184549 \r\n\" style=\"fill:#440154;\"/>\r\n    <path clip-path=\"url(#p74fc7bd7d8)\" d=\"M 198.514286 133.184549 \r\nL 246.342857 133.184549 \r\nL 246.342857 134.117768 \r\nL 198.514286 134.117768 \r\nL 198.514286 133.184549 \r\n\" style=\"fill:#440154;\"/>\r\n    <path clip-path=\"url(#p74fc7bd7d8)\" d=\"M 246.342857 133.184549 \r\nL 294.171429 133.184549 \r\nL 294.171429 134.117768 \r\nL 246.342857 134.117768 \r\nL 246.342857 133.184549 \r\n\" style=\"fill:#440154;\"/>\r\n    <path clip-path=\"url(#p74fc7bd7d8)\" d=\"M 294.171429 133.184549 \r\nL 342 133.184549 \r\nL 342 134.117768 \r\nL 294.171429 134.117768 \r\nL 294.171429 133.184549 \r\n\" style=\"fill:#440154;\"/>\r\n    <path clip-path=\"url(#p74fc7bd7d8)\" d=\"M 7.2 134.117768 \r\nL 55.028571 134.117768 \r\nL 55.028571 135.050987 \r\nL 7.2 135.050987 \r\nL 7.2 134.117768 \r\n\" style=\"fill:#440154;\"/>\r\n    <path clip-path=\"url(#p74fc7bd7d8)\" d=\"M 55.028571 134.117768 \r\nL 102.857143 134.117768 \r\nL 102.857143 135.050987 \r\nL 55.028571 135.050987 \r\nL 55.028571 134.117768 \r\n\" style=\"fill:#fde725;\"/>\r\n    <path clip-path=\"url(#p74fc7bd7d8)\" d=\"M 102.857143 134.117768 \r\nL 150.685714 134.117768 \r\nL 150.685714 135.050987 \r\nL 102.857143 135.050987 \r\nL 102.857143 134.117768 \r\n\" style=\"fill:#fde725;\"/>\r\n    <path clip-path=\"url(#p74fc7bd7d8)\" d=\"M 150.685714 134.117768 \r\nL 198.514286 134.117768 \r\nL 198.514286 135.050987 \r\nL 150.685714 135.050987 \r\nL 150.685714 134.117768 \r\n\" style=\"fill:#fde725;\"/>\r\n    <path clip-path=\"url(#p74fc7bd7d8)\" d=\"M 198.514286 134.117768 \r\nL 246.342857 134.117768 \r\nL 246.342857 135.050987 \r\nL 198.514286 135.050987 \r\nL 198.514286 134.117768 \r\n\" style=\"fill:#fde725;\"/>\r\n    <path clip-path=\"url(#p74fc7bd7d8)\" d=\"M 246.342857 134.117768 \r\nL 294.171429 134.117768 \r\nL 294.171429 135.050987 \r\nL 246.342857 135.050987 \r\nL 246.342857 134.117768 \r\n\" style=\"fill:#fde725;\"/>\r\n    <path clip-path=\"url(#p74fc7bd7d8)\" d=\"M 294.171429 134.117768 \r\nL 342 134.117768 \r\nL 342 135.050987 \r\nL 294.171429 135.050987 \r\nL 294.171429 134.117768 \r\n\" style=\"fill:#fde725;\"/>\r\n    <path clip-path=\"url(#p74fc7bd7d8)\" d=\"M 7.2 135.050987 \r\nL 55.028571 135.050987 \r\nL 55.028571 135.984206 \r\nL 7.2 135.984206 \r\nL 7.2 135.050987 \r\n\" style=\"fill:#440154;\"/>\r\n    <path clip-path=\"url(#p74fc7bd7d8)\" d=\"M 55.028571 135.050987 \r\nL 102.857143 135.050987 \r\nL 102.857143 135.984206 \r\nL 55.028571 135.984206 \r\nL 55.028571 135.050987 \r\n\" style=\"fill:#440154;\"/>\r\n    <path clip-path=\"url(#p74fc7bd7d8)\" d=\"M 102.857143 135.050987 \r\nL 150.685714 135.050987 \r\nL 150.685714 135.984206 \r\nL 102.857143 135.984206 \r\nL 102.857143 135.050987 \r\n\" style=\"fill:#440154;\"/>\r\n    <path clip-path=\"url(#p74fc7bd7d8)\" d=\"M 150.685714 135.050987 \r\nL 198.514286 135.050987 \r\nL 198.514286 135.984206 \r\nL 150.685714 135.984206 \r\nL 150.685714 135.050987 \r\n\" style=\"fill:#440154;\"/>\r\n    <path clip-path=\"url(#p74fc7bd7d8)\" d=\"M 198.514286 135.050987 \r\nL 246.342857 135.050987 \r\nL 246.342857 135.984206 \r\nL 198.514286 135.984206 \r\nL 198.514286 135.050987 \r\n\" style=\"fill:#fde725;\"/>\r\n    <path clip-path=\"url(#p74fc7bd7d8)\" d=\"M 246.342857 135.050987 \r\nL 294.171429 135.050987 \r\nL 294.171429 135.984206 \r\nL 246.342857 135.984206 \r\nL 246.342857 135.050987 \r\n\" style=\"fill:#440154;\"/>\r\n    <path clip-path=\"url(#p74fc7bd7d8)\" d=\"M 294.171429 135.050987 \r\nL 342 135.050987 \r\nL 342 135.984206 \r\nL 294.171429 135.984206 \r\nL 294.171429 135.050987 \r\n\" style=\"fill:#440154;\"/>\r\n    <path clip-path=\"url(#p74fc7bd7d8)\" d=\"M 7.2 135.984206 \r\nL 55.028571 135.984206 \r\nL 55.028571 136.917425 \r\nL 7.2 136.917425 \r\nL 7.2 135.984206 \r\n\" style=\"fill:#440154;\"/>\r\n    <path clip-path=\"url(#p74fc7bd7d8)\" d=\"M 55.028571 135.984206 \r\nL 102.857143 135.984206 \r\nL 102.857143 136.917425 \r\nL 55.028571 136.917425 \r\nL 55.028571 135.984206 \r\n\" style=\"fill:#fde725;\"/>\r\n    <path clip-path=\"url(#p74fc7bd7d8)\" d=\"M 102.857143 135.984206 \r\nL 150.685714 135.984206 \r\nL 150.685714 136.917425 \r\nL 102.857143 136.917425 \r\nL 102.857143 135.984206 \r\n\" style=\"fill:#fde725;\"/>\r\n    <path clip-path=\"url(#p74fc7bd7d8)\" d=\"M 150.685714 135.984206 \r\nL 198.514286 135.984206 \r\nL 198.514286 136.917425 \r\nL 150.685714 136.917425 \r\nL 150.685714 135.984206 \r\n\" style=\"fill:#fde725;\"/>\r\n    <path clip-path=\"url(#p74fc7bd7d8)\" d=\"M 198.514286 135.984206 \r\nL 246.342857 135.984206 \r\nL 246.342857 136.917425 \r\nL 198.514286 136.917425 \r\nL 198.514286 135.984206 \r\n\" style=\"fill:#fde725;\"/>\r\n    <path clip-path=\"url(#p74fc7bd7d8)\" d=\"M 246.342857 135.984206 \r\nL 294.171429 135.984206 \r\nL 294.171429 136.917425 \r\nL 246.342857 136.917425 \r\nL 246.342857 135.984206 \r\n\" style=\"fill:#fde725;\"/>\r\n    <path clip-path=\"url(#p74fc7bd7d8)\" d=\"M 294.171429 135.984206 \r\nL 342 135.984206 \r\nL 342 136.917425 \r\nL 294.171429 136.917425 \r\nL 294.171429 135.984206 \r\n\" style=\"fill:#fde725;\"/>\r\n    <path clip-path=\"url(#p74fc7bd7d8)\" d=\"M 7.2 136.917425 \r\nL 55.028571 136.917425 \r\nL 55.028571 137.850644 \r\nL 7.2 137.850644 \r\nL 7.2 136.917425 \r\n\" style=\"fill:#440154;\"/>\r\n    <path clip-path=\"url(#p74fc7bd7d8)\" d=\"M 55.028571 136.917425 \r\nL 102.857143 136.917425 \r\nL 102.857143 137.850644 \r\nL 55.028571 137.850644 \r\nL 55.028571 136.917425 \r\n\" style=\"fill:#440154;\"/>\r\n    <path clip-path=\"url(#p74fc7bd7d8)\" d=\"M 102.857143 136.917425 \r\nL 150.685714 136.917425 \r\nL 150.685714 137.850644 \r\nL 102.857143 137.850644 \r\nL 102.857143 136.917425 \r\n\" style=\"fill:#440154;\"/>\r\n    <path clip-path=\"url(#p74fc7bd7d8)\" d=\"M 150.685714 136.917425 \r\nL 198.514286 136.917425 \r\nL 198.514286 137.850644 \r\nL 150.685714 137.850644 \r\nL 150.685714 136.917425 \r\n\" style=\"fill:#440154;\"/>\r\n    <path clip-path=\"url(#p74fc7bd7d8)\" d=\"M 198.514286 136.917425 \r\nL 246.342857 136.917425 \r\nL 246.342857 137.850644 \r\nL 198.514286 137.850644 \r\nL 198.514286 136.917425 \r\n\" style=\"fill:#440154;\"/>\r\n    <path clip-path=\"url(#p74fc7bd7d8)\" d=\"M 246.342857 136.917425 \r\nL 294.171429 136.917425 \r\nL 294.171429 137.850644 \r\nL 246.342857 137.850644 \r\nL 246.342857 136.917425 \r\n\" style=\"fill:#440154;\"/>\r\n    <path clip-path=\"url(#p74fc7bd7d8)\" d=\"M 294.171429 136.917425 \r\nL 342 136.917425 \r\nL 342 137.850644 \r\nL 294.171429 137.850644 \r\nL 294.171429 136.917425 \r\n\" style=\"fill:#440154;\"/>\r\n    <path clip-path=\"url(#p74fc7bd7d8)\" d=\"M 7.2 137.850644 \r\nL 55.028571 137.850644 \r\nL 55.028571 138.783863 \r\nL 7.2 138.783863 \r\nL 7.2 137.850644 \r\n\" style=\"fill:#440154;\"/>\r\n    <path clip-path=\"url(#p74fc7bd7d8)\" d=\"M 55.028571 137.850644 \r\nL 102.857143 137.850644 \r\nL 102.857143 138.783863 \r\nL 55.028571 138.783863 \r\nL 55.028571 137.850644 \r\n\" style=\"fill:#440154;\"/>\r\n    <path clip-path=\"url(#p74fc7bd7d8)\" d=\"M 102.857143 137.850644 \r\nL 150.685714 137.850644 \r\nL 150.685714 138.783863 \r\nL 102.857143 138.783863 \r\nL 102.857143 137.850644 \r\n\" style=\"fill:#440154;\"/>\r\n    <path clip-path=\"url(#p74fc7bd7d8)\" d=\"M 150.685714 137.850644 \r\nL 198.514286 137.850644 \r\nL 198.514286 138.783863 \r\nL 150.685714 138.783863 \r\nL 150.685714 137.850644 \r\n\" style=\"fill:#440154;\"/>\r\n    <path clip-path=\"url(#p74fc7bd7d8)\" d=\"M 198.514286 137.850644 \r\nL 246.342857 137.850644 \r\nL 246.342857 138.783863 \r\nL 198.514286 138.783863 \r\nL 198.514286 137.850644 \r\n\" style=\"fill:#440154;\"/>\r\n    <path clip-path=\"url(#p74fc7bd7d8)\" d=\"M 246.342857 137.850644 \r\nL 294.171429 137.850644 \r\nL 294.171429 138.783863 \r\nL 246.342857 138.783863 \r\nL 246.342857 137.850644 \r\n\" style=\"fill:#440154;\"/>\r\n    <path clip-path=\"url(#p74fc7bd7d8)\" d=\"M 294.171429 137.850644 \r\nL 342 137.850644 \r\nL 342 138.783863 \r\nL 294.171429 138.783863 \r\nL 294.171429 137.850644 \r\n\" style=\"fill:#fde725;\"/>\r\n    <path clip-path=\"url(#p74fc7bd7d8)\" d=\"M 7.2 138.783863 \r\nL 55.028571 138.783863 \r\nL 55.028571 139.717082 \r\nL 7.2 139.717082 \r\nL 7.2 138.783863 \r\n\" style=\"fill:#440154;\"/>\r\n    <path clip-path=\"url(#p74fc7bd7d8)\" d=\"M 55.028571 138.783863 \r\nL 102.857143 138.783863 \r\nL 102.857143 139.717082 \r\nL 55.028571 139.717082 \r\nL 55.028571 138.783863 \r\n\" style=\"fill:#440154;\"/>\r\n    <path clip-path=\"url(#p74fc7bd7d8)\" d=\"M 102.857143 138.783863 \r\nL 150.685714 138.783863 \r\nL 150.685714 139.717082 \r\nL 102.857143 139.717082 \r\nL 102.857143 138.783863 \r\n\" style=\"fill:#440154;\"/>\r\n    <path clip-path=\"url(#p74fc7bd7d8)\" d=\"M 150.685714 138.783863 \r\nL 198.514286 138.783863 \r\nL 198.514286 139.717082 \r\nL 150.685714 139.717082 \r\nL 150.685714 138.783863 \r\n\" style=\"fill:#440154;\"/>\r\n    <path clip-path=\"url(#p74fc7bd7d8)\" d=\"M 198.514286 138.783863 \r\nL 246.342857 138.783863 \r\nL 246.342857 139.717082 \r\nL 198.514286 139.717082 \r\nL 198.514286 138.783863 \r\n\" style=\"fill:#440154;\"/>\r\n    <path clip-path=\"url(#p74fc7bd7d8)\" d=\"M 246.342857 138.783863 \r\nL 294.171429 138.783863 \r\nL 294.171429 139.717082 \r\nL 246.342857 139.717082 \r\nL 246.342857 138.783863 \r\n\" style=\"fill:#440154;\"/>\r\n    <path clip-path=\"url(#p74fc7bd7d8)\" d=\"M 294.171429 138.783863 \r\nL 342 138.783863 \r\nL 342 139.717082 \r\nL 294.171429 139.717082 \r\nL 294.171429 138.783863 \r\n\" style=\"fill:#440154;\"/>\r\n    <path clip-path=\"url(#p74fc7bd7d8)\" d=\"M 7.2 139.717082 \r\nL 55.028571 139.717082 \r\nL 55.028571 140.6503 \r\nL 7.2 140.6503 \r\nL 7.2 139.717082 \r\n\" style=\"fill:#440154;\"/>\r\n    <path clip-path=\"url(#p74fc7bd7d8)\" d=\"M 55.028571 139.717082 \r\nL 102.857143 139.717082 \r\nL 102.857143 140.6503 \r\nL 55.028571 140.6503 \r\nL 55.028571 139.717082 \r\n\" style=\"fill:#440154;\"/>\r\n    <path clip-path=\"url(#p74fc7bd7d8)\" d=\"M 102.857143 139.717082 \r\nL 150.685714 139.717082 \r\nL 150.685714 140.6503 \r\nL 102.857143 140.6503 \r\nL 102.857143 139.717082 \r\n\" style=\"fill:#440154;\"/>\r\n    <path clip-path=\"url(#p74fc7bd7d8)\" d=\"M 150.685714 139.717082 \r\nL 198.514286 139.717082 \r\nL 198.514286 140.6503 \r\nL 150.685714 140.6503 \r\nL 150.685714 139.717082 \r\n\" style=\"fill:#440154;\"/>\r\n    <path clip-path=\"url(#p74fc7bd7d8)\" d=\"M 198.514286 139.717082 \r\nL 246.342857 139.717082 \r\nL 246.342857 140.6503 \r\nL 198.514286 140.6503 \r\nL 198.514286 139.717082 \r\n\" style=\"fill:#440154;\"/>\r\n    <path clip-path=\"url(#p74fc7bd7d8)\" d=\"M 246.342857 139.717082 \r\nL 294.171429 139.717082 \r\nL 294.171429 140.6503 \r\nL 246.342857 140.6503 \r\nL 246.342857 139.717082 \r\n\" style=\"fill:#440154;\"/>\r\n    <path clip-path=\"url(#p74fc7bd7d8)\" d=\"M 294.171429 139.717082 \r\nL 342 139.717082 \r\nL 342 140.6503 \r\nL 294.171429 140.6503 \r\nL 294.171429 139.717082 \r\n\" style=\"fill:#fde725;\"/>\r\n    <path clip-path=\"url(#p74fc7bd7d8)\" d=\"M 7.2 140.6503 \r\nL 55.028571 140.6503 \r\nL 55.028571 141.583519 \r\nL 7.2 141.583519 \r\nL 7.2 140.6503 \r\n\" style=\"fill:#440154;\"/>\r\n    <path clip-path=\"url(#p74fc7bd7d8)\" d=\"M 55.028571 140.6503 \r\nL 102.857143 140.6503 \r\nL 102.857143 141.583519 \r\nL 55.028571 141.583519 \r\nL 55.028571 140.6503 \r\n\" style=\"fill:#fde725;\"/>\r\n    <path clip-path=\"url(#p74fc7bd7d8)\" d=\"M 102.857143 140.6503 \r\nL 150.685714 140.6503 \r\nL 150.685714 141.583519 \r\nL 102.857143 141.583519 \r\nL 102.857143 140.6503 \r\n\" style=\"fill:#fde725;\"/>\r\n    <path clip-path=\"url(#p74fc7bd7d8)\" d=\"M 150.685714 140.6503 \r\nL 198.514286 140.6503 \r\nL 198.514286 141.583519 \r\nL 150.685714 141.583519 \r\nL 150.685714 140.6503 \r\n\" style=\"fill:#fde725;\"/>\r\n    <path clip-path=\"url(#p74fc7bd7d8)\" d=\"M 198.514286 140.6503 \r\nL 246.342857 140.6503 \r\nL 246.342857 141.583519 \r\nL 198.514286 141.583519 \r\nL 198.514286 140.6503 \r\n\" style=\"fill:#fde725;\"/>\r\n    <path clip-path=\"url(#p74fc7bd7d8)\" d=\"M 246.342857 140.6503 \r\nL 294.171429 140.6503 \r\nL 294.171429 141.583519 \r\nL 246.342857 141.583519 \r\nL 246.342857 140.6503 \r\n\" style=\"fill:#fde725;\"/>\r\n    <path clip-path=\"url(#p74fc7bd7d8)\" d=\"M 294.171429 140.6503 \r\nL 342 140.6503 \r\nL 342 141.583519 \r\nL 294.171429 141.583519 \r\nL 294.171429 140.6503 \r\n\" style=\"fill:#fde725;\"/>\r\n    <path clip-path=\"url(#p74fc7bd7d8)\" d=\"M 7.2 141.583519 \r\nL 55.028571 141.583519 \r\nL 55.028571 142.516738 \r\nL 7.2 142.516738 \r\nL 7.2 141.583519 \r\n\" style=\"fill:#440154;\"/>\r\n    <path clip-path=\"url(#p74fc7bd7d8)\" d=\"M 55.028571 141.583519 \r\nL 102.857143 141.583519 \r\nL 102.857143 142.516738 \r\nL 55.028571 142.516738 \r\nL 55.028571 141.583519 \r\n\" style=\"fill:#440154;\"/>\r\n    <path clip-path=\"url(#p74fc7bd7d8)\" d=\"M 102.857143 141.583519 \r\nL 150.685714 141.583519 \r\nL 150.685714 142.516738 \r\nL 102.857143 142.516738 \r\nL 102.857143 141.583519 \r\n\" style=\"fill:#440154;\"/>\r\n    <path clip-path=\"url(#p74fc7bd7d8)\" d=\"M 150.685714 141.583519 \r\nL 198.514286 141.583519 \r\nL 198.514286 142.516738 \r\nL 150.685714 142.516738 \r\nL 150.685714 141.583519 \r\n\" style=\"fill:#440154;\"/>\r\n    <path clip-path=\"url(#p74fc7bd7d8)\" d=\"M 198.514286 141.583519 \r\nL 246.342857 141.583519 \r\nL 246.342857 142.516738 \r\nL 198.514286 142.516738 \r\nL 198.514286 141.583519 \r\n\" style=\"fill:#440154;\"/>\r\n    <path clip-path=\"url(#p74fc7bd7d8)\" d=\"M 246.342857 141.583519 \r\nL 294.171429 141.583519 \r\nL 294.171429 142.516738 \r\nL 246.342857 142.516738 \r\nL 246.342857 141.583519 \r\n\" style=\"fill:#440154;\"/>\r\n    <path clip-path=\"url(#p74fc7bd7d8)\" d=\"M 294.171429 141.583519 \r\nL 342 141.583519 \r\nL 342 142.516738 \r\nL 294.171429 142.516738 \r\nL 294.171429 141.583519 \r\n\" style=\"fill:#440154;\"/>\r\n    <path clip-path=\"url(#p74fc7bd7d8)\" d=\"M 7.2 142.516738 \r\nL 55.028571 142.516738 \r\nL 55.028571 143.449957 \r\nL 7.2 143.449957 \r\nL 7.2 142.516738 \r\n\" style=\"fill:#440154;\"/>\r\n    <path clip-path=\"url(#p74fc7bd7d8)\" d=\"M 55.028571 142.516738 \r\nL 102.857143 142.516738 \r\nL 102.857143 143.449957 \r\nL 55.028571 143.449957 \r\nL 55.028571 142.516738 \r\n\" style=\"fill:#440154;\"/>\r\n    <path clip-path=\"url(#p74fc7bd7d8)\" d=\"M 102.857143 142.516738 \r\nL 150.685714 142.516738 \r\nL 150.685714 143.449957 \r\nL 102.857143 143.449957 \r\nL 102.857143 142.516738 \r\n\" style=\"fill:#440154;\"/>\r\n    <path clip-path=\"url(#p74fc7bd7d8)\" d=\"M 150.685714 142.516738 \r\nL 198.514286 142.516738 \r\nL 198.514286 143.449957 \r\nL 150.685714 143.449957 \r\nL 150.685714 142.516738 \r\n\" style=\"fill:#440154;\"/>\r\n    <path clip-path=\"url(#p74fc7bd7d8)\" d=\"M 198.514286 142.516738 \r\nL 246.342857 142.516738 \r\nL 246.342857 143.449957 \r\nL 198.514286 143.449957 \r\nL 198.514286 142.516738 \r\n\" style=\"fill:#fde725;\"/>\r\n    <path clip-path=\"url(#p74fc7bd7d8)\" d=\"M 246.342857 142.516738 \r\nL 294.171429 142.516738 \r\nL 294.171429 143.449957 \r\nL 246.342857 143.449957 \r\nL 246.342857 142.516738 \r\n\" style=\"fill:#440154;\"/>\r\n    <path clip-path=\"url(#p74fc7bd7d8)\" d=\"M 294.171429 142.516738 \r\nL 342 142.516738 \r\nL 342 143.449957 \r\nL 294.171429 143.449957 \r\nL 294.171429 142.516738 \r\n\" style=\"fill:#440154;\"/>\r\n    <path clip-path=\"url(#p74fc7bd7d8)\" d=\"M 7.2 143.449957 \r\nL 55.028571 143.449957 \r\nL 55.028571 144.383176 \r\nL 7.2 144.383176 \r\nL 7.2 143.449957 \r\n\" style=\"fill:#440154;\"/>\r\n    <path clip-path=\"url(#p74fc7bd7d8)\" d=\"M 55.028571 143.449957 \r\nL 102.857143 143.449957 \r\nL 102.857143 144.383176 \r\nL 55.028571 144.383176 \r\nL 55.028571 143.449957 \r\n\" style=\"fill:#440154;\"/>\r\n    <path clip-path=\"url(#p74fc7bd7d8)\" d=\"M 102.857143 143.449957 \r\nL 150.685714 143.449957 \r\nL 150.685714 144.383176 \r\nL 102.857143 144.383176 \r\nL 102.857143 143.449957 \r\n\" style=\"fill:#440154;\"/>\r\n    <path clip-path=\"url(#p74fc7bd7d8)\" d=\"M 150.685714 143.449957 \r\nL 198.514286 143.449957 \r\nL 198.514286 144.383176 \r\nL 150.685714 144.383176 \r\nL 150.685714 143.449957 \r\n\" style=\"fill:#440154;\"/>\r\n    <path clip-path=\"url(#p74fc7bd7d8)\" d=\"M 198.514286 143.449957 \r\nL 246.342857 143.449957 \r\nL 246.342857 144.383176 \r\nL 198.514286 144.383176 \r\nL 198.514286 143.449957 \r\n\" style=\"fill:#440154;\"/>\r\n    <path clip-path=\"url(#p74fc7bd7d8)\" d=\"M 246.342857 143.449957 \r\nL 294.171429 143.449957 \r\nL 294.171429 144.383176 \r\nL 246.342857 144.383176 \r\nL 246.342857 143.449957 \r\n\" style=\"fill:#440154;\"/>\r\n    <path clip-path=\"url(#p74fc7bd7d8)\" d=\"M 294.171429 143.449957 \r\nL 342 143.449957 \r\nL 342 144.383176 \r\nL 294.171429 144.383176 \r\nL 294.171429 143.449957 \r\n\" style=\"fill:#fde725;\"/>\r\n    <path clip-path=\"url(#p74fc7bd7d8)\" d=\"M 7.2 144.383176 \r\nL 55.028571 144.383176 \r\nL 55.028571 145.316395 \r\nL 7.2 145.316395 \r\nL 7.2 144.383176 \r\n\" style=\"fill:#440154;\"/>\r\n    <path clip-path=\"url(#p74fc7bd7d8)\" d=\"M 55.028571 144.383176 \r\nL 102.857143 144.383176 \r\nL 102.857143 145.316395 \r\nL 55.028571 145.316395 \r\nL 55.028571 144.383176 \r\n\" style=\"fill:#440154;\"/>\r\n    <path clip-path=\"url(#p74fc7bd7d8)\" d=\"M 102.857143 144.383176 \r\nL 150.685714 144.383176 \r\nL 150.685714 145.316395 \r\nL 102.857143 145.316395 \r\nL 102.857143 144.383176 \r\n\" style=\"fill:#440154;\"/>\r\n    <path clip-path=\"url(#p74fc7bd7d8)\" d=\"M 150.685714 144.383176 \r\nL 198.514286 144.383176 \r\nL 198.514286 145.316395 \r\nL 150.685714 145.316395 \r\nL 150.685714 144.383176 \r\n\" style=\"fill:#440154;\"/>\r\n    <path clip-path=\"url(#p74fc7bd7d8)\" d=\"M 198.514286 144.383176 \r\nL 246.342857 144.383176 \r\nL 246.342857 145.316395 \r\nL 198.514286 145.316395 \r\nL 198.514286 144.383176 \r\n\" style=\"fill:#440154;\"/>\r\n    <path clip-path=\"url(#p74fc7bd7d8)\" d=\"M 246.342857 144.383176 \r\nL 294.171429 144.383176 \r\nL 294.171429 145.316395 \r\nL 246.342857 145.316395 \r\nL 246.342857 144.383176 \r\n\" style=\"fill:#440154;\"/>\r\n    <path clip-path=\"url(#p74fc7bd7d8)\" d=\"M 294.171429 144.383176 \r\nL 342 144.383176 \r\nL 342 145.316395 \r\nL 294.171429 145.316395 \r\nL 294.171429 144.383176 \r\n\" style=\"fill:#440154;\"/>\r\n    <path clip-path=\"url(#p74fc7bd7d8)\" d=\"M 7.2 145.316395 \r\nL 55.028571 145.316395 \r\nL 55.028571 146.249614 \r\nL 7.2 146.249614 \r\nL 7.2 145.316395 \r\n\" style=\"fill:#440154;\"/>\r\n    <path clip-path=\"url(#p74fc7bd7d8)\" d=\"M 55.028571 145.316395 \r\nL 102.857143 145.316395 \r\nL 102.857143 146.249614 \r\nL 55.028571 146.249614 \r\nL 55.028571 145.316395 \r\n\" style=\"fill:#440154;\"/>\r\n    <path clip-path=\"url(#p74fc7bd7d8)\" d=\"M 102.857143 145.316395 \r\nL 150.685714 145.316395 \r\nL 150.685714 146.249614 \r\nL 102.857143 146.249614 \r\nL 102.857143 145.316395 \r\n\" style=\"fill:#440154;\"/>\r\n    <path clip-path=\"url(#p74fc7bd7d8)\" d=\"M 150.685714 145.316395 \r\nL 198.514286 145.316395 \r\nL 198.514286 146.249614 \r\nL 150.685714 146.249614 \r\nL 150.685714 145.316395 \r\n\" style=\"fill:#440154;\"/>\r\n    <path clip-path=\"url(#p74fc7bd7d8)\" d=\"M 198.514286 145.316395 \r\nL 246.342857 145.316395 \r\nL 246.342857 146.249614 \r\nL 198.514286 146.249614 \r\nL 198.514286 145.316395 \r\n\" style=\"fill:#440154;\"/>\r\n    <path clip-path=\"url(#p74fc7bd7d8)\" d=\"M 246.342857 145.316395 \r\nL 294.171429 145.316395 \r\nL 294.171429 146.249614 \r\nL 246.342857 146.249614 \r\nL 246.342857 145.316395 \r\n\" style=\"fill:#440154;\"/>\r\n    <path clip-path=\"url(#p74fc7bd7d8)\" d=\"M 294.171429 145.316395 \r\nL 342 145.316395 \r\nL 342 146.249614 \r\nL 294.171429 146.249614 \r\nL 294.171429 145.316395 \r\n\" style=\"fill:#440154;\"/>\r\n    <path clip-path=\"url(#p74fc7bd7d8)\" d=\"M 7.2 146.249614 \r\nL 55.028571 146.249614 \r\nL 55.028571 147.182833 \r\nL 7.2 147.182833 \r\nL 7.2 146.249614 \r\n\" style=\"fill:#440154;\"/>\r\n    <path clip-path=\"url(#p74fc7bd7d8)\" d=\"M 55.028571 146.249614 \r\nL 102.857143 146.249614 \r\nL 102.857143 147.182833 \r\nL 55.028571 147.182833 \r\nL 55.028571 146.249614 \r\n\" style=\"fill:#fde725;\"/>\r\n    <path clip-path=\"url(#p74fc7bd7d8)\" d=\"M 102.857143 146.249614 \r\nL 150.685714 146.249614 \r\nL 150.685714 147.182833 \r\nL 102.857143 147.182833 \r\nL 102.857143 146.249614 \r\n\" style=\"fill:#fde725;\"/>\r\n    <path clip-path=\"url(#p74fc7bd7d8)\" d=\"M 150.685714 146.249614 \r\nL 198.514286 146.249614 \r\nL 198.514286 147.182833 \r\nL 150.685714 147.182833 \r\nL 150.685714 146.249614 \r\n\" style=\"fill:#fde725;\"/>\r\n    <path clip-path=\"url(#p74fc7bd7d8)\" d=\"M 198.514286 146.249614 \r\nL 246.342857 146.249614 \r\nL 246.342857 147.182833 \r\nL 198.514286 147.182833 \r\nL 198.514286 146.249614 \r\n\" style=\"fill:#fde725;\"/>\r\n    <path clip-path=\"url(#p74fc7bd7d8)\" d=\"M 246.342857 146.249614 \r\nL 294.171429 146.249614 \r\nL 294.171429 147.182833 \r\nL 246.342857 147.182833 \r\nL 246.342857 146.249614 \r\n\" style=\"fill:#fde725;\"/>\r\n    <path clip-path=\"url(#p74fc7bd7d8)\" d=\"M 294.171429 146.249614 \r\nL 342 146.249614 \r\nL 342 147.182833 \r\nL 294.171429 147.182833 \r\nL 294.171429 146.249614 \r\n\" style=\"fill:#fde725;\"/>\r\n    <path clip-path=\"url(#p74fc7bd7d8)\" d=\"M 7.2 147.182833 \r\nL 55.028571 147.182833 \r\nL 55.028571 148.116052 \r\nL 7.2 148.116052 \r\nL 7.2 147.182833 \r\n\" style=\"fill:#440154;\"/>\r\n    <path clip-path=\"url(#p74fc7bd7d8)\" d=\"M 55.028571 147.182833 \r\nL 102.857143 147.182833 \r\nL 102.857143 148.116052 \r\nL 55.028571 148.116052 \r\nL 55.028571 147.182833 \r\n\" style=\"fill:#440154;\"/>\r\n    <path clip-path=\"url(#p74fc7bd7d8)\" d=\"M 102.857143 147.182833 \r\nL 150.685714 147.182833 \r\nL 150.685714 148.116052 \r\nL 102.857143 148.116052 \r\nL 102.857143 147.182833 \r\n\" style=\"fill:#440154;\"/>\r\n    <path clip-path=\"url(#p74fc7bd7d8)\" d=\"M 150.685714 147.182833 \r\nL 198.514286 147.182833 \r\nL 198.514286 148.116052 \r\nL 150.685714 148.116052 \r\nL 150.685714 147.182833 \r\n\" style=\"fill:#440154;\"/>\r\n    <path clip-path=\"url(#p74fc7bd7d8)\" d=\"M 198.514286 147.182833 \r\nL 246.342857 147.182833 \r\nL 246.342857 148.116052 \r\nL 198.514286 148.116052 \r\nL 198.514286 147.182833 \r\n\" style=\"fill:#440154;\"/>\r\n    <path clip-path=\"url(#p74fc7bd7d8)\" d=\"M 246.342857 147.182833 \r\nL 294.171429 147.182833 \r\nL 294.171429 148.116052 \r\nL 246.342857 148.116052 \r\nL 246.342857 147.182833 \r\n\" style=\"fill:#440154;\"/>\r\n    <path clip-path=\"url(#p74fc7bd7d8)\" d=\"M 294.171429 147.182833 \r\nL 342 147.182833 \r\nL 342 148.116052 \r\nL 294.171429 148.116052 \r\nL 294.171429 147.182833 \r\n\" style=\"fill:#fde725;\"/>\r\n    <path clip-path=\"url(#p74fc7bd7d8)\" d=\"M 7.2 148.116052 \r\nL 55.028571 148.116052 \r\nL 55.028571 149.04927 \r\nL 7.2 149.04927 \r\nL 7.2 148.116052 \r\n\" style=\"fill:#440154;\"/>\r\n    <path clip-path=\"url(#p74fc7bd7d8)\" d=\"M 55.028571 148.116052 \r\nL 102.857143 148.116052 \r\nL 102.857143 149.04927 \r\nL 55.028571 149.04927 \r\nL 55.028571 148.116052 \r\n\" style=\"fill:#440154;\"/>\r\n    <path clip-path=\"url(#p74fc7bd7d8)\" d=\"M 102.857143 148.116052 \r\nL 150.685714 148.116052 \r\nL 150.685714 149.04927 \r\nL 102.857143 149.04927 \r\nL 102.857143 148.116052 \r\n\" style=\"fill:#440154;\"/>\r\n    <path clip-path=\"url(#p74fc7bd7d8)\" d=\"M 150.685714 148.116052 \r\nL 198.514286 148.116052 \r\nL 198.514286 149.04927 \r\nL 150.685714 149.04927 \r\nL 150.685714 148.116052 \r\n\" style=\"fill:#440154;\"/>\r\n    <path clip-path=\"url(#p74fc7bd7d8)\" d=\"M 198.514286 148.116052 \r\nL 246.342857 148.116052 \r\nL 246.342857 149.04927 \r\nL 198.514286 149.04927 \r\nL 198.514286 148.116052 \r\n\" style=\"fill:#440154;\"/>\r\n    <path clip-path=\"url(#p74fc7bd7d8)\" d=\"M 246.342857 148.116052 \r\nL 294.171429 148.116052 \r\nL 294.171429 149.04927 \r\nL 246.342857 149.04927 \r\nL 246.342857 148.116052 \r\n\" style=\"fill:#440154;\"/>\r\n    <path clip-path=\"url(#p74fc7bd7d8)\" d=\"M 294.171429 148.116052 \r\nL 342 148.116052 \r\nL 342 149.04927 \r\nL 294.171429 149.04927 \r\nL 294.171429 148.116052 \r\n\" style=\"fill:#440154;\"/>\r\n    <path clip-path=\"url(#p74fc7bd7d8)\" d=\"M 7.2 149.04927 \r\nL 55.028571 149.04927 \r\nL 55.028571 149.982489 \r\nL 7.2 149.982489 \r\nL 7.2 149.04927 \r\n\" style=\"fill:#440154;\"/>\r\n    <path clip-path=\"url(#p74fc7bd7d8)\" d=\"M 55.028571 149.04927 \r\nL 102.857143 149.04927 \r\nL 102.857143 149.982489 \r\nL 55.028571 149.982489 \r\nL 55.028571 149.04927 \r\n\" style=\"fill:#440154;\"/>\r\n    <path clip-path=\"url(#p74fc7bd7d8)\" d=\"M 102.857143 149.04927 \r\nL 150.685714 149.04927 \r\nL 150.685714 149.982489 \r\nL 102.857143 149.982489 \r\nL 102.857143 149.04927 \r\n\" style=\"fill:#440154;\"/>\r\n    <path clip-path=\"url(#p74fc7bd7d8)\" d=\"M 150.685714 149.04927 \r\nL 198.514286 149.04927 \r\nL 198.514286 149.982489 \r\nL 150.685714 149.982489 \r\nL 150.685714 149.04927 \r\n\" style=\"fill:#440154;\"/>\r\n    <path clip-path=\"url(#p74fc7bd7d8)\" d=\"M 198.514286 149.04927 \r\nL 246.342857 149.04927 \r\nL 246.342857 149.982489 \r\nL 198.514286 149.982489 \r\nL 198.514286 149.04927 \r\n\" style=\"fill:#440154;\"/>\r\n    <path clip-path=\"url(#p74fc7bd7d8)\" d=\"M 246.342857 149.04927 \r\nL 294.171429 149.04927 \r\nL 294.171429 149.982489 \r\nL 246.342857 149.982489 \r\nL 246.342857 149.04927 \r\n\" style=\"fill:#440154;\"/>\r\n    <path clip-path=\"url(#p74fc7bd7d8)\" d=\"M 294.171429 149.04927 \r\nL 342 149.04927 \r\nL 342 149.982489 \r\nL 294.171429 149.982489 \r\nL 294.171429 149.04927 \r\n\" style=\"fill:#440154;\"/>\r\n    <path clip-path=\"url(#p74fc7bd7d8)\" d=\"M 7.2 149.982489 \r\nL 55.028571 149.982489 \r\nL 55.028571 150.915708 \r\nL 7.2 150.915708 \r\nL 7.2 149.982489 \r\n\" style=\"fill:#440154;\"/>\r\n    <path clip-path=\"url(#p74fc7bd7d8)\" d=\"M 55.028571 149.982489 \r\nL 102.857143 149.982489 \r\nL 102.857143 150.915708 \r\nL 55.028571 150.915708 \r\nL 55.028571 149.982489 \r\n\" style=\"fill:#fde725;\"/>\r\n    <path clip-path=\"url(#p74fc7bd7d8)\" d=\"M 102.857143 149.982489 \r\nL 150.685714 149.982489 \r\nL 150.685714 150.915708 \r\nL 102.857143 150.915708 \r\nL 102.857143 149.982489 \r\n\" style=\"fill:#fde725;\"/>\r\n    <path clip-path=\"url(#p74fc7bd7d8)\" d=\"M 150.685714 149.982489 \r\nL 198.514286 149.982489 \r\nL 198.514286 150.915708 \r\nL 150.685714 150.915708 \r\nL 150.685714 149.982489 \r\n\" style=\"fill:#fde725;\"/>\r\n    <path clip-path=\"url(#p74fc7bd7d8)\" d=\"M 198.514286 149.982489 \r\nL 246.342857 149.982489 \r\nL 246.342857 150.915708 \r\nL 198.514286 150.915708 \r\nL 198.514286 149.982489 \r\n\" style=\"fill:#fde725;\"/>\r\n    <path clip-path=\"url(#p74fc7bd7d8)\" d=\"M 246.342857 149.982489 \r\nL 294.171429 149.982489 \r\nL 294.171429 150.915708 \r\nL 246.342857 150.915708 \r\nL 246.342857 149.982489 \r\n\" style=\"fill:#fde725;\"/>\r\n    <path clip-path=\"url(#p74fc7bd7d8)\" d=\"M 294.171429 149.982489 \r\nL 342 149.982489 \r\nL 342 150.915708 \r\nL 294.171429 150.915708 \r\nL 294.171429 149.982489 \r\n\" style=\"fill:#fde725;\"/>\r\n    <path clip-path=\"url(#p74fc7bd7d8)\" d=\"M 7.2 150.915708 \r\nL 55.028571 150.915708 \r\nL 55.028571 151.848927 \r\nL 7.2 151.848927 \r\nL 7.2 150.915708 \r\n\" style=\"fill:#440154;\"/>\r\n    <path clip-path=\"url(#p74fc7bd7d8)\" d=\"M 55.028571 150.915708 \r\nL 102.857143 150.915708 \r\nL 102.857143 151.848927 \r\nL 55.028571 151.848927 \r\nL 55.028571 150.915708 \r\n\" style=\"fill:#440154;\"/>\r\n    <path clip-path=\"url(#p74fc7bd7d8)\" d=\"M 102.857143 150.915708 \r\nL 150.685714 150.915708 \r\nL 150.685714 151.848927 \r\nL 102.857143 151.848927 \r\nL 102.857143 150.915708 \r\n\" style=\"fill:#440154;\"/>\r\n    <path clip-path=\"url(#p74fc7bd7d8)\" d=\"M 150.685714 150.915708 \r\nL 198.514286 150.915708 \r\nL 198.514286 151.848927 \r\nL 150.685714 151.848927 \r\nL 150.685714 150.915708 \r\n\" style=\"fill:#440154;\"/>\r\n    <path clip-path=\"url(#p74fc7bd7d8)\" d=\"M 198.514286 150.915708 \r\nL 246.342857 150.915708 \r\nL 246.342857 151.848927 \r\nL 198.514286 151.848927 \r\nL 198.514286 150.915708 \r\n\" style=\"fill:#440154;\"/>\r\n    <path clip-path=\"url(#p74fc7bd7d8)\" d=\"M 246.342857 150.915708 \r\nL 294.171429 150.915708 \r\nL 294.171429 151.848927 \r\nL 246.342857 151.848927 \r\nL 246.342857 150.915708 \r\n\" style=\"fill:#440154;\"/>\r\n    <path clip-path=\"url(#p74fc7bd7d8)\" d=\"M 294.171429 150.915708 \r\nL 342 150.915708 \r\nL 342 151.848927 \r\nL 294.171429 151.848927 \r\nL 294.171429 150.915708 \r\n\" style=\"fill:#440154;\"/>\r\n    <path clip-path=\"url(#p74fc7bd7d8)\" d=\"M 7.2 151.848927 \r\nL 55.028571 151.848927 \r\nL 55.028571 152.782146 \r\nL 7.2 152.782146 \r\nL 7.2 151.848927 \r\n\" style=\"fill:#440154;\"/>\r\n    <path clip-path=\"url(#p74fc7bd7d8)\" d=\"M 55.028571 151.848927 \r\nL 102.857143 151.848927 \r\nL 102.857143 152.782146 \r\nL 55.028571 152.782146 \r\nL 55.028571 151.848927 \r\n\" style=\"fill:#fde725;\"/>\r\n    <path clip-path=\"url(#p74fc7bd7d8)\" d=\"M 102.857143 151.848927 \r\nL 150.685714 151.848927 \r\nL 150.685714 152.782146 \r\nL 102.857143 152.782146 \r\nL 102.857143 151.848927 \r\n\" style=\"fill:#fde725;\"/>\r\n    <path clip-path=\"url(#p74fc7bd7d8)\" d=\"M 150.685714 151.848927 \r\nL 198.514286 151.848927 \r\nL 198.514286 152.782146 \r\nL 150.685714 152.782146 \r\nL 150.685714 151.848927 \r\n\" style=\"fill:#fde725;\"/>\r\n    <path clip-path=\"url(#p74fc7bd7d8)\" d=\"M 198.514286 151.848927 \r\nL 246.342857 151.848927 \r\nL 246.342857 152.782146 \r\nL 198.514286 152.782146 \r\nL 198.514286 151.848927 \r\n\" style=\"fill:#fde725;\"/>\r\n    <path clip-path=\"url(#p74fc7bd7d8)\" d=\"M 246.342857 151.848927 \r\nL 294.171429 151.848927 \r\nL 294.171429 152.782146 \r\nL 246.342857 152.782146 \r\nL 246.342857 151.848927 \r\n\" style=\"fill:#fde725;\"/>\r\n    <path clip-path=\"url(#p74fc7bd7d8)\" d=\"M 294.171429 151.848927 \r\nL 342 151.848927 \r\nL 342 152.782146 \r\nL 294.171429 152.782146 \r\nL 294.171429 151.848927 \r\n\" style=\"fill:#fde725;\"/>\r\n    <path clip-path=\"url(#p74fc7bd7d8)\" d=\"M 7.2 152.782146 \r\nL 55.028571 152.782146 \r\nL 55.028571 153.715365 \r\nL 7.2 153.715365 \r\nL 7.2 152.782146 \r\n\" style=\"fill:#440154;\"/>\r\n    <path clip-path=\"url(#p74fc7bd7d8)\" d=\"M 55.028571 152.782146 \r\nL 102.857143 152.782146 \r\nL 102.857143 153.715365 \r\nL 55.028571 153.715365 \r\nL 55.028571 152.782146 \r\n\" style=\"fill:#fde725;\"/>\r\n    <path clip-path=\"url(#p74fc7bd7d8)\" d=\"M 102.857143 152.782146 \r\nL 150.685714 152.782146 \r\nL 150.685714 153.715365 \r\nL 102.857143 153.715365 \r\nL 102.857143 152.782146 \r\n\" style=\"fill:#fde725;\"/>\r\n    <path clip-path=\"url(#p74fc7bd7d8)\" d=\"M 150.685714 152.782146 \r\nL 198.514286 152.782146 \r\nL 198.514286 153.715365 \r\nL 150.685714 153.715365 \r\nL 150.685714 152.782146 \r\n\" style=\"fill:#fde725;\"/>\r\n    <path clip-path=\"url(#p74fc7bd7d8)\" d=\"M 198.514286 152.782146 \r\nL 246.342857 152.782146 \r\nL 246.342857 153.715365 \r\nL 198.514286 153.715365 \r\nL 198.514286 152.782146 \r\n\" style=\"fill:#fde725;\"/>\r\n    <path clip-path=\"url(#p74fc7bd7d8)\" d=\"M 246.342857 152.782146 \r\nL 294.171429 152.782146 \r\nL 294.171429 153.715365 \r\nL 246.342857 153.715365 \r\nL 246.342857 152.782146 \r\n\" style=\"fill:#fde725;\"/>\r\n    <path clip-path=\"url(#p74fc7bd7d8)\" d=\"M 294.171429 152.782146 \r\nL 342 152.782146 \r\nL 342 153.715365 \r\nL 294.171429 153.715365 \r\nL 294.171429 152.782146 \r\n\" style=\"fill:#fde725;\"/>\r\n    <path clip-path=\"url(#p74fc7bd7d8)\" d=\"M 7.2 153.715365 \r\nL 55.028571 153.715365 \r\nL 55.028571 154.648584 \r\nL 7.2 154.648584 \r\nL 7.2 153.715365 \r\n\" style=\"fill:#440154;\"/>\r\n    <path clip-path=\"url(#p74fc7bd7d8)\" d=\"M 55.028571 153.715365 \r\nL 102.857143 153.715365 \r\nL 102.857143 154.648584 \r\nL 55.028571 154.648584 \r\nL 55.028571 153.715365 \r\n\" style=\"fill:#440154;\"/>\r\n    <path clip-path=\"url(#p74fc7bd7d8)\" d=\"M 102.857143 153.715365 \r\nL 150.685714 153.715365 \r\nL 150.685714 154.648584 \r\nL 102.857143 154.648584 \r\nL 102.857143 153.715365 \r\n\" style=\"fill:#440154;\"/>\r\n    <path clip-path=\"url(#p74fc7bd7d8)\" d=\"M 150.685714 153.715365 \r\nL 198.514286 153.715365 \r\nL 198.514286 154.648584 \r\nL 150.685714 154.648584 \r\nL 150.685714 153.715365 \r\n\" style=\"fill:#440154;\"/>\r\n    <path clip-path=\"url(#p74fc7bd7d8)\" d=\"M 198.514286 153.715365 \r\nL 246.342857 153.715365 \r\nL 246.342857 154.648584 \r\nL 198.514286 154.648584 \r\nL 198.514286 153.715365 \r\n\" style=\"fill:#440154;\"/>\r\n    <path clip-path=\"url(#p74fc7bd7d8)\" d=\"M 246.342857 153.715365 \r\nL 294.171429 153.715365 \r\nL 294.171429 154.648584 \r\nL 246.342857 154.648584 \r\nL 246.342857 153.715365 \r\n\" style=\"fill:#440154;\"/>\r\n    <path clip-path=\"url(#p74fc7bd7d8)\" d=\"M 294.171429 153.715365 \r\nL 342 153.715365 \r\nL 342 154.648584 \r\nL 294.171429 154.648584 \r\nL 294.171429 153.715365 \r\n\" style=\"fill:#fde725;\"/>\r\n    <path clip-path=\"url(#p74fc7bd7d8)\" d=\"M 7.2 154.648584 \r\nL 55.028571 154.648584 \r\nL 55.028571 155.581803 \r\nL 7.2 155.581803 \r\nL 7.2 154.648584 \r\n\" style=\"fill:#440154;\"/>\r\n    <path clip-path=\"url(#p74fc7bd7d8)\" d=\"M 55.028571 154.648584 \r\nL 102.857143 154.648584 \r\nL 102.857143 155.581803 \r\nL 55.028571 155.581803 \r\nL 55.028571 154.648584 \r\n\" style=\"fill:#440154;\"/>\r\n    <path clip-path=\"url(#p74fc7bd7d8)\" d=\"M 102.857143 154.648584 \r\nL 150.685714 154.648584 \r\nL 150.685714 155.581803 \r\nL 102.857143 155.581803 \r\nL 102.857143 154.648584 \r\n\" style=\"fill:#440154;\"/>\r\n    <path clip-path=\"url(#p74fc7bd7d8)\" d=\"M 150.685714 154.648584 \r\nL 198.514286 154.648584 \r\nL 198.514286 155.581803 \r\nL 150.685714 155.581803 \r\nL 150.685714 154.648584 \r\n\" style=\"fill:#440154;\"/>\r\n    <path clip-path=\"url(#p74fc7bd7d8)\" d=\"M 198.514286 154.648584 \r\nL 246.342857 154.648584 \r\nL 246.342857 155.581803 \r\nL 198.514286 155.581803 \r\nL 198.514286 154.648584 \r\n\" style=\"fill:#fde725;\"/>\r\n    <path clip-path=\"url(#p74fc7bd7d8)\" d=\"M 246.342857 154.648584 \r\nL 294.171429 154.648584 \r\nL 294.171429 155.581803 \r\nL 246.342857 155.581803 \r\nL 246.342857 154.648584 \r\n\" style=\"fill:#440154;\"/>\r\n    <path clip-path=\"url(#p74fc7bd7d8)\" d=\"M 294.171429 154.648584 \r\nL 342 154.648584 \r\nL 342 155.581803 \r\nL 294.171429 155.581803 \r\nL 294.171429 154.648584 \r\n\" style=\"fill:#440154;\"/>\r\n    <path clip-path=\"url(#p74fc7bd7d8)\" d=\"M 7.2 155.581803 \r\nL 55.028571 155.581803 \r\nL 55.028571 156.515021 \r\nL 7.2 156.515021 \r\nL 7.2 155.581803 \r\n\" style=\"fill:#440154;\"/>\r\n    <path clip-path=\"url(#p74fc7bd7d8)\" d=\"M 55.028571 155.581803 \r\nL 102.857143 155.581803 \r\nL 102.857143 156.515021 \r\nL 55.028571 156.515021 \r\nL 55.028571 155.581803 \r\n\" style=\"fill:#fde725;\"/>\r\n    <path clip-path=\"url(#p74fc7bd7d8)\" d=\"M 102.857143 155.581803 \r\nL 150.685714 155.581803 \r\nL 150.685714 156.515021 \r\nL 102.857143 156.515021 \r\nL 102.857143 155.581803 \r\n\" style=\"fill:#fde725;\"/>\r\n    <path clip-path=\"url(#p74fc7bd7d8)\" d=\"M 150.685714 155.581803 \r\nL 198.514286 155.581803 \r\nL 198.514286 156.515021 \r\nL 150.685714 156.515021 \r\nL 150.685714 155.581803 \r\n\" style=\"fill:#fde725;\"/>\r\n    <path clip-path=\"url(#p74fc7bd7d8)\" d=\"M 198.514286 155.581803 \r\nL 246.342857 155.581803 \r\nL 246.342857 156.515021 \r\nL 198.514286 156.515021 \r\nL 198.514286 155.581803 \r\n\" style=\"fill:#fde725;\"/>\r\n    <path clip-path=\"url(#p74fc7bd7d8)\" d=\"M 246.342857 155.581803 \r\nL 294.171429 155.581803 \r\nL 294.171429 156.515021 \r\nL 246.342857 156.515021 \r\nL 246.342857 155.581803 \r\n\" style=\"fill:#fde725;\"/>\r\n    <path clip-path=\"url(#p74fc7bd7d8)\" d=\"M 294.171429 155.581803 \r\nL 342 155.581803 \r\nL 342 156.515021 \r\nL 294.171429 156.515021 \r\nL 294.171429 155.581803 \r\n\" style=\"fill:#fde725;\"/>\r\n    <path clip-path=\"url(#p74fc7bd7d8)\" d=\"M 7.2 156.515021 \r\nL 55.028571 156.515021 \r\nL 55.028571 157.44824 \r\nL 7.2 157.44824 \r\nL 7.2 156.515021 \r\n\" style=\"fill:#440154;\"/>\r\n    <path clip-path=\"url(#p74fc7bd7d8)\" d=\"M 55.028571 156.515021 \r\nL 102.857143 156.515021 \r\nL 102.857143 157.44824 \r\nL 55.028571 157.44824 \r\nL 55.028571 156.515021 \r\n\" style=\"fill:#440154;\"/>\r\n    <path clip-path=\"url(#p74fc7bd7d8)\" d=\"M 102.857143 156.515021 \r\nL 150.685714 156.515021 \r\nL 150.685714 157.44824 \r\nL 102.857143 157.44824 \r\nL 102.857143 156.515021 \r\n\" style=\"fill:#440154;\"/>\r\n    <path clip-path=\"url(#p74fc7bd7d8)\" d=\"M 150.685714 156.515021 \r\nL 198.514286 156.515021 \r\nL 198.514286 157.44824 \r\nL 150.685714 157.44824 \r\nL 150.685714 156.515021 \r\n\" style=\"fill:#440154;\"/>\r\n    <path clip-path=\"url(#p74fc7bd7d8)\" d=\"M 198.514286 156.515021 \r\nL 246.342857 156.515021 \r\nL 246.342857 157.44824 \r\nL 198.514286 157.44824 \r\nL 198.514286 156.515021 \r\n\" style=\"fill:#fde725;\"/>\r\n    <path clip-path=\"url(#p74fc7bd7d8)\" d=\"M 246.342857 156.515021 \r\nL 294.171429 156.515021 \r\nL 294.171429 157.44824 \r\nL 246.342857 157.44824 \r\nL 246.342857 156.515021 \r\n\" style=\"fill:#fde725;\"/>\r\n    <path clip-path=\"url(#p74fc7bd7d8)\" d=\"M 294.171429 156.515021 \r\nL 342 156.515021 \r\nL 342 157.44824 \r\nL 294.171429 157.44824 \r\nL 294.171429 156.515021 \r\n\" style=\"fill:#440154;\"/>\r\n    <path clip-path=\"url(#p74fc7bd7d8)\" d=\"M 7.2 157.44824 \r\nL 55.028571 157.44824 \r\nL 55.028571 158.381459 \r\nL 7.2 158.381459 \r\nL 7.2 157.44824 \r\n\" style=\"fill:#440154;\"/>\r\n    <path clip-path=\"url(#p74fc7bd7d8)\" d=\"M 55.028571 157.44824 \r\nL 102.857143 157.44824 \r\nL 102.857143 158.381459 \r\nL 55.028571 158.381459 \r\nL 55.028571 157.44824 \r\n\" style=\"fill:#440154;\"/>\r\n    <path clip-path=\"url(#p74fc7bd7d8)\" d=\"M 102.857143 157.44824 \r\nL 150.685714 157.44824 \r\nL 150.685714 158.381459 \r\nL 102.857143 158.381459 \r\nL 102.857143 157.44824 \r\n\" style=\"fill:#440154;\"/>\r\n    <path clip-path=\"url(#p74fc7bd7d8)\" d=\"M 150.685714 157.44824 \r\nL 198.514286 157.44824 \r\nL 198.514286 158.381459 \r\nL 150.685714 158.381459 \r\nL 150.685714 157.44824 \r\n\" style=\"fill:#440154;\"/>\r\n    <path clip-path=\"url(#p74fc7bd7d8)\" d=\"M 198.514286 157.44824 \r\nL 246.342857 157.44824 \r\nL 246.342857 158.381459 \r\nL 198.514286 158.381459 \r\nL 198.514286 157.44824 \r\n\" style=\"fill:#440154;\"/>\r\n    <path clip-path=\"url(#p74fc7bd7d8)\" d=\"M 246.342857 157.44824 \r\nL 294.171429 157.44824 \r\nL 294.171429 158.381459 \r\nL 246.342857 158.381459 \r\nL 246.342857 157.44824 \r\n\" style=\"fill:#440154;\"/>\r\n    <path clip-path=\"url(#p74fc7bd7d8)\" d=\"M 294.171429 157.44824 \r\nL 342 157.44824 \r\nL 342 158.381459 \r\nL 294.171429 158.381459 \r\nL 294.171429 157.44824 \r\n\" style=\"fill:#fde725;\"/>\r\n    <path clip-path=\"url(#p74fc7bd7d8)\" d=\"M 7.2 158.381459 \r\nL 55.028571 158.381459 \r\nL 55.028571 159.314678 \r\nL 7.2 159.314678 \r\nL 7.2 158.381459 \r\n\" style=\"fill:#440154;\"/>\r\n    <path clip-path=\"url(#p74fc7bd7d8)\" d=\"M 55.028571 158.381459 \r\nL 102.857143 158.381459 \r\nL 102.857143 159.314678 \r\nL 55.028571 159.314678 \r\nL 55.028571 158.381459 \r\n\" style=\"fill:#fde725;\"/>\r\n    <path clip-path=\"url(#p74fc7bd7d8)\" d=\"M 102.857143 158.381459 \r\nL 150.685714 158.381459 \r\nL 150.685714 159.314678 \r\nL 102.857143 159.314678 \r\nL 102.857143 158.381459 \r\n\" style=\"fill:#fde725;\"/>\r\n    <path clip-path=\"url(#p74fc7bd7d8)\" d=\"M 150.685714 158.381459 \r\nL 198.514286 158.381459 \r\nL 198.514286 159.314678 \r\nL 150.685714 159.314678 \r\nL 150.685714 158.381459 \r\n\" style=\"fill:#fde725;\"/>\r\n    <path clip-path=\"url(#p74fc7bd7d8)\" d=\"M 198.514286 158.381459 \r\nL 246.342857 158.381459 \r\nL 246.342857 159.314678 \r\nL 198.514286 159.314678 \r\nL 198.514286 158.381459 \r\n\" style=\"fill:#fde725;\"/>\r\n    <path clip-path=\"url(#p74fc7bd7d8)\" d=\"M 246.342857 158.381459 \r\nL 294.171429 158.381459 \r\nL 294.171429 159.314678 \r\nL 246.342857 159.314678 \r\nL 246.342857 158.381459 \r\n\" style=\"fill:#fde725;\"/>\r\n    <path clip-path=\"url(#p74fc7bd7d8)\" d=\"M 294.171429 158.381459 \r\nL 342 158.381459 \r\nL 342 159.314678 \r\nL 294.171429 159.314678 \r\nL 294.171429 158.381459 \r\n\" style=\"fill:#fde725;\"/>\r\n    <path clip-path=\"url(#p74fc7bd7d8)\" d=\"M 7.2 159.314678 \r\nL 55.028571 159.314678 \r\nL 55.028571 160.247897 \r\nL 7.2 160.247897 \r\nL 7.2 159.314678 \r\n\" style=\"fill:#440154;\"/>\r\n    <path clip-path=\"url(#p74fc7bd7d8)\" d=\"M 55.028571 159.314678 \r\nL 102.857143 159.314678 \r\nL 102.857143 160.247897 \r\nL 55.028571 160.247897 \r\nL 55.028571 159.314678 \r\n\" style=\"fill:#440154;\"/>\r\n    <path clip-path=\"url(#p74fc7bd7d8)\" d=\"M 102.857143 159.314678 \r\nL 150.685714 159.314678 \r\nL 150.685714 160.247897 \r\nL 102.857143 160.247897 \r\nL 102.857143 159.314678 \r\n\" style=\"fill:#440154;\"/>\r\n    <path clip-path=\"url(#p74fc7bd7d8)\" d=\"M 150.685714 159.314678 \r\nL 198.514286 159.314678 \r\nL 198.514286 160.247897 \r\nL 150.685714 160.247897 \r\nL 150.685714 159.314678 \r\n\" style=\"fill:#440154;\"/>\r\n    <path clip-path=\"url(#p74fc7bd7d8)\" d=\"M 198.514286 159.314678 \r\nL 246.342857 159.314678 \r\nL 246.342857 160.247897 \r\nL 198.514286 160.247897 \r\nL 198.514286 159.314678 \r\n\" style=\"fill:#440154;\"/>\r\n    <path clip-path=\"url(#p74fc7bd7d8)\" d=\"M 246.342857 159.314678 \r\nL 294.171429 159.314678 \r\nL 294.171429 160.247897 \r\nL 246.342857 160.247897 \r\nL 246.342857 159.314678 \r\n\" style=\"fill:#440154;\"/>\r\n    <path clip-path=\"url(#p74fc7bd7d8)\" d=\"M 294.171429 159.314678 \r\nL 342 159.314678 \r\nL 342 160.247897 \r\nL 294.171429 160.247897 \r\nL 294.171429 159.314678 \r\n\" style=\"fill:#440154;\"/>\r\n    <path clip-path=\"url(#p74fc7bd7d8)\" d=\"M 7.2 160.247897 \r\nL 55.028571 160.247897 \r\nL 55.028571 161.181116 \r\nL 7.2 161.181116 \r\nL 7.2 160.247897 \r\n\" style=\"fill:#440154;\"/>\r\n    <path clip-path=\"url(#p74fc7bd7d8)\" d=\"M 55.028571 160.247897 \r\nL 102.857143 160.247897 \r\nL 102.857143 161.181116 \r\nL 55.028571 161.181116 \r\nL 55.028571 160.247897 \r\n\" style=\"fill:#fde725;\"/>\r\n    <path clip-path=\"url(#p74fc7bd7d8)\" d=\"M 102.857143 160.247897 \r\nL 150.685714 160.247897 \r\nL 150.685714 161.181116 \r\nL 102.857143 161.181116 \r\nL 102.857143 160.247897 \r\n\" style=\"fill:#fde725;\"/>\r\n    <path clip-path=\"url(#p74fc7bd7d8)\" d=\"M 150.685714 160.247897 \r\nL 198.514286 160.247897 \r\nL 198.514286 161.181116 \r\nL 150.685714 161.181116 \r\nL 150.685714 160.247897 \r\n\" style=\"fill:#fde725;\"/>\r\n    <path clip-path=\"url(#p74fc7bd7d8)\" d=\"M 198.514286 160.247897 \r\nL 246.342857 160.247897 \r\nL 246.342857 161.181116 \r\nL 198.514286 161.181116 \r\nL 198.514286 160.247897 \r\n\" style=\"fill:#fde725;\"/>\r\n    <path clip-path=\"url(#p74fc7bd7d8)\" d=\"M 246.342857 160.247897 \r\nL 294.171429 160.247897 \r\nL 294.171429 161.181116 \r\nL 246.342857 161.181116 \r\nL 246.342857 160.247897 \r\n\" style=\"fill:#fde725;\"/>\r\n    <path clip-path=\"url(#p74fc7bd7d8)\" d=\"M 294.171429 160.247897 \r\nL 342 160.247897 \r\nL 342 161.181116 \r\nL 294.171429 161.181116 \r\nL 294.171429 160.247897 \r\n\" style=\"fill:#fde725;\"/>\r\n    <path clip-path=\"url(#p74fc7bd7d8)\" d=\"M 7.2 161.181116 \r\nL 55.028571 161.181116 \r\nL 55.028571 162.114335 \r\nL 7.2 162.114335 \r\nL 7.2 161.181116 \r\n\" style=\"fill:#440154;\"/>\r\n    <path clip-path=\"url(#p74fc7bd7d8)\" d=\"M 55.028571 161.181116 \r\nL 102.857143 161.181116 \r\nL 102.857143 162.114335 \r\nL 55.028571 162.114335 \r\nL 55.028571 161.181116 \r\n\" style=\"fill:#440154;\"/>\r\n    <path clip-path=\"url(#p74fc7bd7d8)\" d=\"M 102.857143 161.181116 \r\nL 150.685714 161.181116 \r\nL 150.685714 162.114335 \r\nL 102.857143 162.114335 \r\nL 102.857143 161.181116 \r\n\" style=\"fill:#440154;\"/>\r\n    <path clip-path=\"url(#p74fc7bd7d8)\" d=\"M 150.685714 161.181116 \r\nL 198.514286 161.181116 \r\nL 198.514286 162.114335 \r\nL 150.685714 162.114335 \r\nL 150.685714 161.181116 \r\n\" style=\"fill:#440154;\"/>\r\n    <path clip-path=\"url(#p74fc7bd7d8)\" d=\"M 198.514286 161.181116 \r\nL 246.342857 161.181116 \r\nL 246.342857 162.114335 \r\nL 198.514286 162.114335 \r\nL 198.514286 161.181116 \r\n\" style=\"fill:#440154;\"/>\r\n    <path clip-path=\"url(#p74fc7bd7d8)\" d=\"M 246.342857 161.181116 \r\nL 294.171429 161.181116 \r\nL 294.171429 162.114335 \r\nL 246.342857 162.114335 \r\nL 246.342857 161.181116 \r\n\" style=\"fill:#440154;\"/>\r\n    <path clip-path=\"url(#p74fc7bd7d8)\" d=\"M 294.171429 161.181116 \r\nL 342 161.181116 \r\nL 342 162.114335 \r\nL 294.171429 162.114335 \r\nL 294.171429 161.181116 \r\n\" style=\"fill:#fde725;\"/>\r\n    <path clip-path=\"url(#p74fc7bd7d8)\" d=\"M 7.2 162.114335 \r\nL 55.028571 162.114335 \r\nL 55.028571 163.047554 \r\nL 7.2 163.047554 \r\nL 7.2 162.114335 \r\n\" style=\"fill:#440154;\"/>\r\n    <path clip-path=\"url(#p74fc7bd7d8)\" d=\"M 55.028571 162.114335 \r\nL 102.857143 162.114335 \r\nL 102.857143 163.047554 \r\nL 55.028571 163.047554 \r\nL 55.028571 162.114335 \r\n\" style=\"fill:#fde725;\"/>\r\n    <path clip-path=\"url(#p74fc7bd7d8)\" d=\"M 102.857143 162.114335 \r\nL 150.685714 162.114335 \r\nL 150.685714 163.047554 \r\nL 102.857143 163.047554 \r\nL 102.857143 162.114335 \r\n\" style=\"fill:#fde725;\"/>\r\n    <path clip-path=\"url(#p74fc7bd7d8)\" d=\"M 150.685714 162.114335 \r\nL 198.514286 162.114335 \r\nL 198.514286 163.047554 \r\nL 150.685714 163.047554 \r\nL 150.685714 162.114335 \r\n\" style=\"fill:#fde725;\"/>\r\n    <path clip-path=\"url(#p74fc7bd7d8)\" d=\"M 198.514286 162.114335 \r\nL 246.342857 162.114335 \r\nL 246.342857 163.047554 \r\nL 198.514286 163.047554 \r\nL 198.514286 162.114335 \r\n\" style=\"fill:#fde725;\"/>\r\n    <path clip-path=\"url(#p74fc7bd7d8)\" d=\"M 246.342857 162.114335 \r\nL 294.171429 162.114335 \r\nL 294.171429 163.047554 \r\nL 246.342857 163.047554 \r\nL 246.342857 162.114335 \r\n\" style=\"fill:#fde725;\"/>\r\n    <path clip-path=\"url(#p74fc7bd7d8)\" d=\"M 294.171429 162.114335 \r\nL 342 162.114335 \r\nL 342 163.047554 \r\nL 294.171429 163.047554 \r\nL 294.171429 162.114335 \r\n\" style=\"fill:#fde725;\"/>\r\n    <path clip-path=\"url(#p74fc7bd7d8)\" d=\"M 7.2 163.047554 \r\nL 55.028571 163.047554 \r\nL 55.028571 163.980773 \r\nL 7.2 163.980773 \r\nL 7.2 163.047554 \r\n\" style=\"fill:#440154;\"/>\r\n    <path clip-path=\"url(#p74fc7bd7d8)\" d=\"M 55.028571 163.047554 \r\nL 102.857143 163.047554 \r\nL 102.857143 163.980773 \r\nL 55.028571 163.980773 \r\nL 55.028571 163.047554 \r\n\" style=\"fill:#fde725;\"/>\r\n    <path clip-path=\"url(#p74fc7bd7d8)\" d=\"M 102.857143 163.047554 \r\nL 150.685714 163.047554 \r\nL 150.685714 163.980773 \r\nL 102.857143 163.980773 \r\nL 102.857143 163.047554 \r\n\" style=\"fill:#fde725;\"/>\r\n    <path clip-path=\"url(#p74fc7bd7d8)\" d=\"M 150.685714 163.047554 \r\nL 198.514286 163.047554 \r\nL 198.514286 163.980773 \r\nL 150.685714 163.980773 \r\nL 150.685714 163.047554 \r\n\" style=\"fill:#fde725;\"/>\r\n    <path clip-path=\"url(#p74fc7bd7d8)\" d=\"M 198.514286 163.047554 \r\nL 246.342857 163.047554 \r\nL 246.342857 163.980773 \r\nL 198.514286 163.980773 \r\nL 198.514286 163.047554 \r\n\" style=\"fill:#fde725;\"/>\r\n    <path clip-path=\"url(#p74fc7bd7d8)\" d=\"M 246.342857 163.047554 \r\nL 294.171429 163.047554 \r\nL 294.171429 163.980773 \r\nL 246.342857 163.980773 \r\nL 246.342857 163.047554 \r\n\" style=\"fill:#fde725;\"/>\r\n    <path clip-path=\"url(#p74fc7bd7d8)\" d=\"M 294.171429 163.047554 \r\nL 342 163.047554 \r\nL 342 163.980773 \r\nL 294.171429 163.980773 \r\nL 294.171429 163.047554 \r\n\" style=\"fill:#fde725;\"/>\r\n    <path clip-path=\"url(#p74fc7bd7d8)\" d=\"M 7.2 163.980773 \r\nL 55.028571 163.980773 \r\nL 55.028571 164.913991 \r\nL 7.2 164.913991 \r\nL 7.2 163.980773 \r\n\" style=\"fill:#440154;\"/>\r\n    <path clip-path=\"url(#p74fc7bd7d8)\" d=\"M 55.028571 163.980773 \r\nL 102.857143 163.980773 \r\nL 102.857143 164.913991 \r\nL 55.028571 164.913991 \r\nL 55.028571 163.980773 \r\n\" style=\"fill:#fde725;\"/>\r\n    <path clip-path=\"url(#p74fc7bd7d8)\" d=\"M 102.857143 163.980773 \r\nL 150.685714 163.980773 \r\nL 150.685714 164.913991 \r\nL 102.857143 164.913991 \r\nL 102.857143 163.980773 \r\n\" style=\"fill:#fde725;\"/>\r\n    <path clip-path=\"url(#p74fc7bd7d8)\" d=\"M 150.685714 163.980773 \r\nL 198.514286 163.980773 \r\nL 198.514286 164.913991 \r\nL 150.685714 164.913991 \r\nL 150.685714 163.980773 \r\n\" style=\"fill:#fde725;\"/>\r\n    <path clip-path=\"url(#p74fc7bd7d8)\" d=\"M 198.514286 163.980773 \r\nL 246.342857 163.980773 \r\nL 246.342857 164.913991 \r\nL 198.514286 164.913991 \r\nL 198.514286 163.980773 \r\n\" style=\"fill:#fde725;\"/>\r\n    <path clip-path=\"url(#p74fc7bd7d8)\" d=\"M 246.342857 163.980773 \r\nL 294.171429 163.980773 \r\nL 294.171429 164.913991 \r\nL 246.342857 164.913991 \r\nL 246.342857 163.980773 \r\n\" style=\"fill:#fde725;\"/>\r\n    <path clip-path=\"url(#p74fc7bd7d8)\" d=\"M 294.171429 163.980773 \r\nL 342 163.980773 \r\nL 342 164.913991 \r\nL 294.171429 164.913991 \r\nL 294.171429 163.980773 \r\n\" style=\"fill:#fde725;\"/>\r\n    <path clip-path=\"url(#p74fc7bd7d8)\" d=\"M 7.2 164.913991 \r\nL 55.028571 164.913991 \r\nL 55.028571 165.84721 \r\nL 7.2 165.84721 \r\nL 7.2 164.913991 \r\n\" style=\"fill:#440154;\"/>\r\n    <path clip-path=\"url(#p74fc7bd7d8)\" d=\"M 55.028571 164.913991 \r\nL 102.857143 164.913991 \r\nL 102.857143 165.84721 \r\nL 55.028571 165.84721 \r\nL 55.028571 164.913991 \r\n\" style=\"fill:#440154;\"/>\r\n    <path clip-path=\"url(#p74fc7bd7d8)\" d=\"M 102.857143 164.913991 \r\nL 150.685714 164.913991 \r\nL 150.685714 165.84721 \r\nL 102.857143 165.84721 \r\nL 102.857143 164.913991 \r\n\" style=\"fill:#440154;\"/>\r\n    <path clip-path=\"url(#p74fc7bd7d8)\" d=\"M 150.685714 164.913991 \r\nL 198.514286 164.913991 \r\nL 198.514286 165.84721 \r\nL 150.685714 165.84721 \r\nL 150.685714 164.913991 \r\n\" style=\"fill:#440154;\"/>\r\n    <path clip-path=\"url(#p74fc7bd7d8)\" d=\"M 198.514286 164.913991 \r\nL 246.342857 164.913991 \r\nL 246.342857 165.84721 \r\nL 198.514286 165.84721 \r\nL 198.514286 164.913991 \r\n\" style=\"fill:#440154;\"/>\r\n    <path clip-path=\"url(#p74fc7bd7d8)\" d=\"M 246.342857 164.913991 \r\nL 294.171429 164.913991 \r\nL 294.171429 165.84721 \r\nL 246.342857 165.84721 \r\nL 246.342857 164.913991 \r\n\" style=\"fill:#440154;\"/>\r\n    <path clip-path=\"url(#p74fc7bd7d8)\" d=\"M 294.171429 164.913991 \r\nL 342 164.913991 \r\nL 342 165.84721 \r\nL 294.171429 165.84721 \r\nL 294.171429 164.913991 \r\n\" style=\"fill:#440154;\"/>\r\n    <path clip-path=\"url(#p74fc7bd7d8)\" d=\"M 7.2 165.84721 \r\nL 55.028571 165.84721 \r\nL 55.028571 166.780429 \r\nL 7.2 166.780429 \r\nL 7.2 165.84721 \r\n\" style=\"fill:#440154;\"/>\r\n    <path clip-path=\"url(#p74fc7bd7d8)\" d=\"M 55.028571 165.84721 \r\nL 102.857143 165.84721 \r\nL 102.857143 166.780429 \r\nL 55.028571 166.780429 \r\nL 55.028571 165.84721 \r\n\" style=\"fill:#440154;\"/>\r\n    <path clip-path=\"url(#p74fc7bd7d8)\" d=\"M 102.857143 165.84721 \r\nL 150.685714 165.84721 \r\nL 150.685714 166.780429 \r\nL 102.857143 166.780429 \r\nL 102.857143 165.84721 \r\n\" style=\"fill:#440154;\"/>\r\n    <path clip-path=\"url(#p74fc7bd7d8)\" d=\"M 150.685714 165.84721 \r\nL 198.514286 165.84721 \r\nL 198.514286 166.780429 \r\nL 150.685714 166.780429 \r\nL 150.685714 165.84721 \r\n\" style=\"fill:#440154;\"/>\r\n    <path clip-path=\"url(#p74fc7bd7d8)\" d=\"M 198.514286 165.84721 \r\nL 246.342857 165.84721 \r\nL 246.342857 166.780429 \r\nL 198.514286 166.780429 \r\nL 198.514286 165.84721 \r\n\" style=\"fill:#440154;\"/>\r\n    <path clip-path=\"url(#p74fc7bd7d8)\" d=\"M 246.342857 165.84721 \r\nL 294.171429 165.84721 \r\nL 294.171429 166.780429 \r\nL 246.342857 166.780429 \r\nL 246.342857 165.84721 \r\n\" style=\"fill:#440154;\"/>\r\n    <path clip-path=\"url(#p74fc7bd7d8)\" d=\"M 294.171429 165.84721 \r\nL 342 165.84721 \r\nL 342 166.780429 \r\nL 294.171429 166.780429 \r\nL 294.171429 165.84721 \r\n\" style=\"fill:#fde725;\"/>\r\n    <path clip-path=\"url(#p74fc7bd7d8)\" d=\"M 7.2 166.780429 \r\nL 55.028571 166.780429 \r\nL 55.028571 167.713648 \r\nL 7.2 167.713648 \r\nL 7.2 166.780429 \r\n\" style=\"fill:#440154;\"/>\r\n    <path clip-path=\"url(#p74fc7bd7d8)\" d=\"M 55.028571 166.780429 \r\nL 102.857143 166.780429 \r\nL 102.857143 167.713648 \r\nL 55.028571 167.713648 \r\nL 55.028571 166.780429 \r\n\" style=\"fill:#440154;\"/>\r\n    <path clip-path=\"url(#p74fc7bd7d8)\" d=\"M 102.857143 166.780429 \r\nL 150.685714 166.780429 \r\nL 150.685714 167.713648 \r\nL 102.857143 167.713648 \r\nL 102.857143 166.780429 \r\n\" style=\"fill:#440154;\"/>\r\n    <path clip-path=\"url(#p74fc7bd7d8)\" d=\"M 150.685714 166.780429 \r\nL 198.514286 166.780429 \r\nL 198.514286 167.713648 \r\nL 150.685714 167.713648 \r\nL 150.685714 166.780429 \r\n\" style=\"fill:#440154;\"/>\r\n    <path clip-path=\"url(#p74fc7bd7d8)\" d=\"M 198.514286 166.780429 \r\nL 246.342857 166.780429 \r\nL 246.342857 167.713648 \r\nL 198.514286 167.713648 \r\nL 198.514286 166.780429 \r\n\" style=\"fill:#440154;\"/>\r\n    <path clip-path=\"url(#p74fc7bd7d8)\" d=\"M 246.342857 166.780429 \r\nL 294.171429 166.780429 \r\nL 294.171429 167.713648 \r\nL 246.342857 167.713648 \r\nL 246.342857 166.780429 \r\n\" style=\"fill:#440154;\"/>\r\n    <path clip-path=\"url(#p74fc7bd7d8)\" d=\"M 294.171429 166.780429 \r\nL 342 166.780429 \r\nL 342 167.713648 \r\nL 294.171429 167.713648 \r\nL 294.171429 166.780429 \r\n\" style=\"fill:#fde725;\"/>\r\n    <path clip-path=\"url(#p74fc7bd7d8)\" d=\"M 7.2 167.713648 \r\nL 55.028571 167.713648 \r\nL 55.028571 168.646867 \r\nL 7.2 168.646867 \r\nL 7.2 167.713648 \r\n\" style=\"fill:#440154;\"/>\r\n    <path clip-path=\"url(#p74fc7bd7d8)\" d=\"M 55.028571 167.713648 \r\nL 102.857143 167.713648 \r\nL 102.857143 168.646867 \r\nL 55.028571 168.646867 \r\nL 55.028571 167.713648 \r\n\" style=\"fill:#440154;\"/>\r\n    <path clip-path=\"url(#p74fc7bd7d8)\" d=\"M 102.857143 167.713648 \r\nL 150.685714 167.713648 \r\nL 150.685714 168.646867 \r\nL 102.857143 168.646867 \r\nL 102.857143 167.713648 \r\n\" style=\"fill:#440154;\"/>\r\n    <path clip-path=\"url(#p74fc7bd7d8)\" d=\"M 150.685714 167.713648 \r\nL 198.514286 167.713648 \r\nL 198.514286 168.646867 \r\nL 150.685714 168.646867 \r\nL 150.685714 167.713648 \r\n\" style=\"fill:#440154;\"/>\r\n    <path clip-path=\"url(#p74fc7bd7d8)\" d=\"M 198.514286 167.713648 \r\nL 246.342857 167.713648 \r\nL 246.342857 168.646867 \r\nL 198.514286 168.646867 \r\nL 198.514286 167.713648 \r\n\" style=\"fill:#440154;\"/>\r\n    <path clip-path=\"url(#p74fc7bd7d8)\" d=\"M 246.342857 167.713648 \r\nL 294.171429 167.713648 \r\nL 294.171429 168.646867 \r\nL 246.342857 168.646867 \r\nL 246.342857 167.713648 \r\n\" style=\"fill:#440154;\"/>\r\n    <path clip-path=\"url(#p74fc7bd7d8)\" d=\"M 294.171429 167.713648 \r\nL 342 167.713648 \r\nL 342 168.646867 \r\nL 294.171429 168.646867 \r\nL 294.171429 167.713648 \r\n\" style=\"fill:#fde725;\"/>\r\n    <path clip-path=\"url(#p74fc7bd7d8)\" d=\"M 7.2 168.646867 \r\nL 55.028571 168.646867 \r\nL 55.028571 169.580086 \r\nL 7.2 169.580086 \r\nL 7.2 168.646867 \r\n\" style=\"fill:#440154;\"/>\r\n    <path clip-path=\"url(#p74fc7bd7d8)\" d=\"M 55.028571 168.646867 \r\nL 102.857143 168.646867 \r\nL 102.857143 169.580086 \r\nL 55.028571 169.580086 \r\nL 55.028571 168.646867 \r\n\" style=\"fill:#440154;\"/>\r\n    <path clip-path=\"url(#p74fc7bd7d8)\" d=\"M 102.857143 168.646867 \r\nL 150.685714 168.646867 \r\nL 150.685714 169.580086 \r\nL 102.857143 169.580086 \r\nL 102.857143 168.646867 \r\n\" style=\"fill:#440154;\"/>\r\n    <path clip-path=\"url(#p74fc7bd7d8)\" d=\"M 150.685714 168.646867 \r\nL 198.514286 168.646867 \r\nL 198.514286 169.580086 \r\nL 150.685714 169.580086 \r\nL 150.685714 168.646867 \r\n\" style=\"fill:#440154;\"/>\r\n    <path clip-path=\"url(#p74fc7bd7d8)\" d=\"M 198.514286 168.646867 \r\nL 246.342857 168.646867 \r\nL 246.342857 169.580086 \r\nL 198.514286 169.580086 \r\nL 198.514286 168.646867 \r\n\" style=\"fill:#440154;\"/>\r\n    <path clip-path=\"url(#p74fc7bd7d8)\" d=\"M 246.342857 168.646867 \r\nL 294.171429 168.646867 \r\nL 294.171429 169.580086 \r\nL 246.342857 169.580086 \r\nL 246.342857 168.646867 \r\n\" style=\"fill:#440154;\"/>\r\n    <path clip-path=\"url(#p74fc7bd7d8)\" d=\"M 294.171429 168.646867 \r\nL 342 168.646867 \r\nL 342 169.580086 \r\nL 294.171429 169.580086 \r\nL 294.171429 168.646867 \r\n\" style=\"fill:#fde725;\"/>\r\n    <path clip-path=\"url(#p74fc7bd7d8)\" d=\"M 7.2 169.580086 \r\nL 55.028571 169.580086 \r\nL 55.028571 170.513305 \r\nL 7.2 170.513305 \r\nL 7.2 169.580086 \r\n\" style=\"fill:#440154;\"/>\r\n    <path clip-path=\"url(#p74fc7bd7d8)\" d=\"M 55.028571 169.580086 \r\nL 102.857143 169.580086 \r\nL 102.857143 170.513305 \r\nL 55.028571 170.513305 \r\nL 55.028571 169.580086 \r\n\" style=\"fill:#fde725;\"/>\r\n    <path clip-path=\"url(#p74fc7bd7d8)\" d=\"M 102.857143 169.580086 \r\nL 150.685714 169.580086 \r\nL 150.685714 170.513305 \r\nL 102.857143 170.513305 \r\nL 102.857143 169.580086 \r\n\" style=\"fill:#fde725;\"/>\r\n    <path clip-path=\"url(#p74fc7bd7d8)\" d=\"M 150.685714 169.580086 \r\nL 198.514286 169.580086 \r\nL 198.514286 170.513305 \r\nL 150.685714 170.513305 \r\nL 150.685714 169.580086 \r\n\" style=\"fill:#fde725;\"/>\r\n    <path clip-path=\"url(#p74fc7bd7d8)\" d=\"M 198.514286 169.580086 \r\nL 246.342857 169.580086 \r\nL 246.342857 170.513305 \r\nL 198.514286 170.513305 \r\nL 198.514286 169.580086 \r\n\" style=\"fill:#fde725;\"/>\r\n    <path clip-path=\"url(#p74fc7bd7d8)\" d=\"M 246.342857 169.580086 \r\nL 294.171429 169.580086 \r\nL 294.171429 170.513305 \r\nL 246.342857 170.513305 \r\nL 246.342857 169.580086 \r\n\" style=\"fill:#fde725;\"/>\r\n    <path clip-path=\"url(#p74fc7bd7d8)\" d=\"M 294.171429 169.580086 \r\nL 342 169.580086 \r\nL 342 170.513305 \r\nL 294.171429 170.513305 \r\nL 294.171429 169.580086 \r\n\" style=\"fill:#fde725;\"/>\r\n    <path clip-path=\"url(#p74fc7bd7d8)\" d=\"M 7.2 170.513305 \r\nL 55.028571 170.513305 \r\nL 55.028571 171.446524 \r\nL 7.2 171.446524 \r\nL 7.2 170.513305 \r\n\" style=\"fill:#440154;\"/>\r\n    <path clip-path=\"url(#p74fc7bd7d8)\" d=\"M 55.028571 170.513305 \r\nL 102.857143 170.513305 \r\nL 102.857143 171.446524 \r\nL 55.028571 171.446524 \r\nL 55.028571 170.513305 \r\n\" style=\"fill:#440154;\"/>\r\n    <path clip-path=\"url(#p74fc7bd7d8)\" d=\"M 102.857143 170.513305 \r\nL 150.685714 170.513305 \r\nL 150.685714 171.446524 \r\nL 102.857143 171.446524 \r\nL 102.857143 170.513305 \r\n\" style=\"fill:#440154;\"/>\r\n    <path clip-path=\"url(#p74fc7bd7d8)\" d=\"M 150.685714 170.513305 \r\nL 198.514286 170.513305 \r\nL 198.514286 171.446524 \r\nL 150.685714 171.446524 \r\nL 150.685714 170.513305 \r\n\" style=\"fill:#440154;\"/>\r\n    <path clip-path=\"url(#p74fc7bd7d8)\" d=\"M 198.514286 170.513305 \r\nL 246.342857 170.513305 \r\nL 246.342857 171.446524 \r\nL 198.514286 171.446524 \r\nL 198.514286 170.513305 \r\n\" style=\"fill:#440154;\"/>\r\n    <path clip-path=\"url(#p74fc7bd7d8)\" d=\"M 246.342857 170.513305 \r\nL 294.171429 170.513305 \r\nL 294.171429 171.446524 \r\nL 246.342857 171.446524 \r\nL 246.342857 170.513305 \r\n\" style=\"fill:#440154;\"/>\r\n    <path clip-path=\"url(#p74fc7bd7d8)\" d=\"M 294.171429 170.513305 \r\nL 342 170.513305 \r\nL 342 171.446524 \r\nL 294.171429 171.446524 \r\nL 294.171429 170.513305 \r\n\" style=\"fill:#fde725;\"/>\r\n    <path clip-path=\"url(#p74fc7bd7d8)\" d=\"M 7.2 171.446524 \r\nL 55.028571 171.446524 \r\nL 55.028571 172.379742 \r\nL 7.2 172.379742 \r\nL 7.2 171.446524 \r\n\" style=\"fill:#440154;\"/>\r\n    <path clip-path=\"url(#p74fc7bd7d8)\" d=\"M 55.028571 171.446524 \r\nL 102.857143 171.446524 \r\nL 102.857143 172.379742 \r\nL 55.028571 172.379742 \r\nL 55.028571 171.446524 \r\n\" style=\"fill:#440154;\"/>\r\n    <path clip-path=\"url(#p74fc7bd7d8)\" d=\"M 102.857143 171.446524 \r\nL 150.685714 171.446524 \r\nL 150.685714 172.379742 \r\nL 102.857143 172.379742 \r\nL 102.857143 171.446524 \r\n\" style=\"fill:#440154;\"/>\r\n    <path clip-path=\"url(#p74fc7bd7d8)\" d=\"M 150.685714 171.446524 \r\nL 198.514286 171.446524 \r\nL 198.514286 172.379742 \r\nL 150.685714 172.379742 \r\nL 150.685714 171.446524 \r\n\" style=\"fill:#440154;\"/>\r\n    <path clip-path=\"url(#p74fc7bd7d8)\" d=\"M 198.514286 171.446524 \r\nL 246.342857 171.446524 \r\nL 246.342857 172.379742 \r\nL 198.514286 172.379742 \r\nL 198.514286 171.446524 \r\n\" style=\"fill:#440154;\"/>\r\n    <path clip-path=\"url(#p74fc7bd7d8)\" d=\"M 246.342857 171.446524 \r\nL 294.171429 171.446524 \r\nL 294.171429 172.379742 \r\nL 246.342857 172.379742 \r\nL 246.342857 171.446524 \r\n\" style=\"fill:#fde725;\"/>\r\n    <path clip-path=\"url(#p74fc7bd7d8)\" d=\"M 294.171429 171.446524 \r\nL 342 171.446524 \r\nL 342 172.379742 \r\nL 294.171429 172.379742 \r\nL 294.171429 171.446524 \r\n\" style=\"fill:#fde725;\"/>\r\n    <path clip-path=\"url(#p74fc7bd7d8)\" d=\"M 7.2 172.379742 \r\nL 55.028571 172.379742 \r\nL 55.028571 173.312961 \r\nL 7.2 173.312961 \r\nL 7.2 172.379742 \r\n\" style=\"fill:#440154;\"/>\r\n    <path clip-path=\"url(#p74fc7bd7d8)\" d=\"M 55.028571 172.379742 \r\nL 102.857143 172.379742 \r\nL 102.857143 173.312961 \r\nL 55.028571 173.312961 \r\nL 55.028571 172.379742 \r\n\" style=\"fill:#440154;\"/>\r\n    <path clip-path=\"url(#p74fc7bd7d8)\" d=\"M 102.857143 172.379742 \r\nL 150.685714 172.379742 \r\nL 150.685714 173.312961 \r\nL 102.857143 173.312961 \r\nL 102.857143 172.379742 \r\n\" style=\"fill:#440154;\"/>\r\n    <path clip-path=\"url(#p74fc7bd7d8)\" d=\"M 150.685714 172.379742 \r\nL 198.514286 172.379742 \r\nL 198.514286 173.312961 \r\nL 150.685714 173.312961 \r\nL 150.685714 172.379742 \r\n\" style=\"fill:#440154;\"/>\r\n    <path clip-path=\"url(#p74fc7bd7d8)\" d=\"M 198.514286 172.379742 \r\nL 246.342857 172.379742 \r\nL 246.342857 173.312961 \r\nL 198.514286 173.312961 \r\nL 198.514286 172.379742 \r\n\" style=\"fill:#fde725;\"/>\r\n    <path clip-path=\"url(#p74fc7bd7d8)\" d=\"M 246.342857 172.379742 \r\nL 294.171429 172.379742 \r\nL 294.171429 173.312961 \r\nL 246.342857 173.312961 \r\nL 246.342857 172.379742 \r\n\" style=\"fill:#440154;\"/>\r\n    <path clip-path=\"url(#p74fc7bd7d8)\" d=\"M 294.171429 172.379742 \r\nL 342 172.379742 \r\nL 342 173.312961 \r\nL 294.171429 173.312961 \r\nL 294.171429 172.379742 \r\n\" style=\"fill:#440154;\"/>\r\n    <path clip-path=\"url(#p74fc7bd7d8)\" d=\"M 7.2 173.312961 \r\nL 55.028571 173.312961 \r\nL 55.028571 174.24618 \r\nL 7.2 174.24618 \r\nL 7.2 173.312961 \r\n\" style=\"fill:#440154;\"/>\r\n    <path clip-path=\"url(#p74fc7bd7d8)\" d=\"M 55.028571 173.312961 \r\nL 102.857143 173.312961 \r\nL 102.857143 174.24618 \r\nL 55.028571 174.24618 \r\nL 55.028571 173.312961 \r\n\" style=\"fill:#440154;\"/>\r\n    <path clip-path=\"url(#p74fc7bd7d8)\" d=\"M 102.857143 173.312961 \r\nL 150.685714 173.312961 \r\nL 150.685714 174.24618 \r\nL 102.857143 174.24618 \r\nL 102.857143 173.312961 \r\n\" style=\"fill:#440154;\"/>\r\n    <path clip-path=\"url(#p74fc7bd7d8)\" d=\"M 150.685714 173.312961 \r\nL 198.514286 173.312961 \r\nL 198.514286 174.24618 \r\nL 150.685714 174.24618 \r\nL 150.685714 173.312961 \r\n\" style=\"fill:#440154;\"/>\r\n    <path clip-path=\"url(#p74fc7bd7d8)\" d=\"M 198.514286 173.312961 \r\nL 246.342857 173.312961 \r\nL 246.342857 174.24618 \r\nL 198.514286 174.24618 \r\nL 198.514286 173.312961 \r\n\" style=\"fill:#440154;\"/>\r\n    <path clip-path=\"url(#p74fc7bd7d8)\" d=\"M 246.342857 173.312961 \r\nL 294.171429 173.312961 \r\nL 294.171429 174.24618 \r\nL 246.342857 174.24618 \r\nL 246.342857 173.312961 \r\n\" style=\"fill:#440154;\"/>\r\n    <path clip-path=\"url(#p74fc7bd7d8)\" d=\"M 294.171429 173.312961 \r\nL 342 173.312961 \r\nL 342 174.24618 \r\nL 294.171429 174.24618 \r\nL 294.171429 173.312961 \r\n\" style=\"fill:#440154;\"/>\r\n    <path clip-path=\"url(#p74fc7bd7d8)\" d=\"M 7.2 174.24618 \r\nL 55.028571 174.24618 \r\nL 55.028571 175.179399 \r\nL 7.2 175.179399 \r\nL 7.2 174.24618 \r\n\" style=\"fill:#440154;\"/>\r\n    <path clip-path=\"url(#p74fc7bd7d8)\" d=\"M 55.028571 174.24618 \r\nL 102.857143 174.24618 \r\nL 102.857143 175.179399 \r\nL 55.028571 175.179399 \r\nL 55.028571 174.24618 \r\n\" style=\"fill:#440154;\"/>\r\n    <path clip-path=\"url(#p74fc7bd7d8)\" d=\"M 102.857143 174.24618 \r\nL 150.685714 174.24618 \r\nL 150.685714 175.179399 \r\nL 102.857143 175.179399 \r\nL 102.857143 174.24618 \r\n\" style=\"fill:#440154;\"/>\r\n    <path clip-path=\"url(#p74fc7bd7d8)\" d=\"M 150.685714 174.24618 \r\nL 198.514286 174.24618 \r\nL 198.514286 175.179399 \r\nL 150.685714 175.179399 \r\nL 150.685714 174.24618 \r\n\" style=\"fill:#440154;\"/>\r\n    <path clip-path=\"url(#p74fc7bd7d8)\" d=\"M 198.514286 174.24618 \r\nL 246.342857 174.24618 \r\nL 246.342857 175.179399 \r\nL 198.514286 175.179399 \r\nL 198.514286 174.24618 \r\n\" style=\"fill:#440154;\"/>\r\n    <path clip-path=\"url(#p74fc7bd7d8)\" d=\"M 246.342857 174.24618 \r\nL 294.171429 174.24618 \r\nL 294.171429 175.179399 \r\nL 246.342857 175.179399 \r\nL 246.342857 174.24618 \r\n\" style=\"fill:#440154;\"/>\r\n    <path clip-path=\"url(#p74fc7bd7d8)\" d=\"M 294.171429 174.24618 \r\nL 342 174.24618 \r\nL 342 175.179399 \r\nL 294.171429 175.179399 \r\nL 294.171429 174.24618 \r\n\" style=\"fill:#fde725;\"/>\r\n    <path clip-path=\"url(#p74fc7bd7d8)\" d=\"M 7.2 175.179399 \r\nL 55.028571 175.179399 \r\nL 55.028571 176.112618 \r\nL 7.2 176.112618 \r\nL 7.2 175.179399 \r\n\" style=\"fill:#440154;\"/>\r\n    <path clip-path=\"url(#p74fc7bd7d8)\" d=\"M 55.028571 175.179399 \r\nL 102.857143 175.179399 \r\nL 102.857143 176.112618 \r\nL 55.028571 176.112618 \r\nL 55.028571 175.179399 \r\n\" style=\"fill:#440154;\"/>\r\n    <path clip-path=\"url(#p74fc7bd7d8)\" d=\"M 102.857143 175.179399 \r\nL 150.685714 175.179399 \r\nL 150.685714 176.112618 \r\nL 102.857143 176.112618 \r\nL 102.857143 175.179399 \r\n\" style=\"fill:#440154;\"/>\r\n    <path clip-path=\"url(#p74fc7bd7d8)\" d=\"M 150.685714 175.179399 \r\nL 198.514286 175.179399 \r\nL 198.514286 176.112618 \r\nL 150.685714 176.112618 \r\nL 150.685714 175.179399 \r\n\" style=\"fill:#440154;\"/>\r\n    <path clip-path=\"url(#p74fc7bd7d8)\" d=\"M 198.514286 175.179399 \r\nL 246.342857 175.179399 \r\nL 246.342857 176.112618 \r\nL 198.514286 176.112618 \r\nL 198.514286 175.179399 \r\n\" style=\"fill:#440154;\"/>\r\n    <path clip-path=\"url(#p74fc7bd7d8)\" d=\"M 246.342857 175.179399 \r\nL 294.171429 175.179399 \r\nL 294.171429 176.112618 \r\nL 246.342857 176.112618 \r\nL 246.342857 175.179399 \r\n\" style=\"fill:#440154;\"/>\r\n    <path clip-path=\"url(#p74fc7bd7d8)\" d=\"M 294.171429 175.179399 \r\nL 342 175.179399 \r\nL 342 176.112618 \r\nL 294.171429 176.112618 \r\nL 294.171429 175.179399 \r\n\" style=\"fill:#440154;\"/>\r\n    <path clip-path=\"url(#p74fc7bd7d8)\" d=\"M 7.2 176.112618 \r\nL 55.028571 176.112618 \r\nL 55.028571 177.045837 \r\nL 7.2 177.045837 \r\nL 7.2 176.112618 \r\n\" style=\"fill:#440154;\"/>\r\n    <path clip-path=\"url(#p74fc7bd7d8)\" d=\"M 55.028571 176.112618 \r\nL 102.857143 176.112618 \r\nL 102.857143 177.045837 \r\nL 55.028571 177.045837 \r\nL 55.028571 176.112618 \r\n\" style=\"fill:#fde725;\"/>\r\n    <path clip-path=\"url(#p74fc7bd7d8)\" d=\"M 102.857143 176.112618 \r\nL 150.685714 176.112618 \r\nL 150.685714 177.045837 \r\nL 102.857143 177.045837 \r\nL 102.857143 176.112618 \r\n\" style=\"fill:#fde725;\"/>\r\n    <path clip-path=\"url(#p74fc7bd7d8)\" d=\"M 150.685714 176.112618 \r\nL 198.514286 176.112618 \r\nL 198.514286 177.045837 \r\nL 150.685714 177.045837 \r\nL 150.685714 176.112618 \r\n\" style=\"fill:#fde725;\"/>\r\n    <path clip-path=\"url(#p74fc7bd7d8)\" d=\"M 198.514286 176.112618 \r\nL 246.342857 176.112618 \r\nL 246.342857 177.045837 \r\nL 198.514286 177.045837 \r\nL 198.514286 176.112618 \r\n\" style=\"fill:#fde725;\"/>\r\n    <path clip-path=\"url(#p74fc7bd7d8)\" d=\"M 246.342857 176.112618 \r\nL 294.171429 176.112618 \r\nL 294.171429 177.045837 \r\nL 246.342857 177.045837 \r\nL 246.342857 176.112618 \r\n\" style=\"fill:#fde725;\"/>\r\n    <path clip-path=\"url(#p74fc7bd7d8)\" d=\"M 294.171429 176.112618 \r\nL 342 176.112618 \r\nL 342 177.045837 \r\nL 294.171429 177.045837 \r\nL 294.171429 176.112618 \r\n\" style=\"fill:#fde725;\"/>\r\n    <path clip-path=\"url(#p74fc7bd7d8)\" d=\"M 7.2 177.045837 \r\nL 55.028571 177.045837 \r\nL 55.028571 177.979056 \r\nL 7.2 177.979056 \r\nL 7.2 177.045837 \r\n\" style=\"fill:#440154;\"/>\r\n    <path clip-path=\"url(#p74fc7bd7d8)\" d=\"M 55.028571 177.045837 \r\nL 102.857143 177.045837 \r\nL 102.857143 177.979056 \r\nL 55.028571 177.979056 \r\nL 55.028571 177.045837 \r\n\" style=\"fill:#fde725;\"/>\r\n    <path clip-path=\"url(#p74fc7bd7d8)\" d=\"M 102.857143 177.045837 \r\nL 150.685714 177.045837 \r\nL 150.685714 177.979056 \r\nL 102.857143 177.979056 \r\nL 102.857143 177.045837 \r\n\" style=\"fill:#fde725;\"/>\r\n    <path clip-path=\"url(#p74fc7bd7d8)\" d=\"M 150.685714 177.045837 \r\nL 198.514286 177.045837 \r\nL 198.514286 177.979056 \r\nL 150.685714 177.979056 \r\nL 150.685714 177.045837 \r\n\" style=\"fill:#fde725;\"/>\r\n    <path clip-path=\"url(#p74fc7bd7d8)\" d=\"M 198.514286 177.045837 \r\nL 246.342857 177.045837 \r\nL 246.342857 177.979056 \r\nL 198.514286 177.979056 \r\nL 198.514286 177.045837 \r\n\" style=\"fill:#fde725;\"/>\r\n    <path clip-path=\"url(#p74fc7bd7d8)\" d=\"M 246.342857 177.045837 \r\nL 294.171429 177.045837 \r\nL 294.171429 177.979056 \r\nL 246.342857 177.979056 \r\nL 246.342857 177.045837 \r\n\" style=\"fill:#fde725;\"/>\r\n    <path clip-path=\"url(#p74fc7bd7d8)\" d=\"M 294.171429 177.045837 \r\nL 342 177.045837 \r\nL 342 177.979056 \r\nL 294.171429 177.979056 \r\nL 294.171429 177.045837 \r\n\" style=\"fill:#fde725;\"/>\r\n    <path clip-path=\"url(#p74fc7bd7d8)\" d=\"M 7.2 177.979056 \r\nL 55.028571 177.979056 \r\nL 55.028571 178.912275 \r\nL 7.2 178.912275 \r\nL 7.2 177.979056 \r\n\" style=\"fill:#440154;\"/>\r\n    <path clip-path=\"url(#p74fc7bd7d8)\" d=\"M 55.028571 177.979056 \r\nL 102.857143 177.979056 \r\nL 102.857143 178.912275 \r\nL 55.028571 178.912275 \r\nL 55.028571 177.979056 \r\n\" style=\"fill:#440154;\"/>\r\n    <path clip-path=\"url(#p74fc7bd7d8)\" d=\"M 102.857143 177.979056 \r\nL 150.685714 177.979056 \r\nL 150.685714 178.912275 \r\nL 102.857143 178.912275 \r\nL 102.857143 177.979056 \r\n\" style=\"fill:#440154;\"/>\r\n    <path clip-path=\"url(#p74fc7bd7d8)\" d=\"M 150.685714 177.979056 \r\nL 198.514286 177.979056 \r\nL 198.514286 178.912275 \r\nL 150.685714 178.912275 \r\nL 150.685714 177.979056 \r\n\" style=\"fill:#440154;\"/>\r\n    <path clip-path=\"url(#p74fc7bd7d8)\" d=\"M 198.514286 177.979056 \r\nL 246.342857 177.979056 \r\nL 246.342857 178.912275 \r\nL 198.514286 178.912275 \r\nL 198.514286 177.979056 \r\n\" style=\"fill:#440154;\"/>\r\n    <path clip-path=\"url(#p74fc7bd7d8)\" d=\"M 246.342857 177.979056 \r\nL 294.171429 177.979056 \r\nL 294.171429 178.912275 \r\nL 246.342857 178.912275 \r\nL 246.342857 177.979056 \r\n\" style=\"fill:#440154;\"/>\r\n    <path clip-path=\"url(#p74fc7bd7d8)\" d=\"M 294.171429 177.979056 \r\nL 342 177.979056 \r\nL 342 178.912275 \r\nL 294.171429 178.912275 \r\nL 294.171429 177.979056 \r\n\" style=\"fill:#440154;\"/>\r\n    <path clip-path=\"url(#p74fc7bd7d8)\" d=\"M 7.2 178.912275 \r\nL 55.028571 178.912275 \r\nL 55.028571 179.845494 \r\nL 7.2 179.845494 \r\nL 7.2 178.912275 \r\n\" style=\"fill:#440154;\"/>\r\n    <path clip-path=\"url(#p74fc7bd7d8)\" d=\"M 55.028571 178.912275 \r\nL 102.857143 178.912275 \r\nL 102.857143 179.845494 \r\nL 55.028571 179.845494 \r\nL 55.028571 178.912275 \r\n\" style=\"fill:#440154;\"/>\r\n    <path clip-path=\"url(#p74fc7bd7d8)\" d=\"M 102.857143 178.912275 \r\nL 150.685714 178.912275 \r\nL 150.685714 179.845494 \r\nL 102.857143 179.845494 \r\nL 102.857143 178.912275 \r\n\" style=\"fill:#440154;\"/>\r\n    <path clip-path=\"url(#p74fc7bd7d8)\" d=\"M 150.685714 178.912275 \r\nL 198.514286 178.912275 \r\nL 198.514286 179.845494 \r\nL 150.685714 179.845494 \r\nL 150.685714 178.912275 \r\n\" style=\"fill:#440154;\"/>\r\n    <path clip-path=\"url(#p74fc7bd7d8)\" d=\"M 198.514286 178.912275 \r\nL 246.342857 178.912275 \r\nL 246.342857 179.845494 \r\nL 198.514286 179.845494 \r\nL 198.514286 178.912275 \r\n\" style=\"fill:#440154;\"/>\r\n    <path clip-path=\"url(#p74fc7bd7d8)\" d=\"M 246.342857 178.912275 \r\nL 294.171429 178.912275 \r\nL 294.171429 179.845494 \r\nL 246.342857 179.845494 \r\nL 246.342857 178.912275 \r\n\" style=\"fill:#440154;\"/>\r\n    <path clip-path=\"url(#p74fc7bd7d8)\" d=\"M 294.171429 178.912275 \r\nL 342 178.912275 \r\nL 342 179.845494 \r\nL 294.171429 179.845494 \r\nL 294.171429 178.912275 \r\n\" style=\"fill:#fde725;\"/>\r\n    <path clip-path=\"url(#p74fc7bd7d8)\" d=\"M 7.2 179.845494 \r\nL 55.028571 179.845494 \r\nL 55.028571 180.778712 \r\nL 7.2 180.778712 \r\nL 7.2 179.845494 \r\n\" style=\"fill:#440154;\"/>\r\n    <path clip-path=\"url(#p74fc7bd7d8)\" d=\"M 55.028571 179.845494 \r\nL 102.857143 179.845494 \r\nL 102.857143 180.778712 \r\nL 55.028571 180.778712 \r\nL 55.028571 179.845494 \r\n\" style=\"fill:#fde725;\"/>\r\n    <path clip-path=\"url(#p74fc7bd7d8)\" d=\"M 102.857143 179.845494 \r\nL 150.685714 179.845494 \r\nL 150.685714 180.778712 \r\nL 102.857143 180.778712 \r\nL 102.857143 179.845494 \r\n\" style=\"fill:#fde725;\"/>\r\n    <path clip-path=\"url(#p74fc7bd7d8)\" d=\"M 150.685714 179.845494 \r\nL 198.514286 179.845494 \r\nL 198.514286 180.778712 \r\nL 150.685714 180.778712 \r\nL 150.685714 179.845494 \r\n\" style=\"fill:#fde725;\"/>\r\n    <path clip-path=\"url(#p74fc7bd7d8)\" d=\"M 198.514286 179.845494 \r\nL 246.342857 179.845494 \r\nL 246.342857 180.778712 \r\nL 198.514286 180.778712 \r\nL 198.514286 179.845494 \r\n\" style=\"fill:#fde725;\"/>\r\n    <path clip-path=\"url(#p74fc7bd7d8)\" d=\"M 246.342857 179.845494 \r\nL 294.171429 179.845494 \r\nL 294.171429 180.778712 \r\nL 246.342857 180.778712 \r\nL 246.342857 179.845494 \r\n\" style=\"fill:#fde725;\"/>\r\n    <path clip-path=\"url(#p74fc7bd7d8)\" d=\"M 294.171429 179.845494 \r\nL 342 179.845494 \r\nL 342 180.778712 \r\nL 294.171429 180.778712 \r\nL 294.171429 179.845494 \r\n\" style=\"fill:#fde725;\"/>\r\n    <path clip-path=\"url(#p74fc7bd7d8)\" d=\"M 7.2 180.778712 \r\nL 55.028571 180.778712 \r\nL 55.028571 181.711931 \r\nL 7.2 181.711931 \r\nL 7.2 180.778712 \r\n\" style=\"fill:#440154;\"/>\r\n    <path clip-path=\"url(#p74fc7bd7d8)\" d=\"M 55.028571 180.778712 \r\nL 102.857143 180.778712 \r\nL 102.857143 181.711931 \r\nL 55.028571 181.711931 \r\nL 55.028571 180.778712 \r\n\" style=\"fill:#fde725;\"/>\r\n    <path clip-path=\"url(#p74fc7bd7d8)\" d=\"M 102.857143 180.778712 \r\nL 150.685714 180.778712 \r\nL 150.685714 181.711931 \r\nL 102.857143 181.711931 \r\nL 102.857143 180.778712 \r\n\" style=\"fill:#fde725;\"/>\r\n    <path clip-path=\"url(#p74fc7bd7d8)\" d=\"M 150.685714 180.778712 \r\nL 198.514286 180.778712 \r\nL 198.514286 181.711931 \r\nL 150.685714 181.711931 \r\nL 150.685714 180.778712 \r\n\" style=\"fill:#fde725;\"/>\r\n    <path clip-path=\"url(#p74fc7bd7d8)\" d=\"M 198.514286 180.778712 \r\nL 246.342857 180.778712 \r\nL 246.342857 181.711931 \r\nL 198.514286 181.711931 \r\nL 198.514286 180.778712 \r\n\" style=\"fill:#fde725;\"/>\r\n    <path clip-path=\"url(#p74fc7bd7d8)\" d=\"M 246.342857 180.778712 \r\nL 294.171429 180.778712 \r\nL 294.171429 181.711931 \r\nL 246.342857 181.711931 \r\nL 246.342857 180.778712 \r\n\" style=\"fill:#fde725;\"/>\r\n    <path clip-path=\"url(#p74fc7bd7d8)\" d=\"M 294.171429 180.778712 \r\nL 342 180.778712 \r\nL 342 181.711931 \r\nL 294.171429 181.711931 \r\nL 294.171429 180.778712 \r\n\" style=\"fill:#fde725;\"/>\r\n    <path clip-path=\"url(#p74fc7bd7d8)\" d=\"M 7.2 181.711931 \r\nL 55.028571 181.711931 \r\nL 55.028571 182.64515 \r\nL 7.2 182.64515 \r\nL 7.2 181.711931 \r\n\" style=\"fill:#440154;\"/>\r\n    <path clip-path=\"url(#p74fc7bd7d8)\" d=\"M 55.028571 181.711931 \r\nL 102.857143 181.711931 \r\nL 102.857143 182.64515 \r\nL 55.028571 182.64515 \r\nL 55.028571 181.711931 \r\n\" style=\"fill:#fde725;\"/>\r\n    <path clip-path=\"url(#p74fc7bd7d8)\" d=\"M 102.857143 181.711931 \r\nL 150.685714 181.711931 \r\nL 150.685714 182.64515 \r\nL 102.857143 182.64515 \r\nL 102.857143 181.711931 \r\n\" style=\"fill:#fde725;\"/>\r\n    <path clip-path=\"url(#p74fc7bd7d8)\" d=\"M 150.685714 181.711931 \r\nL 198.514286 181.711931 \r\nL 198.514286 182.64515 \r\nL 150.685714 182.64515 \r\nL 150.685714 181.711931 \r\n\" style=\"fill:#fde725;\"/>\r\n    <path clip-path=\"url(#p74fc7bd7d8)\" d=\"M 198.514286 181.711931 \r\nL 246.342857 181.711931 \r\nL 246.342857 182.64515 \r\nL 198.514286 182.64515 \r\nL 198.514286 181.711931 \r\n\" style=\"fill:#fde725;\"/>\r\n    <path clip-path=\"url(#p74fc7bd7d8)\" d=\"M 246.342857 181.711931 \r\nL 294.171429 181.711931 \r\nL 294.171429 182.64515 \r\nL 246.342857 182.64515 \r\nL 246.342857 181.711931 \r\n\" style=\"fill:#fde725;\"/>\r\n    <path clip-path=\"url(#p74fc7bd7d8)\" d=\"M 294.171429 181.711931 \r\nL 342 181.711931 \r\nL 342 182.64515 \r\nL 294.171429 182.64515 \r\nL 294.171429 181.711931 \r\n\" style=\"fill:#fde725;\"/>\r\n    <path clip-path=\"url(#p74fc7bd7d8)\" d=\"M 7.2 182.64515 \r\nL 55.028571 182.64515 \r\nL 55.028571 183.578369 \r\nL 7.2 183.578369 \r\nL 7.2 182.64515 \r\n\" style=\"fill:#440154;\"/>\r\n    <path clip-path=\"url(#p74fc7bd7d8)\" d=\"M 55.028571 182.64515 \r\nL 102.857143 182.64515 \r\nL 102.857143 183.578369 \r\nL 55.028571 183.578369 \r\nL 55.028571 182.64515 \r\n\" style=\"fill:#440154;\"/>\r\n    <path clip-path=\"url(#p74fc7bd7d8)\" d=\"M 102.857143 182.64515 \r\nL 150.685714 182.64515 \r\nL 150.685714 183.578369 \r\nL 102.857143 183.578369 \r\nL 102.857143 182.64515 \r\n\" style=\"fill:#440154;\"/>\r\n    <path clip-path=\"url(#p74fc7bd7d8)\" d=\"M 150.685714 182.64515 \r\nL 198.514286 182.64515 \r\nL 198.514286 183.578369 \r\nL 150.685714 183.578369 \r\nL 150.685714 182.64515 \r\n\" style=\"fill:#440154;\"/>\r\n    <path clip-path=\"url(#p74fc7bd7d8)\" d=\"M 198.514286 182.64515 \r\nL 246.342857 182.64515 \r\nL 246.342857 183.578369 \r\nL 198.514286 183.578369 \r\nL 198.514286 182.64515 \r\n\" style=\"fill:#fde725;\"/>\r\n    <path clip-path=\"url(#p74fc7bd7d8)\" d=\"M 246.342857 182.64515 \r\nL 294.171429 182.64515 \r\nL 294.171429 183.578369 \r\nL 246.342857 183.578369 \r\nL 246.342857 182.64515 \r\n\" style=\"fill:#440154;\"/>\r\n    <path clip-path=\"url(#p74fc7bd7d8)\" d=\"M 294.171429 182.64515 \r\nL 342 182.64515 \r\nL 342 183.578369 \r\nL 294.171429 183.578369 \r\nL 294.171429 182.64515 \r\n\" style=\"fill:#440154;\"/>\r\n    <path clip-path=\"url(#p74fc7bd7d8)\" d=\"M 7.2 183.578369 \r\nL 55.028571 183.578369 \r\nL 55.028571 184.511588 \r\nL 7.2 184.511588 \r\nL 7.2 183.578369 \r\n\" style=\"fill:#440154;\"/>\r\n    <path clip-path=\"url(#p74fc7bd7d8)\" d=\"M 55.028571 183.578369 \r\nL 102.857143 183.578369 \r\nL 102.857143 184.511588 \r\nL 55.028571 184.511588 \r\nL 55.028571 183.578369 \r\n\" style=\"fill:#fde725;\"/>\r\n    <path clip-path=\"url(#p74fc7bd7d8)\" d=\"M 102.857143 183.578369 \r\nL 150.685714 183.578369 \r\nL 150.685714 184.511588 \r\nL 102.857143 184.511588 \r\nL 102.857143 183.578369 \r\n\" style=\"fill:#fde725;\"/>\r\n    <path clip-path=\"url(#p74fc7bd7d8)\" d=\"M 150.685714 183.578369 \r\nL 198.514286 183.578369 \r\nL 198.514286 184.511588 \r\nL 150.685714 184.511588 \r\nL 150.685714 183.578369 \r\n\" style=\"fill:#fde725;\"/>\r\n    <path clip-path=\"url(#p74fc7bd7d8)\" d=\"M 198.514286 183.578369 \r\nL 246.342857 183.578369 \r\nL 246.342857 184.511588 \r\nL 198.514286 184.511588 \r\nL 198.514286 183.578369 \r\n\" style=\"fill:#fde725;\"/>\r\n    <path clip-path=\"url(#p74fc7bd7d8)\" d=\"M 246.342857 183.578369 \r\nL 294.171429 183.578369 \r\nL 294.171429 184.511588 \r\nL 246.342857 184.511588 \r\nL 246.342857 183.578369 \r\n\" style=\"fill:#fde725;\"/>\r\n    <path clip-path=\"url(#p74fc7bd7d8)\" d=\"M 294.171429 183.578369 \r\nL 342 183.578369 \r\nL 342 184.511588 \r\nL 294.171429 184.511588 \r\nL 294.171429 183.578369 \r\n\" style=\"fill:#fde725;\"/>\r\n    <path clip-path=\"url(#p74fc7bd7d8)\" d=\"M 7.2 184.511588 \r\nL 55.028571 184.511588 \r\nL 55.028571 185.444807 \r\nL 7.2 185.444807 \r\nL 7.2 184.511588 \r\n\" style=\"fill:#440154;\"/>\r\n    <path clip-path=\"url(#p74fc7bd7d8)\" d=\"M 55.028571 184.511588 \r\nL 102.857143 184.511588 \r\nL 102.857143 185.444807 \r\nL 55.028571 185.444807 \r\nL 55.028571 184.511588 \r\n\" style=\"fill:#fde725;\"/>\r\n    <path clip-path=\"url(#p74fc7bd7d8)\" d=\"M 102.857143 184.511588 \r\nL 150.685714 184.511588 \r\nL 150.685714 185.444807 \r\nL 102.857143 185.444807 \r\nL 102.857143 184.511588 \r\n\" style=\"fill:#fde725;\"/>\r\n    <path clip-path=\"url(#p74fc7bd7d8)\" d=\"M 150.685714 184.511588 \r\nL 198.514286 184.511588 \r\nL 198.514286 185.444807 \r\nL 150.685714 185.444807 \r\nL 150.685714 184.511588 \r\n\" style=\"fill:#fde725;\"/>\r\n    <path clip-path=\"url(#p74fc7bd7d8)\" d=\"M 198.514286 184.511588 \r\nL 246.342857 184.511588 \r\nL 246.342857 185.444807 \r\nL 198.514286 185.444807 \r\nL 198.514286 184.511588 \r\n\" style=\"fill:#fde725;\"/>\r\n    <path clip-path=\"url(#p74fc7bd7d8)\" d=\"M 246.342857 184.511588 \r\nL 294.171429 184.511588 \r\nL 294.171429 185.444807 \r\nL 246.342857 185.444807 \r\nL 246.342857 184.511588 \r\n\" style=\"fill:#fde725;\"/>\r\n    <path clip-path=\"url(#p74fc7bd7d8)\" d=\"M 294.171429 184.511588 \r\nL 342 184.511588 \r\nL 342 185.444807 \r\nL 294.171429 185.444807 \r\nL 294.171429 184.511588 \r\n\" style=\"fill:#fde725;\"/>\r\n    <path clip-path=\"url(#p74fc7bd7d8)\" d=\"M 7.2 185.444807 \r\nL 55.028571 185.444807 \r\nL 55.028571 186.378026 \r\nL 7.2 186.378026 \r\nL 7.2 185.444807 \r\n\" style=\"fill:#440154;\"/>\r\n    <path clip-path=\"url(#p74fc7bd7d8)\" d=\"M 55.028571 185.444807 \r\nL 102.857143 185.444807 \r\nL 102.857143 186.378026 \r\nL 55.028571 186.378026 \r\nL 55.028571 185.444807 \r\n\" style=\"fill:#440154;\"/>\r\n    <path clip-path=\"url(#p74fc7bd7d8)\" d=\"M 102.857143 185.444807 \r\nL 150.685714 185.444807 \r\nL 150.685714 186.378026 \r\nL 102.857143 186.378026 \r\nL 102.857143 185.444807 \r\n\" style=\"fill:#440154;\"/>\r\n    <path clip-path=\"url(#p74fc7bd7d8)\" d=\"M 150.685714 185.444807 \r\nL 198.514286 185.444807 \r\nL 198.514286 186.378026 \r\nL 150.685714 186.378026 \r\nL 150.685714 185.444807 \r\n\" style=\"fill:#440154;\"/>\r\n    <path clip-path=\"url(#p74fc7bd7d8)\" d=\"M 198.514286 185.444807 \r\nL 246.342857 185.444807 \r\nL 246.342857 186.378026 \r\nL 198.514286 186.378026 \r\nL 198.514286 185.444807 \r\n\" style=\"fill:#440154;\"/>\r\n    <path clip-path=\"url(#p74fc7bd7d8)\" d=\"M 246.342857 185.444807 \r\nL 294.171429 185.444807 \r\nL 294.171429 186.378026 \r\nL 246.342857 186.378026 \r\nL 246.342857 185.444807 \r\n\" style=\"fill:#440154;\"/>\r\n    <path clip-path=\"url(#p74fc7bd7d8)\" d=\"M 294.171429 185.444807 \r\nL 342 185.444807 \r\nL 342 186.378026 \r\nL 294.171429 186.378026 \r\nL 294.171429 185.444807 \r\n\" style=\"fill:#440154;\"/>\r\n    <path clip-path=\"url(#p74fc7bd7d8)\" d=\"M 7.2 186.378026 \r\nL 55.028571 186.378026 \r\nL 55.028571 187.311245 \r\nL 7.2 187.311245 \r\nL 7.2 186.378026 \r\n\" style=\"fill:#440154;\"/>\r\n    <path clip-path=\"url(#p74fc7bd7d8)\" d=\"M 55.028571 186.378026 \r\nL 102.857143 186.378026 \r\nL 102.857143 187.311245 \r\nL 55.028571 187.311245 \r\nL 55.028571 186.378026 \r\n\" style=\"fill:#440154;\"/>\r\n    <path clip-path=\"url(#p74fc7bd7d8)\" d=\"M 102.857143 186.378026 \r\nL 150.685714 186.378026 \r\nL 150.685714 187.311245 \r\nL 102.857143 187.311245 \r\nL 102.857143 186.378026 \r\n\" style=\"fill:#440154;\"/>\r\n    <path clip-path=\"url(#p74fc7bd7d8)\" d=\"M 150.685714 186.378026 \r\nL 198.514286 186.378026 \r\nL 198.514286 187.311245 \r\nL 150.685714 187.311245 \r\nL 150.685714 186.378026 \r\n\" style=\"fill:#440154;\"/>\r\n    <path clip-path=\"url(#p74fc7bd7d8)\" d=\"M 198.514286 186.378026 \r\nL 246.342857 186.378026 \r\nL 246.342857 187.311245 \r\nL 198.514286 187.311245 \r\nL 198.514286 186.378026 \r\n\" style=\"fill:#440154;\"/>\r\n    <path clip-path=\"url(#p74fc7bd7d8)\" d=\"M 246.342857 186.378026 \r\nL 294.171429 186.378026 \r\nL 294.171429 187.311245 \r\nL 246.342857 187.311245 \r\nL 246.342857 186.378026 \r\n\" style=\"fill:#440154;\"/>\r\n    <path clip-path=\"url(#p74fc7bd7d8)\" d=\"M 294.171429 186.378026 \r\nL 342 186.378026 \r\nL 342 187.311245 \r\nL 294.171429 187.311245 \r\nL 294.171429 186.378026 \r\n\" style=\"fill:#fde725;\"/>\r\n    <path clip-path=\"url(#p74fc7bd7d8)\" d=\"M 7.2 187.311245 \r\nL 55.028571 187.311245 \r\nL 55.028571 188.244464 \r\nL 7.2 188.244464 \r\nL 7.2 187.311245 \r\n\" style=\"fill:#440154;\"/>\r\n    <path clip-path=\"url(#p74fc7bd7d8)\" d=\"M 55.028571 187.311245 \r\nL 102.857143 187.311245 \r\nL 102.857143 188.244464 \r\nL 55.028571 188.244464 \r\nL 55.028571 187.311245 \r\n\" style=\"fill:#fde725;\"/>\r\n    <path clip-path=\"url(#p74fc7bd7d8)\" d=\"M 102.857143 187.311245 \r\nL 150.685714 187.311245 \r\nL 150.685714 188.244464 \r\nL 102.857143 188.244464 \r\nL 102.857143 187.311245 \r\n\" style=\"fill:#fde725;\"/>\r\n    <path clip-path=\"url(#p74fc7bd7d8)\" d=\"M 150.685714 187.311245 \r\nL 198.514286 187.311245 \r\nL 198.514286 188.244464 \r\nL 150.685714 188.244464 \r\nL 150.685714 187.311245 \r\n\" style=\"fill:#fde725;\"/>\r\n    <path clip-path=\"url(#p74fc7bd7d8)\" d=\"M 198.514286 187.311245 \r\nL 246.342857 187.311245 \r\nL 246.342857 188.244464 \r\nL 198.514286 188.244464 \r\nL 198.514286 187.311245 \r\n\" style=\"fill:#fde725;\"/>\r\n    <path clip-path=\"url(#p74fc7bd7d8)\" d=\"M 246.342857 187.311245 \r\nL 294.171429 187.311245 \r\nL 294.171429 188.244464 \r\nL 246.342857 188.244464 \r\nL 246.342857 187.311245 \r\n\" style=\"fill:#fde725;\"/>\r\n    <path clip-path=\"url(#p74fc7bd7d8)\" d=\"M 294.171429 187.311245 \r\nL 342 187.311245 \r\nL 342 188.244464 \r\nL 294.171429 188.244464 \r\nL 294.171429 187.311245 \r\n\" style=\"fill:#fde725;\"/>\r\n    <path clip-path=\"url(#p74fc7bd7d8)\" d=\"M 7.2 188.244464 \r\nL 55.028571 188.244464 \r\nL 55.028571 189.177682 \r\nL 7.2 189.177682 \r\nL 7.2 188.244464 \r\n\" style=\"fill:#440154;\"/>\r\n    <path clip-path=\"url(#p74fc7bd7d8)\" d=\"M 55.028571 188.244464 \r\nL 102.857143 188.244464 \r\nL 102.857143 189.177682 \r\nL 55.028571 189.177682 \r\nL 55.028571 188.244464 \r\n\" style=\"fill:#440154;\"/>\r\n    <path clip-path=\"url(#p74fc7bd7d8)\" d=\"M 102.857143 188.244464 \r\nL 150.685714 188.244464 \r\nL 150.685714 189.177682 \r\nL 102.857143 189.177682 \r\nL 102.857143 188.244464 \r\n\" style=\"fill:#440154;\"/>\r\n    <path clip-path=\"url(#p74fc7bd7d8)\" d=\"M 150.685714 188.244464 \r\nL 198.514286 188.244464 \r\nL 198.514286 189.177682 \r\nL 150.685714 189.177682 \r\nL 150.685714 188.244464 \r\n\" style=\"fill:#440154;\"/>\r\n    <path clip-path=\"url(#p74fc7bd7d8)\" d=\"M 198.514286 188.244464 \r\nL 246.342857 188.244464 \r\nL 246.342857 189.177682 \r\nL 198.514286 189.177682 \r\nL 198.514286 188.244464 \r\n\" style=\"fill:#440154;\"/>\r\n    <path clip-path=\"url(#p74fc7bd7d8)\" d=\"M 246.342857 188.244464 \r\nL 294.171429 188.244464 \r\nL 294.171429 189.177682 \r\nL 246.342857 189.177682 \r\nL 246.342857 188.244464 \r\n\" style=\"fill:#440154;\"/>\r\n    <path clip-path=\"url(#p74fc7bd7d8)\" d=\"M 294.171429 188.244464 \r\nL 342 188.244464 \r\nL 342 189.177682 \r\nL 294.171429 189.177682 \r\nL 294.171429 188.244464 \r\n\" style=\"fill:#440154;\"/>\r\n    <path clip-path=\"url(#p74fc7bd7d8)\" d=\"M 7.2 189.177682 \r\nL 55.028571 189.177682 \r\nL 55.028571 190.110901 \r\nL 7.2 190.110901 \r\nL 7.2 189.177682 \r\n\" style=\"fill:#440154;\"/>\r\n    <path clip-path=\"url(#p74fc7bd7d8)\" d=\"M 55.028571 189.177682 \r\nL 102.857143 189.177682 \r\nL 102.857143 190.110901 \r\nL 55.028571 190.110901 \r\nL 55.028571 189.177682 \r\n\" style=\"fill:#440154;\"/>\r\n    <path clip-path=\"url(#p74fc7bd7d8)\" d=\"M 102.857143 189.177682 \r\nL 150.685714 189.177682 \r\nL 150.685714 190.110901 \r\nL 102.857143 190.110901 \r\nL 102.857143 189.177682 \r\n\" style=\"fill:#440154;\"/>\r\n    <path clip-path=\"url(#p74fc7bd7d8)\" d=\"M 150.685714 189.177682 \r\nL 198.514286 189.177682 \r\nL 198.514286 190.110901 \r\nL 150.685714 190.110901 \r\nL 150.685714 189.177682 \r\n\" style=\"fill:#440154;\"/>\r\n    <path clip-path=\"url(#p74fc7bd7d8)\" d=\"M 198.514286 189.177682 \r\nL 246.342857 189.177682 \r\nL 246.342857 190.110901 \r\nL 198.514286 190.110901 \r\nL 198.514286 189.177682 \r\n\" style=\"fill:#440154;\"/>\r\n    <path clip-path=\"url(#p74fc7bd7d8)\" d=\"M 246.342857 189.177682 \r\nL 294.171429 189.177682 \r\nL 294.171429 190.110901 \r\nL 246.342857 190.110901 \r\nL 246.342857 189.177682 \r\n\" style=\"fill:#440154;\"/>\r\n    <path clip-path=\"url(#p74fc7bd7d8)\" d=\"M 294.171429 189.177682 \r\nL 342 189.177682 \r\nL 342 190.110901 \r\nL 294.171429 190.110901 \r\nL 294.171429 189.177682 \r\n\" style=\"fill:#fde725;\"/>\r\n    <path clip-path=\"url(#p74fc7bd7d8)\" d=\"M 7.2 190.110901 \r\nL 55.028571 190.110901 \r\nL 55.028571 191.04412 \r\nL 7.2 191.04412 \r\nL 7.2 190.110901 \r\n\" style=\"fill:#440154;\"/>\r\n    <path clip-path=\"url(#p74fc7bd7d8)\" d=\"M 55.028571 190.110901 \r\nL 102.857143 190.110901 \r\nL 102.857143 191.04412 \r\nL 55.028571 191.04412 \r\nL 55.028571 190.110901 \r\n\" style=\"fill:#440154;\"/>\r\n    <path clip-path=\"url(#p74fc7bd7d8)\" d=\"M 102.857143 190.110901 \r\nL 150.685714 190.110901 \r\nL 150.685714 191.04412 \r\nL 102.857143 191.04412 \r\nL 102.857143 190.110901 \r\n\" style=\"fill:#440154;\"/>\r\n    <path clip-path=\"url(#p74fc7bd7d8)\" d=\"M 150.685714 190.110901 \r\nL 198.514286 190.110901 \r\nL 198.514286 191.04412 \r\nL 150.685714 191.04412 \r\nL 150.685714 190.110901 \r\n\" style=\"fill:#440154;\"/>\r\n    <path clip-path=\"url(#p74fc7bd7d8)\" d=\"M 198.514286 190.110901 \r\nL 246.342857 190.110901 \r\nL 246.342857 191.04412 \r\nL 198.514286 191.04412 \r\nL 198.514286 190.110901 \r\n\" style=\"fill:#440154;\"/>\r\n    <path clip-path=\"url(#p74fc7bd7d8)\" d=\"M 246.342857 190.110901 \r\nL 294.171429 190.110901 \r\nL 294.171429 191.04412 \r\nL 246.342857 191.04412 \r\nL 246.342857 190.110901 \r\n\" style=\"fill:#440154;\"/>\r\n    <path clip-path=\"url(#p74fc7bd7d8)\" d=\"M 294.171429 190.110901 \r\nL 342 190.110901 \r\nL 342 191.04412 \r\nL 294.171429 191.04412 \r\nL 294.171429 190.110901 \r\n\" style=\"fill:#440154;\"/>\r\n    <path clip-path=\"url(#p74fc7bd7d8)\" d=\"M 7.2 191.04412 \r\nL 55.028571 191.04412 \r\nL 55.028571 191.977339 \r\nL 7.2 191.977339 \r\nL 7.2 191.04412 \r\n\" style=\"fill:#440154;\"/>\r\n    <path clip-path=\"url(#p74fc7bd7d8)\" d=\"M 55.028571 191.04412 \r\nL 102.857143 191.04412 \r\nL 102.857143 191.977339 \r\nL 55.028571 191.977339 \r\nL 55.028571 191.04412 \r\n\" style=\"fill:#440154;\"/>\r\n    <path clip-path=\"url(#p74fc7bd7d8)\" d=\"M 102.857143 191.04412 \r\nL 150.685714 191.04412 \r\nL 150.685714 191.977339 \r\nL 102.857143 191.977339 \r\nL 102.857143 191.04412 \r\n\" style=\"fill:#440154;\"/>\r\n    <path clip-path=\"url(#p74fc7bd7d8)\" d=\"M 150.685714 191.04412 \r\nL 198.514286 191.04412 \r\nL 198.514286 191.977339 \r\nL 150.685714 191.977339 \r\nL 150.685714 191.04412 \r\n\" style=\"fill:#440154;\"/>\r\n    <path clip-path=\"url(#p74fc7bd7d8)\" d=\"M 198.514286 191.04412 \r\nL 246.342857 191.04412 \r\nL 246.342857 191.977339 \r\nL 198.514286 191.977339 \r\nL 198.514286 191.04412 \r\n\" style=\"fill:#440154;\"/>\r\n    <path clip-path=\"url(#p74fc7bd7d8)\" d=\"M 246.342857 191.04412 \r\nL 294.171429 191.04412 \r\nL 294.171429 191.977339 \r\nL 246.342857 191.977339 \r\nL 246.342857 191.04412 \r\n\" style=\"fill:#440154;\"/>\r\n    <path clip-path=\"url(#p74fc7bd7d8)\" d=\"M 294.171429 191.04412 \r\nL 342 191.04412 \r\nL 342 191.977339 \r\nL 294.171429 191.977339 \r\nL 294.171429 191.04412 \r\n\" style=\"fill:#440154;\"/>\r\n    <path clip-path=\"url(#p74fc7bd7d8)\" d=\"M 7.2 191.977339 \r\nL 55.028571 191.977339 \r\nL 55.028571 192.910558 \r\nL 7.2 192.910558 \r\nL 7.2 191.977339 \r\n\" style=\"fill:#440154;\"/>\r\n    <path clip-path=\"url(#p74fc7bd7d8)\" d=\"M 55.028571 191.977339 \r\nL 102.857143 191.977339 \r\nL 102.857143 192.910558 \r\nL 55.028571 192.910558 \r\nL 55.028571 191.977339 \r\n\" style=\"fill:#440154;\"/>\r\n    <path clip-path=\"url(#p74fc7bd7d8)\" d=\"M 102.857143 191.977339 \r\nL 150.685714 191.977339 \r\nL 150.685714 192.910558 \r\nL 102.857143 192.910558 \r\nL 102.857143 191.977339 \r\n\" style=\"fill:#440154;\"/>\r\n    <path clip-path=\"url(#p74fc7bd7d8)\" d=\"M 150.685714 191.977339 \r\nL 198.514286 191.977339 \r\nL 198.514286 192.910558 \r\nL 150.685714 192.910558 \r\nL 150.685714 191.977339 \r\n\" style=\"fill:#440154;\"/>\r\n    <path clip-path=\"url(#p74fc7bd7d8)\" d=\"M 198.514286 191.977339 \r\nL 246.342857 191.977339 \r\nL 246.342857 192.910558 \r\nL 198.514286 192.910558 \r\nL 198.514286 191.977339 \r\n\" style=\"fill:#440154;\"/>\r\n    <path clip-path=\"url(#p74fc7bd7d8)\" d=\"M 246.342857 191.977339 \r\nL 294.171429 191.977339 \r\nL 294.171429 192.910558 \r\nL 246.342857 192.910558 \r\nL 246.342857 191.977339 \r\n\" style=\"fill:#440154;\"/>\r\n    <path clip-path=\"url(#p74fc7bd7d8)\" d=\"M 294.171429 191.977339 \r\nL 342 191.977339 \r\nL 342 192.910558 \r\nL 294.171429 192.910558 \r\nL 294.171429 191.977339 \r\n\" style=\"fill:#fde725;\"/>\r\n    <path clip-path=\"url(#p74fc7bd7d8)\" d=\"M 7.2 192.910558 \r\nL 55.028571 192.910558 \r\nL 55.028571 193.843777 \r\nL 7.2 193.843777 \r\nL 7.2 192.910558 \r\n\" style=\"fill:#440154;\"/>\r\n    <path clip-path=\"url(#p74fc7bd7d8)\" d=\"M 55.028571 192.910558 \r\nL 102.857143 192.910558 \r\nL 102.857143 193.843777 \r\nL 55.028571 193.843777 \r\nL 55.028571 192.910558 \r\n\" style=\"fill:#fde725;\"/>\r\n    <path clip-path=\"url(#p74fc7bd7d8)\" d=\"M 102.857143 192.910558 \r\nL 150.685714 192.910558 \r\nL 150.685714 193.843777 \r\nL 102.857143 193.843777 \r\nL 102.857143 192.910558 \r\n\" style=\"fill:#fde725;\"/>\r\n    <path clip-path=\"url(#p74fc7bd7d8)\" d=\"M 150.685714 192.910558 \r\nL 198.514286 192.910558 \r\nL 198.514286 193.843777 \r\nL 150.685714 193.843777 \r\nL 150.685714 192.910558 \r\n\" style=\"fill:#fde725;\"/>\r\n    <path clip-path=\"url(#p74fc7bd7d8)\" d=\"M 198.514286 192.910558 \r\nL 246.342857 192.910558 \r\nL 246.342857 193.843777 \r\nL 198.514286 193.843777 \r\nL 198.514286 192.910558 \r\n\" style=\"fill:#fde725;\"/>\r\n    <path clip-path=\"url(#p74fc7bd7d8)\" d=\"M 246.342857 192.910558 \r\nL 294.171429 192.910558 \r\nL 294.171429 193.843777 \r\nL 246.342857 193.843777 \r\nL 246.342857 192.910558 \r\n\" style=\"fill:#fde725;\"/>\r\n    <path clip-path=\"url(#p74fc7bd7d8)\" d=\"M 294.171429 192.910558 \r\nL 342 192.910558 \r\nL 342 193.843777 \r\nL 294.171429 193.843777 \r\nL 294.171429 192.910558 \r\n\" style=\"fill:#fde725;\"/>\r\n    <path clip-path=\"url(#p74fc7bd7d8)\" d=\"M 7.2 193.843777 \r\nL 55.028571 193.843777 \r\nL 55.028571 194.776996 \r\nL 7.2 194.776996 \r\nL 7.2 193.843777 \r\n\" style=\"fill:#440154;\"/>\r\n    <path clip-path=\"url(#p74fc7bd7d8)\" d=\"M 55.028571 193.843777 \r\nL 102.857143 193.843777 \r\nL 102.857143 194.776996 \r\nL 55.028571 194.776996 \r\nL 55.028571 193.843777 \r\n\" style=\"fill:#440154;\"/>\r\n    <path clip-path=\"url(#p74fc7bd7d8)\" d=\"M 102.857143 193.843777 \r\nL 150.685714 193.843777 \r\nL 150.685714 194.776996 \r\nL 102.857143 194.776996 \r\nL 102.857143 193.843777 \r\n\" style=\"fill:#440154;\"/>\r\n    <path clip-path=\"url(#p74fc7bd7d8)\" d=\"M 150.685714 193.843777 \r\nL 198.514286 193.843777 \r\nL 198.514286 194.776996 \r\nL 150.685714 194.776996 \r\nL 150.685714 193.843777 \r\n\" style=\"fill:#440154;\"/>\r\n    <path clip-path=\"url(#p74fc7bd7d8)\" d=\"M 198.514286 193.843777 \r\nL 246.342857 193.843777 \r\nL 246.342857 194.776996 \r\nL 198.514286 194.776996 \r\nL 198.514286 193.843777 \r\n\" style=\"fill:#440154;\"/>\r\n    <path clip-path=\"url(#p74fc7bd7d8)\" d=\"M 246.342857 193.843777 \r\nL 294.171429 193.843777 \r\nL 294.171429 194.776996 \r\nL 246.342857 194.776996 \r\nL 246.342857 193.843777 \r\n\" style=\"fill:#440154;\"/>\r\n    <path clip-path=\"url(#p74fc7bd7d8)\" d=\"M 294.171429 193.843777 \r\nL 342 193.843777 \r\nL 342 194.776996 \r\nL 294.171429 194.776996 \r\nL 294.171429 193.843777 \r\n\" style=\"fill:#fde725;\"/>\r\n    <path clip-path=\"url(#p74fc7bd7d8)\" d=\"M 7.2 194.776996 \r\nL 55.028571 194.776996 \r\nL 55.028571 195.710215 \r\nL 7.2 195.710215 \r\nL 7.2 194.776996 \r\n\" style=\"fill:#440154;\"/>\r\n    <path clip-path=\"url(#p74fc7bd7d8)\" d=\"M 55.028571 194.776996 \r\nL 102.857143 194.776996 \r\nL 102.857143 195.710215 \r\nL 55.028571 195.710215 \r\nL 55.028571 194.776996 \r\n\" style=\"fill:#440154;\"/>\r\n    <path clip-path=\"url(#p74fc7bd7d8)\" d=\"M 102.857143 194.776996 \r\nL 150.685714 194.776996 \r\nL 150.685714 195.710215 \r\nL 102.857143 195.710215 \r\nL 102.857143 194.776996 \r\n\" style=\"fill:#440154;\"/>\r\n    <path clip-path=\"url(#p74fc7bd7d8)\" d=\"M 150.685714 194.776996 \r\nL 198.514286 194.776996 \r\nL 198.514286 195.710215 \r\nL 150.685714 195.710215 \r\nL 150.685714 194.776996 \r\n\" style=\"fill:#440154;\"/>\r\n    <path clip-path=\"url(#p74fc7bd7d8)\" d=\"M 198.514286 194.776996 \r\nL 246.342857 194.776996 \r\nL 246.342857 195.710215 \r\nL 198.514286 195.710215 \r\nL 198.514286 194.776996 \r\n\" style=\"fill:#440154;\"/>\r\n    <path clip-path=\"url(#p74fc7bd7d8)\" d=\"M 246.342857 194.776996 \r\nL 294.171429 194.776996 \r\nL 294.171429 195.710215 \r\nL 246.342857 195.710215 \r\nL 246.342857 194.776996 \r\n\" style=\"fill:#440154;\"/>\r\n    <path clip-path=\"url(#p74fc7bd7d8)\" d=\"M 294.171429 194.776996 \r\nL 342 194.776996 \r\nL 342 195.710215 \r\nL 294.171429 195.710215 \r\nL 294.171429 194.776996 \r\n\" style=\"fill:#440154;\"/>\r\n    <path clip-path=\"url(#p74fc7bd7d8)\" d=\"M 7.2 195.710215 \r\nL 55.028571 195.710215 \r\nL 55.028571 196.643433 \r\nL 7.2 196.643433 \r\nL 7.2 195.710215 \r\n\" style=\"fill:#440154;\"/>\r\n    <path clip-path=\"url(#p74fc7bd7d8)\" d=\"M 55.028571 195.710215 \r\nL 102.857143 195.710215 \r\nL 102.857143 196.643433 \r\nL 55.028571 196.643433 \r\nL 55.028571 195.710215 \r\n\" style=\"fill:#440154;\"/>\r\n    <path clip-path=\"url(#p74fc7bd7d8)\" d=\"M 102.857143 195.710215 \r\nL 150.685714 195.710215 \r\nL 150.685714 196.643433 \r\nL 102.857143 196.643433 \r\nL 102.857143 195.710215 \r\n\" style=\"fill:#440154;\"/>\r\n    <path clip-path=\"url(#p74fc7bd7d8)\" d=\"M 150.685714 195.710215 \r\nL 198.514286 195.710215 \r\nL 198.514286 196.643433 \r\nL 150.685714 196.643433 \r\nL 150.685714 195.710215 \r\n\" style=\"fill:#440154;\"/>\r\n    <path clip-path=\"url(#p74fc7bd7d8)\" d=\"M 198.514286 195.710215 \r\nL 246.342857 195.710215 \r\nL 246.342857 196.643433 \r\nL 198.514286 196.643433 \r\nL 198.514286 195.710215 \r\n\" style=\"fill:#440154;\"/>\r\n    <path clip-path=\"url(#p74fc7bd7d8)\" d=\"M 246.342857 195.710215 \r\nL 294.171429 195.710215 \r\nL 294.171429 196.643433 \r\nL 246.342857 196.643433 \r\nL 246.342857 195.710215 \r\n\" style=\"fill:#440154;\"/>\r\n    <path clip-path=\"url(#p74fc7bd7d8)\" d=\"M 294.171429 195.710215 \r\nL 342 195.710215 \r\nL 342 196.643433 \r\nL 294.171429 196.643433 \r\nL 294.171429 195.710215 \r\n\" style=\"fill:#fde725;\"/>\r\n    <path clip-path=\"url(#p74fc7bd7d8)\" d=\"M 7.2 196.643433 \r\nL 55.028571 196.643433 \r\nL 55.028571 197.576652 \r\nL 7.2 197.576652 \r\nL 7.2 196.643433 \r\n\" style=\"fill:#440154;\"/>\r\n    <path clip-path=\"url(#p74fc7bd7d8)\" d=\"M 55.028571 196.643433 \r\nL 102.857143 196.643433 \r\nL 102.857143 197.576652 \r\nL 55.028571 197.576652 \r\nL 55.028571 196.643433 \r\n\" style=\"fill:#440154;\"/>\r\n    <path clip-path=\"url(#p74fc7bd7d8)\" d=\"M 102.857143 196.643433 \r\nL 150.685714 196.643433 \r\nL 150.685714 197.576652 \r\nL 102.857143 197.576652 \r\nL 102.857143 196.643433 \r\n\" style=\"fill:#440154;\"/>\r\n    <path clip-path=\"url(#p74fc7bd7d8)\" d=\"M 150.685714 196.643433 \r\nL 198.514286 196.643433 \r\nL 198.514286 197.576652 \r\nL 150.685714 197.576652 \r\nL 150.685714 196.643433 \r\n\" style=\"fill:#440154;\"/>\r\n    <path clip-path=\"url(#p74fc7bd7d8)\" d=\"M 198.514286 196.643433 \r\nL 246.342857 196.643433 \r\nL 246.342857 197.576652 \r\nL 198.514286 197.576652 \r\nL 198.514286 196.643433 \r\n\" style=\"fill:#fde725;\"/>\r\n    <path clip-path=\"url(#p74fc7bd7d8)\" d=\"M 246.342857 196.643433 \r\nL 294.171429 196.643433 \r\nL 294.171429 197.576652 \r\nL 246.342857 197.576652 \r\nL 246.342857 196.643433 \r\n\" style=\"fill:#440154;\"/>\r\n    <path clip-path=\"url(#p74fc7bd7d8)\" d=\"M 294.171429 196.643433 \r\nL 342 196.643433 \r\nL 342 197.576652 \r\nL 294.171429 197.576652 \r\nL 294.171429 196.643433 \r\n\" style=\"fill:#440154;\"/>\r\n    <path clip-path=\"url(#p74fc7bd7d8)\" d=\"M 7.2 197.576652 \r\nL 55.028571 197.576652 \r\nL 55.028571 198.509871 \r\nL 7.2 198.509871 \r\nL 7.2 197.576652 \r\n\" style=\"fill:#440154;\"/>\r\n    <path clip-path=\"url(#p74fc7bd7d8)\" d=\"M 55.028571 197.576652 \r\nL 102.857143 197.576652 \r\nL 102.857143 198.509871 \r\nL 55.028571 198.509871 \r\nL 55.028571 197.576652 \r\n\" style=\"fill:#440154;\"/>\r\n    <path clip-path=\"url(#p74fc7bd7d8)\" d=\"M 102.857143 197.576652 \r\nL 150.685714 197.576652 \r\nL 150.685714 198.509871 \r\nL 102.857143 198.509871 \r\nL 102.857143 197.576652 \r\n\" style=\"fill:#440154;\"/>\r\n    <path clip-path=\"url(#p74fc7bd7d8)\" d=\"M 150.685714 197.576652 \r\nL 198.514286 197.576652 \r\nL 198.514286 198.509871 \r\nL 150.685714 198.509871 \r\nL 150.685714 197.576652 \r\n\" style=\"fill:#440154;\"/>\r\n    <path clip-path=\"url(#p74fc7bd7d8)\" d=\"M 198.514286 197.576652 \r\nL 246.342857 197.576652 \r\nL 246.342857 198.509871 \r\nL 198.514286 198.509871 \r\nL 198.514286 197.576652 \r\n\" style=\"fill:#440154;\"/>\r\n    <path clip-path=\"url(#p74fc7bd7d8)\" d=\"M 246.342857 197.576652 \r\nL 294.171429 197.576652 \r\nL 294.171429 198.509871 \r\nL 246.342857 198.509871 \r\nL 246.342857 197.576652 \r\n\" style=\"fill:#440154;\"/>\r\n    <path clip-path=\"url(#p74fc7bd7d8)\" d=\"M 294.171429 197.576652 \r\nL 342 197.576652 \r\nL 342 198.509871 \r\nL 294.171429 198.509871 \r\nL 294.171429 197.576652 \r\n\" style=\"fill:#fde725;\"/>\r\n    <path clip-path=\"url(#p74fc7bd7d8)\" d=\"M 7.2 198.509871 \r\nL 55.028571 198.509871 \r\nL 55.028571 199.44309 \r\nL 7.2 199.44309 \r\nL 7.2 198.509871 \r\n\" style=\"fill:#440154;\"/>\r\n    <path clip-path=\"url(#p74fc7bd7d8)\" d=\"M 55.028571 198.509871 \r\nL 102.857143 198.509871 \r\nL 102.857143 199.44309 \r\nL 55.028571 199.44309 \r\nL 55.028571 198.509871 \r\n\" style=\"fill:#440154;\"/>\r\n    <path clip-path=\"url(#p74fc7bd7d8)\" d=\"M 102.857143 198.509871 \r\nL 150.685714 198.509871 \r\nL 150.685714 199.44309 \r\nL 102.857143 199.44309 \r\nL 102.857143 198.509871 \r\n\" style=\"fill:#440154;\"/>\r\n    <path clip-path=\"url(#p74fc7bd7d8)\" d=\"M 150.685714 198.509871 \r\nL 198.514286 198.509871 \r\nL 198.514286 199.44309 \r\nL 150.685714 199.44309 \r\nL 150.685714 198.509871 \r\n\" style=\"fill:#440154;\"/>\r\n    <path clip-path=\"url(#p74fc7bd7d8)\" d=\"M 198.514286 198.509871 \r\nL 246.342857 198.509871 \r\nL 246.342857 199.44309 \r\nL 198.514286 199.44309 \r\nL 198.514286 198.509871 \r\n\" style=\"fill:#fde725;\"/>\r\n    <path clip-path=\"url(#p74fc7bd7d8)\" d=\"M 246.342857 198.509871 \r\nL 294.171429 198.509871 \r\nL 294.171429 199.44309 \r\nL 246.342857 199.44309 \r\nL 246.342857 198.509871 \r\n\" style=\"fill:#440154;\"/>\r\n    <path clip-path=\"url(#p74fc7bd7d8)\" d=\"M 294.171429 198.509871 \r\nL 342 198.509871 \r\nL 342 199.44309 \r\nL 294.171429 199.44309 \r\nL 294.171429 198.509871 \r\n\" style=\"fill:#440154;\"/>\r\n    <path clip-path=\"url(#p74fc7bd7d8)\" d=\"M 7.2 199.44309 \r\nL 55.028571 199.44309 \r\nL 55.028571 200.376309 \r\nL 7.2 200.376309 \r\nL 7.2 199.44309 \r\n\" style=\"fill:#440154;\"/>\r\n    <path clip-path=\"url(#p74fc7bd7d8)\" d=\"M 55.028571 199.44309 \r\nL 102.857143 199.44309 \r\nL 102.857143 200.376309 \r\nL 55.028571 200.376309 \r\nL 55.028571 199.44309 \r\n\" style=\"fill:#440154;\"/>\r\n    <path clip-path=\"url(#p74fc7bd7d8)\" d=\"M 102.857143 199.44309 \r\nL 150.685714 199.44309 \r\nL 150.685714 200.376309 \r\nL 102.857143 200.376309 \r\nL 102.857143 199.44309 \r\n\" style=\"fill:#440154;\"/>\r\n    <path clip-path=\"url(#p74fc7bd7d8)\" d=\"M 150.685714 199.44309 \r\nL 198.514286 199.44309 \r\nL 198.514286 200.376309 \r\nL 150.685714 200.376309 \r\nL 150.685714 199.44309 \r\n\" style=\"fill:#440154;\"/>\r\n    <path clip-path=\"url(#p74fc7bd7d8)\" d=\"M 198.514286 199.44309 \r\nL 246.342857 199.44309 \r\nL 246.342857 200.376309 \r\nL 198.514286 200.376309 \r\nL 198.514286 199.44309 \r\n\" style=\"fill:#440154;\"/>\r\n    <path clip-path=\"url(#p74fc7bd7d8)\" d=\"M 246.342857 199.44309 \r\nL 294.171429 199.44309 \r\nL 294.171429 200.376309 \r\nL 246.342857 200.376309 \r\nL 246.342857 199.44309 \r\n\" style=\"fill:#440154;\"/>\r\n    <path clip-path=\"url(#p74fc7bd7d8)\" d=\"M 294.171429 199.44309 \r\nL 342 199.44309 \r\nL 342 200.376309 \r\nL 294.171429 200.376309 \r\nL 294.171429 199.44309 \r\n\" style=\"fill:#440154;\"/>\r\n    <path clip-path=\"url(#p74fc7bd7d8)\" d=\"M 7.2 200.376309 \r\nL 55.028571 200.376309 \r\nL 55.028571 201.309528 \r\nL 7.2 201.309528 \r\nL 7.2 200.376309 \r\n\" style=\"fill:#440154;\"/>\r\n    <path clip-path=\"url(#p74fc7bd7d8)\" d=\"M 55.028571 200.376309 \r\nL 102.857143 200.376309 \r\nL 102.857143 201.309528 \r\nL 55.028571 201.309528 \r\nL 55.028571 200.376309 \r\n\" style=\"fill:#440154;\"/>\r\n    <path clip-path=\"url(#p74fc7bd7d8)\" d=\"M 102.857143 200.376309 \r\nL 150.685714 200.376309 \r\nL 150.685714 201.309528 \r\nL 102.857143 201.309528 \r\nL 102.857143 200.376309 \r\n\" style=\"fill:#440154;\"/>\r\n    <path clip-path=\"url(#p74fc7bd7d8)\" d=\"M 150.685714 200.376309 \r\nL 198.514286 200.376309 \r\nL 198.514286 201.309528 \r\nL 150.685714 201.309528 \r\nL 150.685714 200.376309 \r\n\" style=\"fill:#440154;\"/>\r\n    <path clip-path=\"url(#p74fc7bd7d8)\" d=\"M 198.514286 200.376309 \r\nL 246.342857 200.376309 \r\nL 246.342857 201.309528 \r\nL 198.514286 201.309528 \r\nL 198.514286 200.376309 \r\n\" style=\"fill:#fde725;\"/>\r\n    <path clip-path=\"url(#p74fc7bd7d8)\" d=\"M 246.342857 200.376309 \r\nL 294.171429 200.376309 \r\nL 294.171429 201.309528 \r\nL 246.342857 201.309528 \r\nL 246.342857 200.376309 \r\n\" style=\"fill:#440154;\"/>\r\n    <path clip-path=\"url(#p74fc7bd7d8)\" d=\"M 294.171429 200.376309 \r\nL 342 200.376309 \r\nL 342 201.309528 \r\nL 294.171429 201.309528 \r\nL 294.171429 200.376309 \r\n\" style=\"fill:#440154;\"/>\r\n    <path clip-path=\"url(#p74fc7bd7d8)\" d=\"M 7.2 201.309528 \r\nL 55.028571 201.309528 \r\nL 55.028571 202.242747 \r\nL 7.2 202.242747 \r\nL 7.2 201.309528 \r\n\" style=\"fill:#440154;\"/>\r\n    <path clip-path=\"url(#p74fc7bd7d8)\" d=\"M 55.028571 201.309528 \r\nL 102.857143 201.309528 \r\nL 102.857143 202.242747 \r\nL 55.028571 202.242747 \r\nL 55.028571 201.309528 \r\n\" style=\"fill:#440154;\"/>\r\n    <path clip-path=\"url(#p74fc7bd7d8)\" d=\"M 102.857143 201.309528 \r\nL 150.685714 201.309528 \r\nL 150.685714 202.242747 \r\nL 102.857143 202.242747 \r\nL 102.857143 201.309528 \r\n\" style=\"fill:#440154;\"/>\r\n    <path clip-path=\"url(#p74fc7bd7d8)\" d=\"M 150.685714 201.309528 \r\nL 198.514286 201.309528 \r\nL 198.514286 202.242747 \r\nL 150.685714 202.242747 \r\nL 150.685714 201.309528 \r\n\" style=\"fill:#440154;\"/>\r\n    <path clip-path=\"url(#p74fc7bd7d8)\" d=\"M 198.514286 201.309528 \r\nL 246.342857 201.309528 \r\nL 246.342857 202.242747 \r\nL 198.514286 202.242747 \r\nL 198.514286 201.309528 \r\n\" style=\"fill:#440154;\"/>\r\n    <path clip-path=\"url(#p74fc7bd7d8)\" d=\"M 246.342857 201.309528 \r\nL 294.171429 201.309528 \r\nL 294.171429 202.242747 \r\nL 246.342857 202.242747 \r\nL 246.342857 201.309528 \r\n\" style=\"fill:#fde725;\"/>\r\n    <path clip-path=\"url(#p74fc7bd7d8)\" d=\"M 294.171429 201.309528 \r\nL 342 201.309528 \r\nL 342 202.242747 \r\nL 294.171429 202.242747 \r\nL 294.171429 201.309528 \r\n\" style=\"fill:#fde725;\"/>\r\n    <path clip-path=\"url(#p74fc7bd7d8)\" d=\"M 7.2 202.242747 \r\nL 55.028571 202.242747 \r\nL 55.028571 203.175966 \r\nL 7.2 203.175966 \r\nL 7.2 202.242747 \r\n\" style=\"fill:#440154;\"/>\r\n    <path clip-path=\"url(#p74fc7bd7d8)\" d=\"M 55.028571 202.242747 \r\nL 102.857143 202.242747 \r\nL 102.857143 203.175966 \r\nL 55.028571 203.175966 \r\nL 55.028571 202.242747 \r\n\" style=\"fill:#440154;\"/>\r\n    <path clip-path=\"url(#p74fc7bd7d8)\" d=\"M 102.857143 202.242747 \r\nL 150.685714 202.242747 \r\nL 150.685714 203.175966 \r\nL 102.857143 203.175966 \r\nL 102.857143 202.242747 \r\n\" style=\"fill:#440154;\"/>\r\n    <path clip-path=\"url(#p74fc7bd7d8)\" d=\"M 150.685714 202.242747 \r\nL 198.514286 202.242747 \r\nL 198.514286 203.175966 \r\nL 150.685714 203.175966 \r\nL 150.685714 202.242747 \r\n\" style=\"fill:#440154;\"/>\r\n    <path clip-path=\"url(#p74fc7bd7d8)\" d=\"M 198.514286 202.242747 \r\nL 246.342857 202.242747 \r\nL 246.342857 203.175966 \r\nL 198.514286 203.175966 \r\nL 198.514286 202.242747 \r\n\" style=\"fill:#fde725;\"/>\r\n    <path clip-path=\"url(#p74fc7bd7d8)\" d=\"M 246.342857 202.242747 \r\nL 294.171429 202.242747 \r\nL 294.171429 203.175966 \r\nL 246.342857 203.175966 \r\nL 246.342857 202.242747 \r\n\" style=\"fill:#440154;\"/>\r\n    <path clip-path=\"url(#p74fc7bd7d8)\" d=\"M 294.171429 202.242747 \r\nL 342 202.242747 \r\nL 342 203.175966 \r\nL 294.171429 203.175966 \r\nL 294.171429 202.242747 \r\n\" style=\"fill:#440154;\"/>\r\n    <path clip-path=\"url(#p74fc7bd7d8)\" d=\"M 7.2 203.175966 \r\nL 55.028571 203.175966 \r\nL 55.028571 204.109185 \r\nL 7.2 204.109185 \r\nL 7.2 203.175966 \r\n\" style=\"fill:#440154;\"/>\r\n    <path clip-path=\"url(#p74fc7bd7d8)\" d=\"M 55.028571 203.175966 \r\nL 102.857143 203.175966 \r\nL 102.857143 204.109185 \r\nL 55.028571 204.109185 \r\nL 55.028571 203.175966 \r\n\" style=\"fill:#fde725;\"/>\r\n    <path clip-path=\"url(#p74fc7bd7d8)\" d=\"M 102.857143 203.175966 \r\nL 150.685714 203.175966 \r\nL 150.685714 204.109185 \r\nL 102.857143 204.109185 \r\nL 102.857143 203.175966 \r\n\" style=\"fill:#fde725;\"/>\r\n    <path clip-path=\"url(#p74fc7bd7d8)\" d=\"M 150.685714 203.175966 \r\nL 198.514286 203.175966 \r\nL 198.514286 204.109185 \r\nL 150.685714 204.109185 \r\nL 150.685714 203.175966 \r\n\" style=\"fill:#fde725;\"/>\r\n    <path clip-path=\"url(#p74fc7bd7d8)\" d=\"M 198.514286 203.175966 \r\nL 246.342857 203.175966 \r\nL 246.342857 204.109185 \r\nL 198.514286 204.109185 \r\nL 198.514286 203.175966 \r\n\" style=\"fill:#fde725;\"/>\r\n    <path clip-path=\"url(#p74fc7bd7d8)\" d=\"M 246.342857 203.175966 \r\nL 294.171429 203.175966 \r\nL 294.171429 204.109185 \r\nL 246.342857 204.109185 \r\nL 246.342857 203.175966 \r\n\" style=\"fill:#fde725;\"/>\r\n    <path clip-path=\"url(#p74fc7bd7d8)\" d=\"M 294.171429 203.175966 \r\nL 342 203.175966 \r\nL 342 204.109185 \r\nL 294.171429 204.109185 \r\nL 294.171429 203.175966 \r\n\" style=\"fill:#fde725;\"/>\r\n    <path clip-path=\"url(#p74fc7bd7d8)\" d=\"M 7.2 204.109185 \r\nL 55.028571 204.109185 \r\nL 55.028571 205.042403 \r\nL 7.2 205.042403 \r\nL 7.2 204.109185 \r\n\" style=\"fill:#440154;\"/>\r\n    <path clip-path=\"url(#p74fc7bd7d8)\" d=\"M 55.028571 204.109185 \r\nL 102.857143 204.109185 \r\nL 102.857143 205.042403 \r\nL 55.028571 205.042403 \r\nL 55.028571 204.109185 \r\n\" style=\"fill:#440154;\"/>\r\n    <path clip-path=\"url(#p74fc7bd7d8)\" d=\"M 102.857143 204.109185 \r\nL 150.685714 204.109185 \r\nL 150.685714 205.042403 \r\nL 102.857143 205.042403 \r\nL 102.857143 204.109185 \r\n\" style=\"fill:#440154;\"/>\r\n    <path clip-path=\"url(#p74fc7bd7d8)\" d=\"M 150.685714 204.109185 \r\nL 198.514286 204.109185 \r\nL 198.514286 205.042403 \r\nL 150.685714 205.042403 \r\nL 150.685714 204.109185 \r\n\" style=\"fill:#440154;\"/>\r\n    <path clip-path=\"url(#p74fc7bd7d8)\" d=\"M 198.514286 204.109185 \r\nL 246.342857 204.109185 \r\nL 246.342857 205.042403 \r\nL 198.514286 205.042403 \r\nL 198.514286 204.109185 \r\n\" style=\"fill:#440154;\"/>\r\n    <path clip-path=\"url(#p74fc7bd7d8)\" d=\"M 246.342857 204.109185 \r\nL 294.171429 204.109185 \r\nL 294.171429 205.042403 \r\nL 246.342857 205.042403 \r\nL 246.342857 204.109185 \r\n\" style=\"fill:#fde725;\"/>\r\n    <path clip-path=\"url(#p74fc7bd7d8)\" d=\"M 294.171429 204.109185 \r\nL 342 204.109185 \r\nL 342 205.042403 \r\nL 294.171429 205.042403 \r\nL 294.171429 204.109185 \r\n\" style=\"fill:#fde725;\"/>\r\n    <path clip-path=\"url(#p74fc7bd7d8)\" d=\"M 7.2 205.042403 \r\nL 55.028571 205.042403 \r\nL 55.028571 205.975622 \r\nL 7.2 205.975622 \r\nL 7.2 205.042403 \r\n\" style=\"fill:#440154;\"/>\r\n    <path clip-path=\"url(#p74fc7bd7d8)\" d=\"M 55.028571 205.042403 \r\nL 102.857143 205.042403 \r\nL 102.857143 205.975622 \r\nL 55.028571 205.975622 \r\nL 55.028571 205.042403 \r\n\" style=\"fill:#440154;\"/>\r\n    <path clip-path=\"url(#p74fc7bd7d8)\" d=\"M 102.857143 205.042403 \r\nL 150.685714 205.042403 \r\nL 150.685714 205.975622 \r\nL 102.857143 205.975622 \r\nL 102.857143 205.042403 \r\n\" style=\"fill:#440154;\"/>\r\n    <path clip-path=\"url(#p74fc7bd7d8)\" d=\"M 150.685714 205.042403 \r\nL 198.514286 205.042403 \r\nL 198.514286 205.975622 \r\nL 150.685714 205.975622 \r\nL 150.685714 205.042403 \r\n\" style=\"fill:#440154;\"/>\r\n    <path clip-path=\"url(#p74fc7bd7d8)\" d=\"M 198.514286 205.042403 \r\nL 246.342857 205.042403 \r\nL 246.342857 205.975622 \r\nL 198.514286 205.975622 \r\nL 198.514286 205.042403 \r\n\" style=\"fill:#fde725;\"/>\r\n    <path clip-path=\"url(#p74fc7bd7d8)\" d=\"M 246.342857 205.042403 \r\nL 294.171429 205.042403 \r\nL 294.171429 205.975622 \r\nL 246.342857 205.975622 \r\nL 246.342857 205.042403 \r\n\" style=\"fill:#fde725;\"/>\r\n    <path clip-path=\"url(#p74fc7bd7d8)\" d=\"M 294.171429 205.042403 \r\nL 342 205.042403 \r\nL 342 205.975622 \r\nL 294.171429 205.975622 \r\nL 294.171429 205.042403 \r\n\" style=\"fill:#440154;\"/>\r\n    <path clip-path=\"url(#p74fc7bd7d8)\" d=\"M 7.2 205.975622 \r\nL 55.028571 205.975622 \r\nL 55.028571 206.908841 \r\nL 7.2 206.908841 \r\nL 7.2 205.975622 \r\n\" style=\"fill:#440154;\"/>\r\n    <path clip-path=\"url(#p74fc7bd7d8)\" d=\"M 55.028571 205.975622 \r\nL 102.857143 205.975622 \r\nL 102.857143 206.908841 \r\nL 55.028571 206.908841 \r\nL 55.028571 205.975622 \r\n\" style=\"fill:#440154;\"/>\r\n    <path clip-path=\"url(#p74fc7bd7d8)\" d=\"M 102.857143 205.975622 \r\nL 150.685714 205.975622 \r\nL 150.685714 206.908841 \r\nL 102.857143 206.908841 \r\nL 102.857143 205.975622 \r\n\" style=\"fill:#440154;\"/>\r\n    <path clip-path=\"url(#p74fc7bd7d8)\" d=\"M 150.685714 205.975622 \r\nL 198.514286 205.975622 \r\nL 198.514286 206.908841 \r\nL 150.685714 206.908841 \r\nL 150.685714 205.975622 \r\n\" style=\"fill:#440154;\"/>\r\n    <path clip-path=\"url(#p74fc7bd7d8)\" d=\"M 198.514286 205.975622 \r\nL 246.342857 205.975622 \r\nL 246.342857 206.908841 \r\nL 198.514286 206.908841 \r\nL 198.514286 205.975622 \r\n\" style=\"fill:#440154;\"/>\r\n    <path clip-path=\"url(#p74fc7bd7d8)\" d=\"M 246.342857 205.975622 \r\nL 294.171429 205.975622 \r\nL 294.171429 206.908841 \r\nL 246.342857 206.908841 \r\nL 246.342857 205.975622 \r\n\" style=\"fill:#440154;\"/>\r\n    <path clip-path=\"url(#p74fc7bd7d8)\" d=\"M 294.171429 205.975622 \r\nL 342 205.975622 \r\nL 342 206.908841 \r\nL 294.171429 206.908841 \r\nL 294.171429 205.975622 \r\n\" style=\"fill:#440154;\"/>\r\n    <path clip-path=\"url(#p74fc7bd7d8)\" d=\"M 7.2 206.908841 \r\nL 55.028571 206.908841 \r\nL 55.028571 207.84206 \r\nL 7.2 207.84206 \r\nL 7.2 206.908841 \r\n\" style=\"fill:#440154;\"/>\r\n    <path clip-path=\"url(#p74fc7bd7d8)\" d=\"M 55.028571 206.908841 \r\nL 102.857143 206.908841 \r\nL 102.857143 207.84206 \r\nL 55.028571 207.84206 \r\nL 55.028571 206.908841 \r\n\" style=\"fill:#440154;\"/>\r\n    <path clip-path=\"url(#p74fc7bd7d8)\" d=\"M 102.857143 206.908841 \r\nL 150.685714 206.908841 \r\nL 150.685714 207.84206 \r\nL 102.857143 207.84206 \r\nL 102.857143 206.908841 \r\n\" style=\"fill:#440154;\"/>\r\n    <path clip-path=\"url(#p74fc7bd7d8)\" d=\"M 150.685714 206.908841 \r\nL 198.514286 206.908841 \r\nL 198.514286 207.84206 \r\nL 150.685714 207.84206 \r\nL 150.685714 206.908841 \r\n\" style=\"fill:#440154;\"/>\r\n    <path clip-path=\"url(#p74fc7bd7d8)\" d=\"M 198.514286 206.908841 \r\nL 246.342857 206.908841 \r\nL 246.342857 207.84206 \r\nL 198.514286 207.84206 \r\nL 198.514286 206.908841 \r\n\" style=\"fill:#440154;\"/>\r\n    <path clip-path=\"url(#p74fc7bd7d8)\" d=\"M 246.342857 206.908841 \r\nL 294.171429 206.908841 \r\nL 294.171429 207.84206 \r\nL 246.342857 207.84206 \r\nL 246.342857 206.908841 \r\n\" style=\"fill:#440154;\"/>\r\n    <path clip-path=\"url(#p74fc7bd7d8)\" d=\"M 294.171429 206.908841 \r\nL 342 206.908841 \r\nL 342 207.84206 \r\nL 294.171429 207.84206 \r\nL 294.171429 206.908841 \r\n\" style=\"fill:#440154;\"/>\r\n    <path clip-path=\"url(#p74fc7bd7d8)\" d=\"M 7.2 207.84206 \r\nL 55.028571 207.84206 \r\nL 55.028571 208.775279 \r\nL 7.2 208.775279 \r\nL 7.2 207.84206 \r\n\" style=\"fill:#440154;\"/>\r\n    <path clip-path=\"url(#p74fc7bd7d8)\" d=\"M 55.028571 207.84206 \r\nL 102.857143 207.84206 \r\nL 102.857143 208.775279 \r\nL 55.028571 208.775279 \r\nL 55.028571 207.84206 \r\n\" style=\"fill:#fde725;\"/>\r\n    <path clip-path=\"url(#p74fc7bd7d8)\" d=\"M 102.857143 207.84206 \r\nL 150.685714 207.84206 \r\nL 150.685714 208.775279 \r\nL 102.857143 208.775279 \r\nL 102.857143 207.84206 \r\n\" style=\"fill:#fde725;\"/>\r\n    <path clip-path=\"url(#p74fc7bd7d8)\" d=\"M 150.685714 207.84206 \r\nL 198.514286 207.84206 \r\nL 198.514286 208.775279 \r\nL 150.685714 208.775279 \r\nL 150.685714 207.84206 \r\n\" style=\"fill:#fde725;\"/>\r\n    <path clip-path=\"url(#p74fc7bd7d8)\" d=\"M 198.514286 207.84206 \r\nL 246.342857 207.84206 \r\nL 246.342857 208.775279 \r\nL 198.514286 208.775279 \r\nL 198.514286 207.84206 \r\n\" style=\"fill:#fde725;\"/>\r\n    <path clip-path=\"url(#p74fc7bd7d8)\" d=\"M 246.342857 207.84206 \r\nL 294.171429 207.84206 \r\nL 294.171429 208.775279 \r\nL 246.342857 208.775279 \r\nL 246.342857 207.84206 \r\n\" style=\"fill:#fde725;\"/>\r\n    <path clip-path=\"url(#p74fc7bd7d8)\" d=\"M 294.171429 207.84206 \r\nL 342 207.84206 \r\nL 342 208.775279 \r\nL 294.171429 208.775279 \r\nL 294.171429 207.84206 \r\n\" style=\"fill:#fde725;\"/>\r\n    <path clip-path=\"url(#p74fc7bd7d8)\" d=\"M 7.2 208.775279 \r\nL 55.028571 208.775279 \r\nL 55.028571 209.708498 \r\nL 7.2 209.708498 \r\nL 7.2 208.775279 \r\n\" style=\"fill:#440154;\"/>\r\n    <path clip-path=\"url(#p74fc7bd7d8)\" d=\"M 55.028571 208.775279 \r\nL 102.857143 208.775279 \r\nL 102.857143 209.708498 \r\nL 55.028571 209.708498 \r\nL 55.028571 208.775279 \r\n\" style=\"fill:#fde725;\"/>\r\n    <path clip-path=\"url(#p74fc7bd7d8)\" d=\"M 102.857143 208.775279 \r\nL 150.685714 208.775279 \r\nL 150.685714 209.708498 \r\nL 102.857143 209.708498 \r\nL 102.857143 208.775279 \r\n\" style=\"fill:#fde725;\"/>\r\n    <path clip-path=\"url(#p74fc7bd7d8)\" d=\"M 150.685714 208.775279 \r\nL 198.514286 208.775279 \r\nL 198.514286 209.708498 \r\nL 150.685714 209.708498 \r\nL 150.685714 208.775279 \r\n\" style=\"fill:#fde725;\"/>\r\n    <path clip-path=\"url(#p74fc7bd7d8)\" d=\"M 198.514286 208.775279 \r\nL 246.342857 208.775279 \r\nL 246.342857 209.708498 \r\nL 198.514286 209.708498 \r\nL 198.514286 208.775279 \r\n\" style=\"fill:#fde725;\"/>\r\n    <path clip-path=\"url(#p74fc7bd7d8)\" d=\"M 246.342857 208.775279 \r\nL 294.171429 208.775279 \r\nL 294.171429 209.708498 \r\nL 246.342857 209.708498 \r\nL 246.342857 208.775279 \r\n\" style=\"fill:#fde725;\"/>\r\n    <path clip-path=\"url(#p74fc7bd7d8)\" d=\"M 294.171429 208.775279 \r\nL 342 208.775279 \r\nL 342 209.708498 \r\nL 294.171429 209.708498 \r\nL 294.171429 208.775279 \r\n\" style=\"fill:#fde725;\"/>\r\n    <path clip-path=\"url(#p74fc7bd7d8)\" d=\"M 7.2 209.708498 \r\nL 55.028571 209.708498 \r\nL 55.028571 210.641717 \r\nL 7.2 210.641717 \r\nL 7.2 209.708498 \r\n\" style=\"fill:#440154;\"/>\r\n    <path clip-path=\"url(#p74fc7bd7d8)\" d=\"M 55.028571 209.708498 \r\nL 102.857143 209.708498 \r\nL 102.857143 210.641717 \r\nL 55.028571 210.641717 \r\nL 55.028571 209.708498 \r\n\" style=\"fill:#440154;\"/>\r\n    <path clip-path=\"url(#p74fc7bd7d8)\" d=\"M 102.857143 209.708498 \r\nL 150.685714 209.708498 \r\nL 150.685714 210.641717 \r\nL 102.857143 210.641717 \r\nL 102.857143 209.708498 \r\n\" style=\"fill:#440154;\"/>\r\n    <path clip-path=\"url(#p74fc7bd7d8)\" d=\"M 150.685714 209.708498 \r\nL 198.514286 209.708498 \r\nL 198.514286 210.641717 \r\nL 150.685714 210.641717 \r\nL 150.685714 209.708498 \r\n\" style=\"fill:#440154;\"/>\r\n    <path clip-path=\"url(#p74fc7bd7d8)\" d=\"M 198.514286 209.708498 \r\nL 246.342857 209.708498 \r\nL 246.342857 210.641717 \r\nL 198.514286 210.641717 \r\nL 198.514286 209.708498 \r\n\" style=\"fill:#440154;\"/>\r\n    <path clip-path=\"url(#p74fc7bd7d8)\" d=\"M 246.342857 209.708498 \r\nL 294.171429 209.708498 \r\nL 294.171429 210.641717 \r\nL 246.342857 210.641717 \r\nL 246.342857 209.708498 \r\n\" style=\"fill:#440154;\"/>\r\n    <path clip-path=\"url(#p74fc7bd7d8)\" d=\"M 294.171429 209.708498 \r\nL 342 209.708498 \r\nL 342 210.641717 \r\nL 294.171429 210.641717 \r\nL 294.171429 209.708498 \r\n\" style=\"fill:#fde725;\"/>\r\n    <path clip-path=\"url(#p74fc7bd7d8)\" d=\"M 7.2 210.641717 \r\nL 55.028571 210.641717 \r\nL 55.028571 211.574936 \r\nL 7.2 211.574936 \r\nL 7.2 210.641717 \r\n\" style=\"fill:#440154;\"/>\r\n    <path clip-path=\"url(#p74fc7bd7d8)\" d=\"M 55.028571 210.641717 \r\nL 102.857143 210.641717 \r\nL 102.857143 211.574936 \r\nL 55.028571 211.574936 \r\nL 55.028571 210.641717 \r\n\" style=\"fill:#440154;\"/>\r\n    <path clip-path=\"url(#p74fc7bd7d8)\" d=\"M 102.857143 210.641717 \r\nL 150.685714 210.641717 \r\nL 150.685714 211.574936 \r\nL 102.857143 211.574936 \r\nL 102.857143 210.641717 \r\n\" style=\"fill:#440154;\"/>\r\n    <path clip-path=\"url(#p74fc7bd7d8)\" d=\"M 150.685714 210.641717 \r\nL 198.514286 210.641717 \r\nL 198.514286 211.574936 \r\nL 150.685714 211.574936 \r\nL 150.685714 210.641717 \r\n\" style=\"fill:#440154;\"/>\r\n    <path clip-path=\"url(#p74fc7bd7d8)\" d=\"M 198.514286 210.641717 \r\nL 246.342857 210.641717 \r\nL 246.342857 211.574936 \r\nL 198.514286 211.574936 \r\nL 198.514286 210.641717 \r\n\" style=\"fill:#440154;\"/>\r\n    <path clip-path=\"url(#p74fc7bd7d8)\" d=\"M 246.342857 210.641717 \r\nL 294.171429 210.641717 \r\nL 294.171429 211.574936 \r\nL 246.342857 211.574936 \r\nL 246.342857 210.641717 \r\n\" style=\"fill:#440154;\"/>\r\n    <path clip-path=\"url(#p74fc7bd7d8)\" d=\"M 294.171429 210.641717 \r\nL 342 210.641717 \r\nL 342 211.574936 \r\nL 294.171429 211.574936 \r\nL 294.171429 210.641717 \r\n\" style=\"fill:#fde725;\"/>\r\n    <path clip-path=\"url(#p74fc7bd7d8)\" d=\"M 7.2 211.574936 \r\nL 55.028571 211.574936 \r\nL 55.028571 212.508155 \r\nL 7.2 212.508155 \r\nL 7.2 211.574936 \r\n\" style=\"fill:#440154;\"/>\r\n    <path clip-path=\"url(#p74fc7bd7d8)\" d=\"M 55.028571 211.574936 \r\nL 102.857143 211.574936 \r\nL 102.857143 212.508155 \r\nL 55.028571 212.508155 \r\nL 55.028571 211.574936 \r\n\" style=\"fill:#440154;\"/>\r\n    <path clip-path=\"url(#p74fc7bd7d8)\" d=\"M 102.857143 211.574936 \r\nL 150.685714 211.574936 \r\nL 150.685714 212.508155 \r\nL 102.857143 212.508155 \r\nL 102.857143 211.574936 \r\n\" style=\"fill:#440154;\"/>\r\n    <path clip-path=\"url(#p74fc7bd7d8)\" d=\"M 150.685714 211.574936 \r\nL 198.514286 211.574936 \r\nL 198.514286 212.508155 \r\nL 150.685714 212.508155 \r\nL 150.685714 211.574936 \r\n\" style=\"fill:#440154;\"/>\r\n    <path clip-path=\"url(#p74fc7bd7d8)\" d=\"M 198.514286 211.574936 \r\nL 246.342857 211.574936 \r\nL 246.342857 212.508155 \r\nL 198.514286 212.508155 \r\nL 198.514286 211.574936 \r\n\" style=\"fill:#fde725;\"/>\r\n    <path clip-path=\"url(#p74fc7bd7d8)\" d=\"M 246.342857 211.574936 \r\nL 294.171429 211.574936 \r\nL 294.171429 212.508155 \r\nL 246.342857 212.508155 \r\nL 246.342857 211.574936 \r\n\" style=\"fill:#440154;\"/>\r\n    <path clip-path=\"url(#p74fc7bd7d8)\" d=\"M 294.171429 211.574936 \r\nL 342 211.574936 \r\nL 342 212.508155 \r\nL 294.171429 212.508155 \r\nL 294.171429 211.574936 \r\n\" style=\"fill:#440154;\"/>\r\n    <path clip-path=\"url(#p74fc7bd7d8)\" d=\"M 7.2 212.508155 \r\nL 55.028571 212.508155 \r\nL 55.028571 213.441373 \r\nL 7.2 213.441373 \r\nL 7.2 212.508155 \r\n\" style=\"fill:#440154;\"/>\r\n    <path clip-path=\"url(#p74fc7bd7d8)\" d=\"M 55.028571 212.508155 \r\nL 102.857143 212.508155 \r\nL 102.857143 213.441373 \r\nL 55.028571 213.441373 \r\nL 55.028571 212.508155 \r\n\" style=\"fill:#440154;\"/>\r\n    <path clip-path=\"url(#p74fc7bd7d8)\" d=\"M 102.857143 212.508155 \r\nL 150.685714 212.508155 \r\nL 150.685714 213.441373 \r\nL 102.857143 213.441373 \r\nL 102.857143 212.508155 \r\n\" style=\"fill:#440154;\"/>\r\n    <path clip-path=\"url(#p74fc7bd7d8)\" d=\"M 150.685714 212.508155 \r\nL 198.514286 212.508155 \r\nL 198.514286 213.441373 \r\nL 150.685714 213.441373 \r\nL 150.685714 212.508155 \r\n\" style=\"fill:#440154;\"/>\r\n    <path clip-path=\"url(#p74fc7bd7d8)\" d=\"M 198.514286 212.508155 \r\nL 246.342857 212.508155 \r\nL 246.342857 213.441373 \r\nL 198.514286 213.441373 \r\nL 198.514286 212.508155 \r\n\" style=\"fill:#440154;\"/>\r\n    <path clip-path=\"url(#p74fc7bd7d8)\" d=\"M 246.342857 212.508155 \r\nL 294.171429 212.508155 \r\nL 294.171429 213.441373 \r\nL 246.342857 213.441373 \r\nL 246.342857 212.508155 \r\n\" style=\"fill:#440154;\"/>\r\n    <path clip-path=\"url(#p74fc7bd7d8)\" d=\"M 294.171429 212.508155 \r\nL 342 212.508155 \r\nL 342 213.441373 \r\nL 294.171429 213.441373 \r\nL 294.171429 212.508155 \r\n\" style=\"fill:#440154;\"/>\r\n    <path clip-path=\"url(#p74fc7bd7d8)\" d=\"M 7.2 213.441373 \r\nL 55.028571 213.441373 \r\nL 55.028571 214.374592 \r\nL 7.2 214.374592 \r\nL 7.2 213.441373 \r\n\" style=\"fill:#440154;\"/>\r\n    <path clip-path=\"url(#p74fc7bd7d8)\" d=\"M 55.028571 213.441373 \r\nL 102.857143 213.441373 \r\nL 102.857143 214.374592 \r\nL 55.028571 214.374592 \r\nL 55.028571 213.441373 \r\n\" style=\"fill:#440154;\"/>\r\n    <path clip-path=\"url(#p74fc7bd7d8)\" d=\"M 102.857143 213.441373 \r\nL 150.685714 213.441373 \r\nL 150.685714 214.374592 \r\nL 102.857143 214.374592 \r\nL 102.857143 213.441373 \r\n\" style=\"fill:#440154;\"/>\r\n    <path clip-path=\"url(#p74fc7bd7d8)\" d=\"M 150.685714 213.441373 \r\nL 198.514286 213.441373 \r\nL 198.514286 214.374592 \r\nL 150.685714 214.374592 \r\nL 150.685714 213.441373 \r\n\" style=\"fill:#440154;\"/>\r\n    <path clip-path=\"url(#p74fc7bd7d8)\" d=\"M 198.514286 213.441373 \r\nL 246.342857 213.441373 \r\nL 246.342857 214.374592 \r\nL 198.514286 214.374592 \r\nL 198.514286 213.441373 \r\n\" style=\"fill:#440154;\"/>\r\n    <path clip-path=\"url(#p74fc7bd7d8)\" d=\"M 246.342857 213.441373 \r\nL 294.171429 213.441373 \r\nL 294.171429 214.374592 \r\nL 246.342857 214.374592 \r\nL 246.342857 213.441373 \r\n\" style=\"fill:#440154;\"/>\r\n    <path clip-path=\"url(#p74fc7bd7d8)\" d=\"M 294.171429 213.441373 \r\nL 342 213.441373 \r\nL 342 214.374592 \r\nL 294.171429 214.374592 \r\nL 294.171429 213.441373 \r\n\" style=\"fill:#fde725;\"/>\r\n    <path clip-path=\"url(#p74fc7bd7d8)\" d=\"M 7.2 214.374592 \r\nL 55.028571 214.374592 \r\nL 55.028571 215.307811 \r\nL 7.2 215.307811 \r\nL 7.2 214.374592 \r\n\" style=\"fill:#440154;\"/>\r\n    <path clip-path=\"url(#p74fc7bd7d8)\" d=\"M 55.028571 214.374592 \r\nL 102.857143 214.374592 \r\nL 102.857143 215.307811 \r\nL 55.028571 215.307811 \r\nL 55.028571 214.374592 \r\n\" style=\"fill:#fde725;\"/>\r\n    <path clip-path=\"url(#p74fc7bd7d8)\" d=\"M 102.857143 214.374592 \r\nL 150.685714 214.374592 \r\nL 150.685714 215.307811 \r\nL 102.857143 215.307811 \r\nL 102.857143 214.374592 \r\n\" style=\"fill:#fde725;\"/>\r\n    <path clip-path=\"url(#p74fc7bd7d8)\" d=\"M 150.685714 214.374592 \r\nL 198.514286 214.374592 \r\nL 198.514286 215.307811 \r\nL 150.685714 215.307811 \r\nL 150.685714 214.374592 \r\n\" style=\"fill:#fde725;\"/>\r\n    <path clip-path=\"url(#p74fc7bd7d8)\" d=\"M 198.514286 214.374592 \r\nL 246.342857 214.374592 \r\nL 246.342857 215.307811 \r\nL 198.514286 215.307811 \r\nL 198.514286 214.374592 \r\n\" style=\"fill:#fde725;\"/>\r\n    <path clip-path=\"url(#p74fc7bd7d8)\" d=\"M 246.342857 214.374592 \r\nL 294.171429 214.374592 \r\nL 294.171429 215.307811 \r\nL 246.342857 215.307811 \r\nL 246.342857 214.374592 \r\n\" style=\"fill:#fde725;\"/>\r\n    <path clip-path=\"url(#p74fc7bd7d8)\" d=\"M 294.171429 214.374592 \r\nL 342 214.374592 \r\nL 342 215.307811 \r\nL 294.171429 215.307811 \r\nL 294.171429 214.374592 \r\n\" style=\"fill:#fde725;\"/>\r\n    <path clip-path=\"url(#p74fc7bd7d8)\" d=\"M 7.2 215.307811 \r\nL 55.028571 215.307811 \r\nL 55.028571 216.24103 \r\nL 7.2 216.24103 \r\nL 7.2 215.307811 \r\n\" style=\"fill:#440154;\"/>\r\n    <path clip-path=\"url(#p74fc7bd7d8)\" d=\"M 55.028571 215.307811 \r\nL 102.857143 215.307811 \r\nL 102.857143 216.24103 \r\nL 55.028571 216.24103 \r\nL 55.028571 215.307811 \r\n\" style=\"fill:#440154;\"/>\r\n    <path clip-path=\"url(#p74fc7bd7d8)\" d=\"M 102.857143 215.307811 \r\nL 150.685714 215.307811 \r\nL 150.685714 216.24103 \r\nL 102.857143 216.24103 \r\nL 102.857143 215.307811 \r\n\" style=\"fill:#440154;\"/>\r\n    <path clip-path=\"url(#p74fc7bd7d8)\" d=\"M 150.685714 215.307811 \r\nL 198.514286 215.307811 \r\nL 198.514286 216.24103 \r\nL 150.685714 216.24103 \r\nL 150.685714 215.307811 \r\n\" style=\"fill:#440154;\"/>\r\n    <path clip-path=\"url(#p74fc7bd7d8)\" d=\"M 198.514286 215.307811 \r\nL 246.342857 215.307811 \r\nL 246.342857 216.24103 \r\nL 198.514286 216.24103 \r\nL 198.514286 215.307811 \r\n\" style=\"fill:#fde725;\"/>\r\n    <path clip-path=\"url(#p74fc7bd7d8)\" d=\"M 246.342857 215.307811 \r\nL 294.171429 215.307811 \r\nL 294.171429 216.24103 \r\nL 246.342857 216.24103 \r\nL 246.342857 215.307811 \r\n\" style=\"fill:#440154;\"/>\r\n    <path clip-path=\"url(#p74fc7bd7d8)\" d=\"M 294.171429 215.307811 \r\nL 342 215.307811 \r\nL 342 216.24103 \r\nL 294.171429 216.24103 \r\nL 294.171429 215.307811 \r\n\" style=\"fill:#440154;\"/>\r\n    <path clip-path=\"url(#p74fc7bd7d8)\" d=\"M 7.2 216.24103 \r\nL 55.028571 216.24103 \r\nL 55.028571 217.174249 \r\nL 7.2 217.174249 \r\nL 7.2 216.24103 \r\n\" style=\"fill:#440154;\"/>\r\n    <path clip-path=\"url(#p74fc7bd7d8)\" d=\"M 55.028571 216.24103 \r\nL 102.857143 216.24103 \r\nL 102.857143 217.174249 \r\nL 55.028571 217.174249 \r\nL 55.028571 216.24103 \r\n\" style=\"fill:#440154;\"/>\r\n    <path clip-path=\"url(#p74fc7bd7d8)\" d=\"M 102.857143 216.24103 \r\nL 150.685714 216.24103 \r\nL 150.685714 217.174249 \r\nL 102.857143 217.174249 \r\nL 102.857143 216.24103 \r\n\" style=\"fill:#440154;\"/>\r\n    <path clip-path=\"url(#p74fc7bd7d8)\" d=\"M 150.685714 216.24103 \r\nL 198.514286 216.24103 \r\nL 198.514286 217.174249 \r\nL 150.685714 217.174249 \r\nL 150.685714 216.24103 \r\n\" style=\"fill:#440154;\"/>\r\n    <path clip-path=\"url(#p74fc7bd7d8)\" d=\"M 198.514286 216.24103 \r\nL 246.342857 216.24103 \r\nL 246.342857 217.174249 \r\nL 198.514286 217.174249 \r\nL 198.514286 216.24103 \r\n\" style=\"fill:#440154;\"/>\r\n    <path clip-path=\"url(#p74fc7bd7d8)\" d=\"M 246.342857 216.24103 \r\nL 294.171429 216.24103 \r\nL 294.171429 217.174249 \r\nL 246.342857 217.174249 \r\nL 246.342857 216.24103 \r\n\" style=\"fill:#440154;\"/>\r\n    <path clip-path=\"url(#p74fc7bd7d8)\" d=\"M 294.171429 216.24103 \r\nL 342 216.24103 \r\nL 342 217.174249 \r\nL 294.171429 217.174249 \r\nL 294.171429 216.24103 \r\n\" style=\"fill:#440154;\"/>\r\n    <path clip-path=\"url(#p74fc7bd7d8)\" d=\"M 7.2 217.174249 \r\nL 55.028571 217.174249 \r\nL 55.028571 218.107468 \r\nL 7.2 218.107468 \r\nL 7.2 217.174249 \r\n\" style=\"fill:#440154;\"/>\r\n    <path clip-path=\"url(#p74fc7bd7d8)\" d=\"M 55.028571 217.174249 \r\nL 102.857143 217.174249 \r\nL 102.857143 218.107468 \r\nL 55.028571 218.107468 \r\nL 55.028571 217.174249 \r\n\" style=\"fill:#440154;\"/>\r\n    <path clip-path=\"url(#p74fc7bd7d8)\" d=\"M 102.857143 217.174249 \r\nL 150.685714 217.174249 \r\nL 150.685714 218.107468 \r\nL 102.857143 218.107468 \r\nL 102.857143 217.174249 \r\n\" style=\"fill:#440154;\"/>\r\n    <path clip-path=\"url(#p74fc7bd7d8)\" d=\"M 150.685714 217.174249 \r\nL 198.514286 217.174249 \r\nL 198.514286 218.107468 \r\nL 150.685714 218.107468 \r\nL 150.685714 217.174249 \r\n\" style=\"fill:#440154;\"/>\r\n    <path clip-path=\"url(#p74fc7bd7d8)\" d=\"M 198.514286 217.174249 \r\nL 246.342857 217.174249 \r\nL 246.342857 218.107468 \r\nL 198.514286 218.107468 \r\nL 198.514286 217.174249 \r\n\" style=\"fill:#fde725;\"/>\r\n    <path clip-path=\"url(#p74fc7bd7d8)\" d=\"M 246.342857 217.174249 \r\nL 294.171429 217.174249 \r\nL 294.171429 218.107468 \r\nL 246.342857 218.107468 \r\nL 246.342857 217.174249 \r\n\" style=\"fill:#440154;\"/>\r\n    <path clip-path=\"url(#p74fc7bd7d8)\" d=\"M 294.171429 217.174249 \r\nL 342 217.174249 \r\nL 342 218.107468 \r\nL 294.171429 218.107468 \r\nL 294.171429 217.174249 \r\n\" style=\"fill:#440154;\"/>\r\n    <path clip-path=\"url(#p74fc7bd7d8)\" d=\"M 7.2 218.107468 \r\nL 55.028571 218.107468 \r\nL 55.028571 219.040687 \r\nL 7.2 219.040687 \r\nL 7.2 218.107468 \r\n\" style=\"fill:#440154;\"/>\r\n    <path clip-path=\"url(#p74fc7bd7d8)\" d=\"M 55.028571 218.107468 \r\nL 102.857143 218.107468 \r\nL 102.857143 219.040687 \r\nL 55.028571 219.040687 \r\nL 55.028571 218.107468 \r\n\" style=\"fill:#440154;\"/>\r\n    <path clip-path=\"url(#p74fc7bd7d8)\" d=\"M 102.857143 218.107468 \r\nL 150.685714 218.107468 \r\nL 150.685714 219.040687 \r\nL 102.857143 219.040687 \r\nL 102.857143 218.107468 \r\n\" style=\"fill:#440154;\"/>\r\n    <path clip-path=\"url(#p74fc7bd7d8)\" d=\"M 150.685714 218.107468 \r\nL 198.514286 218.107468 \r\nL 198.514286 219.040687 \r\nL 150.685714 219.040687 \r\nL 150.685714 218.107468 \r\n\" style=\"fill:#440154;\"/>\r\n    <path clip-path=\"url(#p74fc7bd7d8)\" d=\"M 198.514286 218.107468 \r\nL 246.342857 218.107468 \r\nL 246.342857 219.040687 \r\nL 198.514286 219.040687 \r\nL 198.514286 218.107468 \r\n\" style=\"fill:#fde725;\"/>\r\n    <path clip-path=\"url(#p74fc7bd7d8)\" d=\"M 246.342857 218.107468 \r\nL 294.171429 218.107468 \r\nL 294.171429 219.040687 \r\nL 246.342857 219.040687 \r\nL 246.342857 218.107468 \r\n\" style=\"fill:#440154;\"/>\r\n    <path clip-path=\"url(#p74fc7bd7d8)\" d=\"M 294.171429 218.107468 \r\nL 342 218.107468 \r\nL 342 219.040687 \r\nL 294.171429 219.040687 \r\nL 294.171429 218.107468 \r\n\" style=\"fill:#440154;\"/>\r\n    <path clip-path=\"url(#p74fc7bd7d8)\" d=\"M 7.2 219.040687 \r\nL 55.028571 219.040687 \r\nL 55.028571 219.973906 \r\nL 7.2 219.973906 \r\nL 7.2 219.040687 \r\n\" style=\"fill:#440154;\"/>\r\n    <path clip-path=\"url(#p74fc7bd7d8)\" d=\"M 55.028571 219.040687 \r\nL 102.857143 219.040687 \r\nL 102.857143 219.973906 \r\nL 55.028571 219.973906 \r\nL 55.028571 219.040687 \r\n\" style=\"fill:#440154;\"/>\r\n    <path clip-path=\"url(#p74fc7bd7d8)\" d=\"M 102.857143 219.040687 \r\nL 150.685714 219.040687 \r\nL 150.685714 219.973906 \r\nL 102.857143 219.973906 \r\nL 102.857143 219.040687 \r\n\" style=\"fill:#440154;\"/>\r\n    <path clip-path=\"url(#p74fc7bd7d8)\" d=\"M 150.685714 219.040687 \r\nL 198.514286 219.040687 \r\nL 198.514286 219.973906 \r\nL 150.685714 219.973906 \r\nL 150.685714 219.040687 \r\n\" style=\"fill:#440154;\"/>\r\n    <path clip-path=\"url(#p74fc7bd7d8)\" d=\"M 198.514286 219.040687 \r\nL 246.342857 219.040687 \r\nL 246.342857 219.973906 \r\nL 198.514286 219.973906 \r\nL 198.514286 219.040687 \r\n\" style=\"fill:#440154;\"/>\r\n    <path clip-path=\"url(#p74fc7bd7d8)\" d=\"M 246.342857 219.040687 \r\nL 294.171429 219.040687 \r\nL 294.171429 219.973906 \r\nL 246.342857 219.973906 \r\nL 246.342857 219.040687 \r\n\" style=\"fill:#440154;\"/>\r\n    <path clip-path=\"url(#p74fc7bd7d8)\" d=\"M 294.171429 219.040687 \r\nL 342 219.040687 \r\nL 342 219.973906 \r\nL 294.171429 219.973906 \r\nL 294.171429 219.040687 \r\n\" style=\"fill:#440154;\"/>\r\n    <path clip-path=\"url(#p74fc7bd7d8)\" d=\"M 7.2 219.973906 \r\nL 55.028571 219.973906 \r\nL 55.028571 220.907124 \r\nL 7.2 220.907124 \r\nL 7.2 219.973906 \r\n\" style=\"fill:#440154;\"/>\r\n    <path clip-path=\"url(#p74fc7bd7d8)\" d=\"M 55.028571 219.973906 \r\nL 102.857143 219.973906 \r\nL 102.857143 220.907124 \r\nL 55.028571 220.907124 \r\nL 55.028571 219.973906 \r\n\" style=\"fill:#440154;\"/>\r\n    <path clip-path=\"url(#p74fc7bd7d8)\" d=\"M 102.857143 219.973906 \r\nL 150.685714 219.973906 \r\nL 150.685714 220.907124 \r\nL 102.857143 220.907124 \r\nL 102.857143 219.973906 \r\n\" style=\"fill:#440154;\"/>\r\n    <path clip-path=\"url(#p74fc7bd7d8)\" d=\"M 150.685714 219.973906 \r\nL 198.514286 219.973906 \r\nL 198.514286 220.907124 \r\nL 150.685714 220.907124 \r\nL 150.685714 219.973906 \r\n\" style=\"fill:#440154;\"/>\r\n    <path clip-path=\"url(#p74fc7bd7d8)\" d=\"M 198.514286 219.973906 \r\nL 246.342857 219.973906 \r\nL 246.342857 220.907124 \r\nL 198.514286 220.907124 \r\nL 198.514286 219.973906 \r\n\" style=\"fill:#440154;\"/>\r\n    <path clip-path=\"url(#p74fc7bd7d8)\" d=\"M 246.342857 219.973906 \r\nL 294.171429 219.973906 \r\nL 294.171429 220.907124 \r\nL 246.342857 220.907124 \r\nL 246.342857 219.973906 \r\n\" style=\"fill:#440154;\"/>\r\n    <path clip-path=\"url(#p74fc7bd7d8)\" d=\"M 294.171429 219.973906 \r\nL 342 219.973906 \r\nL 342 220.907124 \r\nL 294.171429 220.907124 \r\nL 294.171429 219.973906 \r\n\" style=\"fill:#440154;\"/>\r\n    <path clip-path=\"url(#p74fc7bd7d8)\" d=\"M 7.2 220.907124 \r\nL 55.028571 220.907124 \r\nL 55.028571 221.840343 \r\nL 7.2 221.840343 \r\nL 7.2 220.907124 \r\n\" style=\"fill:#440154;\"/>\r\n    <path clip-path=\"url(#p74fc7bd7d8)\" d=\"M 55.028571 220.907124 \r\nL 102.857143 220.907124 \r\nL 102.857143 221.840343 \r\nL 55.028571 221.840343 \r\nL 55.028571 220.907124 \r\n\" style=\"fill:#440154;\"/>\r\n    <path clip-path=\"url(#p74fc7bd7d8)\" d=\"M 102.857143 220.907124 \r\nL 150.685714 220.907124 \r\nL 150.685714 221.840343 \r\nL 102.857143 221.840343 \r\nL 102.857143 220.907124 \r\n\" style=\"fill:#440154;\"/>\r\n    <path clip-path=\"url(#p74fc7bd7d8)\" d=\"M 150.685714 220.907124 \r\nL 198.514286 220.907124 \r\nL 198.514286 221.840343 \r\nL 150.685714 221.840343 \r\nL 150.685714 220.907124 \r\n\" style=\"fill:#440154;\"/>\r\n    <path clip-path=\"url(#p74fc7bd7d8)\" d=\"M 198.514286 220.907124 \r\nL 246.342857 220.907124 \r\nL 246.342857 221.840343 \r\nL 198.514286 221.840343 \r\nL 198.514286 220.907124 \r\n\" style=\"fill:#fde725;\"/>\r\n    <path clip-path=\"url(#p74fc7bd7d8)\" d=\"M 246.342857 220.907124 \r\nL 294.171429 220.907124 \r\nL 294.171429 221.840343 \r\nL 246.342857 221.840343 \r\nL 246.342857 220.907124 \r\n\" style=\"fill:#440154;\"/>\r\n    <path clip-path=\"url(#p74fc7bd7d8)\" d=\"M 294.171429 220.907124 \r\nL 342 220.907124 \r\nL 342 221.840343 \r\nL 294.171429 221.840343 \r\nL 294.171429 220.907124 \r\n\" style=\"fill:#440154;\"/>\r\n    <path clip-path=\"url(#p74fc7bd7d8)\" d=\"M 7.2 221.840343 \r\nL 55.028571 221.840343 \r\nL 55.028571 222.773562 \r\nL 7.2 222.773562 \r\nL 7.2 221.840343 \r\n\" style=\"fill:#440154;\"/>\r\n    <path clip-path=\"url(#p74fc7bd7d8)\" d=\"M 55.028571 221.840343 \r\nL 102.857143 221.840343 \r\nL 102.857143 222.773562 \r\nL 55.028571 222.773562 \r\nL 55.028571 221.840343 \r\n\" style=\"fill:#440154;\"/>\r\n    <path clip-path=\"url(#p74fc7bd7d8)\" d=\"M 102.857143 221.840343 \r\nL 150.685714 221.840343 \r\nL 150.685714 222.773562 \r\nL 102.857143 222.773562 \r\nL 102.857143 221.840343 \r\n\" style=\"fill:#440154;\"/>\r\n    <path clip-path=\"url(#p74fc7bd7d8)\" d=\"M 150.685714 221.840343 \r\nL 198.514286 221.840343 \r\nL 198.514286 222.773562 \r\nL 150.685714 222.773562 \r\nL 150.685714 221.840343 \r\n\" style=\"fill:#440154;\"/>\r\n    <path clip-path=\"url(#p74fc7bd7d8)\" d=\"M 198.514286 221.840343 \r\nL 246.342857 221.840343 \r\nL 246.342857 222.773562 \r\nL 198.514286 222.773562 \r\nL 198.514286 221.840343 \r\n\" style=\"fill:#440154;\"/>\r\n    <path clip-path=\"url(#p74fc7bd7d8)\" d=\"M 246.342857 221.840343 \r\nL 294.171429 221.840343 \r\nL 294.171429 222.773562 \r\nL 246.342857 222.773562 \r\nL 246.342857 221.840343 \r\n\" style=\"fill:#440154;\"/>\r\n    <path clip-path=\"url(#p74fc7bd7d8)\" d=\"M 294.171429 221.840343 \r\nL 342 221.840343 \r\nL 342 222.773562 \r\nL 294.171429 222.773562 \r\nL 294.171429 221.840343 \r\n\" style=\"fill:#440154;\"/>\r\n    <path clip-path=\"url(#p74fc7bd7d8)\" d=\"M 7.2 222.773562 \r\nL 55.028571 222.773562 \r\nL 55.028571 223.706781 \r\nL 7.2 223.706781 \r\nL 7.2 222.773562 \r\n\" style=\"fill:#440154;\"/>\r\n    <path clip-path=\"url(#p74fc7bd7d8)\" d=\"M 55.028571 222.773562 \r\nL 102.857143 222.773562 \r\nL 102.857143 223.706781 \r\nL 55.028571 223.706781 \r\nL 55.028571 222.773562 \r\n\" style=\"fill:#440154;\"/>\r\n    <path clip-path=\"url(#p74fc7bd7d8)\" d=\"M 102.857143 222.773562 \r\nL 150.685714 222.773562 \r\nL 150.685714 223.706781 \r\nL 102.857143 223.706781 \r\nL 102.857143 222.773562 \r\n\" style=\"fill:#440154;\"/>\r\n    <path clip-path=\"url(#p74fc7bd7d8)\" d=\"M 150.685714 222.773562 \r\nL 198.514286 222.773562 \r\nL 198.514286 223.706781 \r\nL 150.685714 223.706781 \r\nL 150.685714 222.773562 \r\n\" style=\"fill:#440154;\"/>\r\n    <path clip-path=\"url(#p74fc7bd7d8)\" d=\"M 198.514286 222.773562 \r\nL 246.342857 222.773562 \r\nL 246.342857 223.706781 \r\nL 198.514286 223.706781 \r\nL 198.514286 222.773562 \r\n\" style=\"fill:#440154;\"/>\r\n    <path clip-path=\"url(#p74fc7bd7d8)\" d=\"M 246.342857 222.773562 \r\nL 294.171429 222.773562 \r\nL 294.171429 223.706781 \r\nL 246.342857 223.706781 \r\nL 246.342857 222.773562 \r\n\" style=\"fill:#440154;\"/>\r\n    <path clip-path=\"url(#p74fc7bd7d8)\" d=\"M 294.171429 222.773562 \r\nL 342 222.773562 \r\nL 342 223.706781 \r\nL 294.171429 223.706781 \r\nL 294.171429 222.773562 \r\n\" style=\"fill:#fde725;\"/>\r\n    <path clip-path=\"url(#p74fc7bd7d8)\" d=\"M 7.2 223.706781 \r\nL 55.028571 223.706781 \r\nL 55.028571 224.64 \r\nL 7.2 224.64 \r\nL 7.2 223.706781 \r\n\" style=\"fill:#440154;\"/>\r\n    <path clip-path=\"url(#p74fc7bd7d8)\" d=\"M 55.028571 223.706781 \r\nL 102.857143 223.706781 \r\nL 102.857143 224.64 \r\nL 55.028571 224.64 \r\nL 55.028571 223.706781 \r\n\" style=\"fill:#440154;\"/>\r\n    <path clip-path=\"url(#p74fc7bd7d8)\" d=\"M 102.857143 223.706781 \r\nL 150.685714 223.706781 \r\nL 150.685714 224.64 \r\nL 102.857143 224.64 \r\nL 102.857143 223.706781 \r\n\" style=\"fill:#440154;\"/>\r\n    <path clip-path=\"url(#p74fc7bd7d8)\" d=\"M 150.685714 223.706781 \r\nL 198.514286 223.706781 \r\nL 198.514286 224.64 \r\nL 150.685714 224.64 \r\nL 150.685714 223.706781 \r\n\" style=\"fill:#440154;\"/>\r\n    <path clip-path=\"url(#p74fc7bd7d8)\" d=\"M 198.514286 223.706781 \r\nL 246.342857 223.706781 \r\nL 246.342857 224.64 \r\nL 198.514286 224.64 \r\nL 198.514286 223.706781 \r\n\" style=\"fill:#440154;\"/>\r\n    <path clip-path=\"url(#p74fc7bd7d8)\" d=\"M 246.342857 223.706781 \r\nL 294.171429 223.706781 \r\nL 294.171429 224.64 \r\nL 246.342857 224.64 \r\nL 246.342857 223.706781 \r\n\" style=\"fill:#440154;\"/>\r\n    <path clip-path=\"url(#p74fc7bd7d8)\" d=\"M 294.171429 223.706781 \r\nL 342 223.706781 \r\nL 342 224.64 \r\nL 294.171429 224.64 \r\nL 294.171429 223.706781 \r\n\" style=\"fill:#fde725;\"/>\r\n   </g>\r\n   <g id=\"matplotlib.axis_1\">\r\n    <g id=\"xtick_1\">\r\n     <g id=\"line2d_1\">\r\n      <defs>\r\n       <path d=\"M 0 0 \r\nL 0 3.5 \r\n\" id=\"meebecde52a\" style=\"stroke:#000000;stroke-width:0.8;\"/>\r\n      </defs>\r\n      <g>\r\n       <use style=\"stroke:#000000;stroke-width:0.8;\" x=\"31.114286\" xlink:href=\"#meebecde52a\" y=\"224.64\"/>\r\n      </g>\r\n     </g>\r\n     <g id=\"text_1\">\r\n      <!-- district_id -->\r\n      <defs>\r\n       <path d=\"M 45.40625 46.390625 \r\nL 45.40625 75.984375 \r\nL 54.390625 75.984375 \r\nL 54.390625 0 \r\nL 45.40625 0 \r\nL 45.40625 8.203125 \r\nQ 42.578125 3.328125 38.25 0.953125 \r\nQ 33.9375 -1.421875 27.875 -1.421875 \r\nQ 17.96875 -1.421875 11.734375 6.484375 \r\nQ 5.515625 14.40625 5.515625 27.296875 \r\nQ 5.515625 40.1875 11.734375 48.09375 \r\nQ 17.96875 56 27.875 56 \r\nQ 33.9375 56 38.25 53.625 \r\nQ 42.578125 51.265625 45.40625 46.390625 \r\nz\r\nM 14.796875 27.296875 \r\nQ 14.796875 17.390625 18.875 11.75 \r\nQ 22.953125 6.109375 30.078125 6.109375 \r\nQ 37.203125 6.109375 41.296875 11.75 \r\nQ 45.40625 17.390625 45.40625 27.296875 \r\nQ 45.40625 37.203125 41.296875 42.84375 \r\nQ 37.203125 48.484375 30.078125 48.484375 \r\nQ 22.953125 48.484375 18.875 42.84375 \r\nQ 14.796875 37.203125 14.796875 27.296875 \r\nz\r\n\" id=\"DejaVuSans-100\"/>\r\n       <path d=\"M 9.421875 54.6875 \r\nL 18.40625 54.6875 \r\nL 18.40625 0 \r\nL 9.421875 0 \r\nz\r\nM 9.421875 75.984375 \r\nL 18.40625 75.984375 \r\nL 18.40625 64.59375 \r\nL 9.421875 64.59375 \r\nz\r\n\" id=\"DejaVuSans-105\"/>\r\n       <path d=\"M 44.28125 53.078125 \r\nL 44.28125 44.578125 \r\nQ 40.484375 46.53125 36.375 47.5 \r\nQ 32.28125 48.484375 27.875 48.484375 \r\nQ 21.1875 48.484375 17.84375 46.4375 \r\nQ 14.5 44.390625 14.5 40.28125 \r\nQ 14.5 37.15625 16.890625 35.375 \r\nQ 19.28125 33.59375 26.515625 31.984375 \r\nL 29.59375 31.296875 \r\nQ 39.15625 29.25 43.1875 25.515625 \r\nQ 47.21875 21.78125 47.21875 15.09375 \r\nQ 47.21875 7.46875 41.1875 3.015625 \r\nQ 35.15625 -1.421875 24.609375 -1.421875 \r\nQ 20.21875 -1.421875 15.453125 -0.5625 \r\nQ 10.6875 0.296875 5.421875 2 \r\nL 5.421875 11.28125 \r\nQ 10.40625 8.6875 15.234375 7.390625 \r\nQ 20.0625 6.109375 24.8125 6.109375 \r\nQ 31.15625 6.109375 34.5625 8.28125 \r\nQ 37.984375 10.453125 37.984375 14.40625 \r\nQ 37.984375 18.0625 35.515625 20.015625 \r\nQ 33.0625 21.96875 24.703125 23.78125 \r\nL 21.578125 24.515625 \r\nQ 13.234375 26.265625 9.515625 29.90625 \r\nQ 5.8125 33.546875 5.8125 39.890625 \r\nQ 5.8125 47.609375 11.28125 51.796875 \r\nQ 16.75 56 26.8125 56 \r\nQ 31.78125 56 36.171875 55.265625 \r\nQ 40.578125 54.546875 44.28125 53.078125 \r\nz\r\n\" id=\"DejaVuSans-115\"/>\r\n       <path d=\"M 18.3125 70.21875 \r\nL 18.3125 54.6875 \r\nL 36.8125 54.6875 \r\nL 36.8125 47.703125 \r\nL 18.3125 47.703125 \r\nL 18.3125 18.015625 \r\nQ 18.3125 11.328125 20.140625 9.421875 \r\nQ 21.96875 7.515625 27.59375 7.515625 \r\nL 36.8125 7.515625 \r\nL 36.8125 0 \r\nL 27.59375 0 \r\nQ 17.1875 0 13.234375 3.875 \r\nQ 9.28125 7.765625 9.28125 18.015625 \r\nL 9.28125 47.703125 \r\nL 2.6875 47.703125 \r\nL 2.6875 54.6875 \r\nL 9.28125 54.6875 \r\nL 9.28125 70.21875 \r\nz\r\n\" id=\"DejaVuSans-116\"/>\r\n       <path d=\"M 41.109375 46.296875 \r\nQ 39.59375 47.171875 37.8125 47.578125 \r\nQ 36.03125 48 33.890625 48 \r\nQ 26.265625 48 22.1875 43.046875 \r\nQ 18.109375 38.09375 18.109375 28.8125 \r\nL 18.109375 0 \r\nL 9.078125 0 \r\nL 9.078125 54.6875 \r\nL 18.109375 54.6875 \r\nL 18.109375 46.1875 \r\nQ 20.953125 51.171875 25.484375 53.578125 \r\nQ 30.03125 56 36.53125 56 \r\nQ 37.453125 56 38.578125 55.875 \r\nQ 39.703125 55.765625 41.0625 55.515625 \r\nz\r\n\" id=\"DejaVuSans-114\"/>\r\n       <path d=\"M 48.78125 52.59375 \r\nL 48.78125 44.1875 \r\nQ 44.96875 46.296875 41.140625 47.34375 \r\nQ 37.3125 48.390625 33.40625 48.390625 \r\nQ 24.65625 48.390625 19.8125 42.84375 \r\nQ 14.984375 37.3125 14.984375 27.296875 \r\nQ 14.984375 17.28125 19.8125 11.734375 \r\nQ 24.65625 6.203125 33.40625 6.203125 \r\nQ 37.3125 6.203125 41.140625 7.25 \r\nQ 44.96875 8.296875 48.78125 10.40625 \r\nL 48.78125 2.09375 \r\nQ 45.015625 0.34375 40.984375 -0.53125 \r\nQ 36.96875 -1.421875 32.421875 -1.421875 \r\nQ 20.0625 -1.421875 12.78125 6.34375 \r\nQ 5.515625 14.109375 5.515625 27.296875 \r\nQ 5.515625 40.671875 12.859375 48.328125 \r\nQ 20.21875 56 33.015625 56 \r\nQ 37.15625 56 41.109375 55.140625 \r\nQ 45.0625 54.296875 48.78125 52.59375 \r\nz\r\n\" id=\"DejaVuSans-99\"/>\r\n       <path d=\"M 50.984375 -16.609375 \r\nL 50.984375 -23.578125 \r\nL -0.984375 -23.578125 \r\nL -0.984375 -16.609375 \r\nz\r\n\" id=\"DejaVuSans-95\"/>\r\n      </defs>\r\n      <g transform=\"translate(34.782723 299.806875)rotate(-90)scale(0.14 -0.14)\">\r\n       <use xlink:href=\"#DejaVuSans-100\"/>\r\n       <use x=\"63.476562\" xlink:href=\"#DejaVuSans-105\"/>\r\n       <use x=\"91.259766\" xlink:href=\"#DejaVuSans-115\"/>\r\n       <use x=\"143.359375\" xlink:href=\"#DejaVuSans-116\"/>\r\n       <use x=\"182.568359\" xlink:href=\"#DejaVuSans-114\"/>\r\n       <use x=\"223.681641\" xlink:href=\"#DejaVuSans-105\"/>\r\n       <use x=\"251.464844\" xlink:href=\"#DejaVuSans-99\"/>\r\n       <use x=\"306.445312\" xlink:href=\"#DejaVuSans-116\"/>\r\n       <use x=\"345.654297\" xlink:href=\"#DejaVuSans-95\"/>\r\n       <use x=\"395.654297\" xlink:href=\"#DejaVuSans-105\"/>\r\n       <use x=\"423.4375\" xlink:href=\"#DejaVuSans-100\"/>\r\n      </g>\r\n     </g>\r\n    </g>\r\n    <g id=\"xtick_2\">\r\n     <g id=\"line2d_2\">\r\n      <g>\r\n       <use style=\"stroke:#000000;stroke-width:0.8;\" x=\"78.942857\" xlink:href=\"#meebecde52a\" y=\"224.64\"/>\r\n      </g>\r\n     </g>\r\n     <g id=\"text_2\">\r\n      <!-- state -->\r\n      <defs>\r\n       <path d=\"M 34.28125 27.484375 \r\nQ 23.390625 27.484375 19.1875 25 \r\nQ 14.984375 22.515625 14.984375 16.5 \r\nQ 14.984375 11.71875 18.140625 8.90625 \r\nQ 21.296875 6.109375 26.703125 6.109375 \r\nQ 34.1875 6.109375 38.703125 11.40625 \r\nQ 43.21875 16.703125 43.21875 25.484375 \r\nL 43.21875 27.484375 \r\nz\r\nM 52.203125 31.203125 \r\nL 52.203125 0 \r\nL 43.21875 0 \r\nL 43.21875 8.296875 \r\nQ 40.140625 3.328125 35.546875 0.953125 \r\nQ 30.953125 -1.421875 24.3125 -1.421875 \r\nQ 15.921875 -1.421875 10.953125 3.296875 \r\nQ 6 8.015625 6 15.921875 \r\nQ 6 25.140625 12.171875 29.828125 \r\nQ 18.359375 34.515625 30.609375 34.515625 \r\nL 43.21875 34.515625 \r\nL 43.21875 35.40625 \r\nQ 43.21875 41.609375 39.140625 45 \r\nQ 35.0625 48.390625 27.6875 48.390625 \r\nQ 23 48.390625 18.546875 47.265625 \r\nQ 14.109375 46.140625 10.015625 43.890625 \r\nL 10.015625 52.203125 \r\nQ 14.9375 54.109375 19.578125 55.046875 \r\nQ 24.21875 56 28.609375 56 \r\nQ 40.484375 56 46.34375 49.84375 \r\nQ 52.203125 43.703125 52.203125 31.203125 \r\nz\r\n\" id=\"DejaVuSans-97\"/>\r\n       <path d=\"M 56.203125 29.59375 \r\nL 56.203125 25.203125 \r\nL 14.890625 25.203125 \r\nQ 15.484375 15.921875 20.484375 11.0625 \r\nQ 25.484375 6.203125 34.421875 6.203125 \r\nQ 39.59375 6.203125 44.453125 7.46875 \r\nQ 49.3125 8.734375 54.109375 11.28125 \r\nL 54.109375 2.78125 \r\nQ 49.265625 0.734375 44.1875 -0.34375 \r\nQ 39.109375 -1.421875 33.890625 -1.421875 \r\nQ 20.796875 -1.421875 13.15625 6.1875 \r\nQ 5.515625 13.8125 5.515625 26.8125 \r\nQ 5.515625 40.234375 12.765625 48.109375 \r\nQ 20.015625 56 32.328125 56 \r\nQ 43.359375 56 49.78125 48.890625 \r\nQ 56.203125 41.796875 56.203125 29.59375 \r\nz\r\nM 47.21875 32.234375 \r\nQ 47.125 39.59375 43.09375 43.984375 \r\nQ 39.0625 48.390625 32.421875 48.390625 \r\nQ 24.90625 48.390625 20.390625 44.140625 \r\nQ 15.875 39.890625 15.1875 32.171875 \r\nz\r\n\" id=\"DejaVuSans-101\"/>\r\n      </defs>\r\n      <g transform=\"translate(82.805982 267.10375)rotate(-90)scale(0.14 -0.14)\">\r\n       <use xlink:href=\"#DejaVuSans-115\"/>\r\n       <use x=\"52.099609\" xlink:href=\"#DejaVuSans-116\"/>\r\n       <use x=\"91.308594\" xlink:href=\"#DejaVuSans-97\"/>\r\n       <use x=\"152.587891\" xlink:href=\"#DejaVuSans-116\"/>\r\n       <use x=\"191.796875\" xlink:href=\"#DejaVuSans-101\"/>\r\n      </g>\r\n     </g>\r\n    </g>\r\n    <g id=\"xtick_3\">\r\n     <g id=\"line2d_3\">\r\n      <g>\r\n       <use style=\"stroke:#000000;stroke-width:0.8;\" x=\"126.771429\" xlink:href=\"#meebecde52a\" y=\"224.64\"/>\r\n      </g>\r\n     </g>\r\n     <g id=\"text_3\">\r\n      <!-- locale -->\r\n      <defs>\r\n       <path d=\"M 9.421875 75.984375 \r\nL 18.40625 75.984375 \r\nL 18.40625 0 \r\nL 9.421875 0 \r\nz\r\n\" id=\"DejaVuSans-108\"/>\r\n       <path d=\"M 30.609375 48.390625 \r\nQ 23.390625 48.390625 19.1875 42.75 \r\nQ 14.984375 37.109375 14.984375 27.296875 \r\nQ 14.984375 17.484375 19.15625 11.84375 \r\nQ 23.34375 6.203125 30.609375 6.203125 \r\nQ 37.796875 6.203125 41.984375 11.859375 \r\nQ 46.1875 17.53125 46.1875 27.296875 \r\nQ 46.1875 37.015625 41.984375 42.703125 \r\nQ 37.796875 48.390625 30.609375 48.390625 \r\nz\r\nM 30.609375 56 \r\nQ 42.328125 56 49.015625 48.375 \r\nQ 55.71875 40.765625 55.71875 27.296875 \r\nQ 55.71875 13.875 49.015625 6.21875 \r\nQ 42.328125 -1.421875 30.609375 -1.421875 \r\nQ 18.84375 -1.421875 12.171875 6.21875 \r\nQ 5.515625 13.875 5.515625 27.296875 \r\nQ 5.515625 40.765625 12.171875 48.375 \r\nQ 18.84375 56 30.609375 56 \r\nz\r\n\" id=\"DejaVuSans-111\"/>\r\n      </defs>\r\n      <g transform=\"translate(130.634554 272.876562)rotate(-90)scale(0.14 -0.14)\">\r\n       <use xlink:href=\"#DejaVuSans-108\"/>\r\n       <use x=\"27.783203\" xlink:href=\"#DejaVuSans-111\"/>\r\n       <use x=\"88.964844\" xlink:href=\"#DejaVuSans-99\"/>\r\n       <use x=\"143.945312\" xlink:href=\"#DejaVuSans-97\"/>\r\n       <use x=\"205.224609\" xlink:href=\"#DejaVuSans-108\"/>\r\n       <use x=\"233.007812\" xlink:href=\"#DejaVuSans-101\"/>\r\n      </g>\r\n     </g>\r\n    </g>\r\n    <g id=\"xtick_4\">\r\n     <g id=\"line2d_4\">\r\n      <g>\r\n       <use style=\"stroke:#000000;stroke-width:0.8;\" x=\"174.6\" xlink:href=\"#meebecde52a\" y=\"224.64\"/>\r\n      </g>\r\n     </g>\r\n     <g id=\"text_4\">\r\n      <!-- pct_black/hispanic -->\r\n      <defs>\r\n       <path d=\"M 18.109375 8.203125 \r\nL 18.109375 -20.796875 \r\nL 9.078125 -20.796875 \r\nL 9.078125 54.6875 \r\nL 18.109375 54.6875 \r\nL 18.109375 46.390625 \r\nQ 20.953125 51.265625 25.265625 53.625 \r\nQ 29.59375 56 35.59375 56 \r\nQ 45.5625 56 51.78125 48.09375 \r\nQ 58.015625 40.1875 58.015625 27.296875 \r\nQ 58.015625 14.40625 51.78125 6.484375 \r\nQ 45.5625 -1.421875 35.59375 -1.421875 \r\nQ 29.59375 -1.421875 25.265625 0.953125 \r\nQ 20.953125 3.328125 18.109375 8.203125 \r\nz\r\nM 48.6875 27.296875 \r\nQ 48.6875 37.203125 44.609375 42.84375 \r\nQ 40.53125 48.484375 33.40625 48.484375 \r\nQ 26.265625 48.484375 22.1875 42.84375 \r\nQ 18.109375 37.203125 18.109375 27.296875 \r\nQ 18.109375 17.390625 22.1875 11.75 \r\nQ 26.265625 6.109375 33.40625 6.109375 \r\nQ 40.53125 6.109375 44.609375 11.75 \r\nQ 48.6875 17.390625 48.6875 27.296875 \r\nz\r\n\" id=\"DejaVuSans-112\"/>\r\n       <path d=\"M 48.6875 27.296875 \r\nQ 48.6875 37.203125 44.609375 42.84375 \r\nQ 40.53125 48.484375 33.40625 48.484375 \r\nQ 26.265625 48.484375 22.1875 42.84375 \r\nQ 18.109375 37.203125 18.109375 27.296875 \r\nQ 18.109375 17.390625 22.1875 11.75 \r\nQ 26.265625 6.109375 33.40625 6.109375 \r\nQ 40.53125 6.109375 44.609375 11.75 \r\nQ 48.6875 17.390625 48.6875 27.296875 \r\nz\r\nM 18.109375 46.390625 \r\nQ 20.953125 51.265625 25.265625 53.625 \r\nQ 29.59375 56 35.59375 56 \r\nQ 45.5625 56 51.78125 48.09375 \r\nQ 58.015625 40.1875 58.015625 27.296875 \r\nQ 58.015625 14.40625 51.78125 6.484375 \r\nQ 45.5625 -1.421875 35.59375 -1.421875 \r\nQ 29.59375 -1.421875 25.265625 0.953125 \r\nQ 20.953125 3.328125 18.109375 8.203125 \r\nL 18.109375 0 \r\nL 9.078125 0 \r\nL 9.078125 75.984375 \r\nL 18.109375 75.984375 \r\nz\r\n\" id=\"DejaVuSans-98\"/>\r\n       <path d=\"M 9.078125 75.984375 \r\nL 18.109375 75.984375 \r\nL 18.109375 31.109375 \r\nL 44.921875 54.6875 \r\nL 56.390625 54.6875 \r\nL 27.390625 29.109375 \r\nL 57.625 0 \r\nL 45.90625 0 \r\nL 18.109375 26.703125 \r\nL 18.109375 0 \r\nL 9.078125 0 \r\nz\r\n\" id=\"DejaVuSans-107\"/>\r\n       <path d=\"M 25.390625 72.90625 \r\nL 33.6875 72.90625 \r\nL 8.296875 -9.28125 \r\nL 0 -9.28125 \r\nz\r\n\" id=\"DejaVuSans-47\"/>\r\n       <path d=\"M 54.890625 33.015625 \r\nL 54.890625 0 \r\nL 45.90625 0 \r\nL 45.90625 32.71875 \r\nQ 45.90625 40.484375 42.875 44.328125 \r\nQ 39.84375 48.1875 33.796875 48.1875 \r\nQ 26.515625 48.1875 22.3125 43.546875 \r\nQ 18.109375 38.921875 18.109375 30.90625 \r\nL 18.109375 0 \r\nL 9.078125 0 \r\nL 9.078125 75.984375 \r\nL 18.109375 75.984375 \r\nL 18.109375 46.1875 \r\nQ 21.34375 51.125 25.703125 53.5625 \r\nQ 30.078125 56 35.796875 56 \r\nQ 45.21875 56 50.046875 50.171875 \r\nQ 54.890625 44.34375 54.890625 33.015625 \r\nz\r\n\" id=\"DejaVuSans-104\"/>\r\n       <path d=\"M 54.890625 33.015625 \r\nL 54.890625 0 \r\nL 45.90625 0 \r\nL 45.90625 32.71875 \r\nQ 45.90625 40.484375 42.875 44.328125 \r\nQ 39.84375 48.1875 33.796875 48.1875 \r\nQ 26.515625 48.1875 22.3125 43.546875 \r\nQ 18.109375 38.921875 18.109375 30.90625 \r\nL 18.109375 0 \r\nL 9.078125 0 \r\nL 9.078125 54.6875 \r\nL 18.109375 54.6875 \r\nL 18.109375 46.1875 \r\nQ 21.34375 51.125 25.703125 53.5625 \r\nQ 30.078125 56 35.796875 56 \r\nQ 45.21875 56 50.046875 50.171875 \r\nQ 54.890625 44.34375 54.890625 33.015625 \r\nz\r\n\" id=\"DejaVuSans-110\"/>\r\n      </defs>\r\n      <g transform=\"translate(178.268438 360.573437)rotate(-90)scale(0.14 -0.14)\">\r\n       <use xlink:href=\"#DejaVuSans-112\"/>\r\n       <use x=\"63.476562\" xlink:href=\"#DejaVuSans-99\"/>\r\n       <use x=\"118.457031\" xlink:href=\"#DejaVuSans-116\"/>\r\n       <use x=\"157.666016\" xlink:href=\"#DejaVuSans-95\"/>\r\n       <use x=\"207.666016\" xlink:href=\"#DejaVuSans-98\"/>\r\n       <use x=\"271.142578\" xlink:href=\"#DejaVuSans-108\"/>\r\n       <use x=\"298.925781\" xlink:href=\"#DejaVuSans-97\"/>\r\n       <use x=\"360.205078\" xlink:href=\"#DejaVuSans-99\"/>\r\n       <use x=\"415.185547\" xlink:href=\"#DejaVuSans-107\"/>\r\n       <use x=\"473.095703\" xlink:href=\"#DejaVuSans-47\"/>\r\n       <use x=\"506.787109\" xlink:href=\"#DejaVuSans-104\"/>\r\n       <use x=\"570.166016\" xlink:href=\"#DejaVuSans-105\"/>\r\n       <use x=\"597.949219\" xlink:href=\"#DejaVuSans-115\"/>\r\n       <use x=\"650.048828\" xlink:href=\"#DejaVuSans-112\"/>\r\n       <use x=\"713.525391\" xlink:href=\"#DejaVuSans-97\"/>\r\n       <use x=\"774.804688\" xlink:href=\"#DejaVuSans-110\"/>\r\n       <use x=\"838.183594\" xlink:href=\"#DejaVuSans-105\"/>\r\n       <use x=\"865.966797\" xlink:href=\"#DejaVuSans-99\"/>\r\n      </g>\r\n     </g>\r\n    </g>\r\n    <g id=\"xtick_5\">\r\n     <g id=\"line2d_5\">\r\n      <g>\r\n       <use style=\"stroke:#000000;stroke-width:0.8;\" x=\"222.428571\" xlink:href=\"#meebecde52a\" y=\"224.64\"/>\r\n      </g>\r\n     </g>\r\n     <g id=\"text_5\">\r\n      <!-- pct_free/reduced -->\r\n      <defs>\r\n       <path d=\"M 37.109375 75.984375 \r\nL 37.109375 68.5 \r\nL 28.515625 68.5 \r\nQ 23.6875 68.5 21.796875 66.546875 \r\nQ 19.921875 64.59375 19.921875 59.515625 \r\nL 19.921875 54.6875 \r\nL 34.71875 54.6875 \r\nL 34.71875 47.703125 \r\nL 19.921875 47.703125 \r\nL 19.921875 0 \r\nL 10.890625 0 \r\nL 10.890625 47.703125 \r\nL 2.296875 47.703125 \r\nL 2.296875 54.6875 \r\nL 10.890625 54.6875 \r\nL 10.890625 58.5 \r\nQ 10.890625 67.625 15.140625 71.796875 \r\nQ 19.390625 75.984375 28.609375 75.984375 \r\nz\r\n\" id=\"DejaVuSans-102\"/>\r\n       <path d=\"M 8.5 21.578125 \r\nL 8.5 54.6875 \r\nL 17.484375 54.6875 \r\nL 17.484375 21.921875 \r\nQ 17.484375 14.15625 20.5 10.265625 \r\nQ 23.53125 6.390625 29.59375 6.390625 \r\nQ 36.859375 6.390625 41.078125 11.03125 \r\nQ 45.3125 15.671875 45.3125 23.6875 \r\nL 45.3125 54.6875 \r\nL 54.296875 54.6875 \r\nL 54.296875 0 \r\nL 45.3125 0 \r\nL 45.3125 8.40625 \r\nQ 42.046875 3.421875 37.71875 1 \r\nQ 33.40625 -1.421875 27.6875 -1.421875 \r\nQ 18.265625 -1.421875 13.375 4.4375 \r\nQ 8.5 10.296875 8.5 21.578125 \r\nz\r\nM 31.109375 56 \r\nz\r\n\" id=\"DejaVuSans-117\"/>\r\n      </defs>\r\n      <g transform=\"translate(226.097009 350.042812)rotate(-90)scale(0.14 -0.14)\">\r\n       <use xlink:href=\"#DejaVuSans-112\"/>\r\n       <use x=\"63.476562\" xlink:href=\"#DejaVuSans-99\"/>\r\n       <use x=\"118.457031\" xlink:href=\"#DejaVuSans-116\"/>\r\n       <use x=\"157.666016\" xlink:href=\"#DejaVuSans-95\"/>\r\n       <use x=\"207.666016\" xlink:href=\"#DejaVuSans-102\"/>\r\n       <use x=\"242.871094\" xlink:href=\"#DejaVuSans-114\"/>\r\n       <use x=\"281.734375\" xlink:href=\"#DejaVuSans-101\"/>\r\n       <use x=\"343.257812\" xlink:href=\"#DejaVuSans-101\"/>\r\n       <use x=\"404.78125\" xlink:href=\"#DejaVuSans-47\"/>\r\n       <use x=\"438.472656\" xlink:href=\"#DejaVuSans-114\"/>\r\n       <use x=\"477.335938\" xlink:href=\"#DejaVuSans-101\"/>\r\n       <use x=\"538.859375\" xlink:href=\"#DejaVuSans-100\"/>\r\n       <use x=\"602.335938\" xlink:href=\"#DejaVuSans-117\"/>\r\n       <use x=\"665.714844\" xlink:href=\"#DejaVuSans-99\"/>\r\n       <use x=\"720.695312\" xlink:href=\"#DejaVuSans-101\"/>\r\n       <use x=\"782.21875\" xlink:href=\"#DejaVuSans-100\"/>\r\n      </g>\r\n     </g>\r\n    </g>\r\n    <g id=\"xtick_6\">\r\n     <g id=\"line2d_6\">\r\n      <g>\r\n       <use style=\"stroke:#000000;stroke-width:0.8;\" x=\"270.257143\" xlink:href=\"#meebecde52a\" y=\"224.64\"/>\r\n      </g>\r\n     </g>\r\n     <g id=\"text_6\">\r\n      <!-- county_connections_ratio -->\r\n      <defs>\r\n       <path d=\"M 32.171875 -5.078125 \r\nQ 28.375 -14.84375 24.75 -17.8125 \r\nQ 21.140625 -20.796875 15.09375 -20.796875 \r\nL 7.90625 -20.796875 \r\nL 7.90625 -13.28125 \r\nL 13.1875 -13.28125 \r\nQ 16.890625 -13.28125 18.9375 -11.515625 \r\nQ 21 -9.765625 23.484375 -3.21875 \r\nL 25.09375 0.875 \r\nL 2.984375 54.6875 \r\nL 12.5 54.6875 \r\nL 29.59375 11.921875 \r\nL 46.6875 54.6875 \r\nL 56.203125 54.6875 \r\nz\r\n\" id=\"DejaVuSans-121\"/>\r\n      </defs>\r\n      <g transform=\"translate(273.92558 410.133438)rotate(-90)scale(0.14 -0.14)\">\r\n       <use xlink:href=\"#DejaVuSans-99\"/>\r\n       <use x=\"54.980469\" xlink:href=\"#DejaVuSans-111\"/>\r\n       <use x=\"116.162109\" xlink:href=\"#DejaVuSans-117\"/>\r\n       <use x=\"179.541016\" xlink:href=\"#DejaVuSans-110\"/>\r\n       <use x=\"242.919922\" xlink:href=\"#DejaVuSans-116\"/>\r\n       <use x=\"282.128906\" xlink:href=\"#DejaVuSans-121\"/>\r\n       <use x=\"341.308594\" xlink:href=\"#DejaVuSans-95\"/>\r\n       <use x=\"391.308594\" xlink:href=\"#DejaVuSans-99\"/>\r\n       <use x=\"446.289062\" xlink:href=\"#DejaVuSans-111\"/>\r\n       <use x=\"507.470703\" xlink:href=\"#DejaVuSans-110\"/>\r\n       <use x=\"570.849609\" xlink:href=\"#DejaVuSans-110\"/>\r\n       <use x=\"634.228516\" xlink:href=\"#DejaVuSans-101\"/>\r\n       <use x=\"695.751953\" xlink:href=\"#DejaVuSans-99\"/>\r\n       <use x=\"750.732422\" xlink:href=\"#DejaVuSans-116\"/>\r\n       <use x=\"789.941406\" xlink:href=\"#DejaVuSans-105\"/>\r\n       <use x=\"817.724609\" xlink:href=\"#DejaVuSans-111\"/>\r\n       <use x=\"878.90625\" xlink:href=\"#DejaVuSans-110\"/>\r\n       <use x=\"942.285156\" xlink:href=\"#DejaVuSans-115\"/>\r\n       <use x=\"994.384766\" xlink:href=\"#DejaVuSans-95\"/>\r\n       <use x=\"1044.384766\" xlink:href=\"#DejaVuSans-114\"/>\r\n       <use x=\"1085.498047\" xlink:href=\"#DejaVuSans-97\"/>\r\n       <use x=\"1146.777344\" xlink:href=\"#DejaVuSans-116\"/>\r\n       <use x=\"1185.986328\" xlink:href=\"#DejaVuSans-105\"/>\r\n       <use x=\"1213.769531\" xlink:href=\"#DejaVuSans-111\"/>\r\n      </g>\r\n     </g>\r\n    </g>\r\n    <g id=\"xtick_7\">\r\n     <g id=\"line2d_7\">\r\n      <g>\r\n       <use style=\"stroke:#000000;stroke-width:0.8;\" x=\"318.085714\" xlink:href=\"#meebecde52a\" y=\"224.64\"/>\r\n      </g>\r\n     </g>\r\n     <g id=\"text_7\">\r\n      <!-- pp_total_raw -->\r\n      <defs>\r\n       <path d=\"M 4.203125 54.6875 \r\nL 13.1875 54.6875 \r\nL 24.421875 12.015625 \r\nL 35.59375 54.6875 \r\nL 46.1875 54.6875 \r\nL 57.421875 12.015625 \r\nL 68.609375 54.6875 \r\nL 77.59375 54.6875 \r\nL 63.28125 0 \r\nL 52.6875 0 \r\nL 40.921875 44.828125 \r\nL 29.109375 0 \r\nL 18.5 0 \r\nz\r\n\" id=\"DejaVuSans-119\"/>\r\n      </defs>\r\n      <g transform=\"translate(321.754152 321.211562)rotate(-90)scale(0.14 -0.14)\">\r\n       <use xlink:href=\"#DejaVuSans-112\"/>\r\n       <use x=\"63.476562\" xlink:href=\"#DejaVuSans-112\"/>\r\n       <use x=\"126.953125\" xlink:href=\"#DejaVuSans-95\"/>\r\n       <use x=\"176.953125\" xlink:href=\"#DejaVuSans-116\"/>\r\n       <use x=\"216.162109\" xlink:href=\"#DejaVuSans-111\"/>\r\n       <use x=\"277.34375\" xlink:href=\"#DejaVuSans-116\"/>\r\n       <use x=\"316.552734\" xlink:href=\"#DejaVuSans-97\"/>\r\n       <use x=\"377.832031\" xlink:href=\"#DejaVuSans-108\"/>\r\n       <use x=\"405.615234\" xlink:href=\"#DejaVuSans-95\"/>\r\n       <use x=\"455.615234\" xlink:href=\"#DejaVuSans-114\"/>\r\n       <use x=\"496.728516\" xlink:href=\"#DejaVuSans-97\"/>\r\n       <use x=\"558.007812\" xlink:href=\"#DejaVuSans-119\"/>\r\n      </g>\r\n     </g>\r\n    </g>\r\n   </g>\r\n   <g id=\"matplotlib.axis_2\"/>\r\n  </g>\r\n </g>\r\n <defs>\r\n  <clipPath id=\"p74fc7bd7d8\">\r\n   <rect height=\"217.44\" width=\"334.8\" x=\"7.2\" y=\"7.2\"/>\r\n  </clipPath>\r\n </defs>\r\n</svg>\r\n",
      "image/png": "[encoded data removed]"
     },
     "metadata": {
      "needs_background": "light"
     }
    }
   ],
   "metadata": {}
  },
  {
   "cell_type": "code",
   "execution_count": 209,
   "source": [
    "districts_info.info()"
   ],
   "outputs": [
    {
     "output_type": "stream",
     "name": "stdout",
     "text": [
      "<class 'pandas.core.frame.DataFrame'>\n",
      "RangeIndex: 233 entries, 0 to 232\n",
      "Data columns (total 7 columns):\n",
      " #   Column                    Non-Null Count  Dtype \n",
      "---  ------                    --------------  ----- \n",
      " 0   district_id               233 non-null    int64 \n",
      " 1   state                     176 non-null    object\n",
      " 2   locale                    176 non-null    object\n",
      " 3   pct_black/hispanic        176 non-null    object\n",
      " 4   pct_free/reduced          148 non-null    object\n",
      " 5   county_connections_ratio  162 non-null    object\n",
      " 6   pp_total_raw              118 non-null    object\n",
      "dtypes: int64(1), object(6)\n",
      "memory usage: 12.9+ KB\n"
     ]
    }
   ],
   "metadata": {}
  },
  {
   "cell_type": "markdown",
   "source": [
    "Drop NAN data\r\n",
    "Since we cannot work with state with missing values, from the district data above we can only work with 176 states. "
   ],
   "metadata": {}
  },
  {
   "cell_type": "code",
   "execution_count": 210,
   "source": [
    "districts_info = districts_info[districts_info.state.notna()].reset_index(drop = True)"
   ],
   "outputs": [],
   "metadata": {}
  },
  {
   "cell_type": "code",
   "execution_count": 211,
   "source": [
    "districts_info.head()"
   ],
   "outputs": [
    {
     "output_type": "execute_result",
     "data": {
      "text/plain": [
       "   district_id           state  locale pct_black/hispanic pct_free/reduced  \\\n",
       "0         8815        Illinois  Suburb           [0, 0.2[         [0, 0.2[   \n",
       "1         4921            Utah  Suburb           [0, 0.2[       [0.2, 0.4[   \n",
       "2         5987       Wisconsin  Suburb           [0, 0.2[         [0, 0.2[   \n",
       "3         3710            Utah  Suburb           [0, 0.2[       [0.4, 0.6[   \n",
       "4         7177  North Carolina  Suburb         [0.2, 0.4[       [0.2, 0.4[   \n",
       "\n",
       "  county_connections_ratio    pp_total_raw  \n",
       "0                [0.18, 1[  [14000, 16000[  \n",
       "1                [0.18, 1[    [6000, 8000[  \n",
       "2                [0.18, 1[  [10000, 12000[  \n",
       "3                [0.18, 1[    [6000, 8000[  \n",
       "4                [0.18, 1[   [8000, 10000[  "
      ],
      "text/html": [
       "<div>\n",
       "<style scoped>\n",
       "    .dataframe tbody tr th:only-of-type {\n",
       "        vertical-align: middle;\n",
       "    }\n",
       "\n",
       "    .dataframe tbody tr th {\n",
       "        vertical-align: top;\n",
       "    }\n",
       "\n",
       "    .dataframe thead th {\n",
       "        text-align: right;\n",
       "    }\n",
       "</style>\n",
       "<table border=\"1\" class=\"dataframe\">\n",
       "  <thead>\n",
       "    <tr style=\"text-align: right;\">\n",
       "      <th></th>\n",
       "      <th>district_id</th>\n",
       "      <th>state</th>\n",
       "      <th>locale</th>\n",
       "      <th>pct_black/hispanic</th>\n",
       "      <th>pct_free/reduced</th>\n",
       "      <th>county_connections_ratio</th>\n",
       "      <th>pp_total_raw</th>\n",
       "    </tr>\n",
       "  </thead>\n",
       "  <tbody>\n",
       "    <tr>\n",
       "      <th>0</th>\n",
       "      <td>8815</td>\n",
       "      <td>Illinois</td>\n",
       "      <td>Suburb</td>\n",
       "      <td>[0, 0.2[</td>\n",
       "      <td>[0, 0.2[</td>\n",
       "      <td>[0.18, 1[</td>\n",
       "      <td>[14000, 16000[</td>\n",
       "    </tr>\n",
       "    <tr>\n",
       "      <th>1</th>\n",
       "      <td>4921</td>\n",
       "      <td>Utah</td>\n",
       "      <td>Suburb</td>\n",
       "      <td>[0, 0.2[</td>\n",
       "      <td>[0.2, 0.4[</td>\n",
       "      <td>[0.18, 1[</td>\n",
       "      <td>[6000, 8000[</td>\n",
       "    </tr>\n",
       "    <tr>\n",
       "      <th>2</th>\n",
       "      <td>5987</td>\n",
       "      <td>Wisconsin</td>\n",
       "      <td>Suburb</td>\n",
       "      <td>[0, 0.2[</td>\n",
       "      <td>[0, 0.2[</td>\n",
       "      <td>[0.18, 1[</td>\n",
       "      <td>[10000, 12000[</td>\n",
       "    </tr>\n",
       "    <tr>\n",
       "      <th>3</th>\n",
       "      <td>3710</td>\n",
       "      <td>Utah</td>\n",
       "      <td>Suburb</td>\n",
       "      <td>[0, 0.2[</td>\n",
       "      <td>[0.4, 0.6[</td>\n",
       "      <td>[0.18, 1[</td>\n",
       "      <td>[6000, 8000[</td>\n",
       "    </tr>\n",
       "    <tr>\n",
       "      <th>4</th>\n",
       "      <td>7177</td>\n",
       "      <td>North Carolina</td>\n",
       "      <td>Suburb</td>\n",
       "      <td>[0.2, 0.4[</td>\n",
       "      <td>[0.2, 0.4[</td>\n",
       "      <td>[0.18, 1[</td>\n",
       "      <td>[8000, 10000[</td>\n",
       "    </tr>\n",
       "  </tbody>\n",
       "</table>\n",
       "</div>"
      ]
     },
     "metadata": {},
     "execution_count": 211
    }
   ],
   "metadata": {}
  },
  {
   "cell_type": "code",
   "execution_count": 212,
   "source": [
    "products_info.head()"
   ],
   "outputs": [
    {
     "output_type": "execute_result",
     "data": {
      "text/plain": [
       "   LP ID                           URL  Product Name  Provider/Company Name  \\\n",
       "0  13117    https://www.splashmath.com   SplashLearn          StudyPad Inc.   \n",
       "1  66933          https://abcmouse.com  ABCmouse.com  Age of Learning, Inc    \n",
       "2  50479         https://www.abcya.com        ABCya!         ABCya.com, LLC   \n",
       "3  92993         http://www.aleks.com/         ALEKS    McGraw-Hill PreK-12   \n",
       "4  73104  https://www.achieve3000.com/   Achieve3000            Achieve3000   \n",
       "\n",
       "            Sector(s)                         Primary Essential Function  \n",
       "0             PreK-12                    LC - Digital Learning Platforms  \n",
       "1             PreK-12                    LC - Digital Learning Platforms  \n",
       "2             PreK-12  LC - Sites, Resources & Reference - Games & Si...  \n",
       "3  PreK-12; Higher Ed                    LC - Digital Learning Platforms  \n",
       "4             PreK-12                    LC - Digital Learning Platforms  "
      ],
      "text/html": [
       "<div>\n",
       "<style scoped>\n",
       "    .dataframe tbody tr th:only-of-type {\n",
       "        vertical-align: middle;\n",
       "    }\n",
       "\n",
       "    .dataframe tbody tr th {\n",
       "        vertical-align: top;\n",
       "    }\n",
       "\n",
       "    .dataframe thead th {\n",
       "        text-align: right;\n",
       "    }\n",
       "</style>\n",
       "<table border=\"1\" class=\"dataframe\">\n",
       "  <thead>\n",
       "    <tr style=\"text-align: right;\">\n",
       "      <th></th>\n",
       "      <th>LP ID</th>\n",
       "      <th>URL</th>\n",
       "      <th>Product Name</th>\n",
       "      <th>Provider/Company Name</th>\n",
       "      <th>Sector(s)</th>\n",
       "      <th>Primary Essential Function</th>\n",
       "    </tr>\n",
       "  </thead>\n",
       "  <tbody>\n",
       "    <tr>\n",
       "      <th>0</th>\n",
       "      <td>13117</td>\n",
       "      <td>https://www.splashmath.com</td>\n",
       "      <td>SplashLearn</td>\n",
       "      <td>StudyPad Inc.</td>\n",
       "      <td>PreK-12</td>\n",
       "      <td>LC - Digital Learning Platforms</td>\n",
       "    </tr>\n",
       "    <tr>\n",
       "      <th>1</th>\n",
       "      <td>66933</td>\n",
       "      <td>https://abcmouse.com</td>\n",
       "      <td>ABCmouse.com</td>\n",
       "      <td>Age of Learning, Inc</td>\n",
       "      <td>PreK-12</td>\n",
       "      <td>LC - Digital Learning Platforms</td>\n",
       "    </tr>\n",
       "    <tr>\n",
       "      <th>2</th>\n",
       "      <td>50479</td>\n",
       "      <td>https://www.abcya.com</td>\n",
       "      <td>ABCya!</td>\n",
       "      <td>ABCya.com, LLC</td>\n",
       "      <td>PreK-12</td>\n",
       "      <td>LC - Sites, Resources &amp; Reference - Games &amp; Si...</td>\n",
       "    </tr>\n",
       "    <tr>\n",
       "      <th>3</th>\n",
       "      <td>92993</td>\n",
       "      <td>http://www.aleks.com/</td>\n",
       "      <td>ALEKS</td>\n",
       "      <td>McGraw-Hill PreK-12</td>\n",
       "      <td>PreK-12; Higher Ed</td>\n",
       "      <td>LC - Digital Learning Platforms</td>\n",
       "    </tr>\n",
       "    <tr>\n",
       "      <th>4</th>\n",
       "      <td>73104</td>\n",
       "      <td>https://www.achieve3000.com/</td>\n",
       "      <td>Achieve3000</td>\n",
       "      <td>Achieve3000</td>\n",
       "      <td>PreK-12</td>\n",
       "      <td>LC - Digital Learning Platforms</td>\n",
       "    </tr>\n",
       "  </tbody>\n",
       "</table>\n",
       "</div>"
      ]
     },
     "metadata": {},
     "execution_count": 212
    }
   ],
   "metadata": {}
  },
  {
   "cell_type": "code",
   "execution_count": 213,
   "source": [
    "sectors = products_info['Sector(s)']"
   ],
   "outputs": [],
   "metadata": {}
  },
  {
   "cell_type": "code",
   "execution_count": 214,
   "source": [
    "sectors.tail(10)"
   ],
   "outputs": [
    {
     "output_type": "execute_result",
     "data": {
      "text/plain": [
       "362    PreK-12; Higher Ed; Corporate\n",
       "363                          PreK-12\n",
       "364                          PreK-12\n",
       "365               PreK-12; Higher Ed\n",
       "366                          PreK-12\n",
       "367    PreK-12; Higher Ed; Corporate\n",
       "368    PreK-12; Higher Ed; Corporate\n",
       "369               PreK-12; Higher Ed\n",
       "370                              NaN\n",
       "371                              NaN\n",
       "Name: Sector(s), dtype: object"
      ]
     },
     "metadata": {},
     "execution_count": 214
    }
   ],
   "metadata": {}
  },
  {
   "cell_type": "code",
   "execution_count": 215,
   "source": [
    "class_sectors = products_info['Sector(s)'].str.get_dummies(sep=\"; \")\r\n",
    "class_sectors.columns = [f\"sector_{re.sub(' ', '', z)}\" for z in class_sectors.columns]"
   ],
   "outputs": [],
   "metadata": {}
  },
  {
   "cell_type": "code",
   "execution_count": 216,
   "source": [
    "products_info = products_info.join(class_sectors)\r\n",
    "products_info.drop(\"Sector(s)\", axis=1, inplace=True)"
   ],
   "outputs": [],
   "metadata": {}
  },
  {
   "cell_type": "code",
   "execution_count": 217,
   "source": [
    "products_info.head()"
   ],
   "outputs": [
    {
     "output_type": "execute_result",
     "data": {
      "text/plain": [
       "   LP ID                           URL  Product Name  Provider/Company Name  \\\n",
       "0  13117    https://www.splashmath.com   SplashLearn          StudyPad Inc.   \n",
       "1  66933          https://abcmouse.com  ABCmouse.com  Age of Learning, Inc    \n",
       "2  50479         https://www.abcya.com        ABCya!         ABCya.com, LLC   \n",
       "3  92993         http://www.aleks.com/         ALEKS    McGraw-Hill PreK-12   \n",
       "4  73104  https://www.achieve3000.com/   Achieve3000            Achieve3000   \n",
       "\n",
       "                          Primary Essential Function  sector_Corporate  \\\n",
       "0                    LC - Digital Learning Platforms                 0   \n",
       "1                    LC - Digital Learning Platforms                 0   \n",
       "2  LC - Sites, Resources & Reference - Games & Si...                 0   \n",
       "3                    LC - Digital Learning Platforms                 0   \n",
       "4                    LC - Digital Learning Platforms                 0   \n",
       "\n",
       "   sector_HigherEd  sector_PreK-12  \n",
       "0                0               1  \n",
       "1                0               1  \n",
       "2                0               1  \n",
       "3                1               1  \n",
       "4                0               1  "
      ],
      "text/html": [
       "<div>\n",
       "<style scoped>\n",
       "    .dataframe tbody tr th:only-of-type {\n",
       "        vertical-align: middle;\n",
       "    }\n",
       "\n",
       "    .dataframe tbody tr th {\n",
       "        vertical-align: top;\n",
       "    }\n",
       "\n",
       "    .dataframe thead th {\n",
       "        text-align: right;\n",
       "    }\n",
       "</style>\n",
       "<table border=\"1\" class=\"dataframe\">\n",
       "  <thead>\n",
       "    <tr style=\"text-align: right;\">\n",
       "      <th></th>\n",
       "      <th>LP ID</th>\n",
       "      <th>URL</th>\n",
       "      <th>Product Name</th>\n",
       "      <th>Provider/Company Name</th>\n",
       "      <th>Primary Essential Function</th>\n",
       "      <th>sector_Corporate</th>\n",
       "      <th>sector_HigherEd</th>\n",
       "      <th>sector_PreK-12</th>\n",
       "    </tr>\n",
       "  </thead>\n",
       "  <tbody>\n",
       "    <tr>\n",
       "      <th>0</th>\n",
       "      <td>13117</td>\n",
       "      <td>https://www.splashmath.com</td>\n",
       "      <td>SplashLearn</td>\n",
       "      <td>StudyPad Inc.</td>\n",
       "      <td>LC - Digital Learning Platforms</td>\n",
       "      <td>0</td>\n",
       "      <td>0</td>\n",
       "      <td>1</td>\n",
       "    </tr>\n",
       "    <tr>\n",
       "      <th>1</th>\n",
       "      <td>66933</td>\n",
       "      <td>https://abcmouse.com</td>\n",
       "      <td>ABCmouse.com</td>\n",
       "      <td>Age of Learning, Inc</td>\n",
       "      <td>LC - Digital Learning Platforms</td>\n",
       "      <td>0</td>\n",
       "      <td>0</td>\n",
       "      <td>1</td>\n",
       "    </tr>\n",
       "    <tr>\n",
       "      <th>2</th>\n",
       "      <td>50479</td>\n",
       "      <td>https://www.abcya.com</td>\n",
       "      <td>ABCya!</td>\n",
       "      <td>ABCya.com, LLC</td>\n",
       "      <td>LC - Sites, Resources &amp; Reference - Games &amp; Si...</td>\n",
       "      <td>0</td>\n",
       "      <td>0</td>\n",
       "      <td>1</td>\n",
       "    </tr>\n",
       "    <tr>\n",
       "      <th>3</th>\n",
       "      <td>92993</td>\n",
       "      <td>http://www.aleks.com/</td>\n",
       "      <td>ALEKS</td>\n",
       "      <td>McGraw-Hill PreK-12</td>\n",
       "      <td>LC - Digital Learning Platforms</td>\n",
       "      <td>0</td>\n",
       "      <td>1</td>\n",
       "      <td>1</td>\n",
       "    </tr>\n",
       "    <tr>\n",
       "      <th>4</th>\n",
       "      <td>73104</td>\n",
       "      <td>https://www.achieve3000.com/</td>\n",
       "      <td>Achieve3000</td>\n",
       "      <td>Achieve3000</td>\n",
       "      <td>LC - Digital Learning Platforms</td>\n",
       "      <td>0</td>\n",
       "      <td>0</td>\n",
       "      <td>1</td>\n",
       "    </tr>\n",
       "  </tbody>\n",
       "</table>\n",
       "</div>"
      ]
     },
     "metadata": {},
     "execution_count": 217
    }
   ],
   "metadata": {}
  },
  {
   "cell_type": "code",
   "execution_count": 218,
   "source": [
    "products_info['primary_function_main'] = products_info['Primary Essential Function'].apply(lambda x: x.split(' - ')[0] if x == x else x)\r\n",
    "products_info['primary_function_sub'] = products_info['Primary Essential Function'].apply(lambda x: x.split(' - ')[1] if x == x else x)\r\n",
    "\r\n",
    "# Synchronize similar values\r\n",
    "products_info['primary_function_sub'] = products_info['primary_function_sub'].replace({'Sites, Resources & References' : 'Sites, Resources & Reference'})\r\n",
    "products_info.drop(\"Primary Essential Function\", axis=1, inplace=True)"
   ],
   "outputs": [],
   "metadata": {}
  },
  {
   "cell_type": "code",
   "execution_count": 219,
   "source": [
    "products_info.head()"
   ],
   "outputs": [
    {
     "output_type": "execute_result",
     "data": {
      "text/plain": [
       "   LP ID                           URL  Product Name  Provider/Company Name  \\\n",
       "0  13117    https://www.splashmath.com   SplashLearn          StudyPad Inc.   \n",
       "1  66933          https://abcmouse.com  ABCmouse.com  Age of Learning, Inc    \n",
       "2  50479         https://www.abcya.com        ABCya!         ABCya.com, LLC   \n",
       "3  92993         http://www.aleks.com/         ALEKS    McGraw-Hill PreK-12   \n",
       "4  73104  https://www.achieve3000.com/   Achieve3000            Achieve3000   \n",
       "\n",
       "   sector_Corporate  sector_HigherEd  sector_PreK-12 primary_function_main  \\\n",
       "0                 0                0               1                    LC   \n",
       "1                 0                0               1                    LC   \n",
       "2                 0                0               1                    LC   \n",
       "3                 0                1               1                    LC   \n",
       "4                 0                0               1                    LC   \n",
       "\n",
       "           primary_function_sub  \n",
       "0    Digital Learning Platforms  \n",
       "1    Digital Learning Platforms  \n",
       "2  Sites, Resources & Reference  \n",
       "3    Digital Learning Platforms  \n",
       "4    Digital Learning Platforms  "
      ],
      "text/html": [
       "<div>\n",
       "<style scoped>\n",
       "    .dataframe tbody tr th:only-of-type {\n",
       "        vertical-align: middle;\n",
       "    }\n",
       "\n",
       "    .dataframe tbody tr th {\n",
       "        vertical-align: top;\n",
       "    }\n",
       "\n",
       "    .dataframe thead th {\n",
       "        text-align: right;\n",
       "    }\n",
       "</style>\n",
       "<table border=\"1\" class=\"dataframe\">\n",
       "  <thead>\n",
       "    <tr style=\"text-align: right;\">\n",
       "      <th></th>\n",
       "      <th>LP ID</th>\n",
       "      <th>URL</th>\n",
       "      <th>Product Name</th>\n",
       "      <th>Provider/Company Name</th>\n",
       "      <th>sector_Corporate</th>\n",
       "      <th>sector_HigherEd</th>\n",
       "      <th>sector_PreK-12</th>\n",
       "      <th>primary_function_main</th>\n",
       "      <th>primary_function_sub</th>\n",
       "    </tr>\n",
       "  </thead>\n",
       "  <tbody>\n",
       "    <tr>\n",
       "      <th>0</th>\n",
       "      <td>13117</td>\n",
       "      <td>https://www.splashmath.com</td>\n",
       "      <td>SplashLearn</td>\n",
       "      <td>StudyPad Inc.</td>\n",
       "      <td>0</td>\n",
       "      <td>0</td>\n",
       "      <td>1</td>\n",
       "      <td>LC</td>\n",
       "      <td>Digital Learning Platforms</td>\n",
       "    </tr>\n",
       "    <tr>\n",
       "      <th>1</th>\n",
       "      <td>66933</td>\n",
       "      <td>https://abcmouse.com</td>\n",
       "      <td>ABCmouse.com</td>\n",
       "      <td>Age of Learning, Inc</td>\n",
       "      <td>0</td>\n",
       "      <td>0</td>\n",
       "      <td>1</td>\n",
       "      <td>LC</td>\n",
       "      <td>Digital Learning Platforms</td>\n",
       "    </tr>\n",
       "    <tr>\n",
       "      <th>2</th>\n",
       "      <td>50479</td>\n",
       "      <td>https://www.abcya.com</td>\n",
       "      <td>ABCya!</td>\n",
       "      <td>ABCya.com, LLC</td>\n",
       "      <td>0</td>\n",
       "      <td>0</td>\n",
       "      <td>1</td>\n",
       "      <td>LC</td>\n",
       "      <td>Sites, Resources &amp; Reference</td>\n",
       "    </tr>\n",
       "    <tr>\n",
       "      <th>3</th>\n",
       "      <td>92993</td>\n",
       "      <td>http://www.aleks.com/</td>\n",
       "      <td>ALEKS</td>\n",
       "      <td>McGraw-Hill PreK-12</td>\n",
       "      <td>0</td>\n",
       "      <td>1</td>\n",
       "      <td>1</td>\n",
       "      <td>LC</td>\n",
       "      <td>Digital Learning Platforms</td>\n",
       "    </tr>\n",
       "    <tr>\n",
       "      <th>4</th>\n",
       "      <td>73104</td>\n",
       "      <td>https://www.achieve3000.com/</td>\n",
       "      <td>Achieve3000</td>\n",
       "      <td>Achieve3000</td>\n",
       "      <td>0</td>\n",
       "      <td>0</td>\n",
       "      <td>1</td>\n",
       "      <td>LC</td>\n",
       "      <td>Digital Learning Platforms</td>\n",
       "    </tr>\n",
       "  </tbody>\n",
       "</table>\n",
       "</div>"
      ]
     },
     "metadata": {},
     "execution_count": 219
    }
   ],
   "metadata": {}
  },
  {
   "cell_type": "code",
   "execution_count": 220,
   "source": [
    "engagement_Path = 'C:/Users/FLUXNATURE/Documents/GitHub/Covid-19-Impact-on-Digital-Learning/engagement_data'"
   ],
   "outputs": [],
   "metadata": {}
  },
  {
   "cell_type": "code",
   "execution_count": 221,
   "source": [
    "engage_data = []\r\n",
    "\r\n",
    "for district in districts_info.district_id.unique():\r\n",
    "    df = pd.read_csv(f'{engagement_Path}/{district}.csv', index_col=None, header=0)\r\n",
    "    df[\"district_id\"] = district\r\n",
    "    engage_data.append(df)\r\n",
    "    \r\n",
    "    \r\n",
    "engagement_new = pd.concat(engage_data)\r\n",
    "engagement_new = engagement_new.reset_index(drop=True)\r\n"
   ],
   "outputs": [],
   "metadata": {}
  },
  {
   "cell_type": "code",
   "execution_count": 222,
   "source": [
    "engagement_new.head()"
   ],
   "outputs": [
    {
     "output_type": "execute_result",
     "data": {
      "text/plain": [
       "         time    lp_id  pct_access  engagement_index  district_id\n",
       "0  2020-01-27  32213.0      100.00           3000.00         8815\n",
       "1  2020-02-25  90153.0       33.33           2666.67         8815\n",
       "2  2020-02-25  99916.0        0.00               NaN         8815\n",
       "3  2020-02-25  28504.0        0.00               NaN         8815\n",
       "4  2020-02-25  95731.0       33.33            333.33         8815"
      ],
      "text/html": [
       "<div>\n",
       "<style scoped>\n",
       "    .dataframe tbody tr th:only-of-type {\n",
       "        vertical-align: middle;\n",
       "    }\n",
       "\n",
       "    .dataframe tbody tr th {\n",
       "        vertical-align: top;\n",
       "    }\n",
       "\n",
       "    .dataframe thead th {\n",
       "        text-align: right;\n",
       "    }\n",
       "</style>\n",
       "<table border=\"1\" class=\"dataframe\">\n",
       "  <thead>\n",
       "    <tr style=\"text-align: right;\">\n",
       "      <th></th>\n",
       "      <th>time</th>\n",
       "      <th>lp_id</th>\n",
       "      <th>pct_access</th>\n",
       "      <th>engagement_index</th>\n",
       "      <th>district_id</th>\n",
       "    </tr>\n",
       "  </thead>\n",
       "  <tbody>\n",
       "    <tr>\n",
       "      <th>0</th>\n",
       "      <td>2020-01-27</td>\n",
       "      <td>32213.0</td>\n",
       "      <td>100.00</td>\n",
       "      <td>3000.00</td>\n",
       "      <td>8815</td>\n",
       "    </tr>\n",
       "    <tr>\n",
       "      <th>1</th>\n",
       "      <td>2020-02-25</td>\n",
       "      <td>90153.0</td>\n",
       "      <td>33.33</td>\n",
       "      <td>2666.67</td>\n",
       "      <td>8815</td>\n",
       "    </tr>\n",
       "    <tr>\n",
       "      <th>2</th>\n",
       "      <td>2020-02-25</td>\n",
       "      <td>99916.0</td>\n",
       "      <td>0.00</td>\n",
       "      <td>NaN</td>\n",
       "      <td>8815</td>\n",
       "    </tr>\n",
       "    <tr>\n",
       "      <th>3</th>\n",
       "      <td>2020-02-25</td>\n",
       "      <td>28504.0</td>\n",
       "      <td>0.00</td>\n",
       "      <td>NaN</td>\n",
       "      <td>8815</td>\n",
       "    </tr>\n",
       "    <tr>\n",
       "      <th>4</th>\n",
       "      <td>2020-02-25</td>\n",
       "      <td>95731.0</td>\n",
       "      <td>33.33</td>\n",
       "      <td>333.33</td>\n",
       "      <td>8815</td>\n",
       "    </tr>\n",
       "  </tbody>\n",
       "</table>\n",
       "</div>"
      ]
     },
     "metadata": {},
     "execution_count": 222
    }
   ],
   "metadata": {}
  },
  {
   "cell_type": "code",
   "execution_count": 223,
   "source": [
    "type(df['time'].iloc[0])"
   ],
   "outputs": [
    {
     "output_type": "execute_result",
     "data": {
      "text/plain": [
       "str"
      ]
     },
     "metadata": {},
     "execution_count": 223
    }
   ],
   "metadata": {}
  },
  {
   "cell_type": "code",
   "execution_count": 224,
   "source": [
    "fig, ax = plt.subplots(1, 1, figsize=(10,6))\r\n",
    "\r\n",
    "#x = engagement_new.groupby('district_id').time.nunique()\r\n",
    "plt.hist(engagement_new.groupby('district_id').time.nunique(), bins= 40)\r\n",
    "\r\n",
    "ax.set_title('Unique Days of Engagement Data per District')\r\n",
    "plt.show()"
   ],
   "outputs": [
    {
     "output_type": "display_data",
     "data": {
      "text/plain": [
       "<Figure size 720x432 with 1 Axes>"
      ],
      "image/svg+xml": "<?xml version=\"1.0\" encoding=\"utf-8\" standalone=\"no\"?>\r\n<!DOCTYPE svg PUBLIC \"-//W3C//DTD SVG 1.1//EN\"\r\n  \"http://www.w3.org/Graphics/SVG/1.1/DTD/svg11.dtd\">\r\n<!-- Created with matplotlib (https://matplotlib.org/) -->\r\n<svg height=\"379.87475pt\" version=\"1.1\" viewBox=\"0 0 606.1225 379.87475\" width=\"606.1225pt\" xmlns=\"http://www.w3.org/2000/svg\" xmlns:xlink=\"http://www.w3.org/1999/xlink\">\r\n <defs>\r\n  <style type=\"text/css\">\r\n*{stroke-linecap:butt;stroke-linejoin:round;}\r\n  </style>\r\n </defs>\r\n <g id=\"figure_1\">\r\n  <g id=\"patch_1\">\r\n   <path d=\"M 0 379.87475 \r\nL 606.1225 379.87475 \r\nL 606.1225 0 \r\nL 0 0 \r\nz\r\n\" style=\"fill:none;\"/>\r\n  </g>\r\n  <g id=\"axes_1\">\r\n   <g id=\"patch_2\">\r\n    <path d=\"M 40.9225 352.125375 \r\nL 598.9225 352.125375 \r\nL 598.9225 25.965375 \r\nL 40.9225 25.965375 \r\nz\r\n\" style=\"fill:#ffffff;\"/>\r\n   </g>\r\n   <g id=\"patch_3\">\r\n    <path clip-path=\"url(#p73531274f0)\" d=\"M 66.286136 352.125375 \r\nL 78.967955 352.125375 \r\nL 78.967955 349.890637 \r\nL 66.286136 349.890637 \r\nz\r\n\" style=\"fill:#1f77b4;\"/>\r\n   </g>\r\n   <g id=\"patch_4\">\r\n    <path clip-path=\"url(#p73531274f0)\" d=\"M 78.967955 352.125375 \r\nL 91.649773 352.125375 \r\nL 91.649773 352.125375 \r\nL 78.967955 352.125375 \r\nz\r\n\" style=\"fill:#1f77b4;\"/>\r\n   </g>\r\n   <g id=\"patch_5\">\r\n    <path clip-path=\"url(#p73531274f0)\" d=\"M 91.649773 352.125375 \r\nL 104.331591 352.125375 \r\nL 104.331591 349.890637 \r\nL 91.649773 349.890637 \r\nz\r\n\" style=\"fill:#1f77b4;\"/>\r\n   </g>\r\n   <g id=\"patch_6\">\r\n    <path clip-path=\"url(#p73531274f0)\" d=\"M 104.331591 352.125375 \r\nL 117.013409 352.125375 \r\nL 117.013409 352.125375 \r\nL 104.331591 352.125375 \r\nz\r\n\" style=\"fill:#1f77b4;\"/>\r\n   </g>\r\n   <g id=\"patch_7\">\r\n    <path clip-path=\"url(#p73531274f0)\" d=\"M 117.013409 352.125375 \r\nL 129.695227 352.125375 \r\nL 129.695227 352.125375 \r\nL 117.013409 352.125375 \r\nz\r\n\" style=\"fill:#1f77b4;\"/>\r\n   </g>\r\n   <g id=\"patch_8\">\r\n    <path clip-path=\"url(#p73531274f0)\" d=\"M 129.695227 352.125375 \r\nL 142.377045 352.125375 \r\nL 142.377045 352.125375 \r\nL 129.695227 352.125375 \r\nz\r\n\" style=\"fill:#1f77b4;\"/>\r\n   </g>\r\n   <g id=\"patch_9\">\r\n    <path clip-path=\"url(#p73531274f0)\" d=\"M 142.377045 352.125375 \r\nL 155.058864 352.125375 \r\nL 155.058864 352.125375 \r\nL 142.377045 352.125375 \r\nz\r\n\" style=\"fill:#1f77b4;\"/>\r\n   </g>\r\n   <g id=\"patch_10\">\r\n    <path clip-path=\"url(#p73531274f0)\" d=\"M 155.058864 352.125375 \r\nL 167.740682 352.125375 \r\nL 167.740682 352.125375 \r\nL 155.058864 352.125375 \r\nz\r\n\" style=\"fill:#1f77b4;\"/>\r\n   </g>\r\n   <g id=\"patch_11\">\r\n    <path clip-path=\"url(#p73531274f0)\" d=\"M 167.740682 352.125375 \r\nL 180.4225 352.125375 \r\nL 180.4225 352.125375 \r\nL 167.740682 352.125375 \r\nz\r\n\" style=\"fill:#1f77b4;\"/>\r\n   </g>\r\n   <g id=\"patch_12\">\r\n    <path clip-path=\"url(#p73531274f0)\" d=\"M 180.4225 352.125375 \r\nL 193.104318 352.125375 \r\nL 193.104318 347.655899 \r\nL 180.4225 347.655899 \r\nz\r\n\" style=\"fill:#1f77b4;\"/>\r\n   </g>\r\n   <g id=\"patch_13\">\r\n    <path clip-path=\"url(#p73531274f0)\" d=\"M 193.104318 352.125375 \r\nL 205.786136 352.125375 \r\nL 205.786136 352.125375 \r\nL 193.104318 352.125375 \r\nz\r\n\" style=\"fill:#1f77b4;\"/>\r\n   </g>\r\n   <g id=\"patch_14\">\r\n    <path clip-path=\"url(#p73531274f0)\" d=\"M 205.786136 352.125375 \r\nL 218.467955 352.125375 \r\nL 218.467955 352.125375 \r\nL 205.786136 352.125375 \r\nz\r\n\" style=\"fill:#1f77b4;\"/>\r\n   </g>\r\n   <g id=\"patch_15\">\r\n    <path clip-path=\"url(#p73531274f0)\" d=\"M 218.467955 352.125375 \r\nL 231.149773 352.125375 \r\nL 231.149773 352.125375 \r\nL 218.467955 352.125375 \r\nz\r\n\" style=\"fill:#1f77b4;\"/>\r\n   </g>\r\n   <g id=\"patch_16\">\r\n    <path clip-path=\"url(#p73531274f0)\" d=\"M 231.149773 352.125375 \r\nL 243.831591 352.125375 \r\nL 243.831591 349.890637 \r\nL 231.149773 349.890637 \r\nz\r\n\" style=\"fill:#1f77b4;\"/>\r\n   </g>\r\n   <g id=\"patch_17\">\r\n    <path clip-path=\"url(#p73531274f0)\" d=\"M 243.831591 352.125375 \r\nL 256.513409 352.125375 \r\nL 256.513409 347.655899 \r\nL 243.831591 347.655899 \r\nz\r\n\" style=\"fill:#1f77b4;\"/>\r\n   </g>\r\n   <g id=\"patch_18\">\r\n    <path clip-path=\"url(#p73531274f0)\" d=\"M 256.513409 352.125375 \r\nL 269.195227 352.125375 \r\nL 269.195227 349.890637 \r\nL 256.513409 349.890637 \r\nz\r\n\" style=\"fill:#1f77b4;\"/>\r\n   </g>\r\n   <g id=\"patch_19\">\r\n    <path clip-path=\"url(#p73531274f0)\" d=\"M 269.195227 352.125375 \r\nL 281.877045 352.125375 \r\nL 281.877045 352.125375 \r\nL 269.195227 352.125375 \r\nz\r\n\" style=\"fill:#1f77b4;\"/>\r\n   </g>\r\n   <g id=\"patch_20\">\r\n    <path clip-path=\"url(#p73531274f0)\" d=\"M 281.877045 352.125375 \r\nL 294.558864 352.125375 \r\nL 294.558864 352.125375 \r\nL 281.877045 352.125375 \r\nz\r\n\" style=\"fill:#1f77b4;\"/>\r\n   </g>\r\n   <g id=\"patch_21\">\r\n    <path clip-path=\"url(#p73531274f0)\" d=\"M 294.558864 352.125375 \r\nL 307.240682 352.125375 \r\nL 307.240682 352.125375 \r\nL 294.558864 352.125375 \r\nz\r\n\" style=\"fill:#1f77b4;\"/>\r\n   </g>\r\n   <g id=\"patch_22\">\r\n    <path clip-path=\"url(#p73531274f0)\" d=\"M 307.240682 352.125375 \r\nL 319.9225 352.125375 \r\nL 319.9225 349.890637 \r\nL 307.240682 349.890637 \r\nz\r\n\" style=\"fill:#1f77b4;\"/>\r\n   </g>\r\n   <g id=\"patch_23\">\r\n    <path clip-path=\"url(#p73531274f0)\" d=\"M 319.9225 352.125375 \r\nL 332.604318 352.125375 \r\nL 332.604318 352.125375 \r\nL 319.9225 352.125375 \r\nz\r\n\" style=\"fill:#1f77b4;\"/>\r\n   </g>\r\n   <g id=\"patch_24\">\r\n    <path clip-path=\"url(#p73531274f0)\" d=\"M 332.604318 352.125375 \r\nL 345.286136 352.125375 \r\nL 345.286136 352.125375 \r\nL 332.604318 352.125375 \r\nz\r\n\" style=\"fill:#1f77b4;\"/>\r\n   </g>\r\n   <g id=\"patch_25\">\r\n    <path clip-path=\"url(#p73531274f0)\" d=\"M 345.286136 352.125375 \r\nL 357.967955 352.125375 \r\nL 357.967955 352.125375 \r\nL 345.286136 352.125375 \r\nz\r\n\" style=\"fill:#1f77b4;\"/>\r\n   </g>\r\n   <g id=\"patch_26\">\r\n    <path clip-path=\"url(#p73531274f0)\" d=\"M 357.967955 352.125375 \r\nL 370.649773 352.125375 \r\nL 370.649773 352.125375 \r\nL 357.967955 352.125375 \r\nz\r\n\" style=\"fill:#1f77b4;\"/>\r\n   </g>\r\n   <g id=\"patch_27\">\r\n    <path clip-path=\"url(#p73531274f0)\" d=\"M 370.649773 352.125375 \r\nL 383.331591 352.125375 \r\nL 383.331591 349.890637 \r\nL 370.649773 349.890637 \r\nz\r\n\" style=\"fill:#1f77b4;\"/>\r\n   </g>\r\n   <g id=\"patch_28\">\r\n    <path clip-path=\"url(#p73531274f0)\" d=\"M 383.331591 352.125375 \r\nL 396.013409 352.125375 \r\nL 396.013409 352.125375 \r\nL 383.331591 352.125375 \r\nz\r\n\" style=\"fill:#1f77b4;\"/>\r\n   </g>\r\n   <g id=\"patch_29\">\r\n    <path clip-path=\"url(#p73531274f0)\" d=\"M 396.013409 352.125375 \r\nL 408.695227 352.125375 \r\nL 408.695227 352.125375 \r\nL 396.013409 352.125375 \r\nz\r\n\" style=\"fill:#1f77b4;\"/>\r\n   </g>\r\n   <g id=\"patch_30\">\r\n    <path clip-path=\"url(#p73531274f0)\" d=\"M 408.695227 352.125375 \r\nL 421.377045 352.125375 \r\nL 421.377045 352.125375 \r\nL 408.695227 352.125375 \r\nz\r\n\" style=\"fill:#1f77b4;\"/>\r\n   </g>\r\n   <g id=\"patch_31\">\r\n    <path clip-path=\"url(#p73531274f0)\" d=\"M 421.377045 352.125375 \r\nL 434.058864 352.125375 \r\nL 434.058864 352.125375 \r\nL 421.377045 352.125375 \r\nz\r\n\" style=\"fill:#1f77b4;\"/>\r\n   </g>\r\n   <g id=\"patch_32\">\r\n    <path clip-path=\"url(#p73531274f0)\" d=\"M 434.058864 352.125375 \r\nL 446.740682 352.125375 \r\nL 446.740682 347.655899 \r\nL 434.058864 347.655899 \r\nz\r\n\" style=\"fill:#1f77b4;\"/>\r\n   </g>\r\n   <g id=\"patch_33\">\r\n    <path clip-path=\"url(#p73531274f0)\" d=\"M 446.740682 352.125375 \r\nL 459.4225 352.125375 \r\nL 459.4225 345.421161 \r\nL 446.740682 345.421161 \r\nz\r\n\" style=\"fill:#1f77b4;\"/>\r\n   </g>\r\n   <g id=\"patch_34\">\r\n    <path clip-path=\"url(#p73531274f0)\" d=\"M 459.4225 352.125375 \r\nL 472.104318 352.125375 \r\nL 472.104318 349.890637 \r\nL 459.4225 349.890637 \r\nz\r\n\" style=\"fill:#1f77b4;\"/>\r\n   </g>\r\n   <g id=\"patch_35\">\r\n    <path clip-path=\"url(#p73531274f0)\" d=\"M 472.104318 352.125375 \r\nL 484.786136 352.125375 \r\nL 484.786136 352.125375 \r\nL 472.104318 352.125375 \r\nz\r\n\" style=\"fill:#1f77b4;\"/>\r\n   </g>\r\n   <g id=\"patch_36\">\r\n    <path clip-path=\"url(#p73531274f0)\" d=\"M 484.786136 352.125375 \r\nL 497.467955 352.125375 \r\nL 497.467955 345.421161 \r\nL 484.786136 345.421161 \r\nz\r\n\" style=\"fill:#1f77b4;\"/>\r\n   </g>\r\n   <g id=\"patch_37\">\r\n    <path clip-path=\"url(#p73531274f0)\" d=\"M 497.467955 352.125375 \r\nL 510.149773 352.125375 \r\nL 510.149773 347.655899 \r\nL 497.467955 347.655899 \r\nz\r\n\" style=\"fill:#1f77b4;\"/>\r\n   </g>\r\n   <g id=\"patch_38\">\r\n    <path clip-path=\"url(#p73531274f0)\" d=\"M 510.149773 352.125375 \r\nL 522.831591 352.125375 \r\nL 522.831591 343.186423 \r\nL 510.149773 343.186423 \r\nz\r\n\" style=\"fill:#1f77b4;\"/>\r\n   </g>\r\n   <g id=\"patch_39\">\r\n    <path clip-path=\"url(#p73531274f0)\" d=\"M 522.831591 352.125375 \r\nL 535.513409 352.125375 \r\nL 535.513409 343.186423 \r\nL 522.831591 343.186423 \r\nz\r\n\" style=\"fill:#1f77b4;\"/>\r\n   </g>\r\n   <g id=\"patch_40\">\r\n    <path clip-path=\"url(#p73531274f0)\" d=\"M 535.513409 352.125375 \r\nL 548.195227 352.125375 \r\nL 548.195227 349.890637 \r\nL 535.513409 349.890637 \r\nz\r\n\" style=\"fill:#1f77b4;\"/>\r\n   </g>\r\n   <g id=\"patch_41\">\r\n    <path clip-path=\"url(#p73531274f0)\" d=\"M 548.195227 352.125375 \r\nL 560.877045 352.125375 \r\nL 560.877045 336.48221 \r\nL 548.195227 336.48221 \r\nz\r\n\" style=\"fill:#1f77b4;\"/>\r\n   </g>\r\n   <g id=\"patch_42\">\r\n    <path clip-path=\"url(#p73531274f0)\" d=\"M 560.877045 352.125375 \r\nL 573.558864 352.125375 \r\nL 573.558864 41.496804 \r\nL 560.877045 41.496804 \r\nz\r\n\" style=\"fill:#1f77b4;\"/>\r\n   </g>\r\n   <g id=\"matplotlib.axis_1\">\r\n    <g id=\"xtick_1\">\r\n     <g id=\"line2d_1\">\r\n      <defs>\r\n       <path d=\"M 0 0 \r\nL 0 3.5 \r\n\" id=\"meb3eab91dd\" style=\"stroke:#000000;stroke-width:0.8;\"/>\r\n      </defs>\r\n      <g>\r\n       <use style=\"stroke:#000000;stroke-width:0.8;\" x=\"44.607815\" xlink:href=\"#meb3eab91dd\" y=\"352.125375\"/>\r\n      </g>\r\n     </g>\r\n     <g id=\"text_1\">\r\n      <!-- 0 -->\r\n      <defs>\r\n       <path d=\"M 31.78125 66.40625 \r\nQ 24.171875 66.40625 20.328125 58.90625 \r\nQ 16.5 51.421875 16.5 36.375 \r\nQ 16.5 21.390625 20.328125 13.890625 \r\nQ 24.171875 6.390625 31.78125 6.390625 \r\nQ 39.453125 6.390625 43.28125 13.890625 \r\nQ 47.125 21.390625 47.125 36.375 \r\nQ 47.125 51.421875 43.28125 58.90625 \r\nQ 39.453125 66.40625 31.78125 66.40625 \r\nz\r\nM 31.78125 74.21875 \r\nQ 44.046875 74.21875 50.515625 64.515625 \r\nQ 56.984375 54.828125 56.984375 36.375 \r\nQ 56.984375 17.96875 50.515625 8.265625 \r\nQ 44.046875 -1.421875 31.78125 -1.421875 \r\nQ 19.53125 -1.421875 13.0625 8.265625 \r\nQ 6.59375 17.96875 6.59375 36.375 \r\nQ 6.59375 54.828125 13.0625 64.515625 \r\nQ 19.53125 74.21875 31.78125 74.21875 \r\nz\r\n\" id=\"DejaVuSans-48\"/>\r\n      </defs>\r\n      <g transform=\"translate(40.154065 369.763188)scale(0.14 -0.14)\">\r\n       <use xlink:href=\"#DejaVuSans-48\"/>\r\n      </g>\r\n     </g>\r\n    </g>\r\n    <g id=\"xtick_2\">\r\n     <g id=\"line2d_2\">\r\n      <g>\r\n       <use style=\"stroke:#000000;stroke-width:0.8;\" x=\"116.868887\" xlink:href=\"#meb3eab91dd\" y=\"352.125375\"/>\r\n      </g>\r\n     </g>\r\n     <g id=\"text_2\">\r\n      <!-- 50 -->\r\n      <defs>\r\n       <path d=\"M 10.796875 72.90625 \r\nL 49.515625 72.90625 \r\nL 49.515625 64.59375 \r\nL 19.828125 64.59375 \r\nL 19.828125 46.734375 \r\nQ 21.96875 47.46875 24.109375 47.828125 \r\nQ 26.265625 48.1875 28.421875 48.1875 \r\nQ 40.625 48.1875 47.75 41.5 \r\nQ 54.890625 34.8125 54.890625 23.390625 \r\nQ 54.890625 11.625 47.5625 5.09375 \r\nQ 40.234375 -1.421875 26.90625 -1.421875 \r\nQ 22.3125 -1.421875 17.546875 -0.640625 \r\nQ 12.796875 0.140625 7.71875 1.703125 \r\nL 7.71875 11.625 \r\nQ 12.109375 9.234375 16.796875 8.0625 \r\nQ 21.484375 6.890625 26.703125 6.890625 \r\nQ 35.15625 6.890625 40.078125 11.328125 \r\nQ 45.015625 15.765625 45.015625 23.390625 \r\nQ 45.015625 31 40.078125 35.4375 \r\nQ 35.15625 39.890625 26.703125 39.890625 \r\nQ 22.75 39.890625 18.8125 39.015625 \r\nQ 14.890625 38.140625 10.796875 36.28125 \r\nz\r\n\" id=\"DejaVuSans-53\"/>\r\n      </defs>\r\n      <g transform=\"translate(107.961387 369.763188)scale(0.14 -0.14)\">\r\n       <use xlink:href=\"#DejaVuSans-53\"/>\r\n       <use x=\"63.623047\" xlink:href=\"#DejaVuSans-48\"/>\r\n      </g>\r\n     </g>\r\n    </g>\r\n    <g id=\"xtick_3\">\r\n     <g id=\"line2d_3\">\r\n      <g>\r\n       <use style=\"stroke:#000000;stroke-width:0.8;\" x=\"189.129959\" xlink:href=\"#meb3eab91dd\" y=\"352.125375\"/>\r\n      </g>\r\n     </g>\r\n     <g id=\"text_3\">\r\n      <!-- 100 -->\r\n      <defs>\r\n       <path d=\"M 12.40625 8.296875 \r\nL 28.515625 8.296875 \r\nL 28.515625 63.921875 \r\nL 10.984375 60.40625 \r\nL 10.984375 69.390625 \r\nL 28.421875 72.90625 \r\nL 38.28125 72.90625 \r\nL 38.28125 8.296875 \r\nL 54.390625 8.296875 \r\nL 54.390625 0 \r\nL 12.40625 0 \r\nz\r\n\" id=\"DejaVuSans-49\"/>\r\n      </defs>\r\n      <g transform=\"translate(175.768709 369.763188)scale(0.14 -0.14)\">\r\n       <use xlink:href=\"#DejaVuSans-49\"/>\r\n       <use x=\"63.623047\" xlink:href=\"#DejaVuSans-48\"/>\r\n       <use x=\"127.246094\" xlink:href=\"#DejaVuSans-48\"/>\r\n      </g>\r\n     </g>\r\n    </g>\r\n    <g id=\"xtick_4\">\r\n     <g id=\"line2d_4\">\r\n      <g>\r\n       <use style=\"stroke:#000000;stroke-width:0.8;\" x=\"261.391031\" xlink:href=\"#meb3eab91dd\" y=\"352.125375\"/>\r\n      </g>\r\n     </g>\r\n     <g id=\"text_4\">\r\n      <!-- 150 -->\r\n      <g transform=\"translate(248.029781 369.763188)scale(0.14 -0.14)\">\r\n       <use xlink:href=\"#DejaVuSans-49\"/>\r\n       <use x=\"63.623047\" xlink:href=\"#DejaVuSans-53\"/>\r\n       <use x=\"127.246094\" xlink:href=\"#DejaVuSans-48\"/>\r\n      </g>\r\n     </g>\r\n    </g>\r\n    <g id=\"xtick_5\">\r\n     <g id=\"line2d_5\">\r\n      <g>\r\n       <use style=\"stroke:#000000;stroke-width:0.8;\" x=\"333.652104\" xlink:href=\"#meb3eab91dd\" y=\"352.125375\"/>\r\n      </g>\r\n     </g>\r\n     <g id=\"text_5\">\r\n      <!-- 200 -->\r\n      <defs>\r\n       <path d=\"M 19.1875 8.296875 \r\nL 53.609375 8.296875 \r\nL 53.609375 0 \r\nL 7.328125 0 \r\nL 7.328125 8.296875 \r\nQ 12.9375 14.109375 22.625 23.890625 \r\nQ 32.328125 33.6875 34.8125 36.53125 \r\nQ 39.546875 41.84375 41.421875 45.53125 \r\nQ 43.3125 49.21875 43.3125 52.78125 \r\nQ 43.3125 58.59375 39.234375 62.25 \r\nQ 35.15625 65.921875 28.609375 65.921875 \r\nQ 23.96875 65.921875 18.8125 64.3125 \r\nQ 13.671875 62.703125 7.8125 59.421875 \r\nL 7.8125 69.390625 \r\nQ 13.765625 71.78125 18.9375 73 \r\nQ 24.125 74.21875 28.421875 74.21875 \r\nQ 39.75 74.21875 46.484375 68.546875 \r\nQ 53.21875 62.890625 53.21875 53.421875 \r\nQ 53.21875 48.921875 51.53125 44.890625 \r\nQ 49.859375 40.875 45.40625 35.40625 \r\nQ 44.1875 33.984375 37.640625 27.21875 \r\nQ 31.109375 20.453125 19.1875 8.296875 \r\nz\r\n\" id=\"DejaVuSans-50\"/>\r\n      </defs>\r\n      <g transform=\"translate(320.290854 369.763188)scale(0.14 -0.14)\">\r\n       <use xlink:href=\"#DejaVuSans-50\"/>\r\n       <use x=\"63.623047\" xlink:href=\"#DejaVuSans-48\"/>\r\n       <use x=\"127.246094\" xlink:href=\"#DejaVuSans-48\"/>\r\n      </g>\r\n     </g>\r\n    </g>\r\n    <g id=\"xtick_6\">\r\n     <g id=\"line2d_6\">\r\n      <g>\r\n       <use style=\"stroke:#000000;stroke-width:0.8;\" x=\"405.913176\" xlink:href=\"#meb3eab91dd\" y=\"352.125375\"/>\r\n      </g>\r\n     </g>\r\n     <g id=\"text_6\">\r\n      <!-- 250 -->\r\n      <g transform=\"translate(392.551926 369.763188)scale(0.14 -0.14)\">\r\n       <use xlink:href=\"#DejaVuSans-50\"/>\r\n       <use x=\"63.623047\" xlink:href=\"#DejaVuSans-53\"/>\r\n       <use x=\"127.246094\" xlink:href=\"#DejaVuSans-48\"/>\r\n      </g>\r\n     </g>\r\n    </g>\r\n    <g id=\"xtick_7\">\r\n     <g id=\"line2d_7\">\r\n      <g>\r\n       <use style=\"stroke:#000000;stroke-width:0.8;\" x=\"478.174248\" xlink:href=\"#meb3eab91dd\" y=\"352.125375\"/>\r\n      </g>\r\n     </g>\r\n     <g id=\"text_7\">\r\n      <!-- 300 -->\r\n      <defs>\r\n       <path d=\"M 40.578125 39.3125 \r\nQ 47.65625 37.796875 51.625 33 \r\nQ 55.609375 28.21875 55.609375 21.1875 \r\nQ 55.609375 10.40625 48.1875 4.484375 \r\nQ 40.765625 -1.421875 27.09375 -1.421875 \r\nQ 22.515625 -1.421875 17.65625 -0.515625 \r\nQ 12.796875 0.390625 7.625 2.203125 \r\nL 7.625 11.71875 \r\nQ 11.71875 9.328125 16.59375 8.109375 \r\nQ 21.484375 6.890625 26.8125 6.890625 \r\nQ 36.078125 6.890625 40.9375 10.546875 \r\nQ 45.796875 14.203125 45.796875 21.1875 \r\nQ 45.796875 27.640625 41.28125 31.265625 \r\nQ 36.765625 34.90625 28.71875 34.90625 \r\nL 20.21875 34.90625 \r\nL 20.21875 43.015625 \r\nL 29.109375 43.015625 \r\nQ 36.375 43.015625 40.234375 45.921875 \r\nQ 44.09375 48.828125 44.09375 54.296875 \r\nQ 44.09375 59.90625 40.109375 62.90625 \r\nQ 36.140625 65.921875 28.71875 65.921875 \r\nQ 24.65625 65.921875 20.015625 65.03125 \r\nQ 15.375 64.15625 9.8125 62.3125 \r\nL 9.8125 71.09375 \r\nQ 15.4375 72.65625 20.34375 73.4375 \r\nQ 25.25 74.21875 29.59375 74.21875 \r\nQ 40.828125 74.21875 47.359375 69.109375 \r\nQ 53.90625 64.015625 53.90625 55.328125 \r\nQ 53.90625 49.265625 50.4375 45.09375 \r\nQ 46.96875 40.921875 40.578125 39.3125 \r\nz\r\n\" id=\"DejaVuSans-51\"/>\r\n      </defs>\r\n      <g transform=\"translate(464.812998 369.763188)scale(0.14 -0.14)\">\r\n       <use xlink:href=\"#DejaVuSans-51\"/>\r\n       <use x=\"63.623047\" xlink:href=\"#DejaVuSans-48\"/>\r\n       <use x=\"127.246094\" xlink:href=\"#DejaVuSans-48\"/>\r\n      </g>\r\n     </g>\r\n    </g>\r\n    <g id=\"xtick_8\">\r\n     <g id=\"line2d_8\">\r\n      <g>\r\n       <use style=\"stroke:#000000;stroke-width:0.8;\" x=\"550.435321\" xlink:href=\"#meb3eab91dd\" y=\"352.125375\"/>\r\n      </g>\r\n     </g>\r\n     <g id=\"text_8\">\r\n      <!-- 350 -->\r\n      <g transform=\"translate(537.074071 369.763188)scale(0.14 -0.14)\">\r\n       <use xlink:href=\"#DejaVuSans-51\"/>\r\n       <use x=\"63.623047\" xlink:href=\"#DejaVuSans-53\"/>\r\n       <use x=\"127.246094\" xlink:href=\"#DejaVuSans-48\"/>\r\n      </g>\r\n     </g>\r\n    </g>\r\n   </g>\r\n   <g id=\"matplotlib.axis_2\">\r\n    <g id=\"ytick_1\">\r\n     <g id=\"line2d_9\">\r\n      <defs>\r\n       <path d=\"M 0 0 \r\nL -3.5 0 \r\n\" id=\"m86946117df\" style=\"stroke:#000000;stroke-width:0.8;\"/>\r\n      </defs>\r\n      <g>\r\n       <use style=\"stroke:#000000;stroke-width:0.8;\" x=\"40.9225\" xlink:href=\"#m86946117df\" y=\"352.125375\"/>\r\n      </g>\r\n     </g>\r\n     <g id=\"text_9\">\r\n      <!-- 0 -->\r\n      <g transform=\"translate(25.015 357.444281)scale(0.14 -0.14)\">\r\n       <use xlink:href=\"#DejaVuSans-48\"/>\r\n      </g>\r\n     </g>\r\n    </g>\r\n    <g id=\"ytick_2\">\r\n     <g id=\"line2d_10\">\r\n      <g>\r\n       <use style=\"stroke:#000000;stroke-width:0.8;\" x=\"40.9225\" xlink:href=\"#m86946117df\" y=\"307.430617\"/>\r\n      </g>\r\n     </g>\r\n     <g id=\"text_10\">\r\n      <!-- 20 -->\r\n      <g transform=\"translate(16.1075 312.749523)scale(0.14 -0.14)\">\r\n       <use xlink:href=\"#DejaVuSans-50\"/>\r\n       <use x=\"63.623047\" xlink:href=\"#DejaVuSans-48\"/>\r\n      </g>\r\n     </g>\r\n    </g>\r\n    <g id=\"ytick_3\">\r\n     <g id=\"line2d_11\">\r\n      <g>\r\n       <use style=\"stroke:#000000;stroke-width:0.8;\" x=\"40.9225\" xlink:href=\"#m86946117df\" y=\"262.735858\"/>\r\n      </g>\r\n     </g>\r\n     <g id=\"text_11\">\r\n      <!-- 40 -->\r\n      <defs>\r\n       <path d=\"M 37.796875 64.3125 \r\nL 12.890625 25.390625 \r\nL 37.796875 25.390625 \r\nz\r\nM 35.203125 72.90625 \r\nL 47.609375 72.90625 \r\nL 47.609375 25.390625 \r\nL 58.015625 25.390625 \r\nL 58.015625 17.1875 \r\nL 47.609375 17.1875 \r\nL 47.609375 0 \r\nL 37.796875 0 \r\nL 37.796875 17.1875 \r\nL 4.890625 17.1875 \r\nL 4.890625 26.703125 \r\nz\r\n\" id=\"DejaVuSans-52\"/>\r\n      </defs>\r\n      <g transform=\"translate(16.1075 268.054764)scale(0.14 -0.14)\">\r\n       <use xlink:href=\"#DejaVuSans-52\"/>\r\n       <use x=\"63.623047\" xlink:href=\"#DejaVuSans-48\"/>\r\n      </g>\r\n     </g>\r\n    </g>\r\n    <g id=\"ytick_4\">\r\n     <g id=\"line2d_12\">\r\n      <g>\r\n       <use style=\"stroke:#000000;stroke-width:0.8;\" x=\"40.9225\" xlink:href=\"#m86946117df\" y=\"218.0411\"/>\r\n      </g>\r\n     </g>\r\n     <g id=\"text_12\">\r\n      <!-- 60 -->\r\n      <defs>\r\n       <path d=\"M 33.015625 40.375 \r\nQ 26.375 40.375 22.484375 35.828125 \r\nQ 18.609375 31.296875 18.609375 23.390625 \r\nQ 18.609375 15.53125 22.484375 10.953125 \r\nQ 26.375 6.390625 33.015625 6.390625 \r\nQ 39.65625 6.390625 43.53125 10.953125 \r\nQ 47.40625 15.53125 47.40625 23.390625 \r\nQ 47.40625 31.296875 43.53125 35.828125 \r\nQ 39.65625 40.375 33.015625 40.375 \r\nz\r\nM 52.59375 71.296875 \r\nL 52.59375 62.3125 \r\nQ 48.875 64.0625 45.09375 64.984375 \r\nQ 41.3125 65.921875 37.59375 65.921875 \r\nQ 27.828125 65.921875 22.671875 59.328125 \r\nQ 17.53125 52.734375 16.796875 39.40625 \r\nQ 19.671875 43.65625 24.015625 45.921875 \r\nQ 28.375 48.1875 33.59375 48.1875 \r\nQ 44.578125 48.1875 50.953125 41.515625 \r\nQ 57.328125 34.859375 57.328125 23.390625 \r\nQ 57.328125 12.15625 50.6875 5.359375 \r\nQ 44.046875 -1.421875 33.015625 -1.421875 \r\nQ 20.359375 -1.421875 13.671875 8.265625 \r\nQ 6.984375 17.96875 6.984375 36.375 \r\nQ 6.984375 53.65625 15.1875 63.9375 \r\nQ 23.390625 74.21875 37.203125 74.21875 \r\nQ 40.921875 74.21875 44.703125 73.484375 \r\nQ 48.484375 72.75 52.59375 71.296875 \r\nz\r\n\" id=\"DejaVuSans-54\"/>\r\n      </defs>\r\n      <g transform=\"translate(16.1075 223.360006)scale(0.14 -0.14)\">\r\n       <use xlink:href=\"#DejaVuSans-54\"/>\r\n       <use x=\"63.623047\" xlink:href=\"#DejaVuSans-48\"/>\r\n      </g>\r\n     </g>\r\n    </g>\r\n    <g id=\"ytick_5\">\r\n     <g id=\"line2d_13\">\r\n      <g>\r\n       <use style=\"stroke:#000000;stroke-width:0.8;\" x=\"40.9225\" xlink:href=\"#m86946117df\" y=\"173.346341\"/>\r\n      </g>\r\n     </g>\r\n     <g id=\"text_13\">\r\n      <!-- 80 -->\r\n      <defs>\r\n       <path d=\"M 31.78125 34.625 \r\nQ 24.75 34.625 20.71875 30.859375 \r\nQ 16.703125 27.09375 16.703125 20.515625 \r\nQ 16.703125 13.921875 20.71875 10.15625 \r\nQ 24.75 6.390625 31.78125 6.390625 \r\nQ 38.8125 6.390625 42.859375 10.171875 \r\nQ 46.921875 13.96875 46.921875 20.515625 \r\nQ 46.921875 27.09375 42.890625 30.859375 \r\nQ 38.875 34.625 31.78125 34.625 \r\nz\r\nM 21.921875 38.8125 \r\nQ 15.578125 40.375 12.03125 44.71875 \r\nQ 8.5 49.078125 8.5 55.328125 \r\nQ 8.5 64.0625 14.71875 69.140625 \r\nQ 20.953125 74.21875 31.78125 74.21875 \r\nQ 42.671875 74.21875 48.875 69.140625 \r\nQ 55.078125 64.0625 55.078125 55.328125 \r\nQ 55.078125 49.078125 51.53125 44.71875 \r\nQ 48 40.375 41.703125 38.8125 \r\nQ 48.828125 37.15625 52.796875 32.3125 \r\nQ 56.78125 27.484375 56.78125 20.515625 \r\nQ 56.78125 9.90625 50.3125 4.234375 \r\nQ 43.84375 -1.421875 31.78125 -1.421875 \r\nQ 19.734375 -1.421875 13.25 4.234375 \r\nQ 6.78125 9.90625 6.78125 20.515625 \r\nQ 6.78125 27.484375 10.78125 32.3125 \r\nQ 14.796875 37.15625 21.921875 38.8125 \r\nz\r\nM 18.3125 54.390625 \r\nQ 18.3125 48.734375 21.84375 45.5625 \r\nQ 25.390625 42.390625 31.78125 42.390625 \r\nQ 38.140625 42.390625 41.71875 45.5625 \r\nQ 45.3125 48.734375 45.3125 54.390625 \r\nQ 45.3125 60.0625 41.71875 63.234375 \r\nQ 38.140625 66.40625 31.78125 66.40625 \r\nQ 25.390625 66.40625 21.84375 63.234375 \r\nQ 18.3125 60.0625 18.3125 54.390625 \r\nz\r\n\" id=\"DejaVuSans-56\"/>\r\n      </defs>\r\n      <g transform=\"translate(16.1075 178.665247)scale(0.14 -0.14)\">\r\n       <use xlink:href=\"#DejaVuSans-56\"/>\r\n       <use x=\"63.623047\" xlink:href=\"#DejaVuSans-48\"/>\r\n      </g>\r\n     </g>\r\n    </g>\r\n    <g id=\"ytick_6\">\r\n     <g id=\"line2d_14\">\r\n      <g>\r\n       <use style=\"stroke:#000000;stroke-width:0.8;\" x=\"40.9225\" xlink:href=\"#m86946117df\" y=\"128.651583\"/>\r\n      </g>\r\n     </g>\r\n     <g id=\"text_14\">\r\n      <!-- 100 -->\r\n      <g transform=\"translate(7.2 133.970489)scale(0.14 -0.14)\">\r\n       <use xlink:href=\"#DejaVuSans-49\"/>\r\n       <use x=\"63.623047\" xlink:href=\"#DejaVuSans-48\"/>\r\n       <use x=\"127.246094\" xlink:href=\"#DejaVuSans-48\"/>\r\n      </g>\r\n     </g>\r\n    </g>\r\n    <g id=\"ytick_7\">\r\n     <g id=\"line2d_15\">\r\n      <g>\r\n       <use style=\"stroke:#000000;stroke-width:0.8;\" x=\"40.9225\" xlink:href=\"#m86946117df\" y=\"83.956824\"/>\r\n      </g>\r\n     </g>\r\n     <g id=\"text_15\">\r\n      <!-- 120 -->\r\n      <g transform=\"translate(7.2 89.27573)scale(0.14 -0.14)\">\r\n       <use xlink:href=\"#DejaVuSans-49\"/>\r\n       <use x=\"63.623047\" xlink:href=\"#DejaVuSans-50\"/>\r\n       <use x=\"127.246094\" xlink:href=\"#DejaVuSans-48\"/>\r\n      </g>\r\n     </g>\r\n    </g>\r\n    <g id=\"ytick_8\">\r\n     <g id=\"line2d_16\">\r\n      <g>\r\n       <use style=\"stroke:#000000;stroke-width:0.8;\" x=\"40.9225\" xlink:href=\"#m86946117df\" y=\"39.262066\"/>\r\n      </g>\r\n     </g>\r\n     <g id=\"text_16\">\r\n      <!-- 140 -->\r\n      <g transform=\"translate(7.2 44.580972)scale(0.14 -0.14)\">\r\n       <use xlink:href=\"#DejaVuSans-49\"/>\r\n       <use x=\"63.623047\" xlink:href=\"#DejaVuSans-52\"/>\r\n       <use x=\"127.246094\" xlink:href=\"#DejaVuSans-48\"/>\r\n      </g>\r\n     </g>\r\n    </g>\r\n   </g>\r\n   <g id=\"patch_43\">\r\n    <path d=\"M 40.9225 352.125375 \r\nL 40.9225 25.965375 \r\n\" style=\"fill:none;stroke:#000000;stroke-linecap:square;stroke-linejoin:miter;stroke-width:0.8;\"/>\r\n   </g>\r\n   <g id=\"patch_44\">\r\n    <path d=\"M 598.9225 352.125375 \r\nL 598.9225 25.965375 \r\n\" style=\"fill:none;stroke:#000000;stroke-linecap:square;stroke-linejoin:miter;stroke-width:0.8;\"/>\r\n   </g>\r\n   <g id=\"patch_45\">\r\n    <path d=\"M 40.9225 352.125375 \r\nL 598.9225 352.125375 \r\n\" style=\"fill:none;stroke:#000000;stroke-linecap:square;stroke-linejoin:miter;stroke-width:0.8;\"/>\r\n   </g>\r\n   <g id=\"patch_46\">\r\n    <path d=\"M 40.9225 25.965375 \r\nL 598.9225 25.965375 \r\n\" style=\"fill:none;stroke:#000000;stroke-linecap:square;stroke-linejoin:miter;stroke-width:0.8;\"/>\r\n   </g>\r\n   <g id=\"text_17\">\r\n    <!-- Unique Days of Engagement Data per District -->\r\n    <defs>\r\n     <path d=\"M 8.6875 72.90625 \r\nL 18.609375 72.90625 \r\nL 18.609375 28.609375 \r\nQ 18.609375 16.890625 22.84375 11.734375 \r\nQ 27.09375 6.59375 36.625 6.59375 \r\nQ 46.09375 6.59375 50.34375 11.734375 \r\nQ 54.59375 16.890625 54.59375 28.609375 \r\nL 54.59375 72.90625 \r\nL 64.5 72.90625 \r\nL 64.5 27.390625 \r\nQ 64.5 13.140625 57.4375 5.859375 \r\nQ 50.390625 -1.421875 36.625 -1.421875 \r\nQ 22.796875 -1.421875 15.734375 5.859375 \r\nQ 8.6875 13.140625 8.6875 27.390625 \r\nz\r\n\" id=\"DejaVuSans-85\"/>\r\n     <path d=\"M 54.890625 33.015625 \r\nL 54.890625 0 \r\nL 45.90625 0 \r\nL 45.90625 32.71875 \r\nQ 45.90625 40.484375 42.875 44.328125 \r\nQ 39.84375 48.1875 33.796875 48.1875 \r\nQ 26.515625 48.1875 22.3125 43.546875 \r\nQ 18.109375 38.921875 18.109375 30.90625 \r\nL 18.109375 0 \r\nL 9.078125 0 \r\nL 9.078125 54.6875 \r\nL 18.109375 54.6875 \r\nL 18.109375 46.1875 \r\nQ 21.34375 51.125 25.703125 53.5625 \r\nQ 30.078125 56 35.796875 56 \r\nQ 45.21875 56 50.046875 50.171875 \r\nQ 54.890625 44.34375 54.890625 33.015625 \r\nz\r\n\" id=\"DejaVuSans-110\"/>\r\n     <path d=\"M 9.421875 54.6875 \r\nL 18.40625 54.6875 \r\nL 18.40625 0 \r\nL 9.421875 0 \r\nz\r\nM 9.421875 75.984375 \r\nL 18.40625 75.984375 \r\nL 18.40625 64.59375 \r\nL 9.421875 64.59375 \r\nz\r\n\" id=\"DejaVuSans-105\"/>\r\n     <path d=\"M 14.796875 27.296875 \r\nQ 14.796875 17.390625 18.875 11.75 \r\nQ 22.953125 6.109375 30.078125 6.109375 \r\nQ 37.203125 6.109375 41.296875 11.75 \r\nQ 45.40625 17.390625 45.40625 27.296875 \r\nQ 45.40625 37.203125 41.296875 42.84375 \r\nQ 37.203125 48.484375 30.078125 48.484375 \r\nQ 22.953125 48.484375 18.875 42.84375 \r\nQ 14.796875 37.203125 14.796875 27.296875 \r\nz\r\nM 45.40625 8.203125 \r\nQ 42.578125 3.328125 38.25 0.953125 \r\nQ 33.9375 -1.421875 27.875 -1.421875 \r\nQ 17.96875 -1.421875 11.734375 6.484375 \r\nQ 5.515625 14.40625 5.515625 27.296875 \r\nQ 5.515625 40.1875 11.734375 48.09375 \r\nQ 17.96875 56 27.875 56 \r\nQ 33.9375 56 38.25 53.625 \r\nQ 42.578125 51.265625 45.40625 46.390625 \r\nL 45.40625 54.6875 \r\nL 54.390625 54.6875 \r\nL 54.390625 -20.796875 \r\nL 45.40625 -20.796875 \r\nz\r\n\" id=\"DejaVuSans-113\"/>\r\n     <path d=\"M 8.5 21.578125 \r\nL 8.5 54.6875 \r\nL 17.484375 54.6875 \r\nL 17.484375 21.921875 \r\nQ 17.484375 14.15625 20.5 10.265625 \r\nQ 23.53125 6.390625 29.59375 6.390625 \r\nQ 36.859375 6.390625 41.078125 11.03125 \r\nQ 45.3125 15.671875 45.3125 23.6875 \r\nL 45.3125 54.6875 \r\nL 54.296875 54.6875 \r\nL 54.296875 0 \r\nL 45.3125 0 \r\nL 45.3125 8.40625 \r\nQ 42.046875 3.421875 37.71875 1 \r\nQ 33.40625 -1.421875 27.6875 -1.421875 \r\nQ 18.265625 -1.421875 13.375 4.4375 \r\nQ 8.5 10.296875 8.5 21.578125 \r\nz\r\nM 31.109375 56 \r\nz\r\n\" id=\"DejaVuSans-117\"/>\r\n     <path d=\"M 56.203125 29.59375 \r\nL 56.203125 25.203125 \r\nL 14.890625 25.203125 \r\nQ 15.484375 15.921875 20.484375 11.0625 \r\nQ 25.484375 6.203125 34.421875 6.203125 \r\nQ 39.59375 6.203125 44.453125 7.46875 \r\nQ 49.3125 8.734375 54.109375 11.28125 \r\nL 54.109375 2.78125 \r\nQ 49.265625 0.734375 44.1875 -0.34375 \r\nQ 39.109375 -1.421875 33.890625 -1.421875 \r\nQ 20.796875 -1.421875 13.15625 6.1875 \r\nQ 5.515625 13.8125 5.515625 26.8125 \r\nQ 5.515625 40.234375 12.765625 48.109375 \r\nQ 20.015625 56 32.328125 56 \r\nQ 43.359375 56 49.78125 48.890625 \r\nQ 56.203125 41.796875 56.203125 29.59375 \r\nz\r\nM 47.21875 32.234375 \r\nQ 47.125 39.59375 43.09375 43.984375 \r\nQ 39.0625 48.390625 32.421875 48.390625 \r\nQ 24.90625 48.390625 20.390625 44.140625 \r\nQ 15.875 39.890625 15.1875 32.171875 \r\nz\r\n\" id=\"DejaVuSans-101\"/>\r\n     <path id=\"DejaVuSans-32\"/>\r\n     <path d=\"M 19.671875 64.796875 \r\nL 19.671875 8.109375 \r\nL 31.59375 8.109375 \r\nQ 46.6875 8.109375 53.6875 14.9375 \r\nQ 60.6875 21.78125 60.6875 36.53125 \r\nQ 60.6875 51.171875 53.6875 57.984375 \r\nQ 46.6875 64.796875 31.59375 64.796875 \r\nz\r\nM 9.8125 72.90625 \r\nL 30.078125 72.90625 \r\nQ 51.265625 72.90625 61.171875 64.09375 \r\nQ 71.09375 55.28125 71.09375 36.53125 \r\nQ 71.09375 17.671875 61.125 8.828125 \r\nQ 51.171875 0 30.078125 0 \r\nL 9.8125 0 \r\nz\r\n\" id=\"DejaVuSans-68\"/>\r\n     <path d=\"M 34.28125 27.484375 \r\nQ 23.390625 27.484375 19.1875 25 \r\nQ 14.984375 22.515625 14.984375 16.5 \r\nQ 14.984375 11.71875 18.140625 8.90625 \r\nQ 21.296875 6.109375 26.703125 6.109375 \r\nQ 34.1875 6.109375 38.703125 11.40625 \r\nQ 43.21875 16.703125 43.21875 25.484375 \r\nL 43.21875 27.484375 \r\nz\r\nM 52.203125 31.203125 \r\nL 52.203125 0 \r\nL 43.21875 0 \r\nL 43.21875 8.296875 \r\nQ 40.140625 3.328125 35.546875 0.953125 \r\nQ 30.953125 -1.421875 24.3125 -1.421875 \r\nQ 15.921875 -1.421875 10.953125 3.296875 \r\nQ 6 8.015625 6 15.921875 \r\nQ 6 25.140625 12.171875 29.828125 \r\nQ 18.359375 34.515625 30.609375 34.515625 \r\nL 43.21875 34.515625 \r\nL 43.21875 35.40625 \r\nQ 43.21875 41.609375 39.140625 45 \r\nQ 35.0625 48.390625 27.6875 48.390625 \r\nQ 23 48.390625 18.546875 47.265625 \r\nQ 14.109375 46.140625 10.015625 43.890625 \r\nL 10.015625 52.203125 \r\nQ 14.9375 54.109375 19.578125 55.046875 \r\nQ 24.21875 56 28.609375 56 \r\nQ 40.484375 56 46.34375 49.84375 \r\nQ 52.203125 43.703125 52.203125 31.203125 \r\nz\r\n\" id=\"DejaVuSans-97\"/>\r\n     <path d=\"M 32.171875 -5.078125 \r\nQ 28.375 -14.84375 24.75 -17.8125 \r\nQ 21.140625 -20.796875 15.09375 -20.796875 \r\nL 7.90625 -20.796875 \r\nL 7.90625 -13.28125 \r\nL 13.1875 -13.28125 \r\nQ 16.890625 -13.28125 18.9375 -11.515625 \r\nQ 21 -9.765625 23.484375 -3.21875 \r\nL 25.09375 0.875 \r\nL 2.984375 54.6875 \r\nL 12.5 54.6875 \r\nL 29.59375 11.921875 \r\nL 46.6875 54.6875 \r\nL 56.203125 54.6875 \r\nz\r\n\" id=\"DejaVuSans-121\"/>\r\n     <path d=\"M 44.28125 53.078125 \r\nL 44.28125 44.578125 \r\nQ 40.484375 46.53125 36.375 47.5 \r\nQ 32.28125 48.484375 27.875 48.484375 \r\nQ 21.1875 48.484375 17.84375 46.4375 \r\nQ 14.5 44.390625 14.5 40.28125 \r\nQ 14.5 37.15625 16.890625 35.375 \r\nQ 19.28125 33.59375 26.515625 31.984375 \r\nL 29.59375 31.296875 \r\nQ 39.15625 29.25 43.1875 25.515625 \r\nQ 47.21875 21.78125 47.21875 15.09375 \r\nQ 47.21875 7.46875 41.1875 3.015625 \r\nQ 35.15625 -1.421875 24.609375 -1.421875 \r\nQ 20.21875 -1.421875 15.453125 -0.5625 \r\nQ 10.6875 0.296875 5.421875 2 \r\nL 5.421875 11.28125 \r\nQ 10.40625 8.6875 15.234375 7.390625 \r\nQ 20.0625 6.109375 24.8125 6.109375 \r\nQ 31.15625 6.109375 34.5625 8.28125 \r\nQ 37.984375 10.453125 37.984375 14.40625 \r\nQ 37.984375 18.0625 35.515625 20.015625 \r\nQ 33.0625 21.96875 24.703125 23.78125 \r\nL 21.578125 24.515625 \r\nQ 13.234375 26.265625 9.515625 29.90625 \r\nQ 5.8125 33.546875 5.8125 39.890625 \r\nQ 5.8125 47.609375 11.28125 51.796875 \r\nQ 16.75 56 26.8125 56 \r\nQ 31.78125 56 36.171875 55.265625 \r\nQ 40.578125 54.546875 44.28125 53.078125 \r\nz\r\n\" id=\"DejaVuSans-115\"/>\r\n     <path d=\"M 30.609375 48.390625 \r\nQ 23.390625 48.390625 19.1875 42.75 \r\nQ 14.984375 37.109375 14.984375 27.296875 \r\nQ 14.984375 17.484375 19.15625 11.84375 \r\nQ 23.34375 6.203125 30.609375 6.203125 \r\nQ 37.796875 6.203125 41.984375 11.859375 \r\nQ 46.1875 17.53125 46.1875 27.296875 \r\nQ 46.1875 37.015625 41.984375 42.703125 \r\nQ 37.796875 48.390625 30.609375 48.390625 \r\nz\r\nM 30.609375 56 \r\nQ 42.328125 56 49.015625 48.375 \r\nQ 55.71875 40.765625 55.71875 27.296875 \r\nQ 55.71875 13.875 49.015625 6.21875 \r\nQ 42.328125 -1.421875 30.609375 -1.421875 \r\nQ 18.84375 -1.421875 12.171875 6.21875 \r\nQ 5.515625 13.875 5.515625 27.296875 \r\nQ 5.515625 40.765625 12.171875 48.375 \r\nQ 18.84375 56 30.609375 56 \r\nz\r\n\" id=\"DejaVuSans-111\"/>\r\n     <path d=\"M 37.109375 75.984375 \r\nL 37.109375 68.5 \r\nL 28.515625 68.5 \r\nQ 23.6875 68.5 21.796875 66.546875 \r\nQ 19.921875 64.59375 19.921875 59.515625 \r\nL 19.921875 54.6875 \r\nL 34.71875 54.6875 \r\nL 34.71875 47.703125 \r\nL 19.921875 47.703125 \r\nL 19.921875 0 \r\nL 10.890625 0 \r\nL 10.890625 47.703125 \r\nL 2.296875 47.703125 \r\nL 2.296875 54.6875 \r\nL 10.890625 54.6875 \r\nL 10.890625 58.5 \r\nQ 10.890625 67.625 15.140625 71.796875 \r\nQ 19.390625 75.984375 28.609375 75.984375 \r\nz\r\n\" id=\"DejaVuSans-102\"/>\r\n     <path d=\"M 9.8125 72.90625 \r\nL 55.90625 72.90625 \r\nL 55.90625 64.59375 \r\nL 19.671875 64.59375 \r\nL 19.671875 43.015625 \r\nL 54.390625 43.015625 \r\nL 54.390625 34.71875 \r\nL 19.671875 34.71875 \r\nL 19.671875 8.296875 \r\nL 56.78125 8.296875 \r\nL 56.78125 0 \r\nL 9.8125 0 \r\nz\r\n\" id=\"DejaVuSans-69\"/>\r\n     <path d=\"M 45.40625 27.984375 \r\nQ 45.40625 37.75 41.375 43.109375 \r\nQ 37.359375 48.484375 30.078125 48.484375 \r\nQ 22.859375 48.484375 18.828125 43.109375 \r\nQ 14.796875 37.75 14.796875 27.984375 \r\nQ 14.796875 18.265625 18.828125 12.890625 \r\nQ 22.859375 7.515625 30.078125 7.515625 \r\nQ 37.359375 7.515625 41.375 12.890625 \r\nQ 45.40625 18.265625 45.40625 27.984375 \r\nz\r\nM 54.390625 6.78125 \r\nQ 54.390625 -7.171875 48.1875 -13.984375 \r\nQ 42 -20.796875 29.203125 -20.796875 \r\nQ 24.46875 -20.796875 20.265625 -20.09375 \r\nQ 16.0625 -19.390625 12.109375 -17.921875 \r\nL 12.109375 -9.1875 \r\nQ 16.0625 -11.328125 19.921875 -12.34375 \r\nQ 23.78125 -13.375 27.78125 -13.375 \r\nQ 36.625 -13.375 41.015625 -8.765625 \r\nQ 45.40625 -4.15625 45.40625 5.171875 \r\nL 45.40625 9.625 \r\nQ 42.625 4.78125 38.28125 2.390625 \r\nQ 33.9375 0 27.875 0 \r\nQ 17.828125 0 11.671875 7.65625 \r\nQ 5.515625 15.328125 5.515625 27.984375 \r\nQ 5.515625 40.671875 11.671875 48.328125 \r\nQ 17.828125 56 27.875 56 \r\nQ 33.9375 56 38.28125 53.609375 \r\nQ 42.625 51.21875 45.40625 46.390625 \r\nL 45.40625 54.6875 \r\nL 54.390625 54.6875 \r\nz\r\n\" id=\"DejaVuSans-103\"/>\r\n     <path d=\"M 52 44.1875 \r\nQ 55.375 50.25 60.0625 53.125 \r\nQ 64.75 56 71.09375 56 \r\nQ 79.640625 56 84.28125 50.015625 \r\nQ 88.921875 44.046875 88.921875 33.015625 \r\nL 88.921875 0 \r\nL 79.890625 0 \r\nL 79.890625 32.71875 \r\nQ 79.890625 40.578125 77.09375 44.375 \r\nQ 74.3125 48.1875 68.609375 48.1875 \r\nQ 61.625 48.1875 57.5625 43.546875 \r\nQ 53.515625 38.921875 53.515625 30.90625 \r\nL 53.515625 0 \r\nL 44.484375 0 \r\nL 44.484375 32.71875 \r\nQ 44.484375 40.625 41.703125 44.40625 \r\nQ 38.921875 48.1875 33.109375 48.1875 \r\nQ 26.21875 48.1875 22.15625 43.53125 \r\nQ 18.109375 38.875 18.109375 30.90625 \r\nL 18.109375 0 \r\nL 9.078125 0 \r\nL 9.078125 54.6875 \r\nL 18.109375 54.6875 \r\nL 18.109375 46.1875 \r\nQ 21.1875 51.21875 25.484375 53.609375 \r\nQ 29.78125 56 35.6875 56 \r\nQ 41.65625 56 45.828125 52.96875 \r\nQ 50 49.953125 52 44.1875 \r\nz\r\n\" id=\"DejaVuSans-109\"/>\r\n     <path d=\"M 18.3125 70.21875 \r\nL 18.3125 54.6875 \r\nL 36.8125 54.6875 \r\nL 36.8125 47.703125 \r\nL 18.3125 47.703125 \r\nL 18.3125 18.015625 \r\nQ 18.3125 11.328125 20.140625 9.421875 \r\nQ 21.96875 7.515625 27.59375 7.515625 \r\nL 36.8125 7.515625 \r\nL 36.8125 0 \r\nL 27.59375 0 \r\nQ 17.1875 0 13.234375 3.875 \r\nQ 9.28125 7.765625 9.28125 18.015625 \r\nL 9.28125 47.703125 \r\nL 2.6875 47.703125 \r\nL 2.6875 54.6875 \r\nL 9.28125 54.6875 \r\nL 9.28125 70.21875 \r\nz\r\n\" id=\"DejaVuSans-116\"/>\r\n     <path d=\"M 18.109375 8.203125 \r\nL 18.109375 -20.796875 \r\nL 9.078125 -20.796875 \r\nL 9.078125 54.6875 \r\nL 18.109375 54.6875 \r\nL 18.109375 46.390625 \r\nQ 20.953125 51.265625 25.265625 53.625 \r\nQ 29.59375 56 35.59375 56 \r\nQ 45.5625 56 51.78125 48.09375 \r\nQ 58.015625 40.1875 58.015625 27.296875 \r\nQ 58.015625 14.40625 51.78125 6.484375 \r\nQ 45.5625 -1.421875 35.59375 -1.421875 \r\nQ 29.59375 -1.421875 25.265625 0.953125 \r\nQ 20.953125 3.328125 18.109375 8.203125 \r\nz\r\nM 48.6875 27.296875 \r\nQ 48.6875 37.203125 44.609375 42.84375 \r\nQ 40.53125 48.484375 33.40625 48.484375 \r\nQ 26.265625 48.484375 22.1875 42.84375 \r\nQ 18.109375 37.203125 18.109375 27.296875 \r\nQ 18.109375 17.390625 22.1875 11.75 \r\nQ 26.265625 6.109375 33.40625 6.109375 \r\nQ 40.53125 6.109375 44.609375 11.75 \r\nQ 48.6875 17.390625 48.6875 27.296875 \r\nz\r\n\" id=\"DejaVuSans-112\"/>\r\n     <path d=\"M 41.109375 46.296875 \r\nQ 39.59375 47.171875 37.8125 47.578125 \r\nQ 36.03125 48 33.890625 48 \r\nQ 26.265625 48 22.1875 43.046875 \r\nQ 18.109375 38.09375 18.109375 28.8125 \r\nL 18.109375 0 \r\nL 9.078125 0 \r\nL 9.078125 54.6875 \r\nL 18.109375 54.6875 \r\nL 18.109375 46.1875 \r\nQ 20.953125 51.171875 25.484375 53.578125 \r\nQ 30.03125 56 36.53125 56 \r\nQ 37.453125 56 38.578125 55.875 \r\nQ 39.703125 55.765625 41.0625 55.515625 \r\nz\r\n\" id=\"DejaVuSans-114\"/>\r\n     <path d=\"M 48.78125 52.59375 \r\nL 48.78125 44.1875 \r\nQ 44.96875 46.296875 41.140625 47.34375 \r\nQ 37.3125 48.390625 33.40625 48.390625 \r\nQ 24.65625 48.390625 19.8125 42.84375 \r\nQ 14.984375 37.3125 14.984375 27.296875 \r\nQ 14.984375 17.28125 19.8125 11.734375 \r\nQ 24.65625 6.203125 33.40625 6.203125 \r\nQ 37.3125 6.203125 41.140625 7.25 \r\nQ 44.96875 8.296875 48.78125 10.40625 \r\nL 48.78125 2.09375 \r\nQ 45.015625 0.34375 40.984375 -0.53125 \r\nQ 36.96875 -1.421875 32.421875 -1.421875 \r\nQ 20.0625 -1.421875 12.78125 6.34375 \r\nQ 5.515625 14.109375 5.515625 27.296875 \r\nQ 5.515625 40.671875 12.859375 48.328125 \r\nQ 20.21875 56 33.015625 56 \r\nQ 37.15625 56 41.109375 55.140625 \r\nQ 45.0625 54.296875 48.78125 52.59375 \r\nz\r\n\" id=\"DejaVuSans-99\"/>\r\n    </defs>\r\n    <g transform=\"translate(127.454875 19.965375)scale(0.168 -0.168)\">\r\n     <use xlink:href=\"#DejaVuSans-85\"/>\r\n     <use x=\"73.193359\" xlink:href=\"#DejaVuSans-110\"/>\r\n     <use x=\"136.572266\" xlink:href=\"#DejaVuSans-105\"/>\r\n     <use x=\"164.355469\" xlink:href=\"#DejaVuSans-113\"/>\r\n     <use x=\"227.832031\" xlink:href=\"#DejaVuSans-117\"/>\r\n     <use x=\"291.210938\" xlink:href=\"#DejaVuSans-101\"/>\r\n     <use x=\"352.734375\" xlink:href=\"#DejaVuSans-32\"/>\r\n     <use x=\"384.521484\" xlink:href=\"#DejaVuSans-68\"/>\r\n     <use x=\"461.523438\" xlink:href=\"#DejaVuSans-97\"/>\r\n     <use x=\"522.802734\" xlink:href=\"#DejaVuSans-121\"/>\r\n     <use x=\"581.982422\" xlink:href=\"#DejaVuSans-115\"/>\r\n     <use x=\"634.082031\" xlink:href=\"#DejaVuSans-32\"/>\r\n     <use x=\"665.869141\" xlink:href=\"#DejaVuSans-111\"/>\r\n     <use x=\"727.050781\" xlink:href=\"#DejaVuSans-102\"/>\r\n     <use x=\"762.255859\" xlink:href=\"#DejaVuSans-32\"/>\r\n     <use x=\"794.042969\" xlink:href=\"#DejaVuSans-69\"/>\r\n     <use x=\"857.226562\" xlink:href=\"#DejaVuSans-110\"/>\r\n     <use x=\"920.605469\" xlink:href=\"#DejaVuSans-103\"/>\r\n     <use x=\"984.082031\" xlink:href=\"#DejaVuSans-97\"/>\r\n     <use x=\"1045.361328\" xlink:href=\"#DejaVuSans-103\"/>\r\n     <use x=\"1108.837891\" xlink:href=\"#DejaVuSans-101\"/>\r\n     <use x=\"1170.361328\" xlink:href=\"#DejaVuSans-109\"/>\r\n     <use x=\"1267.773438\" xlink:href=\"#DejaVuSans-101\"/>\r\n     <use x=\"1329.296875\" xlink:href=\"#DejaVuSans-110\"/>\r\n     <use x=\"1392.675781\" xlink:href=\"#DejaVuSans-116\"/>\r\n     <use x=\"1431.884766\" xlink:href=\"#DejaVuSans-32\"/>\r\n     <use x=\"1463.671875\" xlink:href=\"#DejaVuSans-68\"/>\r\n     <use x=\"1540.673828\" xlink:href=\"#DejaVuSans-97\"/>\r\n     <use x=\"1601.953125\" xlink:href=\"#DejaVuSans-116\"/>\r\n     <use x=\"1641.162109\" xlink:href=\"#DejaVuSans-97\"/>\r\n     <use x=\"1702.441406\" xlink:href=\"#DejaVuSans-32\"/>\r\n     <use x=\"1734.228516\" xlink:href=\"#DejaVuSans-112\"/>\r\n     <use x=\"1797.705078\" xlink:href=\"#DejaVuSans-101\"/>\r\n     <use x=\"1859.228516\" xlink:href=\"#DejaVuSans-114\"/>\r\n     <use x=\"1900.341797\" xlink:href=\"#DejaVuSans-32\"/>\r\n     <use x=\"1932.128906\" xlink:href=\"#DejaVuSans-68\"/>\r\n     <use x=\"2009.130859\" xlink:href=\"#DejaVuSans-105\"/>\r\n     <use x=\"2036.914062\" xlink:href=\"#DejaVuSans-115\"/>\r\n     <use x=\"2089.013672\" xlink:href=\"#DejaVuSans-116\"/>\r\n     <use x=\"2128.222656\" xlink:href=\"#DejaVuSans-114\"/>\r\n     <use x=\"2169.335938\" xlink:href=\"#DejaVuSans-105\"/>\r\n     <use x=\"2197.119141\" xlink:href=\"#DejaVuSans-99\"/>\r\n     <use x=\"2252.099609\" xlink:href=\"#DejaVuSans-116\"/>\r\n    </g>\r\n   </g>\r\n  </g>\r\n </g>\r\n <defs>\r\n  <clipPath id=\"p73531274f0\">\r\n   <rect height=\"326.16\" width=\"558\" x=\"40.9225\" y=\"25.965375\"/>\r\n  </clipPath>\r\n </defs>\r\n</svg>\r\n",
      "image/png": "[encoded data removed]"
     },
     "metadata": {
      "needs_background": "light"
     }
    }
   ],
   "metadata": {}
  },
  {
   "cell_type": "markdown",
   "source": [
    "\r\n",
    "we can create a unique data to determine how many district have less than 366 days of activities "
   ],
   "metadata": {}
  },
  {
   "cell_type": "code",
   "execution_count": 225,
   "source": [
    "Unique_366days = engagement_new.groupby('district_id').time.nunique()\r\n",
    "Unique_366days.head()\r\n"
   ],
   "outputs": [
    {
     "output_type": "execute_result",
     "data": {
      "text/plain": [
       "district_id\n",
       "1000    366\n",
       "1044    366\n",
       "1052    366\n",
       "1142    366\n",
       "1204    366\n",
       "Name: time, dtype: int64"
      ]
     },
     "metadata": {},
     "execution_count": 225
    }
   ],
   "metadata": {}
  },
  {
   "cell_type": "markdown",
   "source": [
    "To make the data easier to compare, we will only consider distrcits with engagement data for everyday in 2020."
   ],
   "metadata": {}
  },
  {
   "cell_type": "code",
   "execution_count": 226,
   "source": [
    "\r\n",
    "engage_data = []\r\n",
    "\r\n",
    "for district in districts_info.district_id.unique():\r\n",
    "    df = pd.read_csv(f'{engagement_Path}/{district}.csv', index_col=None, header=0)\r\n",
    "    df[\"district_id\"] = district\r\n",
    "    if df.time.nunique() == 366:\r\n",
    "        engage_data.append(df)\r\n",
    "    \r\n",
    "    \r\n",
    "    \r\n",
    "engagement_new = pd.concat(engage_data)\r\n",
    "engagement_new = engagement_new.reset_index(drop=True)"
   ],
   "outputs": [],
   "metadata": {}
  },
  {
   "cell_type": "code",
   "execution_count": 227,
   "source": [
    "fig, ax = plt.subplots(1, 1, figsize=(10,6))\r\n",
    "\r\n",
    "#x = engagement_new.groupby('district_id').time.nunique()\r\n",
    "plt.hist(engagement_new.groupby('district_id').time.nunique(), bins= 40)\r\n",
    "\r\n",
    "ax.set_title('Unique Days of Engagement Data per District')\r\n",
    "plt.show()"
   ],
   "outputs": [
    {
     "output_type": "display_data",
     "data": {
      "text/plain": [
       "<Figure size 720x432 with 1 Axes>"
      ],
      "image/svg+xml": "<?xml version=\"1.0\" encoding=\"utf-8\" standalone=\"no\"?>\r\n<!DOCTYPE svg PUBLIC \"-//W3C//DTD SVG 1.1//EN\"\r\n  \"http://www.w3.org/Graphics/SVG/1.1/DTD/svg11.dtd\">\r\n<!-- Created with matplotlib (https://matplotlib.org/) -->\r\n<svg height=\"379.87475pt\" version=\"1.1\" viewBox=\"0 0 606.1225 379.87475\" width=\"606.1225pt\" xmlns=\"http://www.w3.org/2000/svg\" xmlns:xlink=\"http://www.w3.org/1999/xlink\">\r\n <defs>\r\n  <style type=\"text/css\">\r\n*{stroke-linecap:butt;stroke-linejoin:round;}\r\n  </style>\r\n </defs>\r\n <g id=\"figure_1\">\r\n  <g id=\"patch_1\">\r\n   <path d=\"M 0 379.87475 \r\nL 606.1225 379.87475 \r\nL 606.1225 0 \r\nL 0 0 \r\nz\r\n\" style=\"fill:none;\"/>\r\n  </g>\r\n  <g id=\"axes_1\">\r\n   <g id=\"patch_2\">\r\n    <path d=\"M 40.9225 352.125375 \r\nL 598.9225 352.125375 \r\nL 598.9225 25.965375 \r\nL 40.9225 25.965375 \r\nz\r\n\" style=\"fill:#ffffff;\"/>\r\n   </g>\r\n   <g id=\"patch_3\">\r\n    <path clip-path=\"url(#pba96727209)\" d=\"M 66.286136 352.125375 \r\nL 78.967955 352.125375 \r\nL 78.967955 352.125375 \r\nL 66.286136 352.125375 \r\nz\r\n\" style=\"fill:#1f77b4;\"/>\r\n   </g>\r\n   <g id=\"patch_4\">\r\n    <path clip-path=\"url(#pba96727209)\" d=\"M 78.967955 352.125375 \r\nL 91.649773 352.125375 \r\nL 91.649773 352.125375 \r\nL 78.967955 352.125375 \r\nz\r\n\" style=\"fill:#1f77b4;\"/>\r\n   </g>\r\n   <g id=\"patch_5\">\r\n    <path clip-path=\"url(#pba96727209)\" d=\"M 91.649773 352.125375 \r\nL 104.331591 352.125375 \r\nL 104.331591 352.125375 \r\nL 91.649773 352.125375 \r\nz\r\n\" style=\"fill:#1f77b4;\"/>\r\n   </g>\r\n   <g id=\"patch_6\">\r\n    <path clip-path=\"url(#pba96727209)\" d=\"M 104.331591 352.125375 \r\nL 117.013409 352.125375 \r\nL 117.013409 352.125375 \r\nL 104.331591 352.125375 \r\nz\r\n\" style=\"fill:#1f77b4;\"/>\r\n   </g>\r\n   <g id=\"patch_7\">\r\n    <path clip-path=\"url(#pba96727209)\" d=\"M 117.013409 352.125375 \r\nL 129.695227 352.125375 \r\nL 129.695227 352.125375 \r\nL 117.013409 352.125375 \r\nz\r\n\" style=\"fill:#1f77b4;\"/>\r\n   </g>\r\n   <g id=\"patch_8\">\r\n    <path clip-path=\"url(#pba96727209)\" d=\"M 129.695227 352.125375 \r\nL 142.377045 352.125375 \r\nL 142.377045 352.125375 \r\nL 129.695227 352.125375 \r\nz\r\n\" style=\"fill:#1f77b4;\"/>\r\n   </g>\r\n   <g id=\"patch_9\">\r\n    <path clip-path=\"url(#pba96727209)\" d=\"M 142.377045 352.125375 \r\nL 155.058864 352.125375 \r\nL 155.058864 352.125375 \r\nL 142.377045 352.125375 \r\nz\r\n\" style=\"fill:#1f77b4;\"/>\r\n   </g>\r\n   <g id=\"patch_10\">\r\n    <path clip-path=\"url(#pba96727209)\" d=\"M 155.058864 352.125375 \r\nL 167.740682 352.125375 \r\nL 167.740682 352.125375 \r\nL 155.058864 352.125375 \r\nz\r\n\" style=\"fill:#1f77b4;\"/>\r\n   </g>\r\n   <g id=\"patch_11\">\r\n    <path clip-path=\"url(#pba96727209)\" d=\"M 167.740682 352.125375 \r\nL 180.4225 352.125375 \r\nL 180.4225 352.125375 \r\nL 167.740682 352.125375 \r\nz\r\n\" style=\"fill:#1f77b4;\"/>\r\n   </g>\r\n   <g id=\"patch_12\">\r\n    <path clip-path=\"url(#pba96727209)\" d=\"M 180.4225 352.125375 \r\nL 193.104318 352.125375 \r\nL 193.104318 352.125375 \r\nL 180.4225 352.125375 \r\nz\r\n\" style=\"fill:#1f77b4;\"/>\r\n   </g>\r\n   <g id=\"patch_13\">\r\n    <path clip-path=\"url(#pba96727209)\" d=\"M 193.104318 352.125375 \r\nL 205.786136 352.125375 \r\nL 205.786136 352.125375 \r\nL 193.104318 352.125375 \r\nz\r\n\" style=\"fill:#1f77b4;\"/>\r\n   </g>\r\n   <g id=\"patch_14\">\r\n    <path clip-path=\"url(#pba96727209)\" d=\"M 205.786136 352.125375 \r\nL 218.467955 352.125375 \r\nL 218.467955 352.125375 \r\nL 205.786136 352.125375 \r\nz\r\n\" style=\"fill:#1f77b4;\"/>\r\n   </g>\r\n   <g id=\"patch_15\">\r\n    <path clip-path=\"url(#pba96727209)\" d=\"M 218.467955 352.125375 \r\nL 231.149773 352.125375 \r\nL 231.149773 352.125375 \r\nL 218.467955 352.125375 \r\nz\r\n\" style=\"fill:#1f77b4;\"/>\r\n   </g>\r\n   <g id=\"patch_16\">\r\n    <path clip-path=\"url(#pba96727209)\" d=\"M 231.149773 352.125375 \r\nL 243.831591 352.125375 \r\nL 243.831591 352.125375 \r\nL 231.149773 352.125375 \r\nz\r\n\" style=\"fill:#1f77b4;\"/>\r\n   </g>\r\n   <g id=\"patch_17\">\r\n    <path clip-path=\"url(#pba96727209)\" d=\"M 243.831591 352.125375 \r\nL 256.513409 352.125375 \r\nL 256.513409 352.125375 \r\nL 243.831591 352.125375 \r\nz\r\n\" style=\"fill:#1f77b4;\"/>\r\n   </g>\r\n   <g id=\"patch_18\">\r\n    <path clip-path=\"url(#pba96727209)\" d=\"M 256.513409 352.125375 \r\nL 269.195227 352.125375 \r\nL 269.195227 352.125375 \r\nL 256.513409 352.125375 \r\nz\r\n\" style=\"fill:#1f77b4;\"/>\r\n   </g>\r\n   <g id=\"patch_19\">\r\n    <path clip-path=\"url(#pba96727209)\" d=\"M 269.195227 352.125375 \r\nL 281.877045 352.125375 \r\nL 281.877045 352.125375 \r\nL 269.195227 352.125375 \r\nz\r\n\" style=\"fill:#1f77b4;\"/>\r\n   </g>\r\n   <g id=\"patch_20\">\r\n    <path clip-path=\"url(#pba96727209)\" d=\"M 281.877045 352.125375 \r\nL 294.558864 352.125375 \r\nL 294.558864 352.125375 \r\nL 281.877045 352.125375 \r\nz\r\n\" style=\"fill:#1f77b4;\"/>\r\n   </g>\r\n   <g id=\"patch_21\">\r\n    <path clip-path=\"url(#pba96727209)\" d=\"M 294.558864 352.125375 \r\nL 307.240682 352.125375 \r\nL 307.240682 352.125375 \r\nL 294.558864 352.125375 \r\nz\r\n\" style=\"fill:#1f77b4;\"/>\r\n   </g>\r\n   <g id=\"patch_22\">\r\n    <path clip-path=\"url(#pba96727209)\" d=\"M 307.240682 352.125375 \r\nL 319.9225 352.125375 \r\nL 319.9225 352.125375 \r\nL 307.240682 352.125375 \r\nz\r\n\" style=\"fill:#1f77b4;\"/>\r\n   </g>\r\n   <g id=\"patch_23\">\r\n    <path clip-path=\"url(#pba96727209)\" d=\"M 319.9225 352.125375 \r\nL 332.604318 352.125375 \r\nL 332.604318 41.496804 \r\nL 319.9225 41.496804 \r\nz\r\n\" style=\"fill:#1f77b4;\"/>\r\n   </g>\r\n   <g id=\"patch_24\">\r\n    <path clip-path=\"url(#pba96727209)\" d=\"M 332.604318 352.125375 \r\nL 345.286136 352.125375 \r\nL 345.286136 352.125375 \r\nL 332.604318 352.125375 \r\nz\r\n\" style=\"fill:#1f77b4;\"/>\r\n   </g>\r\n   <g id=\"patch_25\">\r\n    <path clip-path=\"url(#pba96727209)\" d=\"M 345.286136 352.125375 \r\nL 357.967955 352.125375 \r\nL 357.967955 352.125375 \r\nL 345.286136 352.125375 \r\nz\r\n\" style=\"fill:#1f77b4;\"/>\r\n   </g>\r\n   <g id=\"patch_26\">\r\n    <path clip-path=\"url(#pba96727209)\" d=\"M 357.967955 352.125375 \r\nL 370.649773 352.125375 \r\nL 370.649773 352.125375 \r\nL 357.967955 352.125375 \r\nz\r\n\" style=\"fill:#1f77b4;\"/>\r\n   </g>\r\n   <g id=\"patch_27\">\r\n    <path clip-path=\"url(#pba96727209)\" d=\"M 370.649773 352.125375 \r\nL 383.331591 352.125375 \r\nL 383.331591 352.125375 \r\nL 370.649773 352.125375 \r\nz\r\n\" style=\"fill:#1f77b4;\"/>\r\n   </g>\r\n   <g id=\"patch_28\">\r\n    <path clip-path=\"url(#pba96727209)\" d=\"M 383.331591 352.125375 \r\nL 396.013409 352.125375 \r\nL 396.013409 352.125375 \r\nL 383.331591 352.125375 \r\nz\r\n\" style=\"fill:#1f77b4;\"/>\r\n   </g>\r\n   <g id=\"patch_29\">\r\n    <path clip-path=\"url(#pba96727209)\" d=\"M 396.013409 352.125375 \r\nL 408.695227 352.125375 \r\nL 408.695227 352.125375 \r\nL 396.013409 352.125375 \r\nz\r\n\" style=\"fill:#1f77b4;\"/>\r\n   </g>\r\n   <g id=\"patch_30\">\r\n    <path clip-path=\"url(#pba96727209)\" d=\"M 408.695227 352.125375 \r\nL 421.377045 352.125375 \r\nL 421.377045 352.125375 \r\nL 408.695227 352.125375 \r\nz\r\n\" style=\"fill:#1f77b4;\"/>\r\n   </g>\r\n   <g id=\"patch_31\">\r\n    <path clip-path=\"url(#pba96727209)\" d=\"M 421.377045 352.125375 \r\nL 434.058864 352.125375 \r\nL 434.058864 352.125375 \r\nL 421.377045 352.125375 \r\nz\r\n\" style=\"fill:#1f77b4;\"/>\r\n   </g>\r\n   <g id=\"patch_32\">\r\n    <path clip-path=\"url(#pba96727209)\" d=\"M 434.058864 352.125375 \r\nL 446.740682 352.125375 \r\nL 446.740682 352.125375 \r\nL 434.058864 352.125375 \r\nz\r\n\" style=\"fill:#1f77b4;\"/>\r\n   </g>\r\n   <g id=\"patch_33\">\r\n    <path clip-path=\"url(#pba96727209)\" d=\"M 446.740682 352.125375 \r\nL 459.4225 352.125375 \r\nL 459.4225 352.125375 \r\nL 446.740682 352.125375 \r\nz\r\n\" style=\"fill:#1f77b4;\"/>\r\n   </g>\r\n   <g id=\"patch_34\">\r\n    <path clip-path=\"url(#pba96727209)\" d=\"M 459.4225 352.125375 \r\nL 472.104318 352.125375 \r\nL 472.104318 352.125375 \r\nL 459.4225 352.125375 \r\nz\r\n\" style=\"fill:#1f77b4;\"/>\r\n   </g>\r\n   <g id=\"patch_35\">\r\n    <path clip-path=\"url(#pba96727209)\" d=\"M 472.104318 352.125375 \r\nL 484.786136 352.125375 \r\nL 484.786136 352.125375 \r\nL 472.104318 352.125375 \r\nz\r\n\" style=\"fill:#1f77b4;\"/>\r\n   </g>\r\n   <g id=\"patch_36\">\r\n    <path clip-path=\"url(#pba96727209)\" d=\"M 484.786136 352.125375 \r\nL 497.467955 352.125375 \r\nL 497.467955 352.125375 \r\nL 484.786136 352.125375 \r\nz\r\n\" style=\"fill:#1f77b4;\"/>\r\n   </g>\r\n   <g id=\"patch_37\">\r\n    <path clip-path=\"url(#pba96727209)\" d=\"M 497.467955 352.125375 \r\nL 510.149773 352.125375 \r\nL 510.149773 352.125375 \r\nL 497.467955 352.125375 \r\nz\r\n\" style=\"fill:#1f77b4;\"/>\r\n   </g>\r\n   <g id=\"patch_38\">\r\n    <path clip-path=\"url(#pba96727209)\" d=\"M 510.149773 352.125375 \r\nL 522.831591 352.125375 \r\nL 522.831591 352.125375 \r\nL 510.149773 352.125375 \r\nz\r\n\" style=\"fill:#1f77b4;\"/>\r\n   </g>\r\n   <g id=\"patch_39\">\r\n    <path clip-path=\"url(#pba96727209)\" d=\"M 522.831591 352.125375 \r\nL 535.513409 352.125375 \r\nL 535.513409 352.125375 \r\nL 522.831591 352.125375 \r\nz\r\n\" style=\"fill:#1f77b4;\"/>\r\n   </g>\r\n   <g id=\"patch_40\">\r\n    <path clip-path=\"url(#pba96727209)\" d=\"M 535.513409 352.125375 \r\nL 548.195227 352.125375 \r\nL 548.195227 352.125375 \r\nL 535.513409 352.125375 \r\nz\r\n\" style=\"fill:#1f77b4;\"/>\r\n   </g>\r\n   <g id=\"patch_41\">\r\n    <path clip-path=\"url(#pba96727209)\" d=\"M 548.195227 352.125375 \r\nL 560.877045 352.125375 \r\nL 560.877045 352.125375 \r\nL 548.195227 352.125375 \r\nz\r\n\" style=\"fill:#1f77b4;\"/>\r\n   </g>\r\n   <g id=\"patch_42\">\r\n    <path clip-path=\"url(#pba96727209)\" d=\"M 560.877045 352.125375 \r\nL 573.558864 352.125375 \r\nL 573.558864 352.125375 \r\nL 560.877045 352.125375 \r\nz\r\n\" style=\"fill:#1f77b4;\"/>\r\n   </g>\r\n   <g id=\"matplotlib.axis_1\">\r\n    <g id=\"xtick_1\">\r\n     <g id=\"line2d_1\">\r\n      <defs>\r\n       <path d=\"M 0 0 \r\nL 0 3.5 \r\n\" id=\"m9448c5500d\" style=\"stroke:#000000;stroke-width:0.8;\"/>\r\n      </defs>\r\n      <g>\r\n       <use style=\"stroke:#000000;stroke-width:0.8;\" x=\"117.013409\" xlink:href=\"#m9448c5500d\" y=\"352.125375\"/>\r\n      </g>\r\n     </g>\r\n     <g id=\"text_1\">\r\n      <!-- 365.6 -->\r\n      <defs>\r\n       <path d=\"M 40.578125 39.3125 \r\nQ 47.65625 37.796875 51.625 33 \r\nQ 55.609375 28.21875 55.609375 21.1875 \r\nQ 55.609375 10.40625 48.1875 4.484375 \r\nQ 40.765625 -1.421875 27.09375 -1.421875 \r\nQ 22.515625 -1.421875 17.65625 -0.515625 \r\nQ 12.796875 0.390625 7.625 2.203125 \r\nL 7.625 11.71875 \r\nQ 11.71875 9.328125 16.59375 8.109375 \r\nQ 21.484375 6.890625 26.8125 6.890625 \r\nQ 36.078125 6.890625 40.9375 10.546875 \r\nQ 45.796875 14.203125 45.796875 21.1875 \r\nQ 45.796875 27.640625 41.28125 31.265625 \r\nQ 36.765625 34.90625 28.71875 34.90625 \r\nL 20.21875 34.90625 \r\nL 20.21875 43.015625 \r\nL 29.109375 43.015625 \r\nQ 36.375 43.015625 40.234375 45.921875 \r\nQ 44.09375 48.828125 44.09375 54.296875 \r\nQ 44.09375 59.90625 40.109375 62.90625 \r\nQ 36.140625 65.921875 28.71875 65.921875 \r\nQ 24.65625 65.921875 20.015625 65.03125 \r\nQ 15.375 64.15625 9.8125 62.3125 \r\nL 9.8125 71.09375 \r\nQ 15.4375 72.65625 20.34375 73.4375 \r\nQ 25.25 74.21875 29.59375 74.21875 \r\nQ 40.828125 74.21875 47.359375 69.109375 \r\nQ 53.90625 64.015625 53.90625 55.328125 \r\nQ 53.90625 49.265625 50.4375 45.09375 \r\nQ 46.96875 40.921875 40.578125 39.3125 \r\nz\r\n\" id=\"DejaVuSans-51\"/>\r\n       <path d=\"M 33.015625 40.375 \r\nQ 26.375 40.375 22.484375 35.828125 \r\nQ 18.609375 31.296875 18.609375 23.390625 \r\nQ 18.609375 15.53125 22.484375 10.953125 \r\nQ 26.375 6.390625 33.015625 6.390625 \r\nQ 39.65625 6.390625 43.53125 10.953125 \r\nQ 47.40625 15.53125 47.40625 23.390625 \r\nQ 47.40625 31.296875 43.53125 35.828125 \r\nQ 39.65625 40.375 33.015625 40.375 \r\nz\r\nM 52.59375 71.296875 \r\nL 52.59375 62.3125 \r\nQ 48.875 64.0625 45.09375 64.984375 \r\nQ 41.3125 65.921875 37.59375 65.921875 \r\nQ 27.828125 65.921875 22.671875 59.328125 \r\nQ 17.53125 52.734375 16.796875 39.40625 \r\nQ 19.671875 43.65625 24.015625 45.921875 \r\nQ 28.375 48.1875 33.59375 48.1875 \r\nQ 44.578125 48.1875 50.953125 41.515625 \r\nQ 57.328125 34.859375 57.328125 23.390625 \r\nQ 57.328125 12.15625 50.6875 5.359375 \r\nQ 44.046875 -1.421875 33.015625 -1.421875 \r\nQ 20.359375 -1.421875 13.671875 8.265625 \r\nQ 6.984375 17.96875 6.984375 36.375 \r\nQ 6.984375 53.65625 15.1875 63.9375 \r\nQ 23.390625 74.21875 37.203125 74.21875 \r\nQ 40.921875 74.21875 44.703125 73.484375 \r\nQ 48.484375 72.75 52.59375 71.296875 \r\nz\r\n\" id=\"DejaVuSans-54\"/>\r\n       <path d=\"M 10.796875 72.90625 \r\nL 49.515625 72.90625 \r\nL 49.515625 64.59375 \r\nL 19.828125 64.59375 \r\nL 19.828125 46.734375 \r\nQ 21.96875 47.46875 24.109375 47.828125 \r\nQ 26.265625 48.1875 28.421875 48.1875 \r\nQ 40.625 48.1875 47.75 41.5 \r\nQ 54.890625 34.8125 54.890625 23.390625 \r\nQ 54.890625 11.625 47.5625 5.09375 \r\nQ 40.234375 -1.421875 26.90625 -1.421875 \r\nQ 22.3125 -1.421875 17.546875 -0.640625 \r\nQ 12.796875 0.140625 7.71875 1.703125 \r\nL 7.71875 11.625 \r\nQ 12.109375 9.234375 16.796875 8.0625 \r\nQ 21.484375 6.890625 26.703125 6.890625 \r\nQ 35.15625 6.890625 40.078125 11.328125 \r\nQ 45.015625 15.765625 45.015625 23.390625 \r\nQ 45.015625 31 40.078125 35.4375 \r\nQ 35.15625 39.890625 26.703125 39.890625 \r\nQ 22.75 39.890625 18.8125 39.015625 \r\nQ 14.890625 38.140625 10.796875 36.28125 \r\nz\r\n\" id=\"DejaVuSans-53\"/>\r\n       <path d=\"M 10.6875 12.40625 \r\nL 21 12.40625 \r\nL 21 0 \r\nL 10.6875 0 \r\nz\r\n\" id=\"DejaVuSans-46\"/>\r\n      </defs>\r\n      <g transform=\"translate(96.973722 369.763188)scale(0.14 -0.14)\">\r\n       <use xlink:href=\"#DejaVuSans-51\"/>\r\n       <use x=\"63.623047\" xlink:href=\"#DejaVuSans-54\"/>\r\n       <use x=\"127.246094\" xlink:href=\"#DejaVuSans-53\"/>\r\n       <use x=\"190.869141\" xlink:href=\"#DejaVuSans-46\"/>\r\n       <use x=\"222.65625\" xlink:href=\"#DejaVuSans-54\"/>\r\n      </g>\r\n     </g>\r\n    </g>\r\n    <g id=\"xtick_2\">\r\n     <g id=\"line2d_2\">\r\n      <g>\r\n       <use style=\"stroke:#000000;stroke-width:0.8;\" x=\"218.467955\" xlink:href=\"#m9448c5500d\" y=\"352.125375\"/>\r\n      </g>\r\n     </g>\r\n     <g id=\"text_2\">\r\n      <!-- 365.8 -->\r\n      <defs>\r\n       <path d=\"M 31.78125 34.625 \r\nQ 24.75 34.625 20.71875 30.859375 \r\nQ 16.703125 27.09375 16.703125 20.515625 \r\nQ 16.703125 13.921875 20.71875 10.15625 \r\nQ 24.75 6.390625 31.78125 6.390625 \r\nQ 38.8125 6.390625 42.859375 10.171875 \r\nQ 46.921875 13.96875 46.921875 20.515625 \r\nQ 46.921875 27.09375 42.890625 30.859375 \r\nQ 38.875 34.625 31.78125 34.625 \r\nz\r\nM 21.921875 38.8125 \r\nQ 15.578125 40.375 12.03125 44.71875 \r\nQ 8.5 49.078125 8.5 55.328125 \r\nQ 8.5 64.0625 14.71875 69.140625 \r\nQ 20.953125 74.21875 31.78125 74.21875 \r\nQ 42.671875 74.21875 48.875 69.140625 \r\nQ 55.078125 64.0625 55.078125 55.328125 \r\nQ 55.078125 49.078125 51.53125 44.71875 \r\nQ 48 40.375 41.703125 38.8125 \r\nQ 48.828125 37.15625 52.796875 32.3125 \r\nQ 56.78125 27.484375 56.78125 20.515625 \r\nQ 56.78125 9.90625 50.3125 4.234375 \r\nQ 43.84375 -1.421875 31.78125 -1.421875 \r\nQ 19.734375 -1.421875 13.25 4.234375 \r\nQ 6.78125 9.90625 6.78125 20.515625 \r\nQ 6.78125 27.484375 10.78125 32.3125 \r\nQ 14.796875 37.15625 21.921875 38.8125 \r\nz\r\nM 18.3125 54.390625 \r\nQ 18.3125 48.734375 21.84375 45.5625 \r\nQ 25.390625 42.390625 31.78125 42.390625 \r\nQ 38.140625 42.390625 41.71875 45.5625 \r\nQ 45.3125 48.734375 45.3125 54.390625 \r\nQ 45.3125 60.0625 41.71875 63.234375 \r\nQ 38.140625 66.40625 31.78125 66.40625 \r\nQ 25.390625 66.40625 21.84375 63.234375 \r\nQ 18.3125 60.0625 18.3125 54.390625 \r\nz\r\n\" id=\"DejaVuSans-56\"/>\r\n      </defs>\r\n      <g transform=\"translate(198.428267 369.763188)scale(0.14 -0.14)\">\r\n       <use xlink:href=\"#DejaVuSans-51\"/>\r\n       <use x=\"63.623047\" xlink:href=\"#DejaVuSans-54\"/>\r\n       <use x=\"127.246094\" xlink:href=\"#DejaVuSans-53\"/>\r\n       <use x=\"190.869141\" xlink:href=\"#DejaVuSans-46\"/>\r\n       <use x=\"222.65625\" xlink:href=\"#DejaVuSans-56\"/>\r\n      </g>\r\n     </g>\r\n    </g>\r\n    <g id=\"xtick_3\">\r\n     <g id=\"line2d_3\">\r\n      <g>\r\n       <use style=\"stroke:#000000;stroke-width:0.8;\" x=\"319.9225\" xlink:href=\"#m9448c5500d\" y=\"352.125375\"/>\r\n      </g>\r\n     </g>\r\n     <g id=\"text_3\">\r\n      <!-- 366.0 -->\r\n      <defs>\r\n       <path d=\"M 31.78125 66.40625 \r\nQ 24.171875 66.40625 20.328125 58.90625 \r\nQ 16.5 51.421875 16.5 36.375 \r\nQ 16.5 21.390625 20.328125 13.890625 \r\nQ 24.171875 6.390625 31.78125 6.390625 \r\nQ 39.453125 6.390625 43.28125 13.890625 \r\nQ 47.125 21.390625 47.125 36.375 \r\nQ 47.125 51.421875 43.28125 58.90625 \r\nQ 39.453125 66.40625 31.78125 66.40625 \r\nz\r\nM 31.78125 74.21875 \r\nQ 44.046875 74.21875 50.515625 64.515625 \r\nQ 56.984375 54.828125 56.984375 36.375 \r\nQ 56.984375 17.96875 50.515625 8.265625 \r\nQ 44.046875 -1.421875 31.78125 -1.421875 \r\nQ 19.53125 -1.421875 13.0625 8.265625 \r\nQ 6.59375 17.96875 6.59375 36.375 \r\nQ 6.59375 54.828125 13.0625 64.515625 \r\nQ 19.53125 74.21875 31.78125 74.21875 \r\nz\r\n\" id=\"DejaVuSans-48\"/>\r\n      </defs>\r\n      <g transform=\"translate(299.882812 369.763188)scale(0.14 -0.14)\">\r\n       <use xlink:href=\"#DejaVuSans-51\"/>\r\n       <use x=\"63.623047\" xlink:href=\"#DejaVuSans-54\"/>\r\n       <use x=\"127.246094\" xlink:href=\"#DejaVuSans-54\"/>\r\n       <use x=\"190.869141\" xlink:href=\"#DejaVuSans-46\"/>\r\n       <use x=\"222.65625\" xlink:href=\"#DejaVuSans-48\"/>\r\n      </g>\r\n     </g>\r\n    </g>\r\n    <g id=\"xtick_4\">\r\n     <g id=\"line2d_4\">\r\n      <g>\r\n       <use style=\"stroke:#000000;stroke-width:0.8;\" x=\"421.377045\" xlink:href=\"#m9448c5500d\" y=\"352.125375\"/>\r\n      </g>\r\n     </g>\r\n     <g id=\"text_4\">\r\n      <!-- 366.2 -->\r\n      <defs>\r\n       <path d=\"M 19.1875 8.296875 \r\nL 53.609375 8.296875 \r\nL 53.609375 0 \r\nL 7.328125 0 \r\nL 7.328125 8.296875 \r\nQ 12.9375 14.109375 22.625 23.890625 \r\nQ 32.328125 33.6875 34.8125 36.53125 \r\nQ 39.546875 41.84375 41.421875 45.53125 \r\nQ 43.3125 49.21875 43.3125 52.78125 \r\nQ 43.3125 58.59375 39.234375 62.25 \r\nQ 35.15625 65.921875 28.609375 65.921875 \r\nQ 23.96875 65.921875 18.8125 64.3125 \r\nQ 13.671875 62.703125 7.8125 59.421875 \r\nL 7.8125 69.390625 \r\nQ 13.765625 71.78125 18.9375 73 \r\nQ 24.125 74.21875 28.421875 74.21875 \r\nQ 39.75 74.21875 46.484375 68.546875 \r\nQ 53.21875 62.890625 53.21875 53.421875 \r\nQ 53.21875 48.921875 51.53125 44.890625 \r\nQ 49.859375 40.875 45.40625 35.40625 \r\nQ 44.1875 33.984375 37.640625 27.21875 \r\nQ 31.109375 20.453125 19.1875 8.296875 \r\nz\r\n\" id=\"DejaVuSans-50\"/>\r\n      </defs>\r\n      <g transform=\"translate(401.337358 369.763188)scale(0.14 -0.14)\">\r\n       <use xlink:href=\"#DejaVuSans-51\"/>\r\n       <use x=\"63.623047\" xlink:href=\"#DejaVuSans-54\"/>\r\n       <use x=\"127.246094\" xlink:href=\"#DejaVuSans-54\"/>\r\n       <use x=\"190.869141\" xlink:href=\"#DejaVuSans-46\"/>\r\n       <use x=\"222.65625\" xlink:href=\"#DejaVuSans-50\"/>\r\n      </g>\r\n     </g>\r\n    </g>\r\n    <g id=\"xtick_5\">\r\n     <g id=\"line2d_5\">\r\n      <g>\r\n       <use style=\"stroke:#000000;stroke-width:0.8;\" x=\"522.831591\" xlink:href=\"#m9448c5500d\" y=\"352.125375\"/>\r\n      </g>\r\n     </g>\r\n     <g id=\"text_5\">\r\n      <!-- 366.4 -->\r\n      <defs>\r\n       <path d=\"M 37.796875 64.3125 \r\nL 12.890625 25.390625 \r\nL 37.796875 25.390625 \r\nz\r\nM 35.203125 72.90625 \r\nL 47.609375 72.90625 \r\nL 47.609375 25.390625 \r\nL 58.015625 25.390625 \r\nL 58.015625 17.1875 \r\nL 47.609375 17.1875 \r\nL 47.609375 0 \r\nL 37.796875 0 \r\nL 37.796875 17.1875 \r\nL 4.890625 17.1875 \r\nL 4.890625 26.703125 \r\nz\r\n\" id=\"DejaVuSans-52\"/>\r\n      </defs>\r\n      <g transform=\"translate(502.791903 369.763188)scale(0.14 -0.14)\">\r\n       <use xlink:href=\"#DejaVuSans-51\"/>\r\n       <use x=\"63.623047\" xlink:href=\"#DejaVuSans-54\"/>\r\n       <use x=\"127.246094\" xlink:href=\"#DejaVuSans-54\"/>\r\n       <use x=\"190.869141\" xlink:href=\"#DejaVuSans-46\"/>\r\n       <use x=\"222.65625\" xlink:href=\"#DejaVuSans-52\"/>\r\n      </g>\r\n     </g>\r\n    </g>\r\n   </g>\r\n   <g id=\"matplotlib.axis_2\">\r\n    <g id=\"ytick_1\">\r\n     <g id=\"line2d_6\">\r\n      <defs>\r\n       <path d=\"M 0 0 \r\nL -3.5 0 \r\n\" id=\"mb55c86e16e\" style=\"stroke:#000000;stroke-width:0.8;\"/>\r\n      </defs>\r\n      <g>\r\n       <use style=\"stroke:#000000;stroke-width:0.8;\" x=\"40.9225\" xlink:href=\"#mb55c86e16e\" y=\"352.125375\"/>\r\n      </g>\r\n     </g>\r\n     <g id=\"text_6\">\r\n      <!-- 0 -->\r\n      <g transform=\"translate(25.015 357.444281)scale(0.14 -0.14)\">\r\n       <use xlink:href=\"#DejaVuSans-48\"/>\r\n      </g>\r\n     </g>\r\n    </g>\r\n    <g id=\"ytick_2\">\r\n     <g id=\"line2d_7\">\r\n      <g>\r\n       <use style=\"stroke:#000000;stroke-width:0.8;\" x=\"40.9225\" xlink:href=\"#mb55c86e16e\" y=\"305.414312\"/>\r\n      </g>\r\n     </g>\r\n     <g id=\"text_7\">\r\n      <!-- 20 -->\r\n      <g transform=\"translate(16.1075 310.733218)scale(0.14 -0.14)\">\r\n       <use xlink:href=\"#DejaVuSans-50\"/>\r\n       <use x=\"63.623047\" xlink:href=\"#DejaVuSans-48\"/>\r\n      </g>\r\n     </g>\r\n    </g>\r\n    <g id=\"ytick_3\">\r\n     <g id=\"line2d_8\">\r\n      <g>\r\n       <use style=\"stroke:#000000;stroke-width:0.8;\" x=\"40.9225\" xlink:href=\"#mb55c86e16e\" y=\"258.703248\"/>\r\n      </g>\r\n     </g>\r\n     <g id=\"text_8\">\r\n      <!-- 40 -->\r\n      <g transform=\"translate(16.1075 264.022155)scale(0.14 -0.14)\">\r\n       <use xlink:href=\"#DejaVuSans-52\"/>\r\n       <use x=\"63.623047\" xlink:href=\"#DejaVuSans-48\"/>\r\n      </g>\r\n     </g>\r\n    </g>\r\n    <g id=\"ytick_4\">\r\n     <g id=\"line2d_9\">\r\n      <g>\r\n       <use style=\"stroke:#000000;stroke-width:0.8;\" x=\"40.9225\" xlink:href=\"#mb55c86e16e\" y=\"211.992185\"/>\r\n      </g>\r\n     </g>\r\n     <g id=\"text_9\">\r\n      <!-- 60 -->\r\n      <g transform=\"translate(16.1075 217.311091)scale(0.14 -0.14)\">\r\n       <use xlink:href=\"#DejaVuSans-54\"/>\r\n       <use x=\"63.623047\" xlink:href=\"#DejaVuSans-48\"/>\r\n      </g>\r\n     </g>\r\n    </g>\r\n    <g id=\"ytick_5\">\r\n     <g id=\"line2d_10\">\r\n      <g>\r\n       <use style=\"stroke:#000000;stroke-width:0.8;\" x=\"40.9225\" xlink:href=\"#mb55c86e16e\" y=\"165.281122\"/>\r\n      </g>\r\n     </g>\r\n     <g id=\"text_10\">\r\n      <!-- 80 -->\r\n      <g transform=\"translate(16.1075 170.600028)scale(0.14 -0.14)\">\r\n       <use xlink:href=\"#DejaVuSans-56\"/>\r\n       <use x=\"63.623047\" xlink:href=\"#DejaVuSans-48\"/>\r\n      </g>\r\n     </g>\r\n    </g>\r\n    <g id=\"ytick_6\">\r\n     <g id=\"line2d_11\">\r\n      <g>\r\n       <use style=\"stroke:#000000;stroke-width:0.8;\" x=\"40.9225\" xlink:href=\"#mb55c86e16e\" y=\"118.570058\"/>\r\n      </g>\r\n     </g>\r\n     <g id=\"text_11\">\r\n      <!-- 100 -->\r\n      <defs>\r\n       <path d=\"M 12.40625 8.296875 \r\nL 28.515625 8.296875 \r\nL 28.515625 63.921875 \r\nL 10.984375 60.40625 \r\nL 10.984375 69.390625 \r\nL 28.421875 72.90625 \r\nL 38.28125 72.90625 \r\nL 38.28125 8.296875 \r\nL 54.390625 8.296875 \r\nL 54.390625 0 \r\nL 12.40625 0 \r\nz\r\n\" id=\"DejaVuSans-49\"/>\r\n      </defs>\r\n      <g transform=\"translate(7.2 123.888964)scale(0.14 -0.14)\">\r\n       <use xlink:href=\"#DejaVuSans-49\"/>\r\n       <use x=\"63.623047\" xlink:href=\"#DejaVuSans-48\"/>\r\n       <use x=\"127.246094\" xlink:href=\"#DejaVuSans-48\"/>\r\n      </g>\r\n     </g>\r\n    </g>\r\n    <g id=\"ytick_7\">\r\n     <g id=\"line2d_12\">\r\n      <g>\r\n       <use style=\"stroke:#000000;stroke-width:0.8;\" x=\"40.9225\" xlink:href=\"#mb55c86e16e\" y=\"71.858995\"/>\r\n      </g>\r\n     </g>\r\n     <g id=\"text_12\">\r\n      <!-- 120 -->\r\n      <g transform=\"translate(7.2 77.177901)scale(0.14 -0.14)\">\r\n       <use xlink:href=\"#DejaVuSans-49\"/>\r\n       <use x=\"63.623047\" xlink:href=\"#DejaVuSans-50\"/>\r\n       <use x=\"127.246094\" xlink:href=\"#DejaVuSans-48\"/>\r\n      </g>\r\n     </g>\r\n    </g>\r\n   </g>\r\n   <g id=\"patch_43\">\r\n    <path d=\"M 40.9225 352.125375 \r\nL 40.9225 25.965375 \r\n\" style=\"fill:none;stroke:#000000;stroke-linecap:square;stroke-linejoin:miter;stroke-width:0.8;\"/>\r\n   </g>\r\n   <g id=\"patch_44\">\r\n    <path d=\"M 598.9225 352.125375 \r\nL 598.9225 25.965375 \r\n\" style=\"fill:none;stroke:#000000;stroke-linecap:square;stroke-linejoin:miter;stroke-width:0.8;\"/>\r\n   </g>\r\n   <g id=\"patch_45\">\r\n    <path d=\"M 40.9225 352.125375 \r\nL 598.9225 352.125375 \r\n\" style=\"fill:none;stroke:#000000;stroke-linecap:square;stroke-linejoin:miter;stroke-width:0.8;\"/>\r\n   </g>\r\n   <g id=\"patch_46\">\r\n    <path d=\"M 40.9225 25.965375 \r\nL 598.9225 25.965375 \r\n\" style=\"fill:none;stroke:#000000;stroke-linecap:square;stroke-linejoin:miter;stroke-width:0.8;\"/>\r\n   </g>\r\n   <g id=\"text_13\">\r\n    <!-- Unique Days of Engagement Data per District -->\r\n    <defs>\r\n     <path d=\"M 8.6875 72.90625 \r\nL 18.609375 72.90625 \r\nL 18.609375 28.609375 \r\nQ 18.609375 16.890625 22.84375 11.734375 \r\nQ 27.09375 6.59375 36.625 6.59375 \r\nQ 46.09375 6.59375 50.34375 11.734375 \r\nQ 54.59375 16.890625 54.59375 28.609375 \r\nL 54.59375 72.90625 \r\nL 64.5 72.90625 \r\nL 64.5 27.390625 \r\nQ 64.5 13.140625 57.4375 5.859375 \r\nQ 50.390625 -1.421875 36.625 -1.421875 \r\nQ 22.796875 -1.421875 15.734375 5.859375 \r\nQ 8.6875 13.140625 8.6875 27.390625 \r\nz\r\n\" id=\"DejaVuSans-85\"/>\r\n     <path d=\"M 54.890625 33.015625 \r\nL 54.890625 0 \r\nL 45.90625 0 \r\nL 45.90625 32.71875 \r\nQ 45.90625 40.484375 42.875 44.328125 \r\nQ 39.84375 48.1875 33.796875 48.1875 \r\nQ 26.515625 48.1875 22.3125 43.546875 \r\nQ 18.109375 38.921875 18.109375 30.90625 \r\nL 18.109375 0 \r\nL 9.078125 0 \r\nL 9.078125 54.6875 \r\nL 18.109375 54.6875 \r\nL 18.109375 46.1875 \r\nQ 21.34375 51.125 25.703125 53.5625 \r\nQ 30.078125 56 35.796875 56 \r\nQ 45.21875 56 50.046875 50.171875 \r\nQ 54.890625 44.34375 54.890625 33.015625 \r\nz\r\n\" id=\"DejaVuSans-110\"/>\r\n     <path d=\"M 9.421875 54.6875 \r\nL 18.40625 54.6875 \r\nL 18.40625 0 \r\nL 9.421875 0 \r\nz\r\nM 9.421875 75.984375 \r\nL 18.40625 75.984375 \r\nL 18.40625 64.59375 \r\nL 9.421875 64.59375 \r\nz\r\n\" id=\"DejaVuSans-105\"/>\r\n     <path d=\"M 14.796875 27.296875 \r\nQ 14.796875 17.390625 18.875 11.75 \r\nQ 22.953125 6.109375 30.078125 6.109375 \r\nQ 37.203125 6.109375 41.296875 11.75 \r\nQ 45.40625 17.390625 45.40625 27.296875 \r\nQ 45.40625 37.203125 41.296875 42.84375 \r\nQ 37.203125 48.484375 30.078125 48.484375 \r\nQ 22.953125 48.484375 18.875 42.84375 \r\nQ 14.796875 37.203125 14.796875 27.296875 \r\nz\r\nM 45.40625 8.203125 \r\nQ 42.578125 3.328125 38.25 0.953125 \r\nQ 33.9375 -1.421875 27.875 -1.421875 \r\nQ 17.96875 -1.421875 11.734375 6.484375 \r\nQ 5.515625 14.40625 5.515625 27.296875 \r\nQ 5.515625 40.1875 11.734375 48.09375 \r\nQ 17.96875 56 27.875 56 \r\nQ 33.9375 56 38.25 53.625 \r\nQ 42.578125 51.265625 45.40625 46.390625 \r\nL 45.40625 54.6875 \r\nL 54.390625 54.6875 \r\nL 54.390625 -20.796875 \r\nL 45.40625 -20.796875 \r\nz\r\n\" id=\"DejaVuSans-113\"/>\r\n     <path d=\"M 8.5 21.578125 \r\nL 8.5 54.6875 \r\nL 17.484375 54.6875 \r\nL 17.484375 21.921875 \r\nQ 17.484375 14.15625 20.5 10.265625 \r\nQ 23.53125 6.390625 29.59375 6.390625 \r\nQ 36.859375 6.390625 41.078125 11.03125 \r\nQ 45.3125 15.671875 45.3125 23.6875 \r\nL 45.3125 54.6875 \r\nL 54.296875 54.6875 \r\nL 54.296875 0 \r\nL 45.3125 0 \r\nL 45.3125 8.40625 \r\nQ 42.046875 3.421875 37.71875 1 \r\nQ 33.40625 -1.421875 27.6875 -1.421875 \r\nQ 18.265625 -1.421875 13.375 4.4375 \r\nQ 8.5 10.296875 8.5 21.578125 \r\nz\r\nM 31.109375 56 \r\nz\r\n\" id=\"DejaVuSans-117\"/>\r\n     <path d=\"M 56.203125 29.59375 \r\nL 56.203125 25.203125 \r\nL 14.890625 25.203125 \r\nQ 15.484375 15.921875 20.484375 11.0625 \r\nQ 25.484375 6.203125 34.421875 6.203125 \r\nQ 39.59375 6.203125 44.453125 7.46875 \r\nQ 49.3125 8.734375 54.109375 11.28125 \r\nL 54.109375 2.78125 \r\nQ 49.265625 0.734375 44.1875 -0.34375 \r\nQ 39.109375 -1.421875 33.890625 -1.421875 \r\nQ 20.796875 -1.421875 13.15625 6.1875 \r\nQ 5.515625 13.8125 5.515625 26.8125 \r\nQ 5.515625 40.234375 12.765625 48.109375 \r\nQ 20.015625 56 32.328125 56 \r\nQ 43.359375 56 49.78125 48.890625 \r\nQ 56.203125 41.796875 56.203125 29.59375 \r\nz\r\nM 47.21875 32.234375 \r\nQ 47.125 39.59375 43.09375 43.984375 \r\nQ 39.0625 48.390625 32.421875 48.390625 \r\nQ 24.90625 48.390625 20.390625 44.140625 \r\nQ 15.875 39.890625 15.1875 32.171875 \r\nz\r\n\" id=\"DejaVuSans-101\"/>\r\n     <path id=\"DejaVuSans-32\"/>\r\n     <path d=\"M 19.671875 64.796875 \r\nL 19.671875 8.109375 \r\nL 31.59375 8.109375 \r\nQ 46.6875 8.109375 53.6875 14.9375 \r\nQ 60.6875 21.78125 60.6875 36.53125 \r\nQ 60.6875 51.171875 53.6875 57.984375 \r\nQ 46.6875 64.796875 31.59375 64.796875 \r\nz\r\nM 9.8125 72.90625 \r\nL 30.078125 72.90625 \r\nQ 51.265625 72.90625 61.171875 64.09375 \r\nQ 71.09375 55.28125 71.09375 36.53125 \r\nQ 71.09375 17.671875 61.125 8.828125 \r\nQ 51.171875 0 30.078125 0 \r\nL 9.8125 0 \r\nz\r\n\" id=\"DejaVuSans-68\"/>\r\n     <path d=\"M 34.28125 27.484375 \r\nQ 23.390625 27.484375 19.1875 25 \r\nQ 14.984375 22.515625 14.984375 16.5 \r\nQ 14.984375 11.71875 18.140625 8.90625 \r\nQ 21.296875 6.109375 26.703125 6.109375 \r\nQ 34.1875 6.109375 38.703125 11.40625 \r\nQ 43.21875 16.703125 43.21875 25.484375 \r\nL 43.21875 27.484375 \r\nz\r\nM 52.203125 31.203125 \r\nL 52.203125 0 \r\nL 43.21875 0 \r\nL 43.21875 8.296875 \r\nQ 40.140625 3.328125 35.546875 0.953125 \r\nQ 30.953125 -1.421875 24.3125 -1.421875 \r\nQ 15.921875 -1.421875 10.953125 3.296875 \r\nQ 6 8.015625 6 15.921875 \r\nQ 6 25.140625 12.171875 29.828125 \r\nQ 18.359375 34.515625 30.609375 34.515625 \r\nL 43.21875 34.515625 \r\nL 43.21875 35.40625 \r\nQ 43.21875 41.609375 39.140625 45 \r\nQ 35.0625 48.390625 27.6875 48.390625 \r\nQ 23 48.390625 18.546875 47.265625 \r\nQ 14.109375 46.140625 10.015625 43.890625 \r\nL 10.015625 52.203125 \r\nQ 14.9375 54.109375 19.578125 55.046875 \r\nQ 24.21875 56 28.609375 56 \r\nQ 40.484375 56 46.34375 49.84375 \r\nQ 52.203125 43.703125 52.203125 31.203125 \r\nz\r\n\" id=\"DejaVuSans-97\"/>\r\n     <path d=\"M 32.171875 -5.078125 \r\nQ 28.375 -14.84375 24.75 -17.8125 \r\nQ 21.140625 -20.796875 15.09375 -20.796875 \r\nL 7.90625 -20.796875 \r\nL 7.90625 -13.28125 \r\nL 13.1875 -13.28125 \r\nQ 16.890625 -13.28125 18.9375 -11.515625 \r\nQ 21 -9.765625 23.484375 -3.21875 \r\nL 25.09375 0.875 \r\nL 2.984375 54.6875 \r\nL 12.5 54.6875 \r\nL 29.59375 11.921875 \r\nL 46.6875 54.6875 \r\nL 56.203125 54.6875 \r\nz\r\n\" id=\"DejaVuSans-121\"/>\r\n     <path d=\"M 44.28125 53.078125 \r\nL 44.28125 44.578125 \r\nQ 40.484375 46.53125 36.375 47.5 \r\nQ 32.28125 48.484375 27.875 48.484375 \r\nQ 21.1875 48.484375 17.84375 46.4375 \r\nQ 14.5 44.390625 14.5 40.28125 \r\nQ 14.5 37.15625 16.890625 35.375 \r\nQ 19.28125 33.59375 26.515625 31.984375 \r\nL 29.59375 31.296875 \r\nQ 39.15625 29.25 43.1875 25.515625 \r\nQ 47.21875 21.78125 47.21875 15.09375 \r\nQ 47.21875 7.46875 41.1875 3.015625 \r\nQ 35.15625 -1.421875 24.609375 -1.421875 \r\nQ 20.21875 -1.421875 15.453125 -0.5625 \r\nQ 10.6875 0.296875 5.421875 2 \r\nL 5.421875 11.28125 \r\nQ 10.40625 8.6875 15.234375 7.390625 \r\nQ 20.0625 6.109375 24.8125 6.109375 \r\nQ 31.15625 6.109375 34.5625 8.28125 \r\nQ 37.984375 10.453125 37.984375 14.40625 \r\nQ 37.984375 18.0625 35.515625 20.015625 \r\nQ 33.0625 21.96875 24.703125 23.78125 \r\nL 21.578125 24.515625 \r\nQ 13.234375 26.265625 9.515625 29.90625 \r\nQ 5.8125 33.546875 5.8125 39.890625 \r\nQ 5.8125 47.609375 11.28125 51.796875 \r\nQ 16.75 56 26.8125 56 \r\nQ 31.78125 56 36.171875 55.265625 \r\nQ 40.578125 54.546875 44.28125 53.078125 \r\nz\r\n\" id=\"DejaVuSans-115\"/>\r\n     <path d=\"M 30.609375 48.390625 \r\nQ 23.390625 48.390625 19.1875 42.75 \r\nQ 14.984375 37.109375 14.984375 27.296875 \r\nQ 14.984375 17.484375 19.15625 11.84375 \r\nQ 23.34375 6.203125 30.609375 6.203125 \r\nQ 37.796875 6.203125 41.984375 11.859375 \r\nQ 46.1875 17.53125 46.1875 27.296875 \r\nQ 46.1875 37.015625 41.984375 42.703125 \r\nQ 37.796875 48.390625 30.609375 48.390625 \r\nz\r\nM 30.609375 56 \r\nQ 42.328125 56 49.015625 48.375 \r\nQ 55.71875 40.765625 55.71875 27.296875 \r\nQ 55.71875 13.875 49.015625 6.21875 \r\nQ 42.328125 -1.421875 30.609375 -1.421875 \r\nQ 18.84375 -1.421875 12.171875 6.21875 \r\nQ 5.515625 13.875 5.515625 27.296875 \r\nQ 5.515625 40.765625 12.171875 48.375 \r\nQ 18.84375 56 30.609375 56 \r\nz\r\n\" id=\"DejaVuSans-111\"/>\r\n     <path d=\"M 37.109375 75.984375 \r\nL 37.109375 68.5 \r\nL 28.515625 68.5 \r\nQ 23.6875 68.5 21.796875 66.546875 \r\nQ 19.921875 64.59375 19.921875 59.515625 \r\nL 19.921875 54.6875 \r\nL 34.71875 54.6875 \r\nL 34.71875 47.703125 \r\nL 19.921875 47.703125 \r\nL 19.921875 0 \r\nL 10.890625 0 \r\nL 10.890625 47.703125 \r\nL 2.296875 47.703125 \r\nL 2.296875 54.6875 \r\nL 10.890625 54.6875 \r\nL 10.890625 58.5 \r\nQ 10.890625 67.625 15.140625 71.796875 \r\nQ 19.390625 75.984375 28.609375 75.984375 \r\nz\r\n\" id=\"DejaVuSans-102\"/>\r\n     <path d=\"M 9.8125 72.90625 \r\nL 55.90625 72.90625 \r\nL 55.90625 64.59375 \r\nL 19.671875 64.59375 \r\nL 19.671875 43.015625 \r\nL 54.390625 43.015625 \r\nL 54.390625 34.71875 \r\nL 19.671875 34.71875 \r\nL 19.671875 8.296875 \r\nL 56.78125 8.296875 \r\nL 56.78125 0 \r\nL 9.8125 0 \r\nz\r\n\" id=\"DejaVuSans-69\"/>\r\n     <path d=\"M 45.40625 27.984375 \r\nQ 45.40625 37.75 41.375 43.109375 \r\nQ 37.359375 48.484375 30.078125 48.484375 \r\nQ 22.859375 48.484375 18.828125 43.109375 \r\nQ 14.796875 37.75 14.796875 27.984375 \r\nQ 14.796875 18.265625 18.828125 12.890625 \r\nQ 22.859375 7.515625 30.078125 7.515625 \r\nQ 37.359375 7.515625 41.375 12.890625 \r\nQ 45.40625 18.265625 45.40625 27.984375 \r\nz\r\nM 54.390625 6.78125 \r\nQ 54.390625 -7.171875 48.1875 -13.984375 \r\nQ 42 -20.796875 29.203125 -20.796875 \r\nQ 24.46875 -20.796875 20.265625 -20.09375 \r\nQ 16.0625 -19.390625 12.109375 -17.921875 \r\nL 12.109375 -9.1875 \r\nQ 16.0625 -11.328125 19.921875 -12.34375 \r\nQ 23.78125 -13.375 27.78125 -13.375 \r\nQ 36.625 -13.375 41.015625 -8.765625 \r\nQ 45.40625 -4.15625 45.40625 5.171875 \r\nL 45.40625 9.625 \r\nQ 42.625 4.78125 38.28125 2.390625 \r\nQ 33.9375 0 27.875 0 \r\nQ 17.828125 0 11.671875 7.65625 \r\nQ 5.515625 15.328125 5.515625 27.984375 \r\nQ 5.515625 40.671875 11.671875 48.328125 \r\nQ 17.828125 56 27.875 56 \r\nQ 33.9375 56 38.28125 53.609375 \r\nQ 42.625 51.21875 45.40625 46.390625 \r\nL 45.40625 54.6875 \r\nL 54.390625 54.6875 \r\nz\r\n\" id=\"DejaVuSans-103\"/>\r\n     <path d=\"M 52 44.1875 \r\nQ 55.375 50.25 60.0625 53.125 \r\nQ 64.75 56 71.09375 56 \r\nQ 79.640625 56 84.28125 50.015625 \r\nQ 88.921875 44.046875 88.921875 33.015625 \r\nL 88.921875 0 \r\nL 79.890625 0 \r\nL 79.890625 32.71875 \r\nQ 79.890625 40.578125 77.09375 44.375 \r\nQ 74.3125 48.1875 68.609375 48.1875 \r\nQ 61.625 48.1875 57.5625 43.546875 \r\nQ 53.515625 38.921875 53.515625 30.90625 \r\nL 53.515625 0 \r\nL 44.484375 0 \r\nL 44.484375 32.71875 \r\nQ 44.484375 40.625 41.703125 44.40625 \r\nQ 38.921875 48.1875 33.109375 48.1875 \r\nQ 26.21875 48.1875 22.15625 43.53125 \r\nQ 18.109375 38.875 18.109375 30.90625 \r\nL 18.109375 0 \r\nL 9.078125 0 \r\nL 9.078125 54.6875 \r\nL 18.109375 54.6875 \r\nL 18.109375 46.1875 \r\nQ 21.1875 51.21875 25.484375 53.609375 \r\nQ 29.78125 56 35.6875 56 \r\nQ 41.65625 56 45.828125 52.96875 \r\nQ 50 49.953125 52 44.1875 \r\nz\r\n\" id=\"DejaVuSans-109\"/>\r\n     <path d=\"M 18.3125 70.21875 \r\nL 18.3125 54.6875 \r\nL 36.8125 54.6875 \r\nL 36.8125 47.703125 \r\nL 18.3125 47.703125 \r\nL 18.3125 18.015625 \r\nQ 18.3125 11.328125 20.140625 9.421875 \r\nQ 21.96875 7.515625 27.59375 7.515625 \r\nL 36.8125 7.515625 \r\nL 36.8125 0 \r\nL 27.59375 0 \r\nQ 17.1875 0 13.234375 3.875 \r\nQ 9.28125 7.765625 9.28125 18.015625 \r\nL 9.28125 47.703125 \r\nL 2.6875 47.703125 \r\nL 2.6875 54.6875 \r\nL 9.28125 54.6875 \r\nL 9.28125 70.21875 \r\nz\r\n\" id=\"DejaVuSans-116\"/>\r\n     <path d=\"M 18.109375 8.203125 \r\nL 18.109375 -20.796875 \r\nL 9.078125 -20.796875 \r\nL 9.078125 54.6875 \r\nL 18.109375 54.6875 \r\nL 18.109375 46.390625 \r\nQ 20.953125 51.265625 25.265625 53.625 \r\nQ 29.59375 56 35.59375 56 \r\nQ 45.5625 56 51.78125 48.09375 \r\nQ 58.015625 40.1875 58.015625 27.296875 \r\nQ 58.015625 14.40625 51.78125 6.484375 \r\nQ 45.5625 -1.421875 35.59375 -1.421875 \r\nQ 29.59375 -1.421875 25.265625 0.953125 \r\nQ 20.953125 3.328125 18.109375 8.203125 \r\nz\r\nM 48.6875 27.296875 \r\nQ 48.6875 37.203125 44.609375 42.84375 \r\nQ 40.53125 48.484375 33.40625 48.484375 \r\nQ 26.265625 48.484375 22.1875 42.84375 \r\nQ 18.109375 37.203125 18.109375 27.296875 \r\nQ 18.109375 17.390625 22.1875 11.75 \r\nQ 26.265625 6.109375 33.40625 6.109375 \r\nQ 40.53125 6.109375 44.609375 11.75 \r\nQ 48.6875 17.390625 48.6875 27.296875 \r\nz\r\n\" id=\"DejaVuSans-112\"/>\r\n     <path d=\"M 41.109375 46.296875 \r\nQ 39.59375 47.171875 37.8125 47.578125 \r\nQ 36.03125 48 33.890625 48 \r\nQ 26.265625 48 22.1875 43.046875 \r\nQ 18.109375 38.09375 18.109375 28.8125 \r\nL 18.109375 0 \r\nL 9.078125 0 \r\nL 9.078125 54.6875 \r\nL 18.109375 54.6875 \r\nL 18.109375 46.1875 \r\nQ 20.953125 51.171875 25.484375 53.578125 \r\nQ 30.03125 56 36.53125 56 \r\nQ 37.453125 56 38.578125 55.875 \r\nQ 39.703125 55.765625 41.0625 55.515625 \r\nz\r\n\" id=\"DejaVuSans-114\"/>\r\n     <path d=\"M 48.78125 52.59375 \r\nL 48.78125 44.1875 \r\nQ 44.96875 46.296875 41.140625 47.34375 \r\nQ 37.3125 48.390625 33.40625 48.390625 \r\nQ 24.65625 48.390625 19.8125 42.84375 \r\nQ 14.984375 37.3125 14.984375 27.296875 \r\nQ 14.984375 17.28125 19.8125 11.734375 \r\nQ 24.65625 6.203125 33.40625 6.203125 \r\nQ 37.3125 6.203125 41.140625 7.25 \r\nQ 44.96875 8.296875 48.78125 10.40625 \r\nL 48.78125 2.09375 \r\nQ 45.015625 0.34375 40.984375 -0.53125 \r\nQ 36.96875 -1.421875 32.421875 -1.421875 \r\nQ 20.0625 -1.421875 12.78125 6.34375 \r\nQ 5.515625 14.109375 5.515625 27.296875 \r\nQ 5.515625 40.671875 12.859375 48.328125 \r\nQ 20.21875 56 33.015625 56 \r\nQ 37.15625 56 41.109375 55.140625 \r\nQ 45.0625 54.296875 48.78125 52.59375 \r\nz\r\n\" id=\"DejaVuSans-99\"/>\r\n    </defs>\r\n    <g transform=\"translate(127.454875 19.965375)scale(0.168 -0.168)\">\r\n     <use xlink:href=\"#DejaVuSans-85\"/>\r\n     <use x=\"73.193359\" xlink:href=\"#DejaVuSans-110\"/>\r\n     <use x=\"136.572266\" xlink:href=\"#DejaVuSans-105\"/>\r\n     <use x=\"164.355469\" xlink:href=\"#DejaVuSans-113\"/>\r\n     <use x=\"227.832031\" xlink:href=\"#DejaVuSans-117\"/>\r\n     <use x=\"291.210938\" xlink:href=\"#DejaVuSans-101\"/>\r\n     <use x=\"352.734375\" xlink:href=\"#DejaVuSans-32\"/>\r\n     <use x=\"384.521484\" xlink:href=\"#DejaVuSans-68\"/>\r\n     <use x=\"461.523438\" xlink:href=\"#DejaVuSans-97\"/>\r\n     <use x=\"522.802734\" xlink:href=\"#DejaVuSans-121\"/>\r\n     <use x=\"581.982422\" xlink:href=\"#DejaVuSans-115\"/>\r\n     <use x=\"634.082031\" xlink:href=\"#DejaVuSans-32\"/>\r\n     <use x=\"665.869141\" xlink:href=\"#DejaVuSans-111\"/>\r\n     <use x=\"727.050781\" xlink:href=\"#DejaVuSans-102\"/>\r\n     <use x=\"762.255859\" xlink:href=\"#DejaVuSans-32\"/>\r\n     <use x=\"794.042969\" xlink:href=\"#DejaVuSans-69\"/>\r\n     <use x=\"857.226562\" xlink:href=\"#DejaVuSans-110\"/>\r\n     <use x=\"920.605469\" xlink:href=\"#DejaVuSans-103\"/>\r\n     <use x=\"984.082031\" xlink:href=\"#DejaVuSans-97\"/>\r\n     <use x=\"1045.361328\" xlink:href=\"#DejaVuSans-103\"/>\r\n     <use x=\"1108.837891\" xlink:href=\"#DejaVuSans-101\"/>\r\n     <use x=\"1170.361328\" xlink:href=\"#DejaVuSans-109\"/>\r\n     <use x=\"1267.773438\" xlink:href=\"#DejaVuSans-101\"/>\r\n     <use x=\"1329.296875\" xlink:href=\"#DejaVuSans-110\"/>\r\n     <use x=\"1392.675781\" xlink:href=\"#DejaVuSans-116\"/>\r\n     <use x=\"1431.884766\" xlink:href=\"#DejaVuSans-32\"/>\r\n     <use x=\"1463.671875\" xlink:href=\"#DejaVuSans-68\"/>\r\n     <use x=\"1540.673828\" xlink:href=\"#DejaVuSans-97\"/>\r\n     <use x=\"1601.953125\" xlink:href=\"#DejaVuSans-116\"/>\r\n     <use x=\"1641.162109\" xlink:href=\"#DejaVuSans-97\"/>\r\n     <use x=\"1702.441406\" xlink:href=\"#DejaVuSans-32\"/>\r\n     <use x=\"1734.228516\" xlink:href=\"#DejaVuSans-112\"/>\r\n     <use x=\"1797.705078\" xlink:href=\"#DejaVuSans-101\"/>\r\n     <use x=\"1859.228516\" xlink:href=\"#DejaVuSans-114\"/>\r\n     <use x=\"1900.341797\" xlink:href=\"#DejaVuSans-32\"/>\r\n     <use x=\"1932.128906\" xlink:href=\"#DejaVuSans-68\"/>\r\n     <use x=\"2009.130859\" xlink:href=\"#DejaVuSans-105\"/>\r\n     <use x=\"2036.914062\" xlink:href=\"#DejaVuSans-115\"/>\r\n     <use x=\"2089.013672\" xlink:href=\"#DejaVuSans-116\"/>\r\n     <use x=\"2128.222656\" xlink:href=\"#DejaVuSans-114\"/>\r\n     <use x=\"2169.335938\" xlink:href=\"#DejaVuSans-105\"/>\r\n     <use x=\"2197.119141\" xlink:href=\"#DejaVuSans-99\"/>\r\n     <use x=\"2252.099609\" xlink:href=\"#DejaVuSans-116\"/>\r\n    </g>\r\n   </g>\r\n  </g>\r\n </g>\r\n <defs>\r\n  <clipPath id=\"pba96727209\">\r\n   <rect height=\"326.16\" width=\"558\" x=\"40.9225\" y=\"25.965375\"/>\r\n  </clipPath>\r\n </defs>\r\n</svg>\r\n",
      "image/png": "[encoded data removed]"
     },
     "metadata": {
      "needs_background": "light"
     }
    }
   ],
   "metadata": {}
  },
  {
   "cell_type": "code",
   "execution_count": 228,
   "source": [
    "districts_info = districts_info[districts_info.district_id.isin(engagement_new.district_id.unique())].reset_index(drop=True)\r\n",
    "products_info = products_info[products_info['LP ID'].isin(engagement_new.lp_id.unique())].reset_index(drop=True)"
   ],
   "outputs": [],
   "metadata": {}
  },
  {
   "cell_type": "markdown",
   "source": [
    "Furthermore, if we look at a few sample districts, we can quickly see that most districts use more than the 369 unique products from products_info. In fact, the concatenated engagement data contains more than 8000 unique products. Since we don't have any additional information the majority of these products, we will remove engagement data for unknown products. This reduces the engagement data roughly by half."
   ],
   "metadata": {}
  },
  {
   "cell_type": "code",
   "execution_count": 229,
   "source": [
    "for district in districts_info.district_id.unique()[:10]:\r\n",
    "    df = pd.read_csv(f'{engagement_Path}/{district}.csv', index_col=None, header=0)\r\n",
    "    print(f'District {district} uses {df.lp_id.nunique()} unique products.')\r\n",
    "    \r\n",
    "print(f'\\nConcatenated engagement data contains {engagement_new.lp_id.nunique()} unique products.')"
   ],
   "outputs": [
    {
     "output_type": "stream",
     "name": "stdout",
     "text": [
      "District 3710 uses 985 unique products.\n",
      "District 7177 uses 4913 unique products.\n",
      "District 9812 uses 5056 unique products.\n",
      "District 6584 uses 3508 unique products.\n",
      "District 1044 uses 5593 unique products.\n",
      "District 7457 uses 4013 unique products.\n",
      "District 1904 uses 2200 unique products.\n",
      "District 5527 uses 4055 unique products.\n",
      "District 7614 uses 4468 unique products.\n",
      "District 2779 uses 3644 unique products.\n",
      "\n",
      "Concatenated engagement data contains 8417 unique products.\n"
     ]
    }
   ],
   "metadata": {}
  },
  {
   "cell_type": "code",
   "execution_count": 230,
   "source": [
    "print(len(engagement_new))\r\n",
    "engagement_new = engagement_new[engagement_new.lp_id.isin(products_info['LP ID'].unique())]\r\n",
    "print(len(engagement_new))"
   ],
   "outputs": [
    {
     "output_type": "stream",
     "name": "stdout",
     "text": [
      "14913939\n",
      "7784803\n"
     ]
    }
   ],
   "metadata": {}
  },
  {
   "cell_type": "markdown",
   "source": [
    "Note that at this stage, we have removed quite a bit of data. This obviously can lead to loss of information. However, on the other hand this makes the data easier to compare and therefore, it can help us in finding insights more quickly. To summarize, we have removed districts without any information on the location and we have removed districts with incomplete data in 2020."
   ],
   "metadata": {}
  },
  {
   "cell_type": "code",
   "execution_count": 231,
   "source": [
    "#Finally, we will convert the time column to the type datetime64[ns] for easier handling.\r\n",
    "engagement_new.time = engagement_new.time.astype('datetime64[ns]')"
   ],
   "outputs": [],
   "metadata": {}
  },
  {
   "cell_type": "markdown",
   "source": [
    "Initial Exploratory Data Analysis (EDA)\r\n",
    "Let's begin with a simple EDA. First of all, I am interested how diverse the available school districts are. As you can see in below plot, the available data does not cover all the states in the U.S. (19/50). The states with the most available school districts are CT (29) and UT (24) while there are also states with only one school district (FL, TN, NY, AZ)."
   ],
   "metadata": {}
  },
  {
   "cell_type": "code",
   "execution_count": 232,
   "source": [
    "us_state_abbrev = {\r\n",
    "    'Alabama': 'AL',\r\n",
    "    'Alaska': 'AK',\r\n",
    "    'American Samoa': 'AS',\r\n",
    "    'Arizona': 'AZ',\r\n",
    "    'Arkansas': 'AR',\r\n",
    "    'California': 'CA',\r\n",
    "    'Colorado': 'CO',\r\n",
    "    'Connecticut': 'CT',\r\n",
    "    'Delaware': 'DE',\r\n",
    "    'District Of Columbia': 'DC',\r\n",
    "    'Florida': 'FL',\r\n",
    "    'Georgia': 'GA',\r\n",
    "    'Guam': 'GU',\r\n",
    "    'Hawaii': 'HI',\r\n",
    "    'Idaho': 'ID',\r\n",
    "    'Illinois': 'IL',\r\n",
    "    'Indiana': 'IN',\r\n",
    "    'Iowa': 'IA',\r\n",
    "    'Kansas': 'KS',\r\n",
    "    'Kentucky': 'KY',\r\n",
    "    'Louisiana': 'LA',\r\n",
    "    'Maine': 'ME',\r\n",
    "    'Maryland': 'MD',\r\n",
    "    'Massachusetts': 'MA',\r\n",
    "    'Michigan': 'MI',\r\n",
    "    'Minnesota': 'MN',\r\n",
    "    'Mississippi': 'MS',\r\n",
    "    'Missouri': 'MO',\r\n",
    "    'Montana': 'MT',\r\n",
    "    'Nebraska': 'NE',\r\n",
    "    'Nevada': 'NV',\r\n",
    "    'New Hampshire': 'NH',\r\n",
    "    'New Jersey': 'NJ',\r\n",
    "    'New Mexico': 'NM',\r\n",
    "    'New York': 'NY',\r\n",
    "    'North Carolina': 'NC',\r\n",
    "    'North Dakota': 'ND',\r\n",
    "    'Northern Mariana Islands':'MP',\r\n",
    "    'Ohio': 'OH',\r\n",
    "    'Oklahoma': 'OK',\r\n",
    "    'Oregon': 'OR',\r\n",
    "    'Pennsylvania': 'PA',\r\n",
    "    'Puerto Rico': 'PR',\r\n",
    "    'Rhode Island': 'RI',\r\n",
    "    'South Carolina': 'SC',\r\n",
    "    'South Dakota': 'SD',\r\n",
    "    'Tennessee': 'TN',\r\n",
    "    'Texas': 'TX',\r\n",
    "    'Utah': 'UT',\r\n",
    "    'Vermont': 'VT',\r\n",
    "    'Virgin Islands': 'VI',\r\n",
    "    'Virginia': 'VA',\r\n",
    "    'Washington': 'WA',\r\n",
    "    'West Virginia': 'WV',\r\n",
    "    'Wisconsin': 'WI',\r\n",
    "    'Wyoming': 'WY'\r\n",
    "}\r\n"
   ],
   "outputs": [],
   "metadata": {}
  },
  {
   "cell_type": "code",
   "execution_count": 239,
   "source": [
    "import numpy as np # linear algebra\r\n",
    "import pandas as pd # data processing, CSV file I/O (e.g. pd.read_csv)\r\n",
    "\r\n",
    "import seaborn as sns\r\n",
    "import matplotlib.pyplot as plt\r\n",
    "plt.rcParams.update({'font.size': 14})\r\n",
    "\r\n",
    "import re\r\n",
    "\r\n",
    "import plotly.express as px\r\n",
    "import plotly.graph_objs as go\r\n",
    "from plotly.offline import init_notebook_mode, iplot\r\n",
    "init_notebook_mode(connected=True)\r\n",
    "from plotly.subplots import make_subplots\r\n",
    "\r\n",
    "import warnings\r\n",
    "warnings.filterwarnings(\"ignore\")\r\n"
   ],
   "outputs": [
    {
     "output_type": "display_data",
     "data": {
      "text/html": [
       "        <script type=\"text/javascript\">\n",
       "        window.PlotlyConfig = {MathJaxConfig: 'local'};\n",
       "        if (window.MathJax) {MathJax.Hub.Config({SVG: {font: \"STIX-Web\"}});}\n",
       "        if (typeof require !== 'undefined') {\n",
       "        require.undef(\"plotly\");\n",
       "        requirejs.config({\n",
       "            paths: {\n",
       "                'plotly': ['https://cdn.plot.ly/plotly-latest.min']\n",
       "            }\n",
       "        });\n",
       "        require(['plotly'], function(Plotly) {\n",
       "            window._Plotly = Plotly;\n",
       "        });\n",
       "        }\n",
       "        </script>\n",
       "        "
      ]
     },
     "metadata": {}
    }
   ],
   "metadata": {}
  },
  {
   "cell_type": "code",
   "execution_count": 234,
   "source": [
    "import cufflinks as cf\r\n",
    "cf.go_offline()"
   ],
   "outputs": [
    {
     "output_type": "display_data",
     "data": {
      "text/html": [
       "        <script type=\"text/javascript\">\n",
       "        window.PlotlyConfig = {MathJaxConfig: 'local'};\n",
       "        if (window.MathJax) {MathJax.Hub.Config({SVG: {font: \"STIX-Web\"}});}\n",
       "        if (typeof require !== 'undefined') {\n",
       "        require.undef(\"plotly\");\n",
       "        requirejs.config({\n",
       "            paths: {\n",
       "                'plotly': ['https://cdn.plot.ly/plotly-latest.min']\n",
       "            }\n",
       "        });\n",
       "        require(['plotly'], function(Plotly) {\n",
       "            window._Plotly = Plotly;\n",
       "        });\n",
       "        }\n",
       "        </script>\n",
       "        "
      ]
     },
     "metadata": {}
    }
   ],
   "metadata": {}
  },
  {
   "cell_type": "code",
   "execution_count": 248,
   "source": [
    "districts_info['state_abbrev'] = districts_info['state'].replace(us_state_abbrev)\r\n",
    "districts_info_by_state = districts_info['state_abbrev'].value_counts().to_frame().reset_index(drop=False)\r\n",
    "districts_info_by_state.columns = ['state_abbrev', 'num_districts']\r\n",
    "\r\n",
    "fig = go.Figure()\r\n",
    "layout = dict(\r\n",
    "    title_text = \"Number of Available School Districts per State\",\r\n",
    "    geo_scope='usa',\r\n",
    ")\r\n",
    "\r\n",
    "fig.add_trace(\r\n",
    "    go.Choropleth(\r\n",
    "        locations=districts_info_by_state.state_abbrev,\r\n",
    "        zmax=1,\r\n",
    "        z = districts_info_by_state.num_districts,\r\n",
    "        locationmode = 'USA-states', # set of locations match entries in `locations`\r\n",
    "        marker_line_color='white',\r\n",
    "        geo='geo',\r\n",
    "        colorscale=px.colors.sequential.Teal, \r\n",
    "    )\r\n",
    ")\r\n",
    "            \r\n",
    "fig.update_layout(layout)   \r\n",
    "fig.show()"
   ],
   "outputs": [
    {
     "output_type": "display_data",
     "data": {
      "text/html": [
       "<div>                            <div id=\"e6363ba6-aed5-4d9f-91a0-238798c12c70\" class=\"plotly-graph-div\" style=\"height:525px; width:100%;\"></div>            <script type=\"text/javascript\">                require([\"plotly\"], function(Plotly) {                    window.PLOTLYENV=window.PLOTLYENV || {};                                    if (document.getElementById(\"e6363ba6-aed5-4d9f-91a0-238798c12c70\")) {                    Plotly.newPlot(                        \"e6363ba6-aed5-4d9f-91a0-238798c12c70\",                        [{\"colorscale\": [[0.0, \"rgb(209, 238, 234)\"], [0.16666666666666666, \"rgb(168, 219, 217)\"], [0.3333333333333333, \"rgb(133, 196, 201)\"], [0.5, \"rgb(104, 171, 184)\"], [0.6666666666666666, \"rgb(79, 144, 166)\"], [0.8333333333333334, \"rgb(59, 115, 143)\"], [1.0, \"rgb(42, 86, 116)\"]], \"geo\": \"geo\", \"locationmode\": \"USA-states\", \"locations\": [\"CT\", \"UT\", \"MA\", \"IL\", \"CA\", \"OH\", \"MO\", \"IN\", \"WA\", \"VA\", \"NC\", \"MI\", \"NH\", \"DC\", \"NJ\", \"NY\", \"FL\", \"TN\", \"AZ\"], \"marker\": {\"line\": {\"color\": \"white\"}}, \"type\": \"choropleth\", \"z\": [29, 24, 17, 13, 9, 8, 6, 5, 4, 3, 3, 2, 2, 2, 2, 1, 1, 1, 1], \"zmax\": 1}],                        {\"geo\": {\"scope\": \"usa\"}, \"template\": {\"data\": {\"bar\": [{\"error_x\": {\"color\": \"#2a3f5f\"}, \"error_y\": {\"color\": \"#2a3f5f\"}, \"marker\": {\"line\": {\"color\": \"#E5ECF6\", \"width\": 0.5}}, \"type\": \"bar\"}], \"barpolar\": [{\"marker\": {\"line\": {\"color\": \"#E5ECF6\", \"width\": 0.5}}, \"type\": \"barpolar\"}], \"carpet\": [{\"aaxis\": {\"endlinecolor\": \"#2a3f5f\", \"gridcolor\": \"white\", \"linecolor\": \"white\", \"minorgridcolor\": \"white\", \"startlinecolor\": \"#2a3f5f\"}, \"baxis\": {\"endlinecolor\": \"#2a3f5f\", \"gridcolor\": \"white\", \"linecolor\": \"white\", \"minorgridcolor\": \"white\", \"startlinecolor\": \"#2a3f5f\"}, \"type\": \"carpet\"}], \"choropleth\": [{\"colorbar\": {\"outlinewidth\": 0, \"ticks\": \"\"}, \"type\": \"choropleth\"}], \"contour\": [{\"colorbar\": {\"outlinewidth\": 0, \"ticks\": \"\"}, \"colorscale\": [[0.0, \"#0d0887\"], [0.1111111111111111, \"#46039f\"], [0.2222222222222222, \"#7201a8\"], [0.3333333333333333, \"#9c179e\"], [0.4444444444444444, \"#bd3786\"], [0.5555555555555556, \"#d8576b\"], [0.6666666666666666, \"#ed7953\"], [0.7777777777777778, \"#fb9f3a\"], [0.8888888888888888, \"#fdca26\"], [1.0, \"#f0f921\"]], \"type\": \"contour\"}], \"contourcarpet\": [{\"colorbar\": {\"outlinewidth\": 0, \"ticks\": \"\"}, \"type\": \"contourcarpet\"}], \"heatmap\": [{\"colorbar\": {\"outlinewidth\": 0, \"ticks\": \"\"}, \"colorscale\": [[0.0, \"#0d0887\"], [0.1111111111111111, \"#46039f\"], [0.2222222222222222, \"#7201a8\"], [0.3333333333333333, \"#9c179e\"], [0.4444444444444444, \"#bd3786\"], [0.5555555555555556, \"#d8576b\"], [0.6666666666666666, \"#ed7953\"], [0.7777777777777778, \"#fb9f3a\"], [0.8888888888888888, \"#fdca26\"], [1.0, \"#f0f921\"]], \"type\": \"heatmap\"}], \"heatmapgl\": [{\"colorbar\": {\"outlinewidth\": 0, \"ticks\": \"\"}, \"colorscale\": [[0.0, \"#0d0887\"], [0.1111111111111111, \"#46039f\"], [0.2222222222222222, \"#7201a8\"], [0.3333333333333333, \"#9c179e\"], [0.4444444444444444, \"#bd3786\"], [0.5555555555555556, \"#d8576b\"], [0.6666666666666666, \"#ed7953\"], [0.7777777777777778, \"#fb9f3a\"], [0.8888888888888888, \"#fdca26\"], [1.0, \"#f0f921\"]], \"type\": \"heatmapgl\"}], \"histogram\": [{\"marker\": {\"colorbar\": {\"outlinewidth\": 0, \"ticks\": \"\"}}, \"type\": \"histogram\"}], \"histogram2d\": [{\"colorbar\": {\"outlinewidth\": 0, \"ticks\": \"\"}, \"colorscale\": [[0.0, \"#0d0887\"], [0.1111111111111111, \"#46039f\"], [0.2222222222222222, \"#7201a8\"], [0.3333333333333333, \"#9c179e\"], [0.4444444444444444, \"#bd3786\"], [0.5555555555555556, \"#d8576b\"], [0.6666666666666666, \"#ed7953\"], [0.7777777777777778, \"#fb9f3a\"], [0.8888888888888888, \"#fdca26\"], [1.0, \"#f0f921\"]], \"type\": \"histogram2d\"}], \"histogram2dcontour\": [{\"colorbar\": {\"outlinewidth\": 0, \"ticks\": \"\"}, \"colorscale\": [[0.0, \"#0d0887\"], [0.1111111111111111, \"#46039f\"], [0.2222222222222222, \"#7201a8\"], [0.3333333333333333, \"#9c179e\"], [0.4444444444444444, \"#bd3786\"], [0.5555555555555556, \"#d8576b\"], [0.6666666666666666, \"#ed7953\"], [0.7777777777777778, \"#fb9f3a\"], [0.8888888888888888, \"#fdca26\"], [1.0, \"#f0f921\"]], \"type\": \"histogram2dcontour\"}], \"mesh3d\": [{\"colorbar\": {\"outlinewidth\": 0, \"ticks\": \"\"}, \"type\": \"mesh3d\"}], \"parcoords\": [{\"line\": {\"colorbar\": {\"outlinewidth\": 0, \"ticks\": \"\"}}, \"type\": \"parcoords\"}], \"pie\": [{\"automargin\": true, \"type\": \"pie\"}], \"scatter\": [{\"marker\": {\"colorbar\": {\"outlinewidth\": 0, \"ticks\": \"\"}}, \"type\": \"scatter\"}], \"scatter3d\": [{\"line\": {\"colorbar\": {\"outlinewidth\": 0, \"ticks\": \"\"}}, \"marker\": {\"colorbar\": {\"outlinewidth\": 0, \"ticks\": \"\"}}, \"type\": \"scatter3d\"}], \"scattercarpet\": [{\"marker\": {\"colorbar\": {\"outlinewidth\": 0, \"ticks\": \"\"}}, \"type\": \"scattercarpet\"}], \"scattergeo\": [{\"marker\": {\"colorbar\": {\"outlinewidth\": 0, \"ticks\": \"\"}}, \"type\": \"scattergeo\"}], \"scattergl\": [{\"marker\": {\"colorbar\": {\"outlinewidth\": 0, \"ticks\": \"\"}}, \"type\": \"scattergl\"}], \"scattermapbox\": [{\"marker\": {\"colorbar\": {\"outlinewidth\": 0, \"ticks\": \"\"}}, \"type\": \"scattermapbox\"}], \"scatterpolar\": [{\"marker\": {\"colorbar\": {\"outlinewidth\": 0, \"ticks\": \"\"}}, \"type\": \"scatterpolar\"}], \"scatterpolargl\": [{\"marker\": {\"colorbar\": {\"outlinewidth\": 0, \"ticks\": \"\"}}, \"type\": \"scatterpolargl\"}], \"scatterternary\": [{\"marker\": {\"colorbar\": {\"outlinewidth\": 0, \"ticks\": \"\"}}, \"type\": \"scatterternary\"}], \"surface\": [{\"colorbar\": {\"outlinewidth\": 0, \"ticks\": \"\"}, \"colorscale\": [[0.0, \"#0d0887\"], [0.1111111111111111, \"#46039f\"], [0.2222222222222222, \"#7201a8\"], [0.3333333333333333, \"#9c179e\"], [0.4444444444444444, \"#bd3786\"], [0.5555555555555556, \"#d8576b\"], [0.6666666666666666, \"#ed7953\"], [0.7777777777777778, \"#fb9f3a\"], [0.8888888888888888, \"#fdca26\"], [1.0, \"#f0f921\"]], \"type\": \"surface\"}], \"table\": [{\"cells\": {\"fill\": {\"color\": \"#EBF0F8\"}, \"line\": {\"color\": \"white\"}}, \"header\": {\"fill\": {\"color\": \"#C8D4E3\"}, \"line\": {\"color\": \"white\"}}, \"type\": \"table\"}]}, \"layout\": {\"annotationdefaults\": {\"arrowcolor\": \"#2a3f5f\", \"arrowhead\": 0, \"arrowwidth\": 1}, \"autotypenumbers\": \"strict\", \"coloraxis\": {\"colorbar\": {\"outlinewidth\": 0, \"ticks\": \"\"}}, \"colorscale\": {\"diverging\": [[0, \"#8e0152\"], [0.1, \"#c51b7d\"], [0.2, \"#de77ae\"], [0.3, \"#f1b6da\"], [0.4, \"#fde0ef\"], [0.5, \"#f7f7f7\"], [0.6, \"#e6f5d0\"], [0.7, \"#b8e186\"], [0.8, \"#7fbc41\"], [0.9, \"#4d9221\"], [1, \"#276419\"]], \"sequential\": [[0.0, \"#0d0887\"], [0.1111111111111111, \"#46039f\"], [0.2222222222222222, \"#7201a8\"], [0.3333333333333333, \"#9c179e\"], [0.4444444444444444, \"#bd3786\"], [0.5555555555555556, \"#d8576b\"], [0.6666666666666666, \"#ed7953\"], [0.7777777777777778, \"#fb9f3a\"], [0.8888888888888888, \"#fdca26\"], [1.0, \"#f0f921\"]], \"sequentialminus\": [[0.0, \"#0d0887\"], [0.1111111111111111, \"#46039f\"], [0.2222222222222222, \"#7201a8\"], [0.3333333333333333, \"#9c179e\"], [0.4444444444444444, \"#bd3786\"], [0.5555555555555556, \"#d8576b\"], [0.6666666666666666, \"#ed7953\"], [0.7777777777777778, \"#fb9f3a\"], [0.8888888888888888, \"#fdca26\"], [1.0, \"#f0f921\"]]}, \"colorway\": [\"#636efa\", \"#EF553B\", \"#00cc96\", \"#ab63fa\", \"#FFA15A\", \"#19d3f3\", \"#FF6692\", \"#B6E880\", \"#FF97FF\", \"#FECB52\"], \"font\": {\"color\": \"#2a3f5f\"}, \"geo\": {\"bgcolor\": \"white\", \"lakecolor\": \"white\", \"landcolor\": \"#E5ECF6\", \"showlakes\": true, \"showland\": true, \"subunitcolor\": \"white\"}, \"hoverlabel\": {\"align\": \"left\"}, \"hovermode\": \"closest\", \"mapbox\": {\"style\": \"light\"}, \"paper_bgcolor\": \"white\", \"plot_bgcolor\": \"#E5ECF6\", \"polar\": {\"angularaxis\": {\"gridcolor\": \"white\", \"linecolor\": \"white\", \"ticks\": \"\"}, \"bgcolor\": \"#E5ECF6\", \"radialaxis\": {\"gridcolor\": \"white\", \"linecolor\": \"white\", \"ticks\": \"\"}}, \"scene\": {\"xaxis\": {\"backgroundcolor\": \"#E5ECF6\", \"gridcolor\": \"white\", \"gridwidth\": 2, \"linecolor\": \"white\", \"showbackground\": true, \"ticks\": \"\", \"zerolinecolor\": \"white\"}, \"yaxis\": {\"backgroundcolor\": \"#E5ECF6\", \"gridcolor\": \"white\", \"gridwidth\": 2, \"linecolor\": \"white\", \"showbackground\": true, \"ticks\": \"\", \"zerolinecolor\": \"white\"}, \"zaxis\": {\"backgroundcolor\": \"#E5ECF6\", \"gridcolor\": \"white\", \"gridwidth\": 2, \"linecolor\": \"white\", \"showbackground\": true, \"ticks\": \"\", \"zerolinecolor\": \"white\"}}, \"shapedefaults\": {\"line\": {\"color\": \"#2a3f5f\"}}, \"ternary\": {\"aaxis\": {\"gridcolor\": \"white\", \"linecolor\": \"white\", \"ticks\": \"\"}, \"baxis\": {\"gridcolor\": \"white\", \"linecolor\": \"white\", \"ticks\": \"\"}, \"bgcolor\": \"#E5ECF6\", \"caxis\": {\"gridcolor\": \"white\", \"linecolor\": \"white\", \"ticks\": \"\"}}, \"title\": {\"x\": 0.05}, \"xaxis\": {\"automargin\": true, \"gridcolor\": \"white\", \"linecolor\": \"white\", \"ticks\": \"\", \"title\": {\"standoff\": 15}, \"zerolinecolor\": \"white\", \"zerolinewidth\": 2}, \"yaxis\": {\"automargin\": true, \"gridcolor\": \"white\", \"linecolor\": \"white\", \"ticks\": \"\", \"title\": {\"standoff\": 15}, \"zerolinecolor\": \"white\", \"zerolinewidth\": 2}}}, \"title\": {\"text\": \"Number of Available School Districts per State\"}},                        {\"responsive\": true}                    ).then(function(){\n",
       "                            \n",
       "var gd = document.getElementById('e6363ba6-aed5-4d9f-91a0-238798c12c70');\n",
       "var x = new MutationObserver(function (mutations, observer) {{\n",
       "        var display = window.getComputedStyle(gd).display;\n",
       "        if (!display || display === 'none') {{\n",
       "            console.log([gd, 'removed!']);\n",
       "            Plotly.purge(gd);\n",
       "            observer.disconnect();\n",
       "        }}\n",
       "}});\n",
       "\n",
       "// Listen for the removal of the full notebook cells\n",
       "var notebookContainer = gd.closest('#notebook-container');\n",
       "if (notebookContainer) {{\n",
       "    x.observe(notebookContainer, {childList: true});\n",
       "}}\n",
       "\n",
       "// Listen for the clearing of the current output cell\n",
       "var outputEl = gd.closest('.output');\n",
       "if (outputEl) {{\n",
       "    x.observe(outputEl, {childList: true});\n",
       "}}\n",
       "\n",
       "                        })                };                });            </script>        </div>"
      ],
      "application/vnd.plotly.v1+json": {
       "config": {
        "plotlyServerURL": "https://plot.ly"
       },
       "data": [
        {
         "colorscale": [
          [
           0,
           "rgb(209, 238, 234)"
          ],
          [
           0.16666666666666666,
           "rgb(168, 219, 217)"
          ],
          [
           0.3333333333333333,
           "rgb(133, 196, 201)"
          ],
          [
           0.5,
           "rgb(104, 171, 184)"
          ],
          [
           0.6666666666666666,
           "rgb(79, 144, 166)"
          ],
          [
           0.8333333333333334,
           "rgb(59, 115, 143)"
          ],
          [
           1,
           "rgb(42, 86, 116)"
          ]
         ],
         "geo": "geo",
         "locationmode": "USA-states",
         "locations": [
          "CT",
          "UT",
          "MA",
          "IL",
          "CA",
          "OH",
          "MO",
          "IN",
          "WA",
          "VA",
          "NC",
          "MI",
          "NH",
          "DC",
          "NJ",
          "NY",
          "FL",
          "TN",
          "AZ"
         ],
         "marker": {
          "line": {
           "color": "white"
          }
         },
         "type": "choropleth",
         "z": [
          29,
          24,
          17,
          13,
          9,
          8,
          6,
          5,
          4,
          3,
          3,
          2,
          2,
          2,
          2,
          1,
          1,
          1,
          1
         ],
         "zmax": 1
        }
       ],
       "layout": {
        "geo": {
         "scope": "usa"
        },
        "template": {
         "data": {
          "bar": [
           {
            "error_x": {
             "color": "#2a3f5f"
            },
            "error_y": {
             "color": "#2a3f5f"
            },
            "marker": {
             "line": {
              "color": "#E5ECF6",
              "width": 0.5
             }
            },
            "type": "bar"
           }
          ],
          "barpolar": [
           {
            "marker": {
             "line": {
              "color": "#E5ECF6",
              "width": 0.5
             }
            },
            "type": "barpolar"
           }
          ],
          "carpet": [
           {
            "aaxis": {
             "endlinecolor": "#2a3f5f",
             "gridcolor": "white",
             "linecolor": "white",
             "minorgridcolor": "white",
             "startlinecolor": "#2a3f5f"
            },
            "baxis": {
             "endlinecolor": "#2a3f5f",
             "gridcolor": "white",
             "linecolor": "white",
             "minorgridcolor": "white",
             "startlinecolor": "#2a3f5f"
            },
            "type": "carpet"
           }
          ],
          "choropleth": [
           {
            "colorbar": {
             "outlinewidth": 0,
             "ticks": ""
            },
            "type": "choropleth"
           }
          ],
          "contour": [
           {
            "colorbar": {
             "outlinewidth": 0,
             "ticks": ""
            },
            "colorscale": [
             [
              0,
              "#0d0887"
             ],
             [
              0.1111111111111111,
              "#46039f"
             ],
             [
              0.2222222222222222,
              "#7201a8"
             ],
             [
              0.3333333333333333,
              "#9c179e"
             ],
             [
              0.4444444444444444,
              "#bd3786"
             ],
             [
              0.5555555555555556,
              "#d8576b"
             ],
             [
              0.6666666666666666,
              "#ed7953"
             ],
             [
              0.7777777777777778,
              "#fb9f3a"
             ],
             [
              0.8888888888888888,
              "#fdca26"
             ],
             [
              1,
              "#f0f921"
             ]
            ],
            "type": "contour"
           }
          ],
          "contourcarpet": [
           {
            "colorbar": {
             "outlinewidth": 0,
             "ticks": ""
            },
            "type": "contourcarpet"
           }
          ],
          "heatmap": [
           {
            "colorbar": {
             "outlinewidth": 0,
             "ticks": ""
            },
            "colorscale": [
             [
              0,
              "#0d0887"
             ],
             [
              0.1111111111111111,
              "#46039f"
             ],
             [
              0.2222222222222222,
              "#7201a8"
             ],
             [
              0.3333333333333333,
              "#9c179e"
             ],
             [
              0.4444444444444444,
              "#bd3786"
             ],
             [
              0.5555555555555556,
              "#d8576b"
             ],
             [
              0.6666666666666666,
              "#ed7953"
             ],
             [
              0.7777777777777778,
              "#fb9f3a"
             ],
             [
              0.8888888888888888,
              "#fdca26"
             ],
             [
              1,
              "#f0f921"
             ]
            ],
            "type": "heatmap"
           }
          ],
          "heatmapgl": [
           {
            "colorbar": {
             "outlinewidth": 0,
             "ticks": ""
            },
            "colorscale": [
             [
              0,
              "#0d0887"
             ],
             [
              0.1111111111111111,
              "#46039f"
             ],
             [
              0.2222222222222222,
              "#7201a8"
             ],
             [
              0.3333333333333333,
              "#9c179e"
             ],
             [
              0.4444444444444444,
              "#bd3786"
             ],
             [
              0.5555555555555556,
              "#d8576b"
             ],
             [
              0.6666666666666666,
              "#ed7953"
             ],
             [
              0.7777777777777778,
              "#fb9f3a"
             ],
             [
              0.8888888888888888,
              "#fdca26"
             ],
             [
              1,
              "#f0f921"
             ]
            ],
            "type": "heatmapgl"
           }
          ],
          "histogram": [
           {
            "marker": {
             "colorbar": {
              "outlinewidth": 0,
              "ticks": ""
             }
            },
            "type": "histogram"
           }
          ],
          "histogram2d": [
           {
            "colorbar": {
             "outlinewidth": 0,
             "ticks": ""
            },
            "colorscale": [
             [
              0,
              "#0d0887"
             ],
             [
              0.1111111111111111,
              "#46039f"
             ],
             [
              0.2222222222222222,
              "#7201a8"
             ],
             [
              0.3333333333333333,
              "#9c179e"
             ],
             [
              0.4444444444444444,
              "#bd3786"
             ],
             [
              0.5555555555555556,
              "#d8576b"
             ],
             [
              0.6666666666666666,
              "#ed7953"
             ],
             [
              0.7777777777777778,
              "#fb9f3a"
             ],
             [
              0.8888888888888888,
              "#fdca26"
             ],
             [
              1,
              "#f0f921"
             ]
            ],
            "type": "histogram2d"
           }
          ],
          "histogram2dcontour": [
           {
            "colorbar": {
             "outlinewidth": 0,
             "ticks": ""
            },
            "colorscale": [
             [
              0,
              "#0d0887"
             ],
             [
              0.1111111111111111,
              "#46039f"
             ],
             [
              0.2222222222222222,
              "#7201a8"
             ],
             [
              0.3333333333333333,
              "#9c179e"
             ],
             [
              0.4444444444444444,
              "#bd3786"
             ],
             [
              0.5555555555555556,
              "#d8576b"
             ],
             [
              0.6666666666666666,
              "#ed7953"
             ],
             [
              0.7777777777777778,
              "#fb9f3a"
             ],
             [
              0.8888888888888888,
              "#fdca26"
             ],
             [
              1,
              "#f0f921"
             ]
            ],
            "type": "histogram2dcontour"
           }
          ],
          "mesh3d": [
           {
            "colorbar": {
             "outlinewidth": 0,
             "ticks": ""
            },
            "type": "mesh3d"
           }
          ],
          "parcoords": [
           {
            "line": {
             "colorbar": {
              "outlinewidth": 0,
              "ticks": ""
             }
            },
            "type": "parcoords"
           }
          ],
          "pie": [
           {
            "automargin": true,
            "type": "pie"
           }
          ],
          "scatter": [
           {
            "marker": {
             "colorbar": {
              "outlinewidth": 0,
              "ticks": ""
             }
            },
            "type": "scatter"
           }
          ],
          "scatter3d": [
           {
            "line": {
             "colorbar": {
              "outlinewidth": 0,
              "ticks": ""
             }
            },
            "marker": {
             "colorbar": {
              "outlinewidth": 0,
              "ticks": ""
             }
            },
            "type": "scatter3d"
           }
          ],
          "scattercarpet": [
           {
            "marker": {
             "colorbar": {
              "outlinewidth": 0,
              "ticks": ""
             }
            },
            "type": "scattercarpet"
           }
          ],
          "scattergeo": [
           {
            "marker": {
             "colorbar": {
              "outlinewidth": 0,
              "ticks": ""
             }
            },
            "type": "scattergeo"
           }
          ],
          "scattergl": [
           {
            "marker": {
             "colorbar": {
              "outlinewidth": 0,
              "ticks": ""
             }
            },
            "type": "scattergl"
           }
          ],
          "scattermapbox": [
           {
            "marker": {
             "colorbar": {
              "outlinewidth": 0,
              "ticks": ""
             }
            },
            "type": "scattermapbox"
           }
          ],
          "scatterpolar": [
           {
            "marker": {
             "colorbar": {
              "outlinewidth": 0,
              "ticks": ""
             }
            },
            "type": "scatterpolar"
           }
          ],
          "scatterpolargl": [
           {
            "marker": {
             "colorbar": {
              "outlinewidth": 0,
              "ticks": ""
             }
            },
            "type": "scatterpolargl"
           }
          ],
          "scatterternary": [
           {
            "marker": {
             "colorbar": {
              "outlinewidth": 0,
              "ticks": ""
             }
            },
            "type": "scatterternary"
           }
          ],
          "surface": [
           {
            "colorbar": {
             "outlinewidth": 0,
             "ticks": ""
            },
            "colorscale": [
             [
              0,
              "#0d0887"
             ],
             [
              0.1111111111111111,
              "#46039f"
             ],
             [
              0.2222222222222222,
              "#7201a8"
             ],
             [
              0.3333333333333333,
              "#9c179e"
             ],
             [
              0.4444444444444444,
              "#bd3786"
             ],
             [
              0.5555555555555556,
              "#d8576b"
             ],
             [
              0.6666666666666666,
              "#ed7953"
             ],
             [
              0.7777777777777778,
              "#fb9f3a"
             ],
             [
              0.8888888888888888,
              "#fdca26"
             ],
             [
              1,
              "#f0f921"
             ]
            ],
            "type": "surface"
           }
          ],
          "table": [
           {
            "cells": {
             "fill": {
              "color": "#EBF0F8"
             },
             "line": {
              "color": "white"
             }
            },
            "header": {
             "fill": {
              "color": "#C8D4E3"
             },
             "line": {
              "color": "white"
             }
            },
            "type": "table"
           }
          ]
         },
         "layout": {
          "annotationdefaults": {
           "arrowcolor": "#2a3f5f",
           "arrowhead": 0,
           "arrowwidth": 1
          },
          "autotypenumbers": "strict",
          "coloraxis": {
           "colorbar": {
            "outlinewidth": 0,
            "ticks": ""
           }
          },
          "colorscale": {
           "diverging": [
            [
             0,
             "#8e0152"
            ],
            [
             0.1,
             "#c51b7d"
            ],
            [
             0.2,
             "#de77ae"
            ],
            [
             0.3,
             "#f1b6da"
            ],
            [
             0.4,
             "#fde0ef"
            ],
            [
             0.5,
             "#f7f7f7"
            ],
            [
             0.6,
             "#e6f5d0"
            ],
            [
             0.7,
             "#b8e186"
            ],
            [
             0.8,
             "#7fbc41"
            ],
            [
             0.9,
             "#4d9221"
            ],
            [
             1,
             "#276419"
            ]
           ],
           "sequential": [
            [
             0,
             "#0d0887"
            ],
            [
             0.1111111111111111,
             "#46039f"
            ],
            [
             0.2222222222222222,
             "#7201a8"
            ],
            [
             0.3333333333333333,
             "#9c179e"
            ],
            [
             0.4444444444444444,
             "#bd3786"
            ],
            [
             0.5555555555555556,
             "#d8576b"
            ],
            [
             0.6666666666666666,
             "#ed7953"
            ],
            [
             0.7777777777777778,
             "#fb9f3a"
            ],
            [
             0.8888888888888888,
             "#fdca26"
            ],
            [
             1,
             "#f0f921"
            ]
           ],
           "sequentialminus": [
            [
             0,
             "#0d0887"
            ],
            [
             0.1111111111111111,
             "#46039f"
            ],
            [
             0.2222222222222222,
             "#7201a8"
            ],
            [
             0.3333333333333333,
             "#9c179e"
            ],
            [
             0.4444444444444444,
             "#bd3786"
            ],
            [
             0.5555555555555556,
             "#d8576b"
            ],
            [
             0.6666666666666666,
             "#ed7953"
            ],
            [
             0.7777777777777778,
             "#fb9f3a"
            ],
            [
             0.8888888888888888,
             "#fdca26"
            ],
            [
             1,
             "#f0f921"
            ]
           ]
          },
          "colorway": [
           "#636efa",
           "#EF553B",
           "#00cc96",
           "#ab63fa",
           "#FFA15A",
           "#19d3f3",
           "#FF6692",
           "#B6E880",
           "#FF97FF",
           "#FECB52"
          ],
          "font": {
           "color": "#2a3f5f"
          },
          "geo": {
           "bgcolor": "white",
           "lakecolor": "white",
           "landcolor": "#E5ECF6",
           "showlakes": true,
           "showland": true,
           "subunitcolor": "white"
          },
          "hoverlabel": {
           "align": "left"
          },
          "hovermode": "closest",
          "mapbox": {
           "style": "light"
          },
          "paper_bgcolor": "white",
          "plot_bgcolor": "#E5ECF6",
          "polar": {
           "angularaxis": {
            "gridcolor": "white",
            "linecolor": "white",
            "ticks": ""
           },
           "bgcolor": "#E5ECF6",
           "radialaxis": {
            "gridcolor": "white",
            "linecolor": "white",
            "ticks": ""
           }
          },
          "scene": {
           "xaxis": {
            "backgroundcolor": "#E5ECF6",
            "gridcolor": "white",
            "gridwidth": 2,
            "linecolor": "white",
            "showbackground": true,
            "ticks": "",
            "zerolinecolor": "white"
           },
           "yaxis": {
            "backgroundcolor": "#E5ECF6",
            "gridcolor": "white",
            "gridwidth": 2,
            "linecolor": "white",
            "showbackground": true,
            "ticks": "",
            "zerolinecolor": "white"
           },
           "zaxis": {
            "backgroundcolor": "#E5ECF6",
            "gridcolor": "white",
            "gridwidth": 2,
            "linecolor": "white",
            "showbackground": true,
            "ticks": "",
            "zerolinecolor": "white"
           }
          },
          "shapedefaults": {
           "line": {
            "color": "#2a3f5f"
           }
          },
          "ternary": {
           "aaxis": {
            "gridcolor": "white",
            "linecolor": "white",
            "ticks": ""
           },
           "baxis": {
            "gridcolor": "white",
            "linecolor": "white",
            "ticks": ""
           },
           "bgcolor": "#E5ECF6",
           "caxis": {
            "gridcolor": "white",
            "linecolor": "white",
            "ticks": ""
           }
          },
          "title": {
           "x": 0.05
          },
          "xaxis": {
           "automargin": true,
           "gridcolor": "white",
           "linecolor": "white",
           "ticks": "",
           "title": {
            "standoff": 15
           },
           "zerolinecolor": "white",
           "zerolinewidth": 2
          },
          "yaxis": {
           "automargin": true,
           "gridcolor": "white",
           "linecolor": "white",
           "ticks": "",
           "title": {
            "standoff": 15
           },
           "zerolinecolor": "white",
           "zerolinewidth": 2
          }
         }
        },
        "title": {
         "text": "Number of Available School Districts per State"
        }
       }
      }
     },
     "metadata": {}
    }
   ],
   "metadata": {}
  },
  {
   "cell_type": "code",
   "execution_count": 236,
   "source": [
    "districts_info.pp_total_raw.unique()\r\n",
    "temp = districts_info.groupby('locale').pp_total_raw.value_counts().to_frame()\r\n",
    "temp.columns = ['amount']\r\n",
    "\r\n",
    "temp = temp.reset_index(drop=False)\r\n",
    "\r\n",
    "temp = temp.pivot(index='locale', columns='pp_total_raw')['amount']\r\n",
    "temp = temp[['[4000, 6000[', '[6000, 8000[', '[8000, 10000[', '[10000, 12000[',\r\n",
    "       '[12000, 14000[', '[14000, 16000[', '[16000, 18000[', \r\n",
    "       '[18000, 20000[', '[20000, 22000[', '[22000, 24000[', ]]\r\n",
    "\r\n",
    "\r\n",
    "fig, ax = plt.subplots(1, 2, figsize=(24,4))\r\n",
    "\r\n",
    "sns.countplot(data=districts_info, x='locale', ax=ax[0], palette='GnBu')\r\n",
    "\r\n",
    "sns.heatmap(temp, annot=True,  cmap='GnBu', ax=ax[1])\r\n",
    "ax[1].set_title('Heatmap of Districts According To locale and pp_total_raw')\r\n",
    "plt.show()\r\n"
   ],
   "outputs": [
    {
     "output_type": "display_data",
     "data": {
      "text/plain": [
       "<Figure size 1728x288 with 3 Axes>"
      ],
      "image/svg+xml": "<?xml version=\"1.0\" encoding=\"utf-8\" standalone=\"no\"?>\r\n<!DOCTYPE svg PUBLIC \"-//W3C//DTD SVG 1.1//EN\"\r\n  \"http://www.w3.org/Graphics/SVG/1.1/DTD/svg11.dtd\">\r\n<!-- Created with matplotlib (https://matplotlib.org/) -->\r\n<svg height=\"384.44225pt\" version=\"1.1\" viewBox=\"0 0 1331.434784 384.44225\" width=\"1331.434784pt\" xmlns=\"http://www.w3.org/2000/svg\" xmlns:xlink=\"http://www.w3.org/1999/xlink\">\r\n <defs>\r\n  <style type=\"text/css\">\r\n*{stroke-linecap:butt;stroke-linejoin:round;}\r\n  </style>\r\n </defs>\r\n <g id=\"figure_1\">\r\n  <g id=\"patch_1\">\r\n   <path d=\"M 0 384.44225 \r\nL 1331.434784 384.44225 \r\nL 1331.434784 0 \r\nL 0 0 \r\nz\r\n\" style=\"fill:none;\"/>\r\n  </g>\r\n  <g id=\"axes_1\">\r\n   <g id=\"patch_2\">\r\n    <path d=\"M 49.564375 243.405375 \r\nL 658.291648 243.405375 \r\nL 658.291648 25.965375 \r\nL 49.564375 25.965375 \r\nz\r\n\" style=\"fill:#ffffff;\"/>\r\n   </g>\r\n   <g id=\"patch_3\">\r\n    <path clip-path=\"url(#p777697320b)\" d=\"M 64.782557 243.405375 \r\nL 186.528011 243.405375 \r\nL 186.528011 36.319661 \r\nL 64.782557 36.319661 \r\nz\r\n\" style=\"fill:#d7ead2;\"/>\r\n   </g>\r\n   <g id=\"patch_4\">\r\n    <path clip-path=\"url(#p777697320b)\" d=\"M 216.964375 243.405375 \r\nL 338.70983 243.405375 \r\nL 338.70983 181.279661 \r\nL 216.964375 181.279661 \r\nz\r\n\" style=\"fill:#a6d2b9;\"/>\r\n   </g>\r\n   <g id=\"patch_5\">\r\n    <path clip-path=\"url(#p777697320b)\" d=\"M 369.146193 243.405375 \r\nL 490.891648 243.405375 \r\nL 490.891648 191.633946 \r\nL 369.146193 191.633946 \r\nz\r\n\" style=\"fill:#66afc1;\"/>\r\n   </g>\r\n   <g id=\"patch_6\">\r\n    <path clip-path=\"url(#p777697320b)\" d=\"M 521.328011 243.405375 \r\nL 643.073466 243.405375 \r\nL 643.073466 220.108232 \r\nL 521.328011 220.108232 \r\nz\r\n\" style=\"fill:#3079a4;\"/>\r\n   </g>\r\n   <g id=\"matplotlib.axis_1\">\r\n    <g id=\"xtick_1\">\r\n     <g id=\"line2d_1\">\r\n      <defs>\r\n       <path d=\"M 0 0 \r\nL 0 3.5 \r\n\" id=\"m5232e01392\" style=\"stroke:#000000;stroke-width:0.8;\"/>\r\n      </defs>\r\n      <g>\r\n       <use style=\"stroke:#000000;stroke-width:0.8;\" x=\"125.655284\" xlink:href=\"#m5232e01392\" y=\"243.405375\"/>\r\n      </g>\r\n     </g>\r\n     <g id=\"text_1\">\r\n      <!-- Suburb -->\r\n      <defs>\r\n       <path d=\"M 53.515625 70.515625 \r\nL 53.515625 60.890625 \r\nQ 47.90625 63.578125 42.921875 64.890625 \r\nQ 37.9375 66.21875 33.296875 66.21875 \r\nQ 25.25 66.21875 20.875 63.09375 \r\nQ 16.5 59.96875 16.5 54.203125 \r\nQ 16.5 49.359375 19.40625 46.890625 \r\nQ 22.3125 44.4375 30.421875 42.921875 \r\nL 36.375 41.703125 \r\nQ 47.40625 39.59375 52.65625 34.296875 \r\nQ 57.90625 29 57.90625 20.125 \r\nQ 57.90625 9.515625 50.796875 4.046875 \r\nQ 43.703125 -1.421875 29.984375 -1.421875 \r\nQ 24.8125 -1.421875 18.96875 -0.25 \r\nQ 13.140625 0.921875 6.890625 3.21875 \r\nL 6.890625 13.375 \r\nQ 12.890625 10.015625 18.65625 8.296875 \r\nQ 24.421875 6.59375 29.984375 6.59375 \r\nQ 38.421875 6.59375 43.015625 9.90625 \r\nQ 47.609375 13.234375 47.609375 19.390625 \r\nQ 47.609375 24.75 44.3125 27.78125 \r\nQ 41.015625 30.8125 33.5 32.328125 \r\nL 27.484375 33.5 \r\nQ 16.453125 35.6875 11.515625 40.375 \r\nQ 6.59375 45.0625 6.59375 53.421875 \r\nQ 6.59375 63.09375 13.40625 68.65625 \r\nQ 20.21875 74.21875 32.171875 74.21875 \r\nQ 37.3125 74.21875 42.625 73.28125 \r\nQ 47.953125 72.359375 53.515625 70.515625 \r\nz\r\n\" id=\"DejaVuSans-83\"/>\r\n       <path d=\"M 8.5 21.578125 \r\nL 8.5 54.6875 \r\nL 17.484375 54.6875 \r\nL 17.484375 21.921875 \r\nQ 17.484375 14.15625 20.5 10.265625 \r\nQ 23.53125 6.390625 29.59375 6.390625 \r\nQ 36.859375 6.390625 41.078125 11.03125 \r\nQ 45.3125 15.671875 45.3125 23.6875 \r\nL 45.3125 54.6875 \r\nL 54.296875 54.6875 \r\nL 54.296875 0 \r\nL 45.3125 0 \r\nL 45.3125 8.40625 \r\nQ 42.046875 3.421875 37.71875 1 \r\nQ 33.40625 -1.421875 27.6875 -1.421875 \r\nQ 18.265625 -1.421875 13.375 4.4375 \r\nQ 8.5 10.296875 8.5 21.578125 \r\nz\r\nM 31.109375 56 \r\nz\r\n\" id=\"DejaVuSans-117\"/>\r\n       <path d=\"M 48.6875 27.296875 \r\nQ 48.6875 37.203125 44.609375 42.84375 \r\nQ 40.53125 48.484375 33.40625 48.484375 \r\nQ 26.265625 48.484375 22.1875 42.84375 \r\nQ 18.109375 37.203125 18.109375 27.296875 \r\nQ 18.109375 17.390625 22.1875 11.75 \r\nQ 26.265625 6.109375 33.40625 6.109375 \r\nQ 40.53125 6.109375 44.609375 11.75 \r\nQ 48.6875 17.390625 48.6875 27.296875 \r\nz\r\nM 18.109375 46.390625 \r\nQ 20.953125 51.265625 25.265625 53.625 \r\nQ 29.59375 56 35.59375 56 \r\nQ 45.5625 56 51.78125 48.09375 \r\nQ 58.015625 40.1875 58.015625 27.296875 \r\nQ 58.015625 14.40625 51.78125 6.484375 \r\nQ 45.5625 -1.421875 35.59375 -1.421875 \r\nQ 29.59375 -1.421875 25.265625 0.953125 \r\nQ 20.953125 3.328125 18.109375 8.203125 \r\nL 18.109375 0 \r\nL 9.078125 0 \r\nL 9.078125 75.984375 \r\nL 18.109375 75.984375 \r\nz\r\n\" id=\"DejaVuSans-98\"/>\r\n       <path d=\"M 41.109375 46.296875 \r\nQ 39.59375 47.171875 37.8125 47.578125 \r\nQ 36.03125 48 33.890625 48 \r\nQ 26.265625 48 22.1875 43.046875 \r\nQ 18.109375 38.09375 18.109375 28.8125 \r\nL 18.109375 0 \r\nL 9.078125 0 \r\nL 9.078125 54.6875 \r\nL 18.109375 54.6875 \r\nL 18.109375 46.1875 \r\nQ 20.953125 51.171875 25.484375 53.578125 \r\nQ 30.03125 56 36.53125 56 \r\nQ 37.453125 56 38.578125 55.875 \r\nQ 39.703125 55.765625 41.0625 55.515625 \r\nz\r\n\" id=\"DejaVuSans-114\"/>\r\n      </defs>\r\n      <g transform=\"translate(100.573409 261.043187)scale(0.14 -0.14)\">\r\n       <use xlink:href=\"#DejaVuSans-83\"/>\r\n       <use x=\"63.476562\" xlink:href=\"#DejaVuSans-117\"/>\r\n       <use x=\"126.855469\" xlink:href=\"#DejaVuSans-98\"/>\r\n       <use x=\"190.332031\" xlink:href=\"#DejaVuSans-117\"/>\r\n       <use x=\"253.710938\" xlink:href=\"#DejaVuSans-114\"/>\r\n       <use x=\"294.824219\" xlink:href=\"#DejaVuSans-98\"/>\r\n      </g>\r\n     </g>\r\n    </g>\r\n    <g id=\"xtick_2\">\r\n     <g id=\"line2d_2\">\r\n      <g>\r\n       <use style=\"stroke:#000000;stroke-width:0.8;\" x=\"277.837102\" xlink:href=\"#m5232e01392\" y=\"243.405375\"/>\r\n      </g>\r\n     </g>\r\n     <g id=\"text_2\">\r\n      <!-- Rural -->\r\n      <defs>\r\n       <path d=\"M 44.390625 34.1875 \r\nQ 47.5625 33.109375 50.5625 29.59375 \r\nQ 53.5625 26.078125 56.59375 19.921875 \r\nL 66.609375 0 \r\nL 56 0 \r\nL 46.6875 18.703125 \r\nQ 43.0625 26.03125 39.671875 28.421875 \r\nQ 36.28125 30.8125 30.421875 30.8125 \r\nL 19.671875 30.8125 \r\nL 19.671875 0 \r\nL 9.8125 0 \r\nL 9.8125 72.90625 \r\nL 32.078125 72.90625 \r\nQ 44.578125 72.90625 50.734375 67.671875 \r\nQ 56.890625 62.453125 56.890625 51.90625 \r\nQ 56.890625 45.015625 53.6875 40.46875 \r\nQ 50.484375 35.9375 44.390625 34.1875 \r\nz\r\nM 19.671875 64.796875 \r\nL 19.671875 38.921875 \r\nL 32.078125 38.921875 \r\nQ 39.203125 38.921875 42.84375 42.21875 \r\nQ 46.484375 45.515625 46.484375 51.90625 \r\nQ 46.484375 58.296875 42.84375 61.546875 \r\nQ 39.203125 64.796875 32.078125 64.796875 \r\nz\r\n\" id=\"DejaVuSans-82\"/>\r\n       <path d=\"M 34.28125 27.484375 \r\nQ 23.390625 27.484375 19.1875 25 \r\nQ 14.984375 22.515625 14.984375 16.5 \r\nQ 14.984375 11.71875 18.140625 8.90625 \r\nQ 21.296875 6.109375 26.703125 6.109375 \r\nQ 34.1875 6.109375 38.703125 11.40625 \r\nQ 43.21875 16.703125 43.21875 25.484375 \r\nL 43.21875 27.484375 \r\nz\r\nM 52.203125 31.203125 \r\nL 52.203125 0 \r\nL 43.21875 0 \r\nL 43.21875 8.296875 \r\nQ 40.140625 3.328125 35.546875 0.953125 \r\nQ 30.953125 -1.421875 24.3125 -1.421875 \r\nQ 15.921875 -1.421875 10.953125 3.296875 \r\nQ 6 8.015625 6 15.921875 \r\nQ 6 25.140625 12.171875 29.828125 \r\nQ 18.359375 34.515625 30.609375 34.515625 \r\nL 43.21875 34.515625 \r\nL 43.21875 35.40625 \r\nQ 43.21875 41.609375 39.140625 45 \r\nQ 35.0625 48.390625 27.6875 48.390625 \r\nQ 23 48.390625 18.546875 47.265625 \r\nQ 14.109375 46.140625 10.015625 43.890625 \r\nL 10.015625 52.203125 \r\nQ 14.9375 54.109375 19.578125 55.046875 \r\nQ 24.21875 56 28.609375 56 \r\nQ 40.484375 56 46.34375 49.84375 \r\nQ 52.203125 43.703125 52.203125 31.203125 \r\nz\r\n\" id=\"DejaVuSans-97\"/>\r\n       <path d=\"M 9.421875 75.984375 \r\nL 18.40625 75.984375 \r\nL 18.40625 0 \r\nL 9.421875 0 \r\nz\r\n\" id=\"DejaVuSans-108\"/>\r\n      </defs>\r\n      <g transform=\"translate(259.739915 261.043187)scale(0.14 -0.14)\">\r\n       <use xlink:href=\"#DejaVuSans-82\"/>\r\n       <use x=\"64.982422\" xlink:href=\"#DejaVuSans-117\"/>\r\n       <use x=\"128.361328\" xlink:href=\"#DejaVuSans-114\"/>\r\n       <use x=\"169.474609\" xlink:href=\"#DejaVuSans-97\"/>\r\n       <use x=\"230.753906\" xlink:href=\"#DejaVuSans-108\"/>\r\n      </g>\r\n     </g>\r\n    </g>\r\n    <g id=\"xtick_3\">\r\n     <g id=\"line2d_3\">\r\n      <g>\r\n       <use style=\"stroke:#000000;stroke-width:0.8;\" x=\"430.01892\" xlink:href=\"#m5232e01392\" y=\"243.405375\"/>\r\n      </g>\r\n     </g>\r\n     <g id=\"text_3\">\r\n      <!-- City -->\r\n      <defs>\r\n       <path d=\"M 64.40625 67.28125 \r\nL 64.40625 56.890625 \r\nQ 59.421875 61.53125 53.78125 63.8125 \r\nQ 48.140625 66.109375 41.796875 66.109375 \r\nQ 29.296875 66.109375 22.65625 58.46875 \r\nQ 16.015625 50.828125 16.015625 36.375 \r\nQ 16.015625 21.96875 22.65625 14.328125 \r\nQ 29.296875 6.6875 41.796875 6.6875 \r\nQ 48.140625 6.6875 53.78125 8.984375 \r\nQ 59.421875 11.28125 64.40625 15.921875 \r\nL 64.40625 5.609375 \r\nQ 59.234375 2.09375 53.4375 0.328125 \r\nQ 47.65625 -1.421875 41.21875 -1.421875 \r\nQ 24.65625 -1.421875 15.125 8.703125 \r\nQ 5.609375 18.84375 5.609375 36.375 \r\nQ 5.609375 53.953125 15.125 64.078125 \r\nQ 24.65625 74.21875 41.21875 74.21875 \r\nQ 47.75 74.21875 53.53125 72.484375 \r\nQ 59.328125 70.75 64.40625 67.28125 \r\nz\r\n\" id=\"DejaVuSans-67\"/>\r\n       <path d=\"M 9.421875 54.6875 \r\nL 18.40625 54.6875 \r\nL 18.40625 0 \r\nL 9.421875 0 \r\nz\r\nM 9.421875 75.984375 \r\nL 18.40625 75.984375 \r\nL 18.40625 64.59375 \r\nL 9.421875 64.59375 \r\nz\r\n\" id=\"DejaVuSans-105\"/>\r\n       <path d=\"M 18.3125 70.21875 \r\nL 18.3125 54.6875 \r\nL 36.8125 54.6875 \r\nL 36.8125 47.703125 \r\nL 18.3125 47.703125 \r\nL 18.3125 18.015625 \r\nQ 18.3125 11.328125 20.140625 9.421875 \r\nQ 21.96875 7.515625 27.59375 7.515625 \r\nL 36.8125 7.515625 \r\nL 36.8125 0 \r\nL 27.59375 0 \r\nQ 17.1875 0 13.234375 3.875 \r\nQ 9.28125 7.765625 9.28125 18.015625 \r\nL 9.28125 47.703125 \r\nL 2.6875 47.703125 \r\nL 2.6875 54.6875 \r\nL 9.28125 54.6875 \r\nL 9.28125 70.21875 \r\nz\r\n\" id=\"DejaVuSans-116\"/>\r\n       <path d=\"M 32.171875 -5.078125 \r\nQ 28.375 -14.84375 24.75 -17.8125 \r\nQ 21.140625 -20.796875 15.09375 -20.796875 \r\nL 7.90625 -20.796875 \r\nL 7.90625 -13.28125 \r\nL 13.1875 -13.28125 \r\nQ 16.890625 -13.28125 18.9375 -11.515625 \r\nQ 21 -9.765625 23.484375 -3.21875 \r\nL 25.09375 0.875 \r\nL 2.984375 54.6875 \r\nL 12.5 54.6875 \r\nL 29.59375 11.921875 \r\nL 46.6875 54.6875 \r\nL 56.203125 54.6875 \r\nz\r\n\" id=\"DejaVuSans-121\"/>\r\n      </defs>\r\n      <g transform=\"translate(416.29892 261.043187)scale(0.14 -0.14)\">\r\n       <use xlink:href=\"#DejaVuSans-67\"/>\r\n       <use x=\"69.824219\" xlink:href=\"#DejaVuSans-105\"/>\r\n       <use x=\"97.607422\" xlink:href=\"#DejaVuSans-116\"/>\r\n       <use x=\"136.816406\" xlink:href=\"#DejaVuSans-121\"/>\r\n      </g>\r\n     </g>\r\n    </g>\r\n    <g id=\"xtick_4\">\r\n     <g id=\"line2d_4\">\r\n      <g>\r\n       <use style=\"stroke:#000000;stroke-width:0.8;\" x=\"582.200739\" xlink:href=\"#m5232e01392\" y=\"243.405375\"/>\r\n      </g>\r\n     </g>\r\n     <g id=\"text_4\">\r\n      <!-- Town -->\r\n      <defs>\r\n       <path d=\"M -0.296875 72.90625 \r\nL 61.375 72.90625 \r\nL 61.375 64.59375 \r\nL 35.5 64.59375 \r\nL 35.5 0 \r\nL 25.59375 0 \r\nL 25.59375 64.59375 \r\nL -0.296875 64.59375 \r\nz\r\n\" id=\"DejaVuSans-84\"/>\r\n       <path d=\"M 30.609375 48.390625 \r\nQ 23.390625 48.390625 19.1875 42.75 \r\nQ 14.984375 37.109375 14.984375 27.296875 \r\nQ 14.984375 17.484375 19.15625 11.84375 \r\nQ 23.34375 6.203125 30.609375 6.203125 \r\nQ 37.796875 6.203125 41.984375 11.859375 \r\nQ 46.1875 17.53125 46.1875 27.296875 \r\nQ 46.1875 37.015625 41.984375 42.703125 \r\nQ 37.796875 48.390625 30.609375 48.390625 \r\nz\r\nM 30.609375 56 \r\nQ 42.328125 56 49.015625 48.375 \r\nQ 55.71875 40.765625 55.71875 27.296875 \r\nQ 55.71875 13.875 49.015625 6.21875 \r\nQ 42.328125 -1.421875 30.609375 -1.421875 \r\nQ 18.84375 -1.421875 12.171875 6.21875 \r\nQ 5.515625 13.875 5.515625 27.296875 \r\nQ 5.515625 40.765625 12.171875 48.375 \r\nQ 18.84375 56 30.609375 56 \r\nz\r\n\" id=\"DejaVuSans-111\"/>\r\n       <path d=\"M 4.203125 54.6875 \r\nL 13.1875 54.6875 \r\nL 24.421875 12.015625 \r\nL 35.59375 54.6875 \r\nL 46.1875 54.6875 \r\nL 57.421875 12.015625 \r\nL 68.609375 54.6875 \r\nL 77.59375 54.6875 \r\nL 63.28125 0 \r\nL 52.6875 0 \r\nL 40.921875 44.828125 \r\nL 29.109375 0 \r\nL 18.5 0 \r\nz\r\n\" id=\"DejaVuSans-119\"/>\r\n       <path d=\"M 54.890625 33.015625 \r\nL 54.890625 0 \r\nL 45.90625 0 \r\nL 45.90625 32.71875 \r\nQ 45.90625 40.484375 42.875 44.328125 \r\nQ 39.84375 48.1875 33.796875 48.1875 \r\nQ 26.515625 48.1875 22.3125 43.546875 \r\nQ 18.109375 38.921875 18.109375 30.90625 \r\nL 18.109375 0 \r\nL 9.078125 0 \r\nL 9.078125 54.6875 \r\nL 18.109375 54.6875 \r\nL 18.109375 46.1875 \r\nQ 21.34375 51.125 25.703125 53.5625 \r\nQ 30.078125 56 35.796875 56 \r\nQ 45.21875 56 50.046875 50.171875 \r\nQ 54.890625 44.34375 54.890625 33.015625 \r\nz\r\n\" id=\"DejaVuSans-110\"/>\r\n      </defs>\r\n      <g transform=\"translate(564.671207 261.043187)scale(0.14 -0.14)\">\r\n       <use xlink:href=\"#DejaVuSans-84\"/>\r\n       <use x=\"44.083984\" xlink:href=\"#DejaVuSans-111\"/>\r\n       <use x=\"105.265625\" xlink:href=\"#DejaVuSans-119\"/>\r\n       <use x=\"187.052734\" xlink:href=\"#DejaVuSans-110\"/>\r\n      </g>\r\n     </g>\r\n    </g>\r\n    <g id=\"text_5\">\r\n     <!-- locale -->\r\n     <defs>\r\n      <path d=\"M 48.78125 52.59375 \r\nL 48.78125 44.1875 \r\nQ 44.96875 46.296875 41.140625 47.34375 \r\nQ 37.3125 48.390625 33.40625 48.390625 \r\nQ 24.65625 48.390625 19.8125 42.84375 \r\nQ 14.984375 37.3125 14.984375 27.296875 \r\nQ 14.984375 17.28125 19.8125 11.734375 \r\nQ 24.65625 6.203125 33.40625 6.203125 \r\nQ 37.3125 6.203125 41.140625 7.25 \r\nQ 44.96875 8.296875 48.78125 10.40625 \r\nL 48.78125 2.09375 \r\nQ 45.015625 0.34375 40.984375 -0.53125 \r\nQ 36.96875 -1.421875 32.421875 -1.421875 \r\nQ 20.0625 -1.421875 12.78125 6.34375 \r\nQ 5.515625 14.109375 5.515625 27.296875 \r\nQ 5.515625 40.671875 12.859375 48.328125 \r\nQ 20.21875 56 33.015625 56 \r\nQ 37.15625 56 41.109375 55.140625 \r\nQ 45.0625 54.296875 48.78125 52.59375 \r\nz\r\n\" id=\"DejaVuSans-99\"/>\r\n      <path d=\"M 56.203125 29.59375 \r\nL 56.203125 25.203125 \r\nL 14.890625 25.203125 \r\nQ 15.484375 15.921875 20.484375 11.0625 \r\nQ 25.484375 6.203125 34.421875 6.203125 \r\nQ 39.59375 6.203125 44.453125 7.46875 \r\nQ 49.3125 8.734375 54.109375 11.28125 \r\nL 54.109375 2.78125 \r\nQ 49.265625 0.734375 44.1875 -0.34375 \r\nQ 39.109375 -1.421875 33.890625 -1.421875 \r\nQ 20.796875 -1.421875 13.15625 6.1875 \r\nQ 5.515625 13.8125 5.515625 26.8125 \r\nQ 5.515625 40.234375 12.765625 48.109375 \r\nQ 20.015625 56 32.328125 56 \r\nQ 43.359375 56 49.78125 48.890625 \r\nQ 56.203125 41.796875 56.203125 29.59375 \r\nz\r\nM 47.21875 32.234375 \r\nQ 47.125 39.59375 43.09375 43.984375 \r\nQ 39.0625 48.390625 32.421875 48.390625 \r\nQ 24.90625 48.390625 20.390625 44.140625 \r\nQ 15.875 39.890625 15.1875 32.171875 \r\nz\r\n\" id=\"DejaVuSans-101\"/>\r\n     </defs>\r\n     <g transform=\"translate(333.30973 278.592562)scale(0.14 -0.14)\">\r\n      <use xlink:href=\"#DejaVuSans-108\"/>\r\n      <use x=\"27.783203\" xlink:href=\"#DejaVuSans-111\"/>\r\n      <use x=\"88.964844\" xlink:href=\"#DejaVuSans-99\"/>\r\n      <use x=\"143.945312\" xlink:href=\"#DejaVuSans-97\"/>\r\n      <use x=\"205.224609\" xlink:href=\"#DejaVuSans-108\"/>\r\n      <use x=\"233.007812\" xlink:href=\"#DejaVuSans-101\"/>\r\n     </g>\r\n    </g>\r\n   </g>\r\n   <g id=\"matplotlib.axis_2\">\r\n    <g id=\"ytick_1\">\r\n     <g id=\"line2d_5\">\r\n      <defs>\r\n       <path d=\"M 0 0 \r\nL -3.5 0 \r\n\" id=\"m3d530c78e4\" style=\"stroke:#000000;stroke-width:0.8;\"/>\r\n      </defs>\r\n      <g>\r\n       <use style=\"stroke:#000000;stroke-width:0.8;\" x=\"49.564375\" xlink:href=\"#m3d530c78e4\" y=\"243.405375\"/>\r\n      </g>\r\n     </g>\r\n     <g id=\"text_6\">\r\n      <!-- 0 -->\r\n      <defs>\r\n       <path d=\"M 31.78125 66.40625 \r\nQ 24.171875 66.40625 20.328125 58.90625 \r\nQ 16.5 51.421875 16.5 36.375 \r\nQ 16.5 21.390625 20.328125 13.890625 \r\nQ 24.171875 6.390625 31.78125 6.390625 \r\nQ 39.453125 6.390625 43.28125 13.890625 \r\nQ 47.125 21.390625 47.125 36.375 \r\nQ 47.125 51.421875 43.28125 58.90625 \r\nQ 39.453125 66.40625 31.78125 66.40625 \r\nz\r\nM 31.78125 74.21875 \r\nQ 44.046875 74.21875 50.515625 64.515625 \r\nQ 56.984375 54.828125 56.984375 36.375 \r\nQ 56.984375 17.96875 50.515625 8.265625 \r\nQ 44.046875 -1.421875 31.78125 -1.421875 \r\nQ 19.53125 -1.421875 13.0625 8.265625 \r\nQ 6.59375 17.96875 6.59375 36.375 \r\nQ 6.59375 54.828125 13.0625 64.515625 \r\nQ 19.53125 74.21875 31.78125 74.21875 \r\nz\r\n\" id=\"DejaVuSans-48\"/>\r\n      </defs>\r\n      <g transform=\"translate(33.656875 248.724281)scale(0.14 -0.14)\">\r\n       <use xlink:href=\"#DejaVuSans-48\"/>\r\n      </g>\r\n     </g>\r\n    </g>\r\n    <g id=\"ytick_2\">\r\n     <g id=\"line2d_6\">\r\n      <g>\r\n       <use style=\"stroke:#000000;stroke-width:0.8;\" x=\"49.564375\" xlink:href=\"#m3d530c78e4\" y=\"191.633946\"/>\r\n      </g>\r\n     </g>\r\n     <g id=\"text_7\">\r\n      <!-- 20 -->\r\n      <defs>\r\n       <path d=\"M 19.1875 8.296875 \r\nL 53.609375 8.296875 \r\nL 53.609375 0 \r\nL 7.328125 0 \r\nL 7.328125 8.296875 \r\nQ 12.9375 14.109375 22.625 23.890625 \r\nQ 32.328125 33.6875 34.8125 36.53125 \r\nQ 39.546875 41.84375 41.421875 45.53125 \r\nQ 43.3125 49.21875 43.3125 52.78125 \r\nQ 43.3125 58.59375 39.234375 62.25 \r\nQ 35.15625 65.921875 28.609375 65.921875 \r\nQ 23.96875 65.921875 18.8125 64.3125 \r\nQ 13.671875 62.703125 7.8125 59.421875 \r\nL 7.8125 69.390625 \r\nQ 13.765625 71.78125 18.9375 73 \r\nQ 24.125 74.21875 28.421875 74.21875 \r\nQ 39.75 74.21875 46.484375 68.546875 \r\nQ 53.21875 62.890625 53.21875 53.421875 \r\nQ 53.21875 48.921875 51.53125 44.890625 \r\nQ 49.859375 40.875 45.40625 35.40625 \r\nQ 44.1875 33.984375 37.640625 27.21875 \r\nQ 31.109375 20.453125 19.1875 8.296875 \r\nz\r\n\" id=\"DejaVuSans-50\"/>\r\n      </defs>\r\n      <g transform=\"translate(24.749375 196.952853)scale(0.14 -0.14)\">\r\n       <use xlink:href=\"#DejaVuSans-50\"/>\r\n       <use x=\"63.623047\" xlink:href=\"#DejaVuSans-48\"/>\r\n      </g>\r\n     </g>\r\n    </g>\r\n    <g id=\"ytick_3\">\r\n     <g id=\"line2d_7\">\r\n      <g>\r\n       <use style=\"stroke:#000000;stroke-width:0.8;\" x=\"49.564375\" xlink:href=\"#m3d530c78e4\" y=\"139.862518\"/>\r\n      </g>\r\n     </g>\r\n     <g id=\"text_8\">\r\n      <!-- 40 -->\r\n      <defs>\r\n       <path d=\"M 37.796875 64.3125 \r\nL 12.890625 25.390625 \r\nL 37.796875 25.390625 \r\nz\r\nM 35.203125 72.90625 \r\nL 47.609375 72.90625 \r\nL 47.609375 25.390625 \r\nL 58.015625 25.390625 \r\nL 58.015625 17.1875 \r\nL 47.609375 17.1875 \r\nL 47.609375 0 \r\nL 37.796875 0 \r\nL 37.796875 17.1875 \r\nL 4.890625 17.1875 \r\nL 4.890625 26.703125 \r\nz\r\n\" id=\"DejaVuSans-52\"/>\r\n      </defs>\r\n      <g transform=\"translate(24.749375 145.181424)scale(0.14 -0.14)\">\r\n       <use xlink:href=\"#DejaVuSans-52\"/>\r\n       <use x=\"63.623047\" xlink:href=\"#DejaVuSans-48\"/>\r\n      </g>\r\n     </g>\r\n    </g>\r\n    <g id=\"ytick_4\">\r\n     <g id=\"line2d_8\">\r\n      <g>\r\n       <use style=\"stroke:#000000;stroke-width:0.8;\" x=\"49.564375\" xlink:href=\"#m3d530c78e4\" y=\"88.091089\"/>\r\n      </g>\r\n     </g>\r\n     <g id=\"text_9\">\r\n      <!-- 60 -->\r\n      <defs>\r\n       <path d=\"M 33.015625 40.375 \r\nQ 26.375 40.375 22.484375 35.828125 \r\nQ 18.609375 31.296875 18.609375 23.390625 \r\nQ 18.609375 15.53125 22.484375 10.953125 \r\nQ 26.375 6.390625 33.015625 6.390625 \r\nQ 39.65625 6.390625 43.53125 10.953125 \r\nQ 47.40625 15.53125 47.40625 23.390625 \r\nQ 47.40625 31.296875 43.53125 35.828125 \r\nQ 39.65625 40.375 33.015625 40.375 \r\nz\r\nM 52.59375 71.296875 \r\nL 52.59375 62.3125 \r\nQ 48.875 64.0625 45.09375 64.984375 \r\nQ 41.3125 65.921875 37.59375 65.921875 \r\nQ 27.828125 65.921875 22.671875 59.328125 \r\nQ 17.53125 52.734375 16.796875 39.40625 \r\nQ 19.671875 43.65625 24.015625 45.921875 \r\nQ 28.375 48.1875 33.59375 48.1875 \r\nQ 44.578125 48.1875 50.953125 41.515625 \r\nQ 57.328125 34.859375 57.328125 23.390625 \r\nQ 57.328125 12.15625 50.6875 5.359375 \r\nQ 44.046875 -1.421875 33.015625 -1.421875 \r\nQ 20.359375 -1.421875 13.671875 8.265625 \r\nQ 6.984375 17.96875 6.984375 36.375 \r\nQ 6.984375 53.65625 15.1875 63.9375 \r\nQ 23.390625 74.21875 37.203125 74.21875 \r\nQ 40.921875 74.21875 44.703125 73.484375 \r\nQ 48.484375 72.75 52.59375 71.296875 \r\nz\r\n\" id=\"DejaVuSans-54\"/>\r\n      </defs>\r\n      <g transform=\"translate(24.749375 93.409996)scale(0.14 -0.14)\">\r\n       <use xlink:href=\"#DejaVuSans-54\"/>\r\n       <use x=\"63.623047\" xlink:href=\"#DejaVuSans-48\"/>\r\n      </g>\r\n     </g>\r\n    </g>\r\n    <g id=\"ytick_5\">\r\n     <g id=\"line2d_9\">\r\n      <g>\r\n       <use style=\"stroke:#000000;stroke-width:0.8;\" x=\"49.564375\" xlink:href=\"#m3d530c78e4\" y=\"36.319661\"/>\r\n      </g>\r\n     </g>\r\n     <g id=\"text_10\">\r\n      <!-- 80 -->\r\n      <defs>\r\n       <path d=\"M 31.78125 34.625 \r\nQ 24.75 34.625 20.71875 30.859375 \r\nQ 16.703125 27.09375 16.703125 20.515625 \r\nQ 16.703125 13.921875 20.71875 10.15625 \r\nQ 24.75 6.390625 31.78125 6.390625 \r\nQ 38.8125 6.390625 42.859375 10.171875 \r\nQ 46.921875 13.96875 46.921875 20.515625 \r\nQ 46.921875 27.09375 42.890625 30.859375 \r\nQ 38.875 34.625 31.78125 34.625 \r\nz\r\nM 21.921875 38.8125 \r\nQ 15.578125 40.375 12.03125 44.71875 \r\nQ 8.5 49.078125 8.5 55.328125 \r\nQ 8.5 64.0625 14.71875 69.140625 \r\nQ 20.953125 74.21875 31.78125 74.21875 \r\nQ 42.671875 74.21875 48.875 69.140625 \r\nQ 55.078125 64.0625 55.078125 55.328125 \r\nQ 55.078125 49.078125 51.53125 44.71875 \r\nQ 48 40.375 41.703125 38.8125 \r\nQ 48.828125 37.15625 52.796875 32.3125 \r\nQ 56.78125 27.484375 56.78125 20.515625 \r\nQ 56.78125 9.90625 50.3125 4.234375 \r\nQ 43.84375 -1.421875 31.78125 -1.421875 \r\nQ 19.734375 -1.421875 13.25 4.234375 \r\nQ 6.78125 9.90625 6.78125 20.515625 \r\nQ 6.78125 27.484375 10.78125 32.3125 \r\nQ 14.796875 37.15625 21.921875 38.8125 \r\nz\r\nM 18.3125 54.390625 \r\nQ 18.3125 48.734375 21.84375 45.5625 \r\nQ 25.390625 42.390625 31.78125 42.390625 \r\nQ 38.140625 42.390625 41.71875 45.5625 \r\nQ 45.3125 48.734375 45.3125 54.390625 \r\nQ 45.3125 60.0625 41.71875 63.234375 \r\nQ 38.140625 66.40625 31.78125 66.40625 \r\nQ 25.390625 66.40625 21.84375 63.234375 \r\nQ 18.3125 60.0625 18.3125 54.390625 \r\nz\r\n\" id=\"DejaVuSans-56\"/>\r\n      </defs>\r\n      <g transform=\"translate(24.749375 41.638567)scale(0.14 -0.14)\">\r\n       <use xlink:href=\"#DejaVuSans-56\"/>\r\n       <use x=\"63.623047\" xlink:href=\"#DejaVuSans-48\"/>\r\n      </g>\r\n     </g>\r\n    </g>\r\n    <g id=\"text_11\">\r\n     <!-- count -->\r\n     <g transform=\"translate(17.837813 154.434125)rotate(-90)scale(0.14 -0.14)\">\r\n      <use xlink:href=\"#DejaVuSans-99\"/>\r\n      <use x=\"54.980469\" xlink:href=\"#DejaVuSans-111\"/>\r\n      <use x=\"116.162109\" xlink:href=\"#DejaVuSans-117\"/>\r\n      <use x=\"179.541016\" xlink:href=\"#DejaVuSans-110\"/>\r\n      <use x=\"242.919922\" xlink:href=\"#DejaVuSans-116\"/>\r\n     </g>\r\n    </g>\r\n   </g>\r\n   <g id=\"patch_7\">\r\n    <path d=\"M 49.564375 243.405375 \r\nL 49.564375 25.965375 \r\n\" style=\"fill:none;stroke:#000000;stroke-linecap:square;stroke-linejoin:miter;stroke-width:0.8;\"/>\r\n   </g>\r\n   <g id=\"patch_8\">\r\n    <path d=\"M 658.291648 243.405375 \r\nL 658.291648 25.965375 \r\n\" style=\"fill:none;stroke:#000000;stroke-linecap:square;stroke-linejoin:miter;stroke-width:0.8;\"/>\r\n   </g>\r\n   <g id=\"patch_9\">\r\n    <path d=\"M 49.564375 243.405375 \r\nL 658.291648 243.405375 \r\n\" style=\"fill:none;stroke:#000000;stroke-linecap:square;stroke-linejoin:miter;stroke-width:0.8;\"/>\r\n   </g>\r\n   <g id=\"patch_10\">\r\n    <path d=\"M 49.564375 25.965375 \r\nL 658.291648 25.965375 \r\n\" style=\"fill:none;stroke:#000000;stroke-linecap:square;stroke-linejoin:miter;stroke-width:0.8;\"/>\r\n   </g>\r\n  </g>\r\n  <g id=\"axes_2\">\r\n   <g id=\"patch_11\">\r\n    <path d=\"M 780.037102 243.405375 \r\nL 1267.01892 243.405375 \r\nL 1267.01892 25.965375 \r\nL 780.037102 25.965375 \r\nz\r\n\" style=\"fill:#ffffff;\"/>\r\n   </g>\r\n   <g id=\"QuadMesh_1\">\r\n    <path clip-path=\"url(#pf6920d4529)\" d=\"M 780.037102 25.965375 \r\nL 828.735284 25.965375 \r\nL 828.735284 80.325375 \r\nL 780.037102 80.325375 \r\nL 780.037102 25.965375 \r\n\" style=\"fill:none;\"/>\r\n    <path clip-path=\"url(#pf6920d4529)\" d=\"M 828.735284 25.965375 \r\nL 877.433466 25.965375 \r\nL 877.433466 80.325375 \r\nL 828.735284 80.325375 \r\nL 828.735284 25.965375 \r\n\" style=\"fill:#f7fcf0;\"/>\r\n    <path clip-path=\"url(#pf6920d4529)\" d=\"M 877.433466 25.965375 \r\nL 926.131648 25.965375 \r\nL 926.131648 80.325375 \r\nL 877.433466 80.325375 \r\nL 877.433466 25.965375 \r\n\" style=\"fill:#ccebc5;\"/>\r\n    <path clip-path=\"url(#pf6920d4529)\" d=\"M 926.131648 25.965375 \r\nL 974.82983 25.965375 \r\nL 974.82983 80.325375 \r\nL 926.131648 80.325375 \r\nL 926.131648 25.965375 \r\n\" style=\"fill:#e0f3db;\"/>\r\n    <path clip-path=\"url(#pf6920d4529)\" d=\"M 974.82983 25.965375 \r\nL 1023.528011 25.965375 \r\nL 1023.528011 80.325375 \r\nL 974.82983 80.325375 \r\nL 974.82983 25.965375 \r\n\" style=\"fill:#e0f3db;\"/>\r\n    <path clip-path=\"url(#pf6920d4529)\" d=\"M 1023.528011 25.965375 \r\nL 1072.226193 25.965375 \r\nL 1072.226193 80.325375 \r\nL 1023.528011 80.325375 \r\nL 1023.528011 25.965375 \r\n\" style=\"fill:#f7fcf0;\"/>\r\n    <path clip-path=\"url(#pf6920d4529)\" d=\"M 1072.226193 25.965375 \r\nL 1120.924375 25.965375 \r\nL 1120.924375 80.325375 \r\nL 1072.226193 80.325375 \r\nL 1072.226193 25.965375 \r\n\" style=\"fill:none;\"/>\r\n    <path clip-path=\"url(#pf6920d4529)\" d=\"M 1120.924375 25.965375 \r\nL 1169.622557 25.965375 \r\nL 1169.622557 80.325375 \r\nL 1120.924375 80.325375 \r\nL 1120.924375 25.965375 \r\n\" style=\"fill:#ccebc5;\"/>\r\n    <path clip-path=\"url(#pf6920d4529)\" d=\"M 1169.622557 25.965375 \r\nL 1218.320739 25.965375 \r\nL 1218.320739 80.325375 \r\nL 1169.622557 80.325375 \r\nL 1169.622557 25.965375 \r\n\" style=\"fill:none;\"/>\r\n    <path clip-path=\"url(#pf6920d4529)\" d=\"M 1218.320739 25.965375 \r\nL 1267.01892 25.965375 \r\nL 1267.01892 80.325375 \r\nL 1218.320739 80.325375 \r\nL 1218.320739 25.965375 \r\n\" style=\"fill:none;\"/>\r\n    <path clip-path=\"url(#pf6920d4529)\" d=\"M 780.037102 80.325375 \r\nL 828.735284 80.325375 \r\nL 828.735284 134.685375 \r\nL 780.037102 134.685375 \r\nL 780.037102 80.325375 \r\n\" style=\"fill:none;\"/>\r\n    <path clip-path=\"url(#pf6920d4529)\" d=\"M 828.735284 80.325375 \r\nL 877.433466 80.325375 \r\nL 877.433466 134.685375 \r\nL 828.735284 134.685375 \r\nL 828.735284 80.325375 \r\n\" style=\"fill:#f7fcf0;\"/>\r\n    <path clip-path=\"url(#pf6920d4529)\" d=\"M 877.433466 80.325375 \r\nL 926.131648 80.325375 \r\nL 926.131648 134.685375 \r\nL 877.433466 134.685375 \r\nL 877.433466 80.325375 \r\n\" style=\"fill:#7accc4;\"/>\r\n    <path clip-path=\"url(#pf6920d4529)\" d=\"M 926.131648 80.325375 \r\nL 974.82983 80.325375 \r\nL 974.82983 134.685375 \r\nL 926.131648 134.685375 \r\nL 926.131648 80.325375 \r\n\" style=\"fill:#f7fcf0;\"/>\r\n    <path clip-path=\"url(#pf6920d4529)\" d=\"M 974.82983 80.325375 \r\nL 1023.528011 80.325375 \r\nL 1023.528011 134.685375 \r\nL 974.82983 134.685375 \r\nL 974.82983 80.325375 \r\n\" style=\"fill:#e0f3db;\"/>\r\n    <path clip-path=\"url(#pf6920d4529)\" d=\"M 1023.528011 80.325375 \r\nL 1072.226193 80.325375 \r\nL 1072.226193 134.685375 \r\nL 1023.528011 134.685375 \r\nL 1023.528011 80.325375 \r\n\" style=\"fill:none;\"/>\r\n    <path clip-path=\"url(#pf6920d4529)\" d=\"M 1072.226193 80.325375 \r\nL 1120.924375 80.325375 \r\nL 1120.924375 134.685375 \r\nL 1072.226193 134.685375 \r\nL 1072.226193 80.325375 \r\n\" style=\"fill:#e0f3db;\"/>\r\n    <path clip-path=\"url(#pf6920d4529)\" d=\"M 1120.924375 80.325375 \r\nL 1169.622557 80.325375 \r\nL 1169.622557 134.685375 \r\nL 1120.924375 134.685375 \r\nL 1120.924375 80.325375 \r\n\" style=\"fill:none;\"/>\r\n    <path clip-path=\"url(#pf6920d4529)\" d=\"M 1169.622557 80.325375 \r\nL 1218.320739 80.325375 \r\nL 1218.320739 134.685375 \r\nL 1169.622557 134.685375 \r\nL 1169.622557 80.325375 \r\n\" style=\"fill:none;\"/>\r\n    <path clip-path=\"url(#pf6920d4529)\" d=\"M 1218.320739 80.325375 \r\nL 1267.01892 80.325375 \r\nL 1267.01892 134.685375 \r\nL 1218.320739 134.685375 \r\nL 1218.320739 80.325375 \r\n\" style=\"fill:#f7fcf0;\"/>\r\n    <path clip-path=\"url(#pf6920d4529)\" d=\"M 780.037102 134.685375 \r\nL 828.735284 134.685375 \r\nL 828.735284 189.045375 \r\nL 780.037102 189.045375 \r\nL 780.037102 134.685375 \r\n\" style=\"fill:#e0f3db;\"/>\r\n    <path clip-path=\"url(#pf6920d4529)\" d=\"M 828.735284 134.685375 \r\nL 877.433466 134.685375 \r\nL 877.433466 189.045375 \r\nL 828.735284 189.045375 \r\nL 828.735284 134.685375 \r\n\" style=\"fill:#0867ab;\"/>\r\n    <path clip-path=\"url(#pf6920d4529)\" d=\"M 877.433466 134.685375 \r\nL 926.131648 134.685375 \r\nL 926.131648 189.045375 \r\nL 877.433466 189.045375 \r\nL 877.433466 134.685375 \r\n\" style=\"fill:#084081;\"/>\r\n    <path clip-path=\"url(#pf6920d4529)\" d=\"M 926.131648 134.685375 \r\nL 974.82983 134.685375 \r\nL 974.82983 189.045375 \r\nL 926.131648 189.045375 \r\nL 926.131648 134.685375 \r\n\" style=\"fill:#4db2d3;\"/>\r\n    <path clip-path=\"url(#pf6920d4529)\" d=\"M 974.82983 134.685375 \r\nL 1023.528011 134.685375 \r\nL 1023.528011 189.045375 \r\nL 974.82983 189.045375 \r\nL 974.82983 134.685375 \r\n\" style=\"fill:#2a8bbe;\"/>\r\n    <path clip-path=\"url(#pf6920d4529)\" d=\"M 1023.528011 134.685375 \r\nL 1072.226193 134.685375 \r\nL 1072.226193 189.045375 \r\nL 1023.528011 189.045375 \r\nL 1023.528011 134.685375 \r\n\" style=\"fill:#084081;\"/>\r\n    <path clip-path=\"url(#pf6920d4529)\" d=\"M 1072.226193 134.685375 \r\nL 1120.924375 134.685375 \r\nL 1120.924375 189.045375 \r\nL 1072.226193 189.045375 \r\nL 1072.226193 134.685375 \r\n\" style=\"fill:#2a8bbe;\"/>\r\n    <path clip-path=\"url(#pf6920d4529)\" d=\"M 1120.924375 134.685375 \r\nL 1169.622557 134.685375 \r\nL 1169.622557 189.045375 \r\nL 1120.924375 189.045375 \r\nL 1120.924375 134.685375 \r\n\" style=\"fill:#e0f3db;\"/>\r\n    <path clip-path=\"url(#pf6920d4529)\" d=\"M 1169.622557 134.685375 \r\nL 1218.320739 134.685375 \r\nL 1218.320739 189.045375 \r\nL 1169.622557 189.045375 \r\nL 1169.622557 134.685375 \r\n\" style=\"fill:#f7fcf0;\"/>\r\n    <path clip-path=\"url(#pf6920d4529)\" d=\"M 1218.320739 134.685375 \r\nL 1267.01892 134.685375 \r\nL 1267.01892 189.045375 \r\nL 1218.320739 189.045375 \r\nL 1218.320739 134.685375 \r\n\" style=\"fill:#f7fcf0;\"/>\r\n    <path clip-path=\"url(#pf6920d4529)\" d=\"M 780.037102 189.045375 \r\nL 828.735284 189.045375 \r\nL 828.735284 243.405375 \r\nL 780.037102 243.405375 \r\nL 780.037102 189.045375 \r\n\" style=\"fill:none;\"/>\r\n    <path clip-path=\"url(#pf6920d4529)\" d=\"M 828.735284 189.045375 \r\nL 877.433466 189.045375 \r\nL 877.433466 243.405375 \r\nL 828.735284 243.405375 \r\nL 828.735284 189.045375 \r\n\" style=\"fill:none;\"/>\r\n    <path clip-path=\"url(#pf6920d4529)\" d=\"M 877.433466 189.045375 \r\nL 926.131648 189.045375 \r\nL 926.131648 243.405375 \r\nL 877.433466 243.405375 \r\nL 877.433466 189.045375 \r\n\" style=\"fill:#7accc4;\"/>\r\n    <path clip-path=\"url(#pf6920d4529)\" d=\"M 926.131648 189.045375 \r\nL 974.82983 189.045375 \r\nL 974.82983 243.405375 \r\nL 926.131648 243.405375 \r\nL 926.131648 189.045375 \r\n\" style=\"fill:#ccebc5;\"/>\r\n    <path clip-path=\"url(#pf6920d4529)\" d=\"M 974.82983 189.045375 \r\nL 1023.528011 189.045375 \r\nL 1023.528011 243.405375 \r\nL 974.82983 243.405375 \r\nL 974.82983 189.045375 \r\n\" style=\"fill:none;\"/>\r\n    <path clip-path=\"url(#pf6920d4529)\" d=\"M 1023.528011 189.045375 \r\nL 1072.226193 189.045375 \r\nL 1072.226193 243.405375 \r\nL 1023.528011 243.405375 \r\nL 1023.528011 189.045375 \r\n\" style=\"fill:none;\"/>\r\n    <path clip-path=\"url(#pf6920d4529)\" d=\"M 1072.226193 189.045375 \r\nL 1120.924375 189.045375 \r\nL 1120.924375 243.405375 \r\nL 1072.226193 243.405375 \r\nL 1072.226193 189.045375 \r\n\" style=\"fill:none;\"/>\r\n    <path clip-path=\"url(#pf6920d4529)\" d=\"M 1120.924375 189.045375 \r\nL 1169.622557 189.045375 \r\nL 1169.622557 243.405375 \r\nL 1120.924375 243.405375 \r\nL 1120.924375 189.045375 \r\n\" style=\"fill:none;\"/>\r\n    <path clip-path=\"url(#pf6920d4529)\" d=\"M 1169.622557 189.045375 \r\nL 1218.320739 189.045375 \r\nL 1218.320739 243.405375 \r\nL 1169.622557 243.405375 \r\nL 1169.622557 189.045375 \r\n\" style=\"fill:none;\"/>\r\n    <path clip-path=\"url(#pf6920d4529)\" d=\"M 1218.320739 189.045375 \r\nL 1267.01892 189.045375 \r\nL 1267.01892 243.405375 \r\nL 1218.320739 243.405375 \r\nL 1218.320739 189.045375 \r\n\" style=\"fill:none;\"/>\r\n   </g>\r\n   <g id=\"matplotlib.axis_3\">\r\n    <g id=\"xtick_5\">\r\n     <g id=\"line2d_10\">\r\n      <g>\r\n       <use style=\"stroke:#000000;stroke-width:0.8;\" x=\"804.386193\" xlink:href=\"#m5232e01392\" y=\"243.405375\"/>\r\n      </g>\r\n     </g>\r\n     <g id=\"text_12\">\r\n      <!-- [4000, 6000[ -->\r\n      <defs>\r\n       <path d=\"M 8.59375 75.984375 \r\nL 29.296875 75.984375 \r\nL 29.296875 69 \r\nL 17.578125 69 \r\nL 17.578125 -6.203125 \r\nL 29.296875 -6.203125 \r\nL 29.296875 -13.1875 \r\nL 8.59375 -13.1875 \r\nz\r\n\" id=\"DejaVuSans-91\"/>\r\n       <path d=\"M 11.71875 12.40625 \r\nL 22.015625 12.40625 \r\nL 22.015625 4 \r\nL 14.015625 -11.625 \r\nL 7.71875 -11.625 \r\nL 11.71875 4 \r\nz\r\n\" id=\"DejaVuSans-44\"/>\r\n       <path id=\"DejaVuSans-32\"/>\r\n      </defs>\r\n      <g transform=\"translate(808.249318 341.4885)rotate(-90)scale(0.14 -0.14)\">\r\n       <use xlink:href=\"#DejaVuSans-91\"/>\r\n       <use x=\"39.013672\" xlink:href=\"#DejaVuSans-52\"/>\r\n       <use x=\"102.636719\" xlink:href=\"#DejaVuSans-48\"/>\r\n       <use x=\"166.259766\" xlink:href=\"#DejaVuSans-48\"/>\r\n       <use x=\"229.882812\" xlink:href=\"#DejaVuSans-48\"/>\r\n       <use x=\"293.505859\" xlink:href=\"#DejaVuSans-44\"/>\r\n       <use x=\"325.292969\" xlink:href=\"#DejaVuSans-32\"/>\r\n       <use x=\"357.080078\" xlink:href=\"#DejaVuSans-54\"/>\r\n       <use x=\"420.703125\" xlink:href=\"#DejaVuSans-48\"/>\r\n       <use x=\"484.326172\" xlink:href=\"#DejaVuSans-48\"/>\r\n       <use x=\"547.949219\" xlink:href=\"#DejaVuSans-48\"/>\r\n       <use x=\"611.572266\" xlink:href=\"#DejaVuSans-91\"/>\r\n      </g>\r\n     </g>\r\n    </g>\r\n    <g id=\"xtick_6\">\r\n     <g id=\"line2d_11\">\r\n      <g>\r\n       <use style=\"stroke:#000000;stroke-width:0.8;\" x=\"853.084375\" xlink:href=\"#m5232e01392\" y=\"243.405375\"/>\r\n      </g>\r\n     </g>\r\n     <g id=\"text_13\">\r\n      <!-- [6000, 8000[ -->\r\n      <g transform=\"translate(856.9475 341.4885)rotate(-90)scale(0.14 -0.14)\">\r\n       <use xlink:href=\"#DejaVuSans-91\"/>\r\n       <use x=\"39.013672\" xlink:href=\"#DejaVuSans-54\"/>\r\n       <use x=\"102.636719\" xlink:href=\"#DejaVuSans-48\"/>\r\n       <use x=\"166.259766\" xlink:href=\"#DejaVuSans-48\"/>\r\n       <use x=\"229.882812\" xlink:href=\"#DejaVuSans-48\"/>\r\n       <use x=\"293.505859\" xlink:href=\"#DejaVuSans-44\"/>\r\n       <use x=\"325.292969\" xlink:href=\"#DejaVuSans-32\"/>\r\n       <use x=\"357.080078\" xlink:href=\"#DejaVuSans-56\"/>\r\n       <use x=\"420.703125\" xlink:href=\"#DejaVuSans-48\"/>\r\n       <use x=\"484.326172\" xlink:href=\"#DejaVuSans-48\"/>\r\n       <use x=\"547.949219\" xlink:href=\"#DejaVuSans-48\"/>\r\n       <use x=\"611.572266\" xlink:href=\"#DejaVuSans-91\"/>\r\n      </g>\r\n     </g>\r\n    </g>\r\n    <g id=\"xtick_7\">\r\n     <g id=\"line2d_12\">\r\n      <g>\r\n       <use style=\"stroke:#000000;stroke-width:0.8;\" x=\"901.782557\" xlink:href=\"#m5232e01392\" y=\"243.405375\"/>\r\n      </g>\r\n     </g>\r\n     <g id=\"text_14\">\r\n      <!-- [8000, 10000[ -->\r\n      <defs>\r\n       <path d=\"M 12.40625 8.296875 \r\nL 28.515625 8.296875 \r\nL 28.515625 63.921875 \r\nL 10.984375 60.40625 \r\nL 10.984375 69.390625 \r\nL 28.421875 72.90625 \r\nL 38.28125 72.90625 \r\nL 38.28125 8.296875 \r\nL 54.390625 8.296875 \r\nL 54.390625 0 \r\nL 12.40625 0 \r\nz\r\n\" id=\"DejaVuSans-49\"/>\r\n      </defs>\r\n      <g transform=\"translate(905.645682 350.396)rotate(-90)scale(0.14 -0.14)\">\r\n       <use xlink:href=\"#DejaVuSans-91\"/>\r\n       <use x=\"39.013672\" xlink:href=\"#DejaVuSans-56\"/>\r\n       <use x=\"102.636719\" xlink:href=\"#DejaVuSans-48\"/>\r\n       <use x=\"166.259766\" xlink:href=\"#DejaVuSans-48\"/>\r\n       <use x=\"229.882812\" xlink:href=\"#DejaVuSans-48\"/>\r\n       <use x=\"293.505859\" xlink:href=\"#DejaVuSans-44\"/>\r\n       <use x=\"325.292969\" xlink:href=\"#DejaVuSans-32\"/>\r\n       <use x=\"357.080078\" xlink:href=\"#DejaVuSans-49\"/>\r\n       <use x=\"420.703125\" xlink:href=\"#DejaVuSans-48\"/>\r\n       <use x=\"484.326172\" xlink:href=\"#DejaVuSans-48\"/>\r\n       <use x=\"547.949219\" xlink:href=\"#DejaVuSans-48\"/>\r\n       <use x=\"611.572266\" xlink:href=\"#DejaVuSans-48\"/>\r\n       <use x=\"675.195312\" xlink:href=\"#DejaVuSans-91\"/>\r\n      </g>\r\n     </g>\r\n    </g>\r\n    <g id=\"xtick_8\">\r\n     <g id=\"line2d_13\">\r\n      <g>\r\n       <use style=\"stroke:#000000;stroke-width:0.8;\" x=\"950.480739\" xlink:href=\"#m5232e01392\" y=\"243.405375\"/>\r\n      </g>\r\n     </g>\r\n     <g id=\"text_15\">\r\n      <!-- [10000, 12000[ -->\r\n      <g transform=\"translate(954.343864 359.3035)rotate(-90)scale(0.14 -0.14)\">\r\n       <use xlink:href=\"#DejaVuSans-91\"/>\r\n       <use x=\"39.013672\" xlink:href=\"#DejaVuSans-49\"/>\r\n       <use x=\"102.636719\" xlink:href=\"#DejaVuSans-48\"/>\r\n       <use x=\"166.259766\" xlink:href=\"#DejaVuSans-48\"/>\r\n       <use x=\"229.882812\" xlink:href=\"#DejaVuSans-48\"/>\r\n       <use x=\"293.505859\" xlink:href=\"#DejaVuSans-48\"/>\r\n       <use x=\"357.128906\" xlink:href=\"#DejaVuSans-44\"/>\r\n       <use x=\"388.916016\" xlink:href=\"#DejaVuSans-32\"/>\r\n       <use x=\"420.703125\" xlink:href=\"#DejaVuSans-49\"/>\r\n       <use x=\"484.326172\" xlink:href=\"#DejaVuSans-50\"/>\r\n       <use x=\"547.949219\" xlink:href=\"#DejaVuSans-48\"/>\r\n       <use x=\"611.572266\" xlink:href=\"#DejaVuSans-48\"/>\r\n       <use x=\"675.195312\" xlink:href=\"#DejaVuSans-48\"/>\r\n       <use x=\"738.818359\" xlink:href=\"#DejaVuSans-91\"/>\r\n      </g>\r\n     </g>\r\n    </g>\r\n    <g id=\"xtick_9\">\r\n     <g id=\"line2d_14\">\r\n      <g>\r\n       <use style=\"stroke:#000000;stroke-width:0.8;\" x=\"999.17892\" xlink:href=\"#m5232e01392\" y=\"243.405375\"/>\r\n      </g>\r\n     </g>\r\n     <g id=\"text_16\">\r\n      <!-- [12000, 14000[ -->\r\n      <g transform=\"translate(1003.042045 359.3035)rotate(-90)scale(0.14 -0.14)\">\r\n       <use xlink:href=\"#DejaVuSans-91\"/>\r\n       <use x=\"39.013672\" xlink:href=\"#DejaVuSans-49\"/>\r\n       <use x=\"102.636719\" xlink:href=\"#DejaVuSans-50\"/>\r\n       <use x=\"166.259766\" xlink:href=\"#DejaVuSans-48\"/>\r\n       <use x=\"229.882812\" xlink:href=\"#DejaVuSans-48\"/>\r\n       <use x=\"293.505859\" xlink:href=\"#DejaVuSans-48\"/>\r\n       <use x=\"357.128906\" xlink:href=\"#DejaVuSans-44\"/>\r\n       <use x=\"388.916016\" xlink:href=\"#DejaVuSans-32\"/>\r\n       <use x=\"420.703125\" xlink:href=\"#DejaVuSans-49\"/>\r\n       <use x=\"484.326172\" xlink:href=\"#DejaVuSans-52\"/>\r\n       <use x=\"547.949219\" xlink:href=\"#DejaVuSans-48\"/>\r\n       <use x=\"611.572266\" xlink:href=\"#DejaVuSans-48\"/>\r\n       <use x=\"675.195312\" xlink:href=\"#DejaVuSans-48\"/>\r\n       <use x=\"738.818359\" xlink:href=\"#DejaVuSans-91\"/>\r\n      </g>\r\n     </g>\r\n    </g>\r\n    <g id=\"xtick_10\">\r\n     <g id=\"line2d_15\">\r\n      <g>\r\n       <use style=\"stroke:#000000;stroke-width:0.8;\" x=\"1047.877102\" xlink:href=\"#m5232e01392\" y=\"243.405375\"/>\r\n      </g>\r\n     </g>\r\n     <g id=\"text_17\">\r\n      <!-- [14000, 16000[ -->\r\n      <g transform=\"translate(1051.740227 359.3035)rotate(-90)scale(0.14 -0.14)\">\r\n       <use xlink:href=\"#DejaVuSans-91\"/>\r\n       <use x=\"39.013672\" xlink:href=\"#DejaVuSans-49\"/>\r\n       <use x=\"102.636719\" xlink:href=\"#DejaVuSans-52\"/>\r\n       <use x=\"166.259766\" xlink:href=\"#DejaVuSans-48\"/>\r\n       <use x=\"229.882812\" xlink:href=\"#DejaVuSans-48\"/>\r\n       <use x=\"293.505859\" xlink:href=\"#DejaVuSans-48\"/>\r\n       <use x=\"357.128906\" xlink:href=\"#DejaVuSans-44\"/>\r\n       <use x=\"388.916016\" xlink:href=\"#DejaVuSans-32\"/>\r\n       <use x=\"420.703125\" xlink:href=\"#DejaVuSans-49\"/>\r\n       <use x=\"484.326172\" xlink:href=\"#DejaVuSans-54\"/>\r\n       <use x=\"547.949219\" xlink:href=\"#DejaVuSans-48\"/>\r\n       <use x=\"611.572266\" xlink:href=\"#DejaVuSans-48\"/>\r\n       <use x=\"675.195312\" xlink:href=\"#DejaVuSans-48\"/>\r\n       <use x=\"738.818359\" xlink:href=\"#DejaVuSans-91\"/>\r\n      </g>\r\n     </g>\r\n    </g>\r\n    <g id=\"xtick_11\">\r\n     <g id=\"line2d_16\">\r\n      <g>\r\n       <use style=\"stroke:#000000;stroke-width:0.8;\" x=\"1096.575284\" xlink:href=\"#m5232e01392\" y=\"243.405375\"/>\r\n      </g>\r\n     </g>\r\n     <g id=\"text_18\">\r\n      <!-- [16000, 18000[ -->\r\n      <g transform=\"translate(1100.438409 359.3035)rotate(-90)scale(0.14 -0.14)\">\r\n       <use xlink:href=\"#DejaVuSans-91\"/>\r\n       <use x=\"39.013672\" xlink:href=\"#DejaVuSans-49\"/>\r\n       <use x=\"102.636719\" xlink:href=\"#DejaVuSans-54\"/>\r\n       <use x=\"166.259766\" xlink:href=\"#DejaVuSans-48\"/>\r\n       <use x=\"229.882812\" xlink:href=\"#DejaVuSans-48\"/>\r\n       <use x=\"293.505859\" xlink:href=\"#DejaVuSans-48\"/>\r\n       <use x=\"357.128906\" xlink:href=\"#DejaVuSans-44\"/>\r\n       <use x=\"388.916016\" xlink:href=\"#DejaVuSans-32\"/>\r\n       <use x=\"420.703125\" xlink:href=\"#DejaVuSans-49\"/>\r\n       <use x=\"484.326172\" xlink:href=\"#DejaVuSans-56\"/>\r\n       <use x=\"547.949219\" xlink:href=\"#DejaVuSans-48\"/>\r\n       <use x=\"611.572266\" xlink:href=\"#DejaVuSans-48\"/>\r\n       <use x=\"675.195312\" xlink:href=\"#DejaVuSans-48\"/>\r\n       <use x=\"738.818359\" xlink:href=\"#DejaVuSans-91\"/>\r\n      </g>\r\n     </g>\r\n    </g>\r\n    <g id=\"xtick_12\">\r\n     <g id=\"line2d_17\">\r\n      <g>\r\n       <use style=\"stroke:#000000;stroke-width:0.8;\" x=\"1145.273466\" xlink:href=\"#m5232e01392\" y=\"243.405375\"/>\r\n      </g>\r\n     </g>\r\n     <g id=\"text_19\">\r\n      <!-- [18000, 20000[ -->\r\n      <g transform=\"translate(1149.136591 359.3035)rotate(-90)scale(0.14 -0.14)\">\r\n       <use xlink:href=\"#DejaVuSans-91\"/>\r\n       <use x=\"39.013672\" xlink:href=\"#DejaVuSans-49\"/>\r\n       <use x=\"102.636719\" xlink:href=\"#DejaVuSans-56\"/>\r\n       <use x=\"166.259766\" xlink:href=\"#DejaVuSans-48\"/>\r\n       <use x=\"229.882812\" xlink:href=\"#DejaVuSans-48\"/>\r\n       <use x=\"293.505859\" xlink:href=\"#DejaVuSans-48\"/>\r\n       <use x=\"357.128906\" xlink:href=\"#DejaVuSans-44\"/>\r\n       <use x=\"388.916016\" xlink:href=\"#DejaVuSans-32\"/>\r\n       <use x=\"420.703125\" xlink:href=\"#DejaVuSans-50\"/>\r\n       <use x=\"484.326172\" xlink:href=\"#DejaVuSans-48\"/>\r\n       <use x=\"547.949219\" xlink:href=\"#DejaVuSans-48\"/>\r\n       <use x=\"611.572266\" xlink:href=\"#DejaVuSans-48\"/>\r\n       <use x=\"675.195312\" xlink:href=\"#DejaVuSans-48\"/>\r\n       <use x=\"738.818359\" xlink:href=\"#DejaVuSans-91\"/>\r\n      </g>\r\n     </g>\r\n    </g>\r\n    <g id=\"xtick_13\">\r\n     <g id=\"line2d_18\">\r\n      <g>\r\n       <use style=\"stroke:#000000;stroke-width:0.8;\" x=\"1193.971648\" xlink:href=\"#m5232e01392\" y=\"243.405375\"/>\r\n      </g>\r\n     </g>\r\n     <g id=\"text_20\">\r\n      <!-- [20000, 22000[ -->\r\n      <g transform=\"translate(1197.834773 359.3035)rotate(-90)scale(0.14 -0.14)\">\r\n       <use xlink:href=\"#DejaVuSans-91\"/>\r\n       <use x=\"39.013672\" xlink:href=\"#DejaVuSans-50\"/>\r\n       <use x=\"102.636719\" xlink:href=\"#DejaVuSans-48\"/>\r\n       <use x=\"166.259766\" xlink:href=\"#DejaVuSans-48\"/>\r\n       <use x=\"229.882812\" xlink:href=\"#DejaVuSans-48\"/>\r\n       <use x=\"293.505859\" xlink:href=\"#DejaVuSans-48\"/>\r\n       <use x=\"357.128906\" xlink:href=\"#DejaVuSans-44\"/>\r\n       <use x=\"388.916016\" xlink:href=\"#DejaVuSans-32\"/>\r\n       <use x=\"420.703125\" xlink:href=\"#DejaVuSans-50\"/>\r\n       <use x=\"484.326172\" xlink:href=\"#DejaVuSans-50\"/>\r\n       <use x=\"547.949219\" xlink:href=\"#DejaVuSans-48\"/>\r\n       <use x=\"611.572266\" xlink:href=\"#DejaVuSans-48\"/>\r\n       <use x=\"675.195312\" xlink:href=\"#DejaVuSans-48\"/>\r\n       <use x=\"738.818359\" xlink:href=\"#DejaVuSans-91\"/>\r\n      </g>\r\n     </g>\r\n    </g>\r\n    <g id=\"xtick_14\">\r\n     <g id=\"line2d_19\">\r\n      <g>\r\n       <use style=\"stroke:#000000;stroke-width:0.8;\" x=\"1242.66983\" xlink:href=\"#m5232e01392\" y=\"243.405375\"/>\r\n      </g>\r\n     </g>\r\n     <g id=\"text_21\">\r\n      <!-- [22000, 24000[ -->\r\n      <g transform=\"translate(1246.532955 359.3035)rotate(-90)scale(0.14 -0.14)\">\r\n       <use xlink:href=\"#DejaVuSans-91\"/>\r\n       <use x=\"39.013672\" xlink:href=\"#DejaVuSans-50\"/>\r\n       <use x=\"102.636719\" xlink:href=\"#DejaVuSans-50\"/>\r\n       <use x=\"166.259766\" xlink:href=\"#DejaVuSans-48\"/>\r\n       <use x=\"229.882812\" xlink:href=\"#DejaVuSans-48\"/>\r\n       <use x=\"293.505859\" xlink:href=\"#DejaVuSans-48\"/>\r\n       <use x=\"357.128906\" xlink:href=\"#DejaVuSans-44\"/>\r\n       <use x=\"388.916016\" xlink:href=\"#DejaVuSans-32\"/>\r\n       <use x=\"420.703125\" xlink:href=\"#DejaVuSans-50\"/>\r\n       <use x=\"484.326172\" xlink:href=\"#DejaVuSans-52\"/>\r\n       <use x=\"547.949219\" xlink:href=\"#DejaVuSans-48\"/>\r\n       <use x=\"611.572266\" xlink:href=\"#DejaVuSans-48\"/>\r\n       <use x=\"675.195312\" xlink:href=\"#DejaVuSans-48\"/>\r\n       <use x=\"738.818359\" xlink:href=\"#DejaVuSans-91\"/>\r\n      </g>\r\n     </g>\r\n    </g>\r\n    <g id=\"text_22\">\r\n     <!-- pp_total_raw -->\r\n     <defs>\r\n      <path d=\"M 18.109375 8.203125 \r\nL 18.109375 -20.796875 \r\nL 9.078125 -20.796875 \r\nL 9.078125 54.6875 \r\nL 18.109375 54.6875 \r\nL 18.109375 46.390625 \r\nQ 20.953125 51.265625 25.265625 53.625 \r\nQ 29.59375 56 35.59375 56 \r\nQ 45.5625 56 51.78125 48.09375 \r\nQ 58.015625 40.1875 58.015625 27.296875 \r\nQ 58.015625 14.40625 51.78125 6.484375 \r\nQ 45.5625 -1.421875 35.59375 -1.421875 \r\nQ 29.59375 -1.421875 25.265625 0.953125 \r\nQ 20.953125 3.328125 18.109375 8.203125 \r\nz\r\nM 48.6875 27.296875 \r\nQ 48.6875 37.203125 44.609375 42.84375 \r\nQ 40.53125 48.484375 33.40625 48.484375 \r\nQ 26.265625 48.484375 22.1875 42.84375 \r\nQ 18.109375 37.203125 18.109375 27.296875 \r\nQ 18.109375 17.390625 22.1875 11.75 \r\nQ 26.265625 6.109375 33.40625 6.109375 \r\nQ 40.53125 6.109375 44.609375 11.75 \r\nQ 48.6875 17.390625 48.6875 27.296875 \r\nz\r\n\" id=\"DejaVuSans-112\"/>\r\n      <path d=\"M 50.984375 -16.609375 \r\nL 50.984375 -23.578125 \r\nL -0.984375 -23.578125 \r\nL -0.984375 -16.609375 \r\nz\r\n\" id=\"DejaVuSans-95\"/>\r\n     </defs>\r\n     <g transform=\"translate(978.74223 373.941312)scale(0.14 -0.14)\">\r\n      <use xlink:href=\"#DejaVuSans-112\"/>\r\n      <use x=\"63.476562\" xlink:href=\"#DejaVuSans-112\"/>\r\n      <use x=\"126.953125\" xlink:href=\"#DejaVuSans-95\"/>\r\n      <use x=\"176.953125\" xlink:href=\"#DejaVuSans-116\"/>\r\n      <use x=\"216.162109\" xlink:href=\"#DejaVuSans-111\"/>\r\n      <use x=\"277.34375\" xlink:href=\"#DejaVuSans-116\"/>\r\n      <use x=\"316.552734\" xlink:href=\"#DejaVuSans-97\"/>\r\n      <use x=\"377.832031\" xlink:href=\"#DejaVuSans-108\"/>\r\n      <use x=\"405.615234\" xlink:href=\"#DejaVuSans-95\"/>\r\n      <use x=\"455.615234\" xlink:href=\"#DejaVuSans-114\"/>\r\n      <use x=\"496.728516\" xlink:href=\"#DejaVuSans-97\"/>\r\n      <use x=\"558.007812\" xlink:href=\"#DejaVuSans-119\"/>\r\n     </g>\r\n    </g>\r\n   </g>\r\n   <g id=\"matplotlib.axis_4\">\r\n    <g id=\"ytick_6\">\r\n     <g id=\"line2d_20\">\r\n      <g>\r\n       <use style=\"stroke:#000000;stroke-width:0.8;\" x=\"780.037102\" xlink:href=\"#m3d530c78e4\" y=\"53.145375\"/>\r\n      </g>\r\n     </g>\r\n     <g id=\"text_23\">\r\n      <!-- City -->\r\n      <g transform=\"translate(770.12554 75.266469)rotate(-90)scale(0.14 -0.14)\">\r\n       <use xlink:href=\"#DejaVuSans-67\"/>\r\n       <use x=\"69.824219\" xlink:href=\"#DejaVuSans-105\"/>\r\n       <use x=\"97.607422\" xlink:href=\"#DejaVuSans-116\"/>\r\n       <use x=\"136.816406\" xlink:href=\"#DejaVuSans-121\"/>\r\n      </g>\r\n     </g>\r\n    </g>\r\n    <g id=\"ytick_7\">\r\n     <g id=\"line2d_21\">\r\n      <g>\r\n       <use style=\"stroke:#000000;stroke-width:0.8;\" x=\"780.037102\" xlink:href=\"#m3d530c78e4\" y=\"107.505375\"/>\r\n      </g>\r\n     </g>\r\n     <g id=\"text_24\">\r\n      <!-- Rural -->\r\n      <g transform=\"translate(770.12554 138.380844)rotate(-90)scale(0.14 -0.14)\">\r\n       <use xlink:href=\"#DejaVuSans-82\"/>\r\n       <use x=\"64.982422\" xlink:href=\"#DejaVuSans-117\"/>\r\n       <use x=\"128.361328\" xlink:href=\"#DejaVuSans-114\"/>\r\n       <use x=\"169.474609\" xlink:href=\"#DejaVuSans-97\"/>\r\n       <use x=\"230.753906\" xlink:href=\"#DejaVuSans-108\"/>\r\n      </g>\r\n     </g>\r\n    </g>\r\n    <g id=\"ytick_8\">\r\n     <g id=\"line2d_22\">\r\n      <g>\r\n       <use style=\"stroke:#000000;stroke-width:0.8;\" x=\"780.037102\" xlink:href=\"#m3d530c78e4\" y=\"161.865375\"/>\r\n      </g>\r\n     </g>\r\n     <g id=\"text_25\">\r\n      <!-- Suburb -->\r\n      <g transform=\"translate(770.12554 206.710219)rotate(-90)scale(0.14 -0.14)\">\r\n       <use xlink:href=\"#DejaVuSans-83\"/>\r\n       <use x=\"63.476562\" xlink:href=\"#DejaVuSans-117\"/>\r\n       <use x=\"126.855469\" xlink:href=\"#DejaVuSans-98\"/>\r\n       <use x=\"190.332031\" xlink:href=\"#DejaVuSans-117\"/>\r\n       <use x=\"253.710938\" xlink:href=\"#DejaVuSans-114\"/>\r\n       <use x=\"294.824219\" xlink:href=\"#DejaVuSans-98\"/>\r\n      </g>\r\n     </g>\r\n    </g>\r\n    <g id=\"ytick_9\">\r\n     <g id=\"line2d_23\">\r\n      <g>\r\n       <use style=\"stroke:#000000;stroke-width:0.8;\" x=\"780.037102\" xlink:href=\"#m3d530c78e4\" y=\"216.225375\"/>\r\n      </g>\r\n     </g>\r\n     <g id=\"text_26\">\r\n      <!-- Town -->\r\n      <g transform=\"translate(770.12554 245.965531)rotate(-90)scale(0.14 -0.14)\">\r\n       <use xlink:href=\"#DejaVuSans-84\"/>\r\n       <use x=\"44.083984\" xlink:href=\"#DejaVuSans-111\"/>\r\n       <use x=\"105.265625\" xlink:href=\"#DejaVuSans-119\"/>\r\n       <use x=\"187.052734\" xlink:href=\"#DejaVuSans-110\"/>\r\n      </g>\r\n     </g>\r\n    </g>\r\n    <g id=\"text_27\">\r\n     <!-- locale -->\r\n     <g transform=\"translate(752.576165 155.303656)rotate(-90)scale(0.14 -0.14)\">\r\n      <use xlink:href=\"#DejaVuSans-108\"/>\r\n      <use x=\"27.783203\" xlink:href=\"#DejaVuSans-111\"/>\r\n      <use x=\"88.964844\" xlink:href=\"#DejaVuSans-99\"/>\r\n      <use x=\"143.945312\" xlink:href=\"#DejaVuSans-97\"/>\r\n      <use x=\"205.224609\" xlink:href=\"#DejaVuSans-108\"/>\r\n      <use x=\"233.007812\" xlink:href=\"#DejaVuSans-101\"/>\r\n     </g>\r\n    </g>\r\n   </g>\r\n   <g id=\"text_28\">\r\n    <!-- 1 -->\r\n    <g style=\"fill:#262626;\" transform=\"translate(848.630625 57.0085)scale(0.14 -0.14)\">\r\n     <use xlink:href=\"#DejaVuSans-49\"/>\r\n    </g>\r\n   </g>\r\n   <g id=\"text_29\">\r\n    <!-- 3 -->\r\n    <defs>\r\n     <path d=\"M 40.578125 39.3125 \r\nQ 47.65625 37.796875 51.625 33 \r\nQ 55.609375 28.21875 55.609375 21.1875 \r\nQ 55.609375 10.40625 48.1875 4.484375 \r\nQ 40.765625 -1.421875 27.09375 -1.421875 \r\nQ 22.515625 -1.421875 17.65625 -0.515625 \r\nQ 12.796875 0.390625 7.625 2.203125 \r\nL 7.625 11.71875 \r\nQ 11.71875 9.328125 16.59375 8.109375 \r\nQ 21.484375 6.890625 26.8125 6.890625 \r\nQ 36.078125 6.890625 40.9375 10.546875 \r\nQ 45.796875 14.203125 45.796875 21.1875 \r\nQ 45.796875 27.640625 41.28125 31.265625 \r\nQ 36.765625 34.90625 28.71875 34.90625 \r\nL 20.21875 34.90625 \r\nL 20.21875 43.015625 \r\nL 29.109375 43.015625 \r\nQ 36.375 43.015625 40.234375 45.921875 \r\nQ 44.09375 48.828125 44.09375 54.296875 \r\nQ 44.09375 59.90625 40.109375 62.90625 \r\nQ 36.140625 65.921875 28.71875 65.921875 \r\nQ 24.65625 65.921875 20.015625 65.03125 \r\nQ 15.375 64.15625 9.8125 62.3125 \r\nL 9.8125 71.09375 \r\nQ 15.4375 72.65625 20.34375 73.4375 \r\nQ 25.25 74.21875 29.59375 74.21875 \r\nQ 40.828125 74.21875 47.359375 69.109375 \r\nQ 53.90625 64.015625 53.90625 55.328125 \r\nQ 53.90625 49.265625 50.4375 45.09375 \r\nQ 46.96875 40.921875 40.578125 39.3125 \r\nz\r\n\" id=\"DejaVuSans-51\"/>\r\n    </defs>\r\n    <g style=\"fill:#262626;\" transform=\"translate(897.328807 57.0085)scale(0.14 -0.14)\">\r\n     <use xlink:href=\"#DejaVuSans-51\"/>\r\n    </g>\r\n   </g>\r\n   <g id=\"text_30\">\r\n    <!-- 2 -->\r\n    <g style=\"fill:#262626;\" transform=\"translate(946.026989 57.0085)scale(0.14 -0.14)\">\r\n     <use xlink:href=\"#DejaVuSans-50\"/>\r\n    </g>\r\n   </g>\r\n   <g id=\"text_31\">\r\n    <!-- 2 -->\r\n    <g style=\"fill:#262626;\" transform=\"translate(994.72517 57.0085)scale(0.14 -0.14)\">\r\n     <use xlink:href=\"#DejaVuSans-50\"/>\r\n    </g>\r\n   </g>\r\n   <g id=\"text_32\">\r\n    <!-- 1 -->\r\n    <g style=\"fill:#262626;\" transform=\"translate(1043.423352 57.0085)scale(0.14 -0.14)\">\r\n     <use xlink:href=\"#DejaVuSans-49\"/>\r\n    </g>\r\n   </g>\r\n   <g id=\"text_33\">\r\n    <!-- 3 -->\r\n    <g style=\"fill:#262626;\" transform=\"translate(1140.819716 57.0085)scale(0.14 -0.14)\">\r\n     <use xlink:href=\"#DejaVuSans-51\"/>\r\n    </g>\r\n   </g>\r\n   <g id=\"text_34\">\r\n    <!-- 1 -->\r\n    <g style=\"fill:#262626;\" transform=\"translate(848.630625 111.3685)scale(0.14 -0.14)\">\r\n     <use xlink:href=\"#DejaVuSans-49\"/>\r\n    </g>\r\n   </g>\r\n   <g id=\"text_35\">\r\n    <!-- 5 -->\r\n    <defs>\r\n     <path d=\"M 10.796875 72.90625 \r\nL 49.515625 72.90625 \r\nL 49.515625 64.59375 \r\nL 19.828125 64.59375 \r\nL 19.828125 46.734375 \r\nQ 21.96875 47.46875 24.109375 47.828125 \r\nQ 26.265625 48.1875 28.421875 48.1875 \r\nQ 40.625 48.1875 47.75 41.5 \r\nQ 54.890625 34.8125 54.890625 23.390625 \r\nQ 54.890625 11.625 47.5625 5.09375 \r\nQ 40.234375 -1.421875 26.90625 -1.421875 \r\nQ 22.3125 -1.421875 17.546875 -0.640625 \r\nQ 12.796875 0.140625 7.71875 1.703125 \r\nL 7.71875 11.625 \r\nQ 12.109375 9.234375 16.796875 8.0625 \r\nQ 21.484375 6.890625 26.703125 6.890625 \r\nQ 35.15625 6.890625 40.078125 11.328125 \r\nQ 45.015625 15.765625 45.015625 23.390625 \r\nQ 45.015625 31 40.078125 35.4375 \r\nQ 35.15625 39.890625 26.703125 39.890625 \r\nQ 22.75 39.890625 18.8125 39.015625 \r\nQ 14.890625 38.140625 10.796875 36.28125 \r\nz\r\n\" id=\"DejaVuSans-53\"/>\r\n    </defs>\r\n    <g style=\"fill:#262626;\" transform=\"translate(897.328807 111.3685)scale(0.14 -0.14)\">\r\n     <use xlink:href=\"#DejaVuSans-53\"/>\r\n    </g>\r\n   </g>\r\n   <g id=\"text_36\">\r\n    <!-- 1 -->\r\n    <g style=\"fill:#262626;\" transform=\"translate(946.026989 111.3685)scale(0.14 -0.14)\">\r\n     <use xlink:href=\"#DejaVuSans-49\"/>\r\n    </g>\r\n   </g>\r\n   <g id=\"text_37\">\r\n    <!-- 2 -->\r\n    <g style=\"fill:#262626;\" transform=\"translate(994.72517 111.3685)scale(0.14 -0.14)\">\r\n     <use xlink:href=\"#DejaVuSans-50\"/>\r\n    </g>\r\n   </g>\r\n   <g id=\"text_38\">\r\n    <!-- 2 -->\r\n    <g style=\"fill:#262626;\" transform=\"translate(1092.121534 111.3685)scale(0.14 -0.14)\">\r\n     <use xlink:href=\"#DejaVuSans-50\"/>\r\n    </g>\r\n   </g>\r\n   <g id=\"text_39\">\r\n    <!-- 1 -->\r\n    <g style=\"fill:#262626;\" transform=\"translate(1238.21608 111.3685)scale(0.14 -0.14)\">\r\n     <use xlink:href=\"#DejaVuSans-49\"/>\r\n    </g>\r\n   </g>\r\n   <g id=\"text_40\">\r\n    <!-- 2 -->\r\n    <g style=\"fill:#262626;\" transform=\"translate(799.932443 165.7285)scale(0.14 -0.14)\">\r\n     <use xlink:href=\"#DejaVuSans-50\"/>\r\n    </g>\r\n   </g>\r\n   <g id=\"text_41\">\r\n    <!-- 8 -->\r\n    <g style=\"fill:#ffffff;\" transform=\"translate(848.630625 165.7285)scale(0.14 -0.14)\">\r\n     <use xlink:href=\"#DejaVuSans-56\"/>\r\n    </g>\r\n   </g>\r\n   <g id=\"text_42\">\r\n    <!-- 9 -->\r\n    <defs>\r\n     <path d=\"M 10.984375 1.515625 \r\nL 10.984375 10.5 \r\nQ 14.703125 8.734375 18.5 7.8125 \r\nQ 22.3125 6.890625 25.984375 6.890625 \r\nQ 35.75 6.890625 40.890625 13.453125 \r\nQ 46.046875 20.015625 46.78125 33.40625 \r\nQ 43.953125 29.203125 39.59375 26.953125 \r\nQ 35.25 24.703125 29.984375 24.703125 \r\nQ 19.046875 24.703125 12.671875 31.3125 \r\nQ 6.296875 37.9375 6.296875 49.421875 \r\nQ 6.296875 60.640625 12.9375 67.421875 \r\nQ 19.578125 74.21875 30.609375 74.21875 \r\nQ 43.265625 74.21875 49.921875 64.515625 \r\nQ 56.59375 54.828125 56.59375 36.375 \r\nQ 56.59375 19.140625 48.40625 8.859375 \r\nQ 40.234375 -1.421875 26.421875 -1.421875 \r\nQ 22.703125 -1.421875 18.890625 -0.6875 \r\nQ 15.09375 0.046875 10.984375 1.515625 \r\nz\r\nM 30.609375 32.421875 \r\nQ 37.25 32.421875 41.125 36.953125 \r\nQ 45.015625 41.5 45.015625 49.421875 \r\nQ 45.015625 57.28125 41.125 61.84375 \r\nQ 37.25 66.40625 30.609375 66.40625 \r\nQ 23.96875 66.40625 20.09375 61.84375 \r\nQ 16.21875 57.28125 16.21875 49.421875 \r\nQ 16.21875 41.5 20.09375 36.953125 \r\nQ 23.96875 32.421875 30.609375 32.421875 \r\nz\r\n\" id=\"DejaVuSans-57\"/>\r\n    </defs>\r\n    <g style=\"fill:#ffffff;\" transform=\"translate(897.328807 165.7285)scale(0.14 -0.14)\">\r\n     <use xlink:href=\"#DejaVuSans-57\"/>\r\n    </g>\r\n   </g>\r\n   <g id=\"text_43\">\r\n    <!-- 6 -->\r\n    <g style=\"fill:#ffffff;\" transform=\"translate(946.026989 165.7285)scale(0.14 -0.14)\">\r\n     <use xlink:href=\"#DejaVuSans-54\"/>\r\n    </g>\r\n   </g>\r\n   <g id=\"text_44\">\r\n    <!-- 7 -->\r\n    <defs>\r\n     <path d=\"M 8.203125 72.90625 \r\nL 55.078125 72.90625 \r\nL 55.078125 68.703125 \r\nL 28.609375 0 \r\nL 18.3125 0 \r\nL 43.21875 64.59375 \r\nL 8.203125 64.59375 \r\nz\r\n\" id=\"DejaVuSans-55\"/>\r\n    </defs>\r\n    <g style=\"fill:#ffffff;\" transform=\"translate(994.72517 165.7285)scale(0.14 -0.14)\">\r\n     <use xlink:href=\"#DejaVuSans-55\"/>\r\n    </g>\r\n   </g>\r\n   <g id=\"text_45\">\r\n    <!-- 9 -->\r\n    <g style=\"fill:#ffffff;\" transform=\"translate(1043.423352 165.7285)scale(0.14 -0.14)\">\r\n     <use xlink:href=\"#DejaVuSans-57\"/>\r\n    </g>\r\n   </g>\r\n   <g id=\"text_46\">\r\n    <!-- 7 -->\r\n    <g style=\"fill:#ffffff;\" transform=\"translate(1092.121534 165.7285)scale(0.14 -0.14)\">\r\n     <use xlink:href=\"#DejaVuSans-55\"/>\r\n    </g>\r\n   </g>\r\n   <g id=\"text_47\">\r\n    <!-- 2 -->\r\n    <g style=\"fill:#262626;\" transform=\"translate(1140.819716 165.7285)scale(0.14 -0.14)\">\r\n     <use xlink:href=\"#DejaVuSans-50\"/>\r\n    </g>\r\n   </g>\r\n   <g id=\"text_48\">\r\n    <!-- 1 -->\r\n    <g style=\"fill:#262626;\" transform=\"translate(1189.517898 165.7285)scale(0.14 -0.14)\">\r\n     <use xlink:href=\"#DejaVuSans-49\"/>\r\n    </g>\r\n   </g>\r\n   <g id=\"text_49\">\r\n    <!-- 1 -->\r\n    <g style=\"fill:#262626;\" transform=\"translate(1238.21608 165.7285)scale(0.14 -0.14)\">\r\n     <use xlink:href=\"#DejaVuSans-49\"/>\r\n    </g>\r\n   </g>\r\n   <g id=\"text_50\">\r\n    <!-- 5 -->\r\n    <g style=\"fill:#262626;\" transform=\"translate(897.328807 220.0885)scale(0.14 -0.14)\">\r\n     <use xlink:href=\"#DejaVuSans-53\"/>\r\n    </g>\r\n   </g>\r\n   <g id=\"text_51\">\r\n    <!-- 3 -->\r\n    <g style=\"fill:#262626;\" transform=\"translate(946.026989 220.0885)scale(0.14 -0.14)\">\r\n     <use xlink:href=\"#DejaVuSans-51\"/>\r\n    </g>\r\n   </g>\r\n   <g id=\"text_52\">\r\n    <!-- Heatmap of Districts According To locale and pp_total_raw -->\r\n    <defs>\r\n     <path d=\"M 9.8125 72.90625 \r\nL 19.671875 72.90625 \r\nL 19.671875 43.015625 \r\nL 55.515625 43.015625 \r\nL 55.515625 72.90625 \r\nL 65.375 72.90625 \r\nL 65.375 0 \r\nL 55.515625 0 \r\nL 55.515625 34.71875 \r\nL 19.671875 34.71875 \r\nL 19.671875 0 \r\nL 9.8125 0 \r\nz\r\n\" id=\"DejaVuSans-72\"/>\r\n     <path d=\"M 52 44.1875 \r\nQ 55.375 50.25 60.0625 53.125 \r\nQ 64.75 56 71.09375 56 \r\nQ 79.640625 56 84.28125 50.015625 \r\nQ 88.921875 44.046875 88.921875 33.015625 \r\nL 88.921875 0 \r\nL 79.890625 0 \r\nL 79.890625 32.71875 \r\nQ 79.890625 40.578125 77.09375 44.375 \r\nQ 74.3125 48.1875 68.609375 48.1875 \r\nQ 61.625 48.1875 57.5625 43.546875 \r\nQ 53.515625 38.921875 53.515625 30.90625 \r\nL 53.515625 0 \r\nL 44.484375 0 \r\nL 44.484375 32.71875 \r\nQ 44.484375 40.625 41.703125 44.40625 \r\nQ 38.921875 48.1875 33.109375 48.1875 \r\nQ 26.21875 48.1875 22.15625 43.53125 \r\nQ 18.109375 38.875 18.109375 30.90625 \r\nL 18.109375 0 \r\nL 9.078125 0 \r\nL 9.078125 54.6875 \r\nL 18.109375 54.6875 \r\nL 18.109375 46.1875 \r\nQ 21.1875 51.21875 25.484375 53.609375 \r\nQ 29.78125 56 35.6875 56 \r\nQ 41.65625 56 45.828125 52.96875 \r\nQ 50 49.953125 52 44.1875 \r\nz\r\n\" id=\"DejaVuSans-109\"/>\r\n     <path d=\"M 37.109375 75.984375 \r\nL 37.109375 68.5 \r\nL 28.515625 68.5 \r\nQ 23.6875 68.5 21.796875 66.546875 \r\nQ 19.921875 64.59375 19.921875 59.515625 \r\nL 19.921875 54.6875 \r\nL 34.71875 54.6875 \r\nL 34.71875 47.703125 \r\nL 19.921875 47.703125 \r\nL 19.921875 0 \r\nL 10.890625 0 \r\nL 10.890625 47.703125 \r\nL 2.296875 47.703125 \r\nL 2.296875 54.6875 \r\nL 10.890625 54.6875 \r\nL 10.890625 58.5 \r\nQ 10.890625 67.625 15.140625 71.796875 \r\nQ 19.390625 75.984375 28.609375 75.984375 \r\nz\r\n\" id=\"DejaVuSans-102\"/>\r\n     <path d=\"M 19.671875 64.796875 \r\nL 19.671875 8.109375 \r\nL 31.59375 8.109375 \r\nQ 46.6875 8.109375 53.6875 14.9375 \r\nQ 60.6875 21.78125 60.6875 36.53125 \r\nQ 60.6875 51.171875 53.6875 57.984375 \r\nQ 46.6875 64.796875 31.59375 64.796875 \r\nz\r\nM 9.8125 72.90625 \r\nL 30.078125 72.90625 \r\nQ 51.265625 72.90625 61.171875 64.09375 \r\nQ 71.09375 55.28125 71.09375 36.53125 \r\nQ 71.09375 17.671875 61.125 8.828125 \r\nQ 51.171875 0 30.078125 0 \r\nL 9.8125 0 \r\nz\r\n\" id=\"DejaVuSans-68\"/>\r\n     <path d=\"M 44.28125 53.078125 \r\nL 44.28125 44.578125 \r\nQ 40.484375 46.53125 36.375 47.5 \r\nQ 32.28125 48.484375 27.875 48.484375 \r\nQ 21.1875 48.484375 17.84375 46.4375 \r\nQ 14.5 44.390625 14.5 40.28125 \r\nQ 14.5 37.15625 16.890625 35.375 \r\nQ 19.28125 33.59375 26.515625 31.984375 \r\nL 29.59375 31.296875 \r\nQ 39.15625 29.25 43.1875 25.515625 \r\nQ 47.21875 21.78125 47.21875 15.09375 \r\nQ 47.21875 7.46875 41.1875 3.015625 \r\nQ 35.15625 -1.421875 24.609375 -1.421875 \r\nQ 20.21875 -1.421875 15.453125 -0.5625 \r\nQ 10.6875 0.296875 5.421875 2 \r\nL 5.421875 11.28125 \r\nQ 10.40625 8.6875 15.234375 7.390625 \r\nQ 20.0625 6.109375 24.8125 6.109375 \r\nQ 31.15625 6.109375 34.5625 8.28125 \r\nQ 37.984375 10.453125 37.984375 14.40625 \r\nQ 37.984375 18.0625 35.515625 20.015625 \r\nQ 33.0625 21.96875 24.703125 23.78125 \r\nL 21.578125 24.515625 \r\nQ 13.234375 26.265625 9.515625 29.90625 \r\nQ 5.8125 33.546875 5.8125 39.890625 \r\nQ 5.8125 47.609375 11.28125 51.796875 \r\nQ 16.75 56 26.8125 56 \r\nQ 31.78125 56 36.171875 55.265625 \r\nQ 40.578125 54.546875 44.28125 53.078125 \r\nz\r\n\" id=\"DejaVuSans-115\"/>\r\n     <path d=\"M 34.1875 63.1875 \r\nL 20.796875 26.90625 \r\nL 47.609375 26.90625 \r\nz\r\nM 28.609375 72.90625 \r\nL 39.796875 72.90625 \r\nL 67.578125 0 \r\nL 57.328125 0 \r\nL 50.6875 18.703125 \r\nL 17.828125 18.703125 \r\nL 11.1875 0 \r\nL 0.78125 0 \r\nz\r\n\" id=\"DejaVuSans-65\"/>\r\n     <path d=\"M 45.40625 46.390625 \r\nL 45.40625 75.984375 \r\nL 54.390625 75.984375 \r\nL 54.390625 0 \r\nL 45.40625 0 \r\nL 45.40625 8.203125 \r\nQ 42.578125 3.328125 38.25 0.953125 \r\nQ 33.9375 -1.421875 27.875 -1.421875 \r\nQ 17.96875 -1.421875 11.734375 6.484375 \r\nQ 5.515625 14.40625 5.515625 27.296875 \r\nQ 5.515625 40.1875 11.734375 48.09375 \r\nQ 17.96875 56 27.875 56 \r\nQ 33.9375 56 38.25 53.625 \r\nQ 42.578125 51.265625 45.40625 46.390625 \r\nz\r\nM 14.796875 27.296875 \r\nQ 14.796875 17.390625 18.875 11.75 \r\nQ 22.953125 6.109375 30.078125 6.109375 \r\nQ 37.203125 6.109375 41.296875 11.75 \r\nQ 45.40625 17.390625 45.40625 27.296875 \r\nQ 45.40625 37.203125 41.296875 42.84375 \r\nQ 37.203125 48.484375 30.078125 48.484375 \r\nQ 22.953125 48.484375 18.875 42.84375 \r\nQ 14.796875 37.203125 14.796875 27.296875 \r\nz\r\n\" id=\"DejaVuSans-100\"/>\r\n     <path d=\"M 45.40625 27.984375 \r\nQ 45.40625 37.75 41.375 43.109375 \r\nQ 37.359375 48.484375 30.078125 48.484375 \r\nQ 22.859375 48.484375 18.828125 43.109375 \r\nQ 14.796875 37.75 14.796875 27.984375 \r\nQ 14.796875 18.265625 18.828125 12.890625 \r\nQ 22.859375 7.515625 30.078125 7.515625 \r\nQ 37.359375 7.515625 41.375 12.890625 \r\nQ 45.40625 18.265625 45.40625 27.984375 \r\nz\r\nM 54.390625 6.78125 \r\nQ 54.390625 -7.171875 48.1875 -13.984375 \r\nQ 42 -20.796875 29.203125 -20.796875 \r\nQ 24.46875 -20.796875 20.265625 -20.09375 \r\nQ 16.0625 -19.390625 12.109375 -17.921875 \r\nL 12.109375 -9.1875 \r\nQ 16.0625 -11.328125 19.921875 -12.34375 \r\nQ 23.78125 -13.375 27.78125 -13.375 \r\nQ 36.625 -13.375 41.015625 -8.765625 \r\nQ 45.40625 -4.15625 45.40625 5.171875 \r\nL 45.40625 9.625 \r\nQ 42.625 4.78125 38.28125 2.390625 \r\nQ 33.9375 0 27.875 0 \r\nQ 17.828125 0 11.671875 7.65625 \r\nQ 5.515625 15.328125 5.515625 27.984375 \r\nQ 5.515625 40.671875 11.671875 48.328125 \r\nQ 17.828125 56 27.875 56 \r\nQ 33.9375 56 38.28125 53.609375 \r\nQ 42.625 51.21875 45.40625 46.390625 \r\nL 45.40625 54.6875 \r\nL 54.390625 54.6875 \r\nz\r\n\" id=\"DejaVuSans-103\"/>\r\n    </defs>\r\n    <g transform=\"translate(778.874074 19.965375)scale(0.168 -0.168)\">\r\n     <use xlink:href=\"#DejaVuSans-72\"/>\r\n     <use x=\"75.195312\" xlink:href=\"#DejaVuSans-101\"/>\r\n     <use x=\"136.71875\" xlink:href=\"#DejaVuSans-97\"/>\r\n     <use x=\"197.998047\" xlink:href=\"#DejaVuSans-116\"/>\r\n     <use x=\"237.207031\" xlink:href=\"#DejaVuSans-109\"/>\r\n     <use x=\"334.619141\" xlink:href=\"#DejaVuSans-97\"/>\r\n     <use x=\"395.898438\" xlink:href=\"#DejaVuSans-112\"/>\r\n     <use x=\"459.375\" xlink:href=\"#DejaVuSans-32\"/>\r\n     <use x=\"491.162109\" xlink:href=\"#DejaVuSans-111\"/>\r\n     <use x=\"552.34375\" xlink:href=\"#DejaVuSans-102\"/>\r\n     <use x=\"587.548828\" xlink:href=\"#DejaVuSans-32\"/>\r\n     <use x=\"619.335938\" xlink:href=\"#DejaVuSans-68\"/>\r\n     <use x=\"696.337891\" xlink:href=\"#DejaVuSans-105\"/>\r\n     <use x=\"724.121094\" xlink:href=\"#DejaVuSans-115\"/>\r\n     <use x=\"776.220703\" xlink:href=\"#DejaVuSans-116\"/>\r\n     <use x=\"815.429688\" xlink:href=\"#DejaVuSans-114\"/>\r\n     <use x=\"856.542969\" xlink:href=\"#DejaVuSans-105\"/>\r\n     <use x=\"884.326172\" xlink:href=\"#DejaVuSans-99\"/>\r\n     <use x=\"939.306641\" xlink:href=\"#DejaVuSans-116\"/>\r\n     <use x=\"978.515625\" xlink:href=\"#DejaVuSans-115\"/>\r\n     <use x=\"1030.615234\" xlink:href=\"#DejaVuSans-32\"/>\r\n     <use x=\"1062.402344\" xlink:href=\"#DejaVuSans-65\"/>\r\n     <use x=\"1129.060547\" xlink:href=\"#DejaVuSans-99\"/>\r\n     <use x=\"1184.041016\" xlink:href=\"#DejaVuSans-99\"/>\r\n     <use x=\"1239.021484\" xlink:href=\"#DejaVuSans-111\"/>\r\n     <use x=\"1300.203125\" xlink:href=\"#DejaVuSans-114\"/>\r\n     <use x=\"1339.566406\" xlink:href=\"#DejaVuSans-100\"/>\r\n     <use x=\"1403.042969\" xlink:href=\"#DejaVuSans-105\"/>\r\n     <use x=\"1430.826172\" xlink:href=\"#DejaVuSans-110\"/>\r\n     <use x=\"1494.205078\" xlink:href=\"#DejaVuSans-103\"/>\r\n     <use x=\"1557.681641\" xlink:href=\"#DejaVuSans-32\"/>\r\n     <use x=\"1589.46875\" xlink:href=\"#DejaVuSans-84\"/>\r\n     <use x=\"1633.552734\" xlink:href=\"#DejaVuSans-111\"/>\r\n     <use x=\"1694.734375\" xlink:href=\"#DejaVuSans-32\"/>\r\n     <use x=\"1726.521484\" xlink:href=\"#DejaVuSans-108\"/>\r\n     <use x=\"1754.304688\" xlink:href=\"#DejaVuSans-111\"/>\r\n     <use x=\"1815.486328\" xlink:href=\"#DejaVuSans-99\"/>\r\n     <use x=\"1870.466797\" xlink:href=\"#DejaVuSans-97\"/>\r\n     <use x=\"1931.746094\" xlink:href=\"#DejaVuSans-108\"/>\r\n     <use x=\"1959.529297\" xlink:href=\"#DejaVuSans-101\"/>\r\n     <use x=\"2021.052734\" xlink:href=\"#DejaVuSans-32\"/>\r\n     <use x=\"2052.839844\" xlink:href=\"#DejaVuSans-97\"/>\r\n     <use x=\"2114.119141\" xlink:href=\"#DejaVuSans-110\"/>\r\n     <use x=\"2177.498047\" xlink:href=\"#DejaVuSans-100\"/>\r\n     <use x=\"2240.974609\" xlink:href=\"#DejaVuSans-32\"/>\r\n     <use x=\"2272.761719\" xlink:href=\"#DejaVuSans-112\"/>\r\n     <use x=\"2336.238281\" xlink:href=\"#DejaVuSans-112\"/>\r\n     <use x=\"2399.714844\" xlink:href=\"#DejaVuSans-95\"/>\r\n     <use x=\"2449.714844\" xlink:href=\"#DejaVuSans-116\"/>\r\n     <use x=\"2488.923828\" xlink:href=\"#DejaVuSans-111\"/>\r\n     <use x=\"2550.105469\" xlink:href=\"#DejaVuSans-116\"/>\r\n     <use x=\"2589.314453\" xlink:href=\"#DejaVuSans-97\"/>\r\n     <use x=\"2650.59375\" xlink:href=\"#DejaVuSans-108\"/>\r\n     <use x=\"2678.376953\" xlink:href=\"#DejaVuSans-95\"/>\r\n     <use x=\"2728.376953\" xlink:href=\"#DejaVuSans-114\"/>\r\n     <use x=\"2769.490234\" xlink:href=\"#DejaVuSans-97\"/>\r\n     <use x=\"2830.769531\" xlink:href=\"#DejaVuSans-119\"/>\r\n    </g>\r\n   </g>\r\n  </g>\r\n  <g id=\"axes_3\">\r\n   <g id=\"patch_12\">\r\n    <path clip-path=\"url(#p36db660c40)\" d=\"M 1297.455284 243.405375 \r\nL 1297.455284 242.556 \r\nL 1297.455284 26.81475 \r\nL 1297.455284 25.965375 \r\nL 1308.327284 25.965375 \r\nL 1308.327284 26.81475 \r\nL 1308.327284 242.556 \r\nL 1308.327284 243.405375 \r\nz\r\n\" style=\"fill:#ffffff;stroke:#ffffff;stroke-linejoin:miter;stroke-width:0.01;\"/>\r\n   </g>\r\n   <image height=\"217\" id=\"image72e6825e7e\" transform=\"scale(1 -1)translate(0 -217)\" width=\"11\" x=\"1297\" xlink:href=\"data:image/png;base64,\r\niVBORw0KGgoAAAANSUhEUgAAAAsAAADZCAYAAAD2WsoCAAAABHNCSVQICAgIfAhkiAAAAUpJREFUaIHtmbEKw0AMQy8l//+r3TrVvqwd/QoPFEhnIXSS7Eua4/N97zX8nWsMXevcAE3BRMZuiXntjAMiZk8zYH6NkVyG6Mb8x2TAIhEZWvm9UMQlIw4sOSDTPMZC5hYravUZWpcRd8aS8dxgoYyhcusirgmvz6UtGWhdBHNlrC+vSI2YCXj+AJHTDegGkIEuTbH8c+KcbuwDgAlzEebWZMAiERls1yFmYt1cRQwzc4PI8IqEmBu1LkMzHCsrbrHPaPOzgQXM4mJkVxsAIxnVnuaIuBGzt/nZ1eZd9FrcKYsRxc3c0F54UflBoeGzKGImYDjd2gErI0HEzOIGMqrJP9sZFfV89rrhvUqzGbxhKJ4b9bjxA4bdIDIyJuWWm1+Twcqf0Q30IWNVWczkczBjJj4zGeSiZ2AvQXZA5LPWDS/Bp/x/y4go/wU0TMY38m+PKwAAAABJRU5ErkJggg==\" y=\"-26\"/>\r\n   <g id=\"matplotlib.axis_5\"/>\r\n   <g id=\"matplotlib.axis_6\">\r\n    <g id=\"ytick_10\">\r\n     <g id=\"line2d_24\">\r\n      <defs>\r\n       <path d=\"M 0 0 \r\nL 3.5 0 \r\n\" id=\"m0a76ce52d0\" style=\"stroke:#000000;stroke-width:0.8;\"/>\r\n      </defs>\r\n      <g>\r\n       <use style=\"stroke:#000000;stroke-width:0.8;\" x=\"1308.327284\" xlink:href=\"#m0a76ce52d0\" y=\"216.225375\"/>\r\n      </g>\r\n     </g>\r\n     <g id=\"text_53\">\r\n      <!-- 2 -->\r\n      <g transform=\"translate(1315.327284 221.544281)scale(0.14 -0.14)\">\r\n       <use xlink:href=\"#DejaVuSans-50\"/>\r\n      </g>\r\n     </g>\r\n    </g>\r\n    <g id=\"ytick_11\">\r\n     <g id=\"line2d_25\">\r\n      <g>\r\n       <use style=\"stroke:#000000;stroke-width:0.8;\" x=\"1308.327284\" xlink:href=\"#m0a76ce52d0\" y=\"161.865375\"/>\r\n      </g>\r\n     </g>\r\n     <g id=\"text_54\">\r\n      <!-- 4 -->\r\n      <g transform=\"translate(1315.327284 167.184281)scale(0.14 -0.14)\">\r\n       <use xlink:href=\"#DejaVuSans-52\"/>\r\n      </g>\r\n     </g>\r\n    </g>\r\n    <g id=\"ytick_12\">\r\n     <g id=\"line2d_26\">\r\n      <g>\r\n       <use style=\"stroke:#000000;stroke-width:0.8;\" x=\"1308.327284\" xlink:href=\"#m0a76ce52d0\" y=\"107.505375\"/>\r\n      </g>\r\n     </g>\r\n     <g id=\"text_55\">\r\n      <!-- 6 -->\r\n      <g transform=\"translate(1315.327284 112.824281)scale(0.14 -0.14)\">\r\n       <use xlink:href=\"#DejaVuSans-54\"/>\r\n      </g>\r\n     </g>\r\n    </g>\r\n    <g id=\"ytick_13\">\r\n     <g id=\"line2d_27\">\r\n      <g>\r\n       <use style=\"stroke:#000000;stroke-width:0.8;\" x=\"1308.327284\" xlink:href=\"#m0a76ce52d0\" y=\"53.145375\"/>\r\n      </g>\r\n     </g>\r\n     <g id=\"text_56\">\r\n      <!-- 8 -->\r\n      <g transform=\"translate(1315.327284 58.464281)scale(0.14 -0.14)\">\r\n       <use xlink:href=\"#DejaVuSans-56\"/>\r\n      </g>\r\n     </g>\r\n    </g>\r\n   </g>\r\n   <g id=\"patch_13\">\r\n    <path d=\"M 1297.455284 243.405375 \r\nL 1297.455284 242.556 \r\nL 1297.455284 26.81475 \r\nL 1297.455284 25.965375 \r\nL 1308.327284 25.965375 \r\nL 1308.327284 26.81475 \r\nL 1308.327284 242.556 \r\nL 1308.327284 243.405375 \r\nz\r\n\" style=\"fill:none;\"/>\r\n   </g>\r\n  </g>\r\n </g>\r\n <defs>\r\n  <clipPath id=\"p777697320b\">\r\n   <rect height=\"217.44\" width=\"608.727273\" x=\"49.564375\" y=\"25.965375\"/>\r\n  </clipPath>\r\n  <clipPath id=\"pf6920d4529\">\r\n   <rect height=\"217.44\" width=\"486.981818\" x=\"780.037102\" y=\"25.965375\"/>\r\n  </clipPath>\r\n  <clipPath id=\"p36db660c40\">\r\n   <rect height=\"217.44\" width=\"10.872\" x=\"1297.455284\" y=\"25.965375\"/>\r\n  </clipPath>\r\n </defs>\r\n</svg>\r\n",
      "image/png": "[encoded data removed]"
     },
     "metadata": {
      "needs_background": "light"
     }
    }
   ],
   "metadata": {}
  },
  {
   "cell_type": "markdown",
   "source": [
    "If we look at the distributions of the remaining columns in districts_info, you can quickly see that county_connections_ratio only has one unique value which is [0.18, 1[. To be fair, before dropping all rows without any state information, this column had another value of [1, 2[ but only for one data point. So, this column does not really contain any valuable information. Maybe we can get this sort of information from an external dataset."
   ],
   "metadata": {}
  },
  {
   "cell_type": "code",
   "execution_count": 237,
   "source": [
    "fig, ax = plt.subplots(2, 2, figsize=(16,8))\r\n",
    "\r\n",
    "sns.countplot(data=districts_info, x='pct_black/hispanic', order=['[0, 0.2[', '[0.2, 0.4[', '[0.4, 0.6[', '[0.6, 0.8[','[0.8, 1[', ], palette='GnBu', ax=ax[0,0])\r\n",
    "ax[0,0].set_ylim([0,135])\r\n",
    "sns.countplot(data=districts_info, x='pct_free/reduced', order=['[0, 0.2[', '[0.2, 0.4[', '[0.4, 0.6[', '[0.6, 0.8[','[0.8, 1[', ], palette='GnBu', ax=ax[0,1])\r\n",
    "ax[0,1].set_ylim([0,135])\r\n",
    "\r\n",
    "sns.countplot(data=districts_info, x='county_connections_ratio', palette='GnBu', ax=ax[1,0])\r\n",
    "ax[1,0].set_ylim([0,135])\r\n",
    "sns.countplot(data=districts_info, x='pp_total_raw', order=['[4000, 6000[', '[6000, 8000[', '[8000, 10000[', '[10000, 12000[',\r\n",
    "       '[12000, 14000[', '[14000, 16000[', '[16000, 18000[', \r\n",
    "       '[18000, 20000[', '[20000, 22000[', '[22000, 24000[', ], palette='GnBu', ax=ax[1,1])\r\n",
    "ax[1,1].set_ylim([0,135])\r\n",
    "ax[1,1].set_xticklabels(ax[1,1].get_xticklabels(), rotation=90)\r\n",
    "\r\n",
    "plt.tight_layout()\r\n",
    "plt.show()\r\n"
   ],
   "outputs": [
    {
     "output_type": "display_data",
     "data": {
      "text/plain": [
       "<Figure size 1152x576 with 4 Axes>"
      ],
      "image/svg+xml": "<?xml version=\"1.0\" encoding=\"utf-8\" standalone=\"no\"?>\r\n<!DOCTYPE svg PUBLIC \"-//W3C//DTD SVG 1.1//EN\"\r\n  \"http://www.w3.org/Graphics/SVG/1.1/DTD/svg11.dtd\">\r\n<!-- Created with matplotlib (https://matplotlib.org/) -->\r\n<svg height=\"559.85625pt\" version=\"1.1\" viewBox=\"0 0 1135.806875 559.85625\" width=\"1135.806875pt\" xmlns=\"http://www.w3.org/2000/svg\" xmlns:xlink=\"http://www.w3.org/1999/xlink\">\r\n <defs>\r\n  <style type=\"text/css\">\r\n*{stroke-linecap:butt;stroke-linejoin:round;}\r\n  </style>\r\n </defs>\r\n <g id=\"figure_1\">\r\n  <g id=\"patch_1\">\r\n   <path d=\"M 0 559.85625 \r\nL 1135.806875 559.85625 \r\nL 1135.806875 0 \r\nL 0 0 \r\nz\r\n\" style=\"fill:none;\"/>\r\n  </g>\r\n  <g id=\"axes_1\">\r\n   <g id=\"patch_2\">\r\n    <path d=\"M 58.471875 185.879375 \r\nL 560.166875 185.879375 \r\nL 560.166875 7.2 \r\nL 58.471875 7.2 \r\nz\r\n\" style=\"fill:#ffffff;\"/>\r\n   </g>\r\n   <g id=\"patch_3\">\r\n    <path clip-path=\"url(#p0d9c05b741)\" d=\"M 68.505775 185.879375 \r\nL 148.776975 185.879375 \r\nL 148.776975 65.436241 \r\nL 68.505775 65.436241 \r\nz\r\n\" style=\"fill:#dcedd8;\"/>\r\n   </g>\r\n   <g id=\"patch_4\">\r\n    <path clip-path=\"url(#p0d9c05b741)\" d=\"M 168.844775 185.879375 \r\nL 249.115975 185.879375 \r\nL 249.115975 162.055458 \r\nL 168.844775 162.055458 \r\nz\r\n\" style=\"fill:#badcbe;\"/>\r\n   </g>\r\n   <g id=\"patch_5\">\r\n    <path clip-path=\"url(#p0d9c05b741)\" d=\"M 269.183775 185.879375 \r\nL 349.454975 185.879375 \r\nL 349.454975 172.643866 \r\nL 269.183775 172.643866 \r\nz\r\n\" style=\"fill:#84c1bc;\"/>\r\n   </g>\r\n   <g id=\"patch_6\">\r\n    <path clip-path=\"url(#p0d9c05b741)\" d=\"M 369.522775 185.879375 \r\nL 449.793975 185.879375 \r\nL 449.793975 173.967417 \r\nL 369.522775 173.967417 \r\nz\r\n\" style=\"fill:#549ebb;\"/>\r\n   </g>\r\n   <g id=\"patch_7\">\r\n    <path clip-path=\"url(#p0d9c05b741)\" d=\"M 469.861775 185.879375 \r\nL 550.132975 185.879375 \r\nL 550.132975 179.26162 \r\nL 469.861775 179.26162 \r\nz\r\n\" style=\"fill:#276f9e;\"/>\r\n   </g>\r\n   <g id=\"matplotlib.axis_1\">\r\n    <g id=\"xtick_1\">\r\n     <g id=\"line2d_1\">\r\n      <defs>\r\n       <path d=\"M 0 0 \r\nL 0 3.5 \r\n\" id=\"me9ff246796\" style=\"stroke:#000000;stroke-width:0.8;\"/>\r\n      </defs>\r\n      <g>\r\n       <use style=\"stroke:#000000;stroke-width:0.8;\" x=\"108.641375\" xlink:href=\"#me9ff246796\" y=\"185.879375\"/>\r\n      </g>\r\n     </g>\r\n     <g id=\"text_1\">\r\n      <!-- [0, 0.2[ -->\r\n      <defs>\r\n       <path d=\"M 8.59375 75.984375 \r\nL 29.296875 75.984375 \r\nL 29.296875 69 \r\nL 17.578125 69 \r\nL 17.578125 -6.203125 \r\nL 29.296875 -6.203125 \r\nL 29.296875 -13.1875 \r\nL 8.59375 -13.1875 \r\nz\r\n\" id=\"DejaVuSans-91\"/>\r\n       <path d=\"M 31.78125 66.40625 \r\nQ 24.171875 66.40625 20.328125 58.90625 \r\nQ 16.5 51.421875 16.5 36.375 \r\nQ 16.5 21.390625 20.328125 13.890625 \r\nQ 24.171875 6.390625 31.78125 6.390625 \r\nQ 39.453125 6.390625 43.28125 13.890625 \r\nQ 47.125 21.390625 47.125 36.375 \r\nQ 47.125 51.421875 43.28125 58.90625 \r\nQ 39.453125 66.40625 31.78125 66.40625 \r\nz\r\nM 31.78125 74.21875 \r\nQ 44.046875 74.21875 50.515625 64.515625 \r\nQ 56.984375 54.828125 56.984375 36.375 \r\nQ 56.984375 17.96875 50.515625 8.265625 \r\nQ 44.046875 -1.421875 31.78125 -1.421875 \r\nQ 19.53125 -1.421875 13.0625 8.265625 \r\nQ 6.59375 17.96875 6.59375 36.375 \r\nQ 6.59375 54.828125 13.0625 64.515625 \r\nQ 19.53125 74.21875 31.78125 74.21875 \r\nz\r\n\" id=\"DejaVuSans-48\"/>\r\n       <path d=\"M 11.71875 12.40625 \r\nL 22.015625 12.40625 \r\nL 22.015625 4 \r\nL 14.015625 -11.625 \r\nL 7.71875 -11.625 \r\nL 11.71875 4 \r\nz\r\n\" id=\"DejaVuSans-44\"/>\r\n       <path id=\"DejaVuSans-32\"/>\r\n       <path d=\"M 10.6875 12.40625 \r\nL 21 12.40625 \r\nL 21 0 \r\nL 10.6875 0 \r\nz\r\n\" id=\"DejaVuSans-46\"/>\r\n       <path d=\"M 19.1875 8.296875 \r\nL 53.609375 8.296875 \r\nL 53.609375 0 \r\nL 7.328125 0 \r\nL 7.328125 8.296875 \r\nQ 12.9375 14.109375 22.625 23.890625 \r\nQ 32.328125 33.6875 34.8125 36.53125 \r\nQ 39.546875 41.84375 41.421875 45.53125 \r\nQ 43.3125 49.21875 43.3125 52.78125 \r\nQ 43.3125 58.59375 39.234375 62.25 \r\nQ 35.15625 65.921875 28.609375 65.921875 \r\nQ 23.96875 65.921875 18.8125 64.3125 \r\nQ 13.671875 62.703125 7.8125 59.421875 \r\nL 7.8125 69.390625 \r\nQ 13.765625 71.78125 18.9375 73 \r\nQ 24.125 74.21875 28.421875 74.21875 \r\nQ 39.75 74.21875 46.484375 68.546875 \r\nQ 53.21875 62.890625 53.21875 53.421875 \r\nQ 53.21875 48.921875 51.53125 44.890625 \r\nQ 49.859375 40.875 45.40625 35.40625 \r\nQ 44.1875 33.984375 37.640625 27.21875 \r\nQ 31.109375 20.453125 19.1875 8.296875 \r\nz\r\n\" id=\"DejaVuSans-50\"/>\r\n      </defs>\r\n      <g transform=\"translate(83.143875 203.517187)scale(0.14 -0.14)\">\r\n       <use xlink:href=\"#DejaVuSans-91\"/>\r\n       <use x=\"39.013672\" xlink:href=\"#DejaVuSans-48\"/>\r\n       <use x=\"102.636719\" xlink:href=\"#DejaVuSans-44\"/>\r\n       <use x=\"134.423828\" xlink:href=\"#DejaVuSans-32\"/>\r\n       <use x=\"166.210938\" xlink:href=\"#DejaVuSans-48\"/>\r\n       <use x=\"229.833984\" xlink:href=\"#DejaVuSans-46\"/>\r\n       <use x=\"261.621094\" xlink:href=\"#DejaVuSans-50\"/>\r\n       <use x=\"325.244141\" xlink:href=\"#DejaVuSans-91\"/>\r\n      </g>\r\n     </g>\r\n    </g>\r\n    <g id=\"xtick_2\">\r\n     <g id=\"line2d_2\">\r\n      <g>\r\n       <use style=\"stroke:#000000;stroke-width:0.8;\" x=\"208.980375\" xlink:href=\"#me9ff246796\" y=\"185.879375\"/>\r\n      </g>\r\n     </g>\r\n     <g id=\"text_2\">\r\n      <!-- [0.2, 0.4[ -->\r\n      <defs>\r\n       <path d=\"M 37.796875 64.3125 \r\nL 12.890625 25.390625 \r\nL 37.796875 25.390625 \r\nz\r\nM 35.203125 72.90625 \r\nL 47.609375 72.90625 \r\nL 47.609375 25.390625 \r\nL 58.015625 25.390625 \r\nL 58.015625 17.1875 \r\nL 47.609375 17.1875 \r\nL 47.609375 0 \r\nL 37.796875 0 \r\nL 37.796875 17.1875 \r\nL 4.890625 17.1875 \r\nL 4.890625 26.703125 \r\nz\r\n\" id=\"DejaVuSans-52\"/>\r\n      </defs>\r\n      <g transform=\"translate(176.804437 203.517187)scale(0.14 -0.14)\">\r\n       <use xlink:href=\"#DejaVuSans-91\"/>\r\n       <use x=\"39.013672\" xlink:href=\"#DejaVuSans-48\"/>\r\n       <use x=\"102.636719\" xlink:href=\"#DejaVuSans-46\"/>\r\n       <use x=\"134.423828\" xlink:href=\"#DejaVuSans-50\"/>\r\n       <use x=\"198.046875\" xlink:href=\"#DejaVuSans-44\"/>\r\n       <use x=\"229.833984\" xlink:href=\"#DejaVuSans-32\"/>\r\n       <use x=\"261.621094\" xlink:href=\"#DejaVuSans-48\"/>\r\n       <use x=\"325.244141\" xlink:href=\"#DejaVuSans-46\"/>\r\n       <use x=\"357.03125\" xlink:href=\"#DejaVuSans-52\"/>\r\n       <use x=\"420.654297\" xlink:href=\"#DejaVuSans-91\"/>\r\n      </g>\r\n     </g>\r\n    </g>\r\n    <g id=\"xtick_3\">\r\n     <g id=\"line2d_3\">\r\n      <g>\r\n       <use style=\"stroke:#000000;stroke-width:0.8;\" x=\"309.319375\" xlink:href=\"#me9ff246796\" y=\"185.879375\"/>\r\n      </g>\r\n     </g>\r\n     <g id=\"text_3\">\r\n      <!-- [0.4, 0.6[ -->\r\n      <defs>\r\n       <path d=\"M 33.015625 40.375 \r\nQ 26.375 40.375 22.484375 35.828125 \r\nQ 18.609375 31.296875 18.609375 23.390625 \r\nQ 18.609375 15.53125 22.484375 10.953125 \r\nQ 26.375 6.390625 33.015625 6.390625 \r\nQ 39.65625 6.390625 43.53125 10.953125 \r\nQ 47.40625 15.53125 47.40625 23.390625 \r\nQ 47.40625 31.296875 43.53125 35.828125 \r\nQ 39.65625 40.375 33.015625 40.375 \r\nz\r\nM 52.59375 71.296875 \r\nL 52.59375 62.3125 \r\nQ 48.875 64.0625 45.09375 64.984375 \r\nQ 41.3125 65.921875 37.59375 65.921875 \r\nQ 27.828125 65.921875 22.671875 59.328125 \r\nQ 17.53125 52.734375 16.796875 39.40625 \r\nQ 19.671875 43.65625 24.015625 45.921875 \r\nQ 28.375 48.1875 33.59375 48.1875 \r\nQ 44.578125 48.1875 50.953125 41.515625 \r\nQ 57.328125 34.859375 57.328125 23.390625 \r\nQ 57.328125 12.15625 50.6875 5.359375 \r\nQ 44.046875 -1.421875 33.015625 -1.421875 \r\nQ 20.359375 -1.421875 13.671875 8.265625 \r\nQ 6.984375 17.96875 6.984375 36.375 \r\nQ 6.984375 53.65625 15.1875 63.9375 \r\nQ 23.390625 74.21875 37.203125 74.21875 \r\nQ 40.921875 74.21875 44.703125 73.484375 \r\nQ 48.484375 72.75 52.59375 71.296875 \r\nz\r\n\" id=\"DejaVuSans-54\"/>\r\n      </defs>\r\n      <g transform=\"translate(277.143438 203.517187)scale(0.14 -0.14)\">\r\n       <use xlink:href=\"#DejaVuSans-91\"/>\r\n       <use x=\"39.013672\" xlink:href=\"#DejaVuSans-48\"/>\r\n       <use x=\"102.636719\" xlink:href=\"#DejaVuSans-46\"/>\r\n       <use x=\"134.423828\" xlink:href=\"#DejaVuSans-52\"/>\r\n       <use x=\"198.046875\" xlink:href=\"#DejaVuSans-44\"/>\r\n       <use x=\"229.833984\" xlink:href=\"#DejaVuSans-32\"/>\r\n       <use x=\"261.621094\" xlink:href=\"#DejaVuSans-48\"/>\r\n       <use x=\"325.244141\" xlink:href=\"#DejaVuSans-46\"/>\r\n       <use x=\"357.03125\" xlink:href=\"#DejaVuSans-54\"/>\r\n       <use x=\"420.654297\" xlink:href=\"#DejaVuSans-91\"/>\r\n      </g>\r\n     </g>\r\n    </g>\r\n    <g id=\"xtick_4\">\r\n     <g id=\"line2d_4\">\r\n      <g>\r\n       <use style=\"stroke:#000000;stroke-width:0.8;\" x=\"409.658375\" xlink:href=\"#me9ff246796\" y=\"185.879375\"/>\r\n      </g>\r\n     </g>\r\n     <g id=\"text_4\">\r\n      <!-- [0.6, 0.8[ -->\r\n      <defs>\r\n       <path d=\"M 31.78125 34.625 \r\nQ 24.75 34.625 20.71875 30.859375 \r\nQ 16.703125 27.09375 16.703125 20.515625 \r\nQ 16.703125 13.921875 20.71875 10.15625 \r\nQ 24.75 6.390625 31.78125 6.390625 \r\nQ 38.8125 6.390625 42.859375 10.171875 \r\nQ 46.921875 13.96875 46.921875 20.515625 \r\nQ 46.921875 27.09375 42.890625 30.859375 \r\nQ 38.875 34.625 31.78125 34.625 \r\nz\r\nM 21.921875 38.8125 \r\nQ 15.578125 40.375 12.03125 44.71875 \r\nQ 8.5 49.078125 8.5 55.328125 \r\nQ 8.5 64.0625 14.71875 69.140625 \r\nQ 20.953125 74.21875 31.78125 74.21875 \r\nQ 42.671875 74.21875 48.875 69.140625 \r\nQ 55.078125 64.0625 55.078125 55.328125 \r\nQ 55.078125 49.078125 51.53125 44.71875 \r\nQ 48 40.375 41.703125 38.8125 \r\nQ 48.828125 37.15625 52.796875 32.3125 \r\nQ 56.78125 27.484375 56.78125 20.515625 \r\nQ 56.78125 9.90625 50.3125 4.234375 \r\nQ 43.84375 -1.421875 31.78125 -1.421875 \r\nQ 19.734375 -1.421875 13.25 4.234375 \r\nQ 6.78125 9.90625 6.78125 20.515625 \r\nQ 6.78125 27.484375 10.78125 32.3125 \r\nQ 14.796875 37.15625 21.921875 38.8125 \r\nz\r\nM 18.3125 54.390625 \r\nQ 18.3125 48.734375 21.84375 45.5625 \r\nQ 25.390625 42.390625 31.78125 42.390625 \r\nQ 38.140625 42.390625 41.71875 45.5625 \r\nQ 45.3125 48.734375 45.3125 54.390625 \r\nQ 45.3125 60.0625 41.71875 63.234375 \r\nQ 38.140625 66.40625 31.78125 66.40625 \r\nQ 25.390625 66.40625 21.84375 63.234375 \r\nQ 18.3125 60.0625 18.3125 54.390625 \r\nz\r\n\" id=\"DejaVuSans-56\"/>\r\n      </defs>\r\n      <g transform=\"translate(377.482437 203.517187)scale(0.14 -0.14)\">\r\n       <use xlink:href=\"#DejaVuSans-91\"/>\r\n       <use x=\"39.013672\" xlink:href=\"#DejaVuSans-48\"/>\r\n       <use x=\"102.636719\" xlink:href=\"#DejaVuSans-46\"/>\r\n       <use x=\"134.423828\" xlink:href=\"#DejaVuSans-54\"/>\r\n       <use x=\"198.046875\" xlink:href=\"#DejaVuSans-44\"/>\r\n       <use x=\"229.833984\" xlink:href=\"#DejaVuSans-32\"/>\r\n       <use x=\"261.621094\" xlink:href=\"#DejaVuSans-48\"/>\r\n       <use x=\"325.244141\" xlink:href=\"#DejaVuSans-46\"/>\r\n       <use x=\"357.03125\" xlink:href=\"#DejaVuSans-56\"/>\r\n       <use x=\"420.654297\" xlink:href=\"#DejaVuSans-91\"/>\r\n      </g>\r\n     </g>\r\n    </g>\r\n    <g id=\"xtick_5\">\r\n     <g id=\"line2d_5\">\r\n      <g>\r\n       <use style=\"stroke:#000000;stroke-width:0.8;\" x=\"509.997375\" xlink:href=\"#me9ff246796\" y=\"185.879375\"/>\r\n      </g>\r\n     </g>\r\n     <g id=\"text_5\">\r\n      <!-- [0.8, 1[ -->\r\n      <defs>\r\n       <path d=\"M 12.40625 8.296875 \r\nL 28.515625 8.296875 \r\nL 28.515625 63.921875 \r\nL 10.984375 60.40625 \r\nL 10.984375 69.390625 \r\nL 28.421875 72.90625 \r\nL 38.28125 72.90625 \r\nL 38.28125 8.296875 \r\nL 54.390625 8.296875 \r\nL 54.390625 0 \r\nL 12.40625 0 \r\nz\r\n\" id=\"DejaVuSans-49\"/>\r\n      </defs>\r\n      <g transform=\"translate(484.499875 203.517187)scale(0.14 -0.14)\">\r\n       <use xlink:href=\"#DejaVuSans-91\"/>\r\n       <use x=\"39.013672\" xlink:href=\"#DejaVuSans-48\"/>\r\n       <use x=\"102.636719\" xlink:href=\"#DejaVuSans-46\"/>\r\n       <use x=\"134.423828\" xlink:href=\"#DejaVuSans-56\"/>\r\n       <use x=\"198.046875\" xlink:href=\"#DejaVuSans-44\"/>\r\n       <use x=\"229.833984\" xlink:href=\"#DejaVuSans-32\"/>\r\n       <use x=\"261.621094\" xlink:href=\"#DejaVuSans-49\"/>\r\n       <use x=\"325.244141\" xlink:href=\"#DejaVuSans-91\"/>\r\n      </g>\r\n     </g>\r\n    </g>\r\n    <g id=\"text_6\">\r\n     <!-- pct_black/hispanic -->\r\n     <defs>\r\n      <path d=\"M 18.109375 8.203125 \r\nL 18.109375 -20.796875 \r\nL 9.078125 -20.796875 \r\nL 9.078125 54.6875 \r\nL 18.109375 54.6875 \r\nL 18.109375 46.390625 \r\nQ 20.953125 51.265625 25.265625 53.625 \r\nQ 29.59375 56 35.59375 56 \r\nQ 45.5625 56 51.78125 48.09375 \r\nQ 58.015625 40.1875 58.015625 27.296875 \r\nQ 58.015625 14.40625 51.78125 6.484375 \r\nQ 45.5625 -1.421875 35.59375 -1.421875 \r\nQ 29.59375 -1.421875 25.265625 0.953125 \r\nQ 20.953125 3.328125 18.109375 8.203125 \r\nz\r\nM 48.6875 27.296875 \r\nQ 48.6875 37.203125 44.609375 42.84375 \r\nQ 40.53125 48.484375 33.40625 48.484375 \r\nQ 26.265625 48.484375 22.1875 42.84375 \r\nQ 18.109375 37.203125 18.109375 27.296875 \r\nQ 18.109375 17.390625 22.1875 11.75 \r\nQ 26.265625 6.109375 33.40625 6.109375 \r\nQ 40.53125 6.109375 44.609375 11.75 \r\nQ 48.6875 17.390625 48.6875 27.296875 \r\nz\r\n\" id=\"DejaVuSans-112\"/>\r\n      <path d=\"M 48.78125 52.59375 \r\nL 48.78125 44.1875 \r\nQ 44.96875 46.296875 41.140625 47.34375 \r\nQ 37.3125 48.390625 33.40625 48.390625 \r\nQ 24.65625 48.390625 19.8125 42.84375 \r\nQ 14.984375 37.3125 14.984375 27.296875 \r\nQ 14.984375 17.28125 19.8125 11.734375 \r\nQ 24.65625 6.203125 33.40625 6.203125 \r\nQ 37.3125 6.203125 41.140625 7.25 \r\nQ 44.96875 8.296875 48.78125 10.40625 \r\nL 48.78125 2.09375 \r\nQ 45.015625 0.34375 40.984375 -0.53125 \r\nQ 36.96875 -1.421875 32.421875 -1.421875 \r\nQ 20.0625 -1.421875 12.78125 6.34375 \r\nQ 5.515625 14.109375 5.515625 27.296875 \r\nQ 5.515625 40.671875 12.859375 48.328125 \r\nQ 20.21875 56 33.015625 56 \r\nQ 37.15625 56 41.109375 55.140625 \r\nQ 45.0625 54.296875 48.78125 52.59375 \r\nz\r\n\" id=\"DejaVuSans-99\"/>\r\n      <path d=\"M 18.3125 70.21875 \r\nL 18.3125 54.6875 \r\nL 36.8125 54.6875 \r\nL 36.8125 47.703125 \r\nL 18.3125 47.703125 \r\nL 18.3125 18.015625 \r\nQ 18.3125 11.328125 20.140625 9.421875 \r\nQ 21.96875 7.515625 27.59375 7.515625 \r\nL 36.8125 7.515625 \r\nL 36.8125 0 \r\nL 27.59375 0 \r\nQ 17.1875 0 13.234375 3.875 \r\nQ 9.28125 7.765625 9.28125 18.015625 \r\nL 9.28125 47.703125 \r\nL 2.6875 47.703125 \r\nL 2.6875 54.6875 \r\nL 9.28125 54.6875 \r\nL 9.28125 70.21875 \r\nz\r\n\" id=\"DejaVuSans-116\"/>\r\n      <path d=\"M 50.984375 -16.609375 \r\nL 50.984375 -23.578125 \r\nL -0.984375 -23.578125 \r\nL -0.984375 -16.609375 \r\nz\r\n\" id=\"DejaVuSans-95\"/>\r\n      <path d=\"M 48.6875 27.296875 \r\nQ 48.6875 37.203125 44.609375 42.84375 \r\nQ 40.53125 48.484375 33.40625 48.484375 \r\nQ 26.265625 48.484375 22.1875 42.84375 \r\nQ 18.109375 37.203125 18.109375 27.296875 \r\nQ 18.109375 17.390625 22.1875 11.75 \r\nQ 26.265625 6.109375 33.40625 6.109375 \r\nQ 40.53125 6.109375 44.609375 11.75 \r\nQ 48.6875 17.390625 48.6875 27.296875 \r\nz\r\nM 18.109375 46.390625 \r\nQ 20.953125 51.265625 25.265625 53.625 \r\nQ 29.59375 56 35.59375 56 \r\nQ 45.5625 56 51.78125 48.09375 \r\nQ 58.015625 40.1875 58.015625 27.296875 \r\nQ 58.015625 14.40625 51.78125 6.484375 \r\nQ 45.5625 -1.421875 35.59375 -1.421875 \r\nQ 29.59375 -1.421875 25.265625 0.953125 \r\nQ 20.953125 3.328125 18.109375 8.203125 \r\nL 18.109375 0 \r\nL 9.078125 0 \r\nL 9.078125 75.984375 \r\nL 18.109375 75.984375 \r\nz\r\n\" id=\"DejaVuSans-98\"/>\r\n      <path d=\"M 9.421875 75.984375 \r\nL 18.40625 75.984375 \r\nL 18.40625 0 \r\nL 9.421875 0 \r\nz\r\n\" id=\"DejaVuSans-108\"/>\r\n      <path d=\"M 34.28125 27.484375 \r\nQ 23.390625 27.484375 19.1875 25 \r\nQ 14.984375 22.515625 14.984375 16.5 \r\nQ 14.984375 11.71875 18.140625 8.90625 \r\nQ 21.296875 6.109375 26.703125 6.109375 \r\nQ 34.1875 6.109375 38.703125 11.40625 \r\nQ 43.21875 16.703125 43.21875 25.484375 \r\nL 43.21875 27.484375 \r\nz\r\nM 52.203125 31.203125 \r\nL 52.203125 0 \r\nL 43.21875 0 \r\nL 43.21875 8.296875 \r\nQ 40.140625 3.328125 35.546875 0.953125 \r\nQ 30.953125 -1.421875 24.3125 -1.421875 \r\nQ 15.921875 -1.421875 10.953125 3.296875 \r\nQ 6 8.015625 6 15.921875 \r\nQ 6 25.140625 12.171875 29.828125 \r\nQ 18.359375 34.515625 30.609375 34.515625 \r\nL 43.21875 34.515625 \r\nL 43.21875 35.40625 \r\nQ 43.21875 41.609375 39.140625 45 \r\nQ 35.0625 48.390625 27.6875 48.390625 \r\nQ 23 48.390625 18.546875 47.265625 \r\nQ 14.109375 46.140625 10.015625 43.890625 \r\nL 10.015625 52.203125 \r\nQ 14.9375 54.109375 19.578125 55.046875 \r\nQ 24.21875 56 28.609375 56 \r\nQ 40.484375 56 46.34375 49.84375 \r\nQ 52.203125 43.703125 52.203125 31.203125 \r\nz\r\n\" id=\"DejaVuSans-97\"/>\r\n      <path d=\"M 9.078125 75.984375 \r\nL 18.109375 75.984375 \r\nL 18.109375 31.109375 \r\nL 44.921875 54.6875 \r\nL 56.390625 54.6875 \r\nL 27.390625 29.109375 \r\nL 57.625 0 \r\nL 45.90625 0 \r\nL 18.109375 26.703125 \r\nL 18.109375 0 \r\nL 9.078125 0 \r\nz\r\n\" id=\"DejaVuSans-107\"/>\r\n      <path d=\"M 25.390625 72.90625 \r\nL 33.6875 72.90625 \r\nL 8.296875 -9.28125 \r\nL 0 -9.28125 \r\nz\r\n\" id=\"DejaVuSans-47\"/>\r\n      <path d=\"M 54.890625 33.015625 \r\nL 54.890625 0 \r\nL 45.90625 0 \r\nL 45.90625 32.71875 \r\nQ 45.90625 40.484375 42.875 44.328125 \r\nQ 39.84375 48.1875 33.796875 48.1875 \r\nQ 26.515625 48.1875 22.3125 43.546875 \r\nQ 18.109375 38.921875 18.109375 30.90625 \r\nL 18.109375 0 \r\nL 9.078125 0 \r\nL 9.078125 75.984375 \r\nL 18.109375 75.984375 \r\nL 18.109375 46.1875 \r\nQ 21.34375 51.125 25.703125 53.5625 \r\nQ 30.078125 56 35.796875 56 \r\nQ 45.21875 56 50.046875 50.171875 \r\nQ 54.890625 44.34375 54.890625 33.015625 \r\nz\r\n\" id=\"DejaVuSans-104\"/>\r\n      <path d=\"M 9.421875 54.6875 \r\nL 18.40625 54.6875 \r\nL 18.40625 0 \r\nL 9.421875 0 \r\nz\r\nM 9.421875 75.984375 \r\nL 18.40625 75.984375 \r\nL 18.40625 64.59375 \r\nL 9.421875 64.59375 \r\nz\r\n\" id=\"DejaVuSans-105\"/>\r\n      <path d=\"M 44.28125 53.078125 \r\nL 44.28125 44.578125 \r\nQ 40.484375 46.53125 36.375 47.5 \r\nQ 32.28125 48.484375 27.875 48.484375 \r\nQ 21.1875 48.484375 17.84375 46.4375 \r\nQ 14.5 44.390625 14.5 40.28125 \r\nQ 14.5 37.15625 16.890625 35.375 \r\nQ 19.28125 33.59375 26.515625 31.984375 \r\nL 29.59375 31.296875 \r\nQ 39.15625 29.25 43.1875 25.515625 \r\nQ 47.21875 21.78125 47.21875 15.09375 \r\nQ 47.21875 7.46875 41.1875 3.015625 \r\nQ 35.15625 -1.421875 24.609375 -1.421875 \r\nQ 20.21875 -1.421875 15.453125 -0.5625 \r\nQ 10.6875 0.296875 5.421875 2 \r\nL 5.421875 11.28125 \r\nQ 10.40625 8.6875 15.234375 7.390625 \r\nQ 20.0625 6.109375 24.8125 6.109375 \r\nQ 31.15625 6.109375 34.5625 8.28125 \r\nQ 37.984375 10.453125 37.984375 14.40625 \r\nQ 37.984375 18.0625 35.515625 20.015625 \r\nQ 33.0625 21.96875 24.703125 23.78125 \r\nL 21.578125 24.515625 \r\nQ 13.234375 26.265625 9.515625 29.90625 \r\nQ 5.8125 33.546875 5.8125 39.890625 \r\nQ 5.8125 47.609375 11.28125 51.796875 \r\nQ 16.75 56 26.8125 56 \r\nQ 31.78125 56 36.171875 55.265625 \r\nQ 40.578125 54.546875 44.28125 53.078125 \r\nz\r\n\" id=\"DejaVuSans-115\"/>\r\n      <path d=\"M 54.890625 33.015625 \r\nL 54.890625 0 \r\nL 45.90625 0 \r\nL 45.90625 32.71875 \r\nQ 45.90625 40.484375 42.875 44.328125 \r\nQ 39.84375 48.1875 33.796875 48.1875 \r\nQ 26.515625 48.1875 22.3125 43.546875 \r\nQ 18.109375 38.921875 18.109375 30.90625 \r\nL 18.109375 0 \r\nL 9.078125 0 \r\nL 9.078125 54.6875 \r\nL 18.109375 54.6875 \r\nL 18.109375 46.1875 \r\nQ 21.34375 51.125 25.703125 53.5625 \r\nQ 30.078125 56 35.796875 56 \r\nQ 45.21875 56 50.046875 50.171875 \r\nQ 54.890625 44.34375 54.890625 33.015625 \r\nz\r\n\" id=\"DejaVuSans-110\"/>\r\n     </defs>\r\n     <g transform=\"translate(244.852656 221.066562)scale(0.14 -0.14)\">\r\n      <use xlink:href=\"#DejaVuSans-112\"/>\r\n      <use x=\"63.476562\" xlink:href=\"#DejaVuSans-99\"/>\r\n      <use x=\"118.457031\" xlink:href=\"#DejaVuSans-116\"/>\r\n      <use x=\"157.666016\" xlink:href=\"#DejaVuSans-95\"/>\r\n      <use x=\"207.666016\" xlink:href=\"#DejaVuSans-98\"/>\r\n      <use x=\"271.142578\" xlink:href=\"#DejaVuSans-108\"/>\r\n      <use x=\"298.925781\" xlink:href=\"#DejaVuSans-97\"/>\r\n      <use x=\"360.205078\" xlink:href=\"#DejaVuSans-99\"/>\r\n      <use x=\"415.185547\" xlink:href=\"#DejaVuSans-107\"/>\r\n      <use x=\"473.095703\" xlink:href=\"#DejaVuSans-47\"/>\r\n      <use x=\"506.787109\" xlink:href=\"#DejaVuSans-104\"/>\r\n      <use x=\"570.166016\" xlink:href=\"#DejaVuSans-105\"/>\r\n      <use x=\"597.949219\" xlink:href=\"#DejaVuSans-115\"/>\r\n      <use x=\"650.048828\" xlink:href=\"#DejaVuSans-112\"/>\r\n      <use x=\"713.525391\" xlink:href=\"#DejaVuSans-97\"/>\r\n      <use x=\"774.804688\" xlink:href=\"#DejaVuSans-110\"/>\r\n      <use x=\"838.183594\" xlink:href=\"#DejaVuSans-105\"/>\r\n      <use x=\"865.966797\" xlink:href=\"#DejaVuSans-99\"/>\r\n     </g>\r\n    </g>\r\n   </g>\r\n   <g id=\"matplotlib.axis_2\">\r\n    <g id=\"ytick_1\">\r\n     <g id=\"line2d_6\">\r\n      <defs>\r\n       <path d=\"M 0 0 \r\nL -3.5 0 \r\n\" id=\"me49a457a73\" style=\"stroke:#000000;stroke-width:0.8;\"/>\r\n      </defs>\r\n      <g>\r\n       <use style=\"stroke:#000000;stroke-width:0.8;\" x=\"58.471875\" xlink:href=\"#me49a457a73\" y=\"185.879375\"/>\r\n      </g>\r\n     </g>\r\n     <g id=\"text_7\">\r\n      <!-- 0 -->\r\n      <g transform=\"translate(42.564375 191.198281)scale(0.14 -0.14)\">\r\n       <use xlink:href=\"#DejaVuSans-48\"/>\r\n      </g>\r\n     </g>\r\n    </g>\r\n    <g id=\"ytick_2\">\r\n     <g id=\"line2d_7\">\r\n      <g>\r\n       <use style=\"stroke:#000000;stroke-width:0.8;\" x=\"58.471875\" xlink:href=\"#me49a457a73\" y=\"152.790602\"/>\r\n      </g>\r\n     </g>\r\n     <g id=\"text_8\">\r\n      <!-- 25 -->\r\n      <defs>\r\n       <path d=\"M 10.796875 72.90625 \r\nL 49.515625 72.90625 \r\nL 49.515625 64.59375 \r\nL 19.828125 64.59375 \r\nL 19.828125 46.734375 \r\nQ 21.96875 47.46875 24.109375 47.828125 \r\nQ 26.265625 48.1875 28.421875 48.1875 \r\nQ 40.625 48.1875 47.75 41.5 \r\nQ 54.890625 34.8125 54.890625 23.390625 \r\nQ 54.890625 11.625 47.5625 5.09375 \r\nQ 40.234375 -1.421875 26.90625 -1.421875 \r\nQ 22.3125 -1.421875 17.546875 -0.640625 \r\nQ 12.796875 0.140625 7.71875 1.703125 \r\nL 7.71875 11.625 \r\nQ 12.109375 9.234375 16.796875 8.0625 \r\nQ 21.484375 6.890625 26.703125 6.890625 \r\nQ 35.15625 6.890625 40.078125 11.328125 \r\nQ 45.015625 15.765625 45.015625 23.390625 \r\nQ 45.015625 31 40.078125 35.4375 \r\nQ 35.15625 39.890625 26.703125 39.890625 \r\nQ 22.75 39.890625 18.8125 39.015625 \r\nQ 14.890625 38.140625 10.796875 36.28125 \r\nz\r\n\" id=\"DejaVuSans-53\"/>\r\n      </defs>\r\n      <g transform=\"translate(33.656875 158.109508)scale(0.14 -0.14)\">\r\n       <use xlink:href=\"#DejaVuSans-50\"/>\r\n       <use x=\"63.623047\" xlink:href=\"#DejaVuSans-53\"/>\r\n      </g>\r\n     </g>\r\n    </g>\r\n    <g id=\"ytick_3\">\r\n     <g id=\"line2d_8\">\r\n      <g>\r\n       <use style=\"stroke:#000000;stroke-width:0.8;\" x=\"58.471875\" xlink:href=\"#me49a457a73\" y=\"119.701829\"/>\r\n      </g>\r\n     </g>\r\n     <g id=\"text_9\">\r\n      <!-- 50 -->\r\n      <g transform=\"translate(33.656875 125.020735)scale(0.14 -0.14)\">\r\n       <use xlink:href=\"#DejaVuSans-53\"/>\r\n       <use x=\"63.623047\" xlink:href=\"#DejaVuSans-48\"/>\r\n      </g>\r\n     </g>\r\n    </g>\r\n    <g id=\"ytick_4\">\r\n     <g id=\"line2d_9\">\r\n      <g>\r\n       <use style=\"stroke:#000000;stroke-width:0.8;\" x=\"58.471875\" xlink:href=\"#me49a457a73\" y=\"86.613056\"/>\r\n      </g>\r\n     </g>\r\n     <g id=\"text_10\">\r\n      <!-- 75 -->\r\n      <defs>\r\n       <path d=\"M 8.203125 72.90625 \r\nL 55.078125 72.90625 \r\nL 55.078125 68.703125 \r\nL 28.609375 0 \r\nL 18.3125 0 \r\nL 43.21875 64.59375 \r\nL 8.203125 64.59375 \r\nz\r\n\" id=\"DejaVuSans-55\"/>\r\n      </defs>\r\n      <g transform=\"translate(33.656875 91.931962)scale(0.14 -0.14)\">\r\n       <use xlink:href=\"#DejaVuSans-55\"/>\r\n       <use x=\"63.623047\" xlink:href=\"#DejaVuSans-53\"/>\r\n      </g>\r\n     </g>\r\n    </g>\r\n    <g id=\"ytick_5\">\r\n     <g id=\"line2d_10\">\r\n      <g>\r\n       <use style=\"stroke:#000000;stroke-width:0.8;\" x=\"58.471875\" xlink:href=\"#me49a457a73\" y=\"53.524282\"/>\r\n      </g>\r\n     </g>\r\n     <g id=\"text_11\">\r\n      <!-- 100 -->\r\n      <g transform=\"translate(24.749375 58.843189)scale(0.14 -0.14)\">\r\n       <use xlink:href=\"#DejaVuSans-49\"/>\r\n       <use x=\"63.623047\" xlink:href=\"#DejaVuSans-48\"/>\r\n       <use x=\"127.246094\" xlink:href=\"#DejaVuSans-48\"/>\r\n      </g>\r\n     </g>\r\n    </g>\r\n    <g id=\"ytick_6\">\r\n     <g id=\"line2d_11\">\r\n      <g>\r\n       <use style=\"stroke:#000000;stroke-width:0.8;\" x=\"58.471875\" xlink:href=\"#me49a457a73\" y=\"20.435509\"/>\r\n      </g>\r\n     </g>\r\n     <g id=\"text_12\">\r\n      <!-- 125 -->\r\n      <g transform=\"translate(24.749375 25.754416)scale(0.14 -0.14)\">\r\n       <use xlink:href=\"#DejaVuSans-49\"/>\r\n       <use x=\"63.623047\" xlink:href=\"#DejaVuSans-50\"/>\r\n       <use x=\"127.246094\" xlink:href=\"#DejaVuSans-53\"/>\r\n      </g>\r\n     </g>\r\n    </g>\r\n    <g id=\"text_13\">\r\n     <!-- count -->\r\n     <defs>\r\n      <path d=\"M 30.609375 48.390625 \r\nQ 23.390625 48.390625 19.1875 42.75 \r\nQ 14.984375 37.109375 14.984375 27.296875 \r\nQ 14.984375 17.484375 19.15625 11.84375 \r\nQ 23.34375 6.203125 30.609375 6.203125 \r\nQ 37.796875 6.203125 41.984375 11.859375 \r\nQ 46.1875 17.53125 46.1875 27.296875 \r\nQ 46.1875 37.015625 41.984375 42.703125 \r\nQ 37.796875 48.390625 30.609375 48.390625 \r\nz\r\nM 30.609375 56 \r\nQ 42.328125 56 49.015625 48.375 \r\nQ 55.71875 40.765625 55.71875 27.296875 \r\nQ 55.71875 13.875 49.015625 6.21875 \r\nQ 42.328125 -1.421875 30.609375 -1.421875 \r\nQ 18.84375 -1.421875 12.171875 6.21875 \r\nQ 5.515625 13.875 5.515625 27.296875 \r\nQ 5.515625 40.765625 12.171875 48.375 \r\nQ 18.84375 56 30.609375 56 \r\nz\r\n\" id=\"DejaVuSans-111\"/>\r\n      <path d=\"M 8.5 21.578125 \r\nL 8.5 54.6875 \r\nL 17.484375 54.6875 \r\nL 17.484375 21.921875 \r\nQ 17.484375 14.15625 20.5 10.265625 \r\nQ 23.53125 6.390625 29.59375 6.390625 \r\nQ 36.859375 6.390625 41.078125 11.03125 \r\nQ 45.3125 15.671875 45.3125 23.6875 \r\nL 45.3125 54.6875 \r\nL 54.296875 54.6875 \r\nL 54.296875 0 \r\nL 45.3125 0 \r\nL 45.3125 8.40625 \r\nQ 42.046875 3.421875 37.71875 1 \r\nQ 33.40625 -1.421875 27.6875 -1.421875 \r\nQ 18.265625 -1.421875 13.375 4.4375 \r\nQ 8.5 10.296875 8.5 21.578125 \r\nz\r\nM 31.109375 56 \r\nz\r\n\" id=\"DejaVuSans-117\"/>\r\n     </defs>\r\n     <g transform=\"translate(17.837813 116.288437)rotate(-90)scale(0.14 -0.14)\">\r\n      <use xlink:href=\"#DejaVuSans-99\"/>\r\n      <use x=\"54.980469\" xlink:href=\"#DejaVuSans-111\"/>\r\n      <use x=\"116.162109\" xlink:href=\"#DejaVuSans-117\"/>\r\n      <use x=\"179.541016\" xlink:href=\"#DejaVuSans-110\"/>\r\n      <use x=\"242.919922\" xlink:href=\"#DejaVuSans-116\"/>\r\n     </g>\r\n    </g>\r\n   </g>\r\n   <g id=\"patch_8\">\r\n    <path d=\"M 58.471875 185.879375 \r\nL 58.471875 7.2 \r\n\" style=\"fill:none;stroke:#000000;stroke-linecap:square;stroke-linejoin:miter;stroke-width:0.8;\"/>\r\n   </g>\r\n   <g id=\"patch_9\">\r\n    <path d=\"M 560.166875 185.879375 \r\nL 560.166875 7.2 \r\n\" style=\"fill:none;stroke:#000000;stroke-linecap:square;stroke-linejoin:miter;stroke-width:0.8;\"/>\r\n   </g>\r\n   <g id=\"patch_10\">\r\n    <path d=\"M 58.471875 185.879375 \r\nL 560.166875 185.879375 \r\n\" style=\"fill:none;stroke:#000000;stroke-linecap:square;stroke-linejoin:miter;stroke-width:0.8;\"/>\r\n   </g>\r\n   <g id=\"patch_11\">\r\n    <path d=\"M 58.471875 7.2 \r\nL 560.166875 7.2 \r\n\" style=\"fill:none;stroke:#000000;stroke-linecap:square;stroke-linejoin:miter;stroke-width:0.8;\"/>\r\n   </g>\r\n  </g>\r\n  <g id=\"axes_2\">\r\n   <g id=\"patch_12\">\r\n    <path d=\"M 626.911875 185.879375 \r\nL 1128.606875 185.879375 \r\nL 1128.606875 7.2 \r\nL 626.911875 7.2 \r\nz\r\n\" style=\"fill:#ffffff;\"/>\r\n   </g>\r\n   <g id=\"patch_13\">\r\n    <path clip-path=\"url(#p9679af4a66)\" d=\"M 636.945775 185.879375 \r\nL 717.216975 185.879375 \r\nL 717.216975 136.907991 \r\nL 636.945775 136.907991 \r\nz\r\n\" style=\"fill:#dcedd8;\"/>\r\n   </g>\r\n   <g id=\"patch_14\">\r\n    <path clip-path=\"url(#p9679af4a66)\" d=\"M 737.284775 185.879375 \r\nL 817.555975 185.879375 \r\nL 817.555975 139.555093 \r\nL 737.284775 139.555093 \r\nz\r\n\" style=\"fill:#badcbe;\"/>\r\n   </g>\r\n   <g id=\"patch_15\">\r\n    <path clip-path=\"url(#p9679af4a66)\" d=\"M 837.623775 185.879375 \r\nL 917.894975 185.879375 \r\nL 917.894975 148.819949 \r\nL 837.623775 148.819949 \r\nz\r\n\" style=\"fill:#84c1bc;\"/>\r\n   </g>\r\n   <g id=\"patch_16\">\r\n    <path clip-path=\"url(#p9679af4a66)\" d=\"M 937.962775 185.879375 \r\nL 1018.233975 185.879375 \r\nL 1018.233975 171.320315 \r\nL 937.962775 171.320315 \r\nz\r\n\" style=\"fill:#549ebb;\"/>\r\n   </g>\r\n   <g id=\"patch_17\">\r\n    <path clip-path=\"url(#p9679af4a66)\" d=\"M 1038.301775 185.879375 \r\nL 1118.572975 185.879375 \r\nL 1118.572975 184.555824 \r\nL 1038.301775 184.555824 \r\nz\r\n\" style=\"fill:#276f9e;\"/>\r\n   </g>\r\n   <g id=\"matplotlib.axis_3\">\r\n    <g id=\"xtick_6\">\r\n     <g id=\"line2d_12\">\r\n      <g>\r\n       <use style=\"stroke:#000000;stroke-width:0.8;\" x=\"677.081375\" xlink:href=\"#me9ff246796\" y=\"185.879375\"/>\r\n      </g>\r\n     </g>\r\n     <g id=\"text_14\">\r\n      <!-- [0, 0.2[ -->\r\n      <g transform=\"translate(651.583875 203.517187)scale(0.14 -0.14)\">\r\n       <use xlink:href=\"#DejaVuSans-91\"/>\r\n       <use x=\"39.013672\" xlink:href=\"#DejaVuSans-48\"/>\r\n       <use x=\"102.636719\" xlink:href=\"#DejaVuSans-44\"/>\r\n       <use x=\"134.423828\" xlink:href=\"#DejaVuSans-32\"/>\r\n       <use x=\"166.210938\" xlink:href=\"#DejaVuSans-48\"/>\r\n       <use x=\"229.833984\" xlink:href=\"#DejaVuSans-46\"/>\r\n       <use x=\"261.621094\" xlink:href=\"#DejaVuSans-50\"/>\r\n       <use x=\"325.244141\" xlink:href=\"#DejaVuSans-91\"/>\r\n      </g>\r\n     </g>\r\n    </g>\r\n    <g id=\"xtick_7\">\r\n     <g id=\"line2d_13\">\r\n      <g>\r\n       <use style=\"stroke:#000000;stroke-width:0.8;\" x=\"777.420375\" xlink:href=\"#me9ff246796\" y=\"185.879375\"/>\r\n      </g>\r\n     </g>\r\n     <g id=\"text_15\">\r\n      <!-- [0.2, 0.4[ -->\r\n      <g transform=\"translate(745.244437 203.517187)scale(0.14 -0.14)\">\r\n       <use xlink:href=\"#DejaVuSans-91\"/>\r\n       <use x=\"39.013672\" xlink:href=\"#DejaVuSans-48\"/>\r\n       <use x=\"102.636719\" xlink:href=\"#DejaVuSans-46\"/>\r\n       <use x=\"134.423828\" xlink:href=\"#DejaVuSans-50\"/>\r\n       <use x=\"198.046875\" xlink:href=\"#DejaVuSans-44\"/>\r\n       <use x=\"229.833984\" xlink:href=\"#DejaVuSans-32\"/>\r\n       <use x=\"261.621094\" xlink:href=\"#DejaVuSans-48\"/>\r\n       <use x=\"325.244141\" xlink:href=\"#DejaVuSans-46\"/>\r\n       <use x=\"357.03125\" xlink:href=\"#DejaVuSans-52\"/>\r\n       <use x=\"420.654297\" xlink:href=\"#DejaVuSans-91\"/>\r\n      </g>\r\n     </g>\r\n    </g>\r\n    <g id=\"xtick_8\">\r\n     <g id=\"line2d_14\">\r\n      <g>\r\n       <use style=\"stroke:#000000;stroke-width:0.8;\" x=\"877.759375\" xlink:href=\"#me9ff246796\" y=\"185.879375\"/>\r\n      </g>\r\n     </g>\r\n     <g id=\"text_16\">\r\n      <!-- [0.4, 0.6[ -->\r\n      <g transform=\"translate(845.583437 203.517187)scale(0.14 -0.14)\">\r\n       <use xlink:href=\"#DejaVuSans-91\"/>\r\n       <use x=\"39.013672\" xlink:href=\"#DejaVuSans-48\"/>\r\n       <use x=\"102.636719\" xlink:href=\"#DejaVuSans-46\"/>\r\n       <use x=\"134.423828\" xlink:href=\"#DejaVuSans-52\"/>\r\n       <use x=\"198.046875\" xlink:href=\"#DejaVuSans-44\"/>\r\n       <use x=\"229.833984\" xlink:href=\"#DejaVuSans-32\"/>\r\n       <use x=\"261.621094\" xlink:href=\"#DejaVuSans-48\"/>\r\n       <use x=\"325.244141\" xlink:href=\"#DejaVuSans-46\"/>\r\n       <use x=\"357.03125\" xlink:href=\"#DejaVuSans-54\"/>\r\n       <use x=\"420.654297\" xlink:href=\"#DejaVuSans-91\"/>\r\n      </g>\r\n     </g>\r\n    </g>\r\n    <g id=\"xtick_9\">\r\n     <g id=\"line2d_15\">\r\n      <g>\r\n       <use style=\"stroke:#000000;stroke-width:0.8;\" x=\"978.098375\" xlink:href=\"#me9ff246796\" y=\"185.879375\"/>\r\n      </g>\r\n     </g>\r\n     <g id=\"text_17\">\r\n      <!-- [0.6, 0.8[ -->\r\n      <g transform=\"translate(945.922437 203.517187)scale(0.14 -0.14)\">\r\n       <use xlink:href=\"#DejaVuSans-91\"/>\r\n       <use x=\"39.013672\" xlink:href=\"#DejaVuSans-48\"/>\r\n       <use x=\"102.636719\" xlink:href=\"#DejaVuSans-46\"/>\r\n       <use x=\"134.423828\" xlink:href=\"#DejaVuSans-54\"/>\r\n       <use x=\"198.046875\" xlink:href=\"#DejaVuSans-44\"/>\r\n       <use x=\"229.833984\" xlink:href=\"#DejaVuSans-32\"/>\r\n       <use x=\"261.621094\" xlink:href=\"#DejaVuSans-48\"/>\r\n       <use x=\"325.244141\" xlink:href=\"#DejaVuSans-46\"/>\r\n       <use x=\"357.03125\" xlink:href=\"#DejaVuSans-56\"/>\r\n       <use x=\"420.654297\" xlink:href=\"#DejaVuSans-91\"/>\r\n      </g>\r\n     </g>\r\n    </g>\r\n    <g id=\"xtick_10\">\r\n     <g id=\"line2d_16\">\r\n      <g>\r\n       <use style=\"stroke:#000000;stroke-width:0.8;\" x=\"1078.437375\" xlink:href=\"#me9ff246796\" y=\"185.879375\"/>\r\n      </g>\r\n     </g>\r\n     <g id=\"text_18\">\r\n      <!-- [0.8, 1[ -->\r\n      <g transform=\"translate(1052.939875 203.517187)scale(0.14 -0.14)\">\r\n       <use xlink:href=\"#DejaVuSans-91\"/>\r\n       <use x=\"39.013672\" xlink:href=\"#DejaVuSans-48\"/>\r\n       <use x=\"102.636719\" xlink:href=\"#DejaVuSans-46\"/>\r\n       <use x=\"134.423828\" xlink:href=\"#DejaVuSans-56\"/>\r\n       <use x=\"198.046875\" xlink:href=\"#DejaVuSans-44\"/>\r\n       <use x=\"229.833984\" xlink:href=\"#DejaVuSans-32\"/>\r\n       <use x=\"261.621094\" xlink:href=\"#DejaVuSans-49\"/>\r\n       <use x=\"325.244141\" xlink:href=\"#DejaVuSans-91\"/>\r\n      </g>\r\n     </g>\r\n    </g>\r\n    <g id=\"text_19\">\r\n     <!-- pct_free/reduced -->\r\n     <defs>\r\n      <path d=\"M 37.109375 75.984375 \r\nL 37.109375 68.5 \r\nL 28.515625 68.5 \r\nQ 23.6875 68.5 21.796875 66.546875 \r\nQ 19.921875 64.59375 19.921875 59.515625 \r\nL 19.921875 54.6875 \r\nL 34.71875 54.6875 \r\nL 34.71875 47.703125 \r\nL 19.921875 47.703125 \r\nL 19.921875 0 \r\nL 10.890625 0 \r\nL 10.890625 47.703125 \r\nL 2.296875 47.703125 \r\nL 2.296875 54.6875 \r\nL 10.890625 54.6875 \r\nL 10.890625 58.5 \r\nQ 10.890625 67.625 15.140625 71.796875 \r\nQ 19.390625 75.984375 28.609375 75.984375 \r\nz\r\n\" id=\"DejaVuSans-102\"/>\r\n      <path d=\"M 41.109375 46.296875 \r\nQ 39.59375 47.171875 37.8125 47.578125 \r\nQ 36.03125 48 33.890625 48 \r\nQ 26.265625 48 22.1875 43.046875 \r\nQ 18.109375 38.09375 18.109375 28.8125 \r\nL 18.109375 0 \r\nL 9.078125 0 \r\nL 9.078125 54.6875 \r\nL 18.109375 54.6875 \r\nL 18.109375 46.1875 \r\nQ 20.953125 51.171875 25.484375 53.578125 \r\nQ 30.03125 56 36.53125 56 \r\nQ 37.453125 56 38.578125 55.875 \r\nQ 39.703125 55.765625 41.0625 55.515625 \r\nz\r\n\" id=\"DejaVuSans-114\"/>\r\n      <path d=\"M 56.203125 29.59375 \r\nL 56.203125 25.203125 \r\nL 14.890625 25.203125 \r\nQ 15.484375 15.921875 20.484375 11.0625 \r\nQ 25.484375 6.203125 34.421875 6.203125 \r\nQ 39.59375 6.203125 44.453125 7.46875 \r\nQ 49.3125 8.734375 54.109375 11.28125 \r\nL 54.109375 2.78125 \r\nQ 49.265625 0.734375 44.1875 -0.34375 \r\nQ 39.109375 -1.421875 33.890625 -1.421875 \r\nQ 20.796875 -1.421875 13.15625 6.1875 \r\nQ 5.515625 13.8125 5.515625 26.8125 \r\nQ 5.515625 40.234375 12.765625 48.109375 \r\nQ 20.015625 56 32.328125 56 \r\nQ 43.359375 56 49.78125 48.890625 \r\nQ 56.203125 41.796875 56.203125 29.59375 \r\nz\r\nM 47.21875 32.234375 \r\nQ 47.125 39.59375 43.09375 43.984375 \r\nQ 39.0625 48.390625 32.421875 48.390625 \r\nQ 24.90625 48.390625 20.390625 44.140625 \r\nQ 15.875 39.890625 15.1875 32.171875 \r\nz\r\n\" id=\"DejaVuSans-101\"/>\r\n      <path d=\"M 45.40625 46.390625 \r\nL 45.40625 75.984375 \r\nL 54.390625 75.984375 \r\nL 54.390625 0 \r\nL 45.40625 0 \r\nL 45.40625 8.203125 \r\nQ 42.578125 3.328125 38.25 0.953125 \r\nQ 33.9375 -1.421875 27.875 -1.421875 \r\nQ 17.96875 -1.421875 11.734375 6.484375 \r\nQ 5.515625 14.40625 5.515625 27.296875 \r\nQ 5.515625 40.1875 11.734375 48.09375 \r\nQ 17.96875 56 27.875 56 \r\nQ 33.9375 56 38.25 53.625 \r\nQ 42.578125 51.265625 45.40625 46.390625 \r\nz\r\nM 14.796875 27.296875 \r\nQ 14.796875 17.390625 18.875 11.75 \r\nQ 22.953125 6.109375 30.078125 6.109375 \r\nQ 37.203125 6.109375 41.296875 11.75 \r\nQ 45.40625 17.390625 45.40625 27.296875 \r\nQ 45.40625 37.203125 41.296875 42.84375 \r\nQ 37.203125 48.484375 30.078125 48.484375 \r\nQ 22.953125 48.484375 18.875 42.84375 \r\nQ 14.796875 37.203125 14.796875 27.296875 \r\nz\r\n\" id=\"DejaVuSans-100\"/>\r\n     </defs>\r\n     <g transform=\"translate(818.557969 221.066562)scale(0.14 -0.14)\">\r\n      <use xlink:href=\"#DejaVuSans-112\"/>\r\n      <use x=\"63.476562\" xlink:href=\"#DejaVuSans-99\"/>\r\n      <use x=\"118.457031\" xlink:href=\"#DejaVuSans-116\"/>\r\n      <use x=\"157.666016\" xlink:href=\"#DejaVuSans-95\"/>\r\n      <use x=\"207.666016\" xlink:href=\"#DejaVuSans-102\"/>\r\n      <use x=\"242.871094\" xlink:href=\"#DejaVuSans-114\"/>\r\n      <use x=\"281.734375\" xlink:href=\"#DejaVuSans-101\"/>\r\n      <use x=\"343.257812\" xlink:href=\"#DejaVuSans-101\"/>\r\n      <use x=\"404.78125\" xlink:href=\"#DejaVuSans-47\"/>\r\n      <use x=\"438.472656\" xlink:href=\"#DejaVuSans-114\"/>\r\n      <use x=\"477.335938\" xlink:href=\"#DejaVuSans-101\"/>\r\n      <use x=\"538.859375\" xlink:href=\"#DejaVuSans-100\"/>\r\n      <use x=\"602.335938\" xlink:href=\"#DejaVuSans-117\"/>\r\n      <use x=\"665.714844\" xlink:href=\"#DejaVuSans-99\"/>\r\n      <use x=\"720.695312\" xlink:href=\"#DejaVuSans-101\"/>\r\n      <use x=\"782.21875\" xlink:href=\"#DejaVuSans-100\"/>\r\n     </g>\r\n    </g>\r\n   </g>\r\n   <g id=\"matplotlib.axis_4\">\r\n    <g id=\"ytick_7\">\r\n     <g id=\"line2d_17\">\r\n      <g>\r\n       <use style=\"stroke:#000000;stroke-width:0.8;\" x=\"626.911875\" xlink:href=\"#me49a457a73\" y=\"185.879375\"/>\r\n      </g>\r\n     </g>\r\n     <g id=\"text_20\">\r\n      <!-- 0 -->\r\n      <g transform=\"translate(611.004375 191.198281)scale(0.14 -0.14)\">\r\n       <use xlink:href=\"#DejaVuSans-48\"/>\r\n      </g>\r\n     </g>\r\n    </g>\r\n    <g id=\"ytick_8\">\r\n     <g id=\"line2d_18\">\r\n      <g>\r\n       <use style=\"stroke:#000000;stroke-width:0.8;\" x=\"626.911875\" xlink:href=\"#me49a457a73\" y=\"152.790602\"/>\r\n      </g>\r\n     </g>\r\n     <g id=\"text_21\">\r\n      <!-- 25 -->\r\n      <g transform=\"translate(602.096875 158.109508)scale(0.14 -0.14)\">\r\n       <use xlink:href=\"#DejaVuSans-50\"/>\r\n       <use x=\"63.623047\" xlink:href=\"#DejaVuSans-53\"/>\r\n      </g>\r\n     </g>\r\n    </g>\r\n    <g id=\"ytick_9\">\r\n     <g id=\"line2d_19\">\r\n      <g>\r\n       <use style=\"stroke:#000000;stroke-width:0.8;\" x=\"626.911875\" xlink:href=\"#me49a457a73\" y=\"119.701829\"/>\r\n      </g>\r\n     </g>\r\n     <g id=\"text_22\">\r\n      <!-- 50 -->\r\n      <g transform=\"translate(602.096875 125.020735)scale(0.14 -0.14)\">\r\n       <use xlink:href=\"#DejaVuSans-53\"/>\r\n       <use x=\"63.623047\" xlink:href=\"#DejaVuSans-48\"/>\r\n      </g>\r\n     </g>\r\n    </g>\r\n    <g id=\"ytick_10\">\r\n     <g id=\"line2d_20\">\r\n      <g>\r\n       <use style=\"stroke:#000000;stroke-width:0.8;\" x=\"626.911875\" xlink:href=\"#me49a457a73\" y=\"86.613056\"/>\r\n      </g>\r\n     </g>\r\n     <g id=\"text_23\">\r\n      <!-- 75 -->\r\n      <g transform=\"translate(602.096875 91.931962)scale(0.14 -0.14)\">\r\n       <use xlink:href=\"#DejaVuSans-55\"/>\r\n       <use x=\"63.623047\" xlink:href=\"#DejaVuSans-53\"/>\r\n      </g>\r\n     </g>\r\n    </g>\r\n    <g id=\"ytick_11\">\r\n     <g id=\"line2d_21\">\r\n      <g>\r\n       <use style=\"stroke:#000000;stroke-width:0.8;\" x=\"626.911875\" xlink:href=\"#me49a457a73\" y=\"53.524282\"/>\r\n      </g>\r\n     </g>\r\n     <g id=\"text_24\">\r\n      <!-- 100 -->\r\n      <g transform=\"translate(593.189375 58.843189)scale(0.14 -0.14)\">\r\n       <use xlink:href=\"#DejaVuSans-49\"/>\r\n       <use x=\"63.623047\" xlink:href=\"#DejaVuSans-48\"/>\r\n       <use x=\"127.246094\" xlink:href=\"#DejaVuSans-48\"/>\r\n      </g>\r\n     </g>\r\n    </g>\r\n    <g id=\"ytick_12\">\r\n     <g id=\"line2d_22\">\r\n      <g>\r\n       <use style=\"stroke:#000000;stroke-width:0.8;\" x=\"626.911875\" xlink:href=\"#me49a457a73\" y=\"20.435509\"/>\r\n      </g>\r\n     </g>\r\n     <g id=\"text_25\">\r\n      <!-- 125 -->\r\n      <g transform=\"translate(593.189375 25.754416)scale(0.14 -0.14)\">\r\n       <use xlink:href=\"#DejaVuSans-49\"/>\r\n       <use x=\"63.623047\" xlink:href=\"#DejaVuSans-50\"/>\r\n       <use x=\"127.246094\" xlink:href=\"#DejaVuSans-53\"/>\r\n      </g>\r\n     </g>\r\n    </g>\r\n    <g id=\"text_26\">\r\n     <!-- count -->\r\n     <g transform=\"translate(586.277812 116.288437)rotate(-90)scale(0.14 -0.14)\">\r\n      <use xlink:href=\"#DejaVuSans-99\"/>\r\n      <use x=\"54.980469\" xlink:href=\"#DejaVuSans-111\"/>\r\n      <use x=\"116.162109\" xlink:href=\"#DejaVuSans-117\"/>\r\n      <use x=\"179.541016\" xlink:href=\"#DejaVuSans-110\"/>\r\n      <use x=\"242.919922\" xlink:href=\"#DejaVuSans-116\"/>\r\n     </g>\r\n    </g>\r\n   </g>\r\n   <g id=\"patch_18\">\r\n    <path d=\"M 626.911875 185.879375 \r\nL 626.911875 7.2 \r\n\" style=\"fill:none;stroke:#000000;stroke-linecap:square;stroke-linejoin:miter;stroke-width:0.8;\"/>\r\n   </g>\r\n   <g id=\"patch_19\">\r\n    <path d=\"M 1128.606875 185.879375 \r\nL 1128.606875 7.2 \r\n\" style=\"fill:none;stroke:#000000;stroke-linecap:square;stroke-linejoin:miter;stroke-width:0.8;\"/>\r\n   </g>\r\n   <g id=\"patch_20\">\r\n    <path d=\"M 626.911875 185.879375 \r\nL 1128.606875 185.879375 \r\n\" style=\"fill:none;stroke:#000000;stroke-linecap:square;stroke-linejoin:miter;stroke-width:0.8;\"/>\r\n   </g>\r\n   <g id=\"patch_21\">\r\n    <path d=\"M 626.911875 7.2 \r\nL 1128.606875 7.2 \r\n\" style=\"fill:none;stroke:#000000;stroke-linecap:square;stroke-linejoin:miter;stroke-width:0.8;\"/>\r\n   </g>\r\n  </g>\r\n  <g id=\"axes_3\">\r\n   <g id=\"patch_22\">\r\n    <path d=\"M 58.471875 418.819375 \r\nL 560.166875 418.819375 \r\nL 560.166875 240.14 \r\nL 58.471875 240.14 \r\nz\r\n\" style=\"fill:#ffffff;\"/>\r\n   </g>\r\n   <g id=\"patch_23\">\r\n    <path clip-path=\"url(#p3aa449ecec)\" d=\"M 108.641375 418.819375 \r\nL 509.997375 418.819375 \r\nL 509.997375 256.022611 \r\nL 108.641375 256.022611 \r\nz\r\n\" style=\"fill:#84c1bc;\"/>\r\n   </g>\r\n   <g id=\"matplotlib.axis_5\">\r\n    <g id=\"xtick_11\">\r\n     <g id=\"line2d_23\">\r\n      <g>\r\n       <use style=\"stroke:#000000;stroke-width:0.8;\" x=\"309.319375\" xlink:href=\"#me9ff246796\" y=\"418.819375\"/>\r\n      </g>\r\n     </g>\r\n     <g id=\"text_27\">\r\n      <!-- [0.18, 1[ -->\r\n      <g transform=\"translate(279.368125 436.457187)scale(0.14 -0.14)\">\r\n       <use xlink:href=\"#DejaVuSans-91\"/>\r\n       <use x=\"39.013672\" xlink:href=\"#DejaVuSans-48\"/>\r\n       <use x=\"102.636719\" xlink:href=\"#DejaVuSans-46\"/>\r\n       <use x=\"134.423828\" xlink:href=\"#DejaVuSans-49\"/>\r\n       <use x=\"198.046875\" xlink:href=\"#DejaVuSans-56\"/>\r\n       <use x=\"261.669922\" xlink:href=\"#DejaVuSans-44\"/>\r\n       <use x=\"293.457031\" xlink:href=\"#DejaVuSans-32\"/>\r\n       <use x=\"325.244141\" xlink:href=\"#DejaVuSans-49\"/>\r\n       <use x=\"388.867188\" xlink:href=\"#DejaVuSans-91\"/>\r\n      </g>\r\n     </g>\r\n    </g>\r\n    <g id=\"text_28\">\r\n     <!-- county_connections_ratio -->\r\n     <defs>\r\n      <path d=\"M 32.171875 -5.078125 \r\nQ 28.375 -14.84375 24.75 -17.8125 \r\nQ 21.140625 -20.796875 15.09375 -20.796875 \r\nL 7.90625 -20.796875 \r\nL 7.90625 -13.28125 \r\nL 13.1875 -13.28125 \r\nQ 16.890625 -13.28125 18.9375 -11.515625 \r\nQ 21 -9.765625 23.484375 -3.21875 \r\nL 25.09375 0.875 \r\nL 2.984375 54.6875 \r\nL 12.5 54.6875 \r\nL 29.59375 11.921875 \r\nL 46.6875 54.6875 \r\nL 56.203125 54.6875 \r\nz\r\n\" id=\"DejaVuSans-121\"/>\r\n     </defs>\r\n     <g transform=\"translate(220.072656 454.006562)scale(0.14 -0.14)\">\r\n      <use xlink:href=\"#DejaVuSans-99\"/>\r\n      <use x=\"54.980469\" xlink:href=\"#DejaVuSans-111\"/>\r\n      <use x=\"116.162109\" xlink:href=\"#DejaVuSans-117\"/>\r\n      <use x=\"179.541016\" xlink:href=\"#DejaVuSans-110\"/>\r\n      <use x=\"242.919922\" xlink:href=\"#DejaVuSans-116\"/>\r\n      <use x=\"282.128906\" xlink:href=\"#DejaVuSans-121\"/>\r\n      <use x=\"341.308594\" xlink:href=\"#DejaVuSans-95\"/>\r\n      <use x=\"391.308594\" xlink:href=\"#DejaVuSans-99\"/>\r\n      <use x=\"446.289062\" xlink:href=\"#DejaVuSans-111\"/>\r\n      <use x=\"507.470703\" xlink:href=\"#DejaVuSans-110\"/>\r\n      <use x=\"570.849609\" xlink:href=\"#DejaVuSans-110\"/>\r\n      <use x=\"634.228516\" xlink:href=\"#DejaVuSans-101\"/>\r\n      <use x=\"695.751953\" xlink:href=\"#DejaVuSans-99\"/>\r\n      <use x=\"750.732422\" xlink:href=\"#DejaVuSans-116\"/>\r\n      <use x=\"789.941406\" xlink:href=\"#DejaVuSans-105\"/>\r\n      <use x=\"817.724609\" xlink:href=\"#DejaVuSans-111\"/>\r\n      <use x=\"878.90625\" xlink:href=\"#DejaVuSans-110\"/>\r\n      <use x=\"942.285156\" xlink:href=\"#DejaVuSans-115\"/>\r\n      <use x=\"994.384766\" xlink:href=\"#DejaVuSans-95\"/>\r\n      <use x=\"1044.384766\" xlink:href=\"#DejaVuSans-114\"/>\r\n      <use x=\"1085.498047\" xlink:href=\"#DejaVuSans-97\"/>\r\n      <use x=\"1146.777344\" xlink:href=\"#DejaVuSans-116\"/>\r\n      <use x=\"1185.986328\" xlink:href=\"#DejaVuSans-105\"/>\r\n      <use x=\"1213.769531\" xlink:href=\"#DejaVuSans-111\"/>\r\n     </g>\r\n    </g>\r\n   </g>\r\n   <g id=\"matplotlib.axis_6\">\r\n    <g id=\"ytick_13\">\r\n     <g id=\"line2d_24\">\r\n      <g>\r\n       <use style=\"stroke:#000000;stroke-width:0.8;\" x=\"58.471875\" xlink:href=\"#me49a457a73\" y=\"418.819375\"/>\r\n      </g>\r\n     </g>\r\n     <g id=\"text_29\">\r\n      <!-- 0 -->\r\n      <g transform=\"translate(42.564375 424.138281)scale(0.14 -0.14)\">\r\n       <use xlink:href=\"#DejaVuSans-48\"/>\r\n      </g>\r\n     </g>\r\n    </g>\r\n    <g id=\"ytick_14\">\r\n     <g id=\"line2d_25\">\r\n      <g>\r\n       <use style=\"stroke:#000000;stroke-width:0.8;\" x=\"58.471875\" xlink:href=\"#me49a457a73\" y=\"385.730602\"/>\r\n      </g>\r\n     </g>\r\n     <g id=\"text_30\">\r\n      <!-- 25 -->\r\n      <g transform=\"translate(33.656875 391.049508)scale(0.14 -0.14)\">\r\n       <use xlink:href=\"#DejaVuSans-50\"/>\r\n       <use x=\"63.623047\" xlink:href=\"#DejaVuSans-53\"/>\r\n      </g>\r\n     </g>\r\n    </g>\r\n    <g id=\"ytick_15\">\r\n     <g id=\"line2d_26\">\r\n      <g>\r\n       <use style=\"stroke:#000000;stroke-width:0.8;\" x=\"58.471875\" xlink:href=\"#me49a457a73\" y=\"352.641829\"/>\r\n      </g>\r\n     </g>\r\n     <g id=\"text_31\">\r\n      <!-- 50 -->\r\n      <g transform=\"translate(33.656875 357.960735)scale(0.14 -0.14)\">\r\n       <use xlink:href=\"#DejaVuSans-53\"/>\r\n       <use x=\"63.623047\" xlink:href=\"#DejaVuSans-48\"/>\r\n      </g>\r\n     </g>\r\n    </g>\r\n    <g id=\"ytick_16\">\r\n     <g id=\"line2d_27\">\r\n      <g>\r\n       <use style=\"stroke:#000000;stroke-width:0.8;\" x=\"58.471875\" xlink:href=\"#me49a457a73\" y=\"319.553056\"/>\r\n      </g>\r\n     </g>\r\n     <g id=\"text_32\">\r\n      <!-- 75 -->\r\n      <g transform=\"translate(33.656875 324.871962)scale(0.14 -0.14)\">\r\n       <use xlink:href=\"#DejaVuSans-55\"/>\r\n       <use x=\"63.623047\" xlink:href=\"#DejaVuSans-53\"/>\r\n      </g>\r\n     </g>\r\n    </g>\r\n    <g id=\"ytick_17\">\r\n     <g id=\"line2d_28\">\r\n      <g>\r\n       <use style=\"stroke:#000000;stroke-width:0.8;\" x=\"58.471875\" xlink:href=\"#me49a457a73\" y=\"286.464282\"/>\r\n      </g>\r\n     </g>\r\n     <g id=\"text_33\">\r\n      <!-- 100 -->\r\n      <g transform=\"translate(24.749375 291.783189)scale(0.14 -0.14)\">\r\n       <use xlink:href=\"#DejaVuSans-49\"/>\r\n       <use x=\"63.623047\" xlink:href=\"#DejaVuSans-48\"/>\r\n       <use x=\"127.246094\" xlink:href=\"#DejaVuSans-48\"/>\r\n      </g>\r\n     </g>\r\n    </g>\r\n    <g id=\"ytick_18\">\r\n     <g id=\"line2d_29\">\r\n      <g>\r\n       <use style=\"stroke:#000000;stroke-width:0.8;\" x=\"58.471875\" xlink:href=\"#me49a457a73\" y=\"253.375509\"/>\r\n      </g>\r\n     </g>\r\n     <g id=\"text_34\">\r\n      <!-- 125 -->\r\n      <g transform=\"translate(24.749375 258.694416)scale(0.14 -0.14)\">\r\n       <use xlink:href=\"#DejaVuSans-49\"/>\r\n       <use x=\"63.623047\" xlink:href=\"#DejaVuSans-50\"/>\r\n       <use x=\"127.246094\" xlink:href=\"#DejaVuSans-53\"/>\r\n      </g>\r\n     </g>\r\n    </g>\r\n    <g id=\"text_35\">\r\n     <!-- count -->\r\n     <g transform=\"translate(17.837813 349.228437)rotate(-90)scale(0.14 -0.14)\">\r\n      <use xlink:href=\"#DejaVuSans-99\"/>\r\n      <use x=\"54.980469\" xlink:href=\"#DejaVuSans-111\"/>\r\n      <use x=\"116.162109\" xlink:href=\"#DejaVuSans-117\"/>\r\n      <use x=\"179.541016\" xlink:href=\"#DejaVuSans-110\"/>\r\n      <use x=\"242.919922\" xlink:href=\"#DejaVuSans-116\"/>\r\n     </g>\r\n    </g>\r\n   </g>\r\n   <g id=\"patch_24\">\r\n    <path d=\"M 58.471875 418.819375 \r\nL 58.471875 240.14 \r\n\" style=\"fill:none;stroke:#000000;stroke-linecap:square;stroke-linejoin:miter;stroke-width:0.8;\"/>\r\n   </g>\r\n   <g id=\"patch_25\">\r\n    <path d=\"M 560.166875 418.819375 \r\nL 560.166875 240.14 \r\n\" style=\"fill:none;stroke:#000000;stroke-linecap:square;stroke-linejoin:miter;stroke-width:0.8;\"/>\r\n   </g>\r\n   <g id=\"patch_26\">\r\n    <path d=\"M 58.471875 418.819375 \r\nL 560.166875 418.819375 \r\n\" style=\"fill:none;stroke:#000000;stroke-linecap:square;stroke-linejoin:miter;stroke-width:0.8;\"/>\r\n   </g>\r\n   <g id=\"patch_27\">\r\n    <path d=\"M 58.471875 240.14 \r\nL 560.166875 240.14 \r\n\" style=\"fill:none;stroke:#000000;stroke-linecap:square;stroke-linejoin:miter;stroke-width:0.8;\"/>\r\n   </g>\r\n  </g>\r\n  <g id=\"axes_4\">\r\n   <g id=\"patch_28\">\r\n    <path d=\"M 626.911875 418.819375 \r\nL 1128.606875 418.819375 \r\nL 1128.606875 240.14 \r\nL 626.911875 240.14 \r\nz\r\n\" style=\"fill:#ffffff;\"/>\r\n   </g>\r\n   <g id=\"patch_29\">\r\n    <path clip-path=\"url(#p3e40174b5c)\" d=\"M 631.928825 418.819375 \r\nL 672.064425 418.819375 \r\nL 672.064425 416.172273 \r\nL 631.928825 416.172273 \r\nz\r\n\" style=\"fill:#e8f3e3;\"/>\r\n   </g>\r\n   <g id=\"patch_30\">\r\n    <path clip-path=\"url(#p3e40174b5c)\" d=\"M 682.098325 418.819375 \r\nL 722.233925 418.819375 \r\nL 722.233925 405.583866 \r\nL 682.098325 405.583866 \r\nz\r\n\" style=\"fill:#d9ecd5;\"/>\r\n   </g>\r\n   <g id=\"patch_31\">\r\n    <path clip-path=\"url(#p3e40174b5c)\" d=\"M 732.267825 418.819375 \r\nL 772.403425 418.819375 \r\nL 772.403425 389.701255 \r\nL 732.267825 389.701255 \r\nz\r\n\" style=\"fill:#cae4c7;\"/>\r\n   </g>\r\n   <g id=\"patch_32\">\r\n    <path clip-path=\"url(#p3e40174b5c)\" d=\"M 782.437325 418.819375 \r\nL 822.572925 418.819375 \r\nL 822.572925 402.936764 \r\nL 782.437325 402.936764 \r\nz\r\n\" style=\"fill:#b1d8ba;\"/>\r\n   </g>\r\n   <g id=\"patch_33\">\r\n    <path clip-path=\"url(#p3e40174b5c)\" d=\"M 832.606825 418.819375 \r\nL 872.742425 418.819375 \r\nL 872.742425 404.260315 \r\nL 832.606825 404.260315 \r\nz\r\n\" style=\"fill:#94c9bb;\"/>\r\n   </g>\r\n   <g id=\"patch_34\">\r\n    <path clip-path=\"url(#p3e40174b5c)\" d=\"M 882.776325 418.819375 \r\nL 922.911925 418.819375 \r\nL 922.911925 405.583866 \r\nL 882.776325 405.583866 \r\nz\r\n\" style=\"fill:#77b9be;\"/>\r\n   </g>\r\n   <g id=\"patch_35\">\r\n    <path clip-path=\"url(#p3e40174b5c)\" d=\"M 932.945825 418.819375 \r\nL 973.081425 418.819375 \r\nL 973.081425 406.907417 \r\nL 932.945825 406.907417 \r\nz\r\n\" style=\"fill:#5ca7c1;\"/>\r\n   </g>\r\n   <g id=\"patch_36\">\r\n    <path clip-path=\"url(#p3e40174b5c)\" d=\"M 983.115325 418.819375 \r\nL 1023.250925 418.819375 \r\nL 1023.250925 412.20162 \r\nL 983.115325 412.20162 \r\nz\r\n\" style=\"fill:#438caf;\"/>\r\n   </g>\r\n   <g id=\"patch_37\">\r\n    <path clip-path=\"url(#p3e40174b5c)\" d=\"M 1033.284825 418.819375 \r\nL 1073.420425 418.819375 \r\nL 1073.420425 417.495824 \r\nL 1033.284825 417.495824 \r\nz\r\n\" style=\"fill:#2b73a0;\"/>\r\n   </g>\r\n   <g id=\"patch_38\">\r\n    <path clip-path=\"url(#p3e40174b5c)\" d=\"M 1083.454325 418.819375 \r\nL 1123.589925 418.819375 \r\nL 1123.589925 416.172273 \r\nL 1083.454325 416.172273 \r\nz\r\n\" style=\"fill:#1b5b8d;\"/>\r\n   </g>\r\n   <g id=\"matplotlib.axis_7\">\r\n    <g id=\"xtick_12\">\r\n     <g id=\"line2d_30\">\r\n      <g>\r\n       <use style=\"stroke:#000000;stroke-width:0.8;\" x=\"651.996625\" xlink:href=\"#me9ff246796\" y=\"418.819375\"/>\r\n      </g>\r\n     </g>\r\n     <g id=\"text_36\">\r\n      <!-- [4000, 6000[ -->\r\n      <g transform=\"translate(655.85975 516.9025)rotate(-90)scale(0.14 -0.14)\">\r\n       <use xlink:href=\"#DejaVuSans-91\"/>\r\n       <use x=\"39.013672\" xlink:href=\"#DejaVuSans-52\"/>\r\n       <use x=\"102.636719\" xlink:href=\"#DejaVuSans-48\"/>\r\n       <use x=\"166.259766\" xlink:href=\"#DejaVuSans-48\"/>\r\n       <use x=\"229.882812\" xlink:href=\"#DejaVuSans-48\"/>\r\n       <use x=\"293.505859\" xlink:href=\"#DejaVuSans-44\"/>\r\n       <use x=\"325.292969\" xlink:href=\"#DejaVuSans-32\"/>\r\n       <use x=\"357.080078\" xlink:href=\"#DejaVuSans-54\"/>\r\n       <use x=\"420.703125\" xlink:href=\"#DejaVuSans-48\"/>\r\n       <use x=\"484.326172\" xlink:href=\"#DejaVuSans-48\"/>\r\n       <use x=\"547.949219\" xlink:href=\"#DejaVuSans-48\"/>\r\n       <use x=\"611.572266\" xlink:href=\"#DejaVuSans-91\"/>\r\n      </g>\r\n     </g>\r\n    </g>\r\n    <g id=\"xtick_13\">\r\n     <g id=\"line2d_31\">\r\n      <g>\r\n       <use style=\"stroke:#000000;stroke-width:0.8;\" x=\"702.166125\" xlink:href=\"#me9ff246796\" y=\"418.819375\"/>\r\n      </g>\r\n     </g>\r\n     <g id=\"text_37\">\r\n      <!-- [6000, 8000[ -->\r\n      <g transform=\"translate(706.02925 516.9025)rotate(-90)scale(0.14 -0.14)\">\r\n       <use xlink:href=\"#DejaVuSans-91\"/>\r\n       <use x=\"39.013672\" xlink:href=\"#DejaVuSans-54\"/>\r\n       <use x=\"102.636719\" xlink:href=\"#DejaVuSans-48\"/>\r\n       <use x=\"166.259766\" xlink:href=\"#DejaVuSans-48\"/>\r\n       <use x=\"229.882812\" xlink:href=\"#DejaVuSans-48\"/>\r\n       <use x=\"293.505859\" xlink:href=\"#DejaVuSans-44\"/>\r\n       <use x=\"325.292969\" xlink:href=\"#DejaVuSans-32\"/>\r\n       <use x=\"357.080078\" xlink:href=\"#DejaVuSans-56\"/>\r\n       <use x=\"420.703125\" xlink:href=\"#DejaVuSans-48\"/>\r\n       <use x=\"484.326172\" xlink:href=\"#DejaVuSans-48\"/>\r\n       <use x=\"547.949219\" xlink:href=\"#DejaVuSans-48\"/>\r\n       <use x=\"611.572266\" xlink:href=\"#DejaVuSans-91\"/>\r\n      </g>\r\n     </g>\r\n    </g>\r\n    <g id=\"xtick_14\">\r\n     <g id=\"line2d_32\">\r\n      <g>\r\n       <use style=\"stroke:#000000;stroke-width:0.8;\" x=\"752.335625\" xlink:href=\"#me9ff246796\" y=\"418.819375\"/>\r\n      </g>\r\n     </g>\r\n     <g id=\"text_38\">\r\n      <!-- [8000, 10000[ -->\r\n      <g transform=\"translate(756.19875 525.81)rotate(-90)scale(0.14 -0.14)\">\r\n       <use xlink:href=\"#DejaVuSans-91\"/>\r\n       <use x=\"39.013672\" xlink:href=\"#DejaVuSans-56\"/>\r\n       <use x=\"102.636719\" xlink:href=\"#DejaVuSans-48\"/>\r\n       <use x=\"166.259766\" xlink:href=\"#DejaVuSans-48\"/>\r\n       <use x=\"229.882812\" xlink:href=\"#DejaVuSans-48\"/>\r\n       <use x=\"293.505859\" xlink:href=\"#DejaVuSans-44\"/>\r\n       <use x=\"325.292969\" xlink:href=\"#DejaVuSans-32\"/>\r\n       <use x=\"357.080078\" xlink:href=\"#DejaVuSans-49\"/>\r\n       <use x=\"420.703125\" xlink:href=\"#DejaVuSans-48\"/>\r\n       <use x=\"484.326172\" xlink:href=\"#DejaVuSans-48\"/>\r\n       <use x=\"547.949219\" xlink:href=\"#DejaVuSans-48\"/>\r\n       <use x=\"611.572266\" xlink:href=\"#DejaVuSans-48\"/>\r\n       <use x=\"675.195312\" xlink:href=\"#DejaVuSans-91\"/>\r\n      </g>\r\n     </g>\r\n    </g>\r\n    <g id=\"xtick_15\">\r\n     <g id=\"line2d_33\">\r\n      <g>\r\n       <use style=\"stroke:#000000;stroke-width:0.8;\" x=\"802.505125\" xlink:href=\"#me9ff246796\" y=\"418.819375\"/>\r\n      </g>\r\n     </g>\r\n     <g id=\"text_39\">\r\n      <!-- [10000, 12000[ -->\r\n      <g transform=\"translate(806.36825 534.7175)rotate(-90)scale(0.14 -0.14)\">\r\n       <use xlink:href=\"#DejaVuSans-91\"/>\r\n       <use x=\"39.013672\" xlink:href=\"#DejaVuSans-49\"/>\r\n       <use x=\"102.636719\" xlink:href=\"#DejaVuSans-48\"/>\r\n       <use x=\"166.259766\" xlink:href=\"#DejaVuSans-48\"/>\r\n       <use x=\"229.882812\" xlink:href=\"#DejaVuSans-48\"/>\r\n       <use x=\"293.505859\" xlink:href=\"#DejaVuSans-48\"/>\r\n       <use x=\"357.128906\" xlink:href=\"#DejaVuSans-44\"/>\r\n       <use x=\"388.916016\" xlink:href=\"#DejaVuSans-32\"/>\r\n       <use x=\"420.703125\" xlink:href=\"#DejaVuSans-49\"/>\r\n       <use x=\"484.326172\" xlink:href=\"#DejaVuSans-50\"/>\r\n       <use x=\"547.949219\" xlink:href=\"#DejaVuSans-48\"/>\r\n       <use x=\"611.572266\" xlink:href=\"#DejaVuSans-48\"/>\r\n       <use x=\"675.195312\" xlink:href=\"#DejaVuSans-48\"/>\r\n       <use x=\"738.818359\" xlink:href=\"#DejaVuSans-91\"/>\r\n      </g>\r\n     </g>\r\n    </g>\r\n    <g id=\"xtick_16\">\r\n     <g id=\"line2d_34\">\r\n      <g>\r\n       <use style=\"stroke:#000000;stroke-width:0.8;\" x=\"852.674625\" xlink:href=\"#me9ff246796\" y=\"418.819375\"/>\r\n      </g>\r\n     </g>\r\n     <g id=\"text_40\">\r\n      <!-- [12000, 14000[ -->\r\n      <g transform=\"translate(856.53775 534.7175)rotate(-90)scale(0.14 -0.14)\">\r\n       <use xlink:href=\"#DejaVuSans-91\"/>\r\n       <use x=\"39.013672\" xlink:href=\"#DejaVuSans-49\"/>\r\n       <use x=\"102.636719\" xlink:href=\"#DejaVuSans-50\"/>\r\n       <use x=\"166.259766\" xlink:href=\"#DejaVuSans-48\"/>\r\n       <use x=\"229.882812\" xlink:href=\"#DejaVuSans-48\"/>\r\n       <use x=\"293.505859\" xlink:href=\"#DejaVuSans-48\"/>\r\n       <use x=\"357.128906\" xlink:href=\"#DejaVuSans-44\"/>\r\n       <use x=\"388.916016\" xlink:href=\"#DejaVuSans-32\"/>\r\n       <use x=\"420.703125\" xlink:href=\"#DejaVuSans-49\"/>\r\n       <use x=\"484.326172\" xlink:href=\"#DejaVuSans-52\"/>\r\n       <use x=\"547.949219\" xlink:href=\"#DejaVuSans-48\"/>\r\n       <use x=\"611.572266\" xlink:href=\"#DejaVuSans-48\"/>\r\n       <use x=\"675.195312\" xlink:href=\"#DejaVuSans-48\"/>\r\n       <use x=\"738.818359\" xlink:href=\"#DejaVuSans-91\"/>\r\n      </g>\r\n     </g>\r\n    </g>\r\n    <g id=\"xtick_17\">\r\n     <g id=\"line2d_35\">\r\n      <g>\r\n       <use style=\"stroke:#000000;stroke-width:0.8;\" x=\"902.844125\" xlink:href=\"#me9ff246796\" y=\"418.819375\"/>\r\n      </g>\r\n     </g>\r\n     <g id=\"text_41\">\r\n      <!-- [14000, 16000[ -->\r\n      <g transform=\"translate(906.70725 534.7175)rotate(-90)scale(0.14 -0.14)\">\r\n       <use xlink:href=\"#DejaVuSans-91\"/>\r\n       <use x=\"39.013672\" xlink:href=\"#DejaVuSans-49\"/>\r\n       <use x=\"102.636719\" xlink:href=\"#DejaVuSans-52\"/>\r\n       <use x=\"166.259766\" xlink:href=\"#DejaVuSans-48\"/>\r\n       <use x=\"229.882812\" xlink:href=\"#DejaVuSans-48\"/>\r\n       <use x=\"293.505859\" xlink:href=\"#DejaVuSans-48\"/>\r\n       <use x=\"357.128906\" xlink:href=\"#DejaVuSans-44\"/>\r\n       <use x=\"388.916016\" xlink:href=\"#DejaVuSans-32\"/>\r\n       <use x=\"420.703125\" xlink:href=\"#DejaVuSans-49\"/>\r\n       <use x=\"484.326172\" xlink:href=\"#DejaVuSans-54\"/>\r\n       <use x=\"547.949219\" xlink:href=\"#DejaVuSans-48\"/>\r\n       <use x=\"611.572266\" xlink:href=\"#DejaVuSans-48\"/>\r\n       <use x=\"675.195312\" xlink:href=\"#DejaVuSans-48\"/>\r\n       <use x=\"738.818359\" xlink:href=\"#DejaVuSans-91\"/>\r\n      </g>\r\n     </g>\r\n    </g>\r\n    <g id=\"xtick_18\">\r\n     <g id=\"line2d_36\">\r\n      <g>\r\n       <use style=\"stroke:#000000;stroke-width:0.8;\" x=\"953.013625\" xlink:href=\"#me9ff246796\" y=\"418.819375\"/>\r\n      </g>\r\n     </g>\r\n     <g id=\"text_42\">\r\n      <!-- [16000, 18000[ -->\r\n      <g transform=\"translate(956.87675 534.7175)rotate(-90)scale(0.14 -0.14)\">\r\n       <use xlink:href=\"#DejaVuSans-91\"/>\r\n       <use x=\"39.013672\" xlink:href=\"#DejaVuSans-49\"/>\r\n       <use x=\"102.636719\" xlink:href=\"#DejaVuSans-54\"/>\r\n       <use x=\"166.259766\" xlink:href=\"#DejaVuSans-48\"/>\r\n       <use x=\"229.882812\" xlink:href=\"#DejaVuSans-48\"/>\r\n       <use x=\"293.505859\" xlink:href=\"#DejaVuSans-48\"/>\r\n       <use x=\"357.128906\" xlink:href=\"#DejaVuSans-44\"/>\r\n       <use x=\"388.916016\" xlink:href=\"#DejaVuSans-32\"/>\r\n       <use x=\"420.703125\" xlink:href=\"#DejaVuSans-49\"/>\r\n       <use x=\"484.326172\" xlink:href=\"#DejaVuSans-56\"/>\r\n       <use x=\"547.949219\" xlink:href=\"#DejaVuSans-48\"/>\r\n       <use x=\"611.572266\" xlink:href=\"#DejaVuSans-48\"/>\r\n       <use x=\"675.195312\" xlink:href=\"#DejaVuSans-48\"/>\r\n       <use x=\"738.818359\" xlink:href=\"#DejaVuSans-91\"/>\r\n      </g>\r\n     </g>\r\n    </g>\r\n    <g id=\"xtick_19\">\r\n     <g id=\"line2d_37\">\r\n      <g>\r\n       <use style=\"stroke:#000000;stroke-width:0.8;\" x=\"1003.183125\" xlink:href=\"#me9ff246796\" y=\"418.819375\"/>\r\n      </g>\r\n     </g>\r\n     <g id=\"text_43\">\r\n      <!-- [18000, 20000[ -->\r\n      <g transform=\"translate(1007.04625 534.7175)rotate(-90)scale(0.14 -0.14)\">\r\n       <use xlink:href=\"#DejaVuSans-91\"/>\r\n       <use x=\"39.013672\" xlink:href=\"#DejaVuSans-49\"/>\r\n       <use x=\"102.636719\" xlink:href=\"#DejaVuSans-56\"/>\r\n       <use x=\"166.259766\" xlink:href=\"#DejaVuSans-48\"/>\r\n       <use x=\"229.882812\" xlink:href=\"#DejaVuSans-48\"/>\r\n       <use x=\"293.505859\" xlink:href=\"#DejaVuSans-48\"/>\r\n       <use x=\"357.128906\" xlink:href=\"#DejaVuSans-44\"/>\r\n       <use x=\"388.916016\" xlink:href=\"#DejaVuSans-32\"/>\r\n       <use x=\"420.703125\" xlink:href=\"#DejaVuSans-50\"/>\r\n       <use x=\"484.326172\" xlink:href=\"#DejaVuSans-48\"/>\r\n       <use x=\"547.949219\" xlink:href=\"#DejaVuSans-48\"/>\r\n       <use x=\"611.572266\" xlink:href=\"#DejaVuSans-48\"/>\r\n       <use x=\"675.195312\" xlink:href=\"#DejaVuSans-48\"/>\r\n       <use x=\"738.818359\" xlink:href=\"#DejaVuSans-91\"/>\r\n      </g>\r\n     </g>\r\n    </g>\r\n    <g id=\"xtick_20\">\r\n     <g id=\"line2d_38\">\r\n      <g>\r\n       <use style=\"stroke:#000000;stroke-width:0.8;\" x=\"1053.352625\" xlink:href=\"#me9ff246796\" y=\"418.819375\"/>\r\n      </g>\r\n     </g>\r\n     <g id=\"text_44\">\r\n      <!-- [20000, 22000[ -->\r\n      <g transform=\"translate(1057.21575 534.7175)rotate(-90)scale(0.14 -0.14)\">\r\n       <use xlink:href=\"#DejaVuSans-91\"/>\r\n       <use x=\"39.013672\" xlink:href=\"#DejaVuSans-50\"/>\r\n       <use x=\"102.636719\" xlink:href=\"#DejaVuSans-48\"/>\r\n       <use x=\"166.259766\" xlink:href=\"#DejaVuSans-48\"/>\r\n       <use x=\"229.882812\" xlink:href=\"#DejaVuSans-48\"/>\r\n       <use x=\"293.505859\" xlink:href=\"#DejaVuSans-48\"/>\r\n       <use x=\"357.128906\" xlink:href=\"#DejaVuSans-44\"/>\r\n       <use x=\"388.916016\" xlink:href=\"#DejaVuSans-32\"/>\r\n       <use x=\"420.703125\" xlink:href=\"#DejaVuSans-50\"/>\r\n       <use x=\"484.326172\" xlink:href=\"#DejaVuSans-50\"/>\r\n       <use x=\"547.949219\" xlink:href=\"#DejaVuSans-48\"/>\r\n       <use x=\"611.572266\" xlink:href=\"#DejaVuSans-48\"/>\r\n       <use x=\"675.195312\" xlink:href=\"#DejaVuSans-48\"/>\r\n       <use x=\"738.818359\" xlink:href=\"#DejaVuSans-91\"/>\r\n      </g>\r\n     </g>\r\n    </g>\r\n    <g id=\"xtick_21\">\r\n     <g id=\"line2d_39\">\r\n      <g>\r\n       <use style=\"stroke:#000000;stroke-width:0.8;\" x=\"1103.522125\" xlink:href=\"#me9ff246796\" y=\"418.819375\"/>\r\n      </g>\r\n     </g>\r\n     <g id=\"text_45\">\r\n      <!-- [22000, 24000[ -->\r\n      <g transform=\"translate(1107.38525 534.7175)rotate(-90)scale(0.14 -0.14)\">\r\n       <use xlink:href=\"#DejaVuSans-91\"/>\r\n       <use x=\"39.013672\" xlink:href=\"#DejaVuSans-50\"/>\r\n       <use x=\"102.636719\" xlink:href=\"#DejaVuSans-50\"/>\r\n       <use x=\"166.259766\" xlink:href=\"#DejaVuSans-48\"/>\r\n       <use x=\"229.882812\" xlink:href=\"#DejaVuSans-48\"/>\r\n       <use x=\"293.505859\" xlink:href=\"#DejaVuSans-48\"/>\r\n       <use x=\"357.128906\" xlink:href=\"#DejaVuSans-44\"/>\r\n       <use x=\"388.916016\" xlink:href=\"#DejaVuSans-32\"/>\r\n       <use x=\"420.703125\" xlink:href=\"#DejaVuSans-50\"/>\r\n       <use x=\"484.326172\" xlink:href=\"#DejaVuSans-52\"/>\r\n       <use x=\"547.949219\" xlink:href=\"#DejaVuSans-48\"/>\r\n       <use x=\"611.572266\" xlink:href=\"#DejaVuSans-48\"/>\r\n       <use x=\"675.195312\" xlink:href=\"#DejaVuSans-48\"/>\r\n       <use x=\"738.818359\" xlink:href=\"#DejaVuSans-91\"/>\r\n      </g>\r\n     </g>\r\n    </g>\r\n    <g id=\"text_46\">\r\n     <!-- pp_total_raw -->\r\n     <defs>\r\n      <path d=\"M 4.203125 54.6875 \r\nL 13.1875 54.6875 \r\nL 24.421875 12.015625 \r\nL 35.59375 54.6875 \r\nL 46.1875 54.6875 \r\nL 57.421875 12.015625 \r\nL 68.609375 54.6875 \r\nL 77.59375 54.6875 \r\nL 63.28125 0 \r\nL 52.6875 0 \r\nL 40.921875 44.828125 \r\nL 29.109375 0 \r\nL 18.5 0 \r\nz\r\n\" id=\"DejaVuSans-119\"/>\r\n     </defs>\r\n     <g transform=\"translate(832.973594 549.355312)scale(0.14 -0.14)\">\r\n      <use xlink:href=\"#DejaVuSans-112\"/>\r\n      <use x=\"63.476562\" xlink:href=\"#DejaVuSans-112\"/>\r\n      <use x=\"126.953125\" xlink:href=\"#DejaVuSans-95\"/>\r\n      <use x=\"176.953125\" xlink:href=\"#DejaVuSans-116\"/>\r\n      <use x=\"216.162109\" xlink:href=\"#DejaVuSans-111\"/>\r\n      <use x=\"277.34375\" xlink:href=\"#DejaVuSans-116\"/>\r\n      <use x=\"316.552734\" xlink:href=\"#DejaVuSans-97\"/>\r\n      <use x=\"377.832031\" xlink:href=\"#DejaVuSans-108\"/>\r\n      <use x=\"405.615234\" xlink:href=\"#DejaVuSans-95\"/>\r\n      <use x=\"455.615234\" xlink:href=\"#DejaVuSans-114\"/>\r\n      <use x=\"496.728516\" xlink:href=\"#DejaVuSans-97\"/>\r\n      <use x=\"558.007812\" xlink:href=\"#DejaVuSans-119\"/>\r\n     </g>\r\n    </g>\r\n   </g>\r\n   <g id=\"matplotlib.axis_8\">\r\n    <g id=\"ytick_19\">\r\n     <g id=\"line2d_40\">\r\n      <g>\r\n       <use style=\"stroke:#000000;stroke-width:0.8;\" x=\"626.911875\" xlink:href=\"#me49a457a73\" y=\"418.819375\"/>\r\n      </g>\r\n     </g>\r\n     <g id=\"text_47\">\r\n      <!-- 0 -->\r\n      <g transform=\"translate(611.004375 424.138281)scale(0.14 -0.14)\">\r\n       <use xlink:href=\"#DejaVuSans-48\"/>\r\n      </g>\r\n     </g>\r\n    </g>\r\n    <g id=\"ytick_20\">\r\n     <g id=\"line2d_41\">\r\n      <g>\r\n       <use style=\"stroke:#000000;stroke-width:0.8;\" x=\"626.911875\" xlink:href=\"#me49a457a73\" y=\"385.730602\"/>\r\n      </g>\r\n     </g>\r\n     <g id=\"text_48\">\r\n      <!-- 25 -->\r\n      <g transform=\"translate(602.096875 391.049508)scale(0.14 -0.14)\">\r\n       <use xlink:href=\"#DejaVuSans-50\"/>\r\n       <use x=\"63.623047\" xlink:href=\"#DejaVuSans-53\"/>\r\n      </g>\r\n     </g>\r\n    </g>\r\n    <g id=\"ytick_21\">\r\n     <g id=\"line2d_42\">\r\n      <g>\r\n       <use style=\"stroke:#000000;stroke-width:0.8;\" x=\"626.911875\" xlink:href=\"#me49a457a73\" y=\"352.641829\"/>\r\n      </g>\r\n     </g>\r\n     <g id=\"text_49\">\r\n      <!-- 50 -->\r\n      <g transform=\"translate(602.096875 357.960735)scale(0.14 -0.14)\">\r\n       <use xlink:href=\"#DejaVuSans-53\"/>\r\n       <use x=\"63.623047\" xlink:href=\"#DejaVuSans-48\"/>\r\n      </g>\r\n     </g>\r\n    </g>\r\n    <g id=\"ytick_22\">\r\n     <g id=\"line2d_43\">\r\n      <g>\r\n       <use style=\"stroke:#000000;stroke-width:0.8;\" x=\"626.911875\" xlink:href=\"#me49a457a73\" y=\"319.553056\"/>\r\n      </g>\r\n     </g>\r\n     <g id=\"text_50\">\r\n      <!-- 75 -->\r\n      <g transform=\"translate(602.096875 324.871962)scale(0.14 -0.14)\">\r\n       <use xlink:href=\"#DejaVuSans-55\"/>\r\n       <use x=\"63.623047\" xlink:href=\"#DejaVuSans-53\"/>\r\n      </g>\r\n     </g>\r\n    </g>\r\n    <g id=\"ytick_23\">\r\n     <g id=\"line2d_44\">\r\n      <g>\r\n       <use style=\"stroke:#000000;stroke-width:0.8;\" x=\"626.911875\" xlink:href=\"#me49a457a73\" y=\"286.464282\"/>\r\n      </g>\r\n     </g>\r\n     <g id=\"text_51\">\r\n      <!-- 100 -->\r\n      <g transform=\"translate(593.189375 291.783189)scale(0.14 -0.14)\">\r\n       <use xlink:href=\"#DejaVuSans-49\"/>\r\n       <use x=\"63.623047\" xlink:href=\"#DejaVuSans-48\"/>\r\n       <use x=\"127.246094\" xlink:href=\"#DejaVuSans-48\"/>\r\n      </g>\r\n     </g>\r\n    </g>\r\n    <g id=\"ytick_24\">\r\n     <g id=\"line2d_45\">\r\n      <g>\r\n       <use style=\"stroke:#000000;stroke-width:0.8;\" x=\"626.911875\" xlink:href=\"#me49a457a73\" y=\"253.375509\"/>\r\n      </g>\r\n     </g>\r\n     <g id=\"text_52\">\r\n      <!-- 125 -->\r\n      <g transform=\"translate(593.189375 258.694416)scale(0.14 -0.14)\">\r\n       <use xlink:href=\"#DejaVuSans-49\"/>\r\n       <use x=\"63.623047\" xlink:href=\"#DejaVuSans-50\"/>\r\n       <use x=\"127.246094\" xlink:href=\"#DejaVuSans-53\"/>\r\n      </g>\r\n     </g>\r\n    </g>\r\n    <g id=\"text_53\">\r\n     <!-- count -->\r\n     <g transform=\"translate(586.277812 349.228437)rotate(-90)scale(0.14 -0.14)\">\r\n      <use xlink:href=\"#DejaVuSans-99\"/>\r\n      <use x=\"54.980469\" xlink:href=\"#DejaVuSans-111\"/>\r\n      <use x=\"116.162109\" xlink:href=\"#DejaVuSans-117\"/>\r\n      <use x=\"179.541016\" xlink:href=\"#DejaVuSans-110\"/>\r\n      <use x=\"242.919922\" xlink:href=\"#DejaVuSans-116\"/>\r\n     </g>\r\n    </g>\r\n   </g>\r\n   <g id=\"patch_39\">\r\n    <path d=\"M 626.911875 418.819375 \r\nL 626.911875 240.14 \r\n\" style=\"fill:none;stroke:#000000;stroke-linecap:square;stroke-linejoin:miter;stroke-width:0.8;\"/>\r\n   </g>\r\n   <g id=\"patch_40\">\r\n    <path d=\"M 1128.606875 418.819375 \r\nL 1128.606875 240.14 \r\n\" style=\"fill:none;stroke:#000000;stroke-linecap:square;stroke-linejoin:miter;stroke-width:0.8;\"/>\r\n   </g>\r\n   <g id=\"patch_41\">\r\n    <path d=\"M 626.911875 418.819375 \r\nL 1128.606875 418.819375 \r\n\" style=\"fill:none;stroke:#000000;stroke-linecap:square;stroke-linejoin:miter;stroke-width:0.8;\"/>\r\n   </g>\r\n   <g id=\"patch_42\">\r\n    <path d=\"M 626.911875 240.14 \r\nL 1128.606875 240.14 \r\n\" style=\"fill:none;stroke:#000000;stroke-linecap:square;stroke-linejoin:miter;stroke-width:0.8;\"/>\r\n   </g>\r\n  </g>\r\n </g>\r\n <defs>\r\n  <clipPath id=\"p0d9c05b741\">\r\n   <rect height=\"178.679375\" width=\"501.695\" x=\"58.471875\" y=\"7.2\"/>\r\n  </clipPath>\r\n  <clipPath id=\"p9679af4a66\">\r\n   <rect height=\"178.679375\" width=\"501.695\" x=\"626.911875\" y=\"7.2\"/>\r\n  </clipPath>\r\n  <clipPath id=\"p3aa449ecec\">\r\n   <rect height=\"178.679375\" width=\"501.695\" x=\"58.471875\" y=\"240.14\"/>\r\n  </clipPath>\r\n  <clipPath id=\"p3e40174b5c\">\r\n   <rect height=\"178.679375\" width=\"501.695\" x=\"626.911875\" y=\"240.14\"/>\r\n  </clipPath>\r\n </defs>\r\n</svg>\r\n",
      "image/png": "[encoded data removed]"
     },
     "metadata": {
      "needs_background": "light"
     }
    }
   ],
   "metadata": {}
  },
  {
   "cell_type": "code",
   "execution_count": 238,
   "source": [
    "def replace_ranges_pct(range_str):\r\n",
    "    if range_str == '[0, 0.2[':\r\n",
    "        return 0.1\r\n",
    "    elif range_str == '[0.2, 0.4[':\r\n",
    "        return 0.3\r\n",
    "    elif range_str == '[0.4, 0.6[':\r\n",
    "        return 0.5\r\n",
    "    elif range_str == '[0.6, 0.8[':\r\n",
    "        return 0.7\r\n",
    "    elif range_str == '[0.8, 1[':\r\n",
    "        return 0.9\r\n",
    "    else:\r\n",
    "        return np.nan\r\n",
    "    \r\n",
    "def replace_ranges_raw(range_str):\r\n",
    "    if range_str == '[4000, 6000[':\r\n",
    "        return 5000\r\n",
    "    elif range_str == '[6000, 8000[':\r\n",
    "        return 7000\r\n",
    "    elif range_str == '[8000, 10000[':\r\n",
    "        return 9000\r\n",
    "    elif range_str == '[10000, 12000[':\r\n",
    "        return 11000\r\n",
    "    elif range_str ==  '[12000, 14000[':\r\n",
    "        return 13000\r\n",
    "    elif range_str ==  '[14000, 16000[':\r\n",
    "        return 15000\r\n",
    "    elif range_str == '[16000, 18000[':\r\n",
    "        return 17000\r\n",
    "    elif range_str ==  '[18000, 20000[':\r\n",
    "        return 19000\r\n",
    "    elif range_str ==  '[20000, 22000[':\r\n",
    "        return 21000\r\n",
    "    elif range_str ==  '[22000, 24000[':\r\n",
    "        return 21000\r\n",
    "    else: \r\n",
    "        return np.nan\r\n",
    "    \r\n",
    "districts_info['pct_black_hispanic_num'] = districts_info['pct_black/hispanic'].apply(lambda x: replace_ranges_pct(x))\r\n",
    "districts_info['pct_free_reduced_num'] = districts_info['pct_free/reduced'].apply(lambda x: replace_ranges_pct(x))\r\n",
    "districts_info['pp_total_raw_num'] = districts_info['pp_total_raw'].apply(lambda x: replace_ranges_raw(x))\r\n",
    "\r\n",
    "def plot_state_mean_for_var(col):\r\n",
    "    temp = districts_info.groupby('state_abbrev')[col].mean().to_frame().reset_index(drop=False)\r\n",
    "\r\n",
    "    fig = go.Figure()\r\n",
    "    layout = dict(\r\n",
    "        title_text = f\"Mean {col} per State\",\r\n",
    "        geo_scope='usa',\r\n",
    "    )\r\n",
    "\r\n",
    "    fig.add_trace(\r\n",
    "        go.Choropleth(\r\n",
    "            locations=temp.state_abbrev,\r\n",
    "            zmax=1,\r\n",
    "            z = temp[col],\r\n",
    "            locationmode = 'USA-states', # set of locations match entries in `locations`\r\n",
    "            marker_line_color='white',\r\n",
    "            geo='geo',\r\n",
    "            colorscale=px.colors.sequential.Teal, \r\n",
    "        )\r\n",
    "    )\r\n",
    "\r\n",
    "    fig.update_layout(layout)   \r\n",
    "    fig.show()\r\n",
    "\r\n",
    "plot_state_mean_for_var('pct_black_hispanic_num')\r\n",
    "plot_state_mean_for_var('pct_free_reduced_num')\r\n",
    "plot_state_mean_for_var('pp_total_raw_num')"
   ],
   "outputs": [
    {
     "output_type": "display_data",
     "data": {
      "text/html": [
       "<div>                            <div id=\"de370179-692b-4978-9a85-65eb4e40ba57\" class=\"plotly-graph-div\" style=\"height:525px; width:100%;\"></div>            <script type=\"text/javascript\">                require([\"plotly\"], function(Plotly) {                    window.PLOTLYENV=window.PLOTLYENV || {};                                    if (document.getElementById(\"de370179-692b-4978-9a85-65eb4e40ba57\")) {                    Plotly.newPlot(                        \"de370179-692b-4978-9a85-65eb4e40ba57\",                        [{\"colorscale\": [[0.0, \"rgb(209, 238, 234)\"], [0.16666666666666666, \"rgb(168, 219, 217)\"], [0.3333333333333333, \"rgb(133, 196, 201)\"], [0.5, \"rgb(104, 171, 184)\"], [0.6666666666666666, \"rgb(79, 144, 166)\"], [0.8333333333333334, \"rgb(59, 115, 143)\"], [1.0, \"rgb(42, 86, 116)\"]], \"geo\": \"geo\", \"locationmode\": \"USA-states\", \"locations\": [\"AZ\", \"CA\", \"CT\", \"DC\", \"FL\", \"IL\", \"IN\", \"MA\", \"MI\", \"MO\", \"NC\", \"NH\", \"NJ\", \"NY\", \"OH\", \"TN\", \"UT\", \"VA\", \"WA\"], \"marker\": {\"line\": {\"color\": \"white\"}}, \"type\": \"choropleth\", \"z\": [0.9, 0.4555555555555556, 0.19655172413793093, 0.9, 0.5, 0.34615384615384615, 0.13999999999999999, 0.12352941176470592, 0.5, 0.09999999999999999, 0.43333333333333335, 0.1, 0.1, 0.1, 0.09999999999999999, 0.1, 0.1333333333333334, 0.3, 0.4], \"zmax\": 1}],                        {\"geo\": {\"scope\": \"usa\"}, \"template\": {\"data\": {\"bar\": [{\"error_x\": {\"color\": \"#2a3f5f\"}, \"error_y\": {\"color\": \"#2a3f5f\"}, \"marker\": {\"line\": {\"color\": \"#E5ECF6\", \"width\": 0.5}}, \"type\": \"bar\"}], \"barpolar\": [{\"marker\": {\"line\": {\"color\": \"#E5ECF6\", \"width\": 0.5}}, \"type\": \"barpolar\"}], \"carpet\": [{\"aaxis\": {\"endlinecolor\": \"#2a3f5f\", \"gridcolor\": \"white\", \"linecolor\": \"white\", \"minorgridcolor\": \"white\", \"startlinecolor\": \"#2a3f5f\"}, \"baxis\": {\"endlinecolor\": \"#2a3f5f\", \"gridcolor\": \"white\", \"linecolor\": \"white\", \"minorgridcolor\": \"white\", \"startlinecolor\": \"#2a3f5f\"}, \"type\": \"carpet\"}], \"choropleth\": [{\"colorbar\": {\"outlinewidth\": 0, \"ticks\": \"\"}, \"type\": \"choropleth\"}], \"contour\": [{\"colorbar\": {\"outlinewidth\": 0, \"ticks\": \"\"}, \"colorscale\": [[0.0, \"#0d0887\"], [0.1111111111111111, \"#46039f\"], [0.2222222222222222, \"#7201a8\"], [0.3333333333333333, \"#9c179e\"], [0.4444444444444444, \"#bd3786\"], [0.5555555555555556, \"#d8576b\"], [0.6666666666666666, \"#ed7953\"], [0.7777777777777778, \"#fb9f3a\"], [0.8888888888888888, \"#fdca26\"], [1.0, \"#f0f921\"]], \"type\": \"contour\"}], \"contourcarpet\": [{\"colorbar\": {\"outlinewidth\": 0, \"ticks\": \"\"}, \"type\": \"contourcarpet\"}], \"heatmap\": [{\"colorbar\": {\"outlinewidth\": 0, \"ticks\": \"\"}, \"colorscale\": [[0.0, \"#0d0887\"], [0.1111111111111111, \"#46039f\"], [0.2222222222222222, \"#7201a8\"], [0.3333333333333333, \"#9c179e\"], [0.4444444444444444, \"#bd3786\"], [0.5555555555555556, \"#d8576b\"], [0.6666666666666666, \"#ed7953\"], [0.7777777777777778, \"#fb9f3a\"], [0.8888888888888888, \"#fdca26\"], [1.0, \"#f0f921\"]], \"type\": \"heatmap\"}], \"heatmapgl\": [{\"colorbar\": {\"outlinewidth\": 0, \"ticks\": \"\"}, \"colorscale\": [[0.0, \"#0d0887\"], [0.1111111111111111, \"#46039f\"], [0.2222222222222222, \"#7201a8\"], [0.3333333333333333, \"#9c179e\"], [0.4444444444444444, \"#bd3786\"], [0.5555555555555556, \"#d8576b\"], [0.6666666666666666, \"#ed7953\"], [0.7777777777777778, \"#fb9f3a\"], [0.8888888888888888, \"#fdca26\"], [1.0, \"#f0f921\"]], \"type\": \"heatmapgl\"}], \"histogram\": [{\"marker\": {\"colorbar\": {\"outlinewidth\": 0, \"ticks\": \"\"}}, \"type\": \"histogram\"}], \"histogram2d\": [{\"colorbar\": {\"outlinewidth\": 0, \"ticks\": \"\"}, \"colorscale\": [[0.0, \"#0d0887\"], [0.1111111111111111, \"#46039f\"], [0.2222222222222222, \"#7201a8\"], [0.3333333333333333, \"#9c179e\"], [0.4444444444444444, \"#bd3786\"], [0.5555555555555556, \"#d8576b\"], [0.6666666666666666, \"#ed7953\"], [0.7777777777777778, \"#fb9f3a\"], [0.8888888888888888, \"#fdca26\"], [1.0, \"#f0f921\"]], \"type\": \"histogram2d\"}], \"histogram2dcontour\": [{\"colorbar\": {\"outlinewidth\": 0, \"ticks\": \"\"}, \"colorscale\": [[0.0, \"#0d0887\"], [0.1111111111111111, \"#46039f\"], [0.2222222222222222, \"#7201a8\"], [0.3333333333333333, \"#9c179e\"], [0.4444444444444444, \"#bd3786\"], [0.5555555555555556, \"#d8576b\"], [0.6666666666666666, \"#ed7953\"], [0.7777777777777778, \"#fb9f3a\"], [0.8888888888888888, \"#fdca26\"], [1.0, \"#f0f921\"]], \"type\": \"histogram2dcontour\"}], \"mesh3d\": [{\"colorbar\": {\"outlinewidth\": 0, \"ticks\": \"\"}, \"type\": \"mesh3d\"}], \"parcoords\": [{\"line\": {\"colorbar\": {\"outlinewidth\": 0, \"ticks\": \"\"}}, \"type\": \"parcoords\"}], \"pie\": [{\"automargin\": true, \"type\": \"pie\"}], \"scatter\": [{\"marker\": {\"colorbar\": {\"outlinewidth\": 0, \"ticks\": \"\"}}, \"type\": \"scatter\"}], \"scatter3d\": [{\"line\": {\"colorbar\": {\"outlinewidth\": 0, \"ticks\": \"\"}}, \"marker\": {\"colorbar\": {\"outlinewidth\": 0, \"ticks\": \"\"}}, \"type\": \"scatter3d\"}], \"scattercarpet\": [{\"marker\": {\"colorbar\": {\"outlinewidth\": 0, \"ticks\": \"\"}}, \"type\": \"scattercarpet\"}], \"scattergeo\": [{\"marker\": {\"colorbar\": {\"outlinewidth\": 0, \"ticks\": \"\"}}, \"type\": \"scattergeo\"}], \"scattergl\": [{\"marker\": {\"colorbar\": {\"outlinewidth\": 0, \"ticks\": \"\"}}, \"type\": \"scattergl\"}], \"scattermapbox\": [{\"marker\": {\"colorbar\": {\"outlinewidth\": 0, \"ticks\": \"\"}}, \"type\": \"scattermapbox\"}], \"scatterpolar\": [{\"marker\": {\"colorbar\": {\"outlinewidth\": 0, \"ticks\": \"\"}}, \"type\": \"scatterpolar\"}], \"scatterpolargl\": [{\"marker\": {\"colorbar\": {\"outlinewidth\": 0, \"ticks\": \"\"}}, \"type\": \"scatterpolargl\"}], \"scatterternary\": [{\"marker\": {\"colorbar\": {\"outlinewidth\": 0, \"ticks\": \"\"}}, \"type\": \"scatterternary\"}], \"surface\": [{\"colorbar\": {\"outlinewidth\": 0, \"ticks\": \"\"}, \"colorscale\": [[0.0, \"#0d0887\"], [0.1111111111111111, \"#46039f\"], [0.2222222222222222, \"#7201a8\"], [0.3333333333333333, \"#9c179e\"], [0.4444444444444444, \"#bd3786\"], [0.5555555555555556, \"#d8576b\"], [0.6666666666666666, \"#ed7953\"], [0.7777777777777778, \"#fb9f3a\"], [0.8888888888888888, \"#fdca26\"], [1.0, \"#f0f921\"]], \"type\": \"surface\"}], \"table\": [{\"cells\": {\"fill\": {\"color\": \"#EBF0F8\"}, \"line\": {\"color\": \"white\"}}, \"header\": {\"fill\": {\"color\": \"#C8D4E3\"}, \"line\": {\"color\": \"white\"}}, \"type\": \"table\"}]}, \"layout\": {\"annotationdefaults\": {\"arrowcolor\": \"#2a3f5f\", \"arrowhead\": 0, \"arrowwidth\": 1}, \"autotypenumbers\": \"strict\", \"coloraxis\": {\"colorbar\": {\"outlinewidth\": 0, \"ticks\": \"\"}}, \"colorscale\": {\"diverging\": [[0, \"#8e0152\"], [0.1, \"#c51b7d\"], [0.2, \"#de77ae\"], [0.3, \"#f1b6da\"], [0.4, \"#fde0ef\"], [0.5, \"#f7f7f7\"], [0.6, \"#e6f5d0\"], [0.7, \"#b8e186\"], [0.8, \"#7fbc41\"], [0.9, \"#4d9221\"], [1, \"#276419\"]], \"sequential\": [[0.0, \"#0d0887\"], [0.1111111111111111, \"#46039f\"], [0.2222222222222222, \"#7201a8\"], [0.3333333333333333, \"#9c179e\"], [0.4444444444444444, \"#bd3786\"], [0.5555555555555556, \"#d8576b\"], [0.6666666666666666, \"#ed7953\"], [0.7777777777777778, \"#fb9f3a\"], [0.8888888888888888, \"#fdca26\"], [1.0, \"#f0f921\"]], \"sequentialminus\": [[0.0, \"#0d0887\"], [0.1111111111111111, \"#46039f\"], [0.2222222222222222, \"#7201a8\"], [0.3333333333333333, \"#9c179e\"], [0.4444444444444444, \"#bd3786\"], [0.5555555555555556, \"#d8576b\"], [0.6666666666666666, \"#ed7953\"], [0.7777777777777778, \"#fb9f3a\"], [0.8888888888888888, \"#fdca26\"], [1.0, \"#f0f921\"]]}, \"colorway\": [\"#636efa\", \"#EF553B\", \"#00cc96\", \"#ab63fa\", \"#FFA15A\", \"#19d3f3\", \"#FF6692\", \"#B6E880\", \"#FF97FF\", \"#FECB52\"], \"font\": {\"color\": \"#2a3f5f\"}, \"geo\": {\"bgcolor\": \"white\", \"lakecolor\": \"white\", \"landcolor\": \"#E5ECF6\", \"showlakes\": true, \"showland\": true, \"subunitcolor\": \"white\"}, \"hoverlabel\": {\"align\": \"left\"}, \"hovermode\": \"closest\", \"mapbox\": {\"style\": \"light\"}, \"paper_bgcolor\": \"white\", \"plot_bgcolor\": \"#E5ECF6\", \"polar\": {\"angularaxis\": {\"gridcolor\": \"white\", \"linecolor\": \"white\", \"ticks\": \"\"}, \"bgcolor\": \"#E5ECF6\", \"radialaxis\": {\"gridcolor\": \"white\", \"linecolor\": \"white\", \"ticks\": \"\"}}, \"scene\": {\"xaxis\": {\"backgroundcolor\": \"#E5ECF6\", \"gridcolor\": \"white\", \"gridwidth\": 2, \"linecolor\": \"white\", \"showbackground\": true, \"ticks\": \"\", \"zerolinecolor\": \"white\"}, \"yaxis\": {\"backgroundcolor\": \"#E5ECF6\", \"gridcolor\": \"white\", \"gridwidth\": 2, \"linecolor\": \"white\", \"showbackground\": true, \"ticks\": \"\", \"zerolinecolor\": \"white\"}, \"zaxis\": {\"backgroundcolor\": \"#E5ECF6\", \"gridcolor\": \"white\", \"gridwidth\": 2, \"linecolor\": \"white\", \"showbackground\": true, \"ticks\": \"\", \"zerolinecolor\": \"white\"}}, \"shapedefaults\": {\"line\": {\"color\": \"#2a3f5f\"}}, \"ternary\": {\"aaxis\": {\"gridcolor\": \"white\", \"linecolor\": \"white\", \"ticks\": \"\"}, \"baxis\": {\"gridcolor\": \"white\", \"linecolor\": \"white\", \"ticks\": \"\"}, \"bgcolor\": \"#E5ECF6\", \"caxis\": {\"gridcolor\": \"white\", \"linecolor\": \"white\", \"ticks\": \"\"}}, \"title\": {\"x\": 0.05}, \"xaxis\": {\"automargin\": true, \"gridcolor\": \"white\", \"linecolor\": \"white\", \"ticks\": \"\", \"title\": {\"standoff\": 15}, \"zerolinecolor\": \"white\", \"zerolinewidth\": 2}, \"yaxis\": {\"automargin\": true, \"gridcolor\": \"white\", \"linecolor\": \"white\", \"ticks\": \"\", \"title\": {\"standoff\": 15}, \"zerolinecolor\": \"white\", \"zerolinewidth\": 2}}}, \"title\": {\"text\": \"Mean pct_black_hispanic_num per State\"}},                        {\"responsive\": true}                    ).then(function(){\n",
       "                            \n",
       "var gd = document.getElementById('de370179-692b-4978-9a85-65eb4e40ba57');\n",
       "var x = new MutationObserver(function (mutations, observer) {{\n",
       "        var display = window.getComputedStyle(gd).display;\n",
       "        if (!display || display === 'none') {{\n",
       "            console.log([gd, 'removed!']);\n",
       "            Plotly.purge(gd);\n",
       "            observer.disconnect();\n",
       "        }}\n",
       "}});\n",
       "\n",
       "// Listen for the removal of the full notebook cells\n",
       "var notebookContainer = gd.closest('#notebook-container');\n",
       "if (notebookContainer) {{\n",
       "    x.observe(notebookContainer, {childList: true});\n",
       "}}\n",
       "\n",
       "// Listen for the clearing of the current output cell\n",
       "var outputEl = gd.closest('.output');\n",
       "if (outputEl) {{\n",
       "    x.observe(outputEl, {childList: true});\n",
       "}}\n",
       "\n",
       "                        })                };                });            </script>        </div>"
      ],
      "application/vnd.plotly.v1+json": {
       "config": {
        "plotlyServerURL": "https://plot.ly"
       },
       "data": [
        {
         "colorscale": [
          [
           0,
           "rgb(209, 238, 234)"
          ],
          [
           0.16666666666666666,
           "rgb(168, 219, 217)"
          ],
          [
           0.3333333333333333,
           "rgb(133, 196, 201)"
          ],
          [
           0.5,
           "rgb(104, 171, 184)"
          ],
          [
           0.6666666666666666,
           "rgb(79, 144, 166)"
          ],
          [
           0.8333333333333334,
           "rgb(59, 115, 143)"
          ],
          [
           1,
           "rgb(42, 86, 116)"
          ]
         ],
         "geo": "geo",
         "locationmode": "USA-states",
         "locations": [
          "AZ",
          "CA",
          "CT",
          "DC",
          "FL",
          "IL",
          "IN",
          "MA",
          "MI",
          "MO",
          "NC",
          "NH",
          "NJ",
          "NY",
          "OH",
          "TN",
          "UT",
          "VA",
          "WA"
         ],
         "marker": {
          "line": {
           "color": "white"
          }
         },
         "type": "choropleth",
         "z": [
          0.9,
          0.4555555555555556,
          0.19655172413793093,
          0.9,
          0.5,
          0.34615384615384615,
          0.13999999999999999,
          0.12352941176470592,
          0.5,
          0.09999999999999999,
          0.43333333333333335,
          0.1,
          0.1,
          0.1,
          0.09999999999999999,
          0.1,
          0.1333333333333334,
          0.3,
          0.4
         ],
         "zmax": 1
        }
       ],
       "layout": {
        "geo": {
         "scope": "usa"
        },
        "template": {
         "data": {
          "bar": [
           {
            "error_x": {
             "color": "#2a3f5f"
            },
            "error_y": {
             "color": "#2a3f5f"
            },
            "marker": {
             "line": {
              "color": "#E5ECF6",
              "width": 0.5
             }
            },
            "type": "bar"
           }
          ],
          "barpolar": [
           {
            "marker": {
             "line": {
              "color": "#E5ECF6",
              "width": 0.5
             }
            },
            "type": "barpolar"
           }
          ],
          "carpet": [
           {
            "aaxis": {
             "endlinecolor": "#2a3f5f",
             "gridcolor": "white",
             "linecolor": "white",
             "minorgridcolor": "white",
             "startlinecolor": "#2a3f5f"
            },
            "baxis": {
             "endlinecolor": "#2a3f5f",
             "gridcolor": "white",
             "linecolor": "white",
             "minorgridcolor": "white",
             "startlinecolor": "#2a3f5f"
            },
            "type": "carpet"
           }
          ],
          "choropleth": [
           {
            "colorbar": {
             "outlinewidth": 0,
             "ticks": ""
            },
            "type": "choropleth"
           }
          ],
          "contour": [
           {
            "colorbar": {
             "outlinewidth": 0,
             "ticks": ""
            },
            "colorscale": [
             [
              0,
              "#0d0887"
             ],
             [
              0.1111111111111111,
              "#46039f"
             ],
             [
              0.2222222222222222,
              "#7201a8"
             ],
             [
              0.3333333333333333,
              "#9c179e"
             ],
             [
              0.4444444444444444,
              "#bd3786"
             ],
             [
              0.5555555555555556,
              "#d8576b"
             ],
             [
              0.6666666666666666,
              "#ed7953"
             ],
             [
              0.7777777777777778,
              "#fb9f3a"
             ],
             [
              0.8888888888888888,
              "#fdca26"
             ],
             [
              1,
              "#f0f921"
             ]
            ],
            "type": "contour"
           }
          ],
          "contourcarpet": [
           {
            "colorbar": {
             "outlinewidth": 0,
             "ticks": ""
            },
            "type": "contourcarpet"
           }
          ],
          "heatmap": [
           {
            "colorbar": {
             "outlinewidth": 0,
             "ticks": ""
            },
            "colorscale": [
             [
              0,
              "#0d0887"
             ],
             [
              0.1111111111111111,
              "#46039f"
             ],
             [
              0.2222222222222222,
              "#7201a8"
             ],
             [
              0.3333333333333333,
              "#9c179e"
             ],
             [
              0.4444444444444444,
              "#bd3786"
             ],
             [
              0.5555555555555556,
              "#d8576b"
             ],
             [
              0.6666666666666666,
              "#ed7953"
             ],
             [
              0.7777777777777778,
              "#fb9f3a"
             ],
             [
              0.8888888888888888,
              "#fdca26"
             ],
             [
              1,
              "#f0f921"
             ]
            ],
            "type": "heatmap"
           }
          ],
          "heatmapgl": [
           {
            "colorbar": {
             "outlinewidth": 0,
             "ticks": ""
            },
            "colorscale": [
             [
              0,
              "#0d0887"
             ],
             [
              0.1111111111111111,
              "#46039f"
             ],
             [
              0.2222222222222222,
              "#7201a8"
             ],
             [
              0.3333333333333333,
              "#9c179e"
             ],
             [
              0.4444444444444444,
              "#bd3786"
             ],
             [
              0.5555555555555556,
              "#d8576b"
             ],
             [
              0.6666666666666666,
              "#ed7953"
             ],
             [
              0.7777777777777778,
              "#fb9f3a"
             ],
             [
              0.8888888888888888,
              "#fdca26"
             ],
             [
              1,
              "#f0f921"
             ]
            ],
            "type": "heatmapgl"
           }
          ],
          "histogram": [
           {
            "marker": {
             "colorbar": {
              "outlinewidth": 0,
              "ticks": ""
             }
            },
            "type": "histogram"
           }
          ],
          "histogram2d": [
           {
            "colorbar": {
             "outlinewidth": 0,
             "ticks": ""
            },
            "colorscale": [
             [
              0,
              "#0d0887"
             ],
             [
              0.1111111111111111,
              "#46039f"
             ],
             [
              0.2222222222222222,
              "#7201a8"
             ],
             [
              0.3333333333333333,
              "#9c179e"
             ],
             [
              0.4444444444444444,
              "#bd3786"
             ],
             [
              0.5555555555555556,
              "#d8576b"
             ],
             [
              0.6666666666666666,
              "#ed7953"
             ],
             [
              0.7777777777777778,
              "#fb9f3a"
             ],
             [
              0.8888888888888888,
              "#fdca26"
             ],
             [
              1,
              "#f0f921"
             ]
            ],
            "type": "histogram2d"
           }
          ],
          "histogram2dcontour": [
           {
            "colorbar": {
             "outlinewidth": 0,
             "ticks": ""
            },
            "colorscale": [
             [
              0,
              "#0d0887"
             ],
             [
              0.1111111111111111,
              "#46039f"
             ],
             [
              0.2222222222222222,
              "#7201a8"
             ],
             [
              0.3333333333333333,
              "#9c179e"
             ],
             [
              0.4444444444444444,
              "#bd3786"
             ],
             [
              0.5555555555555556,
              "#d8576b"
             ],
             [
              0.6666666666666666,
              "#ed7953"
             ],
             [
              0.7777777777777778,
              "#fb9f3a"
             ],
             [
              0.8888888888888888,
              "#fdca26"
             ],
             [
              1,
              "#f0f921"
             ]
            ],
            "type": "histogram2dcontour"
           }
          ],
          "mesh3d": [
           {
            "colorbar": {
             "outlinewidth": 0,
             "ticks": ""
            },
            "type": "mesh3d"
           }
          ],
          "parcoords": [
           {
            "line": {
             "colorbar": {
              "outlinewidth": 0,
              "ticks": ""
             }
            },
            "type": "parcoords"
           }
          ],
          "pie": [
           {
            "automargin": true,
            "type": "pie"
           }
          ],
          "scatter": [
           {
            "marker": {
             "colorbar": {
              "outlinewidth": 0,
              "ticks": ""
             }
            },
            "type": "scatter"
           }
          ],
          "scatter3d": [
           {
            "line": {
             "colorbar": {
              "outlinewidth": 0,
              "ticks": ""
             }
            },
            "marker": {
             "colorbar": {
              "outlinewidth": 0,
              "ticks": ""
             }
            },
            "type": "scatter3d"
           }
          ],
          "scattercarpet": [
           {
            "marker": {
             "colorbar": {
              "outlinewidth": 0,
              "ticks": ""
             }
            },
            "type": "scattercarpet"
           }
          ],
          "scattergeo": [
           {
            "marker": {
             "colorbar": {
              "outlinewidth": 0,
              "ticks": ""
             }
            },
            "type": "scattergeo"
           }
          ],
          "scattergl": [
           {
            "marker": {
             "colorbar": {
              "outlinewidth": 0,
              "ticks": ""
             }
            },
            "type": "scattergl"
           }
          ],
          "scattermapbox": [
           {
            "marker": {
             "colorbar": {
              "outlinewidth": 0,
              "ticks": ""
             }
            },
            "type": "scattermapbox"
           }
          ],
          "scatterpolar": [
           {
            "marker": {
             "colorbar": {
              "outlinewidth": 0,
              "ticks": ""
             }
            },
            "type": "scatterpolar"
           }
          ],
          "scatterpolargl": [
           {
            "marker": {
             "colorbar": {
              "outlinewidth": 0,
              "ticks": ""
             }
            },
            "type": "scatterpolargl"
           }
          ],
          "scatterternary": [
           {
            "marker": {
             "colorbar": {
              "outlinewidth": 0,
              "ticks": ""
             }
            },
            "type": "scatterternary"
           }
          ],
          "surface": [
           {
            "colorbar": {
             "outlinewidth": 0,
             "ticks": ""
            },
            "colorscale": [
             [
              0,
              "#0d0887"
             ],
             [
              0.1111111111111111,
              "#46039f"
             ],
             [
              0.2222222222222222,
              "#7201a8"
             ],
             [
              0.3333333333333333,
              "#9c179e"
             ],
             [
              0.4444444444444444,
              "#bd3786"
             ],
             [
              0.5555555555555556,
              "#d8576b"
             ],
             [
              0.6666666666666666,
              "#ed7953"
             ],
             [
              0.7777777777777778,
              "#fb9f3a"
             ],
             [
              0.8888888888888888,
              "#fdca26"
             ],
             [
              1,
              "#f0f921"
             ]
            ],
            "type": "surface"
           }
          ],
          "table": [
           {
            "cells": {
             "fill": {
              "color": "#EBF0F8"
             },
             "line": {
              "color": "white"
             }
            },
            "header": {
             "fill": {
              "color": "#C8D4E3"
             },
             "line": {
              "color": "white"
             }
            },
            "type": "table"
           }
          ]
         },
         "layout": {
          "annotationdefaults": {
           "arrowcolor": "#2a3f5f",
           "arrowhead": 0,
           "arrowwidth": 1
          },
          "autotypenumbers": "strict",
          "coloraxis": {
           "colorbar": {
            "outlinewidth": 0,
            "ticks": ""
           }
          },
          "colorscale": {
           "diverging": [
            [
             0,
             "#8e0152"
            ],
            [
             0.1,
             "#c51b7d"
            ],
            [
             0.2,
             "#de77ae"
            ],
            [
             0.3,
             "#f1b6da"
            ],
            [
             0.4,
             "#fde0ef"
            ],
            [
             0.5,
             "#f7f7f7"
            ],
            [
             0.6,
             "#e6f5d0"
            ],
            [
             0.7,
             "#b8e186"
            ],
            [
             0.8,
             "#7fbc41"
            ],
            [
             0.9,
             "#4d9221"
            ],
            [
             1,
             "#276419"
            ]
           ],
           "sequential": [
            [
             0,
             "#0d0887"
            ],
            [
             0.1111111111111111,
             "#46039f"
            ],
            [
             0.2222222222222222,
             "#7201a8"
            ],
            [
             0.3333333333333333,
             "#9c179e"
            ],
            [
             0.4444444444444444,
             "#bd3786"
            ],
            [
             0.5555555555555556,
             "#d8576b"
            ],
            [
             0.6666666666666666,
             "#ed7953"
            ],
            [
             0.7777777777777778,
             "#fb9f3a"
            ],
            [
             0.8888888888888888,
             "#fdca26"
            ],
            [
             1,
             "#f0f921"
            ]
           ],
           "sequentialminus": [
            [
             0,
             "#0d0887"
            ],
            [
             0.1111111111111111,
             "#46039f"
            ],
            [
             0.2222222222222222,
             "#7201a8"
            ],
            [
             0.3333333333333333,
             "#9c179e"
            ],
            [
             0.4444444444444444,
             "#bd3786"
            ],
            [
             0.5555555555555556,
             "#d8576b"
            ],
            [
             0.6666666666666666,
             "#ed7953"
            ],
            [
             0.7777777777777778,
             "#fb9f3a"
            ],
            [
             0.8888888888888888,
             "#fdca26"
            ],
            [
             1,
             "#f0f921"
            ]
           ]
          },
          "colorway": [
           "#636efa",
           "#EF553B",
           "#00cc96",
           "#ab63fa",
           "#FFA15A",
           "#19d3f3",
           "#FF6692",
           "#B6E880",
           "#FF97FF",
           "#FECB52"
          ],
          "font": {
           "color": "#2a3f5f"
          },
          "geo": {
           "bgcolor": "white",
           "lakecolor": "white",
           "landcolor": "#E5ECF6",
           "showlakes": true,
           "showland": true,
           "subunitcolor": "white"
          },
          "hoverlabel": {
           "align": "left"
          },
          "hovermode": "closest",
          "mapbox": {
           "style": "light"
          },
          "paper_bgcolor": "white",
          "plot_bgcolor": "#E5ECF6",
          "polar": {
           "angularaxis": {
            "gridcolor": "white",
            "linecolor": "white",
            "ticks": ""
           },
           "bgcolor": "#E5ECF6",
           "radialaxis": {
            "gridcolor": "white",
            "linecolor": "white",
            "ticks": ""
           }
          },
          "scene": {
           "xaxis": {
            "backgroundcolor": "#E5ECF6",
            "gridcolor": "white",
            "gridwidth": 2,
            "linecolor": "white",
            "showbackground": true,
            "ticks": "",
            "zerolinecolor": "white"
           },
           "yaxis": {
            "backgroundcolor": "#E5ECF6",
            "gridcolor": "white",
            "gridwidth": 2,
            "linecolor": "white",
            "showbackground": true,
            "ticks": "",
            "zerolinecolor": "white"
           },
           "zaxis": {
            "backgroundcolor": "#E5ECF6",
            "gridcolor": "white",
            "gridwidth": 2,
            "linecolor": "white",
            "showbackground": true,
            "ticks": "",
            "zerolinecolor": "white"
           }
          },
          "shapedefaults": {
           "line": {
            "color": "#2a3f5f"
           }
          },
          "ternary": {
           "aaxis": {
            "gridcolor": "white",
            "linecolor": "white",
            "ticks": ""
           },
           "baxis": {
            "gridcolor": "white",
            "linecolor": "white",
            "ticks": ""
           },
           "bgcolor": "#E5ECF6",
           "caxis": {
            "gridcolor": "white",
            "linecolor": "white",
            "ticks": ""
           }
          },
          "title": {
           "x": 0.05
          },
          "xaxis": {
           "automargin": true,
           "gridcolor": "white",
           "linecolor": "white",
           "ticks": "",
           "title": {
            "standoff": 15
           },
           "zerolinecolor": "white",
           "zerolinewidth": 2
          },
          "yaxis": {
           "automargin": true,
           "gridcolor": "white",
           "linecolor": "white",
           "ticks": "",
           "title": {
            "standoff": 15
           },
           "zerolinecolor": "white",
           "zerolinewidth": 2
          }
         }
        },
        "title": {
         "text": "Mean pct_black_hispanic_num per State"
        }
       }
      }
     },
     "metadata": {}
    },
    {
     "output_type": "display_data",
     "data": {
      "text/html": [
       "<div>                            <div id=\"f3eebfc8-2ba0-4eaa-aee7-91a31651a43d\" class=\"plotly-graph-div\" style=\"height:525px; width:100%;\"></div>            <script type=\"text/javascript\">                require([\"plotly\"], function(Plotly) {                    window.PLOTLYENV=window.PLOTLYENV || {};                                    if (document.getElementById(\"f3eebfc8-2ba0-4eaa-aee7-91a31651a43d\")) {                    Plotly.newPlot(                        \"f3eebfc8-2ba0-4eaa-aee7-91a31651a43d\",                        [{\"colorscale\": [[0.0, \"rgb(209, 238, 234)\"], [0.16666666666666666, \"rgb(168, 219, 217)\"], [0.3333333333333333, \"rgb(133, 196, 201)\"], [0.5, \"rgb(104, 171, 184)\"], [0.6666666666666666, \"rgb(79, 144, 166)\"], [0.8333333333333334, \"rgb(59, 115, 143)\"], [1.0, \"rgb(42, 86, 116)\"]], \"geo\": \"geo\", \"locationmode\": \"USA-states\", \"locations\": [\"AZ\", \"CA\", \"CT\", \"DC\", \"FL\", \"IL\", \"IN\", \"MA\", \"MI\", \"MO\", \"NC\", \"NH\", \"NJ\", \"NY\", \"OH\", \"TN\", \"UT\", \"VA\", \"WA\"], \"marker\": {\"line\": {\"color\": \"white\"}}, \"type\": \"choropleth\", \"z\": [null, 0.36666666666666664, 0.2655172413793102, null, 0.5, 0.33076923076923076, 0.54, null, 0.6, 0.3, 0.5666666666666667, 0.3, 0.1, 0.3, 0.12499999999999999, null, 0.3249999999999999, 0.5, 0.55], \"zmax\": 1}],                        {\"geo\": {\"scope\": \"usa\"}, \"template\": {\"data\": {\"bar\": [{\"error_x\": {\"color\": \"#2a3f5f\"}, \"error_y\": {\"color\": \"#2a3f5f\"}, \"marker\": {\"line\": {\"color\": \"#E5ECF6\", \"width\": 0.5}}, \"type\": \"bar\"}], \"barpolar\": [{\"marker\": {\"line\": {\"color\": \"#E5ECF6\", \"width\": 0.5}}, \"type\": \"barpolar\"}], \"carpet\": [{\"aaxis\": {\"endlinecolor\": \"#2a3f5f\", \"gridcolor\": \"white\", \"linecolor\": \"white\", \"minorgridcolor\": \"white\", \"startlinecolor\": \"#2a3f5f\"}, \"baxis\": {\"endlinecolor\": \"#2a3f5f\", \"gridcolor\": \"white\", \"linecolor\": \"white\", \"minorgridcolor\": \"white\", \"startlinecolor\": \"#2a3f5f\"}, \"type\": \"carpet\"}], \"choropleth\": [{\"colorbar\": {\"outlinewidth\": 0, \"ticks\": \"\"}, \"type\": \"choropleth\"}], \"contour\": [{\"colorbar\": {\"outlinewidth\": 0, \"ticks\": \"\"}, \"colorscale\": [[0.0, \"#0d0887\"], [0.1111111111111111, \"#46039f\"], [0.2222222222222222, \"#7201a8\"], [0.3333333333333333, \"#9c179e\"], [0.4444444444444444, \"#bd3786\"], [0.5555555555555556, \"#d8576b\"], [0.6666666666666666, \"#ed7953\"], [0.7777777777777778, \"#fb9f3a\"], [0.8888888888888888, \"#fdca26\"], [1.0, \"#f0f921\"]], \"type\": \"contour\"}], \"contourcarpet\": [{\"colorbar\": {\"outlinewidth\": 0, \"ticks\": \"\"}, \"type\": \"contourcarpet\"}], \"heatmap\": [{\"colorbar\": {\"outlinewidth\": 0, \"ticks\": \"\"}, \"colorscale\": [[0.0, \"#0d0887\"], [0.1111111111111111, \"#46039f\"], [0.2222222222222222, \"#7201a8\"], [0.3333333333333333, \"#9c179e\"], [0.4444444444444444, \"#bd3786\"], [0.5555555555555556, \"#d8576b\"], [0.6666666666666666, \"#ed7953\"], [0.7777777777777778, \"#fb9f3a\"], [0.8888888888888888, \"#fdca26\"], [1.0, \"#f0f921\"]], \"type\": \"heatmap\"}], \"heatmapgl\": [{\"colorbar\": {\"outlinewidth\": 0, \"ticks\": \"\"}, \"colorscale\": [[0.0, \"#0d0887\"], [0.1111111111111111, \"#46039f\"], [0.2222222222222222, \"#7201a8\"], [0.3333333333333333, \"#9c179e\"], [0.4444444444444444, \"#bd3786\"], [0.5555555555555556, \"#d8576b\"], [0.6666666666666666, \"#ed7953\"], [0.7777777777777778, \"#fb9f3a\"], [0.8888888888888888, \"#fdca26\"], [1.0, \"#f0f921\"]], \"type\": \"heatmapgl\"}], \"histogram\": [{\"marker\": {\"colorbar\": {\"outlinewidth\": 0, \"ticks\": \"\"}}, \"type\": \"histogram\"}], \"histogram2d\": [{\"colorbar\": {\"outlinewidth\": 0, \"ticks\": \"\"}, \"colorscale\": [[0.0, \"#0d0887\"], [0.1111111111111111, \"#46039f\"], [0.2222222222222222, \"#7201a8\"], [0.3333333333333333, \"#9c179e\"], [0.4444444444444444, \"#bd3786\"], [0.5555555555555556, \"#d8576b\"], [0.6666666666666666, \"#ed7953\"], [0.7777777777777778, \"#fb9f3a\"], [0.8888888888888888, \"#fdca26\"], [1.0, \"#f0f921\"]], \"type\": \"histogram2d\"}], \"histogram2dcontour\": [{\"colorbar\": {\"outlinewidth\": 0, \"ticks\": \"\"}, \"colorscale\": [[0.0, \"#0d0887\"], [0.1111111111111111, \"#46039f\"], [0.2222222222222222, \"#7201a8\"], [0.3333333333333333, \"#9c179e\"], [0.4444444444444444, \"#bd3786\"], [0.5555555555555556, \"#d8576b\"], [0.6666666666666666, \"#ed7953\"], [0.7777777777777778, \"#fb9f3a\"], [0.8888888888888888, \"#fdca26\"], [1.0, \"#f0f921\"]], \"type\": \"histogram2dcontour\"}], \"mesh3d\": [{\"colorbar\": {\"outlinewidth\": 0, \"ticks\": \"\"}, \"type\": \"mesh3d\"}], \"parcoords\": [{\"line\": {\"colorbar\": {\"outlinewidth\": 0, \"ticks\": \"\"}}, \"type\": \"parcoords\"}], \"pie\": [{\"automargin\": true, \"type\": \"pie\"}], \"scatter\": [{\"marker\": {\"colorbar\": {\"outlinewidth\": 0, \"ticks\": \"\"}}, \"type\": \"scatter\"}], \"scatter3d\": [{\"line\": {\"colorbar\": {\"outlinewidth\": 0, \"ticks\": \"\"}}, \"marker\": {\"colorbar\": {\"outlinewidth\": 0, \"ticks\": \"\"}}, \"type\": \"scatter3d\"}], \"scattercarpet\": [{\"marker\": {\"colorbar\": {\"outlinewidth\": 0, \"ticks\": \"\"}}, \"type\": \"scattercarpet\"}], \"scattergeo\": [{\"marker\": {\"colorbar\": {\"outlinewidth\": 0, \"ticks\": \"\"}}, \"type\": \"scattergeo\"}], \"scattergl\": [{\"marker\": {\"colorbar\": {\"outlinewidth\": 0, \"ticks\": \"\"}}, \"type\": \"scattergl\"}], \"scattermapbox\": [{\"marker\": {\"colorbar\": {\"outlinewidth\": 0, \"ticks\": \"\"}}, \"type\": \"scattermapbox\"}], \"scatterpolar\": [{\"marker\": {\"colorbar\": {\"outlinewidth\": 0, \"ticks\": \"\"}}, \"type\": \"scatterpolar\"}], \"scatterpolargl\": [{\"marker\": {\"colorbar\": {\"outlinewidth\": 0, \"ticks\": \"\"}}, \"type\": \"scatterpolargl\"}], \"scatterternary\": [{\"marker\": {\"colorbar\": {\"outlinewidth\": 0, \"ticks\": \"\"}}, \"type\": \"scatterternary\"}], \"surface\": [{\"colorbar\": {\"outlinewidth\": 0, \"ticks\": \"\"}, \"colorscale\": [[0.0, \"#0d0887\"], [0.1111111111111111, \"#46039f\"], [0.2222222222222222, \"#7201a8\"], [0.3333333333333333, \"#9c179e\"], [0.4444444444444444, \"#bd3786\"], [0.5555555555555556, \"#d8576b\"], [0.6666666666666666, \"#ed7953\"], [0.7777777777777778, \"#fb9f3a\"], [0.8888888888888888, \"#fdca26\"], [1.0, \"#f0f921\"]], \"type\": \"surface\"}], \"table\": [{\"cells\": {\"fill\": {\"color\": \"#EBF0F8\"}, \"line\": {\"color\": \"white\"}}, \"header\": {\"fill\": {\"color\": \"#C8D4E3\"}, \"line\": {\"color\": \"white\"}}, \"type\": \"table\"}]}, \"layout\": {\"annotationdefaults\": {\"arrowcolor\": \"#2a3f5f\", \"arrowhead\": 0, \"arrowwidth\": 1}, \"autotypenumbers\": \"strict\", \"coloraxis\": {\"colorbar\": {\"outlinewidth\": 0, \"ticks\": \"\"}}, \"colorscale\": {\"diverging\": [[0, \"#8e0152\"], [0.1, \"#c51b7d\"], [0.2, \"#de77ae\"], [0.3, \"#f1b6da\"], [0.4, \"#fde0ef\"], [0.5, \"#f7f7f7\"], [0.6, \"#e6f5d0\"], [0.7, \"#b8e186\"], [0.8, \"#7fbc41\"], [0.9, \"#4d9221\"], [1, \"#276419\"]], \"sequential\": [[0.0, \"#0d0887\"], [0.1111111111111111, \"#46039f\"], [0.2222222222222222, \"#7201a8\"], [0.3333333333333333, \"#9c179e\"], [0.4444444444444444, \"#bd3786\"], [0.5555555555555556, \"#d8576b\"], [0.6666666666666666, \"#ed7953\"], [0.7777777777777778, \"#fb9f3a\"], [0.8888888888888888, \"#fdca26\"], [1.0, \"#f0f921\"]], \"sequentialminus\": [[0.0, \"#0d0887\"], [0.1111111111111111, \"#46039f\"], [0.2222222222222222, \"#7201a8\"], [0.3333333333333333, \"#9c179e\"], [0.4444444444444444, \"#bd3786\"], [0.5555555555555556, \"#d8576b\"], [0.6666666666666666, \"#ed7953\"], [0.7777777777777778, \"#fb9f3a\"], [0.8888888888888888, \"#fdca26\"], [1.0, \"#f0f921\"]]}, \"colorway\": [\"#636efa\", \"#EF553B\", \"#00cc96\", \"#ab63fa\", \"#FFA15A\", \"#19d3f3\", \"#FF6692\", \"#B6E880\", \"#FF97FF\", \"#FECB52\"], \"font\": {\"color\": \"#2a3f5f\"}, \"geo\": {\"bgcolor\": \"white\", \"lakecolor\": \"white\", \"landcolor\": \"#E5ECF6\", \"showlakes\": true, \"showland\": true, \"subunitcolor\": \"white\"}, \"hoverlabel\": {\"align\": \"left\"}, \"hovermode\": \"closest\", \"mapbox\": {\"style\": \"light\"}, \"paper_bgcolor\": \"white\", \"plot_bgcolor\": \"#E5ECF6\", \"polar\": {\"angularaxis\": {\"gridcolor\": \"white\", \"linecolor\": \"white\", \"ticks\": \"\"}, \"bgcolor\": \"#E5ECF6\", \"radialaxis\": {\"gridcolor\": \"white\", \"linecolor\": \"white\", \"ticks\": \"\"}}, \"scene\": {\"xaxis\": {\"backgroundcolor\": \"#E5ECF6\", \"gridcolor\": \"white\", \"gridwidth\": 2, \"linecolor\": \"white\", \"showbackground\": true, \"ticks\": \"\", \"zerolinecolor\": \"white\"}, \"yaxis\": {\"backgroundcolor\": \"#E5ECF6\", \"gridcolor\": \"white\", \"gridwidth\": 2, \"linecolor\": \"white\", \"showbackground\": true, \"ticks\": \"\", \"zerolinecolor\": \"white\"}, \"zaxis\": {\"backgroundcolor\": \"#E5ECF6\", \"gridcolor\": \"white\", \"gridwidth\": 2, \"linecolor\": \"white\", \"showbackground\": true, \"ticks\": \"\", \"zerolinecolor\": \"white\"}}, \"shapedefaults\": {\"line\": {\"color\": \"#2a3f5f\"}}, \"ternary\": {\"aaxis\": {\"gridcolor\": \"white\", \"linecolor\": \"white\", \"ticks\": \"\"}, \"baxis\": {\"gridcolor\": \"white\", \"linecolor\": \"white\", \"ticks\": \"\"}, \"bgcolor\": \"#E5ECF6\", \"caxis\": {\"gridcolor\": \"white\", \"linecolor\": \"white\", \"ticks\": \"\"}}, \"title\": {\"x\": 0.05}, \"xaxis\": {\"automargin\": true, \"gridcolor\": \"white\", \"linecolor\": \"white\", \"ticks\": \"\", \"title\": {\"standoff\": 15}, \"zerolinecolor\": \"white\", \"zerolinewidth\": 2}, \"yaxis\": {\"automargin\": true, \"gridcolor\": \"white\", \"linecolor\": \"white\", \"ticks\": \"\", \"title\": {\"standoff\": 15}, \"zerolinecolor\": \"white\", \"zerolinewidth\": 2}}}, \"title\": {\"text\": \"Mean pct_free_reduced_num per State\"}},                        {\"responsive\": true}                    ).then(function(){\n",
       "                            \n",
       "var gd = document.getElementById('f3eebfc8-2ba0-4eaa-aee7-91a31651a43d');\n",
       "var x = new MutationObserver(function (mutations, observer) {{\n",
       "        var display = window.getComputedStyle(gd).display;\n",
       "        if (!display || display === 'none') {{\n",
       "            console.log([gd, 'removed!']);\n",
       "            Plotly.purge(gd);\n",
       "            observer.disconnect();\n",
       "        }}\n",
       "}});\n",
       "\n",
       "// Listen for the removal of the full notebook cells\n",
       "var notebookContainer = gd.closest('#notebook-container');\n",
       "if (notebookContainer) {{\n",
       "    x.observe(notebookContainer, {childList: true});\n",
       "}}\n",
       "\n",
       "// Listen for the clearing of the current output cell\n",
       "var outputEl = gd.closest('.output');\n",
       "if (outputEl) {{\n",
       "    x.observe(outputEl, {childList: true});\n",
       "}}\n",
       "\n",
       "                        })                };                });            </script>        </div>"
      ],
      "application/vnd.plotly.v1+json": {
       "config": {
        "plotlyServerURL": "https://plot.ly"
       },
       "data": [
        {
         "colorscale": [
          [
           0,
           "rgb(209, 238, 234)"
          ],
          [
           0.16666666666666666,
           "rgb(168, 219, 217)"
          ],
          [
           0.3333333333333333,
           "rgb(133, 196, 201)"
          ],
          [
           0.5,
           "rgb(104, 171, 184)"
          ],
          [
           0.6666666666666666,
           "rgb(79, 144, 166)"
          ],
          [
           0.8333333333333334,
           "rgb(59, 115, 143)"
          ],
          [
           1,
           "rgb(42, 86, 116)"
          ]
         ],
         "geo": "geo",
         "locationmode": "USA-states",
         "locations": [
          "AZ",
          "CA",
          "CT",
          "DC",
          "FL",
          "IL",
          "IN",
          "MA",
          "MI",
          "MO",
          "NC",
          "NH",
          "NJ",
          "NY",
          "OH",
          "TN",
          "UT",
          "VA",
          "WA"
         ],
         "marker": {
          "line": {
           "color": "white"
          }
         },
         "type": "choropleth",
         "z": [
          null,
          0.36666666666666664,
          0.2655172413793102,
          null,
          0.5,
          0.33076923076923076,
          0.54,
          null,
          0.6,
          0.3,
          0.5666666666666667,
          0.3,
          0.1,
          0.3,
          0.12499999999999999,
          null,
          0.3249999999999999,
          0.5,
          0.55
         ],
         "zmax": 1
        }
       ],
       "layout": {
        "geo": {
         "scope": "usa"
        },
        "template": {
         "data": {
          "bar": [
           {
            "error_x": {
             "color": "#2a3f5f"
            },
            "error_y": {
             "color": "#2a3f5f"
            },
            "marker": {
             "line": {
              "color": "#E5ECF6",
              "width": 0.5
             }
            },
            "type": "bar"
           }
          ],
          "barpolar": [
           {
            "marker": {
             "line": {
              "color": "#E5ECF6",
              "width": 0.5
             }
            },
            "type": "barpolar"
           }
          ],
          "carpet": [
           {
            "aaxis": {
             "endlinecolor": "#2a3f5f",
             "gridcolor": "white",
             "linecolor": "white",
             "minorgridcolor": "white",
             "startlinecolor": "#2a3f5f"
            },
            "baxis": {
             "endlinecolor": "#2a3f5f",
             "gridcolor": "white",
             "linecolor": "white",
             "minorgridcolor": "white",
             "startlinecolor": "#2a3f5f"
            },
            "type": "carpet"
           }
          ],
          "choropleth": [
           {
            "colorbar": {
             "outlinewidth": 0,
             "ticks": ""
            },
            "type": "choropleth"
           }
          ],
          "contour": [
           {
            "colorbar": {
             "outlinewidth": 0,
             "ticks": ""
            },
            "colorscale": [
             [
              0,
              "#0d0887"
             ],
             [
              0.1111111111111111,
              "#46039f"
             ],
             [
              0.2222222222222222,
              "#7201a8"
             ],
             [
              0.3333333333333333,
              "#9c179e"
             ],
             [
              0.4444444444444444,
              "#bd3786"
             ],
             [
              0.5555555555555556,
              "#d8576b"
             ],
             [
              0.6666666666666666,
              "#ed7953"
             ],
             [
              0.7777777777777778,
              "#fb9f3a"
             ],
             [
              0.8888888888888888,
              "#fdca26"
             ],
             [
              1,
              "#f0f921"
             ]
            ],
            "type": "contour"
           }
          ],
          "contourcarpet": [
           {
            "colorbar": {
             "outlinewidth": 0,
             "ticks": ""
            },
            "type": "contourcarpet"
           }
          ],
          "heatmap": [
           {
            "colorbar": {
             "outlinewidth": 0,
             "ticks": ""
            },
            "colorscale": [
             [
              0,
              "#0d0887"
             ],
             [
              0.1111111111111111,
              "#46039f"
             ],
             [
              0.2222222222222222,
              "#7201a8"
             ],
             [
              0.3333333333333333,
              "#9c179e"
             ],
             [
              0.4444444444444444,
              "#bd3786"
             ],
             [
              0.5555555555555556,
              "#d8576b"
             ],
             [
              0.6666666666666666,
              "#ed7953"
             ],
             [
              0.7777777777777778,
              "#fb9f3a"
             ],
             [
              0.8888888888888888,
              "#fdca26"
             ],
             [
              1,
              "#f0f921"
             ]
            ],
            "type": "heatmap"
           }
          ],
          "heatmapgl": [
           {
            "colorbar": {
             "outlinewidth": 0,
             "ticks": ""
            },
            "colorscale": [
             [
              0,
              "#0d0887"
             ],
             [
              0.1111111111111111,
              "#46039f"
             ],
             [
              0.2222222222222222,
              "#7201a8"
             ],
             [
              0.3333333333333333,
              "#9c179e"
             ],
             [
              0.4444444444444444,
              "#bd3786"
             ],
             [
              0.5555555555555556,
              "#d8576b"
             ],
             [
              0.6666666666666666,
              "#ed7953"
             ],
             [
              0.7777777777777778,
              "#fb9f3a"
             ],
             [
              0.8888888888888888,
              "#fdca26"
             ],
             [
              1,
              "#f0f921"
             ]
            ],
            "type": "heatmapgl"
           }
          ],
          "histogram": [
           {
            "marker": {
             "colorbar": {
              "outlinewidth": 0,
              "ticks": ""
             }
            },
            "type": "histogram"
           }
          ],
          "histogram2d": [
           {
            "colorbar": {
             "outlinewidth": 0,
             "ticks": ""
            },
            "colorscale": [
             [
              0,
              "#0d0887"
             ],
             [
              0.1111111111111111,
              "#46039f"
             ],
             [
              0.2222222222222222,
              "#7201a8"
             ],
             [
              0.3333333333333333,
              "#9c179e"
             ],
             [
              0.4444444444444444,
              "#bd3786"
             ],
             [
              0.5555555555555556,
              "#d8576b"
             ],
             [
              0.6666666666666666,
              "#ed7953"
             ],
             [
              0.7777777777777778,
              "#fb9f3a"
             ],
             [
              0.8888888888888888,
              "#fdca26"
             ],
             [
              1,
              "#f0f921"
             ]
            ],
            "type": "histogram2d"
           }
          ],
          "histogram2dcontour": [
           {
            "colorbar": {
             "outlinewidth": 0,
             "ticks": ""
            },
            "colorscale": [
             [
              0,
              "#0d0887"
             ],
             [
              0.1111111111111111,
              "#46039f"
             ],
             [
              0.2222222222222222,
              "#7201a8"
             ],
             [
              0.3333333333333333,
              "#9c179e"
             ],
             [
              0.4444444444444444,
              "#bd3786"
             ],
             [
              0.5555555555555556,
              "#d8576b"
             ],
             [
              0.6666666666666666,
              "#ed7953"
             ],
             [
              0.7777777777777778,
              "#fb9f3a"
             ],
             [
              0.8888888888888888,
              "#fdca26"
             ],
             [
              1,
              "#f0f921"
             ]
            ],
            "type": "histogram2dcontour"
           }
          ],
          "mesh3d": [
           {
            "colorbar": {
             "outlinewidth": 0,
             "ticks": ""
            },
            "type": "mesh3d"
           }
          ],
          "parcoords": [
           {
            "line": {
             "colorbar": {
              "outlinewidth": 0,
              "ticks": ""
             }
            },
            "type": "parcoords"
           }
          ],
          "pie": [
           {
            "automargin": true,
            "type": "pie"
           }
          ],
          "scatter": [
           {
            "marker": {
             "colorbar": {
              "outlinewidth": 0,
              "ticks": ""
             }
            },
            "type": "scatter"
           }
          ],
          "scatter3d": [
           {
            "line": {
             "colorbar": {
              "outlinewidth": 0,
              "ticks": ""
             }
            },
            "marker": {
             "colorbar": {
              "outlinewidth": 0,
              "ticks": ""
             }
            },
            "type": "scatter3d"
           }
          ],
          "scattercarpet": [
           {
            "marker": {
             "colorbar": {
              "outlinewidth": 0,
              "ticks": ""
             }
            },
            "type": "scattercarpet"
           }
          ],
          "scattergeo": [
           {
            "marker": {
             "colorbar": {
              "outlinewidth": 0,
              "ticks": ""
             }
            },
            "type": "scattergeo"
           }
          ],
          "scattergl": [
           {
            "marker": {
             "colorbar": {
              "outlinewidth": 0,
              "ticks": ""
             }
            },
            "type": "scattergl"
           }
          ],
          "scattermapbox": [
           {
            "marker": {
             "colorbar": {
              "outlinewidth": 0,
              "ticks": ""
             }
            },
            "type": "scattermapbox"
           }
          ],
          "scatterpolar": [
           {
            "marker": {
             "colorbar": {
              "outlinewidth": 0,
              "ticks": ""
             }
            },
            "type": "scatterpolar"
           }
          ],
          "scatterpolargl": [
           {
            "marker": {
             "colorbar": {
              "outlinewidth": 0,
              "ticks": ""
             }
            },
            "type": "scatterpolargl"
           }
          ],
          "scatterternary": [
           {
            "marker": {
             "colorbar": {
              "outlinewidth": 0,
              "ticks": ""
             }
            },
            "type": "scatterternary"
           }
          ],
          "surface": [
           {
            "colorbar": {
             "outlinewidth": 0,
             "ticks": ""
            },
            "colorscale": [
             [
              0,
              "#0d0887"
             ],
             [
              0.1111111111111111,
              "#46039f"
             ],
             [
              0.2222222222222222,
              "#7201a8"
             ],
             [
              0.3333333333333333,
              "#9c179e"
             ],
             [
              0.4444444444444444,
              "#bd3786"
             ],
             [
              0.5555555555555556,
              "#d8576b"
             ],
             [
              0.6666666666666666,
              "#ed7953"
             ],
             [
              0.7777777777777778,
              "#fb9f3a"
             ],
             [
              0.8888888888888888,
              "#fdca26"
             ],
             [
              1,
              "#f0f921"
             ]
            ],
            "type": "surface"
           }
          ],
          "table": [
           {
            "cells": {
             "fill": {
              "color": "#EBF0F8"
             },
             "line": {
              "color": "white"
             }
            },
            "header": {
             "fill": {
              "color": "#C8D4E3"
             },
             "line": {
              "color": "white"
             }
            },
            "type": "table"
           }
          ]
         },
         "layout": {
          "annotationdefaults": {
           "arrowcolor": "#2a3f5f",
           "arrowhead": 0,
           "arrowwidth": 1
          },
          "autotypenumbers": "strict",
          "coloraxis": {
           "colorbar": {
            "outlinewidth": 0,
            "ticks": ""
           }
          },
          "colorscale": {
           "diverging": [
            [
             0,
             "#8e0152"
            ],
            [
             0.1,
             "#c51b7d"
            ],
            [
             0.2,
             "#de77ae"
            ],
            [
             0.3,
             "#f1b6da"
            ],
            [
             0.4,
             "#fde0ef"
            ],
            [
             0.5,
             "#f7f7f7"
            ],
            [
             0.6,
             "#e6f5d0"
            ],
            [
             0.7,
             "#b8e186"
            ],
            [
             0.8,
             "#7fbc41"
            ],
            [
             0.9,
             "#4d9221"
            ],
            [
             1,
             "#276419"
            ]
           ],
           "sequential": [
            [
             0,
             "#0d0887"
            ],
            [
             0.1111111111111111,
             "#46039f"
            ],
            [
             0.2222222222222222,
             "#7201a8"
            ],
            [
             0.3333333333333333,
             "#9c179e"
            ],
            [
             0.4444444444444444,
             "#bd3786"
            ],
            [
             0.5555555555555556,
             "#d8576b"
            ],
            [
             0.6666666666666666,
             "#ed7953"
            ],
            [
             0.7777777777777778,
             "#fb9f3a"
            ],
            [
             0.8888888888888888,
             "#fdca26"
            ],
            [
             1,
             "#f0f921"
            ]
           ],
           "sequentialminus": [
            [
             0,
             "#0d0887"
            ],
            [
             0.1111111111111111,
             "#46039f"
            ],
            [
             0.2222222222222222,
             "#7201a8"
            ],
            [
             0.3333333333333333,
             "#9c179e"
            ],
            [
             0.4444444444444444,
             "#bd3786"
            ],
            [
             0.5555555555555556,
             "#d8576b"
            ],
            [
             0.6666666666666666,
             "#ed7953"
            ],
            [
             0.7777777777777778,
             "#fb9f3a"
            ],
            [
             0.8888888888888888,
             "#fdca26"
            ],
            [
             1,
             "#f0f921"
            ]
           ]
          },
          "colorway": [
           "#636efa",
           "#EF553B",
           "#00cc96",
           "#ab63fa",
           "#FFA15A",
           "#19d3f3",
           "#FF6692",
           "#B6E880",
           "#FF97FF",
           "#FECB52"
          ],
          "font": {
           "color": "#2a3f5f"
          },
          "geo": {
           "bgcolor": "white",
           "lakecolor": "white",
           "landcolor": "#E5ECF6",
           "showlakes": true,
           "showland": true,
           "subunitcolor": "white"
          },
          "hoverlabel": {
           "align": "left"
          },
          "hovermode": "closest",
          "mapbox": {
           "style": "light"
          },
          "paper_bgcolor": "white",
          "plot_bgcolor": "#E5ECF6",
          "polar": {
           "angularaxis": {
            "gridcolor": "white",
            "linecolor": "white",
            "ticks": ""
           },
           "bgcolor": "#E5ECF6",
           "radialaxis": {
            "gridcolor": "white",
            "linecolor": "white",
            "ticks": ""
           }
          },
          "scene": {
           "xaxis": {
            "backgroundcolor": "#E5ECF6",
            "gridcolor": "white",
            "gridwidth": 2,
            "linecolor": "white",
            "showbackground": true,
            "ticks": "",
            "zerolinecolor": "white"
           },
           "yaxis": {
            "backgroundcolor": "#E5ECF6",
            "gridcolor": "white",
            "gridwidth": 2,
            "linecolor": "white",
            "showbackground": true,
            "ticks": "",
            "zerolinecolor": "white"
           },
           "zaxis": {
            "backgroundcolor": "#E5ECF6",
            "gridcolor": "white",
            "gridwidth": 2,
            "linecolor": "white",
            "showbackground": true,
            "ticks": "",
            "zerolinecolor": "white"
           }
          },
          "shapedefaults": {
           "line": {
            "color": "#2a3f5f"
           }
          },
          "ternary": {
           "aaxis": {
            "gridcolor": "white",
            "linecolor": "white",
            "ticks": ""
           },
           "baxis": {
            "gridcolor": "white",
            "linecolor": "white",
            "ticks": ""
           },
           "bgcolor": "#E5ECF6",
           "caxis": {
            "gridcolor": "white",
            "linecolor": "white",
            "ticks": ""
           }
          },
          "title": {
           "x": 0.05
          },
          "xaxis": {
           "automargin": true,
           "gridcolor": "white",
           "linecolor": "white",
           "ticks": "",
           "title": {
            "standoff": 15
           },
           "zerolinecolor": "white",
           "zerolinewidth": 2
          },
          "yaxis": {
           "automargin": true,
           "gridcolor": "white",
           "linecolor": "white",
           "ticks": "",
           "title": {
            "standoff": 15
           },
           "zerolinecolor": "white",
           "zerolinewidth": 2
          }
         }
        },
        "title": {
         "text": "Mean pct_free_reduced_num per State"
        }
       }
      }
     },
     "metadata": {}
    },
    {
     "output_type": "display_data",
     "data": {
      "text/html": [
       "<div>                            <div id=\"6412669b-9f9e-400c-bc50-6e05739dc6a8\" class=\"plotly-graph-div\" style=\"height:525px; width:100%;\"></div>            <script type=\"text/javascript\">                require([\"plotly\"], function(Plotly) {                    window.PLOTLYENV=window.PLOTLYENV || {};                                    if (document.getElementById(\"6412669b-9f9e-400c-bc50-6e05739dc6a8\")) {                    Plotly.newPlot(                        \"6412669b-9f9e-400c-bc50-6e05739dc6a8\",                        [{\"colorscale\": [[0.0, \"rgb(209, 238, 234)\"], [0.16666666666666666, \"rgb(168, 219, 217)\"], [0.3333333333333333, \"rgb(133, 196, 201)\"], [0.5, \"rgb(104, 171, 184)\"], [0.6666666666666666, \"rgb(79, 144, 166)\"], [0.8333333333333334, \"rgb(59, 115, 143)\"], [1.0, \"rgb(42, 86, 116)\"]], \"geo\": \"geo\", \"locationmode\": \"USA-states\", \"locations\": [\"AZ\", \"CA\", \"CT\", \"DC\", \"FL\", \"IL\", \"IN\", \"MA\", \"MI\", \"MO\", \"NC\", \"NH\", \"NJ\", \"NY\", \"OH\", \"TN\", \"UT\", \"VA\", \"WA\"], \"marker\": {\"line\": {\"color\": \"white\"}}, \"type\": \"choropleth\", \"z\": [null, null, null, 19000.0, 7000.0, 13769.23076923077, 9000.0, 16647.058823529413, 12000.0, 9666.666666666666, 9666.666666666666, null, 17000.0, 21000.0, null, 9000.0, 8166.666666666667, 11666.666666666666, 14000.0], \"zmax\": 1}],                        {\"geo\": {\"scope\": \"usa\"}, \"template\": {\"data\": {\"bar\": [{\"error_x\": {\"color\": \"#2a3f5f\"}, \"error_y\": {\"color\": \"#2a3f5f\"}, \"marker\": {\"line\": {\"color\": \"#E5ECF6\", \"width\": 0.5}}, \"type\": \"bar\"}], \"barpolar\": [{\"marker\": {\"line\": {\"color\": \"#E5ECF6\", \"width\": 0.5}}, \"type\": \"barpolar\"}], \"carpet\": [{\"aaxis\": {\"endlinecolor\": \"#2a3f5f\", \"gridcolor\": \"white\", \"linecolor\": \"white\", \"minorgridcolor\": \"white\", \"startlinecolor\": \"#2a3f5f\"}, \"baxis\": {\"endlinecolor\": \"#2a3f5f\", \"gridcolor\": \"white\", \"linecolor\": \"white\", \"minorgridcolor\": \"white\", \"startlinecolor\": \"#2a3f5f\"}, \"type\": \"carpet\"}], \"choropleth\": [{\"colorbar\": {\"outlinewidth\": 0, \"ticks\": \"\"}, \"type\": \"choropleth\"}], \"contour\": [{\"colorbar\": {\"outlinewidth\": 0, \"ticks\": \"\"}, \"colorscale\": [[0.0, \"#0d0887\"], [0.1111111111111111, \"#46039f\"], [0.2222222222222222, \"#7201a8\"], [0.3333333333333333, \"#9c179e\"], [0.4444444444444444, \"#bd3786\"], [0.5555555555555556, \"#d8576b\"], [0.6666666666666666, \"#ed7953\"], [0.7777777777777778, \"#fb9f3a\"], [0.8888888888888888, \"#fdca26\"], [1.0, \"#f0f921\"]], \"type\": \"contour\"}], \"contourcarpet\": [{\"colorbar\": {\"outlinewidth\": 0, \"ticks\": \"\"}, \"type\": \"contourcarpet\"}], \"heatmap\": [{\"colorbar\": {\"outlinewidth\": 0, \"ticks\": \"\"}, \"colorscale\": [[0.0, \"#0d0887\"], [0.1111111111111111, \"#46039f\"], [0.2222222222222222, \"#7201a8\"], [0.3333333333333333, \"#9c179e\"], [0.4444444444444444, \"#bd3786\"], [0.5555555555555556, \"#d8576b\"], [0.6666666666666666, \"#ed7953\"], [0.7777777777777778, \"#fb9f3a\"], [0.8888888888888888, \"#fdca26\"], [1.0, \"#f0f921\"]], \"type\": \"heatmap\"}], \"heatmapgl\": [{\"colorbar\": {\"outlinewidth\": 0, \"ticks\": \"\"}, \"colorscale\": [[0.0, \"#0d0887\"], [0.1111111111111111, \"#46039f\"], [0.2222222222222222, \"#7201a8\"], [0.3333333333333333, \"#9c179e\"], [0.4444444444444444, \"#bd3786\"], [0.5555555555555556, \"#d8576b\"], [0.6666666666666666, \"#ed7953\"], [0.7777777777777778, \"#fb9f3a\"], [0.8888888888888888, \"#fdca26\"], [1.0, \"#f0f921\"]], \"type\": \"heatmapgl\"}], \"histogram\": [{\"marker\": {\"colorbar\": {\"outlinewidth\": 0, \"ticks\": \"\"}}, \"type\": \"histogram\"}], \"histogram2d\": [{\"colorbar\": {\"outlinewidth\": 0, \"ticks\": \"\"}, \"colorscale\": [[0.0, \"#0d0887\"], [0.1111111111111111, \"#46039f\"], [0.2222222222222222, \"#7201a8\"], [0.3333333333333333, \"#9c179e\"], [0.4444444444444444, \"#bd3786\"], [0.5555555555555556, \"#d8576b\"], [0.6666666666666666, \"#ed7953\"], [0.7777777777777778, \"#fb9f3a\"], [0.8888888888888888, \"#fdca26\"], [1.0, \"#f0f921\"]], \"type\": \"histogram2d\"}], \"histogram2dcontour\": [{\"colorbar\": {\"outlinewidth\": 0, \"ticks\": \"\"}, \"colorscale\": [[0.0, \"#0d0887\"], [0.1111111111111111, \"#46039f\"], [0.2222222222222222, \"#7201a8\"], [0.3333333333333333, \"#9c179e\"], [0.4444444444444444, \"#bd3786\"], [0.5555555555555556, \"#d8576b\"], [0.6666666666666666, \"#ed7953\"], [0.7777777777777778, \"#fb9f3a\"], [0.8888888888888888, \"#fdca26\"], [1.0, \"#f0f921\"]], \"type\": \"histogram2dcontour\"}], \"mesh3d\": [{\"colorbar\": {\"outlinewidth\": 0, \"ticks\": \"\"}, \"type\": \"mesh3d\"}], \"parcoords\": [{\"line\": {\"colorbar\": {\"outlinewidth\": 0, \"ticks\": \"\"}}, \"type\": \"parcoords\"}], \"pie\": [{\"automargin\": true, \"type\": \"pie\"}], \"scatter\": [{\"marker\": {\"colorbar\": {\"outlinewidth\": 0, \"ticks\": \"\"}}, \"type\": \"scatter\"}], \"scatter3d\": [{\"line\": {\"colorbar\": {\"outlinewidth\": 0, \"ticks\": \"\"}}, \"marker\": {\"colorbar\": {\"outlinewidth\": 0, \"ticks\": \"\"}}, \"type\": \"scatter3d\"}], \"scattercarpet\": [{\"marker\": {\"colorbar\": {\"outlinewidth\": 0, \"ticks\": \"\"}}, \"type\": \"scattercarpet\"}], \"scattergeo\": [{\"marker\": {\"colorbar\": {\"outlinewidth\": 0, \"ticks\": \"\"}}, \"type\": \"scattergeo\"}], \"scattergl\": [{\"marker\": {\"colorbar\": {\"outlinewidth\": 0, \"ticks\": \"\"}}, \"type\": \"scattergl\"}], \"scattermapbox\": [{\"marker\": {\"colorbar\": {\"outlinewidth\": 0, \"ticks\": \"\"}}, \"type\": \"scattermapbox\"}], \"scatterpolar\": [{\"marker\": {\"colorbar\": {\"outlinewidth\": 0, \"ticks\": \"\"}}, \"type\": \"scatterpolar\"}], \"scatterpolargl\": [{\"marker\": {\"colorbar\": {\"outlinewidth\": 0, \"ticks\": \"\"}}, \"type\": \"scatterpolargl\"}], \"scatterternary\": [{\"marker\": {\"colorbar\": {\"outlinewidth\": 0, \"ticks\": \"\"}}, \"type\": \"scatterternary\"}], \"surface\": [{\"colorbar\": {\"outlinewidth\": 0, \"ticks\": \"\"}, \"colorscale\": [[0.0, \"#0d0887\"], [0.1111111111111111, \"#46039f\"], [0.2222222222222222, \"#7201a8\"], [0.3333333333333333, \"#9c179e\"], [0.4444444444444444, \"#bd3786\"], [0.5555555555555556, \"#d8576b\"], [0.6666666666666666, \"#ed7953\"], [0.7777777777777778, \"#fb9f3a\"], [0.8888888888888888, \"#fdca26\"], [1.0, \"#f0f921\"]], \"type\": \"surface\"}], \"table\": [{\"cells\": {\"fill\": {\"color\": \"#EBF0F8\"}, \"line\": {\"color\": \"white\"}}, \"header\": {\"fill\": {\"color\": \"#C8D4E3\"}, \"line\": {\"color\": \"white\"}}, \"type\": \"table\"}]}, \"layout\": {\"annotationdefaults\": {\"arrowcolor\": \"#2a3f5f\", \"arrowhead\": 0, \"arrowwidth\": 1}, \"autotypenumbers\": \"strict\", \"coloraxis\": {\"colorbar\": {\"outlinewidth\": 0, \"ticks\": \"\"}}, \"colorscale\": {\"diverging\": [[0, \"#8e0152\"], [0.1, \"#c51b7d\"], [0.2, \"#de77ae\"], [0.3, \"#f1b6da\"], [0.4, \"#fde0ef\"], [0.5, \"#f7f7f7\"], [0.6, \"#e6f5d0\"], [0.7, \"#b8e186\"], [0.8, \"#7fbc41\"], [0.9, \"#4d9221\"], [1, \"#276419\"]], \"sequential\": [[0.0, \"#0d0887\"], [0.1111111111111111, \"#46039f\"], [0.2222222222222222, \"#7201a8\"], [0.3333333333333333, \"#9c179e\"], [0.4444444444444444, \"#bd3786\"], [0.5555555555555556, \"#d8576b\"], [0.6666666666666666, \"#ed7953\"], [0.7777777777777778, \"#fb9f3a\"], [0.8888888888888888, \"#fdca26\"], [1.0, \"#f0f921\"]], \"sequentialminus\": [[0.0, \"#0d0887\"], [0.1111111111111111, \"#46039f\"], [0.2222222222222222, \"#7201a8\"], [0.3333333333333333, \"#9c179e\"], [0.4444444444444444, \"#bd3786\"], [0.5555555555555556, \"#d8576b\"], [0.6666666666666666, \"#ed7953\"], [0.7777777777777778, \"#fb9f3a\"], [0.8888888888888888, \"#fdca26\"], [1.0, \"#f0f921\"]]}, \"colorway\": [\"#636efa\", \"#EF553B\", \"#00cc96\", \"#ab63fa\", \"#FFA15A\", \"#19d3f3\", \"#FF6692\", \"#B6E880\", \"#FF97FF\", \"#FECB52\"], \"font\": {\"color\": \"#2a3f5f\"}, \"geo\": {\"bgcolor\": \"white\", \"lakecolor\": \"white\", \"landcolor\": \"#E5ECF6\", \"showlakes\": true, \"showland\": true, \"subunitcolor\": \"white\"}, \"hoverlabel\": {\"align\": \"left\"}, \"hovermode\": \"closest\", \"mapbox\": {\"style\": \"light\"}, \"paper_bgcolor\": \"white\", \"plot_bgcolor\": \"#E5ECF6\", \"polar\": {\"angularaxis\": {\"gridcolor\": \"white\", \"linecolor\": \"white\", \"ticks\": \"\"}, \"bgcolor\": \"#E5ECF6\", \"radialaxis\": {\"gridcolor\": \"white\", \"linecolor\": \"white\", \"ticks\": \"\"}}, \"scene\": {\"xaxis\": {\"backgroundcolor\": \"#E5ECF6\", \"gridcolor\": \"white\", \"gridwidth\": 2, \"linecolor\": \"white\", \"showbackground\": true, \"ticks\": \"\", \"zerolinecolor\": \"white\"}, \"yaxis\": {\"backgroundcolor\": \"#E5ECF6\", \"gridcolor\": \"white\", \"gridwidth\": 2, \"linecolor\": \"white\", \"showbackground\": true, \"ticks\": \"\", \"zerolinecolor\": \"white\"}, \"zaxis\": {\"backgroundcolor\": \"#E5ECF6\", \"gridcolor\": \"white\", \"gridwidth\": 2, \"linecolor\": \"white\", \"showbackground\": true, \"ticks\": \"\", \"zerolinecolor\": \"white\"}}, \"shapedefaults\": {\"line\": {\"color\": \"#2a3f5f\"}}, \"ternary\": {\"aaxis\": {\"gridcolor\": \"white\", \"linecolor\": \"white\", \"ticks\": \"\"}, \"baxis\": {\"gridcolor\": \"white\", \"linecolor\": \"white\", \"ticks\": \"\"}, \"bgcolor\": \"#E5ECF6\", \"caxis\": {\"gridcolor\": \"white\", \"linecolor\": \"white\", \"ticks\": \"\"}}, \"title\": {\"x\": 0.05}, \"xaxis\": {\"automargin\": true, \"gridcolor\": \"white\", \"linecolor\": \"white\", \"ticks\": \"\", \"title\": {\"standoff\": 15}, \"zerolinecolor\": \"white\", \"zerolinewidth\": 2}, \"yaxis\": {\"automargin\": true, \"gridcolor\": \"white\", \"linecolor\": \"white\", \"ticks\": \"\", \"title\": {\"standoff\": 15}, \"zerolinecolor\": \"white\", \"zerolinewidth\": 2}}}, \"title\": {\"text\": \"Mean pp_total_raw_num per State\"}},                        {\"responsive\": true}                    ).then(function(){\n",
       "                            \n",
       "var gd = document.getElementById('6412669b-9f9e-400c-bc50-6e05739dc6a8');\n",
       "var x = new MutationObserver(function (mutations, observer) {{\n",
       "        var display = window.getComputedStyle(gd).display;\n",
       "        if (!display || display === 'none') {{\n",
       "            console.log([gd, 'removed!']);\n",
       "            Plotly.purge(gd);\n",
       "            observer.disconnect();\n",
       "        }}\n",
       "}});\n",
       "\n",
       "// Listen for the removal of the full notebook cells\n",
       "var notebookContainer = gd.closest('#notebook-container');\n",
       "if (notebookContainer) {{\n",
       "    x.observe(notebookContainer, {childList: true});\n",
       "}}\n",
       "\n",
       "// Listen for the clearing of the current output cell\n",
       "var outputEl = gd.closest('.output');\n",
       "if (outputEl) {{\n",
       "    x.observe(outputEl, {childList: true});\n",
       "}}\n",
       "\n",
       "                        })                };                });            </script>        </div>"
      ],
      "application/vnd.plotly.v1+json": {
       "config": {
        "plotlyServerURL": "https://plot.ly"
       },
       "data": [
        {
         "colorscale": [
          [
           0,
           "rgb(209, 238, 234)"
          ],
          [
           0.16666666666666666,
           "rgb(168, 219, 217)"
          ],
          [
           0.3333333333333333,
           "rgb(133, 196, 201)"
          ],
          [
           0.5,
           "rgb(104, 171, 184)"
          ],
          [
           0.6666666666666666,
           "rgb(79, 144, 166)"
          ],
          [
           0.8333333333333334,
           "rgb(59, 115, 143)"
          ],
          [
           1,
           "rgb(42, 86, 116)"
          ]
         ],
         "geo": "geo",
         "locationmode": "USA-states",
         "locations": [
          "AZ",
          "CA",
          "CT",
          "DC",
          "FL",
          "IL",
          "IN",
          "MA",
          "MI",
          "MO",
          "NC",
          "NH",
          "NJ",
          "NY",
          "OH",
          "TN",
          "UT",
          "VA",
          "WA"
         ],
         "marker": {
          "line": {
           "color": "white"
          }
         },
         "type": "choropleth",
         "z": [
          null,
          null,
          null,
          19000,
          7000,
          13769.23076923077,
          9000,
          16647.058823529413,
          12000,
          9666.666666666666,
          9666.666666666666,
          null,
          17000,
          21000,
          null,
          9000,
          8166.666666666667,
          11666.666666666666,
          14000
         ],
         "zmax": 1
        }
       ],
       "layout": {
        "geo": {
         "scope": "usa"
        },
        "template": {
         "data": {
          "bar": [
           {
            "error_x": {
             "color": "#2a3f5f"
            },
            "error_y": {
             "color": "#2a3f5f"
            },
            "marker": {
             "line": {
              "color": "#E5ECF6",
              "width": 0.5
             }
            },
            "type": "bar"
           }
          ],
          "barpolar": [
           {
            "marker": {
             "line": {
              "color": "#E5ECF6",
              "width": 0.5
             }
            },
            "type": "barpolar"
           }
          ],
          "carpet": [
           {
            "aaxis": {
             "endlinecolor": "#2a3f5f",
             "gridcolor": "white",
             "linecolor": "white",
             "minorgridcolor": "white",
             "startlinecolor": "#2a3f5f"
            },
            "baxis": {
             "endlinecolor": "#2a3f5f",
             "gridcolor": "white",
             "linecolor": "white",
             "minorgridcolor": "white",
             "startlinecolor": "#2a3f5f"
            },
            "type": "carpet"
           }
          ],
          "choropleth": [
           {
            "colorbar": {
             "outlinewidth": 0,
             "ticks": ""
            },
            "type": "choropleth"
           }
          ],
          "contour": [
           {
            "colorbar": {
             "outlinewidth": 0,
             "ticks": ""
            },
            "colorscale": [
             [
              0,
              "#0d0887"
             ],
             [
              0.1111111111111111,
              "#46039f"
             ],
             [
              0.2222222222222222,
              "#7201a8"
             ],
             [
              0.3333333333333333,
              "#9c179e"
             ],
             [
              0.4444444444444444,
              "#bd3786"
             ],
             [
              0.5555555555555556,
              "#d8576b"
             ],
             [
              0.6666666666666666,
              "#ed7953"
             ],
             [
              0.7777777777777778,
              "#fb9f3a"
             ],
             [
              0.8888888888888888,
              "#fdca26"
             ],
             [
              1,
              "#f0f921"
             ]
            ],
            "type": "contour"
           }
          ],
          "contourcarpet": [
           {
            "colorbar": {
             "outlinewidth": 0,
             "ticks": ""
            },
            "type": "contourcarpet"
           }
          ],
          "heatmap": [
           {
            "colorbar": {
             "outlinewidth": 0,
             "ticks": ""
            },
            "colorscale": [
             [
              0,
              "#0d0887"
             ],
             [
              0.1111111111111111,
              "#46039f"
             ],
             [
              0.2222222222222222,
              "#7201a8"
             ],
             [
              0.3333333333333333,
              "#9c179e"
             ],
             [
              0.4444444444444444,
              "#bd3786"
             ],
             [
              0.5555555555555556,
              "#d8576b"
             ],
             [
              0.6666666666666666,
              "#ed7953"
             ],
             [
              0.7777777777777778,
              "#fb9f3a"
             ],
             [
              0.8888888888888888,
              "#fdca26"
             ],
             [
              1,
              "#f0f921"
             ]
            ],
            "type": "heatmap"
           }
          ],
          "heatmapgl": [
           {
            "colorbar": {
             "outlinewidth": 0,
             "ticks": ""
            },
            "colorscale": [
             [
              0,
              "#0d0887"
             ],
             [
              0.1111111111111111,
              "#46039f"
             ],
             [
              0.2222222222222222,
              "#7201a8"
             ],
             [
              0.3333333333333333,
              "#9c179e"
             ],
             [
              0.4444444444444444,
              "#bd3786"
             ],
             [
              0.5555555555555556,
              "#d8576b"
             ],
             [
              0.6666666666666666,
              "#ed7953"
             ],
             [
              0.7777777777777778,
              "#fb9f3a"
             ],
             [
              0.8888888888888888,
              "#fdca26"
             ],
             [
              1,
              "#f0f921"
             ]
            ],
            "type": "heatmapgl"
           }
          ],
          "histogram": [
           {
            "marker": {
             "colorbar": {
              "outlinewidth": 0,
              "ticks": ""
             }
            },
            "type": "histogram"
           }
          ],
          "histogram2d": [
           {
            "colorbar": {
             "outlinewidth": 0,
             "ticks": ""
            },
            "colorscale": [
             [
              0,
              "#0d0887"
             ],
             [
              0.1111111111111111,
              "#46039f"
             ],
             [
              0.2222222222222222,
              "#7201a8"
             ],
             [
              0.3333333333333333,
              "#9c179e"
             ],
             [
              0.4444444444444444,
              "#bd3786"
             ],
             [
              0.5555555555555556,
              "#d8576b"
             ],
             [
              0.6666666666666666,
              "#ed7953"
             ],
             [
              0.7777777777777778,
              "#fb9f3a"
             ],
             [
              0.8888888888888888,
              "#fdca26"
             ],
             [
              1,
              "#f0f921"
             ]
            ],
            "type": "histogram2d"
           }
          ],
          "histogram2dcontour": [
           {
            "colorbar": {
             "outlinewidth": 0,
             "ticks": ""
            },
            "colorscale": [
             [
              0,
              "#0d0887"
             ],
             [
              0.1111111111111111,
              "#46039f"
             ],
             [
              0.2222222222222222,
              "#7201a8"
             ],
             [
              0.3333333333333333,
              "#9c179e"
             ],
             [
              0.4444444444444444,
              "#bd3786"
             ],
             [
              0.5555555555555556,
              "#d8576b"
             ],
             [
              0.6666666666666666,
              "#ed7953"
             ],
             [
              0.7777777777777778,
              "#fb9f3a"
             ],
             [
              0.8888888888888888,
              "#fdca26"
             ],
             [
              1,
              "#f0f921"
             ]
            ],
            "type": "histogram2dcontour"
           }
          ],
          "mesh3d": [
           {
            "colorbar": {
             "outlinewidth": 0,
             "ticks": ""
            },
            "type": "mesh3d"
           }
          ],
          "parcoords": [
           {
            "line": {
             "colorbar": {
              "outlinewidth": 0,
              "ticks": ""
             }
            },
            "type": "parcoords"
           }
          ],
          "pie": [
           {
            "automargin": true,
            "type": "pie"
           }
          ],
          "scatter": [
           {
            "marker": {
             "colorbar": {
              "outlinewidth": 0,
              "ticks": ""
             }
            },
            "type": "scatter"
           }
          ],
          "scatter3d": [
           {
            "line": {
             "colorbar": {
              "outlinewidth": 0,
              "ticks": ""
             }
            },
            "marker": {
             "colorbar": {
              "outlinewidth": 0,
              "ticks": ""
             }
            },
            "type": "scatter3d"
           }
          ],
          "scattercarpet": [
           {
            "marker": {
             "colorbar": {
              "outlinewidth": 0,
              "ticks": ""
             }
            },
            "type": "scattercarpet"
           }
          ],
          "scattergeo": [
           {
            "marker": {
             "colorbar": {
              "outlinewidth": 0,
              "ticks": ""
             }
            },
            "type": "scattergeo"
           }
          ],
          "scattergl": [
           {
            "marker": {
             "colorbar": {
              "outlinewidth": 0,
              "ticks": ""
             }
            },
            "type": "scattergl"
           }
          ],
          "scattermapbox": [
           {
            "marker": {
             "colorbar": {
              "outlinewidth": 0,
              "ticks": ""
             }
            },
            "type": "scattermapbox"
           }
          ],
          "scatterpolar": [
           {
            "marker": {
             "colorbar": {
              "outlinewidth": 0,
              "ticks": ""
             }
            },
            "type": "scatterpolar"
           }
          ],
          "scatterpolargl": [
           {
            "marker": {
             "colorbar": {
              "outlinewidth": 0,
              "ticks": ""
             }
            },
            "type": "scatterpolargl"
           }
          ],
          "scatterternary": [
           {
            "marker": {
             "colorbar": {
              "outlinewidth": 0,
              "ticks": ""
             }
            },
            "type": "scatterternary"
           }
          ],
          "surface": [
           {
            "colorbar": {
             "outlinewidth": 0,
             "ticks": ""
            },
            "colorscale": [
             [
              0,
              "#0d0887"
             ],
             [
              0.1111111111111111,
              "#46039f"
             ],
             [
              0.2222222222222222,
              "#7201a8"
             ],
             [
              0.3333333333333333,
              "#9c179e"
             ],
             [
              0.4444444444444444,
              "#bd3786"
             ],
             [
              0.5555555555555556,
              "#d8576b"
             ],
             [
              0.6666666666666666,
              "#ed7953"
             ],
             [
              0.7777777777777778,
              "#fb9f3a"
             ],
             [
              0.8888888888888888,
              "#fdca26"
             ],
             [
              1,
              "#f0f921"
             ]
            ],
            "type": "surface"
           }
          ],
          "table": [
           {
            "cells": {
             "fill": {
              "color": "#EBF0F8"
             },
             "line": {
              "color": "white"
             }
            },
            "header": {
             "fill": {
              "color": "#C8D4E3"
             },
             "line": {
              "color": "white"
             }
            },
            "type": "table"
           }
          ]
         },
         "layout": {
          "annotationdefaults": {
           "arrowcolor": "#2a3f5f",
           "arrowhead": 0,
           "arrowwidth": 1
          },
          "autotypenumbers": "strict",
          "coloraxis": {
           "colorbar": {
            "outlinewidth": 0,
            "ticks": ""
           }
          },
          "colorscale": {
           "diverging": [
            [
             0,
             "#8e0152"
            ],
            [
             0.1,
             "#c51b7d"
            ],
            [
             0.2,
             "#de77ae"
            ],
            [
             0.3,
             "#f1b6da"
            ],
            [
             0.4,
             "#fde0ef"
            ],
            [
             0.5,
             "#f7f7f7"
            ],
            [
             0.6,
             "#e6f5d0"
            ],
            [
             0.7,
             "#b8e186"
            ],
            [
             0.8,
             "#7fbc41"
            ],
            [
             0.9,
             "#4d9221"
            ],
            [
             1,
             "#276419"
            ]
           ],
           "sequential": [
            [
             0,
             "#0d0887"
            ],
            [
             0.1111111111111111,
             "#46039f"
            ],
            [
             0.2222222222222222,
             "#7201a8"
            ],
            [
             0.3333333333333333,
             "#9c179e"
            ],
            [
             0.4444444444444444,
             "#bd3786"
            ],
            [
             0.5555555555555556,
             "#d8576b"
            ],
            [
             0.6666666666666666,
             "#ed7953"
            ],
            [
             0.7777777777777778,
             "#fb9f3a"
            ],
            [
             0.8888888888888888,
             "#fdca26"
            ],
            [
             1,
             "#f0f921"
            ]
           ],
           "sequentialminus": [
            [
             0,
             "#0d0887"
            ],
            [
             0.1111111111111111,
             "#46039f"
            ],
            [
             0.2222222222222222,
             "#7201a8"
            ],
            [
             0.3333333333333333,
             "#9c179e"
            ],
            [
             0.4444444444444444,
             "#bd3786"
            ],
            [
             0.5555555555555556,
             "#d8576b"
            ],
            [
             0.6666666666666666,
             "#ed7953"
            ],
            [
             0.7777777777777778,
             "#fb9f3a"
            ],
            [
             0.8888888888888888,
             "#fdca26"
            ],
            [
             1,
             "#f0f921"
            ]
           ]
          },
          "colorway": [
           "#636efa",
           "#EF553B",
           "#00cc96",
           "#ab63fa",
           "#FFA15A",
           "#19d3f3",
           "#FF6692",
           "#B6E880",
           "#FF97FF",
           "#FECB52"
          ],
          "font": {
           "color": "#2a3f5f"
          },
          "geo": {
           "bgcolor": "white",
           "lakecolor": "white",
           "landcolor": "#E5ECF6",
           "showlakes": true,
           "showland": true,
           "subunitcolor": "white"
          },
          "hoverlabel": {
           "align": "left"
          },
          "hovermode": "closest",
          "mapbox": {
           "style": "light"
          },
          "paper_bgcolor": "white",
          "plot_bgcolor": "#E5ECF6",
          "polar": {
           "angularaxis": {
            "gridcolor": "white",
            "linecolor": "white",
            "ticks": ""
           },
           "bgcolor": "#E5ECF6",
           "radialaxis": {
            "gridcolor": "white",
            "linecolor": "white",
            "ticks": ""
           }
          },
          "scene": {
           "xaxis": {
            "backgroundcolor": "#E5ECF6",
            "gridcolor": "white",
            "gridwidth": 2,
            "linecolor": "white",
            "showbackground": true,
            "ticks": "",
            "zerolinecolor": "white"
           },
           "yaxis": {
            "backgroundcolor": "#E5ECF6",
            "gridcolor": "white",
            "gridwidth": 2,
            "linecolor": "white",
            "showbackground": true,
            "ticks": "",
            "zerolinecolor": "white"
           },
           "zaxis": {
            "backgroundcolor": "#E5ECF6",
            "gridcolor": "white",
            "gridwidth": 2,
            "linecolor": "white",
            "showbackground": true,
            "ticks": "",
            "zerolinecolor": "white"
           }
          },
          "shapedefaults": {
           "line": {
            "color": "#2a3f5f"
           }
          },
          "ternary": {
           "aaxis": {
            "gridcolor": "white",
            "linecolor": "white",
            "ticks": ""
           },
           "baxis": {
            "gridcolor": "white",
            "linecolor": "white",
            "ticks": ""
           },
           "bgcolor": "#E5ECF6",
           "caxis": {
            "gridcolor": "white",
            "linecolor": "white",
            "ticks": ""
           }
          },
          "title": {
           "x": 0.05
          },
          "xaxis": {
           "automargin": true,
           "gridcolor": "white",
           "linecolor": "white",
           "ticks": "",
           "title": {
            "standoff": 15
           },
           "zerolinecolor": "white",
           "zerolinewidth": 2
          },
          "yaxis": {
           "automargin": true,
           "gridcolor": "white",
           "linecolor": "white",
           "ticks": "",
           "title": {
            "standoff": 15
           },
           "zerolinecolor": "white",
           "zerolinewidth": 2
          }
         }
        },
        "title": {
         "text": "Mean pp_total_raw_num per State"
        }
       }
      }
     },
     "metadata": {}
    }
   ],
   "metadata": {}
  },
  {
   "cell_type": "code",
   "execution_count": null,
   "source": [],
   "outputs": [],
   "metadata": {}
  }
 ],
 "metadata": {
  "orig_nbformat": 4,
  "language_info": {
   "name": "python",
   "version": "3.7.7",
   "mimetype": "text/x-python",
   "codemirror_mode": {
    "name": "ipython",
    "version": 3
   },
   "pygments_lexer": "ipython3",
   "nbconvert_exporter": "python",
   "file_extension": ".py"
  },
  "kernelspec": {
   "name": "python3",
   "display_name": "Python 3.7.7 64-bit ('tf': conda)"
  },
  "interpreter": {
   "hash": "1b4bd66619e1f63a2810c0f91c748d47860e139f5a175a9a480ebd9d4456bd5e"
  }
 },
 "nbformat": 4,
 "nbformat_minor": 2
}